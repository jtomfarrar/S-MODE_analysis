{
 "cells": [
  {
   "cell_type": "markdown",
   "metadata": {},
   "source": [
    "# Plot of SST for S-MODE IOP1\n",
    "\n"
   ]
  },
  {
   "cell_type": "code",
   "execution_count": 1,
   "metadata": {},
   "outputs": [],
   "source": [
    "import xarray as xr\n",
    "import numpy as np\n",
    "import matplotlib.pyplot as plt\n",
    "import matplotlib\n",
    "import cftime\n",
    "import copy\n",
    "\n",
    "import cartopy.crs as ccrs                   # import projections\n",
    "import cartopy\n",
    "import gsw\n",
    "import functions  # requires functions.py from this repository\n",
    "import datetime\n",
    "\n",
    "import sys\n",
    "sys.path.insert(0,'../../NASA_SMODE/DataSynthesis/tools') #github repo in NASA_SMODE organization\n",
    "sys.path.insert(0,'../../NASA_SMODE/DataSynthesis/data-synthesis/')\n",
    "from mapping_tools import *\n",
    "from tools import *"
   ]
  },
  {
   "cell_type": "code",
   "execution_count": 2,
   "metadata": {},
   "outputs": [],
   "source": [
    "plt.rcParams['figure.figsize'] = (6,6)\n",
    "plt.rcParams['figure.dpi'] = 150\n",
    "plt.rcParams['savefig.dpi'] = 500\n",
    "#plt.close('all')\n",
    "\n",
    "# %matplotlib inline\n",
    "%matplotlib qt5\n",
    "\n",
    "__figdir__ = '../plots/' \n",
    "savefig_args = {'bbox_inches':'tight', 'pad_inches':0.2}\n",
    "plotfiletype='png'"
   ]
  },
  {
   "cell_type": "code",
   "execution_count": 3,
   "metadata": {},
   "outputs": [
    {
     "name": "stdout",
     "output_type": "stream",
     "text": [
      "Inertial period is 19.9 hours\n"
     ]
    }
   ],
   "source": [
    "f = gsw.geostrophy.f(37)\n",
    "inertial_period = 2*np.pi/f/3600\n",
    "print('Inertial period is '+ f'{inertial_period:.1f}' + ' hours')"
   ]
  },
  {
   "cell_type": "code",
   "execution_count": 4,
   "metadata": {},
   "outputs": [],
   "source": [
    "# 2022 IOP\n",
    "#url = 'http://smode.whoi.edu:8080/thredds/dodsC/IOP1_2022/satellite/VIIRS_NRT/VIIRS_NRT_20220921T101000Z.nc'; V = [14, 16]; zoom = 1 #\n",
    "# url = 'http://smode.whoi.edu:8080/thredds/dodsC/IOP1_2022/satellite/VIIRS_NRT/VIIRS_NRT_20220921T101000Z.nc'; V = [14, 18]; zoom = 1 #\n",
    "#url = 'http://smode.whoi.edu:8080/thredds/dodsC/IOP1_2022/satellite/MODIS_Aqua/MODIS_Aqua_20221019T102002Z.nc'; V = [15, 16]; zoom = 3 \n",
    "url = 'http://smode.whoi.edu:8080/thredds/dodsC/IOP1_2022/satellite/MODIS_Aqua/MODIS_Aqua_20221019T102002Z.nc'; V = [14, 18]; zoom = 1 \n",
    "url = 'http://smode.whoi.edu:8080/thredds/dodsC/IOP1_2022/satellite/AVHRR_METOPC/AVHRR_METOPC_20221021T175000Z.nc';V = [14, 20]; zoom = 3 \n",
    "url = 'http://smode.whoi.edu:8080/thredds/dodsC/IOP1_2022/satellite/AVHRR_METOPB/AVHRR_METOPB_20221021T184000Z.nc';V = [15,19]; zoom = 2 \n",
    "url = 'http://smode.whoi.edu:8080/thredds/dodsC/IOP1_2022/satellite/AVHRR_METOPB/AVHRR_METOPB_20221023T053000Z.nc';V = [14,20]; zoom = 1 \n",
    "url = 'http://smode.whoi.edu:8080/thredds/dodsC/IOP1_2022/satellite/VIIRS_NRT/VIIRS_NRT_20221023T101000Z.nc';V = [12,19]; zoom = 1 \n",
    "#url = 'http://smode.whoi.edu:8080/thredds/dodsC/IOP1_2022/satellite/VIIRS_NRT/VIIRS_NRT_20221023T101000Z.nc';V = [14,19]; zoom = 3 \n",
    "url = 'http://smode.whoi.edu:8080/thredds/dodsC/IOP1_2022/satellite/AVHRR_METOPB/AVHRR_METOPB_20221023T175000Z.nc';V = [14,19]; zoom = 3 \n",
    "url = 'http://smode.whoi.edu:8080/thredds/dodsC/IOP1_2022/satellite/AVHRR_METOPC/AVHRR_METOPC_20221023T185000Z.nc';V = [14,19]; zoom = 4\n",
    "url = 'http://smode.whoi.edu:8080/thredds/dodsC/IOP1_2022/satellite/VIIRS_NRT/VIIRS_NRT_20221023T213000Z.nc';V = [14,19]; zoom = 4\n",
    "url = 'http://smode.whoi.edu:8080/thredds/dodsC/IOP1_2022/satellite/VIIRS_NRT/VIIRS_NRT_20221023T213000Z.nc';V = [14,19]; zoom = 4\n",
    "url = 'http://smode.whoi.edu:8080/thredds/dodsC/IOP1_2022/satellite/VIIRS_NRT/VIIRS_NRT_20221023T213000Z.nc';V = [12,19]; zoom = 1\n",
    "\n",
    "'''\n",
    "url = 'http://smode.whoi.edu:8080/thredds/dodsC/IOP1_2022/satellite/AVHRR_METOPB/AVHRR_METOPB_20221024T051000Z.nc';V = [14,19]; zoom = 4\n",
    "url = 'http://smode.whoi.edu:8080/thredds/dodsC/IOP1_2022/satellite/AVHRR_METOPB/AVHRR_METOPB_20221024T051000Z.nc';V = [12,19]; zoom = 1\n",
    "\n",
    "\n",
    "url = 'http://smode.whoi.edu:8080/thredds/dodsC/IOP1_2022/satellite/Sentinel_3B/Sentinel_3B_20221026T060344Z.nc';V = [13,19]; zoom = 4\n",
    "\n",
    "url = 'http://smode.whoi.edu:8080/thredds/dodsC/IOP1_2022/satellite/AVHRR_METOPB/AVHRR_METOPB_20221026T183000Z.nc';V = [13,19]; zoom = 4\n",
    "\n",
    "url = 'http://smode.whoi.edu:8080/thredds/dodsC/IOP1_2022/satellite/AVHRR_METOPC/AVHRR_METOPC_20221026T174000Z.nc';V = [13,19]; zoom = 4\n",
    "'''\n",
    "url ='http://smode.whoi.edu:8080/thredds/dodsC/IOP1_2022/satellite/VIIRS_NRT/VIIRS_NRT_20221026T204000Z.nc';V = [12,19]; zoom = 1\n",
    "url ='http://smode.whoi.edu:8080/thredds/dodsC/IOP1_2022/satellite/AVHRR_METOPC/AVHRR_METOPC_20221027T050000Z.nc';V = [13,19]; zoom = 4\n",
    "url ='http://smode.whoi.edu:8080/thredds/dodsC/IOP1_2022/satellite/AVHRR_METOPB/AVHRR_METOPB_20221027T055000Z.nc';V = [13,19]; zoom = 4\n",
    "url = 'http://smode.whoi.edu:8080/thredds/dodsC/IOP1_2022/satellite/VIIRS_NRT/VIIRS_NRT_20221027T104000Z.nc';V = [13,19]; zoom = 4\n",
    "\n",
    "url = 'http://smode.whoi.edu:8080/thredds/dodsC/IOP1_2022/satellite/AVHRR_METOPB/AVHRR_METOPB_20221027T181000Z.nc';V = [14,19]; zoom = 4\n",
    "#url = 'http://smode.whoi.edu:8080/thredds/dodsC/IOP1_2022/satellite/AVHRR_METOPB/AVHRR_METOPB_20221027T181000Z.nc';V = [12,19]; zoom = 1\n",
    "url = 'http://smode.whoi.edu:8080/thredds/dodsC/IOP1_2022/satellite/AVHRR_METOPB/AVHRR_METOPB_20221029T051000Z.nc';V = [14,19]; zoom = 4 # V = [12,19]; zoom = 1\n",
    "url = 'http://smode.whoi.edu:8080/thredds/dodsC/IOP1_2022/satellite/VIIRS_NRT/VIIRS_NRT_20221029T100000Z.nc'; V = [14,19]; zoom = 4\n",
    "url = 'http://smode.whoi.edu:8080/thredds/dodsC/IOP1_2022/satellite/AVHRR_METOPB/AVHRR_METOPB_20221029T051000Z.nc'; V = [14,19]; zoom = 4\n",
    "\n",
    "url = 'http://smode.whoi.edu:8080/thredds/dodsC/IOP1_2022/satellite/VIIRS_NRT/VIIRS_NRT_20221030T210000Z.nc'; V = [14,19]; zoom = 4"
   ]
  },
  {
   "cell_type": "code",
   "execution_count": 5,
   "metadata": {},
   "outputs": [],
   "source": [
    "time_window = 20\n",
    "zoom_str = 'zoom' + str(zoom)"
   ]
  },
  {
   "cell_type": "code",
   "execution_count": 6,
   "metadata": {},
   "outputs": [],
   "source": [
    "savefig = False"
   ]
  },
  {
   "cell_type": "code",
   "execution_count": 7,
   "metadata": {},
   "outputs": [],
   "source": [
    "(ax, day_str) = functions.sst_map_SMODE(url,zoom,V,time_window)"
   ]
  },
  {
   "cell_type": "code",
   "execution_count": 8,
   "metadata": {},
   "outputs": [
    {
     "data": {
      "text/plain": [
       "<matplotlib.collections.PathCollection at 0x7f19945c9880>"
      ]
     },
     "execution_count": 8,
     "metadata": {},
     "output_type": "execute_result"
    }
   ],
   "source": [
    "sd = functions.get_current_position('saildrone')\n",
    "ax.scatter(sd.longitude,sd.latitude,s=5,c='k',transform=ccrs.PlateCarree())\n",
    "wg = functions.get_current_position('waveglider')\n",
    "ax.scatter(wg.longitude,wg.latitude,s=5,c='m',transform=ccrs.PlateCarree())\n"
   ]
  },
  {
   "cell_type": "code",
   "execution_count": 9,
   "metadata": {},
   "outputs": [],
   "source": [
    "\n",
    "'''# Add a 10 km scale bar\n",
    "km_per_deg_lat=gsw.geostrophy.distance((125,125), (37,38))/1000\n",
    "deg_lat_equal_10km=10/km_per_deg_lat\n",
    "x0 = -125\n",
    "y0 = 37.75\n",
    "ax.plot(x0+np.asarray([0, 0]),y0+np.asarray([0.,deg_lat_equal_10km]),transform=ccrs.PlateCarree(),color='k')\n",
    "ax.text(x0+2/60, y0-.5/60, '10 km', fontsize=6,transform=ccrs.PlateCarree())\n",
    "''';"
   ]
  },
  {
   "cell_type": "code",
   "execution_count": 10,
   "metadata": {},
   "outputs": [],
   "source": [
    "if savefig:\n",
    "    plt.savefig(__figdir__+'SST_assets2_zoom_level_' + str(zoom) + '_' + day_str + '.' + plotfiletype,**savefig_args)"
   ]
  },
  {
   "cell_type": "code",
   "execution_count": 11,
   "metadata": {},
   "outputs": [],
   "source": [
    "file = '../data/external/aviso2.nc'\n",
    "ssh = xr.open_dataset(file)"
   ]
  },
  {
   "cell_type": "code",
   "execution_count": 12,
   "metadata": {},
   "outputs": [],
   "source": [
    "tind = np.flatnonzero(np.abs(ssh.time-np.datetime64(day_str))==np.min(np.abs(ssh.time-np.datetime64(day_str))))"
   ]
  },
  {
   "cell_type": "code",
   "execution_count": 13,
   "metadata": {},
   "outputs": [
    {
     "data": {
      "text/html": [
       "<div><svg style=\"position: absolute; width: 0; height: 0; overflow: hidden\">\n",
       "<defs>\n",
       "<symbol id=\"icon-database\" viewBox=\"0 0 32 32\">\n",
       "<path d=\"M16 0c-8.837 0-16 2.239-16 5v4c0 2.761 7.163 5 16 5s16-2.239 16-5v-4c0-2.761-7.163-5-16-5z\"></path>\n",
       "<path d=\"M16 17c-8.837 0-16-2.239-16-5v6c0 2.761 7.163 5 16 5s16-2.239 16-5v-6c0 2.761-7.163 5-16 5z\"></path>\n",
       "<path d=\"M16 26c-8.837 0-16-2.239-16-5v6c0 2.761 7.163 5 16 5s16-2.239 16-5v-6c0 2.761-7.163 5-16 5z\"></path>\n",
       "</symbol>\n",
       "<symbol id=\"icon-file-text2\" viewBox=\"0 0 32 32\">\n",
       "<path d=\"M28.681 7.159c-0.694-0.947-1.662-2.053-2.724-3.116s-2.169-2.030-3.116-2.724c-1.612-1.182-2.393-1.319-2.841-1.319h-15.5c-1.378 0-2.5 1.121-2.5 2.5v27c0 1.378 1.122 2.5 2.5 2.5h23c1.378 0 2.5-1.122 2.5-2.5v-19.5c0-0.448-0.137-1.23-1.319-2.841zM24.543 5.457c0.959 0.959 1.712 1.825 2.268 2.543h-4.811v-4.811c0.718 0.556 1.584 1.309 2.543 2.268zM28 29.5c0 0.271-0.229 0.5-0.5 0.5h-23c-0.271 0-0.5-0.229-0.5-0.5v-27c0-0.271 0.229-0.5 0.5-0.5 0 0 15.499-0 15.5 0v7c0 0.552 0.448 1 1 1h7v19.5z\"></path>\n",
       "<path d=\"M23 26h-14c-0.552 0-1-0.448-1-1s0.448-1 1-1h14c0.552 0 1 0.448 1 1s-0.448 1-1 1z\"></path>\n",
       "<path d=\"M23 22h-14c-0.552 0-1-0.448-1-1s0.448-1 1-1h14c0.552 0 1 0.448 1 1s-0.448 1-1 1z\"></path>\n",
       "<path d=\"M23 18h-14c-0.552 0-1-0.448-1-1s0.448-1 1-1h14c0.552 0 1 0.448 1 1s-0.448 1-1 1z\"></path>\n",
       "</symbol>\n",
       "</defs>\n",
       "</svg>\n",
       "<style>/* CSS stylesheet for displaying xarray objects in jupyterlab.\n",
       " *\n",
       " */\n",
       "\n",
       ":root {\n",
       "  --xr-font-color0: var(--jp-content-font-color0, rgba(0, 0, 0, 1));\n",
       "  --xr-font-color2: var(--jp-content-font-color2, rgba(0, 0, 0, 0.54));\n",
       "  --xr-font-color3: var(--jp-content-font-color3, rgba(0, 0, 0, 0.38));\n",
       "  --xr-border-color: var(--jp-border-color2, #e0e0e0);\n",
       "  --xr-disabled-color: var(--jp-layout-color3, #bdbdbd);\n",
       "  --xr-background-color: var(--jp-layout-color0, white);\n",
       "  --xr-background-color-row-even: var(--jp-layout-color1, white);\n",
       "  --xr-background-color-row-odd: var(--jp-layout-color2, #eeeeee);\n",
       "}\n",
       "\n",
       "html[theme=dark],\n",
       "body.vscode-dark {\n",
       "  --xr-font-color0: rgba(255, 255, 255, 1);\n",
       "  --xr-font-color2: rgba(255, 255, 255, 0.54);\n",
       "  --xr-font-color3: rgba(255, 255, 255, 0.38);\n",
       "  --xr-border-color: #1F1F1F;\n",
       "  --xr-disabled-color: #515151;\n",
       "  --xr-background-color: #111111;\n",
       "  --xr-background-color-row-even: #111111;\n",
       "  --xr-background-color-row-odd: #313131;\n",
       "}\n",
       "\n",
       ".xr-wrap {\n",
       "  display: block;\n",
       "  min-width: 300px;\n",
       "  max-width: 700px;\n",
       "}\n",
       "\n",
       ".xr-text-repr-fallback {\n",
       "  /* fallback to plain text repr when CSS is not injected (untrusted notebook) */\n",
       "  display: none;\n",
       "}\n",
       "\n",
       ".xr-header {\n",
       "  padding-top: 6px;\n",
       "  padding-bottom: 6px;\n",
       "  margin-bottom: 4px;\n",
       "  border-bottom: solid 1px var(--xr-border-color);\n",
       "}\n",
       "\n",
       ".xr-header > div,\n",
       ".xr-header > ul {\n",
       "  display: inline;\n",
       "  margin-top: 0;\n",
       "  margin-bottom: 0;\n",
       "}\n",
       "\n",
       ".xr-obj-type,\n",
       ".xr-array-name {\n",
       "  margin-left: 2px;\n",
       "  margin-right: 10px;\n",
       "}\n",
       "\n",
       ".xr-obj-type {\n",
       "  color: var(--xr-font-color2);\n",
       "}\n",
       "\n",
       ".xr-sections {\n",
       "  padding-left: 0 !important;\n",
       "  display: grid;\n",
       "  grid-template-columns: 150px auto auto 1fr 20px 20px;\n",
       "}\n",
       "\n",
       ".xr-section-item {\n",
       "  display: contents;\n",
       "}\n",
       "\n",
       ".xr-section-item input {\n",
       "  display: none;\n",
       "}\n",
       "\n",
       ".xr-section-item input + label {\n",
       "  color: var(--xr-disabled-color);\n",
       "}\n",
       "\n",
       ".xr-section-item input:enabled + label {\n",
       "  cursor: pointer;\n",
       "  color: var(--xr-font-color2);\n",
       "}\n",
       "\n",
       ".xr-section-item input:enabled + label:hover {\n",
       "  color: var(--xr-font-color0);\n",
       "}\n",
       "\n",
       ".xr-section-summary {\n",
       "  grid-column: 1;\n",
       "  color: var(--xr-font-color2);\n",
       "  font-weight: 500;\n",
       "}\n",
       "\n",
       ".xr-section-summary > span {\n",
       "  display: inline-block;\n",
       "  padding-left: 0.5em;\n",
       "}\n",
       "\n",
       ".xr-section-summary-in:disabled + label {\n",
       "  color: var(--xr-font-color2);\n",
       "}\n",
       "\n",
       ".xr-section-summary-in + label:before {\n",
       "  display: inline-block;\n",
       "  content: '►';\n",
       "  font-size: 11px;\n",
       "  width: 15px;\n",
       "  text-align: center;\n",
       "}\n",
       "\n",
       ".xr-section-summary-in:disabled + label:before {\n",
       "  color: var(--xr-disabled-color);\n",
       "}\n",
       "\n",
       ".xr-section-summary-in:checked + label:before {\n",
       "  content: '▼';\n",
       "}\n",
       "\n",
       ".xr-section-summary-in:checked + label > span {\n",
       "  display: none;\n",
       "}\n",
       "\n",
       ".xr-section-summary,\n",
       ".xr-section-inline-details {\n",
       "  padding-top: 4px;\n",
       "  padding-bottom: 4px;\n",
       "}\n",
       "\n",
       ".xr-section-inline-details {\n",
       "  grid-column: 2 / -1;\n",
       "}\n",
       "\n",
       ".xr-section-details {\n",
       "  display: none;\n",
       "  grid-column: 1 / -1;\n",
       "  margin-bottom: 5px;\n",
       "}\n",
       "\n",
       ".xr-section-summary-in:checked ~ .xr-section-details {\n",
       "  display: contents;\n",
       "}\n",
       "\n",
       ".xr-array-wrap {\n",
       "  grid-column: 1 / -1;\n",
       "  display: grid;\n",
       "  grid-template-columns: 20px auto;\n",
       "}\n",
       "\n",
       ".xr-array-wrap > label {\n",
       "  grid-column: 1;\n",
       "  vertical-align: top;\n",
       "}\n",
       "\n",
       ".xr-preview {\n",
       "  color: var(--xr-font-color3);\n",
       "}\n",
       "\n",
       ".xr-array-preview,\n",
       ".xr-array-data {\n",
       "  padding: 0 5px !important;\n",
       "  grid-column: 2;\n",
       "}\n",
       "\n",
       ".xr-array-data,\n",
       ".xr-array-in:checked ~ .xr-array-preview {\n",
       "  display: none;\n",
       "}\n",
       "\n",
       ".xr-array-in:checked ~ .xr-array-data,\n",
       ".xr-array-preview {\n",
       "  display: inline-block;\n",
       "}\n",
       "\n",
       ".xr-dim-list {\n",
       "  display: inline-block !important;\n",
       "  list-style: none;\n",
       "  padding: 0 !important;\n",
       "  margin: 0;\n",
       "}\n",
       "\n",
       ".xr-dim-list li {\n",
       "  display: inline-block;\n",
       "  padding: 0;\n",
       "  margin: 0;\n",
       "}\n",
       "\n",
       ".xr-dim-list:before {\n",
       "  content: '(';\n",
       "}\n",
       "\n",
       ".xr-dim-list:after {\n",
       "  content: ')';\n",
       "}\n",
       "\n",
       ".xr-dim-list li:not(:last-child):after {\n",
       "  content: ',';\n",
       "  padding-right: 5px;\n",
       "}\n",
       "\n",
       ".xr-has-index {\n",
       "  font-weight: bold;\n",
       "}\n",
       "\n",
       ".xr-var-list,\n",
       ".xr-var-item {\n",
       "  display: contents;\n",
       "}\n",
       "\n",
       ".xr-var-item > div,\n",
       ".xr-var-item label,\n",
       ".xr-var-item > .xr-var-name span {\n",
       "  background-color: var(--xr-background-color-row-even);\n",
       "  margin-bottom: 0;\n",
       "}\n",
       "\n",
       ".xr-var-item > .xr-var-name:hover span {\n",
       "  padding-right: 5px;\n",
       "}\n",
       "\n",
       ".xr-var-list > li:nth-child(odd) > div,\n",
       ".xr-var-list > li:nth-child(odd) > label,\n",
       ".xr-var-list > li:nth-child(odd) > .xr-var-name span {\n",
       "  background-color: var(--xr-background-color-row-odd);\n",
       "}\n",
       "\n",
       ".xr-var-name {\n",
       "  grid-column: 1;\n",
       "}\n",
       "\n",
       ".xr-var-dims {\n",
       "  grid-column: 2;\n",
       "}\n",
       "\n",
       ".xr-var-dtype {\n",
       "  grid-column: 3;\n",
       "  text-align: right;\n",
       "  color: var(--xr-font-color2);\n",
       "}\n",
       "\n",
       ".xr-var-preview {\n",
       "  grid-column: 4;\n",
       "}\n",
       "\n",
       ".xr-var-name,\n",
       ".xr-var-dims,\n",
       ".xr-var-dtype,\n",
       ".xr-preview,\n",
       ".xr-attrs dt {\n",
       "  white-space: nowrap;\n",
       "  overflow: hidden;\n",
       "  text-overflow: ellipsis;\n",
       "  padding-right: 10px;\n",
       "}\n",
       "\n",
       ".xr-var-name:hover,\n",
       ".xr-var-dims:hover,\n",
       ".xr-var-dtype:hover,\n",
       ".xr-attrs dt:hover {\n",
       "  overflow: visible;\n",
       "  width: auto;\n",
       "  z-index: 1;\n",
       "}\n",
       "\n",
       ".xr-var-attrs,\n",
       ".xr-var-data {\n",
       "  display: none;\n",
       "  background-color: var(--xr-background-color) !important;\n",
       "  padding-bottom: 5px !important;\n",
       "}\n",
       "\n",
       ".xr-var-attrs-in:checked ~ .xr-var-attrs,\n",
       ".xr-var-data-in:checked ~ .xr-var-data {\n",
       "  display: block;\n",
       "}\n",
       "\n",
       ".xr-var-data > table {\n",
       "  float: right;\n",
       "}\n",
       "\n",
       ".xr-var-name span,\n",
       ".xr-var-data,\n",
       ".xr-attrs {\n",
       "  padding-left: 25px !important;\n",
       "}\n",
       "\n",
       ".xr-attrs,\n",
       ".xr-var-attrs,\n",
       ".xr-var-data {\n",
       "  grid-column: 1 / -1;\n",
       "}\n",
       "\n",
       "dl.xr-attrs {\n",
       "  padding: 0;\n",
       "  margin: 0;\n",
       "  display: grid;\n",
       "  grid-template-columns: 125px auto;\n",
       "}\n",
       "\n",
       ".xr-attrs dt,\n",
       ".xr-attrs dd {\n",
       "  padding: 0;\n",
       "  margin: 0;\n",
       "  float: left;\n",
       "  padding-right: 10px;\n",
       "  width: auto;\n",
       "}\n",
       "\n",
       ".xr-attrs dt {\n",
       "  font-weight: normal;\n",
       "  grid-column: 1;\n",
       "}\n",
       "\n",
       ".xr-attrs dt:hover span {\n",
       "  display: inline-block;\n",
       "  background: var(--xr-background-color);\n",
       "  padding-right: 10px;\n",
       "}\n",
       "\n",
       ".xr-attrs dd {\n",
       "  grid-column: 2;\n",
       "  white-space: pre-wrap;\n",
       "  word-break: break-all;\n",
       "}\n",
       "\n",
       ".xr-icon-database,\n",
       ".xr-icon-file-text2 {\n",
       "  display: inline-block;\n",
       "  vertical-align: middle;\n",
       "  width: 1em;\n",
       "  height: 1.5em !important;\n",
       "  stroke-width: 0;\n",
       "  stroke: currentColor;\n",
       "  fill: currentColor;\n",
       "}\n",
       "</style><pre class='xr-text-repr-fallback'>&lt;xarray.DataArray &#x27;time&#x27; (time: 1)&gt;\n",
       "array([&#x27;2022-10-27T00:00:00.000000000&#x27;], dtype=&#x27;datetime64[ns]&#x27;)\n",
       "Coordinates:\n",
       "  * time     (time) datetime64[ns] 2022-10-27\n",
       "Attributes:\n",
       "    axis:                 T\n",
       "    long_name:            Time\n",
       "    standard_name:        time\n",
       "    _ChunkSizes:          1\n",
       "    _CoordinateAxisType:  Time\n",
       "    valid_min:            26555.0\n",
       "    valid_max:            26597.0</pre><div class='xr-wrap' hidden><div class='xr-header'><div class='xr-obj-type'>xarray.DataArray</div><div class='xr-array-name'>'time'</div><ul class='xr-dim-list'><li><span class='xr-has-index'>time</span>: 1</li></ul></div><ul class='xr-sections'><li class='xr-section-item'><div class='xr-array-wrap'><input id='section-fb5708c4-79c0-48c1-a302-9797d4512522' class='xr-array-in' type='checkbox' checked><label for='section-fb5708c4-79c0-48c1-a302-9797d4512522' title='Show/hide data repr'><svg class='icon xr-icon-database'><use xlink:href='#icon-database'></use></svg></label><div class='xr-array-preview xr-preview'><span>2022-10-27</span></div><div class='xr-array-data'><pre>array([&#x27;2022-10-27T00:00:00.000000000&#x27;], dtype=&#x27;datetime64[ns]&#x27;)</pre></div></div></li><li class='xr-section-item'><input id='section-5a57ceab-0093-4610-a413-73fdf765a910' class='xr-section-summary-in' type='checkbox'  checked><label for='section-5a57ceab-0093-4610-a413-73fdf765a910' class='xr-section-summary' >Coordinates: <span>(1)</span></label><div class='xr-section-inline-details'></div><div class='xr-section-details'><ul class='xr-var-list'><li class='xr-var-item'><div class='xr-var-name'><span class='xr-has-index'>time</span></div><div class='xr-var-dims'>(time)</div><div class='xr-var-dtype'>datetime64[ns]</div><div class='xr-var-preview xr-preview'>2022-10-27</div><input id='attrs-5515c22e-ea87-4fa7-8e4b-5705ed194357' class='xr-var-attrs-in' type='checkbox' ><label for='attrs-5515c22e-ea87-4fa7-8e4b-5705ed194357' title='Show/Hide attributes'><svg class='icon xr-icon-file-text2'><use xlink:href='#icon-file-text2'></use></svg></label><input id='data-7f384a46-d759-4e63-947e-13fd44c50f01' class='xr-var-data-in' type='checkbox'><label for='data-7f384a46-d759-4e63-947e-13fd44c50f01' title='Show/Hide data repr'><svg class='icon xr-icon-database'><use xlink:href='#icon-database'></use></svg></label><div class='xr-var-attrs'><dl class='xr-attrs'><dt><span>axis :</span></dt><dd>T</dd><dt><span>long_name :</span></dt><dd>Time</dd><dt><span>standard_name :</span></dt><dd>time</dd><dt><span>_ChunkSizes :</span></dt><dd>1</dd><dt><span>_CoordinateAxisType :</span></dt><dd>Time</dd><dt><span>valid_min :</span></dt><dd>26555.0</dd><dt><span>valid_max :</span></dt><dd>26597.0</dd></dl></div><div class='xr-var-data'><pre>array([&#x27;2022-10-27T00:00:00.000000000&#x27;], dtype=&#x27;datetime64[ns]&#x27;)</pre></div></li></ul></div></li><li class='xr-section-item'><input id='section-a552920f-ccf9-4013-8ef1-18a3d6386e07' class='xr-section-summary-in' type='checkbox'  checked><label for='section-a552920f-ccf9-4013-8ef1-18a3d6386e07' class='xr-section-summary' >Attributes: <span>(7)</span></label><div class='xr-section-inline-details'></div><div class='xr-section-details'><dl class='xr-attrs'><dt><span>axis :</span></dt><dd>T</dd><dt><span>long_name :</span></dt><dd>Time</dd><dt><span>standard_name :</span></dt><dd>time</dd><dt><span>_ChunkSizes :</span></dt><dd>1</dd><dt><span>_CoordinateAxisType :</span></dt><dd>Time</dd><dt><span>valid_min :</span></dt><dd>26555.0</dd><dt><span>valid_max :</span></dt><dd>26597.0</dd></dl></div></li></ul></div></div>"
      ],
      "text/plain": [
       "<xarray.DataArray 'time' (time: 1)>\n",
       "array(['2022-10-27T00:00:00.000000000'], dtype='datetime64[ns]')\n",
       "Coordinates:\n",
       "  * time     (time) datetime64[ns] 2022-10-27\n",
       "Attributes:\n",
       "    axis:                 T\n",
       "    long_name:            Time\n",
       "    standard_name:        time\n",
       "    _ChunkSizes:          1\n",
       "    _CoordinateAxisType:  Time\n",
       "    valid_min:            26555.0\n",
       "    valid_max:            26597.0"
      ]
     },
     "execution_count": 13,
     "metadata": {},
     "output_type": "execute_result"
    }
   ],
   "source": [
    "ssh.time[tind]"
   ]
  },
  {
   "cell_type": "code",
   "execution_count": 14,
   "metadata": {},
   "outputs": [],
   "source": [
    "scale = 5\n",
    "#tind = -1\n",
    "u = np.squeeze(ssh.ugos.isel(time=tind)) #dtype=object\n",
    "v = np.squeeze(ssh.vgos.isel(time=tind))\n",
    "Qgeo = ax.quiver(ssh.longitude.values,ssh.latitude.values, u.values, v.values,  scale_units='width', scale = scale, transform=ccrs.PlateCarree())\n"
   ]
  },
  {
   "cell_type": "code",
   "execution_count": 15,
   "metadata": {},
   "outputs": [],
   "source": [
    "if savefig:\n",
    "    plt.savefig(__figdir__+'SST_geostr_UV_zoom_level_' + str(zoom) + '_' + day_str + '.' + plotfiletype,**savefig_args)"
   ]
  },
  {
   "cell_type": "code",
   "execution_count": 16,
   "metadata": {},
   "outputs": [
    {
     "data": {
      "text/plain": [
       "<matplotlib.quiver.Quiver at 0x7f196212b2e0>"
      ]
     },
     "execution_count": 16,
     "metadata": {},
     "output_type": "execute_result"
    }
   ],
   "source": [
    "Qgeo"
   ]
  },
  {
   "cell_type": "code",
   "execution_count": 17,
   "metadata": {},
   "outputs": [],
   "source": [
    "## Add WG velocity vector"
   ]
  },
  {
   "cell_type": "code",
   "execution_count": 18,
   "metadata": {},
   "outputs": [],
   "source": [
    "t0 = np.datetime64(day_str)\n",
    "tmin = t0 - np.timedelta64(30,'m')#np.datetime64('now')\n",
    "tmax = t0 + np.timedelta64(30,'m')#np.datetime64('now')\n",
    "z0 = -4\n",
    "skip = 1\n",
    "width = Qgeo.width\n",
    "headwidth = Qgeo.headwidth\n",
    "headlength = Qgeo.headlength\n",
    "headaxislength = Qgeo.headaxislength"
   ]
  },
  {
   "cell_type": "code",
   "execution_count": 19,
   "metadata": {},
   "outputs": [],
   "source": [
    "# Function to plot WG position and vel at time of SST image\n",
    "def plot_WG_vel_vectors(ax,tmin,tmax,scale,skip, **kwargs):\n",
    "    # List of WGs\n",
    "    WG_list = ['WHOI32','WHOI22','WHOI43','STOKES', 'PLANCK', 'PASCAL', 'CARSON'] #leave Kelvin out because of ADCP problem in IOP1\n",
    "    path='../data/raw/WG_NRT/'\n",
    "    # Read in cleaned ADCP files from all WG\n",
    "    n=0\n",
    "    for WG in WG_list:\n",
    "        file = path+'adcp_'+WG+'.nc'\n",
    "        varstr = 'adcp_'+WG\n",
    "        ds=xr.open_dataset(file,decode_times=True) #Time and z already fixed in WG_realtime_cleanup.ipynb\n",
    "        tind = np.flatnonzero(np.logical_and(ds.time>tmin,ds.time<tmax))\n",
    "        tind=tind[0:-1:skip]\n",
    "        zind = np.flatnonzero(np.abs(ds.depth-z0)==np.min(np.abs(ds.depth-z0)))\n",
    "        if tind.size==0:\n",
    "            print('Skipping '+WG)\n",
    "            continue\n",
    "        else:\n",
    "            ax.quiver(ds.Longitude[tind].values,ds.Latitude[tind].values,np.squeeze(ds.current_east[zind, tind].values),np.squeeze(ds.current_north[zind, tind].values),scale_units='width',scale=scale,transform=ccrs.PlateCarree(),**kwargs)\n",
    "            ax.scatter(ds.Longitude[tind[-1]].values,ds.Latitude[tind[-1]].values,s=5,color='k',transform=ccrs.PlateCarree())\n"
   ]
  },
  {
   "cell_type": "code",
   "execution_count": 20,
   "metadata": {},
   "outputs": [
    {
     "name": "stdout",
     "output_type": "stream",
     "text": [
      "Skipping WHOI32\n",
      "Skipping WHOI43\n",
      "Skipping PASCAL\n"
     ]
    }
   ],
   "source": [
    "plot_WG_vel_vectors(ax,tmin,tmax,scale,skip,color='grey',width = width, headlength = headlength, headwidth = headwidth, headaxislength = headaxislength)"
   ]
  },
  {
   "cell_type": "code",
   "execution_count": 21,
   "metadata": {},
   "outputs": [
    {
     "data": {
      "text/plain": [
       "['b', 'g', 'r', 'c', 'm', 'y', 'k', 'w']"
      ]
     },
     "execution_count": 21,
     "metadata": {},
     "output_type": "execute_result"
    }
   ],
   "source": [
    "import matplotlib.colors as mcolors\n",
    "# names = list(mcolors)\n",
    "# colors = mcolors.cnames\n",
    "list(mcolors.BASE_COLORS)"
   ]
  },
  {
   "cell_type": "code",
   "execution_count": 22,
   "metadata": {},
   "outputs": [
    {
     "data": {
      "text/plain": [
       "True"
      ]
     },
     "execution_count": 22,
     "metadata": {},
     "output_type": "execute_result"
    }
   ],
   "source": [
    "not ()"
   ]
  },
  {
   "cell_type": "code",
   "execution_count": 23,
   "metadata": {},
   "outputs": [
    {
     "ename": "NameError",
     "evalue": "name 'foo' is not defined",
     "output_type": "error",
     "traceback": [
      "\u001b[0;31m---------------------------------------------------------------------------\u001b[0m",
      "\u001b[0;31mNameError\u001b[0m                                 Traceback (most recent call last)",
      "Input \u001b[0;32mIn [23]\u001b[0m, in \u001b[0;36m<cell line: 1>\u001b[0;34m()\u001b[0m\n\u001b[0;32m----> 1\u001b[0m \u001b[43mfoo\u001b[49m \u001b[38;5;241m==\u001b[39m []\n",
      "\u001b[0;31mNameError\u001b[0m: name 'foo' is not defined"
     ]
    }
   ],
   "source": [
    "foo == []"
   ]
  },
  {
   "cell_type": "code",
   "execution_count": null,
   "metadata": {},
   "outputs": [],
   "source": [
    "fsddgdf"
   ]
  },
  {
   "cell_type": "markdown",
   "metadata": {},
   "source": [
    "# Now read in locations of in situ platforms"
   ]
  },
  {
   "cell_type": "code",
   "execution_count": null,
   "metadata": {},
   "outputs": [],
   "source": [
    "BASE_URL = 'http://smode.whoi.edu:8080/thredds/dodsC/insitu/'\n",
    "\n",
    "saildrones = {\n",
    "    'type': 'sd',\n",
    "    'ids': ['1072','1073','1062','1075','1074'],\n",
    "    'URL': BASE_URL + 'saildrone/',\n",
    "    'rename_database' : {\n",
    "    'sbe37_practical_salinity_filtered': 'salinity',\n",
    "    'sbe37_temperature_filtered': 'temperature',\n",
    "    'water_velocity_east': 'u',\n",
    "    'water_velocity_north': 'v',\n",
    "    },\n",
    "}\n",
    "\n",
    "wavegliders = {\n",
    "    'type': 'wg',\n",
    "    'ids': ['KELVIN','STOKES','SV3'],\n",
    "    'URL': BASE_URL + 'waveglider/',\n",
    "    'rename_database': {\n",
    "        'longitude_1hz_Avg': 'longitude',\n",
    "        'latitude_1hz_Avg': 'latitude',\n",
    "        'uctd_temp_Avg':  'temperature',\n",
    "        'uctd_cond_Avg': 'conductivity',\n",
    "    }\n",
    "}\n",
    "\n",
    "oceanus = {\n",
    "    'type': 'RV',\n",
    "    'ids': ['oceanus'],\n",
    "    'URL': BASE_URL + 'Oceanus/',\n",
    "    'rename_database':{\n",
    "        'tsg_flth_temperature': 'temperature',\n",
    "        'tsg_flth_salinity': 'salinity',\n",
    "        'gnss_gga_bow_longitude': 'longitude',\n",
    "        'gnss_gga_bow_latitude': 'latitude',\n",
    "    }\n",
    "}"
   ]
  },
  {
   "cell_type": "code",
   "execution_count": null,
   "metadata": {},
   "outputs": [],
   "source": [
    "url_chl = 'http://smode.whoi.edu:8080/thredds/dodsC/IOP1_2022/satellite/Sentinel_3B/Sentinel_3B_20221021T185032Z.nc'\n",
    "chl = xr.open_dataset(url_chl)"
   ]
  },
  {
   "cell_type": "code",
   "execution_count": null,
   "metadata": {},
   "outputs": [],
   "source": [
    "chl"
   ]
  },
  {
   "cell_type": "code",
   "execution_count": null,
   "metadata": {},
   "outputs": [],
   "source": [
    "fig = plt.figure()\n",
    "plt.pcolor(chl.CHL_OC4ME,norm=matplotlib.colors.LogNorm(vmin=0.01, vmax=1))"
   ]
  },
  {
   "cell_type": "code",
   "execution_count": null,
   "metadata": {},
   "outputs": [],
   "source": []
  },
  {
   "cell_type": "code",
   "execution_count": null,
   "metadata": {},
   "outputs": [
    {
     "name": "stderr",
     "output_type": "stream",
     "text": [
      "/home/jtomf/miniconda3/lib/python3.9/site-packages/cartopy/crs.py:245: ShapelyDeprecationWarning: __len__ for multi-part geometries is deprecated and will be removed in Shapely 2.0. Check the length of the `geoms` property instead to get the  number of parts of a multi-part geometry.\n",
      "  if len(multi_line_string) > 1:\n",
      "/home/jtomf/miniconda3/lib/python3.9/site-packages/cartopy/crs.py:297: ShapelyDeprecationWarning: Iteration over multi-part geometries is deprecated and will be removed in Shapely 2.0. Use the `geoms` property to access the constituent parts of a multi-part geometry.\n",
      "  for line in multi_line_string:\n",
      "/home/jtomf/miniconda3/lib/python3.9/site-packages/cartopy/crs.py:364: ShapelyDeprecationWarning: __len__ for multi-part geometries is deprecated and will be removed in Shapely 2.0. Check the length of the `geoms` property instead to get the  number of parts of a multi-part geometry.\n",
      "  if len(p_mline) > 0:\n"
     ]
    }
   ],
   "source": [
    "if savefig:\n",
    "    plt.savefig(__figdir__+'SST_UV_' + day_str2 + zoom_str + '_' + f'{time_window:.0f}' + 'hr' + '.' +plotfiletype,**savefig_args)"
   ]
  },
  {
   "cell_type": "code",
   "execution_count": null,
   "metadata": {},
   "outputs": [],
   "source": []
  },
  {
   "cell_type": "code",
   "execution_count": null,
   "metadata": {},
   "outputs": [],
   "source": []
  }
 ],
 "metadata": {
  "kernelspec": {
   "display_name": "Python 3 (ipykernel)",
   "language": "python",
   "name": "python3"
  },
  "language_info": {
   "codemirror_mode": {
    "name": "ipython",
    "version": 3
   },
   "file_extension": ".py",
   "mimetype": "text/x-python",
   "name": "python",
   "nbconvert_exporter": "python",
   "pygments_lexer": "ipython3",
   "version": "3.9.7"
  }
 },
 "nbformat": 4,
 "nbformat_minor": 4
}
