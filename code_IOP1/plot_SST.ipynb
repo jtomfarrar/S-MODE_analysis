{
 "cells": [
  {
   "cell_type": "markdown",
   "metadata": {},
   "source": [
    "# Plot of SST for S-MODE IOP1\n",
    "\n"
   ]
  },
  {
   "cell_type": "code",
   "execution_count": 1,
   "metadata": {},
   "outputs": [],
   "source": [
    "import xarray as xr\n",
    "import numpy as np\n",
    "import matplotlib.pyplot as plt\n",
    "import matplotlib\n",
    "import cftime\n",
    "import copy\n",
    "\n",
    "import cartopy.crs as ccrs                   # import projections\n",
    "import cartopy\n",
    "import gsw\n",
    "import functions  # requires functions.py from this repository\n",
    "import datetime\n",
    "\n",
    "import sys\n",
    "sys.path.insert(0,'../../NASA_SMODE/DataSynthesis/tools') #github repo in NASA_SMODE organization\n",
    "sys.path.insert(0,'../../NASA_SMODE/DataSynthesis/data-synthesis/')\n",
    "from mapping_tools import *\n",
    "from tools import *"
   ]
  },
  {
   "cell_type": "code",
   "execution_count": 2,
   "metadata": {},
   "outputs": [],
   "source": [
    "plt.rcParams['figure.figsize'] = (6,6)\n",
    "plt.rcParams['figure.dpi'] = 200\n",
    "plt.rcParams['savefig.dpi'] = 700\n",
    "#plt.close('all')\n",
    "\n",
    "# %matplotlib inline\n",
    "%matplotlib qt5\n",
    "\n",
    "__figdir__ = '../plots/' \n",
    "savefig_args = {'bbox_inches':'tight', 'pad_inches':0.2}\n",
    "plotfiletype='png'"
   ]
  },
  {
   "cell_type": "code",
   "execution_count": 3,
   "metadata": {},
   "outputs": [
    {
     "name": "stdout",
     "output_type": "stream",
     "text": [
      "Inertial period is 19.9 hours\n"
     ]
    }
   ],
   "source": [
    "f = gsw.geostrophy.f(37)\n",
    "inertial_period = 2*np.pi/f/3600\n",
    "print('Inertial period is '+ f'{inertial_period:.1f}' + ' hours')"
   ]
  },
  {
   "cell_type": "code",
   "execution_count": 4,
   "metadata": {},
   "outputs": [],
   "source": [
    "# 2022 IOP\n",
    "#url = 'http://smode.whoi.edu:8080/thredds/dodsC/IOP1_2022/satellite/VIIRS_NRT/VIIRS_NRT_20220921T101000Z.nc'; V = [14, 16]; zoom = 1 #\n",
    "# url = 'http://smode.whoi.edu:8080/thredds/dodsC/IOP1_2022/satellite/VIIRS_NRT/VIIRS_NRT_20220921T101000Z.nc'; V = [14, 18]; zoom = 1 #\n",
    "#url = 'http://smode.whoi.edu:8080/thredds/dodsC/IOP1_2022/satellite/MODIS_Aqua/MODIS_Aqua_20221019T102002Z.nc'; V = [15, 16]; zoom = 3 \n",
    "url = 'http://smode.whoi.edu:8080/thredds/dodsC/IOP1_2022/satellite/MODIS_Aqua/MODIS_Aqua_20221019T102002Z.nc'; V = [14, 18]; zoom = 1 \n",
    "url = 'http://smode.whoi.edu:8080/thredds/dodsC/IOP1_2022/satellite/AVHRR_METOPC/AVHRR_METOPC_20221021T175000Z.nc';V = [14, 20]; zoom = 3 \n",
    "url = 'http://smode.whoi.edu:8080/thredds/dodsC/IOP1_2022/satellite/AVHRR_METOPB/AVHRR_METOPB_20221021T184000Z.nc';V = [15,19]; zoom = 2 \n",
    "url = 'http://smode.whoi.edu:8080/thredds/dodsC/IOP1_2022/satellite/AVHRR_METOPB/AVHRR_METOPB_20221023T053000Z.nc';V = [14,20]; zoom = 1 \n",
    "url = 'http://smode.whoi.edu:8080/thredds/dodsC/IOP1_2022/satellite/VIIRS_NRT/VIIRS_NRT_20221023T101000Z.nc';V = [12,19]; zoom = 1 \n",
    "#url = 'http://smode.whoi.edu:8080/thredds/dodsC/IOP1_2022/satellite/VIIRS_NRT/VIIRS_NRT_20221023T101000Z.nc';V = [14,19]; zoom = 3 \n",
    "url = 'http://smode.whoi.edu:8080/thredds/dodsC/IOP1_2022/satellite/AVHRR_METOPB/AVHRR_METOPB_20221023T175000Z.nc';V = [14,19]; zoom = 3 \n",
    "url = 'http://smode.whoi.edu:8080/thredds/dodsC/IOP1_2022/satellite/AVHRR_METOPC/AVHRR_METOPC_20221023T185000Z.nc';V = [14,19]; zoom = 4\n",
    "url = 'http://smode.whoi.edu:8080/thredds/dodsC/IOP1_2022/satellite/VIIRS_NRT/VIIRS_NRT_20221023T213000Z.nc';V = [14,19]; zoom = 4\n",
    "url = 'http://smode.whoi.edu:8080/thredds/dodsC/IOP1_2022/satellite/VIIRS_NRT/VIIRS_NRT_20221023T213000Z.nc';V = [14,19]; zoom = 4\n",
    "url = 'http://smode.whoi.edu:8080/thredds/dodsC/IOP1_2022/satellite/AVHRR_METOPB/AVHRR_METOPB_20221024T051000Z.nc';V = [14,19]; zoom = 4\n",
    "url = 'http://smode.whoi.edu:8080/thredds/dodsC/IOP1_2022/satellite/AVHRR_METOPB/AVHRR_METOPB_20221024T051000Z.nc';V = [12,19]; zoom = 1\n",
    "\n",
    "#\"\\\\wsl.localhost\\Ubuntu\\home\\jtomf\\Python\\S-MODE_analysis\\data\\external\\VIIRS_podaac\\20221024211801-JPL-L2P_GHRSST-SSTskin-VIIRS_NPP-D-v02.0-fv01.0_subsetted.nc4\"\n",
    "\n",
    "url = 'http://smode.whoi.edu:8080/thredds/dodsC/IOP1_2022/satellite/Sentinel_3B/Sentinel_3B_20221026T060344Z.nc';V = [13,19]; zoom = 4\n",
    "\n",
    "url = 'http://smode.whoi.edu:8080/thredds/dodsC/IOP1_2022/satellite/AVHRR_METOPB/AVHRR_METOPB_20221026T183000Z.nc';V = [13,19]; zoom = 4\n",
    "\n",
    "url = 'http://smode.whoi.edu:8080/thredds/dodsC/IOP1_2022/satellite/AVHRR_METOPC/AVHRR_METOPC_20221026T174000Z.nc';V = [13,19]; zoom = 4\n",
    "url ='http://smode.whoi.edu:8080/thredds/dodsC/IOP1_2022/satellite/VIIRS_NRT/VIIRS_NRT_20221026T204000Z.nc';V = [12,19]; zoom = 1"
   ]
  },
  {
   "cell_type": "code",
   "execution_count": 5,
   "metadata": {},
   "outputs": [],
   "source": [
    "time_window = 20\n",
    "zoom_str = 'zoom' + str(zoom)"
   ]
  },
  {
   "cell_type": "code",
   "execution_count": 6,
   "metadata": {},
   "outputs": [],
   "source": [
    "savefig = True"
   ]
  },
  {
   "cell_type": "code",
   "execution_count": 7,
   "metadata": {},
   "outputs": [
    {
     "name": "stderr",
     "output_type": "stream",
     "text": [
      "Error:DAP DATADDS packet is apparently too short\n"
     ]
    }
   ],
   "source": [
    "(ax, day_str) = functions.sst_map_SMODE(url,zoom,V,time_window)"
   ]
  },
  {
   "cell_type": "code",
   "execution_count": 8,
   "metadata": {},
   "outputs": [
    {
     "data": {
      "text/plain": [
       "<matplotlib.collections.PathCollection at 0x7f727768d9a0>"
      ]
     },
     "execution_count": 8,
     "metadata": {},
     "output_type": "execute_result"
    }
   ],
   "source": [
    "sd = functions.get_current_position('saildrone')\n",
    "ax.scatter(sd.longitude,sd.latitude,s=5,c='k',transform=ccrs.PlateCarree())\n",
    "wg = functions.get_current_position('waveglider')\n",
    "ax.scatter(wg.longitude,wg.latitude,s=5,c='m',transform=ccrs.PlateCarree())\n"
   ]
  },
  {
   "cell_type": "code",
   "execution_count": 9,
   "metadata": {},
   "outputs": [],
   "source": [
    "\n",
    "'''# Add a 10 km scale bar\n",
    "km_per_deg_lat=gsw.geostrophy.distance((125,125), (37,38))/1000\n",
    "deg_lat_equal_10km=10/km_per_deg_lat\n",
    "x0 = -125\n",
    "y0 = 37.75\n",
    "ax.plot(x0+np.asarray([0, 0]),y0+np.asarray([0.,deg_lat_equal_10km]),transform=ccrs.PlateCarree(),color='k')\n",
    "ax.text(x0+2/60, y0-.5/60, '10 km', fontsize=6,transform=ccrs.PlateCarree())\n",
    "''';"
   ]
  },
  {
   "cell_type": "code",
   "execution_count": 10,
   "metadata": {},
   "outputs": [
    {
     "name": "stderr",
     "output_type": "stream",
     "text": [
      "/home/jtomf/miniconda3/lib/python3.9/site-packages/cartopy/crs.py:245: ShapelyDeprecationWarning: __len__ for multi-part geometries is deprecated and will be removed in Shapely 2.0. Check the length of the `geoms` property instead to get the  number of parts of a multi-part geometry.\n",
      "  if len(multi_line_string) > 1:\n",
      "/home/jtomf/miniconda3/lib/python3.9/site-packages/cartopy/crs.py:297: ShapelyDeprecationWarning: Iteration over multi-part geometries is deprecated and will be removed in Shapely 2.0. Use the `geoms` property to access the constituent parts of a multi-part geometry.\n",
      "  for line in multi_line_string:\n",
      "/home/jtomf/miniconda3/lib/python3.9/site-packages/cartopy/crs.py:364: ShapelyDeprecationWarning: __len__ for multi-part geometries is deprecated and will be removed in Shapely 2.0. Check the length of the `geoms` property instead to get the  number of parts of a multi-part geometry.\n",
      "  if len(p_mline) > 0:\n",
      "/home/jtomf/miniconda3/lib/python3.9/site-packages/cartopy/crs.py:256: ShapelyDeprecationWarning: __len__ for multi-part geometries is deprecated and will be removed in Shapely 2.0. Check the length of the `geoms` property instead to get the  number of parts of a multi-part geometry.\n",
      "  line_strings = list(multi_line_string)\n",
      "/home/jtomf/miniconda3/lib/python3.9/site-packages/cartopy/crs.py:256: ShapelyDeprecationWarning: Iteration over multi-part geometries is deprecated and will be removed in Shapely 2.0. Use the `geoms` property to access the constituent parts of a multi-part geometry.\n",
      "  line_strings = list(multi_line_string)\n",
      "/home/jtomf/miniconda3/lib/python3.9/site-packages/cartopy/crs.py:402: ShapelyDeprecationWarning: Iteration over multi-part geometries is deprecated and will be removed in Shapely 2.0. Use the `geoms` property to access the constituent parts of a multi-part geometry.\n",
      "  line_strings.extend(multi_line_string)\n",
      "/home/jtomf/miniconda3/lib/python3.9/site-packages/cartopy/crs.py:402: ShapelyDeprecationWarning: __len__ for multi-part geometries is deprecated and will be removed in Shapely 2.0. Check the length of the `geoms` property instead to get the  number of parts of a multi-part geometry.\n",
      "  line_strings.extend(multi_line_string)\n"
     ]
    }
   ],
   "source": [
    "if savefig:\n",
    "    plt.savefig(__figdir__+'SST_assets2_zoom_level_' + str(zoom) + '_' + day_str + '.' + plotfiletype,**savefig_args)"
   ]
  },
  {
   "cell_type": "code",
   "execution_count": 11,
   "metadata": {},
   "outputs": [
    {
     "ename": "NameError",
     "evalue": "name 'sfdafds' is not defined",
     "output_type": "error",
     "traceback": [
      "\u001b[0;31m---------------------------------------------------------------------------\u001b[0m",
      "\u001b[0;31mNameError\u001b[0m                                 Traceback (most recent call last)",
      "Input \u001b[0;32mIn [11]\u001b[0m, in \u001b[0;36m<cell line: 1>\u001b[0;34m()\u001b[0m\n\u001b[0;32m----> 1\u001b[0m \u001b[43msfdafds\u001b[49m\n",
      "\u001b[0;31mNameError\u001b[0m: name 'sfdafds' is not defined"
     ]
    }
   ],
   "source": [
    "sfdafds"
   ]
  },
  {
   "cell_type": "code",
   "execution_count": null,
   "metadata": {},
   "outputs": [],
   "source": [
    "plt.rcParams['savefig.dpi']"
   ]
  },
  {
   "cell_type": "code",
   "execution_count": null,
   "metadata": {},
   "outputs": [],
   "source": [
    "plt.rcParams['figure.figsize'] "
   ]
  },
  {
   "cell_type": "code",
   "execution_count": null,
   "metadata": {},
   "outputs": [],
   "source": []
  },
  {
   "cell_type": "markdown",
   "metadata": {},
   "source": [
    "# Now read in locations of in situ platforms"
   ]
  },
  {
   "cell_type": "code",
   "execution_count": null,
   "metadata": {},
   "outputs": [],
   "source": [
    "BASE_URL = 'http://smode.whoi.edu:8080/thredds/dodsC/insitu/'\n",
    "\n",
    "saildrones = {\n",
    "    'type': 'sd',\n",
    "    'ids': ['1072','1073','1062','1075','1074'],\n",
    "    'URL': BASE_URL + 'saildrone/',\n",
    "    'rename_database' : {\n",
    "    'sbe37_practical_salinity_filtered': 'salinity',\n",
    "    'sbe37_temperature_filtered': 'temperature',\n",
    "    'water_velocity_east': 'u',\n",
    "    'water_velocity_north': 'v',\n",
    "    },\n",
    "}\n",
    "\n",
    "wavegliders = {\n",
    "    'type': 'wg',\n",
    "    'ids': ['KELVIN','STOKES','SV3'],\n",
    "    'URL': BASE_URL + 'waveglider/',\n",
    "    'rename_database': {\n",
    "        'longitude_1hz_Avg': 'longitude',\n",
    "        'latitude_1hz_Avg': 'latitude',\n",
    "        'uctd_temp_Avg':  'temperature',\n",
    "        'uctd_cond_Avg': 'conductivity',\n",
    "    }\n",
    "}\n",
    "\n",
    "oceanus = {\n",
    "    'type': 'RV',\n",
    "    'ids': ['oceanus'],\n",
    "    'URL': BASE_URL + 'Oceanus/',\n",
    "    'rename_database':{\n",
    "        'tsg_flth_temperature': 'temperature',\n",
    "        'tsg_flth_salinity': 'salinity',\n",
    "        'gnss_gga_bow_longitude': 'longitude',\n",
    "        'gnss_gga_bow_latitude': 'latitude',\n",
    "    }\n",
    "}"
   ]
  },
  {
   "cell_type": "code",
   "execution_count": null,
   "metadata": {},
   "outputs": [],
   "source": [
    "url_chl = 'http://smode.whoi.edu:8080/thredds/dodsC/IOP1_2022/satellite/Sentinel_3B/Sentinel_3B_20221021T185032Z.nc'\n",
    "chl = xr.open_dataset(url_chl)"
   ]
  },
  {
   "cell_type": "code",
   "execution_count": null,
   "metadata": {},
   "outputs": [],
   "source": [
    "chl"
   ]
  },
  {
   "cell_type": "code",
   "execution_count": null,
   "metadata": {},
   "outputs": [],
   "source": [
    "fig = plt.figure()\n",
    "plt.pcolor(chl.CHL_OC4ME,norm=matplotlib.colors.LogNorm(vmin=0.01, vmax=1))"
   ]
  },
  {
   "cell_type": "code",
   "execution_count": null,
   "metadata": {},
   "outputs": [],
   "source": []
  },
  {
   "cell_type": "code",
   "execution_count": null,
   "metadata": {},
   "outputs": [],
   "source": [
    "if savefig:\n",
    "    plt.savefig(__figdir__+'SST_UV_' + day_str2 + zoom_str + '_' + f'{time_window:.0f}' + 'hr' + '.' +plotfiletype,**savefig_args)"
   ]
  },
  {
   "cell_type": "code",
   "execution_count": null,
   "metadata": {},
   "outputs": [],
   "source": []
  },
  {
   "cell_type": "code",
   "execution_count": null,
   "metadata": {},
   "outputs": [],
   "source": []
  }
 ],
 "metadata": {
  "kernelspec": {
   "display_name": "Python 3 (ipykernel)",
   "language": "python",
   "name": "python3"
  },
  "language_info": {
   "codemirror_mode": {
    "name": "ipython",
    "version": 3
   },
   "file_extension": ".py",
   "mimetype": "text/x-python",
   "name": "python",
   "nbconvert_exporter": "python",
   "pygments_lexer": "ipython3",
   "version": "3.9.7"
  }
 },
 "nbformat": 4,
 "nbformat_minor": 4
}
