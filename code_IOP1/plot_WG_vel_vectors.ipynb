{
 "cells": [
  {
   "cell_type": "markdown",
   "id": "a70f9aa5-da01-4dc8-8aec-dba0af280359",
   "metadata": {},
   "source": [
    "# Plot WG vel vectors on a map\n",
    "\n",
    "* Give a time or a time range"
   ]
  },
  {
   "cell_type": "code",
   "execution_count": 1,
   "id": "b2432e57-2e74-4163-82d2-66400f7f3655",
   "metadata": {},
   "outputs": [],
   "source": [
    "import xarray as xr\n",
    "import numpy as np\n",
    "import matplotlib.pyplot as plt\n",
    "import matplotlib\n",
    "import cftime\n",
    "import requests\n",
    "import cartopy.crs as ccrs                   # import projections\n",
    "import cartopy\n",
    "import gsw\n",
    "import functions  # requires functions.py from this directory"
   ]
  },
  {
   "cell_type": "code",
   "execution_count": 2,
   "id": "3d862653-1e19-4da5-97fd-2e2e19bf691c",
   "metadata": {},
   "outputs": [],
   "source": [
    "# List of WGs\n",
    "WG_list = ['WHOI32','WHOI43','STOKES', 'PLANCK', 'PASCAL', 'CARSON', 'KELVIN'] #leave Kelvin out because of ADCP problem in IOP1\n",
    "path='../data/raw/WG_NRT/'"
   ]
  },
  {
   "cell_type": "code",
   "execution_count": 3,
   "id": "821e44c4-95e3-42e0-af35-b6bb1d16bde2",
   "metadata": {},
   "outputs": [],
   "source": [
    "# Make a list of the files:\n",
    "n=0\n",
    "file_list = []\n",
    "for WG in WG_list:\n",
    "    file = path+'adcp_'+WG+'.nc'\n",
    "    file_list.append(file)"
   ]
  },
  {
   "cell_type": "code",
   "execution_count": 4,
   "id": "bad68337-88b0-484c-a200-5cc876d2f008",
   "metadata": {},
   "outputs": [
    {
     "name": "stdout",
     "output_type": "stream",
     "text": [
      "../data/raw/WG_NRT/adcp_WHOI32.nc\n",
      "../data/raw/WG_NRT/adcp_WHOI43.nc\n",
      "../data/raw/WG_NRT/adcp_STOKES.nc\n",
      "../data/raw/WG_NRT/adcp_PLANCK.nc\n",
      "../data/raw/WG_NRT/adcp_PASCAL.nc\n",
      "../data/raw/WG_NRT/adcp_CARSON.nc\n"
     ]
    }
   ],
   "source": [
    "# Read in cleaned ADCP files from all WG\n",
    "n=0\n",
    "for WG in WG_list:\n",
    "    file = file_list[n]\n",
    "    varstr = 'adcp_'+WG\n",
    "    locals()[varstr]=xr.open_dataset(file,decode_times=True) #Time and z already fixed in WG_realtime_cleanup.ipynb\n",
    "    n=n+1\n",
    "    print(file)\n"
   ]
  },
  {
   "cell_type": "code",
   "execution_count": 73,
   "id": "627097ed-d51b-4299-8e04-e390724851bf",
   "metadata": {},
   "outputs": [
    {
     "name": "stdout",
     "output_type": "stream",
     "text": [
      "Skipping WHOI32\n",
      "Skipping PLANCK\n"
     ]
    },
    {
     "data": {
      "image/png": "[encoded data removed]",
      "text/plain": [
       "<Figure size 640x480 with 1 Axes>"
      ]
     },
     "metadata": {},
     "output_type": "display_data"
    }
   ],
   "source": [
    "tmin = np.datetime64('2022-10-25T00:00:00')\n",
    "tmax = tmin+np.timedelta64(4,'h')#np.datetime64('now')\n",
    "z0 = -4\n",
    "scale = 5\n",
    "skip = 4\n",
    "xmin, xmax = (-124.75,-124.25)\n",
    "ymin, ymax = (36.5, 37.0)\n",
    "fig = plt.figure()\n",
    "ax = plt.axes(projection = ccrs.PlateCarree(central_longitude=200))  # Orthographic\n",
    "extent = [xmin, xmax, ymin, ymax]\n",
    "ax.set_extent(extent, crs=ccrs.PlateCarree())\n",
    "gl = ax.gridlines(draw_labels=True, dms=True, x_inline=False, y_inline=False, alpha=0.5, linestyle='--')\n",
    "gl.top_labels = False\n",
    "gl.right_labels = False\n",
    "\n",
    "for WG in WG_list:\n",
    "    n=n+1\n",
    "    ds = eval('adcp_'+WG)\n",
    "    tind = np.flatnonzero(np.logical_and(ds.time>tmin,ds.time<tmax))\n",
    "    tind=tind[0:-1:skip]\n",
    "    zind = np.flatnonzero(np.abs(ds.depth-z0)==np.min(np.abs(ds.depth-z0)))\n",
    "    if not len(tind):\n",
    "        print('Skipping '+WG)\n",
    "        continue\n",
    "    else: \n",
    "        plt.quiver(ds.Longitude[tind].values,ds.Latitude[tind].values,np.squeeze(ds.current_east[zind, tind].values),np.squeeze(ds.current_north[zind, tind].values),scale=scale,transform=ccrs.PlateCarree())\n"
   ]
  },
  {
   "cell_type": "code",
   "execution_count": 36,
   "id": "4df5aae5-1d5d-4f39-8f9a-9793537abfc8",
   "metadata": {},
   "outputs": [
    {
     "data": {
      "text/plain": [
       "(246,)"
      ]
     },
     "execution_count": 36,
     "metadata": {},
     "output_type": "execute_result"
    }
   ],
   "source": [
    "np.shape(np.squeeze(ds.current_east[zind, tind]))"
   ]
  },
  {
   "cell_type": "code",
   "execution_count": 42,
   "id": "8a201710-a20c-4abe-8667-678766e8ca93",
   "metadata": {},
   "outputs": [
    {
     "data": {
      "text/plain": [
       "(2,)"
      ]
     },
     "execution_count": 42,
     "metadata": {},
     "output_type": "execute_result"
    }
   ],
   "source": [
    "np.shape(zind)"
   ]
  },
  {
   "cell_type": "code",
   "execution_count": 43,
   "id": "685f1200-9374-4589-a658-b1557bf06b43",
   "metadata": {},
   "outputs": [
    {
     "data": {
      "text/plain": [
       "'PASCAL'"
      ]
     },
     "execution_count": 43,
     "metadata": {},
     "output_type": "execute_result"
    }
   ],
   "source": [
    "WG"
   ]
  },
  {
   "cell_type": "code",
   "execution_count": 37,
   "id": "821c4922-be89-4ba0-8bbd-1ab80687746d",
   "metadata": {},
   "outputs": [],
   "source": [
    "if not len(tind) and len(zind): print('OK')"
   ]
  },
  {
   "cell_type": "code",
   "execution_count": null,
   "id": "2ef9eaa0-b8e6-4680-9d13-29279b4e6b8e",
   "metadata": {},
   "outputs": [],
   "source": []
  }
 ],
 "metadata": {
  "kernelspec": {
   "display_name": "Python 3 (ipykernel)",
   "language": "python",
   "name": "python3"
  },
  "language_info": {
   "codemirror_mode": {
    "name": "ipython",
    "version": 3
   },
   "file_extension": ".py",
   "mimetype": "text/x-python",
   "name": "python",
   "nbconvert_exporter": "python",
   "pygments_lexer": "ipython3",
   "version": "3.9.7"
  }
 },
 "nbformat": 4,
 "nbformat_minor": 5
}
