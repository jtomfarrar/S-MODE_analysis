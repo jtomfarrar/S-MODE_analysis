{
 "cells": [
  {
   "cell_type": "markdown",
   "id": "7d3ca830-9694-4c71-8ff2-f9e71af8ac28",
   "metadata": {},
   "source": [
    "### Access S-MODE data in the PO.DAAC cloud and download to local machine\n",
    "\n",
    "\n",
    "\n",
    "[@jtomfarrar](https://github.com/jtomfarrar)"
   ]
  },
  {
   "cell_type": "markdown",
   "id": "4bb96af4-0d64-4170-b422-70748a5791e4",
   "metadata": {},
   "source": [
    "## For some access methods, you will need a netrc file to pass credentials\n",
    "\n",
    "The _netrc file_ holds credentials for logging into remote machines, for things like storing login credentials for FTP programs.  It is a simple text file, named \"\\_netrc\" on Windows and \".netrc\" on Linux/Mac machines, and it's stored in a user's home directory:  \n",
    "```C:\\Users\\<username>``` (Windows)  \n",
    "```/home/<username>``` (Linux/Mac)  \n",
    "\n",
    "### Create a netrc file\n",
    "\n",
    "The content of the file is simple:  \n",
    "```\n",
    "machine urs.earthdata.nasa.gov  \n",
    "login <username>  \n",
    "password <password>\n",
    "```  \n",
    "where ```<username>``` and ```<password>``` are your actual username and password.\n",
    "\n",
    "You could actually do a lot of this without a netrc file, by explicitly writing your username and password in your code.  That's not a good idea in you plan to share your code or put it on Github.  You cannot do this if you plan to share your code:  \n",
    "https://wiki.earthdata.nasa.gov/display/EL/How+To+Access+Data+With+Python\n",
    "\n",
    "Here are two ways to make this file:\n",
    "1. Just run this notebook:  \n",
    "https://github.com/NASA-Openscapes/2021-Cloud-Hackathon/blob/main/tutorials/04_NASA_Earthdata_Authentication.ipynb  \n",
    "1. Make a text file (or first check if you already have one) in your home directory and add the contents listed above.\n",
    "\n",
    "On linux/mac, you may need:  \n",
    "```chmod  0600 ~/.netrc```\n"
   ]
  },
  {
   "cell_type": "markdown",
   "id": "173f60a0-ed71-4f6e-a182-af95d0340c17",
   "metadata": {},
   "source": [
    "## One way to download the data to a local machine is to use podaac-data-downloader\n",
    "\n",
    "See:\n",
    "https://github.com/podaac/data-subscriber\n",
    "\n",
    "Find the data set short name here:\n",
    "https://podaac.jpl.nasa.gov/S-MODE?tab=mission-objectives&sections=about%2Bdata\n"
   ]
  },
  {
   "cell_type": "code",
   "execution_count": 8,
   "id": "1dc35be5-2fe3-4a08-b55a-d338ac49b638",
   "metadata": {},
   "outputs": [],
   "source": [
    "start_time = '2021-10-20T00:00:00Z'\n",
    "end_time = '2021-12-6T00:00:00Z'\n",
    "short_name = 'SMODE_LX_SAILDRONES_V1'"
   ]
  },
  {
   "cell_type": "code",
   "execution_count": 9,
   "id": "9e434a8f-3660-4860-a776-d5f916bd0c58",
   "metadata": {},
   "outputs": [
    {
     "name": "stdout",
     "output_type": "stream",
     "text": [
      "Found 10 total files to download\n",
      "2022-11-01 15:19:50.265826 SUCCESS: https://archive.podaac.earthdata.nasa.gov/podaac-ops-cumulus-protected/SMODE_LX_SAILDRONES_V1/SMODE_PFC_saildrone_adcp_1074.nc\n",
      "2022-11-01 15:19:53.533300 SUCCESS: https://archive.podaac.earthdata.nasa.gov/podaac-ops-cumulus-protected/SMODE_LX_SAILDRONES_V1/SMODE_PFC_saildrone_adcp_1075.nc\n",
      "2022-11-01 15:19:57.240018 SUCCESS: https://archive.podaac.earthdata.nasa.gov/podaac-ops-cumulus-protected/SMODE_LX_SAILDRONES_V1/SMODE_PFC_saildrone_adcp_1062.nc\n",
      "2022-11-01 15:20:00.678515 SUCCESS: https://archive.podaac.earthdata.nasa.gov/podaac-ops-cumulus-protected/SMODE_LX_SAILDRONES_V1/SMODE_PFC_saildrone_nonadcp_1062.nc\n",
      "2022-11-01 15:20:03.811697 SUCCESS: https://archive.podaac.earthdata.nasa.gov/podaac-ops-cumulus-protected/SMODE_LX_SAILDRONES_V1/SMODE_PFC_saildrone_nonadcp_1074.nc\n",
      "2022-11-01 15:20:07.069049 SUCCESS: https://archive.podaac.earthdata.nasa.gov/podaac-ops-cumulus-protected/SMODE_LX_SAILDRONES_V1/SMODE_PFC_saildrone_nonadcp_1075.nc\n",
      "2022-11-01 15:20:11.222785 SUCCESS: https://archive.podaac.earthdata.nasa.gov/podaac-ops-cumulus-protected/SMODE_LX_SAILDRONES_V1/SMODE_PFC_saildrone_adcp_1072.nc\n",
      "2022-11-01 15:20:15.184252 SUCCESS: https://archive.podaac.earthdata.nasa.gov/podaac-ops-cumulus-protected/SMODE_LX_SAILDRONES_V1/SMODE_PFC_saildrone_adcp_1073.nc\n",
      "2022-11-01 15:20:19.361799 SUCCESS: https://archive.podaac.earthdata.nasa.gov/podaac-ops-cumulus-protected/SMODE_LX_SAILDRONES_V1/SMODE_PFC_saildrone_nonadcp_1072.nc\n",
      "2022-11-01 15:20:22.719825 SUCCESS: https://archive.podaac.earthdata.nasa.gov/podaac-ops-cumulus-protected/SMODE_LX_SAILDRONES_V1/SMODE_PFC_saildrone_nonadcp_1073.nc\n",
      "Downloaded: 10 files\n",
      "\n",
      "Files Failed to download:0\n",
      "\n",
      "CMR token successfully deleted\n",
      "END \n",
      "\n",
      "\n"
     ]
    }
   ],
   "source": [
    "!podaac-data-downloader -c $short_name -d ../data/raw/. --start-date $start_time --end-date $end_time"
   ]
  },
  {
   "cell_type": "code",
   "execution_count": null,
   "id": "4a6bb191-5735-4a4c-97b0-84864661a7ad",
   "metadata": {},
   "outputs": [],
   "source": []
  }
 ],
 "metadata": {
  "kernelspec": {
   "display_name": "Python 3 (ipykernel)",
   "language": "python",
   "name": "python3"
  },
  "language_info": {
   "codemirror_mode": {
    "name": "ipython",
    "version": 3
   },
   "file_extension": ".py",
   "mimetype": "text/x-python",
   "name": "python",
   "nbconvert_exporter": "python",
   "pygments_lexer": "ipython3",
   "version": "3.9.7"
  }
 },
 "nbformat": 4,
 "nbformat_minor": 5
}
