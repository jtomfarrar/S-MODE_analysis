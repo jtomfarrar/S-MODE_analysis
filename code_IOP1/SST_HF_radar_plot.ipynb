{
 "cells": [
  {
   "cell_type": "markdown",
   "metadata": {},
   "source": [
    "# Plot of SST/HF radar data for S-MODE\n",
    "\n",
    "Make a plot of SST with HF radar current vectors overlaid.  This notebook is branched off from \"HF_radat_plot.ipynb\".  Changes to do:\n",
    "- Would like to make is so that a single date can be entered to select the SST image and coincident HF radar data.\n",
    "- Inputs: date, lat/lon domain, amount of averaging time, colorscale, ??\n",
    "- Should I do this with flags to select cases (e.g., case_flag=1 selects a certain set of input parameters, like time, lat/lon domain, colorscale)?\n",
    "\n",
    "\n",
    "Other notes:\n",
    "- Uses data from [HFRnet THREDDS server](http://hfrnet-tds.ucsd.edu/thredds/catalog.html)\n",
    "- Draws from https://github.com/rowg/HFRnet-Thredds-support/blob/master/PythonNotebooks/TimeseriesRTVfromSIO_TDS.ipynb\n"
   ]
  },
  {
   "cell_type": "markdown",
   "metadata": {},
   "source": [
    "## Notes on situations and good SST images\n",
    "\n",
    "Good one well before start of experiment, 2021-09-29\n",
    "```url = 'http://smode.whoi.edu:8080/thredds/dodsC/satellite/VIIRS_NRT/VIIRS_NRT_20210929T213000Z.nc'  #This one is good```\n",
    "\n",
    "2021-10-16, good one at start of experiment, \n",
    "```#url = 'http://smode.whoi.edu:8080/thredds/dodsC/satellite/VIIRS_NRT/VIIRS_NRT_20211016T095000Z.nc' # good one```\n",
    "\n",
    "2021-10-19, 03:10 Metop A, Really good one near start of experiment:\n",
    "``` # url = 'http://smode.whoi.edu:8080/thredds/fileServer/satellite/AVHRR_METOPA/AVHRR_METOPA_20211019T031000Z.nc#bytes' #Really great! ```\n",
    "\n",
    "Not awesome, but coincident with B200 flight on 10/19,\n",
    "```# url = 'http://smode.whoi.edu:8080/thredds/fileServer/satellite/VIIRS_NRT/VIIRS_NRT_20211019T103001Z.nc#mode=bytes' ```\n",
    "\n",
    "Not sure about these-- I should check them:\n",
    "```\n",
    "#url = 'http://smode.whoi.edu:8080/thredds/dodsC/satellite/MODIS_Terra/MODIS_Terra_20211011T233459Z.nc'\n",
    "# url = 'http://smode.whoi.edu:8080/thredds/dodsC/satellite/VIIRS_NRT/VIIRS_NRT_20211022T111000Z.nc'\n",
    "#url = 'http://smode.whoi.edu:8080/thredds/dodsC/satellite/AVHRR_METOPA/AVHRR_METOPA_20211022T161000Z.nc' # good one!\n",
    "```\n",
    "\n",
    "Two of the best, from 2021-10-19 and 2021-10-25 that make a good sequence of the early part of the experiment\n",
    "```\n",
    "#url = 'http://smode.whoi.edu:8080/thredds/dodsC/satellite/AVHRR_METOPC/AVHRR_METOPC_20211019T052000Z.nc'  # prettiest of all!!\n",
    "#url = 'http://smode.whoi.edu:8080/thredds/dodsC/satellite/VIIRS_NRT/VIIRS_NRT_20211025T214001Z.nc'\n",
    "```\n",
    "\n",
    "Really good ones from last two days of the campaing, 11-4 and 11-5:\n",
    "```\n",
    "# url = 'http://smode.whoi.edu:8080/thredds/dodsC/satellite/VIIRS_NRT/VIIRS_NRT_20211104T103001Z.nc'\n",
    "url = 'http://smode.whoi.edu:8080/thredds/dodsC/satellite/VIIRS_NRT/VIIRS_NRT_20211105T101000Z.nc'\n",
    "```"
   ]
  },
  {
   "cell_type": "code",
   "execution_count": 1,
   "metadata": {},
   "outputs": [],
   "source": [
    "import xarray as xr\n",
    "import numpy as np\n",
    "import matplotlib.pyplot as plt\n",
    "import matplotlib\n",
    "import cftime\n",
    "import copy\n",
    "\n",
    "import cartopy.crs as ccrs                   # import projections\n",
    "import cartopy\n",
    "import gsw\n",
    "import functions  # requires functions.py from this repository\n",
    "import datetime\n",
    "\n",
    "import sys\n",
    "sys.path.insert(0,'../../NASA_SMODE/DataSynthesis/tools')\n",
    "sys.path.insert(0,'../../NASA_SMODE/DataSynthesis/data-synthesis/')\n",
    "from mapping_tools import *\n",
    "from tools import *"
   ]
  },
  {
   "cell_type": "code",
   "execution_count": 2,
   "metadata": {},
   "outputs": [],
   "source": [
    "plt.rcParams['figure.figsize'] = (8,8)\n",
    "plt.rcParams['figure.dpi'] = 250\n",
    "plt.rcParams['savefig.dpi'] = 700\n",
    "plt.close('all')\n",
    "\n",
    "# %matplotlib inline\n",
    "%matplotlib qt5\n",
    "\n",
    "__figdir__ = '../plots/' \n",
    "savefig_args = {'bbox_inches':'tight', 'pad_inches':0.2}\n",
    "plotfiletype='png'"
   ]
  },
  {
   "cell_type": "code",
   "execution_count": 3,
   "metadata": {},
   "outputs": [
    {
     "name": "stdout",
     "output_type": "stream",
     "text": [
      "Inertial period is 19.9 hours\n"
     ]
    }
   ],
   "source": [
    "f = gsw.geostrophy.f(37)\n",
    "inertial_period = 2*np.pi/f/3600\n",
    "print('Inertial period is '+ f'{inertial_period:.1f}' + ' hours')"
   ]
  },
  {
   "cell_type": "code",
   "execution_count": 4,
   "metadata": {},
   "outputs": [],
   "source": [
    "# Good one well before start of experiment, 2021-09-29\n",
    "#url = 'http://smode.whoi.edu:8080/thredds/dodsC/satellite/VIIRS_NRT/VIIRS_NRT_20210929T213000Z.nc'  #This one is good\n",
    "\n",
    "# 2021-10-16, good one at start of experiment, \n",
    "#url = 'http://smode.whoi.edu:8080/thredds/dodsC/satellite/VIIRS_NRT/VIIRS_NRT_20211016T095000Z.nc' # good one\n",
    "\n",
    "# 2021-10-19, 03:10 Metop A, Really good one near start of experiment:\n",
    "# url = 'http://smode.whoi.edu:8080/thredds/fileServer/satellite/AVHRR_METOPA/AVHRR_METOPA_20211019T031000Z.nc#bytes' #Really great! \n",
    "\n",
    "# Not awesome, but coincident with B200 flight on 10/19,\n",
    "# url = 'http://smode.whoi.edu:8080/thredds/fileServer/satellite/VIIRS_NRT/VIIRS_NRT_20211019T103001Z.nc#mode=bytes'\n",
    "\n",
    "# Not sure about these-- I should check them:\n",
    "#url = 'http://smode.whoi.edu:8080/thredds/dodsC/satellite/MODIS_Terra/MODIS_Terra_20211011T233459Z.nc'\n",
    "# url = 'http://smode.whoi.edu:8080/thredds/dodsC/satellite/VIIRS_NRT/VIIRS_NRT_20211022T111000Z.nc'\n",
    "\n",
    "# Good sequence from 2021-10-19, 2021-10-22 and 2021-10-25 showing early part of the experiment\n",
    "#  (Western part of domain-- not great for HF radar)\n",
    "# url = 'http://smode.whoi.edu:8080/thredds/dodsC/satellite/AVHRR_METOPC/AVHRR_METOPC_20211019T052000Z.nc'; V = [12, 14.5]; zoom = 1  # prettiest of all!!\n",
    "# url = 'http://smode.whoi.edu:8080/thredds/dodsC/satellite/AVHRR_METOPA/AVHRR_METOPA_20211022T161000Z.nc'; V = [12, 15.5]; zoom = 1 # good one!\n",
    "# potentially useful, not great: url = 'http://smode.whoi.edu:8080/thredds/dodsC/satellite/VIIRS_NRT/VIIRS_NRT_20211022T111000Z.nc'; V = [12, 15.5]\n",
    "# url = 'http://smode.whoi.edu:8080/thredds/dodsC/satellite/VIIRS_NRT/VIIRS_NRT_20211025T214001Z.nc'; V = [12, 15.5]; zoom = 1\n",
    "\n",
    "# Phase 2 of experiment (2021-10-28):\n",
    "# This one is really cool with the HF radar\n",
    "# url = 'http://smode.whoi.edu:8080/thredds/dodsC/satellite/AVHRR_METOPA/AVHRR_METOPA_20211028T033000Z.nc'; V = [14, 16]; zoom = 1\n",
    "\n",
    "# Really good ones from last two days of the campaign, 11-4 and 11-5:\n",
    "#url = 'http://smode.whoi.edu:8080/thredds/dodsC/satellite/VIIRS_NRT/VIIRS_NRT_20211104T103001Z.nc'; V = [14, 16]; zoom = 1 #very good if zoomed on study region\n",
    "# url = 'http://smode.whoi.edu:8080/thredds/dodsC/satellite/VIIRS_NRT/VIIRS_NRT_20211105T101000Z.nc'; V = [14, 16]; zoom = 3 #not totally great, but pretty good, especially if zoomed\n",
    "\n",
    "\n",
    "# 2022 IOP\n",
    "#url = 'http://smode.whoi.edu:8080/thredds/dodsC/IOP1_2022/satellite/VIIRS_NRT/VIIRS_NRT_20220921T101000Z.nc'; V = [14, 16]; zoom = 1 #\n",
    "url = 'http://smode.whoi.edu:8080/thredds/dodsC/IOP1_2022/satellite/VIIRS_NRT/VIIRS_NRT_20220921T101000Z.nc'; V = [14, 20]; zoom = 1 #\n"
   ]
  },
  {
   "cell_type": "code",
   "execution_count": 5,
   "metadata": {},
   "outputs": [],
   "source": [
    "time_window = 20\n",
    "zoom_str = 'zoom' + str(zoom)"
   ]
  },
  {
   "cell_type": "code",
   "execution_count": 6,
   "metadata": {},
   "outputs": [],
   "source": [
    "savefig = True"
   ]
  },
  {
   "cell_type": "code",
   "execution_count": 7,
   "metadata": {},
   "outputs": [
    {
     "name": "stdout",
     "output_type": "stream",
     "text": [
      "{'transform': <cartopy.crs.PlateCarree object at 0x7f565b477270>, 'color': 'k'}\n"
     ]
    },
    {
     "ename": "ValueError",
     "evalue": "time data '2022-09-21T10:10:00.000000000' does not match format '%Y-%m-%d %H:%M:%S'",
     "output_type": "error",
     "traceback": [
      "\u001b[0;31m---------------------------------------------------------------------------\u001b[0m",
      "\u001b[0;31mValueError\u001b[0m                                Traceback (most recent call last)",
      "Input \u001b[0;32mIn [7]\u001b[0m, in \u001b[0;36m<cell line: 1>\u001b[0;34m()\u001b[0m\n\u001b[0;32m----> 1\u001b[0m (ax,startTimeDT,endTimeDT,day_str2) \u001b[38;5;241m=\u001b[39m \u001b[43mfunctions\u001b[49m\u001b[38;5;241;43m.\u001b[39;49m\u001b[43msst_map_SMODE\u001b[49m\u001b[43m(\u001b[49m\u001b[43murl\u001b[49m\u001b[43m,\u001b[49m\u001b[43mzoom\u001b[49m\u001b[43m,\u001b[49m\u001b[43mV\u001b[49m\u001b[43m,\u001b[49m\u001b[43mtime_window\u001b[49m\u001b[43m)\u001b[49m\n",
      "File \u001b[0;32m~/Python/S-MODE_analysis/code_IOP1/functions.py:201\u001b[0m, in \u001b[0;36msst_map_SMODE\u001b[0;34m(url, zoom, V, time_window)\u001b[0m\n\u001b[1;32m    196\u001b[0m plot_IOP1_ops_area(ax,transform\u001b[38;5;241m=\u001b[39mccrs\u001b[38;5;241m.\u001b[39mPlateCarree(),color\u001b[38;5;241m=\u001b[39m\u001b[38;5;124m'\u001b[39m\u001b[38;5;124mk\u001b[39m\u001b[38;5;124m'\u001b[39m)\n\u001b[1;32m    198\u001b[0m \u001b[38;5;66;03m################################################\u001b[39;00m\n\u001b[1;32m    199\u001b[0m \u001b[38;5;66;03m## Now read in HF radar for appropriate time\u001b[39;00m\n\u001b[1;32m    200\u001b[0m \u001b[38;5;66;03m# This could easily be spun off into a seperate function\u001b[39;00m\n\u001b[0;32m--> 201\u001b[0m center_timeDT \u001b[38;5;241m=\u001b[39m \u001b[43mdatetime\u001b[49m\u001b[38;5;241;43m.\u001b[39;49m\u001b[43mdatetime\u001b[49m\u001b[38;5;241;43m.\u001b[39;49m\u001b[43mstrptime\u001b[49m\u001b[43m(\u001b[49m\u001b[38;5;28;43mstr\u001b[39;49m\u001b[43m(\u001b[49m\u001b[43msst\u001b[49m\u001b[38;5;241;43m.\u001b[39;49m\u001b[43mtime\u001b[49m\u001b[43m[\u001b[49m\u001b[38;5;241;43m0\u001b[39;49m\u001b[43m]\u001b[49m\u001b[38;5;241;43m.\u001b[39;49m\u001b[43mvalues\u001b[49m\u001b[43m)\u001b[49m\u001b[43m,\u001b[49m\u001b[38;5;124;43m'\u001b[39;49m\u001b[38;5;124;43m%\u001b[39;49m\u001b[38;5;124;43mY-\u001b[39;49m\u001b[38;5;124;43m%\u001b[39;49m\u001b[38;5;124;43mm-\u001b[39;49m\u001b[38;5;132;43;01m%d\u001b[39;49;00m\u001b[38;5;124;43m \u001b[39;49m\u001b[38;5;124;43m%\u001b[39;49m\u001b[38;5;124;43mH:\u001b[39;49m\u001b[38;5;124;43m%\u001b[39;49m\u001b[38;5;124;43mM:\u001b[39;49m\u001b[38;5;124;43m%\u001b[39;49m\u001b[38;5;124;43mS\u001b[39;49m\u001b[38;5;124;43m'\u001b[39;49m\u001b[43m)\u001b[49m \u001b[38;5;66;03m#time of SST image\u001b[39;00m\n\u001b[1;32m    202\u001b[0m \u001b[38;5;66;03m# Choose time interval\u001b[39;00m\n\u001b[1;32m    203\u001b[0m time_delta\u001b[38;5;241m=\u001b[39mdatetime\u001b[38;5;241m.\u001b[39mtimedelta(hours\u001b[38;5;241m=\u001b[39mtime_window\u001b[38;5;241m/\u001b[39m\u001b[38;5;241m2\u001b[39m)\n",
      "File \u001b[0;32m~/miniconda3/lib/python3.9/_strptime.py:568\u001b[0m, in \u001b[0;36m_strptime_datetime\u001b[0;34m(cls, data_string, format)\u001b[0m\n\u001b[1;32m    565\u001b[0m \u001b[38;5;28;01mdef\u001b[39;00m \u001b[38;5;21m_strptime_datetime\u001b[39m(\u001b[38;5;28mcls\u001b[39m, data_string, \u001b[38;5;28mformat\u001b[39m\u001b[38;5;241m=\u001b[39m\u001b[38;5;124m\"\u001b[39m\u001b[38;5;132;01m%a\u001b[39;00m\u001b[38;5;124m \u001b[39m\u001b[38;5;124m%\u001b[39m\u001b[38;5;124mb \u001b[39m\u001b[38;5;132;01m%d\u001b[39;00m\u001b[38;5;124m \u001b[39m\u001b[38;5;124m%\u001b[39m\u001b[38;5;124mH:\u001b[39m\u001b[38;5;124m%\u001b[39m\u001b[38;5;124mM:\u001b[39m\u001b[38;5;124m%\u001b[39m\u001b[38;5;124mS \u001b[39m\u001b[38;5;124m%\u001b[39m\u001b[38;5;124mY\u001b[39m\u001b[38;5;124m\"\u001b[39m):\n\u001b[1;32m    566\u001b[0m     \u001b[38;5;124;03m\"\"\"Return a class cls instance based on the input string and the\u001b[39;00m\n\u001b[1;32m    567\u001b[0m \u001b[38;5;124;03m    format string.\"\"\"\u001b[39;00m\n\u001b[0;32m--> 568\u001b[0m     tt, fraction, gmtoff_fraction \u001b[38;5;241m=\u001b[39m \u001b[43m_strptime\u001b[49m\u001b[43m(\u001b[49m\u001b[43mdata_string\u001b[49m\u001b[43m,\u001b[49m\u001b[43m \u001b[49m\u001b[38;5;28;43mformat\u001b[39;49m\u001b[43m)\u001b[49m\n\u001b[1;32m    569\u001b[0m     tzname, gmtoff \u001b[38;5;241m=\u001b[39m tt[\u001b[38;5;241m-\u001b[39m\u001b[38;5;241m2\u001b[39m:]\n\u001b[1;32m    570\u001b[0m     args \u001b[38;5;241m=\u001b[39m tt[:\u001b[38;5;241m6\u001b[39m] \u001b[38;5;241m+\u001b[39m (fraction,)\n",
      "File \u001b[0;32m~/miniconda3/lib/python3.9/_strptime.py:349\u001b[0m, in \u001b[0;36m_strptime\u001b[0;34m(data_string, format)\u001b[0m\n\u001b[1;32m    347\u001b[0m found \u001b[38;5;241m=\u001b[39m format_regex\u001b[38;5;241m.\u001b[39mmatch(data_string)\n\u001b[1;32m    348\u001b[0m \u001b[38;5;28;01mif\u001b[39;00m \u001b[38;5;129;01mnot\u001b[39;00m found:\n\u001b[0;32m--> 349\u001b[0m     \u001b[38;5;28;01mraise\u001b[39;00m \u001b[38;5;167;01mValueError\u001b[39;00m(\u001b[38;5;124m\"\u001b[39m\u001b[38;5;124mtime data \u001b[39m\u001b[38;5;132;01m%r\u001b[39;00m\u001b[38;5;124m does not match format \u001b[39m\u001b[38;5;132;01m%r\u001b[39;00m\u001b[38;5;124m\"\u001b[39m \u001b[38;5;241m%\u001b[39m\n\u001b[1;32m    350\u001b[0m                      (data_string, \u001b[38;5;28mformat\u001b[39m))\n\u001b[1;32m    351\u001b[0m \u001b[38;5;28;01mif\u001b[39;00m \u001b[38;5;28mlen\u001b[39m(data_string) \u001b[38;5;241m!=\u001b[39m found\u001b[38;5;241m.\u001b[39mend():\n\u001b[1;32m    352\u001b[0m     \u001b[38;5;28;01mraise\u001b[39;00m \u001b[38;5;167;01mValueError\u001b[39;00m(\u001b[38;5;124m\"\u001b[39m\u001b[38;5;124munconverted data remains: \u001b[39m\u001b[38;5;132;01m%s\u001b[39;00m\u001b[38;5;124m\"\u001b[39m \u001b[38;5;241m%\u001b[39m\n\u001b[1;32m    353\u001b[0m                       data_string[found\u001b[38;5;241m.\u001b[39mend():])\n",
      "\u001b[0;31mValueError\u001b[0m: time data '2022-09-21T10:10:00.000000000' does not match format '%Y-%m-%d %H:%M:%S'"
     ]
    }
   ],
   "source": [
    "(ax,startTimeDT,endTimeDT,day_str2) = functions.sst_map_SMODE(url,zoom,V,time_window)"
   ]
  },
  {
   "cell_type": "code",
   "execution_count": null,
   "metadata": {},
   "outputs": [],
   "source": [
    "\n",
    "'''# Add a 10 km scale bar\n",
    "km_per_deg_lat=gsw.geostrophy.distance((125,125), (37,38))/1000\n",
    "deg_lat_equal_10km=10/km_per_deg_lat\n",
    "x0 = -125\n",
    "y0 = 37.75\n",
    "ax.plot(x0+np.asarray([0, 0]),y0+np.asarray([0.,deg_lat_equal_10km]),transform=ccrs.PlateCarree(),color='k')\n",
    "ax.text(x0+2/60, y0-.5/60, '10 km', fontsize=6,transform=ccrs.PlateCarree())\n",
    "''';"
   ]
  },
  {
   "cell_type": "code",
   "execution_count": null,
   "metadata": {},
   "outputs": [],
   "source": [
    "'''saildrones=functions.get_current_position('saildrone')#,'ko', markersize=3,transform=ccrs.PlateCarree())\n",
    "hSD = ax.plot(saildrones['longitude'],saildrones['latitude'],'wo',markersize=5,transform=ccrs.PlateCarree())\n",
    "wg=functions.get_current_position('waveglider')#,'ko', markersize=3,transform=ccrs.PlateCarree())\n",
    "hWG = ax.plot(wg['longitude'],wg['latitude'],'mo',markersize=5,transform=ccrs.PlateCarree())''';"
   ]
  },
  {
   "cell_type": "code",
   "execution_count": null,
   "metadata": {},
   "outputs": [],
   "source": [
    "if savefig:\n",
    "    plt.savefig(__figdir__+'SST_UV_' + day_str2 + zoom_str + '_' + f'{time_window:.0f}' + 'hr' + '.' +plotfiletype,**savefig_args)"
   ]
  },
  {
   "cell_type": "code",
   "execution_count": null,
   "metadata": {},
   "outputs": [],
   "source": [
    "plt.rcParams['savefig.dpi']"
   ]
  },
  {
   "cell_type": "code",
   "execution_count": null,
   "metadata": {},
   "outputs": [],
   "source": [
    "plt.rcParams['figure.figsize'] "
   ]
  },
  {
   "cell_type": "markdown",
   "metadata": {},
   "source": [
    "# Now read in locations of in situ platforms"
   ]
  },
  {
   "cell_type": "code",
   "execution_count": null,
   "metadata": {},
   "outputs": [],
   "source": [
    "BASE_URL = 'http://smode.whoi.edu:8080/thredds/dodsC/insitu/'\n",
    "\n",
    "saildrones = {\n",
    "    'type': 'sd',\n",
    "    'ids': ['1072','1073','1062','1075','1074'],\n",
    "    'URL': BASE_URL + 'saildrone/',\n",
    "    'rename_database' : {\n",
    "    'sbe37_practical_salinity_filtered': 'salinity',\n",
    "    'sbe37_temperature_filtered': 'temperature',\n",
    "    'water_velocity_east': 'u',\n",
    "    'water_velocity_north': 'v',\n",
    "    },\n",
    "}\n",
    "\n",
    "wavegliders = {\n",
    "    'type': 'wg',\n",
    "    'ids': ['KELVIN','STOKES','SV3'],\n",
    "    'URL': BASE_URL + 'waveglider/',\n",
    "    'rename_database': {\n",
    "        'longitude_1hz_Avg': 'longitude',\n",
    "        'latitude_1hz_Avg': 'latitude',\n",
    "        'uctd_temp_Avg':  'temperature',\n",
    "        'uctd_cond_Avg': 'conductivity',\n",
    "    }\n",
    "}\n",
    "\n",
    "oceanus = {\n",
    "    'type': 'RV',\n",
    "    'ids': ['oceanus'],\n",
    "    'URL': BASE_URL + 'Oceanus/',\n",
    "    'rename_database':{\n",
    "        'tsg_flth_temperature': 'temperature',\n",
    "        'tsg_flth_salinity': 'salinity',\n",
    "        'gnss_gga_bow_longitude': 'longitude',\n",
    "        'gnss_gga_bow_latitude': 'latitude',\n",
    "    }\n",
    "}"
   ]
  },
  {
   "cell_type": "code",
   "execution_count": null,
   "metadata": {},
   "outputs": [],
   "source": [
    "type(oceanus)"
   ]
  },
  {
   "cell_type": "code",
   "execution_count": null,
   "metadata": {},
   "outputs": [],
   "source": [
    "# oceanus\n",
    "filename = 'cur_obs.nc'\n",
    "ds = xr.open_dataset(oceanus['URL'] + filename).sel(time=slice(startTimeDT,endTimeDT))\n",
    "ds = ds.rename(oceanus['rename_database'])\n",
    "ds = ds.assign_coords({'longitude': ds.longitude,\n",
    "                       'latitude': ds.latitude\n",
    "                      }\n",
    ")\n",
    "rv_oceanus = ds"
   ]
  },
  {
   "cell_type": "code",
   "execution_count": null,
   "metadata": {},
   "outputs": [],
   "source": [
    "startTimeDT.strftime(\"%Y-%m-%d\")"
   ]
  },
  {
   "cell_type": "code",
   "execution_count": null,
   "metadata": {},
   "outputs": [],
   "source": [
    "# wavegliders\n",
    "for wg in ['KELVIN']:\n",
    "    \n",
    "    if wg == 'SV3':\n",
    "#         !wget http://smode.whoi.edu:8080/thredds/catalog/insitu/waveglider/catalog.html?dataset=insitu/waveglider/SV3-1043_PLD2_TAB1.nc\n",
    "        filename =  wg + '-1043_PLD2_TAB1.nc'\n",
    "        ds = xr.open_dataset(wavegliders['URL'] + filename).sel(time=slice(startTimeDT,endTimeDT))\n",
    "\n",
    "    else:\n",
    "        filename = wg + '_PLD2_TAB1.nc'\n",
    "        ds = xr.open_dataset(wavegliders['URL'] + filename).sel(time=slice(startTimeDT,endTimeDT))\n",
    "    \n",
    "    \n",
    "    ds = ds.rename(wavegliders['rename_database'])\n",
    "    ds = ds.assign_coords({'longitude': ds.longitude,\n",
    "                           'latitude': ds.latitude\n",
    "                          }\n",
    "    )\n",
    "    \n",
    "    ds['salinity'] = gsw.SP_from_C(ds['conductivity']*10, # S/m to mS/cm\n",
    "                                   ds['temperature'],p=2)\n",
    "    \n",
    "    exec('wg_'+wg+\" = ds\")"
   ]
  },
  {
   "cell_type": "code",
   "execution_count": null,
   "metadata": {},
   "outputs": [],
   "source": [
    "wg"
   ]
  },
  {
   "cell_type": "code",
   "execution_count": null,
   "metadata": {},
   "outputs": [],
   "source": [
    "ax.plot(rv_oceanus.longitude, rv_oceanus.latitude,'k', transform=ccrs.PlateCarree())\n",
    "\n",
    "for wg in ['KELVIN']:\n",
    "    exec('ds = '+'wg_' + wg)\n",
    "    ax.plot(ds.longitude, ds.latitude,'m', transform=ccrs.PlateCarree())\n",
    "\n",
    "'''for sd in saildrones['ids']:\n",
    "    exec('ds = ' + 'sd_' + sd)\n",
    "    ax.plot(ds.longitude, ds.latitude,'y', transform=ccrs.PlateCarree())\n",
    "'''\n",
    "h_Oceanus = matplotlib.patches.Patch(color='k', label='The red data')\n",
    "h_wg = matplotlib.patches.Patch(color='m', label='The red data')\n",
    "ax.legend([h_Oceanus,h_wg],['RV $\\it{Oceanus}$', 'Wave Gliders'], loc ='lower left')"
   ]
  },
  {
   "cell_type": "code",
   "execution_count": null,
   "metadata": {},
   "outputs": [],
   "source": [
    "if savefig:\n",
    "    plt.savefig(__figdir__+'SST_UV_' + day_str2 + zoom_str + '_' + f'{time_window:.0f}' + 'hr' + '.' +plotfiletype,**savefig_args)"
   ]
  },
  {
   "cell_type": "code",
   "execution_count": null,
   "metadata": {},
   "outputs": [],
   "source": []
  }
 ],
 "metadata": {
  "kernelspec": {
   "display_name": "Python 3 (ipykernel)",
   "language": "python",
   "name": "python3"
  },
  "language_info": {
   "codemirror_mode": {
    "name": "ipython",
    "version": 3
   },
   "file_extension": ".py",
   "mimetype": "text/x-python",
   "name": "python",
   "nbconvert_exporter": "python",
   "pygments_lexer": "ipython3",
   "version": "3.9.7"
  }
 },
 "nbformat": 4,
 "nbformat_minor": 4
}
