{
 "cells": [
  {
   "cell_type": "markdown",
   "id": "a0a672d4-311d-4c4e-974c-44332a22b666",
   "metadata": {},
   "source": [
    "# Download, plot near-real-time DUACS SSH product\n",
    "\n",
    "Tom Farrar, started 10/9/2022\n",
    "\n",
    "* Download with motuclient\n",
    "* Plot latest map\n",
    "* make movie of longer time\n",
    "* extract U, V time series at some point"
   ]
  },
  {
   "cell_type": "code",
   "execution_count": 1,
   "id": "418270e4-903a-4aa2-990f-8a2e13f98a6d",
   "metadata": {},
   "outputs": [],
   "source": [
    "import xarray as xr\n",
    "import numpy as np\n",
    "import matplotlib.pyplot as plt\n",
    "import matplotlib\n",
    "\n",
    "import functions  # requires functions.py from this directory\n",
    "import cartopy.crs as ccrs                   # import projections\n",
    "import cartopy\n",
    "import gsw\n",
    "# import cftime\n"
   ]
  },
  {
   "cell_type": "code",
   "execution_count": null,
   "id": "3e59097e-7a55-4527-a4df-ee7d309c9845",
   "metadata": {},
   "outputs": [],
   "source": []
  },
  {
   "cell_type": "code",
   "execution_count": 2,
   "id": "9220fc7a-b94e-4a2c-be45-d2161d8c25b9",
   "metadata": {},
   "outputs": [],
   "source": [
    "# %matplotlib inline  \n",
    "%matplotlib qt5  \n",
    "plt.rcParams['figure.figsize'] = (5,4)\n",
    "plt.rcParams['figure.dpi'] = 200\n",
    "plt.rcParams['savefig.dpi'] = 400\n",
    "plt.close('all')\n",
    "\n",
    "__figdir__ = '../plots/' + 'SSH_plots/'\n",
    "savefig_args = {'bbox_inches':'tight', 'pad_inches':0.2}\n",
    "plotfiletype='png'"
   ]
  },
  {
   "cell_type": "code",
   "execution_count": 3,
   "id": "07d5f495-977b-4b09-9673-43e7a0153499",
   "metadata": {},
   "outputs": [],
   "source": [
    "savefig = True\n",
    "zoom = False\n",
    "if zoom:\n",
    "    xmin, xmax = (-126,-121)\n",
    "    ymin, ymax = (36.25,38.5)\n",
    "    levels = np.linspace(-.2,.2,41)\n",
    "else:\n",
    "    xmin, xmax = (-131,-121)\n",
    "    ymin, ymax = (34, 43)\n",
    "    levels = np.linspace(-.3,.3,41)"
   ]
  },
  {
   "cell_type": "code",
   "execution_count": 4,
   "id": "8807f746-b8d9-43f3-9caf-b4c1cfd963e3",
   "metadata": {},
   "outputs": [
    {
     "name": "stdout",
     "output_type": "stream",
     "text": [
      "2022-10-24 06:24:15.247 [ INFO] Asynchronous mode set\n",
      "2022-10-24 06:24:15.247 [ INFO] Authenticating user tfarrar1 for service https://nrt.cmems-du.eu/motu-web/Motu\n",
      "2022-10-24 06:24:18.043 [ INFO] Requesting file to download (this can take a while)...\n",
      "2022-10-24 06:24:24.481 [ INFO] Authenticating user tfarrar1 for service https://nrt.cmems-du.eu/motu-web/Motu\n",
      "2022-10-24 06:24:32.356 [ INFO] Product is not yet available (request in progress)\n",
      "2022-10-24 06:24:42.367 [ INFO] Authenticating user tfarrar1 for service https://nrt.cmems-du.eu/motu-web/Motu\n",
      "2022-10-24 06:24:50.729 [ INFO] The product is ready for download\n",
      "2022-10-24 06:24:50.729 [ INFO] Downloading file (this can take a while)...\n",
      "2022-10-24 06:24:51.180 [ INFO] File type: application/x-netcdf\n",
      "2022-10-24 06:24:51.180 [ INFO] File size: 83.6 MB (83638944 B)\n",
      "2022-10-24 06:24:51.180 [ INFO] Downloading file /home/jtomf/Python/S-MODE_analysis/data/external/aviso2.nc\n",
      "2022-10-24 06:24:53.332 [ INFO] -  83.6 MB (1.0%)\n",
      "2022-10-24 06:24:55.628 [ INFO] -  83.6 MB (2.0%)\n",
      "2022-10-24 06:24:57.778 [ INFO] -  83.6 MB (3.1%)\n",
      "2022-10-24 06:24:59.831 [ INFO] -  83.6 MB (4.1%)\n",
      "2022-10-24 06:25:01.455 [ INFO] -  83.6 MB (5.1%)\n",
      "2022-10-24 06:25:02.612 [ INFO] -  83.6 MB (6.1%)\n",
      "2022-10-24 06:25:03.741 [ INFO] -  83.6 MB (7.1%)\n",
      "2022-10-24 06:25:04.719 [ INFO] -  83.6 MB (8.1%)\n",
      "2022-10-24 06:25:05.698 [ INFO] -  83.6 MB (9.2%)\n",
      "2022-10-24 06:25:06.676 [ INFO] -  83.6 MB (10.2%)\n",
      "2022-10-24 06:25:07.753 [ INFO] -  83.6 MB (11.2%)\n",
      "2022-10-24 06:25:08.830 [ INFO] -  83.6 MB (12.2%)\n",
      "2022-10-24 06:25:09.968 [ INFO] -  83.6 MB (13.2%)\n",
      "2022-10-24 06:25:11.141 [ INFO] -  83.6 MB (14.3%)\n",
      "2022-10-24 06:25:12.385 [ INFO] -  83.6 MB (15.3%)\n",
      "2022-10-24 06:25:14.047 [ INFO] -  83.6 MB (16.3%)\n",
      "2022-10-24 06:25:15.808 [ INFO] -  83.6 MB (17.3%)\n",
      "2022-10-24 06:25:17.831 [ INFO] -  83.6 MB (18.3%)\n",
      "2022-10-24 06:25:19.915 [ INFO] -  83.6 MB (19.4%)\n",
      "2022-10-24 06:25:21.641 [ INFO] -  83.6 MB (20.4%)\n",
      "2022-10-24 06:25:22.847 [ INFO] -  83.6 MB (21.4%)\n",
      "2022-10-24 06:25:23.729 [ INFO] -  83.6 MB (22.4%)\n",
      "2022-10-24 06:25:25.020 [ INFO] -  83.6 MB (23.4%)\n",
      "2022-10-24 06:25:26.271 [ INFO] -  83.6 MB (24.4%)\n",
      "2022-10-24 06:25:27.445 [ INFO] -  83.6 MB (25.5%)\n",
      "2022-10-24 06:25:28.638 [ INFO] -  83.6 MB (26.5%)\n",
      "2022-10-24 06:25:30.186 [ INFO] -  83.6 MB (27.5%)\n",
      "2022-10-24 06:25:31.752 [ INFO] -  83.6 MB (28.5%)\n",
      "2022-10-24 06:25:33.221 [ INFO] -  83.6 MB (29.5%)\n",
      "2022-10-24 06:25:34.983 [ INFO] -  83.6 MB (30.6%)\n",
      "2022-10-24 06:25:36.737 [ INFO] -  83.6 MB (31.6%)\n",
      "2022-10-24 06:25:38.259 [ INFO] -  83.6 MB (32.6%)\n",
      "2022-10-24 06:25:39.779 [ INFO] -  83.6 MB (33.6%)\n",
      "2022-10-24 06:25:41.530 [ INFO] -  83.6 MB (34.6%)\n",
      "2022-10-24 06:25:43.241 [ INFO] -  83.6 MB (35.7%)\n",
      "2022-10-24 06:25:44.762 [ INFO] -  83.6 MB (36.7%)\n",
      "2022-10-24 06:25:46.623 [ INFO] -  83.6 MB (37.7%)\n",
      "2022-10-24 06:25:48.578 [ INFO] -  83.6 MB (38.7%)\n",
      "2022-10-24 06:25:50.437 [ INFO] -  83.6 MB (39.7%)\n",
      "2022-10-24 06:25:52.044 [ INFO] -  83.6 MB (40.7%)\n",
      "2022-10-24 06:25:53.569 [ INFO] -  83.6 MB (41.8%)\n",
      "2022-10-24 06:25:54.879 [ INFO] -  83.6 MB (42.8%)\n",
      "2022-10-24 06:25:56.208 [ INFO] -  83.6 MB (43.8%)\n",
      "2022-10-24 06:25:57.478 [ INFO] -  83.6 MB (44.8%)\n",
      "2022-10-24 06:25:58.554 [ INFO] -  83.6 MB (45.8%)\n",
      "2022-10-24 06:25:59.773 [ INFO] -  83.6 MB (46.9%)\n",
      "2022-10-24 06:26:00.803 [ INFO] -  83.6 MB (47.9%)\n",
      "2022-10-24 06:26:01.929 [ INFO] -  83.6 MB (48.9%)\n",
      "2022-10-24 06:26:03.038 [ INFO] -  83.6 MB (49.9%)\n",
      "2022-10-24 06:26:04.067 [ INFO] -  83.6 MB (50.9%)\n",
      "2022-10-24 06:26:05.060 [ INFO] -  83.6 MB (51.9%)\n",
      "2022-10-24 06:26:06.275 [ INFO] -  83.6 MB (53.0%)\n",
      "2022-10-24 06:26:07.309 [ INFO] -  83.6 MB (54.0%)\n",
      "2022-10-24 06:26:08.327 [ INFO] -  83.6 MB (55.0%)\n",
      "2022-10-24 06:26:09.545 [ INFO] -  83.6 MB (56.0%)\n",
      "2022-10-24 06:26:10.533 [ INFO] -  83.6 MB (57.0%)\n",
      "2022-10-24 06:26:11.540 [ INFO] -  83.6 MB (58.1%)\n",
      "2022-10-24 06:26:12.518 [ INFO] -  83.6 MB (59.1%)\n",
      "2022-10-24 06:26:13.556 [ INFO] -  83.6 MB (60.1%)\n",
      "2022-10-24 06:26:14.730 [ INFO] -  83.6 MB (61.1%)\n",
      "2022-10-24 06:26:15.713 [ INFO] -  83.6 MB (62.1%)\n",
      "2022-10-24 06:26:16.687 [ INFO] -  83.6 MB (63.2%)\n",
      "2022-10-24 06:26:17.947 [ INFO] -  83.6 MB (64.2%)\n",
      "2022-10-24 06:26:19.366 [ INFO] -  83.6 MB (65.2%)\n",
      "2022-10-24 06:26:20.995 [ INFO] -  83.6 MB (66.2%)\n",
      "2022-10-24 06:26:22.593 [ INFO] -  83.6 MB (67.2%)\n",
      "2022-10-24 06:26:24.453 [ INFO] -  83.6 MB (68.2%)\n",
      "2022-10-24 06:26:26.272 [ INFO] -  83.6 MB (69.3%)\n",
      "2022-10-24 06:26:28.073 [ INFO] -  83.6 MB (70.3%)\n",
      "2022-10-24 06:26:29.835 [ INFO] -  83.6 MB (71.3%)\n",
      "2022-10-24 06:26:31.551 [ INFO] -  83.6 MB (72.3%)\n",
      "2022-10-24 06:26:33.160 [ INFO] -  83.6 MB (73.3%)\n",
      "2022-10-24 06:26:34.721 [ INFO] -  83.6 MB (74.4%)\n",
      "2022-10-24 06:26:36.038 [ INFO] -  83.6 MB (75.4%)\n",
      "2022-10-24 06:26:37.659 [ INFO] -  83.6 MB (76.4%)\n",
      "2022-10-24 06:26:39.326 [ INFO] -  83.6 MB (77.4%)\n",
      "2022-10-24 06:26:40.989 [ INFO] -  83.6 MB (78.4%)\n",
      "2022-10-24 06:26:42.295 [ INFO] -  83.6 MB (79.5%)\n",
      "2022-10-24 06:26:43.273 [ INFO] -  83.6 MB (80.5%)\n",
      "2022-10-24 06:26:44.840 [ INFO] -  83.6 MB (81.5%)\n",
      "2022-10-24 06:26:46.992 [ INFO] -  83.6 MB (82.5%)\n",
      "2022-10-24 06:26:48.992 [ INFO] -  83.6 MB (83.5%)\n",
      "2022-10-24 06:26:50.614 [ INFO] -  83.6 MB (84.5%)\n",
      "2022-10-24 06:26:51.827 [ INFO] -  83.6 MB (85.6%)\n",
      "2022-10-24 06:26:53.001 [ INFO] -  83.6 MB (86.6%)\n",
      "2022-10-24 06:26:54.244 [ INFO] -  83.6 MB (87.6%)\n",
      "2022-10-24 06:26:55.446 [ INFO] -  83.6 MB (88.6%)\n",
      "2022-10-24 06:26:56.690 [ INFO] -  83.6 MB (89.6%)\n",
      "2022-10-24 06:26:57.992 [ INFO] -  83.6 MB (90.7%)\n",
      "2022-10-24 06:26:59.462 [ INFO] -  83.6 MB (91.7%)\n",
      "2022-10-24 06:27:01.028 [ INFO] -  83.6 MB (92.7%)\n",
      "2022-10-24 06:27:02.594 [ INFO] -  83.6 MB (93.7%)\n",
      "2022-10-24 06:27:04.062 [ INFO] -  83.6 MB (94.7%)\n",
      "2022-10-24 06:27:05.435 [ INFO] -  83.6 MB (95.8%)\n",
      "2022-10-24 06:27:06.741 [ INFO] -  83.6 MB (96.8%)\n",
      "2022-10-24 06:27:08.469 [ INFO] -  83.6 MB (97.8%)\n",
      "2022-10-24 06:27:10.596 [ INFO] -  83.6 MB (98.8%)\n",
      "2022-10-24 06:27:12.676 [ INFO] -  83.6 MB (99.8%)\n",
      "2022-10-24 06:27:13.009 [ INFO] -  83.6 MB (100.0%)\n",
      "2022-10-24 06:27:13.010 [ INFO] Processing  time : 0:00:35.933513\n",
      "2022-10-24 06:27:13.010 [ INFO] Downloading time : 0:02:21.829500\n",
      "2022-10-24 06:27:13.010 [ INFO] Total time       : 0:02:57.763013\n",
      "2022-10-24 06:27:13.010 [ INFO] Download rate    : 587.8 kB/s\n",
      "2022-10-24 06:27:13.017 [ INFO] Done\n"
     ]
    }
   ],
   "source": [
    "# A shell script using the motuclient, https://help.marine.copernicus.eu/en/articles/4796533-what-are-the-motu-client-motuclient-and-python-requirements\n",
    "\n",
    "! bash ~/download_aviso.sh\n"
   ]
  },
  {
   "cell_type": "code",
   "execution_count": 5,
   "id": "6487e192-7ed7-4a35-a5d2-9711df73a333",
   "metadata": {},
   "outputs": [],
   "source": [
    "def plot_SSH_map(tind):\n",
    "    plt.clf()\n",
    "    ax = plt.axes(projection = ccrs.PlateCarree(central_longitude=200))  # Orthographic\n",
    "    extent = [xmin, xmax, ymin, ymax]\n",
    "    day_str = np.datetime_as_string(ds.time[tind], unit='D')\n",
    "    ax.set_extent(extent, crs=ccrs.PlateCarree())\n",
    "    ax.set_title('Sea level anomaly (DUACS), '+ day_str,size = 10.)\n",
    "\n",
    "    #plt.set_cmap(cmap=plt.get_cmap('nipy_spectral'))\n",
    "    plt.set_cmap(cmap=plt.get_cmap('turbo'))\n",
    "    gl = ax.gridlines(draw_labels=True, dms=True, x_inline=False, y_inline=False, alpha=0.5, linestyle='--')\n",
    "    gl.top_labels = False\n",
    "    gl.right_labels = False\n",
    "    #gl.xlocator = matplotlib.ticker.MaxNLocator(10)\n",
    "    #gl.xlocator = matplotlib.ticker.AutoLocator\n",
    "    # gl.xlocator = matplotlib.ticker.FixedLocator(np.arange(0, 360 ,30))\n",
    "\n",
    "    cs = ax.contourf(ds.longitude,ds.latitude,np.squeeze(ds.sla.isel(time=tind)), levels, extend='both', transform=ccrs.PlateCarree())\n",
    "    # cs = ax.pcolormesh(ds.longitude,ds.latitude,np.squeeze(ds.sla), vmin=levels[0], vmax=levels[-1], transform=ccrs.PlateCarree())\n",
    "    # cb = plt.colorbar(cs,ax=ax,shrink=.8,pad=.05)\n",
    "    cb = plt.colorbar(cs,fraction = 0.022,extend='both')\n",
    "    cb.set_label('SLA [m]',fontsize = 10)\n",
    "    ax.coastlines()\n",
    "    ax.add_feature(cartopy.feature.LAND, zorder=3, facecolor=[.6,.6,.6], edgecolor='black')\n",
    "\n",
    "    functions.plot_ops_area(ax,transform=ccrs.PlateCarree(),color='w')\n",
    "\n",
    "    # Add a 10 km scale bar\n",
    "    km_per_deg_lat=gsw.geostrophy.distance((121.7,121.7), (37,38))/1000\n",
    "    deg_lat_equal_10km=10/km_per_deg_lat\n",
    "    x0 = -122 \n",
    "    y0 = 37\n",
    "    ax.plot(x0+np.asarray([0, 0]),y0+np.asarray([0.,deg_lat_equal_10km[0]]),transform=ccrs.PlateCarree(),color='k',zorder=3)\n",
    "    ax.text(x0+1/60, y0+.15/60, '10 km', fontsize=6,transform=ccrs.PlateCarree())\n",
    "\n",
    "    u = np.squeeze(ds.ugos.isel(time=tind)) #dtype=object\n",
    "    v = np.squeeze(ds.vgos.isel(time=tind))\n",
    "    ax.quiver(ds.longitude.values,ds.latitude.values, u.values, v.values,  scale=5, transform=ccrs.PlateCarree())\n",
    "    x0 = -122.5 \n",
    "    y0 = 38.5\n",
    "    ax.quiver(np.array([x0]), np.array([y0]), -np.array([0.25/np.sqrt(2)],), np.array([0.25/np.sqrt(2)]), scale=3, transform=ccrs.PlateCarree(),zorder=3)\n",
    "    ax.text(x0+3/60, y0+.15/60, '0.25 m/s', fontsize=6,transform=ccrs.PlateCarree())\n",
    "\n",
    "    if savefig:\n",
    "        plt.savefig(__figdir__+'SLA'+str(tind)+'.'+plotfiletype,**savefig_args)"
   ]
  },
  {
   "cell_type": "code",
   "execution_count": 6,
   "id": "e3789af1-35d3-4367-94f6-47ac9edfef15",
   "metadata": {},
   "outputs": [],
   "source": [
    "# url = 'https://nrt.cmems-du.eu/thredds/dodsC/dataset-duacs-nrt-global-merged-allsat-phy-l4'\n",
    "file = '../data/external/aviso2.nc'\n",
    "ds = xr.open_dataset(file)"
   ]
  },
  {
   "cell_type": "code",
   "execution_count": 7,
   "id": "1a31de4d-fc35-4885-940e-b987743d0bbb",
   "metadata": {},
   "outputs": [
    {
     "data": {
      "text/html": [
       "<div><svg style=\"position: absolute; width: 0; height: 0; overflow: hidden\">\n",
       "<defs>\n",
       "<symbol id=\"icon-database\" viewBox=\"0 0 32 32\">\n",
       "<path d=\"M16 0c-8.837 0-16 2.239-16 5v4c0 2.761 7.163 5 16 5s16-2.239 16-5v-4c0-2.761-7.163-5-16-5z\"></path>\n",
       "<path d=\"M16 17c-8.837 0-16-2.239-16-5v6c0 2.761 7.163 5 16 5s16-2.239 16-5v-6c0 2.761-7.163 5-16 5z\"></path>\n",
       "<path d=\"M16 26c-8.837 0-16-2.239-16-5v6c0 2.761 7.163 5 16 5s16-2.239 16-5v-6c0 2.761-7.163 5-16 5z\"></path>\n",
       "</symbol>\n",
       "<symbol id=\"icon-file-text2\" viewBox=\"0 0 32 32\">\n",
       "<path d=\"M28.681 7.159c-0.694-0.947-1.662-2.053-2.724-3.116s-2.169-2.030-3.116-2.724c-1.612-1.182-2.393-1.319-2.841-1.319h-15.5c-1.378 0-2.5 1.121-2.5 2.5v27c0 1.378 1.122 2.5 2.5 2.5h23c1.378 0 2.5-1.122 2.5-2.5v-19.5c0-0.448-0.137-1.23-1.319-2.841zM24.543 5.457c0.959 0.959 1.712 1.825 2.268 2.543h-4.811v-4.811c0.718 0.556 1.584 1.309 2.543 2.268zM28 29.5c0 0.271-0.229 0.5-0.5 0.5h-23c-0.271 0-0.5-0.229-0.5-0.5v-27c0-0.271 0.229-0.5 0.5-0.5 0 0 15.499-0 15.5 0v7c0 0.552 0.448 1 1 1h7v19.5z\"></path>\n",
       "<path d=\"M23 26h-14c-0.552 0-1-0.448-1-1s0.448-1 1-1h14c0.552 0 1 0.448 1 1s-0.448 1-1 1z\"></path>\n",
       "<path d=\"M23 22h-14c-0.552 0-1-0.448-1-1s0.448-1 1-1h14c0.552 0 1 0.448 1 1s-0.448 1-1 1z\"></path>\n",
       "<path d=\"M23 18h-14c-0.552 0-1-0.448-1-1s0.448-1 1-1h14c0.552 0 1 0.448 1 1s-0.448 1-1 1z\"></path>\n",
       "</symbol>\n",
       "</defs>\n",
       "</svg>\n",
       "<style>/* CSS stylesheet for displaying xarray objects in jupyterlab.\n",
       " *\n",
       " */\n",
       "\n",
       ":root {\n",
       "  --xr-font-color0: var(--jp-content-font-color0, rgba(0, 0, 0, 1));\n",
       "  --xr-font-color2: var(--jp-content-font-color2, rgba(0, 0, 0, 0.54));\n",
       "  --xr-font-color3: var(--jp-content-font-color3, rgba(0, 0, 0, 0.38));\n",
       "  --xr-border-color: var(--jp-border-color2, #e0e0e0);\n",
       "  --xr-disabled-color: var(--jp-layout-color3, #bdbdbd);\n",
       "  --xr-background-color: var(--jp-layout-color0, white);\n",
       "  --xr-background-color-row-even: var(--jp-layout-color1, white);\n",
       "  --xr-background-color-row-odd: var(--jp-layout-color2, #eeeeee);\n",
       "}\n",
       "\n",
       "html[theme=dark],\n",
       "body.vscode-dark {\n",
       "  --xr-font-color0: rgba(255, 255, 255, 1);\n",
       "  --xr-font-color2: rgba(255, 255, 255, 0.54);\n",
       "  --xr-font-color3: rgba(255, 255, 255, 0.38);\n",
       "  --xr-border-color: #1F1F1F;\n",
       "  --xr-disabled-color: #515151;\n",
       "  --xr-background-color: #111111;\n",
       "  --xr-background-color-row-even: #111111;\n",
       "  --xr-background-color-row-odd: #313131;\n",
       "}\n",
       "\n",
       ".xr-wrap {\n",
       "  display: block;\n",
       "  min-width: 300px;\n",
       "  max-width: 700px;\n",
       "}\n",
       "\n",
       ".xr-text-repr-fallback {\n",
       "  /* fallback to plain text repr when CSS is not injected (untrusted notebook) */\n",
       "  display: none;\n",
       "}\n",
       "\n",
       ".xr-header {\n",
       "  padding-top: 6px;\n",
       "  padding-bottom: 6px;\n",
       "  margin-bottom: 4px;\n",
       "  border-bottom: solid 1px var(--xr-border-color);\n",
       "}\n",
       "\n",
       ".xr-header > div,\n",
       ".xr-header > ul {\n",
       "  display: inline;\n",
       "  margin-top: 0;\n",
       "  margin-bottom: 0;\n",
       "}\n",
       "\n",
       ".xr-obj-type,\n",
       ".xr-array-name {\n",
       "  margin-left: 2px;\n",
       "  margin-right: 10px;\n",
       "}\n",
       "\n",
       ".xr-obj-type {\n",
       "  color: var(--xr-font-color2);\n",
       "}\n",
       "\n",
       ".xr-sections {\n",
       "  padding-left: 0 !important;\n",
       "  display: grid;\n",
       "  grid-template-columns: 150px auto auto 1fr 20px 20px;\n",
       "}\n",
       "\n",
       ".xr-section-item {\n",
       "  display: contents;\n",
       "}\n",
       "\n",
       ".xr-section-item input {\n",
       "  display: none;\n",
       "}\n",
       "\n",
       ".xr-section-item input + label {\n",
       "  color: var(--xr-disabled-color);\n",
       "}\n",
       "\n",
       ".xr-section-item input:enabled + label {\n",
       "  cursor: pointer;\n",
       "  color: var(--xr-font-color2);\n",
       "}\n",
       "\n",
       ".xr-section-item input:enabled + label:hover {\n",
       "  color: var(--xr-font-color0);\n",
       "}\n",
       "\n",
       ".xr-section-summary {\n",
       "  grid-column: 1;\n",
       "  color: var(--xr-font-color2);\n",
       "  font-weight: 500;\n",
       "}\n",
       "\n",
       ".xr-section-summary > span {\n",
       "  display: inline-block;\n",
       "  padding-left: 0.5em;\n",
       "}\n",
       "\n",
       ".xr-section-summary-in:disabled + label {\n",
       "  color: var(--xr-font-color2);\n",
       "}\n",
       "\n",
       ".xr-section-summary-in + label:before {\n",
       "  display: inline-block;\n",
       "  content: '►';\n",
       "  font-size: 11px;\n",
       "  width: 15px;\n",
       "  text-align: center;\n",
       "}\n",
       "\n",
       ".xr-section-summary-in:disabled + label:before {\n",
       "  color: var(--xr-disabled-color);\n",
       "}\n",
       "\n",
       ".xr-section-summary-in:checked + label:before {\n",
       "  content: '▼';\n",
       "}\n",
       "\n",
       ".xr-section-summary-in:checked + label > span {\n",
       "  display: none;\n",
       "}\n",
       "\n",
       ".xr-section-summary,\n",
       ".xr-section-inline-details {\n",
       "  padding-top: 4px;\n",
       "  padding-bottom: 4px;\n",
       "}\n",
       "\n",
       ".xr-section-inline-details {\n",
       "  grid-column: 2 / -1;\n",
       "}\n",
       "\n",
       ".xr-section-details {\n",
       "  display: none;\n",
       "  grid-column: 1 / -1;\n",
       "  margin-bottom: 5px;\n",
       "}\n",
       "\n",
       ".xr-section-summary-in:checked ~ .xr-section-details {\n",
       "  display: contents;\n",
       "}\n",
       "\n",
       ".xr-array-wrap {\n",
       "  grid-column: 1 / -1;\n",
       "  display: grid;\n",
       "  grid-template-columns: 20px auto;\n",
       "}\n",
       "\n",
       ".xr-array-wrap > label {\n",
       "  grid-column: 1;\n",
       "  vertical-align: top;\n",
       "}\n",
       "\n",
       ".xr-preview {\n",
       "  color: var(--xr-font-color3);\n",
       "}\n",
       "\n",
       ".xr-array-preview,\n",
       ".xr-array-data {\n",
       "  padding: 0 5px !important;\n",
       "  grid-column: 2;\n",
       "}\n",
       "\n",
       ".xr-array-data,\n",
       ".xr-array-in:checked ~ .xr-array-preview {\n",
       "  display: none;\n",
       "}\n",
       "\n",
       ".xr-array-in:checked ~ .xr-array-data,\n",
       ".xr-array-preview {\n",
       "  display: inline-block;\n",
       "}\n",
       "\n",
       ".xr-dim-list {\n",
       "  display: inline-block !important;\n",
       "  list-style: none;\n",
       "  padding: 0 !important;\n",
       "  margin: 0;\n",
       "}\n",
       "\n",
       ".xr-dim-list li {\n",
       "  display: inline-block;\n",
       "  padding: 0;\n",
       "  margin: 0;\n",
       "}\n",
       "\n",
       ".xr-dim-list:before {\n",
       "  content: '(';\n",
       "}\n",
       "\n",
       ".xr-dim-list:after {\n",
       "  content: ')';\n",
       "}\n",
       "\n",
       ".xr-dim-list li:not(:last-child):after {\n",
       "  content: ',';\n",
       "  padding-right: 5px;\n",
       "}\n",
       "\n",
       ".xr-has-index {\n",
       "  font-weight: bold;\n",
       "}\n",
       "\n",
       ".xr-var-list,\n",
       ".xr-var-item {\n",
       "  display: contents;\n",
       "}\n",
       "\n",
       ".xr-var-item > div,\n",
       ".xr-var-item label,\n",
       ".xr-var-item > .xr-var-name span {\n",
       "  background-color: var(--xr-background-color-row-even);\n",
       "  margin-bottom: 0;\n",
       "}\n",
       "\n",
       ".xr-var-item > .xr-var-name:hover span {\n",
       "  padding-right: 5px;\n",
       "}\n",
       "\n",
       ".xr-var-list > li:nth-child(odd) > div,\n",
       ".xr-var-list > li:nth-child(odd) > label,\n",
       ".xr-var-list > li:nth-child(odd) > .xr-var-name span {\n",
       "  background-color: var(--xr-background-color-row-odd);\n",
       "}\n",
       "\n",
       ".xr-var-name {\n",
       "  grid-column: 1;\n",
       "}\n",
       "\n",
       ".xr-var-dims {\n",
       "  grid-column: 2;\n",
       "}\n",
       "\n",
       ".xr-var-dtype {\n",
       "  grid-column: 3;\n",
       "  text-align: right;\n",
       "  color: var(--xr-font-color2);\n",
       "}\n",
       "\n",
       ".xr-var-preview {\n",
       "  grid-column: 4;\n",
       "}\n",
       "\n",
       ".xr-var-name,\n",
       ".xr-var-dims,\n",
       ".xr-var-dtype,\n",
       ".xr-preview,\n",
       ".xr-attrs dt {\n",
       "  white-space: nowrap;\n",
       "  overflow: hidden;\n",
       "  text-overflow: ellipsis;\n",
       "  padding-right: 10px;\n",
       "}\n",
       "\n",
       ".xr-var-name:hover,\n",
       ".xr-var-dims:hover,\n",
       ".xr-var-dtype:hover,\n",
       ".xr-attrs dt:hover {\n",
       "  overflow: visible;\n",
       "  width: auto;\n",
       "  z-index: 1;\n",
       "}\n",
       "\n",
       ".xr-var-attrs,\n",
       ".xr-var-data {\n",
       "  display: none;\n",
       "  background-color: var(--xr-background-color) !important;\n",
       "  padding-bottom: 5px !important;\n",
       "}\n",
       "\n",
       ".xr-var-attrs-in:checked ~ .xr-var-attrs,\n",
       ".xr-var-data-in:checked ~ .xr-var-data {\n",
       "  display: block;\n",
       "}\n",
       "\n",
       ".xr-var-data > table {\n",
       "  float: right;\n",
       "}\n",
       "\n",
       ".xr-var-name span,\n",
       ".xr-var-data,\n",
       ".xr-attrs {\n",
       "  padding-left: 25px !important;\n",
       "}\n",
       "\n",
       ".xr-attrs,\n",
       ".xr-var-attrs,\n",
       ".xr-var-data {\n",
       "  grid-column: 1 / -1;\n",
       "}\n",
       "\n",
       "dl.xr-attrs {\n",
       "  padding: 0;\n",
       "  margin: 0;\n",
       "  display: grid;\n",
       "  grid-template-columns: 125px auto;\n",
       "}\n",
       "\n",
       ".xr-attrs dt,\n",
       ".xr-attrs dd {\n",
       "  padding: 0;\n",
       "  margin: 0;\n",
       "  float: left;\n",
       "  padding-right: 10px;\n",
       "  width: auto;\n",
       "}\n",
       "\n",
       ".xr-attrs dt {\n",
       "  font-weight: normal;\n",
       "  grid-column: 1;\n",
       "}\n",
       "\n",
       ".xr-attrs dt:hover span {\n",
       "  display: inline-block;\n",
       "  background: var(--xr-background-color);\n",
       "  padding-right: 10px;\n",
       "}\n",
       "\n",
       ".xr-attrs dd {\n",
       "  grid-column: 2;\n",
       "  white-space: pre-wrap;\n",
       "  word-break: break-all;\n",
       "}\n",
       "\n",
       ".xr-icon-database,\n",
       ".xr-icon-file-text2 {\n",
       "  display: inline-block;\n",
       "  vertical-align: middle;\n",
       "  width: 1em;\n",
       "  height: 1.5em !important;\n",
       "  stroke-width: 0;\n",
       "  stroke: currentColor;\n",
       "  fill: currentColor;\n",
       "}\n",
       "</style><pre class='xr-text-repr-fallback'>&lt;xarray.Dataset&gt;\n",
       "Dimensions:    (time: 436, latitude: 37, longitude: 81)\n",
       "Coordinates:\n",
       "  * latitude   (latitude) float32 33.88 34.12 34.38 34.62 ... 42.38 42.62 42.88\n",
       "  * time       (time) datetime64[ns] 2021-08-15 2021-08-16 ... 2022-10-24\n",
       "  * longitude  (longitude) float32 -140.1 -139.9 -139.6 ... -120.6 -120.4 -120.1\n",
       "Data variables:\n",
       "    adt        (time, latitude, longitude) float64 ...\n",
       "    ugos       (time, latitude, longitude) float64 ...\n",
       "    vgos       (time, latitude, longitude) float64 ...\n",
       "    vgosa      (time, latitude, longitude) float64 ...\n",
       "    crs        int32 -2147483647\n",
       "    err_vgosa  (time, latitude, longitude) float64 ...\n",
       "    err_ugosa  (time, latitude, longitude) float64 ...\n",
       "    sla        (time, latitude, longitude) float64 ...\n",
       "    ugosa      (time, latitude, longitude) float64 ...\n",
       "Attributes: (12/45)\n",
       "    Conventions:                                    CF-1.6\n",
       "    FROM_ORIGINAL_FILE__Metadata_Conventions:       Unidata Dataset Discovery...\n",
       "    cdm_data_type:                                  Grid\n",
       "    comment:                                        Sea Surface Height measur...\n",
       "    contact:                                        servicedesk.cmems@mercato...\n",
       "    creator_email:                                  servicedesk.cmems@mercato...\n",
       "    ...                                             ...\n",
       "    time_coverage_duration:                         P1D\n",
       "    time_coverage_end:                              2022-10-24T12:00:00Z\n",
       "    time_coverage_resolution:                       P1D\n",
       "    time_coverage_start:                            2022-10-23T12:00:00Z\n",
       "    title:                                          NRT merged all satellites...\n",
       "    _CoordSysBuilder:                               ucar.nc2.dataset.conv.CF1...</pre><div class='xr-wrap' hidden><div class='xr-header'><div class='xr-obj-type'>xarray.Dataset</div></div><ul class='xr-sections'><li class='xr-section-item'><input id='section-0ad09bc5-7475-4537-9186-3bc4b7883298' class='xr-section-summary-in' type='checkbox' disabled ><label for='section-0ad09bc5-7475-4537-9186-3bc4b7883298' class='xr-section-summary'  title='Expand/collapse section'>Dimensions:</label><div class='xr-section-inline-details'><ul class='xr-dim-list'><li><span class='xr-has-index'>time</span>: 436</li><li><span class='xr-has-index'>latitude</span>: 37</li><li><span class='xr-has-index'>longitude</span>: 81</li></ul></div><div class='xr-section-details'></div></li><li class='xr-section-item'><input id='section-8bed8989-ff8b-41a8-8cbd-6f5103425c5e' class='xr-section-summary-in' type='checkbox'  checked><label for='section-8bed8989-ff8b-41a8-8cbd-6f5103425c5e' class='xr-section-summary' >Coordinates: <span>(3)</span></label><div class='xr-section-inline-details'></div><div class='xr-section-details'><ul class='xr-var-list'><li class='xr-var-item'><div class='xr-var-name'><span class='xr-has-index'>latitude</span></div><div class='xr-var-dims'>(latitude)</div><div class='xr-var-dtype'>float32</div><div class='xr-var-preview xr-preview'>33.88 34.12 34.38 ... 42.62 42.88</div><input id='attrs-444b8a1a-a10d-4dd0-9ecc-12f87fc5a68e' class='xr-var-attrs-in' type='checkbox' ><label for='attrs-444b8a1a-a10d-4dd0-9ecc-12f87fc5a68e' title='Show/Hide attributes'><svg class='icon xr-icon-file-text2'><use xlink:href='#icon-file-text2'></use></svg></label><input id='data-97e016a3-ce33-4909-95e8-5bf92ded1f27' class='xr-var-data-in' type='checkbox'><label for='data-97e016a3-ce33-4909-95e8-5bf92ded1f27' title='Show/Hide data repr'><svg class='icon xr-icon-database'><use xlink:href='#icon-database'></use></svg></label><div class='xr-var-attrs'><dl class='xr-attrs'><dt><span>axis :</span></dt><dd>Y</dd><dt><span>bounds :</span></dt><dd>lat_bnds</dd><dt><span>long_name :</span></dt><dd>Latitude</dd><dt><span>standard_name :</span></dt><dd>latitude</dd><dt><span>units :</span></dt><dd>degrees_north</dd><dt><span>valid_max :</span></dt><dd>42.875</dd><dt><span>valid_min :</span></dt><dd>33.875</dd><dt><span>_ChunkSizes :</span></dt><dd>50</dd><dt><span>_CoordinateAxisType :</span></dt><dd>Lat</dd></dl></div><div class='xr-var-data'><pre>array([33.875, 34.125, 34.375, 34.625, 34.875, 35.125, 35.375, 35.625, 35.875,\n",
       "       36.125, 36.375, 36.625, 36.875, 37.125, 37.375, 37.625, 37.875, 38.125,\n",
       "       38.375, 38.625, 38.875, 39.125, 39.375, 39.625, 39.875, 40.125, 40.375,\n",
       "       40.625, 40.875, 41.125, 41.375, 41.625, 41.875, 42.125, 42.375, 42.625,\n",
       "       42.875], dtype=float32)</pre></div></li><li class='xr-var-item'><div class='xr-var-name'><span class='xr-has-index'>time</span></div><div class='xr-var-dims'>(time)</div><div class='xr-var-dtype'>datetime64[ns]</div><div class='xr-var-preview xr-preview'>2021-08-15 ... 2022-10-24</div><input id='attrs-c6e20dbf-9865-432d-8725-53dc07be8e5f' class='xr-var-attrs-in' type='checkbox' ><label for='attrs-c6e20dbf-9865-432d-8725-53dc07be8e5f' title='Show/Hide attributes'><svg class='icon xr-icon-file-text2'><use xlink:href='#icon-file-text2'></use></svg></label><input id='data-6ed6a673-e776-4b68-8472-60503bf1400e' class='xr-var-data-in' type='checkbox'><label for='data-6ed6a673-e776-4b68-8472-60503bf1400e' title='Show/Hide data repr'><svg class='icon xr-icon-database'><use xlink:href='#icon-database'></use></svg></label><div class='xr-var-attrs'><dl class='xr-attrs'><dt><span>axis :</span></dt><dd>T</dd><dt><span>long_name :</span></dt><dd>Time</dd><dt><span>standard_name :</span></dt><dd>time</dd><dt><span>_ChunkSizes :</span></dt><dd>1</dd><dt><span>_CoordinateAxisType :</span></dt><dd>Time</dd><dt><span>valid_min :</span></dt><dd>26159.0</dd><dt><span>valid_max :</span></dt><dd>26594.0</dd></dl></div><div class='xr-var-data'><pre>array([&#x27;2021-08-15T00:00:00.000000000&#x27;, &#x27;2021-08-16T00:00:00.000000000&#x27;,\n",
       "       &#x27;2021-08-17T00:00:00.000000000&#x27;, ..., &#x27;2022-10-22T00:00:00.000000000&#x27;,\n",
       "       &#x27;2022-10-23T00:00:00.000000000&#x27;, &#x27;2022-10-24T00:00:00.000000000&#x27;],\n",
       "      dtype=&#x27;datetime64[ns]&#x27;)</pre></div></li><li class='xr-var-item'><div class='xr-var-name'><span class='xr-has-index'>longitude</span></div><div class='xr-var-dims'>(longitude)</div><div class='xr-var-dtype'>float32</div><div class='xr-var-preview xr-preview'>-140.1 -139.9 ... -120.4 -120.1</div><input id='attrs-d8b42648-4ffc-4f4b-be74-2c393dcc15f0' class='xr-var-attrs-in' type='checkbox' ><label for='attrs-d8b42648-4ffc-4f4b-be74-2c393dcc15f0' title='Show/Hide attributes'><svg class='icon xr-icon-file-text2'><use xlink:href='#icon-file-text2'></use></svg></label><input id='data-5b9b4557-13df-4433-abb7-24e4a0f5a6d6' class='xr-var-data-in' type='checkbox'><label for='data-5b9b4557-13df-4433-abb7-24e4a0f5a6d6' title='Show/Hide data repr'><svg class='icon xr-icon-database'><use xlink:href='#icon-database'></use></svg></label><div class='xr-var-attrs'><dl class='xr-attrs'><dt><span>axis :</span></dt><dd>X</dd><dt><span>bounds :</span></dt><dd>lon_bnds</dd><dt><span>long_name :</span></dt><dd>Longitude</dd><dt><span>standard_name :</span></dt><dd>longitude</dd><dt><span>units :</span></dt><dd>degrees_east</dd><dt><span>valid_max :</span></dt><dd>-120.125</dd><dt><span>valid_min :</span></dt><dd>-140.125</dd><dt><span>_ChunkSizes :</span></dt><dd>50</dd><dt><span>_CoordinateAxisType :</span></dt><dd>Lon</dd></dl></div><div class='xr-var-data'><pre>array([-140.125, -139.875, -139.625, -139.375, -139.125, -138.875, -138.625,\n",
       "       -138.375, -138.125, -137.875, -137.625, -137.375, -137.125, -136.875,\n",
       "       -136.625, -136.375, -136.125, -135.875, -135.625, -135.375, -135.125,\n",
       "       -134.875, -134.625, -134.375, -134.125, -133.875, -133.625, -133.375,\n",
       "       -133.125, -132.875, -132.625, -132.375, -132.125, -131.875, -131.625,\n",
       "       -131.375, -131.125, -130.875, -130.625, -130.375, -130.125, -129.875,\n",
       "       -129.625, -129.375, -129.125, -128.875, -128.625, -128.375, -128.125,\n",
       "       -127.875, -127.625, -127.375, -127.125, -126.875, -126.625, -126.375,\n",
       "       -126.125, -125.875, -125.625, -125.375, -125.125, -124.875, -124.625,\n",
       "       -124.375, -124.125, -123.875, -123.625, -123.375, -123.125, -122.875,\n",
       "       -122.625, -122.375, -122.125, -121.875, -121.625, -121.375, -121.125,\n",
       "       -120.875, -120.625, -120.375, -120.125], dtype=float32)</pre></div></li></ul></div></li><li class='xr-section-item'><input id='section-5e00d68b-c2f9-49e0-b709-4ed088f5a488' class='xr-section-summary-in' type='checkbox'  checked><label for='section-5e00d68b-c2f9-49e0-b709-4ed088f5a488' class='xr-section-summary' >Data variables: <span>(9)</span></label><div class='xr-section-inline-details'></div><div class='xr-section-details'><ul class='xr-var-list'><li class='xr-var-item'><div class='xr-var-name'><span>adt</span></div><div class='xr-var-dims'>(time, latitude, longitude)</div><div class='xr-var-dtype'>float64</div><div class='xr-var-preview xr-preview'>...</div><input id='attrs-6c294600-34bd-4415-906d-49e0c6dc5b5c' class='xr-var-attrs-in' type='checkbox' ><label for='attrs-6c294600-34bd-4415-906d-49e0c6dc5b5c' title='Show/Hide attributes'><svg class='icon xr-icon-file-text2'><use xlink:href='#icon-file-text2'></use></svg></label><input id='data-55757ab2-b136-4d34-913c-99c820d7d500' class='xr-var-data-in' type='checkbox'><label for='data-55757ab2-b136-4d34-913c-99c820d7d500' title='Show/Hide data repr'><svg class='icon xr-icon-database'><use xlink:href='#icon-database'></use></svg></label><div class='xr-var-attrs'><dl class='xr-attrs'><dt><span>comment :</span></dt><dd>The absolute dynamic topography is the sea surface height above geoid; the adt is obtained as follows: adt=sla+mdt where mdt is the mean dynamic topography; see the product user manual for details</dd><dt><span>grid_mapping :</span></dt><dd>crs</dd><dt><span>long_name :</span></dt><dd>Absolute dynamic topography</dd><dt><span>standard_name :</span></dt><dd>sea_surface_height_above_geoid</dd><dt><span>units :</span></dt><dd>m</dd><dt><span>_ChunkSizes :</span></dt><dd>[ 1 50 50]</dd></dl></div><div class='xr-var-data'><pre>[1306692 values with dtype=float64]</pre></div></li><li class='xr-var-item'><div class='xr-var-name'><span>ugos</span></div><div class='xr-var-dims'>(time, latitude, longitude)</div><div class='xr-var-dtype'>float64</div><div class='xr-var-preview xr-preview'>...</div><input id='attrs-819cba5b-b3d1-4994-b21b-47bf2e7bb776' class='xr-var-attrs-in' type='checkbox' ><label for='attrs-819cba5b-b3d1-4994-b21b-47bf2e7bb776' title='Show/Hide attributes'><svg class='icon xr-icon-file-text2'><use xlink:href='#icon-file-text2'></use></svg></label><input id='data-daf3a33f-d159-441b-b34a-1ad2851f5320' class='xr-var-data-in' type='checkbox'><label for='data-daf3a33f-d159-441b-b34a-1ad2851f5320' title='Show/Hide data repr'><svg class='icon xr-icon-database'><use xlink:href='#icon-database'></use></svg></label><div class='xr-var-attrs'><dl class='xr-attrs'><dt><span>grid_mapping :</span></dt><dd>crs</dd><dt><span>long_name :</span></dt><dd>Absolute geostrophic velocity: zonal component</dd><dt><span>standard_name :</span></dt><dd>surface_geostrophic_eastward_sea_water_velocity</dd><dt><span>units :</span></dt><dd>m/s</dd><dt><span>_ChunkSizes :</span></dt><dd>[ 1 50 50]</dd></dl></div><div class='xr-var-data'><pre>[1306692 values with dtype=float64]</pre></div></li><li class='xr-var-item'><div class='xr-var-name'><span>vgos</span></div><div class='xr-var-dims'>(time, latitude, longitude)</div><div class='xr-var-dtype'>float64</div><div class='xr-var-preview xr-preview'>...</div><input id='attrs-04bd5a2a-531a-4c99-a0ed-d734b00605d5' class='xr-var-attrs-in' type='checkbox' ><label for='attrs-04bd5a2a-531a-4c99-a0ed-d734b00605d5' title='Show/Hide attributes'><svg class='icon xr-icon-file-text2'><use xlink:href='#icon-file-text2'></use></svg></label><input id='data-92c99a0b-57a7-40f1-bbce-c5e7d61e75c5' class='xr-var-data-in' type='checkbox'><label for='data-92c99a0b-57a7-40f1-bbce-c5e7d61e75c5' title='Show/Hide data repr'><svg class='icon xr-icon-database'><use xlink:href='#icon-database'></use></svg></label><div class='xr-var-attrs'><dl class='xr-attrs'><dt><span>grid_mapping :</span></dt><dd>crs</dd><dt><span>long_name :</span></dt><dd>Absolute geostrophic velocity: meridian component</dd><dt><span>standard_name :</span></dt><dd>surface_geostrophic_northward_sea_water_velocity</dd><dt><span>units :</span></dt><dd>m/s</dd><dt><span>_ChunkSizes :</span></dt><dd>[ 1 50 50]</dd></dl></div><div class='xr-var-data'><pre>[1306692 values with dtype=float64]</pre></div></li><li class='xr-var-item'><div class='xr-var-name'><span>vgosa</span></div><div class='xr-var-dims'>(time, latitude, longitude)</div><div class='xr-var-dtype'>float64</div><div class='xr-var-preview xr-preview'>...</div><input id='attrs-bed84164-92d4-4d7c-9600-839a86838dfa' class='xr-var-attrs-in' type='checkbox' ><label for='attrs-bed84164-92d4-4d7c-9600-839a86838dfa' title='Show/Hide attributes'><svg class='icon xr-icon-file-text2'><use xlink:href='#icon-file-text2'></use></svg></label><input id='data-a8408e0e-47bd-4350-ad0e-171efc9a1c62' class='xr-var-data-in' type='checkbox'><label for='data-a8408e0e-47bd-4350-ad0e-171efc9a1c62' title='Show/Hide data repr'><svg class='icon xr-icon-database'><use xlink:href='#icon-database'></use></svg></label><div class='xr-var-attrs'><dl class='xr-attrs'><dt><span>ancillary_variables :</span></dt><dd>err_vgosa</dd><dt><span>comment :</span></dt><dd>The geostrophic velocity anomalies are referenced to the [1993, 2012] period</dd><dt><span>grid_mapping :</span></dt><dd>crs</dd><dt><span>long_name :</span></dt><dd>Geostrophic velocity anomalies: meridian component</dd><dt><span>standard_name :</span></dt><dd>surface_geostrophic_northward_sea_water_velocity_assuming_sea_level_for_geoid</dd><dt><span>units :</span></dt><dd>m/s</dd><dt><span>_ChunkSizes :</span></dt><dd>[ 1 50 50]</dd></dl></div><div class='xr-var-data'><pre>[1306692 values with dtype=float64]</pre></div></li><li class='xr-var-item'><div class='xr-var-name'><span>crs</span></div><div class='xr-var-dims'>()</div><div class='xr-var-dtype'>int32</div><div class='xr-var-preview xr-preview'>...</div><input id='attrs-319723b9-ac60-4b4f-8fea-923952301d0d' class='xr-var-attrs-in' type='checkbox' ><label for='attrs-319723b9-ac60-4b4f-8fea-923952301d0d' title='Show/Hide attributes'><svg class='icon xr-icon-file-text2'><use xlink:href='#icon-file-text2'></use></svg></label><input id='data-a11863b2-44ea-49a4-a824-a3968ec3ebd4' class='xr-var-data-in' type='checkbox'><label for='data-a11863b2-44ea-49a4-a824-a3968ec3ebd4' title='Show/Hide data repr'><svg class='icon xr-icon-database'><use xlink:href='#icon-database'></use></svg></label><div class='xr-var-attrs'><dl class='xr-attrs'><dt><span>comment :</span></dt><dd>This is a container variable that describes the grid_mapping used by the data in this file. This variable does not contain any data; only information about the geographic coordinate system.</dd><dt><span>inverse_flattening :</span></dt><dd>298.257</dd><dt><span>grid_mapping_name :</span></dt><dd>latitude_longitude</dd><dt><span>semi_major_axis :</span></dt><dd>6378136.3</dd><dt><span>_CoordinateTransformType :</span></dt><dd>Projection</dd><dt><span>_CoordinateAxisTypes :</span></dt><dd>GeoX GeoY</dd></dl></div><div class='xr-var-data'><pre>array(-2147483647, dtype=int32)</pre></div></li><li class='xr-var-item'><div class='xr-var-name'><span>err_vgosa</span></div><div class='xr-var-dims'>(time, latitude, longitude)</div><div class='xr-var-dtype'>float64</div><div class='xr-var-preview xr-preview'>...</div><input id='attrs-c96eb5cf-a7a2-4a97-a973-47b673dd045c' class='xr-var-attrs-in' type='checkbox' ><label for='attrs-c96eb5cf-a7a2-4a97-a973-47b673dd045c' title='Show/Hide attributes'><svg class='icon xr-icon-file-text2'><use xlink:href='#icon-file-text2'></use></svg></label><input id='data-40cd0c9f-983c-4220-a827-68e68680235c' class='xr-var-data-in' type='checkbox'><label for='data-40cd0c9f-983c-4220-a827-68e68680235c' title='Show/Hide data repr'><svg class='icon xr-icon-database'><use xlink:href='#icon-database'></use></svg></label><div class='xr-var-attrs'><dl class='xr-attrs'><dt><span>comment :</span></dt><dd>The formal mapping error represents a purely theoretical mapping error. It mainly traduces errors induced by the constellation sampling capability and consistency with the spatial/temporal scales considered, as described in Le Traon et al (1998) or Ducet et al (2000)</dd><dt><span>grid_mapping :</span></dt><dd>crs</dd><dt><span>long_name :</span></dt><dd>Formal mapping error on meridional geostrophic velocity anomalies</dd><dt><span>standard_name :</span></dt><dd>surface_geostrophic_northward_sea_water_velocity_assuming_sea_level_for_geoid standard_error</dd><dt><span>units :</span></dt><dd>m/s</dd><dt><span>_ChunkSizes :</span></dt><dd>[ 1 50 50]</dd></dl></div><div class='xr-var-data'><pre>[1306692 values with dtype=float64]</pre></div></li><li class='xr-var-item'><div class='xr-var-name'><span>err_ugosa</span></div><div class='xr-var-dims'>(time, latitude, longitude)</div><div class='xr-var-dtype'>float64</div><div class='xr-var-preview xr-preview'>...</div><input id='attrs-7321dbf3-5612-441e-9b87-45cb0c7dbb04' class='xr-var-attrs-in' type='checkbox' ><label for='attrs-7321dbf3-5612-441e-9b87-45cb0c7dbb04' title='Show/Hide attributes'><svg class='icon xr-icon-file-text2'><use xlink:href='#icon-file-text2'></use></svg></label><input id='data-f2026dc6-df8f-48c6-b720-05fbc5a15fa2' class='xr-var-data-in' type='checkbox'><label for='data-f2026dc6-df8f-48c6-b720-05fbc5a15fa2' title='Show/Hide data repr'><svg class='icon xr-icon-database'><use xlink:href='#icon-database'></use></svg></label><div class='xr-var-attrs'><dl class='xr-attrs'><dt><span>comment :</span></dt><dd>The formal mapping error represents a purely theoretical mapping error. It mainly traduces errors induced by the constellation sampling capability and consistency with the spatial/temporal scales considered, as described in Le Traon et al (1998) or Ducet et al (2000)</dd><dt><span>grid_mapping :</span></dt><dd>crs</dd><dt><span>long_name :</span></dt><dd>Formal mapping error on zonal geostrophic velocity anomalies</dd><dt><span>standard_name :</span></dt><dd>surface_geostrophic_eastward_sea_water_velocity_assuming_sea_level_for_geoid standard_error</dd><dt><span>units :</span></dt><dd>m/s</dd><dt><span>_ChunkSizes :</span></dt><dd>[ 1 50 50]</dd></dl></div><div class='xr-var-data'><pre>[1306692 values with dtype=float64]</pre></div></li><li class='xr-var-item'><div class='xr-var-name'><span>sla</span></div><div class='xr-var-dims'>(time, latitude, longitude)</div><div class='xr-var-dtype'>float64</div><div class='xr-var-preview xr-preview'>...</div><input id='attrs-821a7089-d2e0-43f1-905c-e02e829404c6' class='xr-var-attrs-in' type='checkbox' ><label for='attrs-821a7089-d2e0-43f1-905c-e02e829404c6' title='Show/Hide attributes'><svg class='icon xr-icon-file-text2'><use xlink:href='#icon-file-text2'></use></svg></label><input id='data-a609ce3b-a75a-471a-8de0-9089d3792a2c' class='xr-var-data-in' type='checkbox'><label for='data-a609ce3b-a75a-471a-8de0-9089d3792a2c' title='Show/Hide data repr'><svg class='icon xr-icon-database'><use xlink:href='#icon-database'></use></svg></label><div class='xr-var-attrs'><dl class='xr-attrs'><dt><span>ancillary_variables :</span></dt><dd>err_sla</dd><dt><span>comment :</span></dt><dd>The sea level anomaly is the sea surface height above mean sea surface; it is referenced to the [1993, 2012] period; see the product user manual for details</dd><dt><span>grid_mapping :</span></dt><dd>crs</dd><dt><span>long_name :</span></dt><dd>Sea level anomaly</dd><dt><span>standard_name :</span></dt><dd>sea_surface_height_above_sea_level</dd><dt><span>units :</span></dt><dd>m</dd><dt><span>_ChunkSizes :</span></dt><dd>[ 1 50 50]</dd></dl></div><div class='xr-var-data'><pre>[1306692 values with dtype=float64]</pre></div></li><li class='xr-var-item'><div class='xr-var-name'><span>ugosa</span></div><div class='xr-var-dims'>(time, latitude, longitude)</div><div class='xr-var-dtype'>float64</div><div class='xr-var-preview xr-preview'>...</div><input id='attrs-273855ed-0480-4a0b-b05a-6170584d27b4' class='xr-var-attrs-in' type='checkbox' ><label for='attrs-273855ed-0480-4a0b-b05a-6170584d27b4' title='Show/Hide attributes'><svg class='icon xr-icon-file-text2'><use xlink:href='#icon-file-text2'></use></svg></label><input id='data-b2ad1dc7-d9b1-4e63-8b5b-131a6840a71f' class='xr-var-data-in' type='checkbox'><label for='data-b2ad1dc7-d9b1-4e63-8b5b-131a6840a71f' title='Show/Hide data repr'><svg class='icon xr-icon-database'><use xlink:href='#icon-database'></use></svg></label><div class='xr-var-attrs'><dl class='xr-attrs'><dt><span>ancillary_variables :</span></dt><dd>err_ugosa</dd><dt><span>comment :</span></dt><dd>The geostrophic velocity anomalies are referenced to the [1993, 2012] period</dd><dt><span>grid_mapping :</span></dt><dd>crs</dd><dt><span>long_name :</span></dt><dd>Geostrophic velocity anomalies: zonal component</dd><dt><span>standard_name :</span></dt><dd>surface_geostrophic_eastward_sea_water_velocity_assuming_sea_level_for_geoid</dd><dt><span>units :</span></dt><dd>m/s</dd><dt><span>_ChunkSizes :</span></dt><dd>[ 1 50 50]</dd></dl></div><div class='xr-var-data'><pre>[1306692 values with dtype=float64]</pre></div></li></ul></div></li><li class='xr-section-item'><input id='section-9fe84d2a-592e-4d5d-91bc-be1d2490c182' class='xr-section-summary-in' type='checkbox'  ><label for='section-9fe84d2a-592e-4d5d-91bc-be1d2490c182' class='xr-section-summary' >Attributes: <span>(45)</span></label><div class='xr-section-inline-details'></div><div class='xr-section-details'><dl class='xr-attrs'><dt><span>Conventions :</span></dt><dd>CF-1.6</dd><dt><span>FROM_ORIGINAL_FILE__Metadata_Conventions :</span></dt><dd>Unidata Dataset Discovery v1.0</dd><dt><span>cdm_data_type :</span></dt><dd>Grid</dd><dt><span>comment :</span></dt><dd>Sea Surface Height measured by Altimetry and derived variables</dd><dt><span>contact :</span></dt><dd>servicedesk.cmems@mercator-ocean.eu</dd><dt><span>creator_email :</span></dt><dd>servicedesk.cmems@mercator-ocean.eu</dd><dt><span>creator_name :</span></dt><dd>CMEMS - Sea Level Thematic Assembly Center</dd><dt><span>creator_url :</span></dt><dd>http://marine.copernicus.eu</dd><dt><span>date_created :</span></dt><dd>2022-10-23T23:59:58Z</dd><dt><span>date_issued :</span></dt><dd>2022-10-23T23:59:58Z</dd><dt><span>date_modified :</span></dt><dd>2022-10-23T23:59:58Z</dd><dt><span>FROM_ORIGINAL_FILE__geospatial_lat_max :</span></dt><dd>89.875</dd><dt><span>FROM_ORIGINAL_FILE__geospatial_lat_min :</span></dt><dd>-89.875</dd><dt><span>FROM_ORIGINAL_FILE__geospatial_lat_resolution :</span></dt><dd>0.25</dd><dt><span>FROM_ORIGINAL_FILE__geospatial_lat_units :</span></dt><dd>degrees_north</dd><dt><span>FROM_ORIGINAL_FILE__geospatial_lon_max :</span></dt><dd>179.875</dd><dt><span>FROM_ORIGINAL_FILE__geospatial_lon_min :</span></dt><dd>-179.875</dd><dt><span>FROM_ORIGINAL_FILE__geospatial_lon_resolution :</span></dt><dd>0.25</dd><dt><span>FROM_ORIGINAL_FILE__geospatial_lon_units :</span></dt><dd>degrees_east</dd><dt><span>geospatial_vertical_max :</span></dt><dd>0.0</dd><dt><span>geospatial_vertical_min :</span></dt><dd>0.0</dd><dt><span>geospatial_vertical_positive :</span></dt><dd>down</dd><dt><span>geospatial_vertical_resolution :</span></dt><dd>point</dd><dt><span>geospatial_vertical_units :</span></dt><dd>m</dd><dt><span>history :</span></dt><dd>2022-10-23 23:59:59Z: Creation</dd><dt><span>institution :</span></dt><dd>CLS, CNES</dd><dt><span>keywords :</span></dt><dd>Oceans &gt; Ocean Topography &gt; Sea Surface Height</dd><dt><span>keywords_vocabulary :</span></dt><dd>NetCDF COARDS Climate and Forecast Standard Names</dd><dt><span>license :</span></dt><dd>http://marine.copernicus.eu/web/27-service-commitments-and-licence.php</dd><dt><span>FROM_ORIGINAL_FILE__platform :</span></dt><dd>Cryosat-2 New Orbit, Haiyang-2B, Jason-3 Interleaved, Sentinel-3A, Sentinel-3B, Sentinel-6A</dd><dt><span>processing_level :</span></dt><dd>L4</dd><dt><span>FROM_ORIGINAL_FILE__product_version :</span></dt><dd>vDec2021</dd><dt><span>project :</span></dt><dd>COPERNICUS MARINE ENVIRONMENT MONITORING SERVICE (CMEMS)</dd><dt><span>references :</span></dt><dd>http://marine.copernicus.eu</dd><dt><span>FROM_ORIGINAL_FILE__software_version :</span></dt><dd>19.2.0_DUACS_DT2021_baseline</dd><dt><span>source :</span></dt><dd>Altimetry measurements</dd><dt><span>ssalto_duacs_comment :</span></dt><dd>Sentinel-6A is the reference mission used for the altimeter inter-calibration processing</dd><dt><span>standard_name_vocabulary :</span></dt><dd>NetCDF Climate and Forecast (CF) Metadata Convention Standard Name Table v37</dd><dt><span>summary :</span></dt><dd>SSALTO/DUACS Near-Real-Time Level-4 sea surface height and derived variables measured by multi-satellite altimetry observations over Global Ocean.</dd><dt><span>time_coverage_duration :</span></dt><dd>P1D</dd><dt><span>time_coverage_end :</span></dt><dd>2022-10-24T12:00:00Z</dd><dt><span>time_coverage_resolution :</span></dt><dd>P1D</dd><dt><span>time_coverage_start :</span></dt><dd>2022-10-23T12:00:00Z</dd><dt><span>title :</span></dt><dd>NRT merged all satellites Global Ocean Gridded SSALTO/DUACS Sea Surface Height L4 product and derived variables</dd><dt><span>_CoordSysBuilder :</span></dt><dd>ucar.nc2.dataset.conv.CF1Convention</dd></dl></div></li></ul></div></div>"
      ],
      "text/plain": [
       "<xarray.Dataset>\n",
       "Dimensions:    (time: 436, latitude: 37, longitude: 81)\n",
       "Coordinates:\n",
       "  * latitude   (latitude) float32 33.88 34.12 34.38 34.62 ... 42.38 42.62 42.88\n",
       "  * time       (time) datetime64[ns] 2021-08-15 2021-08-16 ... 2022-10-24\n",
       "  * longitude  (longitude) float32 -140.1 -139.9 -139.6 ... -120.6 -120.4 -120.1\n",
       "Data variables:\n",
       "    adt        (time, latitude, longitude) float64 ...\n",
       "    ugos       (time, latitude, longitude) float64 ...\n",
       "    vgos       (time, latitude, longitude) float64 ...\n",
       "    vgosa      (time, latitude, longitude) float64 ...\n",
       "    crs        int32 ...\n",
       "    err_vgosa  (time, latitude, longitude) float64 ...\n",
       "    err_ugosa  (time, latitude, longitude) float64 ...\n",
       "    sla        (time, latitude, longitude) float64 ...\n",
       "    ugosa      (time, latitude, longitude) float64 ...\n",
       "Attributes: (12/45)\n",
       "    Conventions:                                    CF-1.6\n",
       "    FROM_ORIGINAL_FILE__Metadata_Conventions:       Unidata Dataset Discovery...\n",
       "    cdm_data_type:                                  Grid\n",
       "    comment:                                        Sea Surface Height measur...\n",
       "    contact:                                        servicedesk.cmems@mercato...\n",
       "    creator_email:                                  servicedesk.cmems@mercato...\n",
       "    ...                                             ...\n",
       "    time_coverage_duration:                         P1D\n",
       "    time_coverage_end:                              2022-10-24T12:00:00Z\n",
       "    time_coverage_resolution:                       P1D\n",
       "    time_coverage_start:                            2022-10-23T12:00:00Z\n",
       "    title:                                          NRT merged all satellites...\n",
       "    _CoordSysBuilder:                               ucar.nc2.dataset.conv.CF1..."
      ]
     },
     "execution_count": 7,
     "metadata": {},
     "output_type": "execute_result"
    }
   ],
   "source": [
    "ds"
   ]
  },
  {
   "cell_type": "code",
   "execution_count": 8,
   "id": "064237af-99fb-42a2-818c-37492457318c",
   "metadata": {},
   "outputs": [
    {
     "name": "stdout",
     "output_type": "stream",
     "text": [
      "{'transform': <cartopy.crs.PlateCarree object at 0x7ff2974a7e50>, 'color': 'w'}\n"
     ]
    }
   ],
   "source": [
    "fig = plt.figure()\n",
    "tind=-1\n",
    "plot_SSH_map(tind)"
   ]
  },
  {
   "cell_type": "code",
   "execution_count": 9,
   "id": "a5f09f05-e321-4f5d-acbe-3176abe96f8c",
   "metadata": {
    "tags": []
   },
   "outputs": [
    {
     "name": "stdout",
     "output_type": "stream",
     "text": [
      "{'transform': <cartopy.crs.PlateCarree object at 0x7ff29527e3b0>, 'color': 'w'}\n",
      "{'transform': <cartopy.crs.PlateCarree object at 0x7ff297256c70>, 'color': 'w'}\n"
     ]
    },
    {
     "name": "stderr",
     "output_type": "stream",
     "text": [
      "/home/jtomf/miniconda3/lib/python3.9/site-packages/cartopy/mpl/gridliner.py:741: UserWarning: The labels of this gridliner do not belong to the gridliner axes\n",
      "  warnings.warn('The labels of this gridliner do not belong to '\n"
     ]
    },
    {
     "name": "stdout",
     "output_type": "stream",
     "text": [
      "{'transform': <cartopy.crs.PlateCarree object at 0x7ff297089090>, 'color': 'w'}\n"
     ]
    },
    {
     "name": "stderr",
     "output_type": "stream",
     "text": [
      "/home/jtomf/miniconda3/lib/python3.9/site-packages/cartopy/mpl/gridliner.py:741: UserWarning: The labels of this gridliner do not belong to the gridliner axes\n",
      "  warnings.warn('The labels of this gridliner do not belong to '\n"
     ]
    },
    {
     "name": "stdout",
     "output_type": "stream",
     "text": [
      "{'transform': <cartopy.crs.PlateCarree object at 0x7ff296ce6e50>, 'color': 'w'}\n",
      "{'transform': <cartopy.crs.PlateCarree object at 0x7ff29529fc70>, 'color': 'w'}\n"
     ]
    },
    {
     "name": "stderr",
     "output_type": "stream",
     "text": [
      "/home/jtomf/miniconda3/lib/python3.9/site-packages/cartopy/mpl/gridliner.py:741: UserWarning: The labels of this gridliner do not belong to the gridliner axes\n",
      "  warnings.warn('The labels of this gridliner do not belong to '\n"
     ]
    },
    {
     "name": "stdout",
     "output_type": "stream",
     "text": [
      "{'transform': <cartopy.crs.PlateCarree object at 0x7ff296ecaa90>, 'color': 'w'}\n"
     ]
    },
    {
     "name": "stderr",
     "output_type": "stream",
     "text": [
      "/home/jtomf/miniconda3/lib/python3.9/site-packages/cartopy/mpl/gridliner.py:741: UserWarning: The labels of this gridliner do not belong to the gridliner axes\n",
      "  warnings.warn('The labels of this gridliner do not belong to '\n"
     ]
    },
    {
     "name": "stdout",
     "output_type": "stream",
     "text": [
      "{'transform': <cartopy.crs.PlateCarree object at 0x7ff296d9bef0>, 'color': 'w'}\n",
      "{'transform': <cartopy.crs.PlateCarree object at 0x7ff296ed8c20>, 'color': 'w'}\n"
     ]
    },
    {
     "name": "stderr",
     "output_type": "stream",
     "text": [
      "/home/jtomf/miniconda3/lib/python3.9/site-packages/cartopy/mpl/gridliner.py:741: UserWarning: The labels of this gridliner do not belong to the gridliner axes\n",
      "  warnings.warn('The labels of this gridliner do not belong to '\n"
     ]
    },
    {
     "name": "stdout",
     "output_type": "stream",
     "text": [
      "{'transform': <cartopy.crs.PlateCarree object at 0x7ff29720ca40>, 'color': 'w'}\n"
     ]
    },
    {
     "name": "stderr",
     "output_type": "stream",
     "text": [
      "/home/jtomf/miniconda3/lib/python3.9/site-packages/cartopy/mpl/gridliner.py:741: UserWarning: The labels of this gridliner do not belong to the gridliner axes\n",
      "  warnings.warn('The labels of this gridliner do not belong to '\n"
     ]
    },
    {
     "name": "stdout",
     "output_type": "stream",
     "text": [
      "{'transform': <cartopy.crs.PlateCarree object at 0x7ff296f1bf90>, 'color': 'w'}\n"
     ]
    },
    {
     "name": "stderr",
     "output_type": "stream",
     "text": [
      "/home/jtomf/miniconda3/lib/python3.9/site-packages/cartopy/mpl/gridliner.py:741: UserWarning: The labels of this gridliner do not belong to the gridliner axes\n",
      "  warnings.warn('The labels of this gridliner do not belong to '\n"
     ]
    },
    {
     "name": "stdout",
     "output_type": "stream",
     "text": [
      "{'transform': <cartopy.crs.PlateCarree object at 0x7ff2970d9a40>, 'color': 'w'}\n"
     ]
    },
    {
     "name": "stderr",
     "output_type": "stream",
     "text": [
      "/home/jtomf/miniconda3/lib/python3.9/site-packages/cartopy/mpl/gridliner.py:741: UserWarning: The labels of this gridliner do not belong to the gridliner axes\n",
      "  warnings.warn('The labels of this gridliner do not belong to '\n"
     ]
    },
    {
     "name": "stdout",
     "output_type": "stream",
     "text": [
      "{'transform': <cartopy.crs.PlateCarree object at 0x7ff297371e00>, 'color': 'w'}\n"
     ]
    },
    {
     "name": "stderr",
     "output_type": "stream",
     "text": [
      "/home/jtomf/miniconda3/lib/python3.9/site-packages/cartopy/mpl/gridliner.py:741: UserWarning: The labels of this gridliner do not belong to the gridliner axes\n",
      "  warnings.warn('The labels of this gridliner do not belong to '\n"
     ]
    },
    {
     "name": "stdout",
     "output_type": "stream",
     "text": [
      "{'transform': <cartopy.crs.PlateCarree object at 0x7ff297323f90>, 'color': 'w'}\n"
     ]
    },
    {
     "name": "stderr",
     "output_type": "stream",
     "text": [
      "/home/jtomf/miniconda3/lib/python3.9/site-packages/cartopy/mpl/gridliner.py:741: UserWarning: The labels of this gridliner do not belong to the gridliner axes\n",
      "  warnings.warn('The labels of this gridliner do not belong to '\n"
     ]
    },
    {
     "name": "stdout",
     "output_type": "stream",
     "text": [
      "{'transform': <cartopy.crs.PlateCarree object at 0x7ff297369ea0>, 'color': 'w'}\n"
     ]
    },
    {
     "name": "stderr",
     "output_type": "stream",
     "text": [
      "/home/jtomf/miniconda3/lib/python3.9/site-packages/cartopy/mpl/gridliner.py:741: UserWarning: The labels of this gridliner do not belong to the gridliner axes\n",
      "  warnings.warn('The labels of this gridliner do not belong to '\n"
     ]
    },
    {
     "name": "stdout",
     "output_type": "stream",
     "text": [
      "{'transform': <cartopy.crs.PlateCarree object at 0x7ff29725cd10>, 'color': 'w'}\n"
     ]
    },
    {
     "name": "stderr",
     "output_type": "stream",
     "text": [
      "/home/jtomf/miniconda3/lib/python3.9/site-packages/cartopy/mpl/gridliner.py:741: UserWarning: The labels of this gridliner do not belong to the gridliner axes\n",
      "  warnings.warn('The labels of this gridliner do not belong to '\n"
     ]
    },
    {
     "name": "stdout",
     "output_type": "stream",
     "text": [
      "{'transform': <cartopy.crs.PlateCarree object at 0x7ff2961e9f40>, 'color': 'w'}\n"
     ]
    },
    {
     "name": "stderr",
     "output_type": "stream",
     "text": [
      "/home/jtomf/miniconda3/lib/python3.9/site-packages/cartopy/mpl/gridliner.py:741: UserWarning: The labels of this gridliner do not belong to the gridliner axes\n",
      "  warnings.warn('The labels of this gridliner do not belong to '\n"
     ]
    },
    {
     "name": "stdout",
     "output_type": "stream",
     "text": [
      "{'transform': <cartopy.crs.PlateCarree object at 0x7ff296a5d040>, 'color': 'w'}\n"
     ]
    },
    {
     "name": "stderr",
     "output_type": "stream",
     "text": [
      "/home/jtomf/miniconda3/lib/python3.9/site-packages/cartopy/mpl/gridliner.py:741: UserWarning: The labels of this gridliner do not belong to the gridliner axes\n",
      "  warnings.warn('The labels of this gridliner do not belong to '\n"
     ]
    },
    {
     "name": "stdout",
     "output_type": "stream",
     "text": [
      "{'transform': <cartopy.crs.PlateCarree object at 0x7ff296d44ea0>, 'color': 'w'}\n"
     ]
    },
    {
     "name": "stderr",
     "output_type": "stream",
     "text": [
      "/home/jtomf/miniconda3/lib/python3.9/site-packages/cartopy/mpl/gridliner.py:741: UserWarning: The labels of this gridliner do not belong to the gridliner axes\n",
      "  warnings.warn('The labels of this gridliner do not belong to '\n"
     ]
    },
    {
     "name": "stdout",
     "output_type": "stream",
     "text": [
      "{'transform': <cartopy.crs.PlateCarree object at 0x7ff296ebaf90>, 'color': 'w'}\n"
     ]
    },
    {
     "name": "stderr",
     "output_type": "stream",
     "text": [
      "/home/jtomf/miniconda3/lib/python3.9/site-packages/cartopy/mpl/gridliner.py:741: UserWarning: The labels of this gridliner do not belong to the gridliner axes\n",
      "  warnings.warn('The labels of this gridliner do not belong to '\n"
     ]
    },
    {
     "name": "stdout",
     "output_type": "stream",
     "text": [
      "{'transform': <cartopy.crs.PlateCarree object at 0x7ff296d99450>, 'color': 'w'}\n",
      "{'transform': <cartopy.crs.PlateCarree object at 0x7ff2973774a0>, 'color': 'w'}\n"
     ]
    },
    {
     "name": "stderr",
     "output_type": "stream",
     "text": [
      "/home/jtomf/miniconda3/lib/python3.9/site-packages/cartopy/mpl/gridliner.py:741: UserWarning: The labels of this gridliner do not belong to the gridliner axes\n",
      "  warnings.warn('The labels of this gridliner do not belong to '\n"
     ]
    },
    {
     "name": "stdout",
     "output_type": "stream",
     "text": [
      "{'transform': <cartopy.crs.PlateCarree object at 0x7ff29730d310>, 'color': 'w'}\n"
     ]
    },
    {
     "name": "stderr",
     "output_type": "stream",
     "text": [
      "/home/jtomf/miniconda3/lib/python3.9/site-packages/cartopy/mpl/gridliner.py:741: UserWarning: The labels of this gridliner do not belong to the gridliner axes\n",
      "  warnings.warn('The labels of this gridliner do not belong to '\n"
     ]
    },
    {
     "name": "stdout",
     "output_type": "stream",
     "text": [
      "{'transform': <cartopy.crs.PlateCarree object at 0x7ff297327090>, 'color': 'w'}\n",
      "{'transform': <cartopy.crs.PlateCarree object at 0x7ff296fe0b30>, 'color': 'w'}\n"
     ]
    },
    {
     "name": "stderr",
     "output_type": "stream",
     "text": [
      "/home/jtomf/miniconda3/lib/python3.9/site-packages/cartopy/mpl/gridliner.py:741: UserWarning: The labels of this gridliner do not belong to the gridliner axes\n",
      "  warnings.warn('The labels of this gridliner do not belong to '\n"
     ]
    },
    {
     "name": "stdout",
     "output_type": "stream",
     "text": [
      "{'transform': <cartopy.crs.PlateCarree object at 0x7ff296f1cc20>, 'color': 'w'}\n"
     ]
    },
    {
     "name": "stderr",
     "output_type": "stream",
     "text": [
      "/home/jtomf/miniconda3/lib/python3.9/site-packages/cartopy/mpl/gridliner.py:741: UserWarning: The labels of this gridliner do not belong to the gridliner axes\n",
      "  warnings.warn('The labels of this gridliner do not belong to '\n"
     ]
    },
    {
     "name": "stdout",
     "output_type": "stream",
     "text": [
      "{'transform': <cartopy.crs.PlateCarree object at 0x7ff296c79130>, 'color': 'w'}\n",
      "{'transform': <cartopy.crs.PlateCarree object at 0x7ff2970b9540>, 'color': 'w'}\n"
     ]
    },
    {
     "name": "stderr",
     "output_type": "stream",
     "text": [
      "/home/jtomf/miniconda3/lib/python3.9/site-packages/cartopy/mpl/gridliner.py:741: UserWarning: The labels of this gridliner do not belong to the gridliner axes\n",
      "  warnings.warn('The labels of this gridliner do not belong to '\n"
     ]
    },
    {
     "name": "stdout",
     "output_type": "stream",
     "text": [
      "{'transform': <cartopy.crs.PlateCarree object at 0x7ff29528ab80>, 'color': 'w'}\n"
     ]
    },
    {
     "name": "stderr",
     "output_type": "stream",
     "text": [
      "/home/jtomf/miniconda3/lib/python3.9/site-packages/cartopy/mpl/gridliner.py:741: UserWarning: The labels of this gridliner do not belong to the gridliner axes\n",
      "  warnings.warn('The labels of this gridliner do not belong to '\n"
     ]
    },
    {
     "name": "stdout",
     "output_type": "stream",
     "text": [
      "{'transform': <cartopy.crs.PlateCarree object at 0x7ff296dc5180>, 'color': 'w'}\n"
     ]
    },
    {
     "name": "stderr",
     "output_type": "stream",
     "text": [
      "/home/jtomf/miniconda3/lib/python3.9/site-packages/cartopy/mpl/gridliner.py:741: UserWarning: The labels of this gridliner do not belong to the gridliner axes\n",
      "  warnings.warn('The labels of this gridliner do not belong to '\n"
     ]
    },
    {
     "name": "stdout",
     "output_type": "stream",
     "text": [
      "{'transform': <cartopy.crs.PlateCarree object at 0x7ff2973c7e50>, 'color': 'w'}\n"
     ]
    },
    {
     "name": "stderr",
     "output_type": "stream",
     "text": [
      "/home/jtomf/miniconda3/lib/python3.9/site-packages/cartopy/mpl/gridliner.py:741: UserWarning: The labels of this gridliner do not belong to the gridliner axes\n",
      "  warnings.warn('The labels of this gridliner do not belong to '\n"
     ]
    },
    {
     "name": "stdout",
     "output_type": "stream",
     "text": [
      "{'transform': <cartopy.crs.PlateCarree object at 0x7ff297374f90>, 'color': 'w'}\n"
     ]
    },
    {
     "name": "stderr",
     "output_type": "stream",
     "text": [
      "/home/jtomf/miniconda3/lib/python3.9/site-packages/cartopy/mpl/gridliner.py:741: UserWarning: The labels of this gridliner do not belong to the gridliner axes\n",
      "  warnings.warn('The labels of this gridliner do not belong to '\n"
     ]
    },
    {
     "name": "stdout",
     "output_type": "stream",
     "text": [
      "{'transform': <cartopy.crs.PlateCarree object at 0x7ff296e0d180>, 'color': 'w'}\n"
     ]
    },
    {
     "name": "stderr",
     "output_type": "stream",
     "text": [
      "/home/jtomf/miniconda3/lib/python3.9/site-packages/cartopy/mpl/gridliner.py:741: UserWarning: The labels of this gridliner do not belong to the gridliner axes\n",
      "  warnings.warn('The labels of this gridliner do not belong to '\n"
     ]
    },
    {
     "name": "stdout",
     "output_type": "stream",
     "text": [
      "{'transform': <cartopy.crs.PlateCarree object at 0x7ff2961e41d0>, 'color': 'w'}\n"
     ]
    },
    {
     "name": "stderr",
     "output_type": "stream",
     "text": [
      "/home/jtomf/miniconda3/lib/python3.9/site-packages/cartopy/mpl/gridliner.py:741: UserWarning: The labels of this gridliner do not belong to the gridliner axes\n",
      "  warnings.warn('The labels of this gridliner do not belong to '\n"
     ]
    },
    {
     "name": "stdout",
     "output_type": "stream",
     "text": [
      "{'transform': <cartopy.crs.PlateCarree object at 0x7ff2973ace50>, 'color': 'w'}\n"
     ]
    },
    {
     "name": "stderr",
     "output_type": "stream",
     "text": [
      "/home/jtomf/miniconda3/lib/python3.9/site-packages/cartopy/mpl/gridliner.py:741: UserWarning: The labels of this gridliner do not belong to the gridliner axes\n",
      "  warnings.warn('The labels of this gridliner do not belong to '\n"
     ]
    },
    {
     "name": "stdout",
     "output_type": "stream",
     "text": [
      "{'transform': <cartopy.crs.PlateCarree object at 0x7ff2960960e0>, 'color': 'w'}\n"
     ]
    },
    {
     "name": "stderr",
     "output_type": "stream",
     "text": [
      "/home/jtomf/miniconda3/lib/python3.9/site-packages/cartopy/mpl/gridliner.py:741: UserWarning: The labels of this gridliner do not belong to the gridliner axes\n",
      "  warnings.warn('The labels of this gridliner do not belong to '\n"
     ]
    },
    {
     "name": "stdout",
     "output_type": "stream",
     "text": [
      "{'transform': <cartopy.crs.PlateCarree object at 0x7ff2964c78b0>, 'color': 'w'}\n"
     ]
    },
    {
     "name": "stderr",
     "output_type": "stream",
     "text": [
      "/home/jtomf/miniconda3/lib/python3.9/site-packages/cartopy/mpl/gridliner.py:741: UserWarning: The labels of this gridliner do not belong to the gridliner axes\n",
      "  warnings.warn('The labels of this gridliner do not belong to '\n"
     ]
    },
    {
     "name": "stdout",
     "output_type": "stream",
     "text": [
      "{'transform': <cartopy.crs.PlateCarree object at 0x7ff296491040>, 'color': 'w'}\n"
     ]
    },
    {
     "name": "stderr",
     "output_type": "stream",
     "text": [
      "/home/jtomf/miniconda3/lib/python3.9/site-packages/cartopy/mpl/gridliner.py:741: UserWarning: The labels of this gridliner do not belong to the gridliner axes\n",
      "  warnings.warn('The labels of this gridliner do not belong to '\n"
     ]
    },
    {
     "name": "stdout",
     "output_type": "stream",
     "text": [
      "{'transform': <cartopy.crs.PlateCarree object at 0x7ff296ed0130>, 'color': 'w'}\n"
     ]
    },
    {
     "name": "stderr",
     "output_type": "stream",
     "text": [
      "/home/jtomf/miniconda3/lib/python3.9/site-packages/cartopy/mpl/gridliner.py:741: UserWarning: The labels of this gridliner do not belong to the gridliner axes\n",
      "  warnings.warn('The labels of this gridliner do not belong to '\n"
     ]
    },
    {
     "name": "stdout",
     "output_type": "stream",
     "text": [
      "{'transform': <cartopy.crs.PlateCarree object at 0x7ff2962f2ae0>, 'color': 'w'}\n",
      "{'transform': <cartopy.crs.PlateCarree object at 0x7ff296d9f590>, 'color': 'w'}\n"
     ]
    },
    {
     "name": "stderr",
     "output_type": "stream",
     "text": [
      "/home/jtomf/miniconda3/lib/python3.9/site-packages/cartopy/mpl/gridliner.py:741: UserWarning: The labels of this gridliner do not belong to the gridliner axes\n",
      "  warnings.warn('The labels of this gridliner do not belong to '\n"
     ]
    },
    {
     "name": "stdout",
     "output_type": "stream",
     "text": [
      "{'transform': <cartopy.crs.PlateCarree object at 0x7ff2960a1400>, 'color': 'w'}\n"
     ]
    },
    {
     "name": "stderr",
     "output_type": "stream",
     "text": [
      "/home/jtomf/miniconda3/lib/python3.9/site-packages/cartopy/mpl/gridliner.py:741: UserWarning: The labels of this gridliner do not belong to the gridliner axes\n",
      "  warnings.warn('The labels of this gridliner do not belong to '\n"
     ]
    },
    {
     "name": "stdout",
     "output_type": "stream",
     "text": [
      "{'transform': <cartopy.crs.PlateCarree object at 0x7ff296293180>, 'color': 'w'}\n",
      "{'transform': <cartopy.crs.PlateCarree object at 0x7ff29607f950>, 'color': 'w'}\n"
     ]
    },
    {
     "name": "stderr",
     "output_type": "stream",
     "text": [
      "/home/jtomf/miniconda3/lib/python3.9/site-packages/cartopy/mpl/gridliner.py:741: UserWarning: The labels of this gridliner do not belong to the gridliner axes\n",
      "  warnings.warn('The labels of this gridliner do not belong to '\n"
     ]
    },
    {
     "name": "stdout",
     "output_type": "stream",
     "text": [
      "{'transform': <cartopy.crs.PlateCarree object at 0x7ff297071d60>, 'color': 'w'}\n"
     ]
    },
    {
     "name": "stderr",
     "output_type": "stream",
     "text": [
      "/home/jtomf/miniconda3/lib/python3.9/site-packages/cartopy/mpl/gridliner.py:741: UserWarning: The labels of this gridliner do not belong to the gridliner axes\n",
      "  warnings.warn('The labels of this gridliner do not belong to '\n"
     ]
    },
    {
     "name": "stdout",
     "output_type": "stream",
     "text": [
      "{'transform': <cartopy.crs.PlateCarree object at 0x7ff296e8a270>, 'color': 'w'}\n",
      "{'transform': <cartopy.crs.PlateCarree object at 0x7ff297035b80>, 'color': 'w'}\n"
     ]
    },
    {
     "name": "stderr",
     "output_type": "stream",
     "text": [
      "/home/jtomf/miniconda3/lib/python3.9/site-packages/cartopy/mpl/gridliner.py:741: UserWarning: The labels of this gridliner do not belong to the gridliner axes\n",
      "  warnings.warn('The labels of this gridliner do not belong to '\n"
     ]
    },
    {
     "name": "stdout",
     "output_type": "stream",
     "text": [
      "{'transform': <cartopy.crs.PlateCarree object at 0x7ff296c66d10>, 'color': 'w'}\n"
     ]
    },
    {
     "name": "stderr",
     "output_type": "stream",
     "text": [
      "/home/jtomf/miniconda3/lib/python3.9/site-packages/cartopy/mpl/gridliner.py:741: UserWarning: The labels of this gridliner do not belong to the gridliner axes\n",
      "  warnings.warn('The labels of this gridliner do not belong to '\n"
     ]
    },
    {
     "name": "stdout",
     "output_type": "stream",
     "text": [
      "{'transform': <cartopy.crs.PlateCarree object at 0x7ff29703f2c0>, 'color': 'w'}\n"
     ]
    },
    {
     "name": "stderr",
     "output_type": "stream",
     "text": [
      "/home/jtomf/miniconda3/lib/python3.9/site-packages/cartopy/mpl/gridliner.py:741: UserWarning: The labels of this gridliner do not belong to the gridliner axes\n",
      "  warnings.warn('The labels of this gridliner do not belong to '\n"
     ]
    },
    {
     "name": "stdout",
     "output_type": "stream",
     "text": [
      "{'transform': <cartopy.crs.PlateCarree object at 0x7ff296291360>, 'color': 'w'}\n"
     ]
    },
    {
     "name": "stderr",
     "output_type": "stream",
     "text": [
      "/home/jtomf/miniconda3/lib/python3.9/site-packages/cartopy/mpl/gridliner.py:741: UserWarning: The labels of this gridliner do not belong to the gridliner axes\n",
      "  warnings.warn('The labels of this gridliner do not belong to '\n"
     ]
    },
    {
     "name": "stdout",
     "output_type": "stream",
     "text": [
      "{'transform': <cartopy.crs.PlateCarree object at 0x7ff296d21130>, 'color': 'w'}\n"
     ]
    },
    {
     "name": "stderr",
     "output_type": "stream",
     "text": [
      "/home/jtomf/miniconda3/lib/python3.9/site-packages/cartopy/mpl/gridliner.py:741: UserWarning: The labels of this gridliner do not belong to the gridliner axes\n",
      "  warnings.warn('The labels of this gridliner do not belong to '\n"
     ]
    },
    {
     "name": "stdout",
     "output_type": "stream",
     "text": [
      "{'transform': <cartopy.crs.PlateCarree object at 0x7ff296f162c0>, 'color': 'w'}\n"
     ]
    },
    {
     "name": "stderr",
     "output_type": "stream",
     "text": [
      "/home/jtomf/miniconda3/lib/python3.9/site-packages/cartopy/mpl/gridliner.py:741: UserWarning: The labels of this gridliner do not belong to the gridliner axes\n",
      "  warnings.warn('The labels of this gridliner do not belong to '\n"
     ]
    },
    {
     "name": "stdout",
     "output_type": "stream",
     "text": [
      "{'transform': <cartopy.crs.PlateCarree object at 0x7ff2971a49f0>, 'color': 'w'}\n"
     ]
    },
    {
     "name": "stderr",
     "output_type": "stream",
     "text": [
      "/home/jtomf/miniconda3/lib/python3.9/site-packages/cartopy/mpl/gridliner.py:741: UserWarning: The labels of this gridliner do not belong to the gridliner axes\n",
      "  warnings.warn('The labels of this gridliner do not belong to '\n"
     ]
    },
    {
     "name": "stdout",
     "output_type": "stream",
     "text": [
      "{'transform': <cartopy.crs.PlateCarree object at 0x7ff296281f90>, 'color': 'w'}\n"
     ]
    },
    {
     "name": "stderr",
     "output_type": "stream",
     "text": [
      "/home/jtomf/miniconda3/lib/python3.9/site-packages/cartopy/mpl/gridliner.py:741: UserWarning: The labels of this gridliner do not belong to the gridliner axes\n",
      "  warnings.warn('The labels of this gridliner do not belong to '\n"
     ]
    },
    {
     "name": "stdout",
     "output_type": "stream",
     "text": [
      "{'transform': <cartopy.crs.PlateCarree object at 0x7ff2973cd220>, 'color': 'w'}\n"
     ]
    },
    {
     "name": "stderr",
     "output_type": "stream",
     "text": [
      "/home/jtomf/miniconda3/lib/python3.9/site-packages/cartopy/mpl/gridliner.py:741: UserWarning: The labels of this gridliner do not belong to the gridliner axes\n",
      "  warnings.warn('The labels of this gridliner do not belong to '\n"
     ]
    },
    {
     "name": "stdout",
     "output_type": "stream",
     "text": [
      "{'transform': <cartopy.crs.PlateCarree object at 0x7ff29721bb80>, 'color': 'w'}\n"
     ]
    },
    {
     "name": "stderr",
     "output_type": "stream",
     "text": [
      "/home/jtomf/miniconda3/lib/python3.9/site-packages/cartopy/mpl/gridliner.py:741: UserWarning: The labels of this gridliner do not belong to the gridliner axes\n",
      "  warnings.warn('The labels of this gridliner do not belong to '\n"
     ]
    },
    {
     "name": "stdout",
     "output_type": "stream",
     "text": [
      "{'transform': <cartopy.crs.PlateCarree object at 0x7ff29721a180>, 'color': 'w'}\n"
     ]
    },
    {
     "name": "stderr",
     "output_type": "stream",
     "text": [
      "/home/jtomf/miniconda3/lib/python3.9/site-packages/cartopy/mpl/gridliner.py:741: UserWarning: The labels of this gridliner do not belong to the gridliner axes\n",
      "  warnings.warn('The labels of this gridliner do not belong to '\n"
     ]
    },
    {
     "name": "stdout",
     "output_type": "stream",
     "text": [
      "{'transform': <cartopy.crs.PlateCarree object at 0x7ff296bf82c0>, 'color': 'w'}\n"
     ]
    },
    {
     "name": "stderr",
     "output_type": "stream",
     "text": [
      "/home/jtomf/miniconda3/lib/python3.9/site-packages/cartopy/mpl/gridliner.py:741: UserWarning: The labels of this gridliner do not belong to the gridliner axes\n",
      "  warnings.warn('The labels of this gridliner do not belong to '\n"
     ]
    },
    {
     "name": "stdout",
     "output_type": "stream",
     "text": [
      "{'transform': <cartopy.crs.PlateCarree object at 0x7ff297220c20>, 'color': 'w'}\n",
      "{'transform': <cartopy.crs.PlateCarree object at 0x7ff296a73590>, 'color': 'w'}\n"
     ]
    },
    {
     "name": "stderr",
     "output_type": "stream",
     "text": [
      "/home/jtomf/miniconda3/lib/python3.9/site-packages/cartopy/mpl/gridliner.py:741: UserWarning: The labels of this gridliner do not belong to the gridliner axes\n",
      "  warnings.warn('The labels of this gridliner do not belong to '\n"
     ]
    },
    {
     "name": "stdout",
     "output_type": "stream",
     "text": [
      "{'transform': <cartopy.crs.PlateCarree object at 0x7ff2973bc4f0>, 'color': 'w'}\n"
     ]
    },
    {
     "name": "stderr",
     "output_type": "stream",
     "text": [
      "/home/jtomf/miniconda3/lib/python3.9/site-packages/cartopy/mpl/gridliner.py:741: UserWarning: The labels of this gridliner do not belong to the gridliner axes\n",
      "  warnings.warn('The labels of this gridliner do not belong to '\n"
     ]
    },
    {
     "name": "stdout",
     "output_type": "stream",
     "text": [
      "{'transform': <cartopy.crs.PlateCarree object at 0x7ff296b37270>, 'color': 'w'}\n",
      "{'transform': <cartopy.crs.PlateCarree object at 0x7ff2973215e0>, 'color': 'w'}\n"
     ]
    },
    {
     "name": "stderr",
     "output_type": "stream",
     "text": [
      "/home/jtomf/miniconda3/lib/python3.9/site-packages/cartopy/mpl/gridliner.py:741: UserWarning: The labels of this gridliner do not belong to the gridliner axes\n",
      "  warnings.warn('The labels of this gridliner do not belong to '\n"
     ]
    },
    {
     "name": "stdout",
     "output_type": "stream",
     "text": [
      "{'transform': <cartopy.crs.PlateCarree object at 0x7ff296279e00>, 'color': 'w'}\n"
     ]
    },
    {
     "name": "stderr",
     "output_type": "stream",
     "text": [
      "/home/jtomf/miniconda3/lib/python3.9/site-packages/cartopy/mpl/gridliner.py:741: UserWarning: The labels of this gridliner do not belong to the gridliner axes\n",
      "  warnings.warn('The labels of this gridliner do not belong to '\n"
     ]
    },
    {
     "name": "stdout",
     "output_type": "stream",
     "text": [
      "{'transform': <cartopy.crs.PlateCarree object at 0x7ff2972b0310>, 'color': 'w'}\n",
      "{'transform': <cartopy.crs.PlateCarree object at 0x7ff297044d60>, 'color': 'w'}\n"
     ]
    },
    {
     "name": "stderr",
     "output_type": "stream",
     "text": [
      "/home/jtomf/miniconda3/lib/python3.9/site-packages/cartopy/mpl/gridliner.py:741: UserWarning: The labels of this gridliner do not belong to the gridliner axes\n",
      "  warnings.warn('The labels of this gridliner do not belong to '\n"
     ]
    },
    {
     "name": "stdout",
     "output_type": "stream",
     "text": [
      "{'transform': <cartopy.crs.PlateCarree object at 0x7ff296dfdd60>, 'color': 'w'}\n"
     ]
    },
    {
     "name": "stderr",
     "output_type": "stream",
     "text": [
      "/home/jtomf/miniconda3/lib/python3.9/site-packages/cartopy/mpl/gridliner.py:741: UserWarning: The labels of this gridliner do not belong to the gridliner axes\n",
      "  warnings.warn('The labels of this gridliner do not belong to '\n"
     ]
    },
    {
     "name": "stdout",
     "output_type": "stream",
     "text": [
      "{'transform': <cartopy.crs.PlateCarree object at 0x7ff296f82310>, 'color': 'w'}\n"
     ]
    },
    {
     "name": "stderr",
     "output_type": "stream",
     "text": [
      "/home/jtomf/miniconda3/lib/python3.9/site-packages/cartopy/mpl/gridliner.py:741: UserWarning: The labels of this gridliner do not belong to the gridliner axes\n",
      "  warnings.warn('The labels of this gridliner do not belong to '\n"
     ]
    },
    {
     "name": "stdout",
     "output_type": "stream",
     "text": [
      "{'transform': <cartopy.crs.PlateCarree object at 0x7ff29738c0e0>, 'color': 'w'}\n"
     ]
    },
    {
     "name": "stderr",
     "output_type": "stream",
     "text": [
      "/home/jtomf/miniconda3/lib/python3.9/site-packages/cartopy/mpl/gridliner.py:741: UserWarning: The labels of this gridliner do not belong to the gridliner axes\n",
      "  warnings.warn('The labels of this gridliner do not belong to '\n"
     ]
    },
    {
     "name": "stdout",
     "output_type": "stream",
     "text": [
      "{'transform': <cartopy.crs.PlateCarree object at 0x7ff296d12130>, 'color': 'w'}\n"
     ]
    },
    {
     "name": "stderr",
     "output_type": "stream",
     "text": [
      "/home/jtomf/miniconda3/lib/python3.9/site-packages/cartopy/mpl/gridliner.py:741: UserWarning: The labels of this gridliner do not belong to the gridliner axes\n",
      "  warnings.warn('The labels of this gridliner do not belong to '\n"
     ]
    },
    {
     "name": "stdout",
     "output_type": "stream",
     "text": [
      "{'transform': <cartopy.crs.PlateCarree object at 0x7ff296a312c0>, 'color': 'w'}\n"
     ]
    },
    {
     "name": "stderr",
     "output_type": "stream",
     "text": [
      "/home/jtomf/miniconda3/lib/python3.9/site-packages/cartopy/mpl/gridliner.py:741: UserWarning: The labels of this gridliner do not belong to the gridliner axes\n",
      "  warnings.warn('The labels of this gridliner do not belong to '\n"
     ]
    },
    {
     "name": "stdout",
     "output_type": "stream",
     "text": [
      "{'transform': <cartopy.crs.PlateCarree object at 0x7ff296842ef0>, 'color': 'w'}\n"
     ]
    },
    {
     "name": "stderr",
     "output_type": "stream",
     "text": [
      "/home/jtomf/miniconda3/lib/python3.9/site-packages/cartopy/mpl/gridliner.py:741: UserWarning: The labels of this gridliner do not belong to the gridliner axes\n",
      "  warnings.warn('The labels of this gridliner do not belong to '\n"
     ]
    },
    {
     "name": "stdout",
     "output_type": "stream",
     "text": [
      "{'transform': <cartopy.crs.PlateCarree object at 0x7ff297071040>, 'color': 'w'}\n"
     ]
    },
    {
     "name": "stderr",
     "output_type": "stream",
     "text": [
      "/home/jtomf/miniconda3/lib/python3.9/site-packages/cartopy/mpl/gridliner.py:741: UserWarning: The labels of this gridliner do not belong to the gridliner axes\n",
      "  warnings.warn('The labels of this gridliner do not belong to '\n"
     ]
    },
    {
     "name": "stdout",
     "output_type": "stream",
     "text": [
      "{'transform': <cartopy.crs.PlateCarree object at 0x7ff296a97270>, 'color': 'w'}\n"
     ]
    },
    {
     "name": "stderr",
     "output_type": "stream",
     "text": [
      "/home/jtomf/miniconda3/lib/python3.9/site-packages/cartopy/mpl/gridliner.py:741: UserWarning: The labels of this gridliner do not belong to the gridliner axes\n",
      "  warnings.warn('The labels of this gridliner do not belong to '\n"
     ]
    },
    {
     "name": "stdout",
     "output_type": "stream",
     "text": [
      "{'transform': <cartopy.crs.PlateCarree object at 0x7ff297cccc70>, 'color': 'w'}\n"
     ]
    },
    {
     "name": "stderr",
     "output_type": "stream",
     "text": [
      "/home/jtomf/miniconda3/lib/python3.9/site-packages/cartopy/mpl/gridliner.py:741: UserWarning: The labels of this gridliner do not belong to the gridliner axes\n",
      "  warnings.warn('The labels of this gridliner do not belong to '\n"
     ]
    },
    {
     "name": "stdout",
     "output_type": "stream",
     "text": [
      "{'transform': <cartopy.crs.PlateCarree object at 0x7ff29742f1d0>, 'color': 'w'}\n"
     ]
    },
    {
     "name": "stderr",
     "output_type": "stream",
     "text": [
      "/home/jtomf/miniconda3/lib/python3.9/site-packages/cartopy/mpl/gridliner.py:741: UserWarning: The labels of this gridliner do not belong to the gridliner axes\n",
      "  warnings.warn('The labels of this gridliner do not belong to '\n"
     ]
    },
    {
     "name": "stdout",
     "output_type": "stream",
     "text": [
      "{'transform': <cartopy.crs.PlateCarree object at 0x7ff2972552c0>, 'color': 'w'}\n"
     ]
    },
    {
     "name": "stderr",
     "output_type": "stream",
     "text": [
      "/home/jtomf/miniconda3/lib/python3.9/site-packages/cartopy/mpl/gridliner.py:741: UserWarning: The labels of this gridliner do not belong to the gridliner axes\n",
      "  warnings.warn('The labels of this gridliner do not belong to '\n"
     ]
    },
    {
     "name": "stdout",
     "output_type": "stream",
     "text": [
      "{'transform': <cartopy.crs.PlateCarree object at 0x7ff296ed68b0>, 'color': 'w'}\n",
      "{'transform': <cartopy.crs.PlateCarree object at 0x7ff29702c4a0>, 'color': 'w'}\n"
     ]
    },
    {
     "name": "stderr",
     "output_type": "stream",
     "text": [
      "/home/jtomf/miniconda3/lib/python3.9/site-packages/cartopy/mpl/gridliner.py:741: UserWarning: The labels of this gridliner do not belong to the gridliner axes\n",
      "  warnings.warn('The labels of this gridliner do not belong to '\n"
     ]
    },
    {
     "name": "stdout",
     "output_type": "stream",
     "text": [
      "{'transform': <cartopy.crs.PlateCarree object at 0x7ff296e24540>, 'color': 'w'}\n"
     ]
    },
    {
     "name": "stderr",
     "output_type": "stream",
     "text": [
      "/home/jtomf/miniconda3/lib/python3.9/site-packages/cartopy/mpl/gridliner.py:741: UserWarning: The labels of this gridliner do not belong to the gridliner axes\n",
      "  warnings.warn('The labels of this gridliner do not belong to '\n"
     ]
    },
    {
     "name": "stdout",
     "output_type": "stream",
     "text": [
      "{'transform': <cartopy.crs.PlateCarree object at 0x7ff296cf82c0>, 'color': 'w'}\n",
      "{'transform': <cartopy.crs.PlateCarree object at 0x7ff297323720>, 'color': 'w'}\n"
     ]
    },
    {
     "name": "stderr",
     "output_type": "stream",
     "text": [
      "/home/jtomf/miniconda3/lib/python3.9/site-packages/cartopy/mpl/gridliner.py:741: UserWarning: The labels of this gridliner do not belong to the gridliner axes\n",
      "  warnings.warn('The labels of this gridliner do not belong to '\n"
     ]
    },
    {
     "name": "stdout",
     "output_type": "stream",
     "text": [
      "{'transform': <cartopy.crs.PlateCarree object at 0x7ff29723ee50>, 'color': 'w'}\n"
     ]
    },
    {
     "name": "stderr",
     "output_type": "stream",
     "text": [
      "/home/jtomf/miniconda3/lib/python3.9/site-packages/cartopy/mpl/gridliner.py:741: UserWarning: The labels of this gridliner do not belong to the gridliner axes\n",
      "  warnings.warn('The labels of this gridliner do not belong to '\n"
     ]
    },
    {
     "name": "stdout",
     "output_type": "stream",
     "text": [
      "{'transform': <cartopy.crs.PlateCarree object at 0x7ff297299310>, 'color': 'w'}\n",
      "{'transform': <cartopy.crs.PlateCarree object at 0x7ff29711a950>, 'color': 'w'}\n"
     ]
    },
    {
     "name": "stderr",
     "output_type": "stream",
     "text": [
      "/home/jtomf/miniconda3/lib/python3.9/site-packages/cartopy/mpl/gridliner.py:741: UserWarning: The labels of this gridliner do not belong to the gridliner axes\n",
      "  warnings.warn('The labels of this gridliner do not belong to '\n"
     ]
    },
    {
     "name": "stdout",
     "output_type": "stream",
     "text": [
      "{'transform': <cartopy.crs.PlateCarree object at 0x7ff296e9ad10>, 'color': 'w'}\n"
     ]
    },
    {
     "name": "stderr",
     "output_type": "stream",
     "text": [
      "/home/jtomf/miniconda3/lib/python3.9/site-packages/cartopy/mpl/gridliner.py:741: UserWarning: The labels of this gridliner do not belong to the gridliner axes\n",
      "  warnings.warn('The labels of this gridliner do not belong to '\n"
     ]
    },
    {
     "name": "stdout",
     "output_type": "stream",
     "text": [
      "{'transform': <cartopy.crs.PlateCarree object at 0x7ff29717f360>, 'color': 'w'}\n"
     ]
    },
    {
     "name": "stderr",
     "output_type": "stream",
     "text": [
      "/home/jtomf/miniconda3/lib/python3.9/site-packages/cartopy/mpl/gridliner.py:741: UserWarning: The labels of this gridliner do not belong to the gridliner axes\n",
      "  warnings.warn('The labels of this gridliner do not belong to '\n"
     ]
    },
    {
     "name": "stdout",
     "output_type": "stream",
     "text": [
      "{'transform': <cartopy.crs.PlateCarree object at 0x7ff29731a6d0>, 'color': 'w'}\n"
     ]
    },
    {
     "name": "stderr",
     "output_type": "stream",
     "text": [
      "/home/jtomf/miniconda3/lib/python3.9/site-packages/cartopy/mpl/gridliner.py:741: UserWarning: The labels of this gridliner do not belong to the gridliner axes\n",
      "  warnings.warn('The labels of this gridliner do not belong to '\n"
     ]
    },
    {
     "name": "stdout",
     "output_type": "stream",
     "text": [
      "{'transform': <cartopy.crs.PlateCarree object at 0x7ff2973691d0>, 'color': 'w'}\n"
     ]
    },
    {
     "name": "stderr",
     "output_type": "stream",
     "text": [
      "/home/jtomf/miniconda3/lib/python3.9/site-packages/cartopy/mpl/gridliner.py:741: UserWarning: The labels of this gridliner do not belong to the gridliner axes\n",
      "  warnings.warn('The labels of this gridliner do not belong to '\n"
     ]
    },
    {
     "name": "stdout",
     "output_type": "stream",
     "text": [
      "{'transform': <cartopy.crs.PlateCarree object at 0x7ff2971a4360>, 'color': 'w'}\n"
     ]
    },
    {
     "name": "stderr",
     "output_type": "stream",
     "text": [
      "/home/jtomf/miniconda3/lib/python3.9/site-packages/cartopy/mpl/gridliner.py:741: UserWarning: The labels of this gridliner do not belong to the gridliner axes\n",
      "  warnings.warn('The labels of this gridliner do not belong to '\n"
     ]
    },
    {
     "name": "stdout",
     "output_type": "stream",
     "text": [
      "{'transform': <cartopy.crs.PlateCarree object at 0x7ff29749b090>, 'color': 'w'}\n"
     ]
    },
    {
     "name": "stderr",
     "output_type": "stream",
     "text": [
      "/home/jtomf/miniconda3/lib/python3.9/site-packages/cartopy/mpl/gridliner.py:741: UserWarning: The labels of this gridliner do not belong to the gridliner axes\n",
      "  warnings.warn('The labels of this gridliner do not belong to '\n"
     ]
    },
    {
     "name": "stdout",
     "output_type": "stream",
     "text": [
      "{'transform': <cartopy.crs.PlateCarree object at 0x7ff296d81090>, 'color': 'w'}\n"
     ]
    },
    {
     "name": "stderr",
     "output_type": "stream",
     "text": [
      "/home/jtomf/miniconda3/lib/python3.9/site-packages/cartopy/mpl/gridliner.py:741: UserWarning: The labels of this gridliner do not belong to the gridliner axes\n",
      "  warnings.warn('The labels of this gridliner do not belong to '\n"
     ]
    },
    {
     "name": "stdout",
     "output_type": "stream",
     "text": [
      "{'transform': <cartopy.crs.PlateCarree object at 0x7ff296c832c0>, 'color': 'w'}\n"
     ]
    },
    {
     "name": "stderr",
     "output_type": "stream",
     "text": [
      "/home/jtomf/miniconda3/lib/python3.9/site-packages/cartopy/mpl/gridliner.py:741: UserWarning: The labels of this gridliner do not belong to the gridliner axes\n",
      "  warnings.warn('The labels of this gridliner do not belong to '\n"
     ]
    },
    {
     "name": "stdout",
     "output_type": "stream",
     "text": [
      "{'transform': <cartopy.crs.PlateCarree object at 0x7ff297016f90>, 'color': 'w'}\n"
     ]
    },
    {
     "name": "stderr",
     "output_type": "stream",
     "text": [
      "/home/jtomf/miniconda3/lib/python3.9/site-packages/cartopy/mpl/gridliner.py:741: UserWarning: The labels of this gridliner do not belong to the gridliner axes\n",
      "  warnings.warn('The labels of this gridliner do not belong to '\n"
     ]
    },
    {
     "name": "stdout",
     "output_type": "stream",
     "text": [
      "{'transform': <cartopy.crs.PlateCarree object at 0x7ff296499220>, 'color': 'w'}\n"
     ]
    },
    {
     "name": "stderr",
     "output_type": "stream",
     "text": [
      "/home/jtomf/miniconda3/lib/python3.9/site-packages/cartopy/mpl/gridliner.py:741: UserWarning: The labels of this gridliner do not belong to the gridliner axes\n",
      "  warnings.warn('The labels of this gridliner do not belong to '\n"
     ]
    },
    {
     "name": "stdout",
     "output_type": "stream",
     "text": [
      "{'transform': <cartopy.crs.PlateCarree object at 0x7ff297239310>, 'color': 'w'}\n"
     ]
    },
    {
     "name": "stderr",
     "output_type": "stream",
     "text": [
      "/home/jtomf/miniconda3/lib/python3.9/site-packages/cartopy/mpl/gridliner.py:741: UserWarning: The labels of this gridliner do not belong to the gridliner axes\n",
      "  warnings.warn('The labels of this gridliner do not belong to '\n"
     ]
    },
    {
     "name": "stdout",
     "output_type": "stream",
     "text": [
      "{'transform': <cartopy.crs.PlateCarree object at 0x7ff29737e040>, 'color': 'w'}\n",
      "{'transform': <cartopy.crs.PlateCarree object at 0x7ff296471a40>, 'color': 'w'}\n"
     ]
    },
    {
     "name": "stderr",
     "output_type": "stream",
     "text": [
      "/home/jtomf/miniconda3/lib/python3.9/site-packages/cartopy/mpl/gridliner.py:741: UserWarning: The labels of this gridliner do not belong to the gridliner axes\n",
      "  warnings.warn('The labels of this gridliner do not belong to '\n"
     ]
    },
    {
     "name": "stdout",
     "output_type": "stream",
     "text": [
      "{'transform': <cartopy.crs.PlateCarree object at 0x7ff296298540>, 'color': 'w'}\n"
     ]
    },
    {
     "name": "stderr",
     "output_type": "stream",
     "text": [
      "/home/jtomf/miniconda3/lib/python3.9/site-packages/cartopy/mpl/gridliner.py:741: UserWarning: The labels of this gridliner do not belong to the gridliner axes\n",
      "  warnings.warn('The labels of this gridliner do not belong to '\n"
     ]
    },
    {
     "name": "stdout",
     "output_type": "stream",
     "text": [
      "{'transform': <cartopy.crs.PlateCarree object at 0x7ff29712f2c0>, 'color': 'w'}\n",
      "{'transform': <cartopy.crs.PlateCarree object at 0x7ff2971d6ea0>, 'color': 'w'}\n"
     ]
    },
    {
     "name": "stderr",
     "output_type": "stream",
     "text": [
      "/home/jtomf/miniconda3/lib/python3.9/site-packages/cartopy/mpl/gridliner.py:741: UserWarning: The labels of this gridliner do not belong to the gridliner axes\n",
      "  warnings.warn('The labels of this gridliner do not belong to '\n"
     ]
    },
    {
     "name": "stdout",
     "output_type": "stream",
     "text": [
      "{'transform': <cartopy.crs.PlateCarree object at 0x7ff2970e3e50>, 'color': 'w'}\n"
     ]
    },
    {
     "name": "stderr",
     "output_type": "stream",
     "text": [
      "/home/jtomf/miniconda3/lib/python3.9/site-packages/cartopy/mpl/gridliner.py:741: UserWarning: The labels of this gridliner do not belong to the gridliner axes\n",
      "  warnings.warn('The labels of this gridliner do not belong to '\n"
     ]
    },
    {
     "name": "stdout",
     "output_type": "stream",
     "text": [
      "{'transform': <cartopy.crs.PlateCarree object at 0x7ff296be8360>, 'color': 'w'}\n",
      "{'transform': <cartopy.crs.PlateCarree object at 0x7ff2961dc6d0>, 'color': 'w'}\n"
     ]
    },
    {
     "name": "stderr",
     "output_type": "stream",
     "text": [
      "/home/jtomf/miniconda3/lib/python3.9/site-packages/cartopy/mpl/gridliner.py:741: UserWarning: The labels of this gridliner do not belong to the gridliner axes\n",
      "  warnings.warn('The labels of this gridliner do not belong to '\n"
     ]
    },
    {
     "name": "stdout",
     "output_type": "stream",
     "text": [
      "{'transform': <cartopy.crs.PlateCarree object at 0x7ff296d99db0>, 'color': 'w'}\n"
     ]
    },
    {
     "name": "stderr",
     "output_type": "stream",
     "text": [
      "/home/jtomf/miniconda3/lib/python3.9/site-packages/cartopy/mpl/gridliner.py:741: UserWarning: The labels of this gridliner do not belong to the gridliner axes\n",
      "  warnings.warn('The labels of this gridliner do not belong to '\n"
     ]
    },
    {
     "name": "stdout",
     "output_type": "stream",
     "text": [
      "{'transform': <cartopy.crs.PlateCarree object at 0x7ff296a39360>, 'color': 'w'}\n"
     ]
    },
    {
     "name": "stderr",
     "output_type": "stream",
     "text": [
      "/home/jtomf/miniconda3/lib/python3.9/site-packages/cartopy/mpl/gridliner.py:741: UserWarning: The labels of this gridliner do not belong to the gridliner axes\n",
      "  warnings.warn('The labels of this gridliner do not belong to '\n"
     ]
    },
    {
     "name": "stdout",
     "output_type": "stream",
     "text": [
      "{'transform': <cartopy.crs.PlateCarree object at 0x7ff296e7bb30>, 'color': 'w'}\n"
     ]
    },
    {
     "name": "stderr",
     "output_type": "stream",
     "text": [
      "/home/jtomf/miniconda3/lib/python3.9/site-packages/cartopy/mpl/gridliner.py:741: UserWarning: The labels of this gridliner do not belong to the gridliner axes\n",
      "  warnings.warn('The labels of this gridliner do not belong to '\n"
     ]
    },
    {
     "name": "stdout",
     "output_type": "stream",
     "text": [
      "{'transform': <cartopy.crs.PlateCarree object at 0x7ff296c701d0>, 'color': 'w'}\n"
     ]
    },
    {
     "name": "stderr",
     "output_type": "stream",
     "text": [
      "/home/jtomf/miniconda3/lib/python3.9/site-packages/cartopy/mpl/gridliner.py:741: UserWarning: The labels of this gridliner do not belong to the gridliner axes\n",
      "  warnings.warn('The labels of this gridliner do not belong to '\n"
     ]
    },
    {
     "name": "stdout",
     "output_type": "stream",
     "text": [
      "{'transform': <cartopy.crs.PlateCarree object at 0x7ff296a64360>, 'color': 'w'}\n"
     ]
    },
    {
     "name": "stderr",
     "output_type": "stream",
     "text": [
      "/home/jtomf/miniconda3/lib/python3.9/site-packages/cartopy/mpl/gridliner.py:741: UserWarning: The labels of this gridliner do not belong to the gridliner axes\n",
      "  warnings.warn('The labels of this gridliner do not belong to '\n"
     ]
    },
    {
     "name": "stdout",
     "output_type": "stream",
     "text": [
      "{'transform': <cartopy.crs.PlateCarree object at 0x7ff29631d770>, 'color': 'w'}\n"
     ]
    },
    {
     "name": "stderr",
     "output_type": "stream",
     "text": [
      "/home/jtomf/miniconda3/lib/python3.9/site-packages/cartopy/mpl/gridliner.py:741: UserWarning: The labels of this gridliner do not belong to the gridliner axes\n",
      "  warnings.warn('The labels of this gridliner do not belong to '\n"
     ]
    },
    {
     "name": "stdout",
     "output_type": "stream",
     "text": [
      "{'transform': <cartopy.crs.PlateCarree object at 0x7ff2972d2f90>, 'color': 'w'}\n"
     ]
    },
    {
     "name": "stderr",
     "output_type": "stream",
     "text": [
      "/home/jtomf/miniconda3/lib/python3.9/site-packages/cartopy/mpl/gridliner.py:741: UserWarning: The labels of this gridliner do not belong to the gridliner axes\n",
      "  warnings.warn('The labels of this gridliner do not belong to '\n"
     ]
    },
    {
     "name": "stdout",
     "output_type": "stream",
     "text": [
      "{'transform': <cartopy.crs.PlateCarree object at 0x7ff296e0f220>, 'color': 'w'}\n"
     ]
    },
    {
     "name": "stderr",
     "output_type": "stream",
     "text": [
      "/home/jtomf/miniconda3/lib/python3.9/site-packages/cartopy/mpl/gridliner.py:741: UserWarning: The labels of this gridliner do not belong to the gridliner axes\n",
      "  warnings.warn('The labels of this gridliner do not belong to '\n"
     ]
    },
    {
     "name": "stdout",
     "output_type": "stream",
     "text": [
      "{'transform': <cartopy.crs.PlateCarree object at 0x7ff2973299a0>, 'color': 'w'}\n"
     ]
    },
    {
     "name": "stderr",
     "output_type": "stream",
     "text": [
      "/home/jtomf/miniconda3/lib/python3.9/site-packages/cartopy/mpl/gridliner.py:741: UserWarning: The labels of this gridliner do not belong to the gridliner axes\n",
      "  warnings.warn('The labels of this gridliner do not belong to '\n"
     ]
    },
    {
     "name": "stdout",
     "output_type": "stream",
     "text": [
      "{'transform': <cartopy.crs.PlateCarree object at 0x7ff296c38ef0>, 'color': 'w'}\n"
     ]
    },
    {
     "name": "stderr",
     "output_type": "stream",
     "text": [
      "/home/jtomf/miniconda3/lib/python3.9/site-packages/cartopy/mpl/gridliner.py:741: UserWarning: The labels of this gridliner do not belong to the gridliner axes\n",
      "  warnings.warn('The labels of this gridliner do not belong to '\n"
     ]
    },
    {
     "name": "stdout",
     "output_type": "stream",
     "text": [
      "{'transform': <cartopy.crs.PlateCarree object at 0x7ff296ea60e0>, 'color': 'w'}\n"
     ]
    },
    {
     "name": "stderr",
     "output_type": "stream",
     "text": [
      "/home/jtomf/miniconda3/lib/python3.9/site-packages/cartopy/mpl/gridliner.py:741: UserWarning: The labels of this gridliner do not belong to the gridliner axes\n",
      "  warnings.warn('The labels of this gridliner do not belong to '\n"
     ]
    },
    {
     "name": "stdout",
     "output_type": "stream",
     "text": [
      "{'transform': <cartopy.crs.PlateCarree object at 0x7ff2971f2900>, 'color': 'w'}\n",
      "{'transform': <cartopy.crs.PlateCarree object at 0x7ff2972ed400>, 'color': 'w'}\n"
     ]
    },
    {
     "name": "stderr",
     "output_type": "stream",
     "text": [
      "/home/jtomf/miniconda3/lib/python3.9/site-packages/cartopy/mpl/gridliner.py:741: UserWarning: The labels of this gridliner do not belong to the gridliner axes\n",
      "  warnings.warn('The labels of this gridliner do not belong to '\n"
     ]
    },
    {
     "name": "stdout",
     "output_type": "stream",
     "text": [
      "{'transform': <cartopy.crs.PlateCarree object at 0x7ff296f143b0>, 'color': 'w'}\n"
     ]
    },
    {
     "name": "stderr",
     "output_type": "stream",
     "text": [
      "/home/jtomf/miniconda3/lib/python3.9/site-packages/cartopy/mpl/gridliner.py:741: UserWarning: The labels of this gridliner do not belong to the gridliner axes\n",
      "  warnings.warn('The labels of this gridliner do not belong to '\n"
     ]
    },
    {
     "name": "stdout",
     "output_type": "stream",
     "text": [
      "{'transform': <cartopy.crs.PlateCarree object at 0x7ff296c042c0>, 'color': 'w'}\n",
      "{'transform': <cartopy.crs.PlateCarree object at 0x7ff29721d220>, 'color': 'w'}\n"
     ]
    },
    {
     "name": "stderr",
     "output_type": "stream",
     "text": [
      "/home/jtomf/miniconda3/lib/python3.9/site-packages/cartopy/mpl/gridliner.py:741: UserWarning: The labels of this gridliner do not belong to the gridliner axes\n",
      "  warnings.warn('The labels of this gridliner do not belong to '\n"
     ]
    },
    {
     "name": "stdout",
     "output_type": "stream",
     "text": [
      "{'transform': <cartopy.crs.PlateCarree object at 0x7ff297208e50>, 'color': 'w'}\n"
     ]
    },
    {
     "name": "stderr",
     "output_type": "stream",
     "text": [
      "/home/jtomf/miniconda3/lib/python3.9/site-packages/cartopy/mpl/gridliner.py:741: UserWarning: The labels of this gridliner do not belong to the gridliner axes\n",
      "  warnings.warn('The labels of this gridliner do not belong to '\n"
     ]
    },
    {
     "name": "stdout",
     "output_type": "stream",
     "text": [
      "{'transform': <cartopy.crs.PlateCarree object at 0x7ff29607d360>, 'color': 'w'}\n",
      "{'transform': <cartopy.crs.PlateCarree object at 0x7ff2970a0180>, 'color': 'w'}\n"
     ]
    },
    {
     "name": "stderr",
     "output_type": "stream",
     "text": [
      "/home/jtomf/miniconda3/lib/python3.9/site-packages/cartopy/mpl/gridliner.py:741: UserWarning: The labels of this gridliner do not belong to the gridliner axes\n",
      "  warnings.warn('The labels of this gridliner do not belong to '\n"
     ]
    },
    {
     "name": "stdout",
     "output_type": "stream",
     "text": [
      "{'transform': <cartopy.crs.PlateCarree object at 0x7ff29706cdb0>, 'color': 'w'}\n"
     ]
    },
    {
     "name": "stderr",
     "output_type": "stream",
     "text": [
      "/home/jtomf/miniconda3/lib/python3.9/site-packages/cartopy/mpl/gridliner.py:741: UserWarning: The labels of this gridliner do not belong to the gridliner axes\n",
      "  warnings.warn('The labels of this gridliner do not belong to '\n"
     ]
    },
    {
     "name": "stdout",
     "output_type": "stream",
     "text": [
      "{'transform': <cartopy.crs.PlateCarree object at 0x7ff297336360>, 'color': 'w'}\n"
     ]
    },
    {
     "name": "stderr",
     "output_type": "stream",
     "text": [
      "/home/jtomf/miniconda3/lib/python3.9/site-packages/cartopy/mpl/gridliner.py:741: UserWarning: The labels of this gridliner do not belong to the gridliner axes\n",
      "  warnings.warn('The labels of this gridliner do not belong to '\n"
     ]
    },
    {
     "name": "stdout",
     "output_type": "stream",
     "text": [
      "{'transform': <cartopy.crs.PlateCarree object at 0x7ff296e420e0>, 'color': 'w'}\n"
     ]
    },
    {
     "name": "stderr",
     "output_type": "stream",
     "text": [
      "/home/jtomf/miniconda3/lib/python3.9/site-packages/cartopy/mpl/gridliner.py:741: UserWarning: The labels of this gridliner do not belong to the gridliner axes\n",
      "  warnings.warn('The labels of this gridliner do not belong to '\n"
     ]
    },
    {
     "name": "stdout",
     "output_type": "stream",
     "text": [
      "{'transform': <cartopy.crs.PlateCarree object at 0x7ff2973171d0>, 'color': 'w'}\n"
     ]
    },
    {
     "name": "stderr",
     "output_type": "stream",
     "text": [
      "/home/jtomf/miniconda3/lib/python3.9/site-packages/cartopy/mpl/gridliner.py:741: UserWarning: The labels of this gridliner do not belong to the gridliner axes\n",
      "  warnings.warn('The labels of this gridliner do not belong to '\n"
     ]
    },
    {
     "name": "stdout",
     "output_type": "stream",
     "text": [
      "{'transform': <cartopy.crs.PlateCarree object at 0x7ff2972d93b0>, 'color': 'w'}\n"
     ]
    },
    {
     "name": "stderr",
     "output_type": "stream",
     "text": [
      "/home/jtomf/miniconda3/lib/python3.9/site-packages/cartopy/mpl/gridliner.py:741: UserWarning: The labels of this gridliner do not belong to the gridliner axes\n",
      "  warnings.warn('The labels of this gridliner do not belong to '\n"
     ]
    },
    {
     "name": "stdout",
     "output_type": "stream",
     "text": [
      "{'transform': <cartopy.crs.PlateCarree object at 0x7ff296aeeea0>, 'color': 'w'}\n"
     ]
    },
    {
     "name": "stderr",
     "output_type": "stream",
     "text": [
      "/home/jtomf/miniconda3/lib/python3.9/site-packages/cartopy/mpl/gridliner.py:741: UserWarning: The labels of this gridliner do not belong to the gridliner axes\n",
      "  warnings.warn('The labels of this gridliner do not belong to '\n"
     ]
    },
    {
     "name": "stdout",
     "output_type": "stream",
     "text": [
      "{'transform': <cartopy.crs.PlateCarree object at 0x7ff2973c00e0>, 'color': 'w'}\n"
     ]
    },
    {
     "name": "stderr",
     "output_type": "stream",
     "text": [
      "/home/jtomf/miniconda3/lib/python3.9/site-packages/cartopy/mpl/gridliner.py:741: UserWarning: The labels of this gridliner do not belong to the gridliner axes\n",
      "  warnings.warn('The labels of this gridliner do not belong to '\n"
     ]
    },
    {
     "name": "stdout",
     "output_type": "stream",
     "text": [
      "{'transform': <cartopy.crs.PlateCarree object at 0x7ff2960a4310>, 'color': 'w'}\n"
     ]
    },
    {
     "name": "stderr",
     "output_type": "stream",
     "text": [
      "/home/jtomf/miniconda3/lib/python3.9/site-packages/cartopy/mpl/gridliner.py:741: UserWarning: The labels of this gridliner do not belong to the gridliner axes\n",
      "  warnings.warn('The labels of this gridliner do not belong to '\n"
     ]
    },
    {
     "name": "stdout",
     "output_type": "stream",
     "text": [
      "{'transform': <cartopy.crs.PlateCarree object at 0x7ff296aee950>, 'color': 'w'}\n"
     ]
    },
    {
     "name": "stderr",
     "output_type": "stream",
     "text": [
      "/home/jtomf/miniconda3/lib/python3.9/site-packages/cartopy/mpl/gridliner.py:741: UserWarning: The labels of this gridliner do not belong to the gridliner axes\n",
      "  warnings.warn('The labels of this gridliner do not belong to '\n"
     ]
    },
    {
     "name": "stdout",
     "output_type": "stream",
     "text": [
      "{'transform': <cartopy.crs.PlateCarree object at 0x7ff2970faef0>, 'color': 'w'}\n"
     ]
    },
    {
     "name": "stderr",
     "output_type": "stream",
     "text": [
      "/home/jtomf/miniconda3/lib/python3.9/site-packages/cartopy/mpl/gridliner.py:741: UserWarning: The labels of this gridliner do not belong to the gridliner axes\n",
      "  warnings.warn('The labels of this gridliner do not belong to '\n"
     ]
    },
    {
     "name": "stdout",
     "output_type": "stream",
     "text": [
      "{'transform': <cartopy.crs.PlateCarree object at 0x7ff29629d0e0>, 'color': 'w'}\n"
     ]
    },
    {
     "name": "stderr",
     "output_type": "stream",
     "text": [
      "/home/jtomf/miniconda3/lib/python3.9/site-packages/cartopy/mpl/gridliner.py:741: UserWarning: The labels of this gridliner do not belong to the gridliner axes\n",
      "  warnings.warn('The labels of this gridliner do not belong to '\n"
     ]
    },
    {
     "name": "stdout",
     "output_type": "stream",
     "text": [
      "{'transform': <cartopy.crs.PlateCarree object at 0x7ff297329220>, 'color': 'w'}\n",
      "{'transform': <cartopy.crs.PlateCarree object at 0x7ff296cf6a90>, 'color': 'w'}\n"
     ]
    },
    {
     "name": "stderr",
     "output_type": "stream",
     "text": [
      "/home/jtomf/miniconda3/lib/python3.9/site-packages/cartopy/mpl/gridliner.py:741: UserWarning: The labels of this gridliner do not belong to the gridliner axes\n",
      "  warnings.warn('The labels of this gridliner do not belong to '\n"
     ]
    },
    {
     "name": "stdout",
     "output_type": "stream",
     "text": [
      "{'transform': <cartopy.crs.PlateCarree object at 0x7ff2952713b0>, 'color': 'w'}\n"
     ]
    },
    {
     "name": "stderr",
     "output_type": "stream",
     "text": [
      "/home/jtomf/miniconda3/lib/python3.9/site-packages/cartopy/mpl/gridliner.py:741: UserWarning: The labels of this gridliner do not belong to the gridliner axes\n",
      "  warnings.warn('The labels of this gridliner do not belong to '\n"
     ]
    },
    {
     "name": "stdout",
     "output_type": "stream",
     "text": [
      "{'transform': <cartopy.crs.PlateCarree object at 0x7ff2961bd2c0>, 'color': 'w'}\n",
      "{'transform': <cartopy.crs.PlateCarree object at 0x7ff29739dd60>, 'color': 'w'}\n"
     ]
    },
    {
     "name": "stderr",
     "output_type": "stream",
     "text": [
      "/home/jtomf/miniconda3/lib/python3.9/site-packages/cartopy/mpl/gridliner.py:741: UserWarning: The labels of this gridliner do not belong to the gridliner axes\n",
      "  warnings.warn('The labels of this gridliner do not belong to '\n"
     ]
    },
    {
     "name": "stdout",
     "output_type": "stream",
     "text": [
      "{'transform': <cartopy.crs.PlateCarree object at 0x7ff297215e00>, 'color': 'w'}\n"
     ]
    },
    {
     "name": "stderr",
     "output_type": "stream",
     "text": [
      "/home/jtomf/miniconda3/lib/python3.9/site-packages/cartopy/mpl/gridliner.py:741: UserWarning: The labels of this gridliner do not belong to the gridliner axes\n",
      "  warnings.warn('The labels of this gridliner do not belong to '\n"
     ]
    },
    {
     "name": "stdout",
     "output_type": "stream",
     "text": [
      "{'transform': <cartopy.crs.PlateCarree object at 0x7ff296c44310>, 'color': 'w'}\n",
      "{'transform': <cartopy.crs.PlateCarree object at 0x7ff29731ee00>, 'color': 'w'}\n"
     ]
    },
    {
     "name": "stderr",
     "output_type": "stream",
     "text": [
      "/home/jtomf/miniconda3/lib/python3.9/site-packages/cartopy/mpl/gridliner.py:741: UserWarning: The labels of this gridliner do not belong to the gridliner axes\n",
      "  warnings.warn('The labels of this gridliner do not belong to '\n"
     ]
    },
    {
     "name": "stdout",
     "output_type": "stream",
     "text": [
      "{'transform': <cartopy.crs.PlateCarree object at 0x7ff297388d60>, 'color': 'w'}\n"
     ]
    },
    {
     "name": "stderr",
     "output_type": "stream",
     "text": [
      "/home/jtomf/miniconda3/lib/python3.9/site-packages/cartopy/mpl/gridliner.py:741: UserWarning: The labels of this gridliner do not belong to the gridliner axes\n",
      "  warnings.warn('The labels of this gridliner do not belong to '\n"
     ]
    },
    {
     "name": "stdout",
     "output_type": "stream",
     "text": [
      "{'transform': <cartopy.crs.PlateCarree object at 0x7ff297139310>, 'color': 'w'}\n"
     ]
    },
    {
     "name": "stderr",
     "output_type": "stream",
     "text": [
      "/home/jtomf/miniconda3/lib/python3.9/site-packages/cartopy/mpl/gridliner.py:741: UserWarning: The labels of this gridliner do not belong to the gridliner axes\n",
      "  warnings.warn('The labels of this gridliner do not belong to '\n"
     ]
    },
    {
     "name": "stdout",
     "output_type": "stream",
     "text": [
      "{'transform': <cartopy.crs.PlateCarree object at 0x7ff2972ed130>, 'color': 'w'}\n"
     ]
    },
    {
     "name": "stderr",
     "output_type": "stream",
     "text": [
      "/home/jtomf/miniconda3/lib/python3.9/site-packages/cartopy/mpl/gridliner.py:741: UserWarning: The labels of this gridliner do not belong to the gridliner axes\n",
      "  warnings.warn('The labels of this gridliner do not belong to '\n"
     ]
    },
    {
     "name": "stdout",
     "output_type": "stream",
     "text": [
      "{'transform': <cartopy.crs.PlateCarree object at 0x7ff296f01180>, 'color': 'w'}\n"
     ]
    },
    {
     "name": "stderr",
     "output_type": "stream",
     "text": [
      "/home/jtomf/miniconda3/lib/python3.9/site-packages/cartopy/mpl/gridliner.py:741: UserWarning: The labels of this gridliner do not belong to the gridliner axes\n",
      "  warnings.warn('The labels of this gridliner do not belong to '\n"
     ]
    },
    {
     "name": "stdout",
     "output_type": "stream",
     "text": [
      "{'transform': <cartopy.crs.PlateCarree object at 0x7ff296d43360>, 'color': 'w'}\n"
     ]
    },
    {
     "name": "stderr",
     "output_type": "stream",
     "text": [
      "/home/jtomf/miniconda3/lib/python3.9/site-packages/cartopy/mpl/gridliner.py:741: UserWarning: The labels of this gridliner do not belong to the gridliner axes\n",
      "  warnings.warn('The labels of this gridliner do not belong to '\n"
     ]
    },
    {
     "name": "stdout",
     "output_type": "stream",
     "text": [
      "{'transform': <cartopy.crs.PlateCarree object at 0x7ff29749dcc0>, 'color': 'w'}\n"
     ]
    },
    {
     "name": "stderr",
     "output_type": "stream",
     "text": [
      "/home/jtomf/miniconda3/lib/python3.9/site-packages/cartopy/mpl/gridliner.py:741: UserWarning: The labels of this gridliner do not belong to the gridliner axes\n",
      "  warnings.warn('The labels of this gridliner do not belong to '\n"
     ]
    },
    {
     "name": "stdout",
     "output_type": "stream",
     "text": [
      "{'transform': <cartopy.crs.PlateCarree object at 0x7ff297081040>, 'color': 'w'}\n"
     ]
    },
    {
     "name": "stderr",
     "output_type": "stream",
     "text": [
      "/home/jtomf/miniconda3/lib/python3.9/site-packages/cartopy/mpl/gridliner.py:741: UserWarning: The labels of this gridliner do not belong to the gridliner axes\n",
      "  warnings.warn('The labels of this gridliner do not belong to '\n"
     ]
    },
    {
     "name": "stdout",
     "output_type": "stream",
     "text": [
      "{'transform': <cartopy.crs.PlateCarree object at 0x7ff2961c3270>, 'color': 'w'}\n"
     ]
    },
    {
     "name": "stderr",
     "output_type": "stream",
     "text": [
      "/home/jtomf/miniconda3/lib/python3.9/site-packages/cartopy/mpl/gridliner.py:741: UserWarning: The labels of this gridliner do not belong to the gridliner axes\n",
      "  warnings.warn('The labels of this gridliner do not belong to '\n"
     ]
    },
    {
     "name": "stdout",
     "output_type": "stream",
     "text": [
      "{'transform': <cartopy.crs.PlateCarree object at 0x7ff29749dc20>, 'color': 'w'}\n"
     ]
    },
    {
     "name": "stderr",
     "output_type": "stream",
     "text": [
      "/home/jtomf/miniconda3/lib/python3.9/site-packages/cartopy/mpl/gridliner.py:741: UserWarning: The labels of this gridliner do not belong to the gridliner axes\n",
      "  warnings.warn('The labels of this gridliner do not belong to '\n"
     ]
    },
    {
     "name": "stdout",
     "output_type": "stream",
     "text": [
      "{'transform': <cartopy.crs.PlateCarree object at 0x7ff29705af40>, 'color': 'w'}\n"
     ]
    },
    {
     "name": "stderr",
     "output_type": "stream",
     "text": [
      "/home/jtomf/miniconda3/lib/python3.9/site-packages/cartopy/mpl/gridliner.py:741: UserWarning: The labels of this gridliner do not belong to the gridliner axes\n",
      "  warnings.warn('The labels of this gridliner do not belong to '\n"
     ]
    },
    {
     "name": "stdout",
     "output_type": "stream",
     "text": [
      "{'transform': <cartopy.crs.PlateCarree object at 0x7ff297330130>, 'color': 'w'}\n"
     ]
    },
    {
     "name": "stderr",
     "output_type": "stream",
     "text": [
      "/home/jtomf/miniconda3/lib/python3.9/site-packages/cartopy/mpl/gridliner.py:741: UserWarning: The labels of this gridliner do not belong to the gridliner axes\n",
      "  warnings.warn('The labels of this gridliner do not belong to '\n"
     ]
    },
    {
     "name": "stdout",
     "output_type": "stream",
     "text": [
      "{'transform': <cartopy.crs.PlateCarree object at 0x7ff29702be00>, 'color': 'w'}\n",
      "{'transform': <cartopy.crs.PlateCarree object at 0x7ff296e42770>, 'color': 'w'}\n"
     ]
    },
    {
     "name": "stderr",
     "output_type": "stream",
     "text": [
      "/home/jtomf/miniconda3/lib/python3.9/site-packages/cartopy/mpl/gridliner.py:741: UserWarning: The labels of this gridliner do not belong to the gridliner axes\n",
      "  warnings.warn('The labels of this gridliner do not belong to '\n"
     ]
    },
    {
     "name": "stdout",
     "output_type": "stream",
     "text": [
      "{'transform': <cartopy.crs.PlateCarree object at 0x7ff297313400>, 'color': 'w'}\n"
     ]
    },
    {
     "name": "stderr",
     "output_type": "stream",
     "text": [
      "/home/jtomf/miniconda3/lib/python3.9/site-packages/cartopy/mpl/gridliner.py:741: UserWarning: The labels of this gridliner do not belong to the gridliner axes\n",
      "  warnings.warn('The labels of this gridliner do not belong to '\n"
     ]
    },
    {
     "name": "stdout",
     "output_type": "stream",
     "text": [
      "{'transform': <cartopy.crs.PlateCarree object at 0x7ff296d08310>, 'color': 'w'}\n",
      "{'transform': <cartopy.crs.PlateCarree object at 0x7ff296e69a90>, 'color': 'w'}\n"
     ]
    },
    {
     "name": "stderr",
     "output_type": "stream",
     "text": [
      "/home/jtomf/miniconda3/lib/python3.9/site-packages/cartopy/mpl/gridliner.py:741: UserWarning: The labels of this gridliner do not belong to the gridliner axes\n",
      "  warnings.warn('The labels of this gridliner do not belong to '\n"
     ]
    },
    {
     "name": "stdout",
     "output_type": "stream",
     "text": [
      "{'transform': <cartopy.crs.PlateCarree object at 0x7ff29706cea0>, 'color': 'w'}\n"
     ]
    },
    {
     "name": "stderr",
     "output_type": "stream",
     "text": [
      "/home/jtomf/miniconda3/lib/python3.9/site-packages/cartopy/mpl/gridliner.py:741: UserWarning: The labels of this gridliner do not belong to the gridliner axes\n",
      "  warnings.warn('The labels of this gridliner do not belong to '\n"
     ]
    },
    {
     "name": "stdout",
     "output_type": "stream",
     "text": [
      "{'transform': <cartopy.crs.PlateCarree object at 0x7ff296bb0360>, 'color': 'w'}\n",
      "{'transform': <cartopy.crs.PlateCarree object at 0x7ff296d55360>, 'color': 'w'}\n"
     ]
    },
    {
     "name": "stderr",
     "output_type": "stream",
     "text": [
      "/home/jtomf/miniconda3/lib/python3.9/site-packages/cartopy/mpl/gridliner.py:741: UserWarning: The labels of this gridliner do not belong to the gridliner axes\n",
      "  warnings.warn('The labels of this gridliner do not belong to '\n"
     ]
    },
    {
     "name": "stdout",
     "output_type": "stream",
     "text": [
      "{'transform': <cartopy.crs.PlateCarree object at 0x7ff2972dfdb0>, 'color': 'w'}\n"
     ]
    },
    {
     "name": "stderr",
     "output_type": "stream",
     "text": [
      "/home/jtomf/miniconda3/lib/python3.9/site-packages/cartopy/mpl/gridliner.py:741: UserWarning: The labels of this gridliner do not belong to the gridliner axes\n",
      "  warnings.warn('The labels of this gridliner do not belong to '\n"
     ]
    },
    {
     "name": "stdout",
     "output_type": "stream",
     "text": [
      "{'transform': <cartopy.crs.PlateCarree object at 0x7ff296d36360>, 'color': 'w'}\n"
     ]
    },
    {
     "name": "stderr",
     "output_type": "stream",
     "text": [
      "/home/jtomf/miniconda3/lib/python3.9/site-packages/cartopy/mpl/gridliner.py:741: UserWarning: The labels of this gridliner do not belong to the gridliner axes\n",
      "  warnings.warn('The labels of this gridliner do not belong to '\n"
     ]
    },
    {
     "name": "stdout",
     "output_type": "stream",
     "text": [
      "{'transform': <cartopy.crs.PlateCarree object at 0x7ff297126a40>, 'color': 'w'}\n"
     ]
    },
    {
     "name": "stderr",
     "output_type": "stream",
     "text": [
      "/home/jtomf/miniconda3/lib/python3.9/site-packages/cartopy/mpl/gridliner.py:741: UserWarning: The labels of this gridliner do not belong to the gridliner axes\n",
      "  warnings.warn('The labels of this gridliner do not belong to '\n"
     ]
    },
    {
     "name": "stdout",
     "output_type": "stream",
     "text": [
      "{'transform': <cartopy.crs.PlateCarree object at 0x7ff2952921d0>, 'color': 'w'}\n"
     ]
    },
    {
     "name": "stderr",
     "output_type": "stream",
     "text": [
      "/home/jtomf/miniconda3/lib/python3.9/site-packages/cartopy/mpl/gridliner.py:741: UserWarning: The labels of this gridliner do not belong to the gridliner axes\n",
      "  warnings.warn('The labels of this gridliner do not belong to '\n"
     ]
    },
    {
     "name": "stdout",
     "output_type": "stream",
     "text": [
      "{'transform': <cartopy.crs.PlateCarree object at 0x7ff296097360>, 'color': 'w'}\n"
     ]
    },
    {
     "name": "stderr",
     "output_type": "stream",
     "text": [
      "/home/jtomf/miniconda3/lib/python3.9/site-packages/cartopy/mpl/gridliner.py:741: UserWarning: The labels of this gridliner do not belong to the gridliner axes\n",
      "  warnings.warn('The labels of this gridliner do not belong to '\n"
     ]
    },
    {
     "name": "stdout",
     "output_type": "stream",
     "text": [
      "{'transform': <cartopy.crs.PlateCarree object at 0x7ff29739bdb0>, 'color': 'w'}\n"
     ]
    },
    {
     "name": "stderr",
     "output_type": "stream",
     "text": [
      "/home/jtomf/miniconda3/lib/python3.9/site-packages/cartopy/mpl/gridliner.py:741: UserWarning: The labels of this gridliner do not belong to the gridliner axes\n",
      "  warnings.warn('The labels of this gridliner do not belong to '\n"
     ]
    },
    {
     "name": "stdout",
     "output_type": "stream",
     "text": [
      "{'transform': <cartopy.crs.PlateCarree object at 0x7ff297342f90>, 'color': 'w'}\n"
     ]
    },
    {
     "name": "stderr",
     "output_type": "stream",
     "text": [
      "/home/jtomf/miniconda3/lib/python3.9/site-packages/cartopy/mpl/gridliner.py:741: UserWarning: The labels of this gridliner do not belong to the gridliner axes\n",
      "  warnings.warn('The labels of this gridliner do not belong to '\n"
     ]
    },
    {
     "name": "stdout",
     "output_type": "stream",
     "text": [
      "{'transform': <cartopy.crs.PlateCarree object at 0x7ff296d61220>, 'color': 'w'}\n"
     ]
    },
    {
     "name": "stderr",
     "output_type": "stream",
     "text": [
      "/home/jtomf/miniconda3/lib/python3.9/site-packages/cartopy/mpl/gridliner.py:741: UserWarning: The labels of this gridliner do not belong to the gridliner axes\n",
      "  warnings.warn('The labels of this gridliner do not belong to '\n"
     ]
    },
    {
     "name": "stdout",
     "output_type": "stream",
     "text": [
      "{'transform': <cartopy.crs.PlateCarree object at 0x7ff2964e8e50>, 'color': 'w'}\n"
     ]
    },
    {
     "name": "stderr",
     "output_type": "stream",
     "text": [
      "/home/jtomf/miniconda3/lib/python3.9/site-packages/cartopy/mpl/gridliner.py:741: UserWarning: The labels of this gridliner do not belong to the gridliner axes\n",
      "  warnings.warn('The labels of this gridliner do not belong to '\n"
     ]
    },
    {
     "name": "stdout",
     "output_type": "stream",
     "text": [
      "{'transform': <cartopy.crs.PlateCarree object at 0x7ff297005ef0>, 'color': 'w'}\n"
     ]
    },
    {
     "name": "stderr",
     "output_type": "stream",
     "text": [
      "/home/jtomf/miniconda3/lib/python3.9/site-packages/cartopy/mpl/gridliner.py:741: UserWarning: The labels of this gridliner do not belong to the gridliner axes\n",
      "  warnings.warn('The labels of this gridliner do not belong to '\n"
     ]
    },
    {
     "name": "stdout",
     "output_type": "stream",
     "text": [
      "{'transform': <cartopy.crs.PlateCarree object at 0x7ff297027130>, 'color': 'w'}\n"
     ]
    },
    {
     "name": "stderr",
     "output_type": "stream",
     "text": [
      "/home/jtomf/miniconda3/lib/python3.9/site-packages/cartopy/mpl/gridliner.py:741: UserWarning: The labels of this gridliner do not belong to the gridliner axes\n",
      "  warnings.warn('The labels of this gridliner do not belong to '\n"
     ]
    },
    {
     "name": "stdout",
     "output_type": "stream",
     "text": [
      "{'transform': <cartopy.crs.PlateCarree object at 0x7ff297273860>, 'color': 'w'}\n",
      "{'transform': <cartopy.crs.PlateCarree object at 0x7ff296a04360>, 'color': 'w'}\n"
     ]
    },
    {
     "name": "stderr",
     "output_type": "stream",
     "text": [
      "/home/jtomf/miniconda3/lib/python3.9/site-packages/cartopy/mpl/gridliner.py:741: UserWarning: The labels of this gridliner do not belong to the gridliner axes\n",
      "  warnings.warn('The labels of this gridliner do not belong to '\n"
     ]
    },
    {
     "name": "stdout",
     "output_type": "stream",
     "text": [
      "{'transform': <cartopy.crs.PlateCarree object at 0x7ff2952a2400>, 'color': 'w'}\n"
     ]
    },
    {
     "name": "stderr",
     "output_type": "stream",
     "text": [
      "/home/jtomf/miniconda3/lib/python3.9/site-packages/cartopy/mpl/gridliner.py:741: UserWarning: The labels of this gridliner do not belong to the gridliner axes\n",
      "  warnings.warn('The labels of this gridliner do not belong to '\n"
     ]
    },
    {
     "name": "stdout",
     "output_type": "stream",
     "text": [
      "{'transform': <cartopy.crs.PlateCarree object at 0x7ff296afa310>, 'color': 'w'}\n",
      "{'transform': <cartopy.crs.PlateCarree object at 0x7ff296aee130>, 'color': 'w'}\n"
     ]
    },
    {
     "name": "stderr",
     "output_type": "stream",
     "text": [
      "/home/jtomf/miniconda3/lib/python3.9/site-packages/cartopy/mpl/gridliner.py:741: UserWarning: The labels of this gridliner do not belong to the gridliner axes\n",
      "  warnings.warn('The labels of this gridliner do not belong to '\n"
     ]
    },
    {
     "name": "stdout",
     "output_type": "stream",
     "text": [
      "{'transform': <cartopy.crs.PlateCarree object at 0x7ff296ff8ea0>, 'color': 'w'}\n"
     ]
    },
    {
     "name": "stderr",
     "output_type": "stream",
     "text": [
      "/home/jtomf/miniconda3/lib/python3.9/site-packages/cartopy/mpl/gridliner.py:741: UserWarning: The labels of this gridliner do not belong to the gridliner axes\n",
      "  warnings.warn('The labels of this gridliner do not belong to '\n"
     ]
    },
    {
     "name": "stdout",
     "output_type": "stream",
     "text": [
      "{'transform': <cartopy.crs.PlateCarree object at 0x7ff29742e3b0>, 'color': 'w'}\n",
      "{'transform': <cartopy.crs.PlateCarree object at 0x7ff29721d680>, 'color': 'w'}\n"
     ]
    },
    {
     "name": "stderr",
     "output_type": "stream",
     "text": [
      "/home/jtomf/miniconda3/lib/python3.9/site-packages/cartopy/mpl/gridliner.py:741: UserWarning: The labels of this gridliner do not belong to the gridliner axes\n",
      "  warnings.warn('The labels of this gridliner do not belong to '\n"
     ]
    },
    {
     "name": "stdout",
     "output_type": "stream",
     "text": [
      "{'transform': <cartopy.crs.PlateCarree object at 0x7ff29708ddb0>, 'color': 'w'}\n"
     ]
    },
    {
     "name": "stderr",
     "output_type": "stream",
     "text": [
      "/home/jtomf/miniconda3/lib/python3.9/site-packages/cartopy/mpl/gridliner.py:741: UserWarning: The labels of this gridliner do not belong to the gridliner axes\n",
      "  warnings.warn('The labels of this gridliner do not belong to '\n"
     ]
    },
    {
     "name": "stdout",
     "output_type": "stream",
     "text": [
      "{'transform': <cartopy.crs.PlateCarree object at 0x7ff297136310>, 'color': 'w'}\n"
     ]
    },
    {
     "name": "stderr",
     "output_type": "stream",
     "text": [
      "/home/jtomf/miniconda3/lib/python3.9/site-packages/cartopy/mpl/gridliner.py:741: UserWarning: The labels of this gridliner do not belong to the gridliner axes\n",
      "  warnings.warn('The labels of this gridliner do not belong to '\n"
     ]
    },
    {
     "name": "stdout",
     "output_type": "stream",
     "text": [
      "{'transform': <cartopy.crs.PlateCarree object at 0x7ff296d55e50>, 'color': 'w'}\n"
     ]
    },
    {
     "name": "stderr",
     "output_type": "stream",
     "text": [
      "/home/jtomf/miniconda3/lib/python3.9/site-packages/cartopy/mpl/gridliner.py:741: UserWarning: The labels of this gridliner do not belong to the gridliner axes\n",
      "  warnings.warn('The labels of this gridliner do not belong to '\n"
     ]
    },
    {
     "name": "stdout",
     "output_type": "stream",
     "text": [
      "{'transform': <cartopy.crs.PlateCarree object at 0x7ff296f06180>, 'color': 'w'}\n"
     ]
    },
    {
     "name": "stderr",
     "output_type": "stream",
     "text": [
      "/home/jtomf/miniconda3/lib/python3.9/site-packages/cartopy/mpl/gridliner.py:741: UserWarning: The labels of this gridliner do not belong to the gridliner axes\n",
      "  warnings.warn('The labels of this gridliner do not belong to '\n"
     ]
    },
    {
     "name": "stdout",
     "output_type": "stream",
     "text": [
      "{'transform': <cartopy.crs.PlateCarree object at 0x7ff2973bb310>, 'color': 'w'}\n"
     ]
    },
    {
     "name": "stderr",
     "output_type": "stream",
     "text": [
      "/home/jtomf/miniconda3/lib/python3.9/site-packages/cartopy/mpl/gridliner.py:741: UserWarning: The labels of this gridliner do not belong to the gridliner axes\n",
      "  warnings.warn('The labels of this gridliner do not belong to '\n"
     ]
    },
    {
     "name": "stdout",
     "output_type": "stream",
     "text": [
      "{'transform': <cartopy.crs.PlateCarree object at 0x7ff297115180>, 'color': 'w'}\n"
     ]
    },
    {
     "name": "stderr",
     "output_type": "stream",
     "text": [
      "/home/jtomf/miniconda3/lib/python3.9/site-packages/cartopy/mpl/gridliner.py:741: UserWarning: The labels of this gridliner do not belong to the gridliner axes\n",
      "  warnings.warn('The labels of this gridliner do not belong to '\n"
     ]
    },
    {
     "name": "stdout",
     "output_type": "stream",
     "text": [
      "{'transform': <cartopy.crs.PlateCarree object at 0x7ff296b17f40>, 'color': 'w'}\n"
     ]
    },
    {
     "name": "stderr",
     "output_type": "stream",
     "text": [
      "/home/jtomf/miniconda3/lib/python3.9/site-packages/cartopy/mpl/gridliner.py:741: UserWarning: The labels of this gridliner do not belong to the gridliner axes\n",
      "  warnings.warn('The labels of this gridliner do not belong to '\n"
     ]
    },
    {
     "name": "stdout",
     "output_type": "stream",
     "text": [
      "{'transform': <cartopy.crs.PlateCarree object at 0x7ff29732a1d0>, 'color': 'w'}\n"
     ]
    },
    {
     "name": "stderr",
     "output_type": "stream",
     "text": [
      "/home/jtomf/miniconda3/lib/python3.9/site-packages/cartopy/mpl/gridliner.py:741: UserWarning: The labels of this gridliner do not belong to the gridliner axes\n",
      "  warnings.warn('The labels of this gridliner do not belong to '\n"
     ]
    },
    {
     "name": "stdout",
     "output_type": "stream",
     "text": [
      "{'transform': <cartopy.crs.PlateCarree object at 0x7ff297142310>, 'color': 'w'}\n"
     ]
    },
    {
     "name": "stderr",
     "output_type": "stream",
     "text": [
      "/home/jtomf/miniconda3/lib/python3.9/site-packages/cartopy/mpl/gridliner.py:741: UserWarning: The labels of this gridliner do not belong to the gridliner axes\n",
      "  warnings.warn('The labels of this gridliner do not belong to '\n"
     ]
    },
    {
     "name": "stdout",
     "output_type": "stream",
     "text": [
      "{'transform': <cartopy.crs.PlateCarree object at 0x7ff29649aea0>, 'color': 'w'}\n"
     ]
    },
    {
     "name": "stderr",
     "output_type": "stream",
     "text": [
      "/home/jtomf/miniconda3/lib/python3.9/site-packages/cartopy/mpl/gridliner.py:741: UserWarning: The labels of this gridliner do not belong to the gridliner axes\n",
      "  warnings.warn('The labels of this gridliner do not belong to '\n"
     ]
    },
    {
     "name": "stdout",
     "output_type": "stream",
     "text": [
      "{'transform': <cartopy.crs.PlateCarree object at 0x7ff296e6f090>, 'color': 'w'}\n"
     ]
    },
    {
     "name": "stderr",
     "output_type": "stream",
     "text": [
      "/home/jtomf/miniconda3/lib/python3.9/site-packages/cartopy/mpl/gridliner.py:741: UserWarning: The labels of this gridliner do not belong to the gridliner axes\n",
      "  warnings.warn('The labels of this gridliner do not belong to '\n"
     ]
    },
    {
     "name": "stdout",
     "output_type": "stream",
     "text": [
      "{'transform': <cartopy.crs.PlateCarree object at 0x7ff29630f590>, 'color': 'w'}\n",
      "{'transform': <cartopy.crs.PlateCarree object at 0x7ff296d19f90>, 'color': 'w'}\n"
     ]
    },
    {
     "name": "stderr",
     "output_type": "stream",
     "text": [
      "/home/jtomf/miniconda3/lib/python3.9/site-packages/cartopy/mpl/gridliner.py:741: UserWarning: The labels of this gridliner do not belong to the gridliner axes\n",
      "  warnings.warn('The labels of this gridliner do not belong to '\n"
     ]
    },
    {
     "name": "stdout",
     "output_type": "stream",
     "text": [
      "{'transform': <cartopy.crs.PlateCarree object at 0x7ff296e08360>, 'color': 'w'}\n"
     ]
    },
    {
     "name": "stderr",
     "output_type": "stream",
     "text": [
      "/home/jtomf/miniconda3/lib/python3.9/site-packages/cartopy/mpl/gridliner.py:741: UserWarning: The labels of this gridliner do not belong to the gridliner axes\n",
      "  warnings.warn('The labels of this gridliner do not belong to '\n"
     ]
    },
    {
     "name": "stdout",
     "output_type": "stream",
     "text": [
      "{'transform': <cartopy.crs.PlateCarree object at 0x7ff296cfd270>, 'color': 'w'}\n",
      "{'transform': <cartopy.crs.PlateCarree object at 0x7ff296e1c6d0>, 'color': 'w'}\n"
     ]
    },
    {
     "name": "stderr",
     "output_type": "stream",
     "text": [
      "/home/jtomf/miniconda3/lib/python3.9/site-packages/cartopy/mpl/gridliner.py:741: UserWarning: The labels of this gridliner do not belong to the gridliner axes\n",
      "  warnings.warn('The labels of this gridliner do not belong to '\n"
     ]
    },
    {
     "name": "stdout",
     "output_type": "stream",
     "text": [
      "{'transform': <cartopy.crs.PlateCarree object at 0x7ff29706de00>, 'color': 'w'}\n"
     ]
    },
    {
     "name": "stderr",
     "output_type": "stream",
     "text": [
      "/home/jtomf/miniconda3/lib/python3.9/site-packages/cartopy/mpl/gridliner.py:741: UserWarning: The labels of this gridliner do not belong to the gridliner axes\n",
      "  warnings.warn('The labels of this gridliner do not belong to '\n"
     ]
    },
    {
     "name": "stdout",
     "output_type": "stream",
     "text": [
      "{'transform': <cartopy.crs.PlateCarree object at 0x7ff296d25310>, 'color': 'w'}\n",
      "{'transform': <cartopy.crs.PlateCarree object at 0x7ff29702c3b0>, 'color': 'w'}\n"
     ]
    },
    {
     "name": "stderr",
     "output_type": "stream",
     "text": [
      "/home/jtomf/miniconda3/lib/python3.9/site-packages/cartopy/mpl/gridliner.py:741: UserWarning: The labels of this gridliner do not belong to the gridliner axes\n",
      "  warnings.warn('The labels of this gridliner do not belong to '\n"
     ]
    },
    {
     "name": "stdout",
     "output_type": "stream",
     "text": [
      "{'transform': <cartopy.crs.PlateCarree object at 0x7ff296fe9d60>, 'color': 'w'}\n"
     ]
    },
    {
     "name": "stderr",
     "output_type": "stream",
     "text": [
      "/home/jtomf/miniconda3/lib/python3.9/site-packages/cartopy/mpl/gridliner.py:741: UserWarning: The labels of this gridliner do not belong to the gridliner axes\n",
      "  warnings.warn('The labels of this gridliner do not belong to '\n"
     ]
    },
    {
     "name": "stdout",
     "output_type": "stream",
     "text": [
      "{'transform': <cartopy.crs.PlateCarree object at 0x7ff296fa2310>, 'color': 'w'}\n"
     ]
    },
    {
     "name": "stderr",
     "output_type": "stream",
     "text": [
      "/home/jtomf/miniconda3/lib/python3.9/site-packages/cartopy/mpl/gridliner.py:741: UserWarning: The labels of this gridliner do not belong to the gridliner axes\n",
      "  warnings.warn('The labels of this gridliner do not belong to '\n"
     ]
    },
    {
     "name": "stdout",
     "output_type": "stream",
     "text": [
      "{'transform': <cartopy.crs.PlateCarree object at 0x7ff29731ecc0>, 'color': 'w'}\n"
     ]
    },
    {
     "name": "stderr",
     "output_type": "stream",
     "text": [
      "/home/jtomf/miniconda3/lib/python3.9/site-packages/cartopy/mpl/gridliner.py:741: UserWarning: The labels of this gridliner do not belong to the gridliner axes\n",
      "  warnings.warn('The labels of this gridliner do not belong to '\n"
     ]
    },
    {
     "name": "stdout",
     "output_type": "stream",
     "text": [
      "{'transform': <cartopy.crs.PlateCarree object at 0x7ff297369180>, 'color': 'w'}\n"
     ]
    },
    {
     "name": "stderr",
     "output_type": "stream",
     "text": [
      "/home/jtomf/miniconda3/lib/python3.9/site-packages/cartopy/mpl/gridliner.py:741: UserWarning: The labels of this gridliner do not belong to the gridliner axes\n",
      "  warnings.warn('The labels of this gridliner do not belong to '\n"
     ]
    },
    {
     "name": "stdout",
     "output_type": "stream",
     "text": [
      "{'transform': <cartopy.crs.PlateCarree object at 0x7ff296ce9310>, 'color': 'w'}\n"
     ]
    },
    {
     "name": "stderr",
     "output_type": "stream",
     "text": [
      "/home/jtomf/miniconda3/lib/python3.9/site-packages/cartopy/mpl/gridliner.py:741: UserWarning: The labels of this gridliner do not belong to the gridliner axes\n",
      "  warnings.warn('The labels of this gridliner do not belong to '\n"
     ]
    },
    {
     "name": "stdout",
     "output_type": "stream",
     "text": [
      "{'transform': <cartopy.crs.PlateCarree object at 0x7ff2973919a0>, 'color': 'w'}\n"
     ]
    },
    {
     "name": "stderr",
     "output_type": "stream",
     "text": [
      "/home/jtomf/miniconda3/lib/python3.9/site-packages/cartopy/mpl/gridliner.py:741: UserWarning: The labels of this gridliner do not belong to the gridliner axes\n",
      "  warnings.warn('The labels of this gridliner do not belong to '\n"
     ]
    },
    {
     "name": "stdout",
     "output_type": "stream",
     "text": [
      "{'transform': <cartopy.crs.PlateCarree object at 0x7ff297223180>, 'color': 'w'}\n"
     ]
    },
    {
     "name": "stderr",
     "output_type": "stream",
     "text": [
      "/home/jtomf/miniconda3/lib/python3.9/site-packages/cartopy/mpl/gridliner.py:741: UserWarning: The labels of this gridliner do not belong to the gridliner axes\n",
      "  warnings.warn('The labels of this gridliner do not belong to '\n"
     ]
    },
    {
     "name": "stdout",
     "output_type": "stream",
     "text": [
      "{'transform': <cartopy.crs.PlateCarree object at 0x7ff29726b3b0>, 'color': 'w'}\n"
     ]
    },
    {
     "name": "stderr",
     "output_type": "stream",
     "text": [
      "/home/jtomf/miniconda3/lib/python3.9/site-packages/cartopy/mpl/gridliner.py:741: UserWarning: The labels of this gridliner do not belong to the gridliner axes\n",
      "  warnings.warn('The labels of this gridliner do not belong to '\n"
     ]
    },
    {
     "name": "stdout",
     "output_type": "stream",
     "text": [
      "{'transform': <cartopy.crs.PlateCarree object at 0x7ff29702cb80>, 'color': 'w'}\n"
     ]
    },
    {
     "name": "stderr",
     "output_type": "stream",
     "text": [
      "/home/jtomf/miniconda3/lib/python3.9/site-packages/cartopy/mpl/gridliner.py:741: UserWarning: The labels of this gridliner do not belong to the gridliner axes\n",
      "  warnings.warn('The labels of this gridliner do not belong to '\n"
     ]
    },
    {
     "name": "stdout",
     "output_type": "stream",
     "text": [
      "{'transform': <cartopy.crs.PlateCarree object at 0x7ff296e61040>, 'color': 'w'}\n"
     ]
    },
    {
     "name": "stderr",
     "output_type": "stream",
     "text": [
      "/home/jtomf/miniconda3/lib/python3.9/site-packages/cartopy/mpl/gridliner.py:741: UserWarning: The labels of this gridliner do not belong to the gridliner axes\n",
      "  warnings.warn('The labels of this gridliner do not belong to '\n"
     ]
    },
    {
     "name": "stdout",
     "output_type": "stream",
     "text": [
      "{'transform': <cartopy.crs.PlateCarree object at 0x7ff2970111d0>, 'color': 'w'}\n"
     ]
    },
    {
     "name": "stderr",
     "output_type": "stream",
     "text": [
      "/home/jtomf/miniconda3/lib/python3.9/site-packages/cartopy/mpl/gridliner.py:741: UserWarning: The labels of this gridliner do not belong to the gridliner axes\n",
      "  warnings.warn('The labels of this gridliner do not belong to '\n"
     ]
    },
    {
     "name": "stdout",
     "output_type": "stream",
     "text": [
      "{'transform': <cartopy.crs.PlateCarree object at 0x7ff296aeecc0>, 'color': 'w'}\n",
      "{'transform': <cartopy.crs.PlateCarree object at 0x7ff29738c680>, 'color': 'w'}\n"
     ]
    },
    {
     "name": "stderr",
     "output_type": "stream",
     "text": [
      "/home/jtomf/miniconda3/lib/python3.9/site-packages/cartopy/mpl/gridliner.py:741: UserWarning: The labels of this gridliner do not belong to the gridliner axes\n",
      "  warnings.warn('The labels of this gridliner do not belong to '\n"
     ]
    },
    {
     "name": "stdout",
     "output_type": "stream",
     "text": [
      "{'transform': <cartopy.crs.PlateCarree object at 0x7ff2972344a0>, 'color': 'w'}\n"
     ]
    },
    {
     "name": "stderr",
     "output_type": "stream",
     "text": [
      "/home/jtomf/miniconda3/lib/python3.9/site-packages/cartopy/mpl/gridliner.py:741: UserWarning: The labels of this gridliner do not belong to the gridliner axes\n",
      "  warnings.warn('The labels of this gridliner do not belong to '\n"
     ]
    },
    {
     "name": "stdout",
     "output_type": "stream",
     "text": [
      "{'transform': <cartopy.crs.PlateCarree object at 0x7ff2974513b0>, 'color': 'w'}\n",
      "{'transform': <cartopy.crs.PlateCarree object at 0x7ff296aee400>, 'color': 'w'}\n"
     ]
    },
    {
     "name": "stderr",
     "output_type": "stream",
     "text": [
      "/home/jtomf/miniconda3/lib/python3.9/site-packages/cartopy/mpl/gridliner.py:741: UserWarning: The labels of this gridliner do not belong to the gridliner axes\n",
      "  warnings.warn('The labels of this gridliner do not belong to '\n"
     ]
    },
    {
     "name": "stdout",
     "output_type": "stream",
     "text": [
      "{'transform': <cartopy.crs.PlateCarree object at 0x7ff29737ef40>, 'color': 'w'}\n"
     ]
    },
    {
     "name": "stderr",
     "output_type": "stream",
     "text": [
      "/home/jtomf/miniconda3/lib/python3.9/site-packages/cartopy/mpl/gridliner.py:741: UserWarning: The labels of this gridliner do not belong to the gridliner axes\n",
      "  warnings.warn('The labels of this gridliner do not belong to '\n"
     ]
    },
    {
     "name": "stdout",
     "output_type": "stream",
     "text": [
      "{'transform': <cartopy.crs.PlateCarree object at 0x7ff296d39450>, 'color': 'w'}\n",
      "{'transform': <cartopy.crs.PlateCarree object at 0x7ff29739b810>, 'color': 'w'}\n"
     ]
    },
    {
     "name": "stderr",
     "output_type": "stream",
     "text": [
      "/home/jtomf/miniconda3/lib/python3.9/site-packages/cartopy/mpl/gridliner.py:741: UserWarning: The labels of this gridliner do not belong to the gridliner axes\n",
      "  warnings.warn('The labels of this gridliner do not belong to '\n"
     ]
    },
    {
     "name": "stdout",
     "output_type": "stream",
     "text": [
      "{'transform': <cartopy.crs.PlateCarree object at 0x7ff2964d9ea0>, 'color': 'w'}\n"
     ]
    },
    {
     "name": "stderr",
     "output_type": "stream",
     "text": [
      "/home/jtomf/miniconda3/lib/python3.9/site-packages/cartopy/mpl/gridliner.py:741: UserWarning: The labels of this gridliner do not belong to the gridliner axes\n",
      "  warnings.warn('The labels of this gridliner do not belong to '\n"
     ]
    },
    {
     "name": "stdout",
     "output_type": "stream",
     "text": [
      "{'transform': <cartopy.crs.PlateCarree object at 0x7ff29734e360>, 'color': 'w'}\n"
     ]
    },
    {
     "name": "stderr",
     "output_type": "stream",
     "text": [
      "/home/jtomf/miniconda3/lib/python3.9/site-packages/cartopy/mpl/gridliner.py:741: UserWarning: The labels of this gridliner do not belong to the gridliner axes\n",
      "  warnings.warn('The labels of this gridliner do not belong to '\n"
     ]
    },
    {
     "name": "stdout",
     "output_type": "stream",
     "text": [
      "{'transform': <cartopy.crs.PlateCarree object at 0x7ff29721bcc0>, 'color': 'w'}\n"
     ]
    },
    {
     "name": "stderr",
     "output_type": "stream",
     "text": [
      "/home/jtomf/miniconda3/lib/python3.9/site-packages/cartopy/mpl/gridliner.py:741: UserWarning: The labels of this gridliner do not belong to the gridliner axes\n",
      "  warnings.warn('The labels of this gridliner do not belong to '\n"
     ]
    },
    {
     "name": "stdout",
     "output_type": "stream",
     "text": [
      "{'transform': <cartopy.crs.PlateCarree object at 0x7ff29740b270>, 'color': 'w'}\n"
     ]
    },
    {
     "name": "stderr",
     "output_type": "stream",
     "text": [
      "/home/jtomf/miniconda3/lib/python3.9/site-packages/cartopy/mpl/gridliner.py:741: UserWarning: The labels of this gridliner do not belong to the gridliner axes\n",
      "  warnings.warn('The labels of this gridliner do not belong to '\n"
     ]
    },
    {
     "name": "stdout",
     "output_type": "stream",
     "text": [
      "{'transform': <cartopy.crs.PlateCarree object at 0x7ff296a84400>, 'color': 'w'}\n"
     ]
    },
    {
     "name": "stderr",
     "output_type": "stream",
     "text": [
      "/home/jtomf/miniconda3/lib/python3.9/site-packages/cartopy/mpl/gridliner.py:741: UserWarning: The labels of this gridliner do not belong to the gridliner axes\n",
      "  warnings.warn('The labels of this gridliner do not belong to '\n"
     ]
    },
    {
     "name": "stdout",
     "output_type": "stream",
     "text": [
      "{'transform': <cartopy.crs.PlateCarree object at 0x7ff29721b310>, 'color': 'w'}\n"
     ]
    },
    {
     "name": "stderr",
     "output_type": "stream",
     "text": [
      "/home/jtomf/miniconda3/lib/python3.9/site-packages/cartopy/mpl/gridliner.py:741: UserWarning: The labels of this gridliner do not belong to the gridliner axes\n",
      "  warnings.warn('The labels of this gridliner do not belong to '\n"
     ]
    },
    {
     "name": "stdout",
     "output_type": "stream",
     "text": [
      "{'transform': <cartopy.crs.PlateCarree object at 0x7ff296cae130>, 'color': 'w'}\n"
     ]
    },
    {
     "name": "stderr",
     "output_type": "stream",
     "text": [
      "/home/jtomf/miniconda3/lib/python3.9/site-packages/cartopy/mpl/gridliner.py:741: UserWarning: The labels of this gridliner do not belong to the gridliner axes\n",
      "  warnings.warn('The labels of this gridliner do not belong to '\n"
     ]
    },
    {
     "name": "stdout",
     "output_type": "stream",
     "text": [
      "{'transform': <cartopy.crs.PlateCarree object at 0x7ff296e1d360>, 'color': 'w'}\n"
     ]
    },
    {
     "name": "stderr",
     "output_type": "stream",
     "text": [
      "/home/jtomf/miniconda3/lib/python3.9/site-packages/cartopy/mpl/gridliner.py:741: UserWarning: The labels of this gridliner do not belong to the gridliner axes\n",
      "  warnings.warn('The labels of this gridliner do not belong to '\n"
     ]
    },
    {
     "name": "stdout",
     "output_type": "stream",
     "text": [
      "{'transform': <cartopy.crs.PlateCarree object at 0x7ff297126270>, 'color': 'w'}\n"
     ]
    },
    {
     "name": "stderr",
     "output_type": "stream",
     "text": [
      "/home/jtomf/miniconda3/lib/python3.9/site-packages/cartopy/mpl/gridliner.py:741: UserWarning: The labels of this gridliner do not belong to the gridliner axes\n",
      "  warnings.warn('The labels of this gridliner do not belong to '\n"
     ]
    },
    {
     "name": "stdout",
     "output_type": "stream",
     "text": [
      "{'transform': <cartopy.crs.PlateCarree object at 0x7ff2964821d0>, 'color': 'w'}\n"
     ]
    },
    {
     "name": "stderr",
     "output_type": "stream",
     "text": [
      "/home/jtomf/miniconda3/lib/python3.9/site-packages/cartopy/mpl/gridliner.py:741: UserWarning: The labels of this gridliner do not belong to the gridliner axes\n",
      "  warnings.warn('The labels of this gridliner do not belong to '\n"
     ]
    },
    {
     "name": "stdout",
     "output_type": "stream",
     "text": [
      "{'transform': <cartopy.crs.PlateCarree object at 0x7ff295270360>, 'color': 'w'}\n"
     ]
    },
    {
     "name": "stderr",
     "output_type": "stream",
     "text": [
      "/home/jtomf/miniconda3/lib/python3.9/site-packages/cartopy/mpl/gridliner.py:741: UserWarning: The labels of this gridliner do not belong to the gridliner axes\n",
      "  warnings.warn('The labels of this gridliner do not belong to '\n"
     ]
    },
    {
     "name": "stdout",
     "output_type": "stream",
     "text": [
      "{'transform': <cartopy.crs.PlateCarree object at 0x7ff297cccc20>, 'color': 'w'}\n",
      "{'transform': <cartopy.crs.PlateCarree object at 0x7ff2970b9b80>, 'color': 'w'}\n"
     ]
    },
    {
     "name": "stderr",
     "output_type": "stream",
     "text": [
      "/home/jtomf/miniconda3/lib/python3.9/site-packages/cartopy/mpl/gridliner.py:741: UserWarning: The labels of this gridliner do not belong to the gridliner axes\n",
      "  warnings.warn('The labels of this gridliner do not belong to '\n"
     ]
    },
    {
     "name": "stdout",
     "output_type": "stream",
     "text": [
      "{'transform': <cartopy.crs.PlateCarree object at 0x7ff2973155e0>, 'color': 'w'}\n"
     ]
    },
    {
     "name": "stderr",
     "output_type": "stream",
     "text": [
      "/home/jtomf/miniconda3/lib/python3.9/site-packages/cartopy/mpl/gridliner.py:741: UserWarning: The labels of this gridliner do not belong to the gridliner axes\n",
      "  warnings.warn('The labels of this gridliner do not belong to '\n"
     ]
    },
    {
     "name": "stdout",
     "output_type": "stream",
     "text": [
      "{'transform': <cartopy.crs.PlateCarree object at 0x7ff2960a5360>, 'color': 'w'}\n",
      "{'transform': <cartopy.crs.PlateCarree object at 0x7ff297410630>, 'color': 'w'}\n"
     ]
    },
    {
     "name": "stderr",
     "output_type": "stream",
     "text": [
      "/home/jtomf/miniconda3/lib/python3.9/site-packages/cartopy/mpl/gridliner.py:741: UserWarning: The labels of this gridliner do not belong to the gridliner axes\n",
      "  warnings.warn('The labels of this gridliner do not belong to '\n"
     ]
    },
    {
     "name": "stdout",
     "output_type": "stream",
     "text": [
      "{'transform': <cartopy.crs.PlateCarree object at 0x7ff296df0f40>, 'color': 'w'}\n"
     ]
    },
    {
     "name": "stderr",
     "output_type": "stream",
     "text": [
      "/home/jtomf/miniconda3/lib/python3.9/site-packages/cartopy/mpl/gridliner.py:741: UserWarning: The labels of this gridliner do not belong to the gridliner axes\n",
      "  warnings.warn('The labels of this gridliner do not belong to '\n"
     ]
    },
    {
     "name": "stdout",
     "output_type": "stream",
     "text": [
      "{'transform': <cartopy.crs.PlateCarree object at 0x7ff29735d360>, 'color': 'w'}\n",
      "{'transform': <cartopy.crs.PlateCarree object at 0x7ff29739d1d0>, 'color': 'w'}\n"
     ]
    },
    {
     "name": "stderr",
     "output_type": "stream",
     "text": [
      "/home/jtomf/miniconda3/lib/python3.9/site-packages/cartopy/mpl/gridliner.py:741: UserWarning: The labels of this gridliner do not belong to the gridliner axes\n",
      "  warnings.warn('The labels of this gridliner do not belong to '\n"
     ]
    },
    {
     "name": "stdout",
     "output_type": "stream",
     "text": [
      "{'transform': <cartopy.crs.PlateCarree object at 0x7ff297098e50>, 'color': 'w'}\n"
     ]
    },
    {
     "name": "stderr",
     "output_type": "stream",
     "text": [
      "/home/jtomf/miniconda3/lib/python3.9/site-packages/cartopy/mpl/gridliner.py:741: UserWarning: The labels of this gridliner do not belong to the gridliner axes\n",
      "  warnings.warn('The labels of this gridliner do not belong to '\n"
     ]
    },
    {
     "name": "stdout",
     "output_type": "stream",
     "text": [
      "{'transform': <cartopy.crs.PlateCarree object at 0x7ff296a82360>, 'color': 'w'}\n"
     ]
    },
    {
     "name": "stderr",
     "output_type": "stream",
     "text": [
      "/home/jtomf/miniconda3/lib/python3.9/site-packages/cartopy/mpl/gridliner.py:741: UserWarning: The labels of this gridliner do not belong to the gridliner axes\n",
      "  warnings.warn('The labels of this gridliner do not belong to '\n"
     ]
    },
    {
     "name": "stdout",
     "output_type": "stream",
     "text": [
      "{'transform': <cartopy.crs.PlateCarree object at 0x7ff29749dbd0>, 'color': 'w'}\n"
     ]
    },
    {
     "name": "stderr",
     "output_type": "stream",
     "text": [
      "/home/jtomf/miniconda3/lib/python3.9/site-packages/cartopy/mpl/gridliner.py:741: UserWarning: The labels of this gridliner do not belong to the gridliner axes\n",
      "  warnings.warn('The labels of this gridliner do not belong to '\n"
     ]
    },
    {
     "name": "stdout",
     "output_type": "stream",
     "text": [
      "{'transform': <cartopy.crs.PlateCarree object at 0x7ff2972e7270>, 'color': 'w'}\n"
     ]
    },
    {
     "name": "stderr",
     "output_type": "stream",
     "text": [
      "/home/jtomf/miniconda3/lib/python3.9/site-packages/cartopy/mpl/gridliner.py:741: UserWarning: The labels of this gridliner do not belong to the gridliner axes\n",
      "  warnings.warn('The labels of this gridliner do not belong to '\n"
     ]
    },
    {
     "name": "stdout",
     "output_type": "stream",
     "text": [
      "{'transform': <cartopy.crs.PlateCarree object at 0x7ff296d7b400>, 'color': 'w'}\n"
     ]
    },
    {
     "name": "stderr",
     "output_type": "stream",
     "text": [
      "/home/jtomf/miniconda3/lib/python3.9/site-packages/cartopy/mpl/gridliner.py:741: UserWarning: The labels of this gridliner do not belong to the gridliner axes\n",
      "  warnings.warn('The labels of this gridliner do not belong to '\n"
     ]
    },
    {
     "name": "stdout",
     "output_type": "stream",
     "text": [
      "{'transform': <cartopy.crs.PlateCarree object at 0x7ff29721dd60>, 'color': 'w'}\n"
     ]
    },
    {
     "name": "stderr",
     "output_type": "stream",
     "text": [
      "/home/jtomf/miniconda3/lib/python3.9/site-packages/cartopy/mpl/gridliner.py:741: UserWarning: The labels of this gridliner do not belong to the gridliner axes\n",
      "  warnings.warn('The labels of this gridliner do not belong to '\n"
     ]
    },
    {
     "name": "stdout",
     "output_type": "stream",
     "text": [
      "{'transform': <cartopy.crs.PlateCarree object at 0x7ff296d2b130>, 'color': 'w'}\n"
     ]
    },
    {
     "name": "stderr",
     "output_type": "stream",
     "text": [
      "/home/jtomf/miniconda3/lib/python3.9/site-packages/cartopy/mpl/gridliner.py:741: UserWarning: The labels of this gridliner do not belong to the gridliner axes\n",
      "  warnings.warn('The labels of this gridliner do not belong to '\n"
     ]
    },
    {
     "name": "stdout",
     "output_type": "stream",
     "text": [
      "{'transform': <cartopy.crs.PlateCarree object at 0x7ff297269360>, 'color': 'w'}\n"
     ]
    },
    {
     "name": "stderr",
     "output_type": "stream",
     "text": [
      "/home/jtomf/miniconda3/lib/python3.9/site-packages/cartopy/mpl/gridliner.py:741: UserWarning: The labels of this gridliner do not belong to the gridliner axes\n",
      "  warnings.warn('The labels of this gridliner do not belong to '\n"
     ]
    },
    {
     "name": "stdout",
     "output_type": "stream",
     "text": [
      "{'transform': <cartopy.crs.PlateCarree object at 0x7ff2964b87c0>, 'color': 'w'}\n"
     ]
    },
    {
     "name": "stderr",
     "output_type": "stream",
     "text": [
      "/home/jtomf/miniconda3/lib/python3.9/site-packages/cartopy/mpl/gridliner.py:741: UserWarning: The labels of this gridliner do not belong to the gridliner axes\n",
      "  warnings.warn('The labels of this gridliner do not belong to '\n"
     ]
    },
    {
     "name": "stdout",
     "output_type": "stream",
     "text": [
      "{'transform': <cartopy.crs.PlateCarree object at 0x7ff296476220>, 'color': 'w'}\n"
     ]
    },
    {
     "name": "stderr",
     "output_type": "stream",
     "text": [
      "/home/jtomf/miniconda3/lib/python3.9/site-packages/cartopy/mpl/gridliner.py:741: UserWarning: The labels of this gridliner do not belong to the gridliner axes\n",
      "  warnings.warn('The labels of this gridliner do not belong to '\n"
     ]
    },
    {
     "name": "stdout",
     "output_type": "stream",
     "text": [
      "{'transform': <cartopy.crs.PlateCarree object at 0x7ff29744e3b0>, 'color': 'w'}\n"
     ]
    },
    {
     "name": "stderr",
     "output_type": "stream",
     "text": [
      "/home/jtomf/miniconda3/lib/python3.9/site-packages/cartopy/mpl/gridliner.py:741: UserWarning: The labels of this gridliner do not belong to the gridliner axes\n",
      "  warnings.warn('The labels of this gridliner do not belong to '\n"
     ]
    },
    {
     "name": "stdout",
     "output_type": "stream",
     "text": [
      "{'transform': <cartopy.crs.PlateCarree object at 0x7ff29711a680>, 'color': 'w'}\n",
      "{'transform': <cartopy.crs.PlateCarree object at 0x7ff29631d400>, 'color': 'w'}\n"
     ]
    },
    {
     "name": "stderr",
     "output_type": "stream",
     "text": [
      "/home/jtomf/miniconda3/lib/python3.9/site-packages/cartopy/mpl/gridliner.py:741: UserWarning: The labels of this gridliner do not belong to the gridliner axes\n",
      "  warnings.warn('The labels of this gridliner do not belong to '\n"
     ]
    },
    {
     "name": "stdout",
     "output_type": "stream",
     "text": [
      "{'transform': <cartopy.crs.PlateCarree object at 0x7ff296d91630>, 'color': 'w'}\n"
     ]
    },
    {
     "name": "stderr",
     "output_type": "stream",
     "text": [
      "/home/jtomf/miniconda3/lib/python3.9/site-packages/cartopy/mpl/gridliner.py:741: UserWarning: The labels of this gridliner do not belong to the gridliner axes\n",
      "  warnings.warn('The labels of this gridliner do not belong to '\n"
     ]
    },
    {
     "name": "stdout",
     "output_type": "stream",
     "text": [
      "{'transform': <cartopy.crs.PlateCarree object at 0x7ff296a663b0>, 'color': 'w'}\n",
      "{'transform': <cartopy.crs.PlateCarree object at 0x7ff29739dcc0>, 'color': 'w'}\n"
     ]
    },
    {
     "name": "stderr",
     "output_type": "stream",
     "text": [
      "/home/jtomf/miniconda3/lib/python3.9/site-packages/cartopy/mpl/gridliner.py:741: UserWarning: The labels of this gridliner do not belong to the gridliner axes\n",
      "  warnings.warn('The labels of this gridliner do not belong to '\n"
     ]
    },
    {
     "name": "stdout",
     "output_type": "stream",
     "text": [
      "{'transform': <cartopy.crs.PlateCarree object at 0x7ff296eb5f90>, 'color': 'w'}\n"
     ]
    },
    {
     "name": "stderr",
     "output_type": "stream",
     "text": [
      "/home/jtomf/miniconda3/lib/python3.9/site-packages/cartopy/mpl/gridliner.py:741: UserWarning: The labels of this gridliner do not belong to the gridliner axes\n",
      "  warnings.warn('The labels of this gridliner do not belong to '\n"
     ]
    },
    {
     "name": "stdout",
     "output_type": "stream",
     "text": [
      "{'transform': <cartopy.crs.PlateCarree object at 0x7ff2973fc3b0>, 'color': 'w'}\n",
      "{'transform': <cartopy.crs.PlateCarree object at 0x7ff296d1d0e0>, 'color': 'w'}\n"
     ]
    },
    {
     "name": "stderr",
     "output_type": "stream",
     "text": [
      "/home/jtomf/miniconda3/lib/python3.9/site-packages/cartopy/mpl/gridliner.py:741: UserWarning: The labels of this gridliner do not belong to the gridliner axes\n",
      "  warnings.warn('The labels of this gridliner do not belong to '\n"
     ]
    },
    {
     "name": "stdout",
     "output_type": "stream",
     "text": [
      "{'transform': <cartopy.crs.PlateCarree object at 0x7ff29721aea0>, 'color': 'w'}\n"
     ]
    },
    {
     "name": "stderr",
     "output_type": "stream",
     "text": [
      "/home/jtomf/miniconda3/lib/python3.9/site-packages/cartopy/mpl/gridliner.py:741: UserWarning: The labels of this gridliner do not belong to the gridliner axes\n",
      "  warnings.warn('The labels of this gridliner do not belong to '\n"
     ]
    },
    {
     "name": "stdout",
     "output_type": "stream",
     "text": [
      "{'transform': <cartopy.crs.PlateCarree object at 0x7ff297296450>, 'color': 'w'}\n"
     ]
    },
    {
     "name": "stderr",
     "output_type": "stream",
     "text": [
      "/home/jtomf/miniconda3/lib/python3.9/site-packages/cartopy/mpl/gridliner.py:741: UserWarning: The labels of this gridliner do not belong to the gridliner axes\n",
      "  warnings.warn('The labels of this gridliner do not belong to '\n"
     ]
    },
    {
     "name": "stdout",
     "output_type": "stream",
     "text": [
      "{'transform': <cartopy.crs.PlateCarree object at 0x7ff2971abe50>, 'color': 'w'}\n"
     ]
    },
    {
     "name": "stderr",
     "output_type": "stream",
     "text": [
      "/home/jtomf/miniconda3/lib/python3.9/site-packages/cartopy/mpl/gridliner.py:741: UserWarning: The labels of this gridliner do not belong to the gridliner axes\n",
      "  warnings.warn('The labels of this gridliner do not belong to '\n"
     ]
    },
    {
     "name": "stdout",
     "output_type": "stream",
     "text": [
      "{'transform': <cartopy.crs.PlateCarree object at 0x7ff2970f72c0>, 'color': 'w'}\n"
     ]
    },
    {
     "name": "stderr",
     "output_type": "stream",
     "text": [
      "/home/jtomf/miniconda3/lib/python3.9/site-packages/cartopy/mpl/gridliner.py:741: UserWarning: The labels of this gridliner do not belong to the gridliner axes\n",
      "  warnings.warn('The labels of this gridliner do not belong to '\n"
     ]
    },
    {
     "name": "stdout",
     "output_type": "stream",
     "text": [
      "{'transform': <cartopy.crs.PlateCarree object at 0x7ff296c88450>, 'color': 'w'}\n"
     ]
    },
    {
     "name": "stderr",
     "output_type": "stream",
     "text": [
      "/home/jtomf/miniconda3/lib/python3.9/site-packages/cartopy/mpl/gridliner.py:741: UserWarning: The labels of this gridliner do not belong to the gridliner axes\n",
      "  warnings.warn('The labels of this gridliner do not belong to '\n"
     ]
    },
    {
     "name": "stdout",
     "output_type": "stream",
     "text": [
      "{'transform': <cartopy.crs.PlateCarree object at 0x7ff2972ed180>, 'color': 'w'}\n"
     ]
    },
    {
     "name": "stderr",
     "output_type": "stream",
     "text": [
      "/home/jtomf/miniconda3/lib/python3.9/site-packages/cartopy/mpl/gridliner.py:741: UserWarning: The labels of this gridliner do not belong to the gridliner axes\n",
      "  warnings.warn('The labels of this gridliner do not belong to '\n"
     ]
    },
    {
     "name": "stdout",
     "output_type": "stream",
     "text": [
      "{'transform': <cartopy.crs.PlateCarree object at 0x7ff29737e180>, 'color': 'w'}\n"
     ]
    },
    {
     "name": "stderr",
     "output_type": "stream",
     "text": [
      "/home/jtomf/miniconda3/lib/python3.9/site-packages/cartopy/mpl/gridliner.py:741: UserWarning: The labels of this gridliner do not belong to the gridliner axes\n",
      "  warnings.warn('The labels of this gridliner do not belong to '\n"
     ]
    },
    {
     "name": "stdout",
     "output_type": "stream",
     "text": [
      "{'transform': <cartopy.crs.PlateCarree object at 0x7ff296f0c3b0>, 'color': 'w'}\n"
     ]
    },
    {
     "name": "stderr",
     "output_type": "stream",
     "text": [
      "/home/jtomf/miniconda3/lib/python3.9/site-packages/cartopy/mpl/gridliner.py:741: UserWarning: The labels of this gridliner do not belong to the gridliner axes\n",
      "  warnings.warn('The labels of this gridliner do not belong to '\n"
     ]
    },
    {
     "name": "stdout",
     "output_type": "stream",
     "text": [
      "{'transform': <cartopy.crs.PlateCarree object at 0x7ff297040b80>, 'color': 'w'}\n"
     ]
    },
    {
     "name": "stderr",
     "output_type": "stream",
     "text": [
      "/home/jtomf/miniconda3/lib/python3.9/site-packages/cartopy/mpl/gridliner.py:741: UserWarning: The labels of this gridliner do not belong to the gridliner axes\n",
      "  warnings.warn('The labels of this gridliner do not belong to '\n"
     ]
    },
    {
     "name": "stdout",
     "output_type": "stream",
     "text": [
      "{'transform': <cartopy.crs.PlateCarree object at 0x7ff29647a310>, 'color': 'w'}\n"
     ]
    },
    {
     "name": "stderr",
     "output_type": "stream",
     "text": [
      "/home/jtomf/miniconda3/lib/python3.9/site-packages/cartopy/mpl/gridliner.py:741: UserWarning: The labels of this gridliner do not belong to the gridliner axes\n",
      "  warnings.warn('The labels of this gridliner do not belong to '\n"
     ]
    },
    {
     "name": "stdout",
     "output_type": "stream",
     "text": [
      "{'transform': <cartopy.crs.PlateCarree object at 0x7ff2964dd4a0>, 'color': 'w'}\n"
     ]
    },
    {
     "name": "stderr",
     "output_type": "stream",
     "text": [
      "/home/jtomf/miniconda3/lib/python3.9/site-packages/cartopy/mpl/gridliner.py:741: UserWarning: The labels of this gridliner do not belong to the gridliner axes\n",
      "  warnings.warn('The labels of this gridliner do not belong to '\n"
     ]
    },
    {
     "name": "stdout",
     "output_type": "stream",
     "text": [
      "{'transform': <cartopy.crs.PlateCarree object at 0x7ff296ad61d0>, 'color': 'w'}\n",
      "{'transform': <cartopy.crs.PlateCarree object at 0x7ff296f7c6d0>, 'color': 'w'}\n"
     ]
    },
    {
     "name": "stderr",
     "output_type": "stream",
     "text": [
      "/home/jtomf/miniconda3/lib/python3.9/site-packages/cartopy/mpl/gridliner.py:741: UserWarning: The labels of this gridliner do not belong to the gridliner axes\n",
      "  warnings.warn('The labels of this gridliner do not belong to '\n"
     ]
    },
    {
     "name": "stdout",
     "output_type": "stream",
     "text": [
      "{'transform': <cartopy.crs.PlateCarree object at 0x7ff2973fd630>, 'color': 'w'}\n"
     ]
    },
    {
     "name": "stderr",
     "output_type": "stream",
     "text": [
      "/home/jtomf/miniconda3/lib/python3.9/site-packages/cartopy/mpl/gridliner.py:741: UserWarning: The labels of this gridliner do not belong to the gridliner axes\n",
      "  warnings.warn('The labels of this gridliner do not belong to '\n"
     ]
    },
    {
     "name": "stdout",
     "output_type": "stream",
     "text": [
      "{'transform': <cartopy.crs.PlateCarree object at 0x7ff29728a3b0>, 'color': 'w'}\n",
      "{'transform': <cartopy.crs.PlateCarree object at 0x7ff297115bd0>, 'color': 'w'}\n"
     ]
    },
    {
     "name": "stderr",
     "output_type": "stream",
     "text": [
      "/home/jtomf/miniconda3/lib/python3.9/site-packages/cartopy/mpl/gridliner.py:741: UserWarning: The labels of this gridliner do not belong to the gridliner axes\n",
      "  warnings.warn('The labels of this gridliner do not belong to '\n"
     ]
    },
    {
     "name": "stdout",
     "output_type": "stream",
     "text": [
      "{'transform': <cartopy.crs.PlateCarree object at 0x7ff29710ff40>, 'color': 'w'}\n"
     ]
    },
    {
     "name": "stderr",
     "output_type": "stream",
     "text": [
      "/home/jtomf/miniconda3/lib/python3.9/site-packages/cartopy/mpl/gridliner.py:741: UserWarning: The labels of this gridliner do not belong to the gridliner axes\n",
      "  warnings.warn('The labels of this gridliner do not belong to '\n"
     ]
    },
    {
     "name": "stdout",
     "output_type": "stream",
     "text": [
      "{'transform': <cartopy.crs.PlateCarree object at 0x7ff296d43400>, 'color': 'w'}\n",
      "{'transform': <cartopy.crs.PlateCarree object at 0x7ff29738c7c0>, 'color': 'w'}\n"
     ]
    },
    {
     "name": "stderr",
     "output_type": "stream",
     "text": [
      "/home/jtomf/miniconda3/lib/python3.9/site-packages/cartopy/mpl/gridliner.py:741: UserWarning: The labels of this gridliner do not belong to the gridliner axes\n",
      "  warnings.warn('The labels of this gridliner do not belong to '\n"
     ]
    },
    {
     "name": "stdout",
     "output_type": "stream",
     "text": [
      "{'transform': <cartopy.crs.PlateCarree object at 0x7ff29738be50>, 'color': 'w'}\n"
     ]
    },
    {
     "name": "stderr",
     "output_type": "stream",
     "text": [
      "/home/jtomf/miniconda3/lib/python3.9/site-packages/cartopy/mpl/gridliner.py:741: UserWarning: The labels of this gridliner do not belong to the gridliner axes\n",
      "  warnings.warn('The labels of this gridliner do not belong to '\n"
     ]
    },
    {
     "name": "stdout",
     "output_type": "stream",
     "text": [
      "{'transform': <cartopy.crs.PlateCarree object at 0x7ff297283400>, 'color': 'w'}\n"
     ]
    },
    {
     "name": "stderr",
     "output_type": "stream",
     "text": [
      "/home/jtomf/miniconda3/lib/python3.9/site-packages/cartopy/mpl/gridliner.py:741: UserWarning: The labels of this gridliner do not belong to the gridliner axes\n",
      "  warnings.warn('The labels of this gridliner do not belong to '\n"
     ]
    },
    {
     "name": "stdout",
     "output_type": "stream",
     "text": [
      "{'transform': <cartopy.crs.PlateCarree object at 0x7ff2970496d0>, 'color': 'w'}\n"
     ]
    },
    {
     "name": "stderr",
     "output_type": "stream",
     "text": [
      "/home/jtomf/miniconda3/lib/python3.9/site-packages/cartopy/mpl/gridliner.py:741: UserWarning: The labels of this gridliner do not belong to the gridliner axes\n",
      "  warnings.warn('The labels of this gridliner do not belong to '\n"
     ]
    },
    {
     "name": "stdout",
     "output_type": "stream",
     "text": [
      "{'transform': <cartopy.crs.PlateCarree object at 0x7ff29609a270>, 'color': 'w'}\n"
     ]
    },
    {
     "name": "stderr",
     "output_type": "stream",
     "text": [
      "/home/jtomf/miniconda3/lib/python3.9/site-packages/cartopy/mpl/gridliner.py:741: UserWarning: The labels of this gridliner do not belong to the gridliner axes\n",
      "  warnings.warn('The labels of this gridliner do not belong to '\n"
     ]
    },
    {
     "name": "stdout",
     "output_type": "stream",
     "text": [
      "{'transform': <cartopy.crs.PlateCarree object at 0x7ff296d31400>, 'color': 'w'}\n"
     ]
    },
    {
     "name": "stderr",
     "output_type": "stream",
     "text": [
      "/home/jtomf/miniconda3/lib/python3.9/site-packages/cartopy/mpl/gridliner.py:741: UserWarning: The labels of this gridliner do not belong to the gridliner axes\n",
      "  warnings.warn('The labels of this gridliner do not belong to '\n"
     ]
    },
    {
     "name": "stdout",
     "output_type": "stream",
     "text": [
      "{'transform': <cartopy.crs.PlateCarree object at 0x7ff2964e88b0>, 'color': 'w'}\n"
     ]
    },
    {
     "name": "stderr",
     "output_type": "stream",
     "text": [
      "/home/jtomf/miniconda3/lib/python3.9/site-packages/cartopy/mpl/gridliner.py:741: UserWarning: The labels of this gridliner do not belong to the gridliner axes\n",
      "  warnings.warn('The labels of this gridliner do not belong to '\n"
     ]
    },
    {
     "name": "stdout",
     "output_type": "stream",
     "text": [
      "{'transform': <cartopy.crs.PlateCarree object at 0x7ff2972ee130>, 'color': 'w'}\n"
     ]
    },
    {
     "name": "stderr",
     "output_type": "stream",
     "text": [
      "/home/jtomf/miniconda3/lib/python3.9/site-packages/cartopy/mpl/gridliner.py:741: UserWarning: The labels of this gridliner do not belong to the gridliner axes\n",
      "  warnings.warn('The labels of this gridliner do not belong to '\n"
     ]
    },
    {
     "name": "stdout",
     "output_type": "stream",
     "text": [
      "{'transform': <cartopy.crs.PlateCarree object at 0x7ff29724b360>, 'color': 'w'}\n"
     ]
    },
    {
     "name": "stderr",
     "output_type": "stream",
     "text": [
      "/home/jtomf/miniconda3/lib/python3.9/site-packages/cartopy/mpl/gridliner.py:741: UserWarning: The labels of this gridliner do not belong to the gridliner axes\n",
      "  warnings.warn('The labels of this gridliner do not belong to '\n"
     ]
    },
    {
     "name": "stdout",
     "output_type": "stream",
     "text": [
      "{'transform': <cartopy.crs.PlateCarree object at 0x7ff29723d0e0>, 'color': 'w'}\n"
     ]
    },
    {
     "name": "stderr",
     "output_type": "stream",
     "text": [
      "/home/jtomf/miniconda3/lib/python3.9/site-packages/cartopy/mpl/gridliner.py:741: UserWarning: The labels of this gridliner do not belong to the gridliner axes\n",
      "  warnings.warn('The labels of this gridliner do not belong to '\n"
     ]
    },
    {
     "name": "stdout",
     "output_type": "stream",
     "text": [
      "{'transform': <cartopy.crs.PlateCarree object at 0x7ff2973882c0>, 'color': 'w'}\n"
     ]
    },
    {
     "name": "stderr",
     "output_type": "stream",
     "text": [
      "/home/jtomf/miniconda3/lib/python3.9/site-packages/cartopy/mpl/gridliner.py:741: UserWarning: The labels of this gridliner do not belong to the gridliner axes\n",
      "  warnings.warn('The labels of this gridliner do not belong to '\n"
     ]
    },
    {
     "name": "stdout",
     "output_type": "stream",
     "text": [
      "{'transform': <cartopy.crs.PlateCarree object at 0x7ff296e933b0>, 'color': 'w'}\n"
     ]
    },
    {
     "name": "stderr",
     "output_type": "stream",
     "text": [
      "/home/jtomf/miniconda3/lib/python3.9/site-packages/cartopy/mpl/gridliner.py:741: UserWarning: The labels of this gridliner do not belong to the gridliner axes\n",
      "  warnings.warn('The labels of this gridliner do not belong to '\n"
     ]
    },
    {
     "name": "stdout",
     "output_type": "stream",
     "text": [
      "{'transform': <cartopy.crs.PlateCarree object at 0x7ff296ad6360>, 'color': 'w'}\n",
      "{'transform': <cartopy.crs.PlateCarree object at 0x7ff2971ef180>, 'color': 'w'}\n"
     ]
    },
    {
     "name": "stderr",
     "output_type": "stream",
     "text": [
      "/home/jtomf/miniconda3/lib/python3.9/site-packages/cartopy/mpl/gridliner.py:741: UserWarning: The labels of this gridliner do not belong to the gridliner axes\n",
      "  warnings.warn('The labels of this gridliner do not belong to '\n"
     ]
    },
    {
     "name": "stdout",
     "output_type": "stream",
     "text": [
      "{'transform': <cartopy.crs.PlateCarree object at 0x7ff2970785e0>, 'color': 'w'}\n"
     ]
    },
    {
     "name": "stderr",
     "output_type": "stream",
     "text": [
      "/home/jtomf/miniconda3/lib/python3.9/site-packages/cartopy/mpl/gridliner.py:741: UserWarning: The labels of this gridliner do not belong to the gridliner axes\n",
      "  warnings.warn('The labels of this gridliner do not belong to '\n"
     ]
    },
    {
     "name": "stdout",
     "output_type": "stream",
     "text": [
      "{'transform': <cartopy.crs.PlateCarree object at 0x7ff296f6a360>, 'color': 'w'}\n",
      "{'transform': <cartopy.crs.PlateCarree object at 0x7ff296e425e0>, 'color': 'w'}\n"
     ]
    },
    {
     "name": "stderr",
     "output_type": "stream",
     "text": [
      "/home/jtomf/miniconda3/lib/python3.9/site-packages/cartopy/mpl/gridliner.py:741: UserWarning: The labels of this gridliner do not belong to the gridliner axes\n",
      "  warnings.warn('The labels of this gridliner do not belong to '\n"
     ]
    },
    {
     "name": "stdout",
     "output_type": "stream",
     "text": [
      "{'transform': <cartopy.crs.PlateCarree object at 0x7ff297031ef0>, 'color': 'w'}\n"
     ]
    },
    {
     "name": "stderr",
     "output_type": "stream",
     "text": [
      "/home/jtomf/miniconda3/lib/python3.9/site-packages/cartopy/mpl/gridliner.py:741: UserWarning: The labels of this gridliner do not belong to the gridliner axes\n",
      "  warnings.warn('The labels of this gridliner do not belong to '\n"
     ]
    },
    {
     "name": "stdout",
     "output_type": "stream",
     "text": [
      "{'transform': <cartopy.crs.PlateCarree object at 0x7ff29744a400>, 'color': 'w'}\n",
      "{'transform': <cartopy.crs.PlateCarree object at 0x7ff29738ce50>, 'color': 'w'}\n"
     ]
    },
    {
     "name": "stderr",
     "output_type": "stream",
     "text": [
      "/home/jtomf/miniconda3/lib/python3.9/site-packages/cartopy/mpl/gridliner.py:741: UserWarning: The labels of this gridliner do not belong to the gridliner axes\n",
      "  warnings.warn('The labels of this gridliner do not belong to '\n"
     ]
    },
    {
     "name": "stdout",
     "output_type": "stream",
     "text": [
      "{'transform': <cartopy.crs.PlateCarree object at 0x7ff297111e50>, 'color': 'w'}\n"
     ]
    },
    {
     "name": "stderr",
     "output_type": "stream",
     "text": [
      "/home/jtomf/miniconda3/lib/python3.9/site-packages/cartopy/mpl/gridliner.py:741: UserWarning: The labels of this gridliner do not belong to the gridliner axes\n",
      "  warnings.warn('The labels of this gridliner do not belong to '\n"
     ]
    },
    {
     "name": "stdout",
     "output_type": "stream",
     "text": [
      "{'transform': <cartopy.crs.PlateCarree object at 0x7ff297275400>, 'color': 'w'}\n"
     ]
    },
    {
     "name": "stderr",
     "output_type": "stream",
     "text": [
      "/home/jtomf/miniconda3/lib/python3.9/site-packages/cartopy/mpl/gridliner.py:741: UserWarning: The labels of this gridliner do not belong to the gridliner axes\n",
      "  warnings.warn('The labels of this gridliner do not belong to '\n"
     ]
    },
    {
     "name": "stdout",
     "output_type": "stream",
     "text": [
      "{'transform': <cartopy.crs.PlateCarree object at 0x7ff296e51c70>, 'color': 'w'}\n"
     ]
    },
    {
     "name": "stderr",
     "output_type": "stream",
     "text": [
      "/home/jtomf/miniconda3/lib/python3.9/site-packages/cartopy/mpl/gridliner.py:741: UserWarning: The labels of this gridliner do not belong to the gridliner axes\n",
      "  warnings.warn('The labels of this gridliner do not belong to '\n"
     ]
    },
    {
     "name": "stdout",
     "output_type": "stream",
     "text": [
      "{'transform': <cartopy.crs.PlateCarree object at 0x7ff29527d270>, 'color': 'w'}\n"
     ]
    },
    {
     "name": "stderr",
     "output_type": "stream",
     "text": [
      "/home/jtomf/miniconda3/lib/python3.9/site-packages/cartopy/mpl/gridliner.py:741: UserWarning: The labels of this gridliner do not belong to the gridliner axes\n",
      "  warnings.warn('The labels of this gridliner do not belong to '\n"
     ]
    },
    {
     "name": "stdout",
     "output_type": "stream",
     "text": [
      "{'transform': <cartopy.crs.PlateCarree object at 0x7ff296d3f400>, 'color': 'w'}\n"
     ]
    },
    {
     "name": "stderr",
     "output_type": "stream",
     "text": [
      "/home/jtomf/miniconda3/lib/python3.9/site-packages/cartopy/mpl/gridliner.py:741: UserWarning: The labels of this gridliner do not belong to the gridliner axes\n",
      "  warnings.warn('The labels of this gridliner do not belong to '\n"
     ]
    },
    {
     "name": "stdout",
     "output_type": "stream",
     "text": [
      "{'transform': <cartopy.crs.PlateCarree object at 0x7ff29733b9a0>, 'color': 'w'}\n"
     ]
    },
    {
     "name": "stderr",
     "output_type": "stream",
     "text": [
      "/home/jtomf/miniconda3/lib/python3.9/site-packages/cartopy/mpl/gridliner.py:741: UserWarning: The labels of this gridliner do not belong to the gridliner axes\n",
      "  warnings.warn('The labels of this gridliner do not belong to '\n"
     ]
    },
    {
     "name": "stdout",
     "output_type": "stream",
     "text": [
      "{'transform': <cartopy.crs.PlateCarree object at 0x7ff297203130>, 'color': 'w'}\n"
     ]
    },
    {
     "name": "stderr",
     "output_type": "stream",
     "text": [
      "/home/jtomf/miniconda3/lib/python3.9/site-packages/cartopy/mpl/gridliner.py:741: UserWarning: The labels of this gridliner do not belong to the gridliner axes\n",
      "  warnings.warn('The labels of this gridliner do not belong to '\n"
     ]
    },
    {
     "name": "stdout",
     "output_type": "stream",
     "text": [
      "{'transform': <cartopy.crs.PlateCarree object at 0x7ff297435360>, 'color': 'w'}\n"
     ]
    },
    {
     "name": "stderr",
     "output_type": "stream",
     "text": [
      "/home/jtomf/miniconda3/lib/python3.9/site-packages/cartopy/mpl/gridliner.py:741: UserWarning: The labels of this gridliner do not belong to the gridliner axes\n",
      "  warnings.warn('The labels of this gridliner do not belong to '\n"
     ]
    },
    {
     "name": "stdout",
     "output_type": "stream",
     "text": [
      "{'transform': <cartopy.crs.PlateCarree object at 0x7ff296f524a0>, 'color': 'w'}\n"
     ]
    },
    {
     "name": "stderr",
     "output_type": "stream",
     "text": [
      "/home/jtomf/miniconda3/lib/python3.9/site-packages/cartopy/mpl/gridliner.py:741: UserWarning: The labels of this gridliner do not belong to the gridliner axes\n",
      "  warnings.warn('The labels of this gridliner do not belong to '\n"
     ]
    },
    {
     "name": "stdout",
     "output_type": "stream",
     "text": [
      "{'transform': <cartopy.crs.PlateCarree object at 0x7ff296cb72c0>, 'color': 'w'}\n"
     ]
    },
    {
     "name": "stderr",
     "output_type": "stream",
     "text": [
      "/home/jtomf/miniconda3/lib/python3.9/site-packages/cartopy/mpl/gridliner.py:741: UserWarning: The labels of this gridliner do not belong to the gridliner axes\n",
      "  warnings.warn('The labels of this gridliner do not belong to '\n"
     ]
    },
    {
     "name": "stdout",
     "output_type": "stream",
     "text": [
      "{'transform': <cartopy.crs.PlateCarree object at 0x7ff2962a0450>, 'color': 'w'}\n"
     ]
    },
    {
     "name": "stderr",
     "output_type": "stream",
     "text": [
      "/home/jtomf/miniconda3/lib/python3.9/site-packages/cartopy/mpl/gridliner.py:741: UserWarning: The labels of this gridliner do not belong to the gridliner axes\n",
      "  warnings.warn('The labels of this gridliner do not belong to '\n"
     ]
    },
    {
     "name": "stdout",
     "output_type": "stream",
     "text": [
      "{'transform': <cartopy.crs.PlateCarree object at 0x7ff296c831d0>, 'color': 'w'}\n",
      "{'transform': <cartopy.crs.PlateCarree object at 0x7ff2972ed270>, 'color': 'w'}\n"
     ]
    },
    {
     "name": "stderr",
     "output_type": "stream",
     "text": [
      "/home/jtomf/miniconda3/lib/python3.9/site-packages/cartopy/mpl/gridliner.py:741: UserWarning: The labels of this gridliner do not belong to the gridliner axes\n",
      "  warnings.warn('The labels of this gridliner do not belong to '\n"
     ]
    },
    {
     "name": "stdout",
     "output_type": "stream",
     "text": [
      "{'transform': <cartopy.crs.PlateCarree object at 0x7ff2971f25e0>, 'color': 'w'}\n"
     ]
    },
    {
     "name": "stderr",
     "output_type": "stream",
     "text": [
      "/home/jtomf/miniconda3/lib/python3.9/site-packages/cartopy/mpl/gridliner.py:741: UserWarning: The labels of this gridliner do not belong to the gridliner axes\n",
      "  warnings.warn('The labels of this gridliner do not belong to '\n"
     ]
    },
    {
     "name": "stdout",
     "output_type": "stream",
     "text": [
      "{'transform': <cartopy.crs.PlateCarree object at 0x7ff296e0a360>, 'color': 'w'}\n",
      "{'transform': <cartopy.crs.PlateCarree object at 0x7ff2971269a0>, 'color': 'w'}\n"
     ]
    },
    {
     "name": "stderr",
     "output_type": "stream",
     "text": [
      "/home/jtomf/miniconda3/lib/python3.9/site-packages/cartopy/mpl/gridliner.py:741: UserWarning: The labels of this gridliner do not belong to the gridliner axes\n",
      "  warnings.warn('The labels of this gridliner do not belong to '\n"
     ]
    },
    {
     "name": "stdout",
     "output_type": "stream",
     "text": [
      "{'transform': <cartopy.crs.PlateCarree object at 0x7ff296e5cef0>, 'color': 'w'}\n"
     ]
    },
    {
     "name": "stderr",
     "output_type": "stream",
     "text": [
      "/home/jtomf/miniconda3/lib/python3.9/site-packages/cartopy/mpl/gridliner.py:741: UserWarning: The labels of this gridliner do not belong to the gridliner axes\n",
      "  warnings.warn('The labels of this gridliner do not belong to '\n"
     ]
    },
    {
     "name": "stdout",
     "output_type": "stream",
     "text": [
      "{'transform': <cartopy.crs.PlateCarree object at 0x7ff29727e400>, 'color': 'w'}\n",
      "{'transform': <cartopy.crs.PlateCarree object at 0x7ff296dc94a0>, 'color': 'w'}\n"
     ]
    },
    {
     "name": "stderr",
     "output_type": "stream",
     "text": [
      "/home/jtomf/miniconda3/lib/python3.9/site-packages/cartopy/mpl/gridliner.py:741: UserWarning: The labels of this gridliner do not belong to the gridliner axes\n",
      "  warnings.warn('The labels of this gridliner do not belong to '\n"
     ]
    },
    {
     "name": "stdout",
     "output_type": "stream",
     "text": [
      "{'transform': <cartopy.crs.PlateCarree object at 0x7ff2973a8e50>, 'color': 'w'}\n"
     ]
    },
    {
     "name": "stderr",
     "output_type": "stream",
     "text": [
      "/home/jtomf/miniconda3/lib/python3.9/site-packages/cartopy/mpl/gridliner.py:741: UserWarning: The labels of this gridliner do not belong to the gridliner axes\n",
      "  warnings.warn('The labels of this gridliner do not belong to '\n"
     ]
    },
    {
     "name": "stdout",
     "output_type": "stream",
     "text": [
      "{'transform': <cartopy.crs.PlateCarree object at 0x7ff296d37400>, 'color': 'w'}\n"
     ]
    },
    {
     "name": "stderr",
     "output_type": "stream",
     "text": [
      "/home/jtomf/miniconda3/lib/python3.9/site-packages/cartopy/mpl/gridliner.py:741: UserWarning: The labels of this gridliner do not belong to the gridliner axes\n",
      "  warnings.warn('The labels of this gridliner do not belong to '\n"
     ]
    },
    {
     "name": "stdout",
     "output_type": "stream",
     "text": [
      "{'transform': <cartopy.crs.PlateCarree object at 0x7ff29702ce00>, 'color': 'w'}\n"
     ]
    },
    {
     "name": "stderr",
     "output_type": "stream",
     "text": [
      "/home/jtomf/miniconda3/lib/python3.9/site-packages/cartopy/mpl/gridliner.py:741: UserWarning: The labels of this gridliner do not belong to the gridliner axes\n",
      "  warnings.warn('The labels of this gridliner do not belong to '\n"
     ]
    },
    {
     "name": "stdout",
     "output_type": "stream",
     "text": [
      "{'transform': <cartopy.crs.PlateCarree object at 0x7ff2972ff270>, 'color': 'w'}\n"
     ]
    },
    {
     "name": "stderr",
     "output_type": "stream",
     "text": [
      "/home/jtomf/miniconda3/lib/python3.9/site-packages/cartopy/mpl/gridliner.py:741: UserWarning: The labels of this gridliner do not belong to the gridliner axes\n",
      "  warnings.warn('The labels of this gridliner do not belong to '\n"
     ]
    },
    {
     "name": "stdout",
     "output_type": "stream",
     "text": [
      "{'transform': <cartopy.crs.PlateCarree object at 0x7ff296fff400>, 'color': 'w'}\n"
     ]
    },
    {
     "name": "stderr",
     "output_type": "stream",
     "text": [
      "/home/jtomf/miniconda3/lib/python3.9/site-packages/cartopy/mpl/gridliner.py:741: UserWarning: The labels of this gridliner do not belong to the gridliner axes\n",
      "  warnings.warn('The labels of this gridliner do not belong to '\n"
     ]
    },
    {
     "name": "stdout",
     "output_type": "stream",
     "text": [
      "{'transform': <cartopy.crs.PlateCarree object at 0x7ff29702c4a0>, 'color': 'w'}\n"
     ]
    },
    {
     "name": "stderr",
     "output_type": "stream",
     "text": [
      "/home/jtomf/miniconda3/lib/python3.9/site-packages/cartopy/mpl/gridliner.py:741: UserWarning: The labels of this gridliner do not belong to the gridliner axes\n",
      "  warnings.warn('The labels of this gridliner do not belong to '\n"
     ]
    },
    {
     "name": "stdout",
     "output_type": "stream",
     "text": [
      "{'transform': <cartopy.crs.PlateCarree object at 0x7ff297381180>, 'color': 'w'}\n"
     ]
    },
    {
     "name": "stderr",
     "output_type": "stream",
     "text": [
      "/home/jtomf/miniconda3/lib/python3.9/site-packages/cartopy/mpl/gridliner.py:741: UserWarning: The labels of this gridliner do not belong to the gridliner axes\n",
      "  warnings.warn('The labels of this gridliner do not belong to '\n"
     ]
    },
    {
     "name": "stdout",
     "output_type": "stream",
     "text": [
      "{'transform': <cartopy.crs.PlateCarree object at 0x7ff29740d3b0>, 'color': 'w'}\n"
     ]
    },
    {
     "name": "stderr",
     "output_type": "stream",
     "text": [
      "/home/jtomf/miniconda3/lib/python3.9/site-packages/cartopy/mpl/gridliner.py:741: UserWarning: The labels of this gridliner do not belong to the gridliner axes\n",
      "  warnings.warn('The labels of this gridliner do not belong to '\n"
     ]
    },
    {
     "name": "stdout",
     "output_type": "stream",
     "text": [
      "{'transform': <cartopy.crs.PlateCarree object at 0x7ff2970b98b0>, 'color': 'w'}\n"
     ]
    },
    {
     "name": "stderr",
     "output_type": "stream",
     "text": [
      "/home/jtomf/miniconda3/lib/python3.9/site-packages/cartopy/mpl/gridliner.py:741: UserWarning: The labels of this gridliner do not belong to the gridliner axes\n",
      "  warnings.warn('The labels of this gridliner do not belong to '\n"
     ]
    },
    {
     "name": "stdout",
     "output_type": "stream",
     "text": [
      "{'transform': <cartopy.crs.PlateCarree object at 0x7ff29730e310>, 'color': 'w'}\n"
     ]
    },
    {
     "name": "stderr",
     "output_type": "stream",
     "text": [
      "/home/jtomf/miniconda3/lib/python3.9/site-packages/cartopy/mpl/gridliner.py:741: UserWarning: The labels of this gridliner do not belong to the gridliner axes\n",
      "  warnings.warn('The labels of this gridliner do not belong to '\n"
     ]
    },
    {
     "name": "stdout",
     "output_type": "stream",
     "text": [
      "{'transform': <cartopy.crs.PlateCarree object at 0x7ff297040400>, 'color': 'w'}\n"
     ]
    },
    {
     "name": "stderr",
     "output_type": "stream",
     "text": [
      "/home/jtomf/miniconda3/lib/python3.9/site-packages/cartopy/mpl/gridliner.py:741: UserWarning: The labels of this gridliner do not belong to the gridliner axes\n",
      "  warnings.warn('The labels of this gridliner do not belong to '\n"
     ]
    },
    {
     "name": "stdout",
     "output_type": "stream",
     "text": [
      "{'transform': <cartopy.crs.PlateCarree object at 0x7ff29731e900>, 'color': 'w'}\n",
      "{'transform': <cartopy.crs.PlateCarree object at 0x7ff296ad6090>, 'color': 'w'}\n"
     ]
    },
    {
     "name": "stderr",
     "output_type": "stream",
     "text": [
      "/home/jtomf/miniconda3/lib/python3.9/site-packages/cartopy/mpl/gridliner.py:741: UserWarning: The labels of this gridliner do not belong to the gridliner axes\n",
      "  warnings.warn('The labels of this gridliner do not belong to '\n"
     ]
    },
    {
     "name": "stdout",
     "output_type": "stream",
     "text": [
      "{'transform': <cartopy.crs.PlateCarree object at 0x7ff29626f630>, 'color': 'w'}\n"
     ]
    },
    {
     "name": "stderr",
     "output_type": "stream",
     "text": [
      "/home/jtomf/miniconda3/lib/python3.9/site-packages/cartopy/mpl/gridliner.py:741: UserWarning: The labels of this gridliner do not belong to the gridliner axes\n",
      "  warnings.warn('The labels of this gridliner do not belong to '\n"
     ]
    },
    {
     "name": "stdout",
     "output_type": "stream",
     "text": [
      "{'transform': <cartopy.crs.PlateCarree object at 0x7ff296d0d3b0>, 'color': 'w'}\n",
      "{'transform': <cartopy.crs.PlateCarree object at 0x7ff29631dc20>, 'color': 'w'}\n"
     ]
    },
    {
     "name": "stderr",
     "output_type": "stream",
     "text": [
      "/home/jtomf/miniconda3/lib/python3.9/site-packages/cartopy/mpl/gridliner.py:741: UserWarning: The labels of this gridliner do not belong to the gridliner axes\n",
      "  warnings.warn('The labels of this gridliner do not belong to '\n"
     ]
    },
    {
     "name": "stdout",
     "output_type": "stream",
     "text": [
      "{'transform': <cartopy.crs.PlateCarree object at 0x7ff2971f7f40>, 'color': 'w'}\n"
     ]
    },
    {
     "name": "stderr",
     "output_type": "stream",
     "text": [
      "/home/jtomf/miniconda3/lib/python3.9/site-packages/cartopy/mpl/gridliner.py:741: UserWarning: The labels of this gridliner do not belong to the gridliner axes\n",
      "  warnings.warn('The labels of this gridliner do not belong to '\n"
     ]
    },
    {
     "name": "stdout",
     "output_type": "stream",
     "text": [
      "{'transform': <cartopy.crs.PlateCarree object at 0x7ff297128450>, 'color': 'w'}\n",
      "{'transform': <cartopy.crs.PlateCarree object at 0x7ff2973c45e0>, 'color': 'w'}\n"
     ]
    },
    {
     "name": "stderr",
     "output_type": "stream",
     "text": [
      "/home/jtomf/miniconda3/lib/python3.9/site-packages/cartopy/mpl/gridliner.py:741: UserWarning: The labels of this gridliner do not belong to the gridliner axes\n",
      "  warnings.warn('The labels of this gridliner do not belong to '\n"
     ]
    },
    {
     "name": "stdout",
     "output_type": "stream",
     "text": [
      "{'transform': <cartopy.crs.PlateCarree object at 0x7ff296270ea0>, 'color': 'w'}\n"
     ]
    },
    {
     "name": "stderr",
     "output_type": "stream",
     "text": [
      "/home/jtomf/miniconda3/lib/python3.9/site-packages/cartopy/mpl/gridliner.py:741: UserWarning: The labels of this gridliner do not belong to the gridliner axes\n",
      "  warnings.warn('The labels of this gridliner do not belong to '\n"
     ]
    },
    {
     "name": "stdout",
     "output_type": "stream",
     "text": [
      "{'transform': <cartopy.crs.PlateCarree object at 0x7ff297348450>, 'color': 'w'}\n"
     ]
    },
    {
     "name": "stderr",
     "output_type": "stream",
     "text": [
      "/home/jtomf/miniconda3/lib/python3.9/site-packages/cartopy/mpl/gridliner.py:741: UserWarning: The labels of this gridliner do not belong to the gridliner axes\n",
      "  warnings.warn('The labels of this gridliner do not belong to '\n"
     ]
    },
    {
     "name": "stdout",
     "output_type": "stream",
     "text": [
      "{'transform': <cartopy.crs.PlateCarree object at 0x7ff296d4b1d0>, 'color': 'w'}\n"
     ]
    },
    {
     "name": "stderr",
     "output_type": "stream",
     "text": [
      "/home/jtomf/miniconda3/lib/python3.9/site-packages/cartopy/mpl/gridliner.py:741: UserWarning: The labels of this gridliner do not belong to the gridliner axes\n",
      "  warnings.warn('The labels of this gridliner do not belong to '\n"
     ]
    },
    {
     "name": "stdout",
     "output_type": "stream",
     "text": [
      "{'transform': <cartopy.crs.PlateCarree object at 0x7ff29713e2c0>, 'color': 'w'}\n"
     ]
    },
    {
     "name": "stderr",
     "output_type": "stream",
     "text": [
      "/home/jtomf/miniconda3/lib/python3.9/site-packages/cartopy/mpl/gridliner.py:741: UserWarning: The labels of this gridliner do not belong to the gridliner axes\n",
      "  warnings.warn('The labels of this gridliner do not belong to '\n"
     ]
    },
    {
     "name": "stdout",
     "output_type": "stream",
     "text": [
      "{'transform': <cartopy.crs.PlateCarree object at 0x7ff296a36450>, 'color': 'w'}\n"
     ]
    },
    {
     "name": "stderr",
     "output_type": "stream",
     "text": [
      "/home/jtomf/miniconda3/lib/python3.9/site-packages/cartopy/mpl/gridliner.py:741: UserWarning: The labels of this gridliner do not belong to the gridliner axes\n",
      "  warnings.warn('The labels of this gridliner do not belong to '\n"
     ]
    },
    {
     "name": "stdout",
     "output_type": "stream",
     "text": [
      "{'transform': <cartopy.crs.PlateCarree object at 0x7ff29721bc70>, 'color': 'w'}\n"
     ]
    },
    {
     "name": "stderr",
     "output_type": "stream",
     "text": [
      "/home/jtomf/miniconda3/lib/python3.9/site-packages/cartopy/mpl/gridliner.py:741: UserWarning: The labels of this gridliner do not belong to the gridliner axes\n",
      "  warnings.warn('The labels of this gridliner do not belong to '\n"
     ]
    },
    {
     "name": "stdout",
     "output_type": "stream",
     "text": [
      "{'transform': <cartopy.crs.PlateCarree object at 0x7ff297056130>, 'color': 'w'}\n"
     ]
    },
    {
     "name": "stderr",
     "output_type": "stream",
     "text": [
      "/home/jtomf/miniconda3/lib/python3.9/site-packages/cartopy/mpl/gridliner.py:741: UserWarning: The labels of this gridliner do not belong to the gridliner axes\n",
      "  warnings.warn('The labels of this gridliner do not belong to '\n"
     ]
    },
    {
     "name": "stdout",
     "output_type": "stream",
     "text": [
      "{'transform': <cartopy.crs.PlateCarree object at 0x7ff2971753b0>, 'color': 'w'}\n"
     ]
    },
    {
     "name": "stderr",
     "output_type": "stream",
     "text": [
      "/home/jtomf/miniconda3/lib/python3.9/site-packages/cartopy/mpl/gridliner.py:741: UserWarning: The labels of this gridliner do not belong to the gridliner axes\n",
      "  warnings.warn('The labels of this gridliner do not belong to '\n"
     ]
    },
    {
     "name": "stdout",
     "output_type": "stream",
     "text": [
      "{'transform': <cartopy.crs.PlateCarree object at 0x7ff29749df40>, 'color': 'w'}\n"
     ]
    },
    {
     "name": "stderr",
     "output_type": "stream",
     "text": [
      "/home/jtomf/miniconda3/lib/python3.9/site-packages/cartopy/mpl/gridliner.py:741: UserWarning: The labels of this gridliner do not belong to the gridliner axes\n",
      "  warnings.warn('The labels of this gridliner do not belong to '\n"
     ]
    },
    {
     "name": "stdout",
     "output_type": "stream",
     "text": [
      "{'transform': <cartopy.crs.PlateCarree object at 0x7ff29649b3b0>, 'color': 'w'}\n"
     ]
    },
    {
     "name": "stderr",
     "output_type": "stream",
     "text": [
      "/home/jtomf/miniconda3/lib/python3.9/site-packages/cartopy/mpl/gridliner.py:741: UserWarning: The labels of this gridliner do not belong to the gridliner axes\n",
      "  warnings.warn('The labels of this gridliner do not belong to '\n"
     ]
    },
    {
     "name": "stdout",
     "output_type": "stream",
     "text": [
      "{'transform': <cartopy.crs.PlateCarree object at 0x7ff2973f0590>, 'color': 'w'}\n"
     ]
    },
    {
     "name": "stderr",
     "output_type": "stream",
     "text": [
      "/home/jtomf/miniconda3/lib/python3.9/site-packages/cartopy/mpl/gridliner.py:741: UserWarning: The labels of this gridliner do not belong to the gridliner axes\n",
      "  warnings.warn('The labels of this gridliner do not belong to '\n"
     ]
    },
    {
     "name": "stdout",
     "output_type": "stream",
     "text": [
      "{'transform': <cartopy.crs.PlateCarree object at 0x7ff296aee720>, 'color': 'w'}\n",
      "{'transform': <cartopy.crs.PlateCarree object at 0x7ff2972ed090>, 'color': 'w'}\n"
     ]
    },
    {
     "name": "stderr",
     "output_type": "stream",
     "text": [
      "/home/jtomf/miniconda3/lib/python3.9/site-packages/cartopy/mpl/gridliner.py:741: UserWarning: The labels of this gridliner do not belong to the gridliner axes\n",
      "  warnings.warn('The labels of this gridliner do not belong to '\n"
     ]
    },
    {
     "name": "stdout",
     "output_type": "stream",
     "text": [
      "{'transform': <cartopy.crs.PlateCarree object at 0x7ff297210720>, 'color': 'w'}\n"
     ]
    },
    {
     "name": "stderr",
     "output_type": "stream",
     "text": [
      "/home/jtomf/miniconda3/lib/python3.9/site-packages/cartopy/mpl/gridliner.py:741: UserWarning: The labels of this gridliner do not belong to the gridliner axes\n",
      "  warnings.warn('The labels of this gridliner do not belong to '\n"
     ]
    },
    {
     "name": "stdout",
     "output_type": "stream",
     "text": [
      "{'transform': <cartopy.crs.PlateCarree object at 0x7ff296a684a0>, 'color': 'w'}\n",
      "{'transform': <cartopy.crs.PlateCarree object at 0x7ff2970163b0>, 'color': 'w'}\n"
     ]
    },
    {
     "name": "stderr",
     "output_type": "stream",
     "text": [
      "/home/jtomf/miniconda3/lib/python3.9/site-packages/cartopy/mpl/gridliner.py:741: UserWarning: The labels of this gridliner do not belong to the gridliner axes\n",
      "  warnings.warn('The labels of this gridliner do not belong to '\n"
     ]
    },
    {
     "name": "stdout",
     "output_type": "stream",
     "text": [
      "{'transform': <cartopy.crs.PlateCarree object at 0x7ff2970f0090>, 'color': 'w'}\n"
     ]
    },
    {
     "name": "stderr",
     "output_type": "stream",
     "text": [
      "/home/jtomf/miniconda3/lib/python3.9/site-packages/cartopy/mpl/gridliner.py:741: UserWarning: The labels of this gridliner do not belong to the gridliner axes\n",
      "  warnings.warn('The labels of this gridliner do not belong to '\n"
     ]
    },
    {
     "name": "stdout",
     "output_type": "stream",
     "text": [
      "{'transform': <cartopy.crs.PlateCarree object at 0x7ff296b63540>, 'color': 'w'}\n",
      "{'transform': <cartopy.crs.PlateCarree object at 0x7ff2964a4b80>, 'color': 'w'}\n"
     ]
    },
    {
     "name": "stderr",
     "output_type": "stream",
     "text": [
      "/home/jtomf/miniconda3/lib/python3.9/site-packages/cartopy/mpl/gridliner.py:741: UserWarning: The labels of this gridliner do not belong to the gridliner axes\n",
      "  warnings.warn('The labels of this gridliner do not belong to '\n"
     ]
    },
    {
     "name": "stdout",
     "output_type": "stream",
     "text": [
      "{'transform': <cartopy.crs.PlateCarree object at 0x7ff2964e4f90>, 'color': 'w'}\n"
     ]
    },
    {
     "name": "stderr",
     "output_type": "stream",
     "text": [
      "/home/jtomf/miniconda3/lib/python3.9/site-packages/cartopy/mpl/gridliner.py:741: UserWarning: The labels of this gridliner do not belong to the gridliner axes\n",
      "  warnings.warn('The labels of this gridliner do not belong to '\n"
     ]
    },
    {
     "name": "stdout",
     "output_type": "stream",
     "text": [
      "{'transform': <cartopy.crs.PlateCarree object at 0x7ff2961b0540>, 'color': 'w'}\n"
     ]
    },
    {
     "name": "stderr",
     "output_type": "stream",
     "text": [
      "/home/jtomf/miniconda3/lib/python3.9/site-packages/cartopy/mpl/gridliner.py:741: UserWarning: The labels of this gridliner do not belong to the gridliner axes\n",
      "  warnings.warn('The labels of this gridliner do not belong to '\n"
     ]
    },
    {
     "name": "stdout",
     "output_type": "stream",
     "text": [
      "{'transform': <cartopy.crs.PlateCarree object at 0x7ff296471680>, 'color': 'w'}\n"
     ]
    },
    {
     "name": "stderr",
     "output_type": "stream",
     "text": [
      "/home/jtomf/miniconda3/lib/python3.9/site-packages/cartopy/mpl/gridliner.py:741: UserWarning: The labels of this gridliner do not belong to the gridliner axes\n",
      "  warnings.warn('The labels of this gridliner do not belong to '\n"
     ]
    },
    {
     "name": "stdout",
     "output_type": "stream",
     "text": [
      "{'transform': <cartopy.crs.PlateCarree object at 0x7ff2970483b0>, 'color': 'w'}\n"
     ]
    },
    {
     "name": "stderr",
     "output_type": "stream",
     "text": [
      "/home/jtomf/miniconda3/lib/python3.9/site-packages/cartopy/mpl/gridliner.py:741: UserWarning: The labels of this gridliner do not belong to the gridliner axes\n",
      "  warnings.warn('The labels of this gridliner do not belong to '\n"
     ]
    },
    {
     "name": "stdout",
     "output_type": "stream",
     "text": [
      "{'transform': <cartopy.crs.PlateCarree object at 0x7ff296e19540>, 'color': 'w'}\n"
     ]
    },
    {
     "name": "stderr",
     "output_type": "stream",
     "text": [
      "/home/jtomf/miniconda3/lib/python3.9/site-packages/cartopy/mpl/gridliner.py:741: UserWarning: The labels of this gridliner do not belong to the gridliner axes\n",
      "  warnings.warn('The labels of this gridliner do not belong to '\n"
     ]
    },
    {
     "name": "stdout",
     "output_type": "stream",
     "text": [
      "{'transform': <cartopy.crs.PlateCarree object at 0x7ff2964e8b30>, 'color': 'w'}\n"
     ]
    },
    {
     "name": "stderr",
     "output_type": "stream",
     "text": [
      "/home/jtomf/miniconda3/lib/python3.9/site-packages/cartopy/mpl/gridliner.py:741: UserWarning: The labels of this gridliner do not belong to the gridliner axes\n",
      "  warnings.warn('The labels of this gridliner do not belong to '\n"
     ]
    },
    {
     "name": "stdout",
     "output_type": "stream",
     "text": [
      "{'transform': <cartopy.crs.PlateCarree object at 0x7ff297369270>, 'color': 'w'}\n"
     ]
    },
    {
     "name": "stderr",
     "output_type": "stream",
     "text": [
      "/home/jtomf/miniconda3/lib/python3.9/site-packages/cartopy/mpl/gridliner.py:741: UserWarning: The labels of this gridliner do not belong to the gridliner axes\n",
      "  warnings.warn('The labels of this gridliner do not belong to '\n"
     ]
    },
    {
     "name": "stdout",
     "output_type": "stream",
     "text": [
      "{'transform': <cartopy.crs.PlateCarree object at 0x7ff296f994a0>, 'color': 'w'}\n"
     ]
    },
    {
     "name": "stderr",
     "output_type": "stream",
     "text": [
      "/home/jtomf/miniconda3/lib/python3.9/site-packages/cartopy/mpl/gridliner.py:741: UserWarning: The labels of this gridliner do not belong to the gridliner axes\n",
      "  warnings.warn('The labels of this gridliner do not belong to '\n"
     ]
    },
    {
     "name": "stdout",
     "output_type": "stream",
     "text": [
      "{'transform': <cartopy.crs.PlateCarree object at 0x7ff2972ff360>, 'color': 'w'}\n"
     ]
    },
    {
     "name": "stderr",
     "output_type": "stream",
     "text": [
      "/home/jtomf/miniconda3/lib/python3.9/site-packages/cartopy/mpl/gridliner.py:741: UserWarning: The labels of this gridliner do not belong to the gridliner axes\n",
      "  warnings.warn('The labels of this gridliner do not belong to '\n"
     ]
    },
    {
     "name": "stdout",
     "output_type": "stream",
     "text": [
      "{'transform': <cartopy.crs.PlateCarree object at 0x7ff296e44400>, 'color': 'w'}\n"
     ]
    },
    {
     "name": "stderr",
     "output_type": "stream",
     "text": [
      "/home/jtomf/miniconda3/lib/python3.9/site-packages/cartopy/mpl/gridliner.py:741: UserWarning: The labels of this gridliner do not belong to the gridliner axes\n",
      "  warnings.warn('The labels of this gridliner do not belong to '\n"
     ]
    },
    {
     "name": "stdout",
     "output_type": "stream",
     "text": [
      "{'transform': <cartopy.crs.PlateCarree object at 0x7ff2971f7590>, 'color': 'w'}\n"
     ]
    },
    {
     "name": "stderr",
     "output_type": "stream",
     "text": [
      "/home/jtomf/miniconda3/lib/python3.9/site-packages/cartopy/mpl/gridliner.py:741: UserWarning: The labels of this gridliner do not belong to the gridliner axes\n",
      "  warnings.warn('The labels of this gridliner do not belong to '\n"
     ]
    },
    {
     "name": "stdout",
     "output_type": "stream",
     "text": [
      "{'transform': <cartopy.crs.PlateCarree object at 0x7ff2961e4770>, 'color': 'w'}\n",
      "{'transform': <cartopy.crs.PlateCarree object at 0x7ff296ea0900>, 'color': 'w'}\n"
     ]
    },
    {
     "name": "stderr",
     "output_type": "stream",
     "text": [
      "/home/jtomf/miniconda3/lib/python3.9/site-packages/cartopy/mpl/gridliner.py:741: UserWarning: The labels of this gridliner do not belong to the gridliner axes\n",
      "  warnings.warn('The labels of this gridliner do not belong to '\n"
     ]
    },
    {
     "name": "stdout",
     "output_type": "stream",
     "text": [
      "{'transform': <cartopy.crs.PlateCarree object at 0x7ff296a70720>, 'color': 'w'}\n"
     ]
    },
    {
     "name": "stderr",
     "output_type": "stream",
     "text": [
      "/home/jtomf/miniconda3/lib/python3.9/site-packages/cartopy/mpl/gridliner.py:741: UserWarning: The labels of this gridliner do not belong to the gridliner axes\n",
      "  warnings.warn('The labels of this gridliner do not belong to '\n"
     ]
    },
    {
     "name": "stdout",
     "output_type": "stream",
     "text": [
      "{'transform': <cartopy.crs.PlateCarree object at 0x7ff296d3e4a0>, 'color': 'w'}\n",
      "{'transform': <cartopy.crs.PlateCarree object at 0x7ff2972ed540>, 'color': 'w'}\n"
     ]
    },
    {
     "name": "stderr",
     "output_type": "stream",
     "text": [
      "/home/jtomf/miniconda3/lib/python3.9/site-packages/cartopy/mpl/gridliner.py:741: UserWarning: The labels of this gridliner do not belong to the gridliner axes\n",
      "  warnings.warn('The labels of this gridliner do not belong to '\n"
     ]
    },
    {
     "name": "stdout",
     "output_type": "stream",
     "text": [
      "{'transform': <cartopy.crs.PlateCarree object at 0x7ff296c730e0>, 'color': 'w'}\n"
     ]
    },
    {
     "name": "stderr",
     "output_type": "stream",
     "text": [
      "/home/jtomf/miniconda3/lib/python3.9/site-packages/cartopy/mpl/gridliner.py:741: UserWarning: The labels of this gridliner do not belong to the gridliner axes\n",
      "  warnings.warn('The labels of this gridliner do not belong to '\n"
     ]
    },
    {
     "name": "stdout",
     "output_type": "stream",
     "text": [
      "{'transform': <cartopy.crs.PlateCarree object at 0x7ff2973304a0>, 'color': 'w'}\n",
      "{'transform': <cartopy.crs.PlateCarree object at 0x7ff2964bc540>, 'color': 'w'}\n"
     ]
    },
    {
     "name": "stderr",
     "output_type": "stream",
     "text": [
      "/home/jtomf/miniconda3/lib/python3.9/site-packages/cartopy/mpl/gridliner.py:741: UserWarning: The labels of this gridliner do not belong to the gridliner axes\n",
      "  warnings.warn('The labels of this gridliner do not belong to '\n"
     ]
    },
    {
     "name": "stdout",
     "output_type": "stream",
     "text": [
      "{'transform': <cartopy.crs.PlateCarree object at 0x7ff296ce8f90>, 'color': 'w'}\n"
     ]
    },
    {
     "name": "stderr",
     "output_type": "stream",
     "text": [
      "/home/jtomf/miniconda3/lib/python3.9/site-packages/cartopy/mpl/gridliner.py:741: UserWarning: The labels of this gridliner do not belong to the gridliner axes\n",
      "  warnings.warn('The labels of this gridliner do not belong to '\n"
     ]
    },
    {
     "name": "stdout",
     "output_type": "stream",
     "text": [
      "{'transform': <cartopy.crs.PlateCarree object at 0x7ff296c214a0>, 'color': 'w'}\n"
     ]
    },
    {
     "name": "stderr",
     "output_type": "stream",
     "text": [
      "/home/jtomf/miniconda3/lib/python3.9/site-packages/cartopy/mpl/gridliner.py:741: UserWarning: The labels of this gridliner do not belong to the gridliner axes\n",
      "  warnings.warn('The labels of this gridliner do not belong to '\n"
     ]
    },
    {
     "name": "stdout",
     "output_type": "stream",
     "text": [
      "{'transform': <cartopy.crs.PlateCarree object at 0x7ff297115270>, 'color': 'w'}\n"
     ]
    },
    {
     "name": "stderr",
     "output_type": "stream",
     "text": [
      "/home/jtomf/miniconda3/lib/python3.9/site-packages/cartopy/mpl/gridliner.py:741: UserWarning: The labels of this gridliner do not belong to the gridliner axes\n",
      "  warnings.warn('The labels of this gridliner do not belong to '\n"
     ]
    },
    {
     "name": "stdout",
     "output_type": "stream",
     "text": [
      "{'transform': <cartopy.crs.PlateCarree object at 0x7ff2971fb310>, 'color': 'w'}\n"
     ]
    },
    {
     "name": "stderr",
     "output_type": "stream",
     "text": [
      "/home/jtomf/miniconda3/lib/python3.9/site-packages/cartopy/mpl/gridliner.py:741: UserWarning: The labels of this gridliner do not belong to the gridliner axes\n",
      "  warnings.warn('The labels of this gridliner do not belong to '\n"
     ]
    },
    {
     "name": "stdout",
     "output_type": "stream",
     "text": [
      "{'transform': <cartopy.crs.PlateCarree object at 0x7ff29607d4a0>, 'color': 'w'}\n"
     ]
    },
    {
     "name": "stderr",
     "output_type": "stream",
     "text": [
      "/home/jtomf/miniconda3/lib/python3.9/site-packages/cartopy/mpl/gridliner.py:741: UserWarning: The labels of this gridliner do not belong to the gridliner axes\n",
      "  warnings.warn('The labels of this gridliner do not belong to '\n"
     ]
    },
    {
     "name": "stdout",
     "output_type": "stream",
     "text": [
      "{'transform': <cartopy.crs.PlateCarree object at 0x7ff29723d040>, 'color': 'w'}\n"
     ]
    },
    {
     "name": "stderr",
     "output_type": "stream",
     "text": [
      "/home/jtomf/miniconda3/lib/python3.9/site-packages/cartopy/mpl/gridliner.py:741: UserWarning: The labels of this gridliner do not belong to the gridliner axes\n",
      "  warnings.warn('The labels of this gridliner do not belong to '\n"
     ]
    },
    {
     "name": "stdout",
     "output_type": "stream",
     "text": [
      "{'transform': <cartopy.crs.PlateCarree object at 0x7ff297068310>, 'color': 'w'}\n"
     ]
    },
    {
     "name": "stderr",
     "output_type": "stream",
     "text": [
      "/home/jtomf/miniconda3/lib/python3.9/site-packages/cartopy/mpl/gridliner.py:741: UserWarning: The labels of this gridliner do not belong to the gridliner axes\n",
      "  warnings.warn('The labels of this gridliner do not belong to '\n"
     ]
    },
    {
     "name": "stdout",
     "output_type": "stream",
     "text": [
      "{'transform': <cartopy.crs.PlateCarree object at 0x7ff29716e4a0>, 'color': 'w'}\n"
     ]
    },
    {
     "name": "stderr",
     "output_type": "stream",
     "text": [
      "/home/jtomf/miniconda3/lib/python3.9/site-packages/cartopy/mpl/gridliner.py:741: UserWarning: The labels of this gridliner do not belong to the gridliner axes\n",
      "  warnings.warn('The labels of this gridliner do not belong to '\n"
     ]
    },
    {
     "name": "stdout",
     "output_type": "stream",
     "text": [
      "{'transform': <cartopy.crs.PlateCarree object at 0x7ff296d7bcc0>, 'color': 'w'}\n"
     ]
    },
    {
     "name": "stderr",
     "output_type": "stream",
     "text": [
      "/home/jtomf/miniconda3/lib/python3.9/site-packages/cartopy/mpl/gridliner.py:741: UserWarning: The labels of this gridliner do not belong to the gridliner axes\n",
      "  warnings.warn('The labels of this gridliner do not belong to '\n"
     ]
    },
    {
     "name": "stdout",
     "output_type": "stream",
     "text": [
      "{'transform': <cartopy.crs.PlateCarree object at 0x7ff29738f310>, 'color': 'w'}\n"
     ]
    },
    {
     "name": "stderr",
     "output_type": "stream",
     "text": [
      "/home/jtomf/miniconda3/lib/python3.9/site-packages/cartopy/mpl/gridliner.py:741: UserWarning: The labels of this gridliner do not belong to the gridliner axes\n",
      "  warnings.warn('The labels of this gridliner do not belong to '\n"
     ]
    },
    {
     "name": "stdout",
     "output_type": "stream",
     "text": [
      "{'transform': <cartopy.crs.PlateCarree object at 0x7ff296bfb4a0>, 'color': 'w'}\n"
     ]
    },
    {
     "name": "stderr",
     "output_type": "stream",
     "text": [
      "/home/jtomf/miniconda3/lib/python3.9/site-packages/cartopy/mpl/gridliner.py:741: UserWarning: The labels of this gridliner do not belong to the gridliner axes\n",
      "  warnings.warn('The labels of this gridliner do not belong to '\n"
     ]
    },
    {
     "name": "stdout",
     "output_type": "stream",
     "text": [
      "{'transform': <cartopy.crs.PlateCarree object at 0x7ff2964e8b30>, 'color': 'w'}\n",
      "{'transform': <cartopy.crs.PlateCarree object at 0x7ff29718fb80>, 'color': 'w'}\n"
     ]
    },
    {
     "name": "stderr",
     "output_type": "stream",
     "text": [
      "/home/jtomf/miniconda3/lib/python3.9/site-packages/cartopy/mpl/gridliner.py:741: UserWarning: The labels of this gridliner do not belong to the gridliner axes\n",
      "  warnings.warn('The labels of this gridliner do not belong to '\n"
     ]
    },
    {
     "name": "stdout",
     "output_type": "stream",
     "text": [
      "{'transform': <cartopy.crs.PlateCarree object at 0x7ff296c877c0>, 'color': 'w'}\n"
     ]
    },
    {
     "name": "stderr",
     "output_type": "stream",
     "text": [
      "/home/jtomf/miniconda3/lib/python3.9/site-packages/cartopy/mpl/gridliner.py:741: UserWarning: The labels of this gridliner do not belong to the gridliner axes\n",
      "  warnings.warn('The labels of this gridliner do not belong to '\n"
     ]
    },
    {
     "name": "stdout",
     "output_type": "stream",
     "text": [
      "{'transform': <cartopy.crs.PlateCarree object at 0x7ff29733d180>, 'color': 'w'}\n",
      "{'transform': <cartopy.crs.PlateCarree object at 0x7ff29721be00>, 'color': 'w'}\n"
     ]
    },
    {
     "name": "stderr",
     "output_type": "stream",
     "text": [
      "/home/jtomf/miniconda3/lib/python3.9/site-packages/cartopy/mpl/gridliner.py:741: UserWarning: The labels of this gridliner do not belong to the gridliner axes\n",
      "  warnings.warn('The labels of this gridliner do not belong to '\n"
     ]
    },
    {
     "name": "stdout",
     "output_type": "stream",
     "text": [
      "{'transform': <cartopy.crs.PlateCarree object at 0x7ff296285180>, 'color': 'w'}\n"
     ]
    },
    {
     "name": "stderr",
     "output_type": "stream",
     "text": [
      "/home/jtomf/miniconda3/lib/python3.9/site-packages/cartopy/mpl/gridliner.py:741: UserWarning: The labels of this gridliner do not belong to the gridliner axes\n",
      "  warnings.warn('The labels of this gridliner do not belong to '\n"
     ]
    },
    {
     "name": "stdout",
     "output_type": "stream",
     "text": [
      "{'transform': <cartopy.crs.PlateCarree object at 0x7ff296beb4a0>, 'color': 'w'}\n",
      "{'transform': <cartopy.crs.PlateCarree object at 0x7ff2973b8db0>, 'color': 'w'}\n"
     ]
    },
    {
     "name": "stderr",
     "output_type": "stream",
     "text": [
      "/home/jtomf/miniconda3/lib/python3.9/site-packages/cartopy/mpl/gridliner.py:741: UserWarning: The labels of this gridliner do not belong to the gridliner axes\n",
      "  warnings.warn('The labels of this gridliner do not belong to '\n"
     ]
    },
    {
     "name": "stdout",
     "output_type": "stream",
     "text": [
      "{'transform': <cartopy.crs.PlateCarree object at 0x7ff296e6ff90>, 'color': 'w'}\n"
     ]
    },
    {
     "name": "stderr",
     "output_type": "stream",
     "text": [
      "/home/jtomf/miniconda3/lib/python3.9/site-packages/cartopy/mpl/gridliner.py:741: UserWarning: The labels of this gridliner do not belong to the gridliner axes\n",
      "  warnings.warn('The labels of this gridliner do not belong to '\n"
     ]
    },
    {
     "name": "stdout",
     "output_type": "stream",
     "text": [
      "{'transform': <cartopy.crs.PlateCarree object at 0x7ff2973284a0>, 'color': 'w'}\n"
     ]
    },
    {
     "name": "stderr",
     "output_type": "stream",
     "text": [
      "/home/jtomf/miniconda3/lib/python3.9/site-packages/cartopy/mpl/gridliner.py:741: UserWarning: The labels of this gridliner do not belong to the gridliner axes\n",
      "  warnings.warn('The labels of this gridliner do not belong to '\n"
     ]
    },
    {
     "name": "stdout",
     "output_type": "stream",
     "text": [
      "{'transform': <cartopy.crs.PlateCarree object at 0x7ff29738c950>, 'color': 'w'}\n"
     ]
    },
    {
     "name": "stderr",
     "output_type": "stream",
     "text": [
      "/home/jtomf/miniconda3/lib/python3.9/site-packages/cartopy/mpl/gridliner.py:741: UserWarning: The labels of this gridliner do not belong to the gridliner axes\n",
      "  warnings.warn('The labels of this gridliner do not belong to '\n"
     ]
    },
    {
     "name": "stdout",
     "output_type": "stream",
     "text": [
      "{'transform': <cartopy.crs.PlateCarree object at 0x7ff296e10310>, 'color': 'w'}\n"
     ]
    },
    {
     "name": "stderr",
     "output_type": "stream",
     "text": [
      "/home/jtomf/miniconda3/lib/python3.9/site-packages/cartopy/mpl/gridliner.py:741: UserWarning: The labels of this gridliner do not belong to the gridliner axes\n",
      "  warnings.warn('The labels of this gridliner do not belong to '\n"
     ]
    },
    {
     "name": "stdout",
     "output_type": "stream",
     "text": [
      "{'transform': <cartopy.crs.PlateCarree object at 0x7ff296f6c4a0>, 'color': 'w'}\n"
     ]
    },
    {
     "name": "stderr",
     "output_type": "stream",
     "text": [
      "/home/jtomf/miniconda3/lib/python3.9/site-packages/cartopy/mpl/gridliner.py:741: UserWarning: The labels of this gridliner do not belong to the gridliner axes\n",
      "  warnings.warn('The labels of this gridliner do not belong to '\n"
     ]
    },
    {
     "name": "stdout",
     "output_type": "stream",
     "text": [
      "{'transform': <cartopy.crs.PlateCarree object at 0x7ff2974c2770>, 'color': 'w'}\n"
     ]
    },
    {
     "name": "stderr",
     "output_type": "stream",
     "text": [
      "/home/jtomf/miniconda3/lib/python3.9/site-packages/cartopy/mpl/gridliner.py:741: UserWarning: The labels of this gridliner do not belong to the gridliner axes\n",
      "  warnings.warn('The labels of this gridliner do not belong to '\n"
     ]
    },
    {
     "name": "stdout",
     "output_type": "stream",
     "text": [
      "{'transform': <cartopy.crs.PlateCarree object at 0x7ff296ddb310>, 'color': 'w'}\n"
     ]
    },
    {
     "name": "stderr",
     "output_type": "stream",
     "text": [
      "/home/jtomf/miniconda3/lib/python3.9/site-packages/cartopy/mpl/gridliner.py:741: UserWarning: The labels of this gridliner do not belong to the gridliner axes\n",
      "  warnings.warn('The labels of this gridliner do not belong to '\n"
     ]
    },
    {
     "name": "stdout",
     "output_type": "stream",
     "text": [
      "{'transform': <cartopy.crs.PlateCarree object at 0x7ff296ed54a0>, 'color': 'w'}\n"
     ]
    },
    {
     "name": "stderr",
     "output_type": "stream",
     "text": [
      "/home/jtomf/miniconda3/lib/python3.9/site-packages/cartopy/mpl/gridliner.py:741: UserWarning: The labels of this gridliner do not belong to the gridliner axes\n",
      "  warnings.warn('The labels of this gridliner do not belong to '\n"
     ]
    },
    {
     "name": "stdout",
     "output_type": "stream",
     "text": [
      "{'transform': <cartopy.crs.PlateCarree object at 0x7ff29673e950>, 'color': 'w'}\n"
     ]
    },
    {
     "name": "stderr",
     "output_type": "stream",
     "text": [
      "/home/jtomf/miniconda3/lib/python3.9/site-packages/cartopy/mpl/gridliner.py:741: UserWarning: The labels of this gridliner do not belong to the gridliner axes\n",
      "  warnings.warn('The labels of this gridliner do not belong to '\n"
     ]
    },
    {
     "name": "stdout",
     "output_type": "stream",
     "text": [
      "{'transform': <cartopy.crs.PlateCarree object at 0x7ff29738f310>, 'color': 'w'}\n"
     ]
    },
    {
     "name": "stderr",
     "output_type": "stream",
     "text": [
      "/home/jtomf/miniconda3/lib/python3.9/site-packages/cartopy/mpl/gridliner.py:741: UserWarning: The labels of this gridliner do not belong to the gridliner axes\n",
      "  warnings.warn('The labels of this gridliner do not belong to '\n"
     ]
    },
    {
     "name": "stdout",
     "output_type": "stream",
     "text": [
      "{'transform': <cartopy.crs.PlateCarree object at 0x7ff2952a24a0>, 'color': 'w'}\n"
     ]
    },
    {
     "name": "stderr",
     "output_type": "stream",
     "text": [
      "/home/jtomf/miniconda3/lib/python3.9/site-packages/cartopy/mpl/gridliner.py:741: UserWarning: The labels of this gridliner do not belong to the gridliner axes\n",
      "  warnings.warn('The labels of this gridliner do not belong to '\n"
     ]
    },
    {
     "name": "stdout",
     "output_type": "stream",
     "text": [
      "{'transform': <cartopy.crs.PlateCarree object at 0x7ff297329270>, 'color': 'w'}\n",
      "{'transform': <cartopy.crs.PlateCarree object at 0x7ff29721d540>, 'color': 'w'}\n"
     ]
    },
    {
     "name": "stderr",
     "output_type": "stream",
     "text": [
      "/home/jtomf/miniconda3/lib/python3.9/site-packages/cartopy/mpl/gridliner.py:741: UserWarning: The labels of this gridliner do not belong to the gridliner axes\n",
      "  warnings.warn('The labels of this gridliner do not belong to '\n"
     ]
    },
    {
     "name": "stdout",
     "output_type": "stream",
     "text": [
      "{'transform': <cartopy.crs.PlateCarree object at 0x7ff29725e7c0>, 'color': 'w'}\n"
     ]
    },
    {
     "name": "stderr",
     "output_type": "stream",
     "text": [
      "/home/jtomf/miniconda3/lib/python3.9/site-packages/cartopy/mpl/gridliner.py:741: UserWarning: The labels of this gridliner do not belong to the gridliner axes\n",
      "  warnings.warn('The labels of this gridliner do not belong to '\n"
     ]
    },
    {
     "name": "stdout",
     "output_type": "stream",
     "text": [
      "{'transform': <cartopy.crs.PlateCarree object at 0x7ff2964bcc70>, 'color': 'w'}\n",
      "{'transform': <cartopy.crs.PlateCarree object at 0x7ff296471630>, 'color': 'w'}\n"
     ]
    },
    {
     "name": "stderr",
     "output_type": "stream",
     "text": [
      "/home/jtomf/miniconda3/lib/python3.9/site-packages/cartopy/mpl/gridliner.py:741: UserWarning: The labels of this gridliner do not belong to the gridliner axes\n",
      "  warnings.warn('The labels of this gridliner do not belong to '\n"
     ]
    },
    {
     "name": "stdout",
     "output_type": "stream",
     "text": [
      "{'transform': <cartopy.crs.PlateCarree object at 0x7ff2962a9180>, 'color': 'w'}\n"
     ]
    },
    {
     "name": "stderr",
     "output_type": "stream",
     "text": [
      "/home/jtomf/miniconda3/lib/python3.9/site-packages/cartopy/mpl/gridliner.py:741: UserWarning: The labels of this gridliner do not belong to the gridliner axes\n",
      "  warnings.warn('The labels of this gridliner do not belong to '\n"
     ]
    },
    {
     "name": "stdout",
     "output_type": "stream",
     "text": [
      "{'transform': <cartopy.crs.PlateCarree object at 0x7ff2971384a0>, 'color': 'w'}\n",
      "{'transform': <cartopy.crs.PlateCarree object at 0x7ff29711a220>, 'color': 'w'}\n"
     ]
    },
    {
     "name": "stderr",
     "output_type": "stream",
     "text": [
      "/home/jtomf/miniconda3/lib/python3.9/site-packages/cartopy/mpl/gridliner.py:741: UserWarning: The labels of this gridliner do not belong to the gridliner axes\n",
      "  warnings.warn('The labels of this gridliner do not belong to '\n"
     ]
    },
    {
     "name": "stdout",
     "output_type": "stream",
     "text": [
      "{'transform': <cartopy.crs.PlateCarree object at 0x7ff2964aff90>, 'color': 'w'}\n"
     ]
    },
    {
     "name": "stderr",
     "output_type": "stream",
     "text": [
      "/home/jtomf/miniconda3/lib/python3.9/site-packages/cartopy/mpl/gridliner.py:741: UserWarning: The labels of this gridliner do not belong to the gridliner axes\n",
      "  warnings.warn('The labels of this gridliner do not belong to '\n"
     ]
    },
    {
     "name": "stdout",
     "output_type": "stream",
     "text": [
      "{'transform': <cartopy.crs.PlateCarree object at 0x7ff2973434a0>, 'color': 'w'}\n"
     ]
    },
    {
     "name": "stderr",
     "output_type": "stream",
     "text": [
      "/home/jtomf/miniconda3/lib/python3.9/site-packages/cartopy/mpl/gridliner.py:741: UserWarning: The labels of this gridliner do not belong to the gridliner axes\n",
      "  warnings.warn('The labels of this gridliner do not belong to '\n"
     ]
    },
    {
     "name": "stdout",
     "output_type": "stream",
     "text": [
      "{'transform': <cartopy.crs.PlateCarree object at 0x7ff2964b8450>, 'color': 'w'}\n"
     ]
    },
    {
     "name": "stderr",
     "output_type": "stream",
     "text": [
      "/home/jtomf/miniconda3/lib/python3.9/site-packages/cartopy/mpl/gridliner.py:741: UserWarning: The labels of this gridliner do not belong to the gridliner axes\n",
      "  warnings.warn('The labels of this gridliner do not belong to '\n"
     ]
    },
    {
     "name": "stdout",
     "output_type": "stream",
     "text": [
      "{'transform': <cartopy.crs.PlateCarree object at 0x7ff29707e310>, 'color': 'w'}\n"
     ]
    },
    {
     "name": "stderr",
     "output_type": "stream",
     "text": [
      "/home/jtomf/miniconda3/lib/python3.9/site-packages/cartopy/mpl/gridliner.py:741: UserWarning: The labels of this gridliner do not belong to the gridliner axes\n",
      "  warnings.warn('The labels of this gridliner do not belong to '\n"
     ]
    },
    {
     "name": "stdout",
     "output_type": "stream",
     "text": [
      "{'transform': <cartopy.crs.PlateCarree object at 0x7ff296ff64a0>, 'color': 'w'}\n"
     ]
    },
    {
     "name": "stderr",
     "output_type": "stream",
     "text": [
      "/home/jtomf/miniconda3/lib/python3.9/site-packages/cartopy/mpl/gridliner.py:741: UserWarning: The labels of this gridliner do not belong to the gridliner axes\n",
      "  warnings.warn('The labels of this gridliner do not belong to '\n"
     ]
    },
    {
     "name": "stdout",
     "output_type": "stream",
     "text": [
      "{'transform': <cartopy.crs.PlateCarree object at 0x7ff29647c3b0>, 'color': 'w'}\n"
     ]
    },
    {
     "name": "stderr",
     "output_type": "stream",
     "text": [
      "/home/jtomf/miniconda3/lib/python3.9/site-packages/cartopy/mpl/gridliner.py:741: UserWarning: The labels of this gridliner do not belong to the gridliner axes\n",
      "  warnings.warn('The labels of this gridliner do not belong to '\n"
     ]
    },
    {
     "name": "stdout",
     "output_type": "stream",
     "text": [
      "{'transform': <cartopy.crs.PlateCarree object at 0x7ff2973b0310>, 'color': 'w'}\n"
     ]
    },
    {
     "name": "stderr",
     "output_type": "stream",
     "text": [
      "/home/jtomf/miniconda3/lib/python3.9/site-packages/cartopy/mpl/gridliner.py:741: UserWarning: The labels of this gridliner do not belong to the gridliner axes\n",
      "  warnings.warn('The labels of this gridliner do not belong to '\n"
     ]
    },
    {
     "name": "stdout",
     "output_type": "stream",
     "text": [
      "{'transform': <cartopy.crs.PlateCarree object at 0x7ff296dd94a0>, 'color': 'w'}\n"
     ]
    },
    {
     "name": "stderr",
     "output_type": "stream",
     "text": [
      "/home/jtomf/miniconda3/lib/python3.9/site-packages/cartopy/mpl/gridliner.py:741: UserWarning: The labels of this gridliner do not belong to the gridliner axes\n",
      "  warnings.warn('The labels of this gridliner do not belong to '\n"
     ]
    },
    {
     "name": "stdout",
     "output_type": "stream",
     "text": [
      "{'transform': <cartopy.crs.PlateCarree object at 0x7ff296de98b0>, 'color': 'w'}\n"
     ]
    },
    {
     "name": "stderr",
     "output_type": "stream",
     "text": [
      "/home/jtomf/miniconda3/lib/python3.9/site-packages/cartopy/mpl/gridliner.py:741: UserWarning: The labels of this gridliner do not belong to the gridliner axes\n",
      "  warnings.warn('The labels of this gridliner do not belong to '\n"
     ]
    },
    {
     "name": "stdout",
     "output_type": "stream",
     "text": [
      "{'transform': <cartopy.crs.PlateCarree object at 0x7ff2952ab310>, 'color': 'w'}\n"
     ]
    },
    {
     "name": "stderr",
     "output_type": "stream",
     "text": [
      "/home/jtomf/miniconda3/lib/python3.9/site-packages/cartopy/mpl/gridliner.py:741: UserWarning: The labels of this gridliner do not belong to the gridliner axes\n",
      "  warnings.warn('The labels of this gridliner do not belong to '\n"
     ]
    },
    {
     "name": "stdout",
     "output_type": "stream",
     "text": [
      "{'transform': <cartopy.crs.PlateCarree object at 0x7ff296f9a4a0>, 'color': 'w'}\n"
     ]
    },
    {
     "name": "stderr",
     "output_type": "stream",
     "text": [
      "/home/jtomf/miniconda3/lib/python3.9/site-packages/cartopy/mpl/gridliner.py:741: UserWarning: The labels of this gridliner do not belong to the gridliner axes\n",
      "  warnings.warn('The labels of this gridliner do not belong to '\n"
     ]
    },
    {
     "name": "stdout",
     "output_type": "stream",
     "text": [
      "{'transform': <cartopy.crs.PlateCarree object at 0x7ff2964b8810>, 'color': 'w'}\n",
      "{'transform': <cartopy.crs.PlateCarree object at 0x7ff2973b8ea0>, 'color': 'w'}\n"
     ]
    },
    {
     "name": "stderr",
     "output_type": "stream",
     "text": [
      "/home/jtomf/miniconda3/lib/python3.9/site-packages/cartopy/mpl/gridliner.py:741: UserWarning: The labels of this gridliner do not belong to the gridliner axes\n",
      "  warnings.warn('The labels of this gridliner do not belong to '\n"
     ]
    },
    {
     "name": "stdout",
     "output_type": "stream",
     "text": [
      "{'transform': <cartopy.crs.PlateCarree object at 0x7ff2973e17c0>, 'color': 'w'}\n"
     ]
    },
    {
     "name": "stderr",
     "output_type": "stream",
     "text": [
      "/home/jtomf/miniconda3/lib/python3.9/site-packages/cartopy/mpl/gridliner.py:741: UserWarning: The labels of this gridliner do not belong to the gridliner axes\n",
      "  warnings.warn('The labels of this gridliner do not belong to '\n"
     ]
    },
    {
     "name": "stdout",
     "output_type": "stream",
     "text": [
      "{'transform': <cartopy.crs.PlateCarree object at 0x7ff296d8ce50>, 'color': 'w'}\n",
      "{'transform': <cartopy.crs.PlateCarree object at 0x7ff296dcab30>, 'color': 'w'}\n"
     ]
    },
    {
     "name": "stderr",
     "output_type": "stream",
     "text": [
      "/home/jtomf/miniconda3/lib/python3.9/site-packages/cartopy/mpl/gridliner.py:741: UserWarning: The labels of this gridliner do not belong to the gridliner axes\n",
      "  warnings.warn('The labels of this gridliner do not belong to '\n"
     ]
    },
    {
     "name": "stdout",
     "output_type": "stream",
     "text": [
      "{'transform': <cartopy.crs.PlateCarree object at 0x7ff2964d9180>, 'color': 'w'}\n"
     ]
    },
    {
     "name": "stderr",
     "output_type": "stream",
     "text": [
      "/home/jtomf/miniconda3/lib/python3.9/site-packages/cartopy/mpl/gridliner.py:741: UserWarning: The labels of this gridliner do not belong to the gridliner axes\n",
      "  warnings.warn('The labels of this gridliner do not belong to '\n"
     ]
    },
    {
     "name": "stdout",
     "output_type": "stream",
     "text": [
      "{'transform': <cartopy.crs.PlateCarree object at 0x7ff2973494a0>, 'color': 'w'}\n",
      "{'transform': <cartopy.crs.PlateCarree object at 0x7ff2964e8680>, 'color': 'w'}\n"
     ]
    },
    {
     "name": "stderr",
     "output_type": "stream",
     "text": [
      "/home/jtomf/miniconda3/lib/python3.9/site-packages/cartopy/mpl/gridliner.py:741: UserWarning: The labels of this gridliner do not belong to the gridliner axes\n",
      "  warnings.warn('The labels of this gridliner do not belong to '\n"
     ]
    },
    {
     "name": "stdout",
     "output_type": "stream",
     "text": [
      "{'transform': <cartopy.crs.PlateCarree object at 0x7ff297200f90>, 'color': 'w'}\n"
     ]
    },
    {
     "name": "stderr",
     "output_type": "stream",
     "text": [
      "/home/jtomf/miniconda3/lib/python3.9/site-packages/cartopy/mpl/gridliner.py:741: UserWarning: The labels of this gridliner do not belong to the gridliner axes\n",
      "  warnings.warn('The labels of this gridliner do not belong to '\n"
     ]
    },
    {
     "name": "stdout",
     "output_type": "stream",
     "text": [
      "{'transform': <cartopy.crs.PlateCarree object at 0x7ff2971724a0>, 'color': 'w'}\n"
     ]
    },
    {
     "name": "stderr",
     "output_type": "stream",
     "text": [
      "/home/jtomf/miniconda3/lib/python3.9/site-packages/cartopy/mpl/gridliner.py:741: UserWarning: The labels of this gridliner do not belong to the gridliner axes\n",
      "  warnings.warn('The labels of this gridliner do not belong to '\n"
     ]
    },
    {
     "name": "stdout",
     "output_type": "stream",
     "text": [
      "{'transform': <cartopy.crs.PlateCarree object at 0x7ff297126040>, 'color': 'w'}\n"
     ]
    },
    {
     "name": "stderr",
     "output_type": "stream",
     "text": [
      "/home/jtomf/miniconda3/lib/python3.9/site-packages/cartopy/mpl/gridliner.py:741: UserWarning: The labels of this gridliner do not belong to the gridliner axes\n",
      "  warnings.warn('The labels of this gridliner do not belong to '\n"
     ]
    },
    {
     "name": "stdout",
     "output_type": "stream",
     "text": [
      "{'transform': <cartopy.crs.PlateCarree object at 0x7ff296e6f310>, 'color': 'w'}\n"
     ]
    },
    {
     "name": "stderr",
     "output_type": "stream",
     "text": [
      "/home/jtomf/miniconda3/lib/python3.9/site-packages/cartopy/mpl/gridliner.py:741: UserWarning: The labels of this gridliner do not belong to the gridliner axes\n",
      "  warnings.warn('The labels of this gridliner do not belong to '\n"
     ]
    },
    {
     "name": "stdout",
     "output_type": "stream",
     "text": [
      "{'transform': <cartopy.crs.PlateCarree object at 0x7ff29703a4a0>, 'color': 'w'}\n"
     ]
    },
    {
     "name": "stderr",
     "output_type": "stream",
     "text": [
      "/home/jtomf/miniconda3/lib/python3.9/site-packages/cartopy/mpl/gridliner.py:741: UserWarning: The labels of this gridliner do not belong to the gridliner axes\n",
      "  warnings.warn('The labels of this gridliner do not belong to '\n"
     ]
    },
    {
     "name": "stdout",
     "output_type": "stream",
     "text": [
      "{'transform': <cartopy.crs.PlateCarree object at 0x7ff29749bc70>, 'color': 'w'}\n"
     ]
    },
    {
     "name": "stderr",
     "output_type": "stream",
     "text": [
      "/home/jtomf/miniconda3/lib/python3.9/site-packages/cartopy/mpl/gridliner.py:741: UserWarning: The labels of this gridliner do not belong to the gridliner axes\n",
      "  warnings.warn('The labels of this gridliner do not belong to '\n"
     ]
    },
    {
     "name": "stdout",
     "output_type": "stream",
     "text": [
      "{'transform': <cartopy.crs.PlateCarree object at 0x7ff296d43310>, 'color': 'w'}\n"
     ]
    },
    {
     "name": "stderr",
     "output_type": "stream",
     "text": [
      "/home/jtomf/miniconda3/lib/python3.9/site-packages/cartopy/mpl/gridliner.py:741: UserWarning: The labels of this gridliner do not belong to the gridliner axes\n",
      "  warnings.warn('The labels of this gridliner do not belong to '\n"
     ]
    },
    {
     "name": "stdout",
     "output_type": "stream",
     "text": [
      "{'transform': <cartopy.crs.PlateCarree object at 0x7ff2973fd4a0>, 'color': 'w'}\n"
     ]
    },
    {
     "name": "stderr",
     "output_type": "stream",
     "text": [
      "/home/jtomf/miniconda3/lib/python3.9/site-packages/cartopy/mpl/gridliner.py:741: UserWarning: The labels of this gridliner do not belong to the gridliner axes\n",
      "  warnings.warn('The labels of this gridliner do not belong to '\n"
     ]
    },
    {
     "name": "stdout",
     "output_type": "stream",
     "text": [
      "{'transform': <cartopy.crs.PlateCarree object at 0x7ff296d1db30>, 'color': 'w'}\n"
     ]
    },
    {
     "name": "stderr",
     "output_type": "stream",
     "text": [
      "/home/jtomf/miniconda3/lib/python3.9/site-packages/cartopy/mpl/gridliner.py:741: UserWarning: The labels of this gridliner do not belong to the gridliner axes\n",
      "  warnings.warn('The labels of this gridliner do not belong to '\n"
     ]
    },
    {
     "name": "stdout",
     "output_type": "stream",
     "text": [
      "{'transform': <cartopy.crs.PlateCarree object at 0x7ff296eb9310>, 'color': 'w'}\n"
     ]
    },
    {
     "name": "stderr",
     "output_type": "stream",
     "text": [
      "/home/jtomf/miniconda3/lib/python3.9/site-packages/cartopy/mpl/gridliner.py:741: UserWarning: The labels of this gridliner do not belong to the gridliner axes\n",
      "  warnings.warn('The labels of this gridliner do not belong to '\n"
     ]
    }
   ],
   "source": [
    "fig = plt.figure()\n",
    "for tind in range(len(ds.time)):\n",
    "    plot_SSH_map(tind)"
   ]
  },
  {
   "cell_type": "code",
   "execution_count": 10,
   "id": "08c72ddc-ac17-4407-a3f9-be980b381820",
   "metadata": {},
   "outputs": [
    {
     "data": {
      "text/plain": [
       "'../plots/SSH_plots/SLA435.png'"
      ]
     },
     "execution_count": 10,
     "metadata": {},
     "output_type": "execute_result"
    }
   ],
   "source": [
    "__figdir__+'SLA'+str(tind)+'.'+plotfiletype"
   ]
  },
  {
   "cell_type": "code",
   "execution_count": 12,
   "id": "2875443e-6c24-4824-a08d-2f34f77e6a8a",
   "metadata": {},
   "outputs": [],
   "source": [
    "# I have actually been running this from the command line in the directory with the plots\n",
    "# !ffmpeg -framerate 1 -i SLA%d.png -r 10 duacs_movie.avi"
   ]
  },
  {
   "cell_type": "markdown",
   "id": "62bae61d-e2b0-4c59-aef2-8abc64379bf2",
   "metadata": {},
   "source": [
    "## Extract a time series at a point or at a series of points\n",
    "\n",
    "Try making input a list of lat, lon, times to interpolate to.  I could make that a function and then iterate over times.\n",
    "\n",
    "So, I want to interpolate DUACS u,v to a given time, lon, lat.\n",
    "\n",
    "Will use xarray interp package, following:  \n",
    "https://docs.xarray.dev/en/stable/user-guide/interpolation.htmlhttps://docs.xarray.dev/en/stable/user-guide/interpolation.html\n"
   ]
  },
  {
   "cell_type": "code",
   "execution_count": 13,
   "id": "953a0b57-5cf9-4875-99a4-7ff7ffb581ec",
   "metadata": {
    "tags": []
   },
   "outputs": [
    {
     "name": "stderr",
     "output_type": "stream",
     "text": [
      "/home/jtomf/miniconda3/lib/python3.9/site-packages/xarray/core/missing.py:562: FutureWarning: Passing method to DatetimeIndex.get_loc is deprecated and will raise in a future version. Use index.get_indexer([item], method=...) instead.\n",
      "  imin = index.get_loc(minval, method=\"nearest\")\n",
      "/home/jtomf/miniconda3/lib/python3.9/site-packages/xarray/core/missing.py:563: FutureWarning: Passing method to DatetimeIndex.get_loc is deprecated and will raise in a future version. Use index.get_indexer([item], method=...) instead.\n",
      "  imax = index.get_loc(maxval, method=\"nearest\")\n",
      "/home/jtomf/miniconda3/lib/python3.9/site-packages/xarray/core/missing.py:562: FutureWarning: Passing method to Float64Index.get_loc is deprecated and will raise in a future version. Use index.get_indexer([item], method=...) instead.\n",
      "  imin = index.get_loc(minval, method=\"nearest\")\n",
      "/home/jtomf/miniconda3/lib/python3.9/site-packages/xarray/core/missing.py:563: FutureWarning: Passing method to Float64Index.get_loc is deprecated and will raise in a future version. Use index.get_indexer([item], method=...) instead.\n",
      "  imax = index.get_loc(maxval, method=\"nearest\")\n",
      "/home/jtomf/miniconda3/lib/python3.9/site-packages/xarray/core/missing.py:562: FutureWarning: Passing method to Float64Index.get_loc is deprecated and will raise in a future version. Use index.get_indexer([item], method=...) instead.\n",
      "  imin = index.get_loc(minval, method=\"nearest\")\n",
      "/home/jtomf/miniconda3/lib/python3.9/site-packages/xarray/core/missing.py:563: FutureWarning: Passing method to Float64Index.get_loc is deprecated and will raise in a future version. Use index.get_indexer([item], method=...) instead.\n",
      "  imax = index.get_loc(maxval, method=\"nearest\")\n"
     ]
    }
   ],
   "source": [
    "new_lon = -126.1\n",
    "new_lat = 37.1\n",
    "new_time = ds.time[-3]\n",
    "dsi = ds.interp(time=new_time,latitude=new_lat, longitude=new_lon)"
   ]
  },
  {
   "cell_type": "code",
   "execution_count": 14,
   "id": "f08d9009-b9c9-4b9b-a9e3-8875e661f9b0",
   "metadata": {
    "tags": []
   },
   "outputs": [
    {
     "data": {
      "text/html": [
       "<div><svg style=\"position: absolute; width: 0; height: 0; overflow: hidden\">\n",
       "<defs>\n",
       "<symbol id=\"icon-database\" viewBox=\"0 0 32 32\">\n",
       "<path d=\"M16 0c-8.837 0-16 2.239-16 5v4c0 2.761 7.163 5 16 5s16-2.239 16-5v-4c0-2.761-7.163-5-16-5z\"></path>\n",
       "<path d=\"M16 17c-8.837 0-16-2.239-16-5v6c0 2.761 7.163 5 16 5s16-2.239 16-5v-6c0 2.761-7.163 5-16 5z\"></path>\n",
       "<path d=\"M16 26c-8.837 0-16-2.239-16-5v6c0 2.761 7.163 5 16 5s16-2.239 16-5v-6c0 2.761-7.163 5-16 5z\"></path>\n",
       "</symbol>\n",
       "<symbol id=\"icon-file-text2\" viewBox=\"0 0 32 32\">\n",
       "<path d=\"M28.681 7.159c-0.694-0.947-1.662-2.053-2.724-3.116s-2.169-2.030-3.116-2.724c-1.612-1.182-2.393-1.319-2.841-1.319h-15.5c-1.378 0-2.5 1.121-2.5 2.5v27c0 1.378 1.122 2.5 2.5 2.5h23c1.378 0 2.5-1.122 2.5-2.5v-19.5c0-0.448-0.137-1.23-1.319-2.841zM24.543 5.457c0.959 0.959 1.712 1.825 2.268 2.543h-4.811v-4.811c0.718 0.556 1.584 1.309 2.543 2.268zM28 29.5c0 0.271-0.229 0.5-0.5 0.5h-23c-0.271 0-0.5-0.229-0.5-0.5v-27c0-0.271 0.229-0.5 0.5-0.5 0 0 15.499-0 15.5 0v7c0 0.552 0.448 1 1 1h7v19.5z\"></path>\n",
       "<path d=\"M23 26h-14c-0.552 0-1-0.448-1-1s0.448-1 1-1h14c0.552 0 1 0.448 1 1s-0.448 1-1 1z\"></path>\n",
       "<path d=\"M23 22h-14c-0.552 0-1-0.448-1-1s0.448-1 1-1h14c0.552 0 1 0.448 1 1s-0.448 1-1 1z\"></path>\n",
       "<path d=\"M23 18h-14c-0.552 0-1-0.448-1-1s0.448-1 1-1h14c0.552 0 1 0.448 1 1s-0.448 1-1 1z\"></path>\n",
       "</symbol>\n",
       "</defs>\n",
       "</svg>\n",
       "<style>/* CSS stylesheet for displaying xarray objects in jupyterlab.\n",
       " *\n",
       " */\n",
       "\n",
       ":root {\n",
       "  --xr-font-color0: var(--jp-content-font-color0, rgba(0, 0, 0, 1));\n",
       "  --xr-font-color2: var(--jp-content-font-color2, rgba(0, 0, 0, 0.54));\n",
       "  --xr-font-color3: var(--jp-content-font-color3, rgba(0, 0, 0, 0.38));\n",
       "  --xr-border-color: var(--jp-border-color2, #e0e0e0);\n",
       "  --xr-disabled-color: var(--jp-layout-color3, #bdbdbd);\n",
       "  --xr-background-color: var(--jp-layout-color0, white);\n",
       "  --xr-background-color-row-even: var(--jp-layout-color1, white);\n",
       "  --xr-background-color-row-odd: var(--jp-layout-color2, #eeeeee);\n",
       "}\n",
       "\n",
       "html[theme=dark],\n",
       "body.vscode-dark {\n",
       "  --xr-font-color0: rgba(255, 255, 255, 1);\n",
       "  --xr-font-color2: rgba(255, 255, 255, 0.54);\n",
       "  --xr-font-color3: rgba(255, 255, 255, 0.38);\n",
       "  --xr-border-color: #1F1F1F;\n",
       "  --xr-disabled-color: #515151;\n",
       "  --xr-background-color: #111111;\n",
       "  --xr-background-color-row-even: #111111;\n",
       "  --xr-background-color-row-odd: #313131;\n",
       "}\n",
       "\n",
       ".xr-wrap {\n",
       "  display: block;\n",
       "  min-width: 300px;\n",
       "  max-width: 700px;\n",
       "}\n",
       "\n",
       ".xr-text-repr-fallback {\n",
       "  /* fallback to plain text repr when CSS is not injected (untrusted notebook) */\n",
       "  display: none;\n",
       "}\n",
       "\n",
       ".xr-header {\n",
       "  padding-top: 6px;\n",
       "  padding-bottom: 6px;\n",
       "  margin-bottom: 4px;\n",
       "  border-bottom: solid 1px var(--xr-border-color);\n",
       "}\n",
       "\n",
       ".xr-header > div,\n",
       ".xr-header > ul {\n",
       "  display: inline;\n",
       "  margin-top: 0;\n",
       "  margin-bottom: 0;\n",
       "}\n",
       "\n",
       ".xr-obj-type,\n",
       ".xr-array-name {\n",
       "  margin-left: 2px;\n",
       "  margin-right: 10px;\n",
       "}\n",
       "\n",
       ".xr-obj-type {\n",
       "  color: var(--xr-font-color2);\n",
       "}\n",
       "\n",
       ".xr-sections {\n",
       "  padding-left: 0 !important;\n",
       "  display: grid;\n",
       "  grid-template-columns: 150px auto auto 1fr 20px 20px;\n",
       "}\n",
       "\n",
       ".xr-section-item {\n",
       "  display: contents;\n",
       "}\n",
       "\n",
       ".xr-section-item input {\n",
       "  display: none;\n",
       "}\n",
       "\n",
       ".xr-section-item input + label {\n",
       "  color: var(--xr-disabled-color);\n",
       "}\n",
       "\n",
       ".xr-section-item input:enabled + label {\n",
       "  cursor: pointer;\n",
       "  color: var(--xr-font-color2);\n",
       "}\n",
       "\n",
       ".xr-section-item input:enabled + label:hover {\n",
       "  color: var(--xr-font-color0);\n",
       "}\n",
       "\n",
       ".xr-section-summary {\n",
       "  grid-column: 1;\n",
       "  color: var(--xr-font-color2);\n",
       "  font-weight: 500;\n",
       "}\n",
       "\n",
       ".xr-section-summary > span {\n",
       "  display: inline-block;\n",
       "  padding-left: 0.5em;\n",
       "}\n",
       "\n",
       ".xr-section-summary-in:disabled + label {\n",
       "  color: var(--xr-font-color2);\n",
       "}\n",
       "\n",
       ".xr-section-summary-in + label:before {\n",
       "  display: inline-block;\n",
       "  content: '►';\n",
       "  font-size: 11px;\n",
       "  width: 15px;\n",
       "  text-align: center;\n",
       "}\n",
       "\n",
       ".xr-section-summary-in:disabled + label:before {\n",
       "  color: var(--xr-disabled-color);\n",
       "}\n",
       "\n",
       ".xr-section-summary-in:checked + label:before {\n",
       "  content: '▼';\n",
       "}\n",
       "\n",
       ".xr-section-summary-in:checked + label > span {\n",
       "  display: none;\n",
       "}\n",
       "\n",
       ".xr-section-summary,\n",
       ".xr-section-inline-details {\n",
       "  padding-top: 4px;\n",
       "  padding-bottom: 4px;\n",
       "}\n",
       "\n",
       ".xr-section-inline-details {\n",
       "  grid-column: 2 / -1;\n",
       "}\n",
       "\n",
       ".xr-section-details {\n",
       "  display: none;\n",
       "  grid-column: 1 / -1;\n",
       "  margin-bottom: 5px;\n",
       "}\n",
       "\n",
       ".xr-section-summary-in:checked ~ .xr-section-details {\n",
       "  display: contents;\n",
       "}\n",
       "\n",
       ".xr-array-wrap {\n",
       "  grid-column: 1 / -1;\n",
       "  display: grid;\n",
       "  grid-template-columns: 20px auto;\n",
       "}\n",
       "\n",
       ".xr-array-wrap > label {\n",
       "  grid-column: 1;\n",
       "  vertical-align: top;\n",
       "}\n",
       "\n",
       ".xr-preview {\n",
       "  color: var(--xr-font-color3);\n",
       "}\n",
       "\n",
       ".xr-array-preview,\n",
       ".xr-array-data {\n",
       "  padding: 0 5px !important;\n",
       "  grid-column: 2;\n",
       "}\n",
       "\n",
       ".xr-array-data,\n",
       ".xr-array-in:checked ~ .xr-array-preview {\n",
       "  display: none;\n",
       "}\n",
       "\n",
       ".xr-array-in:checked ~ .xr-array-data,\n",
       ".xr-array-preview {\n",
       "  display: inline-block;\n",
       "}\n",
       "\n",
       ".xr-dim-list {\n",
       "  display: inline-block !important;\n",
       "  list-style: none;\n",
       "  padding: 0 !important;\n",
       "  margin: 0;\n",
       "}\n",
       "\n",
       ".xr-dim-list li {\n",
       "  display: inline-block;\n",
       "  padding: 0;\n",
       "  margin: 0;\n",
       "}\n",
       "\n",
       ".xr-dim-list:before {\n",
       "  content: '(';\n",
       "}\n",
       "\n",
       ".xr-dim-list:after {\n",
       "  content: ')';\n",
       "}\n",
       "\n",
       ".xr-dim-list li:not(:last-child):after {\n",
       "  content: ',';\n",
       "  padding-right: 5px;\n",
       "}\n",
       "\n",
       ".xr-has-index {\n",
       "  font-weight: bold;\n",
       "}\n",
       "\n",
       ".xr-var-list,\n",
       ".xr-var-item {\n",
       "  display: contents;\n",
       "}\n",
       "\n",
       ".xr-var-item > div,\n",
       ".xr-var-item label,\n",
       ".xr-var-item > .xr-var-name span {\n",
       "  background-color: var(--xr-background-color-row-even);\n",
       "  margin-bottom: 0;\n",
       "}\n",
       "\n",
       ".xr-var-item > .xr-var-name:hover span {\n",
       "  padding-right: 5px;\n",
       "}\n",
       "\n",
       ".xr-var-list > li:nth-child(odd) > div,\n",
       ".xr-var-list > li:nth-child(odd) > label,\n",
       ".xr-var-list > li:nth-child(odd) > .xr-var-name span {\n",
       "  background-color: var(--xr-background-color-row-odd);\n",
       "}\n",
       "\n",
       ".xr-var-name {\n",
       "  grid-column: 1;\n",
       "}\n",
       "\n",
       ".xr-var-dims {\n",
       "  grid-column: 2;\n",
       "}\n",
       "\n",
       ".xr-var-dtype {\n",
       "  grid-column: 3;\n",
       "  text-align: right;\n",
       "  color: var(--xr-font-color2);\n",
       "}\n",
       "\n",
       ".xr-var-preview {\n",
       "  grid-column: 4;\n",
       "}\n",
       "\n",
       ".xr-var-name,\n",
       ".xr-var-dims,\n",
       ".xr-var-dtype,\n",
       ".xr-preview,\n",
       ".xr-attrs dt {\n",
       "  white-space: nowrap;\n",
       "  overflow: hidden;\n",
       "  text-overflow: ellipsis;\n",
       "  padding-right: 10px;\n",
       "}\n",
       "\n",
       ".xr-var-name:hover,\n",
       ".xr-var-dims:hover,\n",
       ".xr-var-dtype:hover,\n",
       ".xr-attrs dt:hover {\n",
       "  overflow: visible;\n",
       "  width: auto;\n",
       "  z-index: 1;\n",
       "}\n",
       "\n",
       ".xr-var-attrs,\n",
       ".xr-var-data {\n",
       "  display: none;\n",
       "  background-color: var(--xr-background-color) !important;\n",
       "  padding-bottom: 5px !important;\n",
       "}\n",
       "\n",
       ".xr-var-attrs-in:checked ~ .xr-var-attrs,\n",
       ".xr-var-data-in:checked ~ .xr-var-data {\n",
       "  display: block;\n",
       "}\n",
       "\n",
       ".xr-var-data > table {\n",
       "  float: right;\n",
       "}\n",
       "\n",
       ".xr-var-name span,\n",
       ".xr-var-data,\n",
       ".xr-attrs {\n",
       "  padding-left: 25px !important;\n",
       "}\n",
       "\n",
       ".xr-attrs,\n",
       ".xr-var-attrs,\n",
       ".xr-var-data {\n",
       "  grid-column: 1 / -1;\n",
       "}\n",
       "\n",
       "dl.xr-attrs {\n",
       "  padding: 0;\n",
       "  margin: 0;\n",
       "  display: grid;\n",
       "  grid-template-columns: 125px auto;\n",
       "}\n",
       "\n",
       ".xr-attrs dt,\n",
       ".xr-attrs dd {\n",
       "  padding: 0;\n",
       "  margin: 0;\n",
       "  float: left;\n",
       "  padding-right: 10px;\n",
       "  width: auto;\n",
       "}\n",
       "\n",
       ".xr-attrs dt {\n",
       "  font-weight: normal;\n",
       "  grid-column: 1;\n",
       "}\n",
       "\n",
       ".xr-attrs dt:hover span {\n",
       "  display: inline-block;\n",
       "  background: var(--xr-background-color);\n",
       "  padding-right: 10px;\n",
       "}\n",
       "\n",
       ".xr-attrs dd {\n",
       "  grid-column: 2;\n",
       "  white-space: pre-wrap;\n",
       "  word-break: break-all;\n",
       "}\n",
       "\n",
       ".xr-icon-database,\n",
       ".xr-icon-file-text2 {\n",
       "  display: inline-block;\n",
       "  vertical-align: middle;\n",
       "  width: 1em;\n",
       "  height: 1.5em !important;\n",
       "  stroke-width: 0;\n",
       "  stroke: currentColor;\n",
       "  fill: currentColor;\n",
       "}\n",
       "</style><pre class='xr-text-repr-fallback'>&lt;xarray.Dataset&gt;\n",
       "Dimensions:    ()\n",
       "Coordinates:\n",
       "    time       datetime64[ns] 2022-10-22\n",
       "    latitude   float64 37.1\n",
       "    longitude  float64 -126.1\n",
       "Data variables:\n",
       "    adt        float64 0.5666\n",
       "    ugos       float64 -0.03755\n",
       "    vgos       float64 0.06106\n",
       "    vgosa      float64 0.1036\n",
       "    crs        int32 -2147483647\n",
       "    err_vgosa  float64 0.05952\n",
       "    err_ugosa  float64 0.04619\n",
       "    sla        float64 0.05758\n",
       "    ugosa      float64 -0.04892\n",
       "Attributes: (12/45)\n",
       "    Conventions:                                    CF-1.6\n",
       "    FROM_ORIGINAL_FILE__Metadata_Conventions:       Unidata Dataset Discovery...\n",
       "    cdm_data_type:                                  Grid\n",
       "    comment:                                        Sea Surface Height measur...\n",
       "    contact:                                        servicedesk.cmems@mercato...\n",
       "    creator_email:                                  servicedesk.cmems@mercato...\n",
       "    ...                                             ...\n",
       "    time_coverage_duration:                         P1D\n",
       "    time_coverage_end:                              2022-10-24T12:00:00Z\n",
       "    time_coverage_resolution:                       P1D\n",
       "    time_coverage_start:                            2022-10-23T12:00:00Z\n",
       "    title:                                          NRT merged all satellites...\n",
       "    _CoordSysBuilder:                               ucar.nc2.dataset.conv.CF1...</pre><div class='xr-wrap' hidden><div class='xr-header'><div class='xr-obj-type'>xarray.Dataset</div></div><ul class='xr-sections'><li class='xr-section-item'><input id='section-5d50ed7c-f69f-4e95-a39b-ffda5ab14f71' class='xr-section-summary-in' type='checkbox' disabled ><label for='section-5d50ed7c-f69f-4e95-a39b-ffda5ab14f71' class='xr-section-summary'  title='Expand/collapse section'>Dimensions:</label><div class='xr-section-inline-details'></div><div class='xr-section-details'></div></li><li class='xr-section-item'><input id='section-eb8753e5-d48d-41c1-8e04-7981204e19f2' class='xr-section-summary-in' type='checkbox'  checked><label for='section-eb8753e5-d48d-41c1-8e04-7981204e19f2' class='xr-section-summary' >Coordinates: <span>(3)</span></label><div class='xr-section-inline-details'></div><div class='xr-section-details'><ul class='xr-var-list'><li class='xr-var-item'><div class='xr-var-name'><span>time</span></div><div class='xr-var-dims'>()</div><div class='xr-var-dtype'>datetime64[ns]</div><div class='xr-var-preview xr-preview'>2022-10-22</div><input id='attrs-d5e142eb-22a8-4731-b5c4-acf2ce2baf6b' class='xr-var-attrs-in' type='checkbox' ><label for='attrs-d5e142eb-22a8-4731-b5c4-acf2ce2baf6b' title='Show/Hide attributes'><svg class='icon xr-icon-file-text2'><use xlink:href='#icon-file-text2'></use></svg></label><input id='data-f679ea5a-a17f-4c66-befb-8f5816e445ac' class='xr-var-data-in' type='checkbox'><label for='data-f679ea5a-a17f-4c66-befb-8f5816e445ac' title='Show/Hide data repr'><svg class='icon xr-icon-database'><use xlink:href='#icon-database'></use></svg></label><div class='xr-var-attrs'><dl class='xr-attrs'><dt><span>axis :</span></dt><dd>T</dd><dt><span>long_name :</span></dt><dd>Time</dd><dt><span>standard_name :</span></dt><dd>time</dd><dt><span>_ChunkSizes :</span></dt><dd>1</dd><dt><span>_CoordinateAxisType :</span></dt><dd>Time</dd><dt><span>valid_min :</span></dt><dd>26159.0</dd><dt><span>valid_max :</span></dt><dd>26594.0</dd></dl></div><div class='xr-var-data'><pre>array(&#x27;2022-10-22T00:00:00.000000000&#x27;, dtype=&#x27;datetime64[ns]&#x27;)</pre></div></li><li class='xr-var-item'><div class='xr-var-name'><span>latitude</span></div><div class='xr-var-dims'>()</div><div class='xr-var-dtype'>float64</div><div class='xr-var-preview xr-preview'>37.1</div><input id='attrs-7ebb9cff-bddd-4d41-9699-b754e7e9960d' class='xr-var-attrs-in' type='checkbox' ><label for='attrs-7ebb9cff-bddd-4d41-9699-b754e7e9960d' title='Show/Hide attributes'><svg class='icon xr-icon-file-text2'><use xlink:href='#icon-file-text2'></use></svg></label><input id='data-dd861c00-3813-419f-8ddb-c637c525f5d5' class='xr-var-data-in' type='checkbox'><label for='data-dd861c00-3813-419f-8ddb-c637c525f5d5' title='Show/Hide data repr'><svg class='icon xr-icon-database'><use xlink:href='#icon-database'></use></svg></label><div class='xr-var-attrs'><dl class='xr-attrs'><dt><span>axis :</span></dt><dd>Y</dd><dt><span>bounds :</span></dt><dd>lat_bnds</dd><dt><span>long_name :</span></dt><dd>Latitude</dd><dt><span>standard_name :</span></dt><dd>latitude</dd><dt><span>units :</span></dt><dd>degrees_north</dd><dt><span>valid_max :</span></dt><dd>42.875</dd><dt><span>valid_min :</span></dt><dd>33.875</dd><dt><span>_ChunkSizes :</span></dt><dd>50</dd><dt><span>_CoordinateAxisType :</span></dt><dd>Lat</dd></dl></div><div class='xr-var-data'><pre>array(37.1)</pre></div></li><li class='xr-var-item'><div class='xr-var-name'><span>longitude</span></div><div class='xr-var-dims'>()</div><div class='xr-var-dtype'>float64</div><div class='xr-var-preview xr-preview'>-126.1</div><input id='attrs-4c55ca7d-d765-40c9-9a3f-114b939d707d' class='xr-var-attrs-in' type='checkbox' ><label for='attrs-4c55ca7d-d765-40c9-9a3f-114b939d707d' title='Show/Hide attributes'><svg class='icon xr-icon-file-text2'><use xlink:href='#icon-file-text2'></use></svg></label><input id='data-a6ad626d-b156-46fd-8b0d-d595bbf1ea72' class='xr-var-data-in' type='checkbox'><label for='data-a6ad626d-b156-46fd-8b0d-d595bbf1ea72' title='Show/Hide data repr'><svg class='icon xr-icon-database'><use xlink:href='#icon-database'></use></svg></label><div class='xr-var-attrs'><dl class='xr-attrs'><dt><span>axis :</span></dt><dd>X</dd><dt><span>bounds :</span></dt><dd>lon_bnds</dd><dt><span>long_name :</span></dt><dd>Longitude</dd><dt><span>standard_name :</span></dt><dd>longitude</dd><dt><span>units :</span></dt><dd>degrees_east</dd><dt><span>valid_max :</span></dt><dd>-120.125</dd><dt><span>valid_min :</span></dt><dd>-140.125</dd><dt><span>_ChunkSizes :</span></dt><dd>50</dd><dt><span>_CoordinateAxisType :</span></dt><dd>Lon</dd></dl></div><div class='xr-var-data'><pre>array(-126.1)</pre></div></li></ul></div></li><li class='xr-section-item'><input id='section-665aeb2d-e37a-4c3a-9e3a-9a5d00541809' class='xr-section-summary-in' type='checkbox'  checked><label for='section-665aeb2d-e37a-4c3a-9e3a-9a5d00541809' class='xr-section-summary' >Data variables: <span>(9)</span></label><div class='xr-section-inline-details'></div><div class='xr-section-details'><ul class='xr-var-list'><li class='xr-var-item'><div class='xr-var-name'><span>adt</span></div><div class='xr-var-dims'>()</div><div class='xr-var-dtype'>float64</div><div class='xr-var-preview xr-preview'>0.5666</div><input id='attrs-51e3bc7e-3c1b-4d08-89d3-e3f9d0e7787e' class='xr-var-attrs-in' type='checkbox' ><label for='attrs-51e3bc7e-3c1b-4d08-89d3-e3f9d0e7787e' title='Show/Hide attributes'><svg class='icon xr-icon-file-text2'><use xlink:href='#icon-file-text2'></use></svg></label><input id='data-9ccbf63e-966f-4125-a1db-4003791b0add' class='xr-var-data-in' type='checkbox'><label for='data-9ccbf63e-966f-4125-a1db-4003791b0add' title='Show/Hide data repr'><svg class='icon xr-icon-database'><use xlink:href='#icon-database'></use></svg></label><div class='xr-var-attrs'><dl class='xr-attrs'><dt><span>comment :</span></dt><dd>The absolute dynamic topography is the sea surface height above geoid; the adt is obtained as follows: adt=sla+mdt where mdt is the mean dynamic topography; see the product user manual for details</dd><dt><span>grid_mapping :</span></dt><dd>crs</dd><dt><span>long_name :</span></dt><dd>Absolute dynamic topography</dd><dt><span>standard_name :</span></dt><dd>sea_surface_height_above_geoid</dd><dt><span>units :</span></dt><dd>m</dd><dt><span>_ChunkSizes :</span></dt><dd>[ 1 50 50]</dd></dl></div><div class='xr-var-data'><pre>array(0.566583)</pre></div></li><li class='xr-var-item'><div class='xr-var-name'><span>ugos</span></div><div class='xr-var-dims'>()</div><div class='xr-var-dtype'>float64</div><div class='xr-var-preview xr-preview'>-0.03755</div><input id='attrs-24bda2fd-7625-45f1-ae35-b5bb90721869' class='xr-var-attrs-in' type='checkbox' ><label for='attrs-24bda2fd-7625-45f1-ae35-b5bb90721869' title='Show/Hide attributes'><svg class='icon xr-icon-file-text2'><use xlink:href='#icon-file-text2'></use></svg></label><input id='data-7d6ab3d1-b59c-4884-9cf6-ab7a7c17ca58' class='xr-var-data-in' type='checkbox'><label for='data-7d6ab3d1-b59c-4884-9cf6-ab7a7c17ca58' title='Show/Hide data repr'><svg class='icon xr-icon-database'><use xlink:href='#icon-database'></use></svg></label><div class='xr-var-attrs'><dl class='xr-attrs'><dt><span>grid_mapping :</span></dt><dd>crs</dd><dt><span>long_name :</span></dt><dd>Absolute geostrophic velocity: zonal component</dd><dt><span>standard_name :</span></dt><dd>surface_geostrophic_eastward_sea_water_velocity</dd><dt><span>units :</span></dt><dd>m/s</dd><dt><span>_ChunkSizes :</span></dt><dd>[ 1 50 50]</dd></dl></div><div class='xr-var-data'><pre>array(-0.037545)</pre></div></li><li class='xr-var-item'><div class='xr-var-name'><span>vgos</span></div><div class='xr-var-dims'>()</div><div class='xr-var-dtype'>float64</div><div class='xr-var-preview xr-preview'>0.06106</div><input id='attrs-641421a5-e9b0-4bb3-96db-0df97210eb20' class='xr-var-attrs-in' type='checkbox' ><label for='attrs-641421a5-e9b0-4bb3-96db-0df97210eb20' title='Show/Hide attributes'><svg class='icon xr-icon-file-text2'><use xlink:href='#icon-file-text2'></use></svg></label><input id='data-e2c972dc-076b-4f1a-8376-0f948e00939a' class='xr-var-data-in' type='checkbox'><label for='data-e2c972dc-076b-4f1a-8376-0f948e00939a' title='Show/Hide data repr'><svg class='icon xr-icon-database'><use xlink:href='#icon-database'></use></svg></label><div class='xr-var-attrs'><dl class='xr-attrs'><dt><span>grid_mapping :</span></dt><dd>crs</dd><dt><span>long_name :</span></dt><dd>Absolute geostrophic velocity: meridian component</dd><dt><span>standard_name :</span></dt><dd>surface_geostrophic_northward_sea_water_velocity</dd><dt><span>units :</span></dt><dd>m/s</dd><dt><span>_ChunkSizes :</span></dt><dd>[ 1 50 50]</dd></dl></div><div class='xr-var-data'><pre>array(0.061055)</pre></div></li><li class='xr-var-item'><div class='xr-var-name'><span>vgosa</span></div><div class='xr-var-dims'>()</div><div class='xr-var-dtype'>float64</div><div class='xr-var-preview xr-preview'>0.1036</div><input id='attrs-12094568-d6a0-4568-bdb5-f77ba166b2db' class='xr-var-attrs-in' type='checkbox' ><label for='attrs-12094568-d6a0-4568-bdb5-f77ba166b2db' title='Show/Hide attributes'><svg class='icon xr-icon-file-text2'><use xlink:href='#icon-file-text2'></use></svg></label><input id='data-0345b11f-2f3c-4920-8dca-56d81e1d04bc' class='xr-var-data-in' type='checkbox'><label for='data-0345b11f-2f3c-4920-8dca-56d81e1d04bc' title='Show/Hide data repr'><svg class='icon xr-icon-database'><use xlink:href='#icon-database'></use></svg></label><div class='xr-var-attrs'><dl class='xr-attrs'><dt><span>ancillary_variables :</span></dt><dd>err_vgosa</dd><dt><span>comment :</span></dt><dd>The geostrophic velocity anomalies are referenced to the [1993, 2012] period</dd><dt><span>grid_mapping :</span></dt><dd>crs</dd><dt><span>long_name :</span></dt><dd>Geostrophic velocity anomalies: meridian component</dd><dt><span>standard_name :</span></dt><dd>surface_geostrophic_northward_sea_water_velocity_assuming_sea_level_for_geoid</dd><dt><span>units :</span></dt><dd>m/s</dd><dt><span>_ChunkSizes :</span></dt><dd>[ 1 50 50]</dd></dl></div><div class='xr-var-data'><pre>array(0.103648)</pre></div></li><li class='xr-var-item'><div class='xr-var-name'><span>crs</span></div><div class='xr-var-dims'>()</div><div class='xr-var-dtype'>int32</div><div class='xr-var-preview xr-preview'>-2147483647</div><input id='attrs-f9892c3d-1365-4584-94b7-77cfb0f186ed' class='xr-var-attrs-in' type='checkbox' ><label for='attrs-f9892c3d-1365-4584-94b7-77cfb0f186ed' title='Show/Hide attributes'><svg class='icon xr-icon-file-text2'><use xlink:href='#icon-file-text2'></use></svg></label><input id='data-7c21973e-5943-4f6c-aad9-be3899de9adc' class='xr-var-data-in' type='checkbox'><label for='data-7c21973e-5943-4f6c-aad9-be3899de9adc' title='Show/Hide data repr'><svg class='icon xr-icon-database'><use xlink:href='#icon-database'></use></svg></label><div class='xr-var-attrs'><dl class='xr-attrs'><dt><span>comment :</span></dt><dd>This is a container variable that describes the grid_mapping used by the data in this file. This variable does not contain any data; only information about the geographic coordinate system.</dd><dt><span>inverse_flattening :</span></dt><dd>298.257</dd><dt><span>grid_mapping_name :</span></dt><dd>latitude_longitude</dd><dt><span>semi_major_axis :</span></dt><dd>6378136.3</dd><dt><span>_CoordinateTransformType :</span></dt><dd>Projection</dd><dt><span>_CoordinateAxisTypes :</span></dt><dd>GeoX GeoY</dd></dl></div><div class='xr-var-data'><pre>array(-2147483647, dtype=int32)</pre></div></li><li class='xr-var-item'><div class='xr-var-name'><span>err_vgosa</span></div><div class='xr-var-dims'>()</div><div class='xr-var-dtype'>float64</div><div class='xr-var-preview xr-preview'>0.05952</div><input id='attrs-dd018196-0f5a-4e1e-b160-e2fe65d8df93' class='xr-var-attrs-in' type='checkbox' ><label for='attrs-dd018196-0f5a-4e1e-b160-e2fe65d8df93' title='Show/Hide attributes'><svg class='icon xr-icon-file-text2'><use xlink:href='#icon-file-text2'></use></svg></label><input id='data-1a49097a-e974-42e3-94b1-f9d9f9ec4b0a' class='xr-var-data-in' type='checkbox'><label for='data-1a49097a-e974-42e3-94b1-f9d9f9ec4b0a' title='Show/Hide data repr'><svg class='icon xr-icon-database'><use xlink:href='#icon-database'></use></svg></label><div class='xr-var-attrs'><dl class='xr-attrs'><dt><span>comment :</span></dt><dd>The formal mapping error represents a purely theoretical mapping error. It mainly traduces errors induced by the constellation sampling capability and consistency with the spatial/temporal scales considered, as described in Le Traon et al (1998) or Ducet et al (2000)</dd><dt><span>grid_mapping :</span></dt><dd>crs</dd><dt><span>long_name :</span></dt><dd>Formal mapping error on meridional geostrophic velocity anomalies</dd><dt><span>standard_name :</span></dt><dd>surface_geostrophic_northward_sea_water_velocity_assuming_sea_level_for_geoid standard_error</dd><dt><span>units :</span></dt><dd>m/s</dd><dt><span>_ChunkSizes :</span></dt><dd>[ 1 50 50]</dd></dl></div><div class='xr-var-data'><pre>array(0.05952)</pre></div></li><li class='xr-var-item'><div class='xr-var-name'><span>err_ugosa</span></div><div class='xr-var-dims'>()</div><div class='xr-var-dtype'>float64</div><div class='xr-var-preview xr-preview'>0.04619</div><input id='attrs-0d8cafae-c0bc-4256-8630-7782964177ac' class='xr-var-attrs-in' type='checkbox' ><label for='attrs-0d8cafae-c0bc-4256-8630-7782964177ac' title='Show/Hide attributes'><svg class='icon xr-icon-file-text2'><use xlink:href='#icon-file-text2'></use></svg></label><input id='data-bf578704-5371-4e43-9a02-76d16c0fda37' class='xr-var-data-in' type='checkbox'><label for='data-bf578704-5371-4e43-9a02-76d16c0fda37' title='Show/Hide data repr'><svg class='icon xr-icon-database'><use xlink:href='#icon-database'></use></svg></label><div class='xr-var-attrs'><dl class='xr-attrs'><dt><span>comment :</span></dt><dd>The formal mapping error represents a purely theoretical mapping error. It mainly traduces errors induced by the constellation sampling capability and consistency with the spatial/temporal scales considered, as described in Le Traon et al (1998) or Ducet et al (2000)</dd><dt><span>grid_mapping :</span></dt><dd>crs</dd><dt><span>long_name :</span></dt><dd>Formal mapping error on zonal geostrophic velocity anomalies</dd><dt><span>standard_name :</span></dt><dd>surface_geostrophic_eastward_sea_water_velocity_assuming_sea_level_for_geoid standard_error</dd><dt><span>units :</span></dt><dd>m/s</dd><dt><span>_ChunkSizes :</span></dt><dd>[ 1 50 50]</dd></dl></div><div class='xr-var-data'><pre>array(0.046192)</pre></div></li><li class='xr-var-item'><div class='xr-var-name'><span>sla</span></div><div class='xr-var-dims'>()</div><div class='xr-var-dtype'>float64</div><div class='xr-var-preview xr-preview'>0.05758</div><input id='attrs-35414d31-89f8-43ba-90a9-b84c4c34f414' class='xr-var-attrs-in' type='checkbox' ><label for='attrs-35414d31-89f8-43ba-90a9-b84c4c34f414' title='Show/Hide attributes'><svg class='icon xr-icon-file-text2'><use xlink:href='#icon-file-text2'></use></svg></label><input id='data-90f8d05d-45a8-4751-8ea7-76025018a26c' class='xr-var-data-in' type='checkbox'><label for='data-90f8d05d-45a8-4751-8ea7-76025018a26c' title='Show/Hide data repr'><svg class='icon xr-icon-database'><use xlink:href='#icon-database'></use></svg></label><div class='xr-var-attrs'><dl class='xr-attrs'><dt><span>ancillary_variables :</span></dt><dd>err_sla</dd><dt><span>comment :</span></dt><dd>The sea level anomaly is the sea surface height above mean sea surface; it is referenced to the [1993, 2012] period; see the product user manual for details</dd><dt><span>grid_mapping :</span></dt><dd>crs</dd><dt><span>long_name :</span></dt><dd>Sea level anomaly</dd><dt><span>standard_name :</span></dt><dd>sea_surface_height_above_sea_level</dd><dt><span>units :</span></dt><dd>m</dd><dt><span>_ChunkSizes :</span></dt><dd>[ 1 50 50]</dd></dl></div><div class='xr-var-data'><pre>array(0.057579)</pre></div></li><li class='xr-var-item'><div class='xr-var-name'><span>ugosa</span></div><div class='xr-var-dims'>()</div><div class='xr-var-dtype'>float64</div><div class='xr-var-preview xr-preview'>-0.04892</div><input id='attrs-2c8cd398-4fe5-4569-820b-0aadfc526a92' class='xr-var-attrs-in' type='checkbox' ><label for='attrs-2c8cd398-4fe5-4569-820b-0aadfc526a92' title='Show/Hide attributes'><svg class='icon xr-icon-file-text2'><use xlink:href='#icon-file-text2'></use></svg></label><input id='data-91b799d5-0032-4462-868c-ea16e00590e3' class='xr-var-data-in' type='checkbox'><label for='data-91b799d5-0032-4462-868c-ea16e00590e3' title='Show/Hide data repr'><svg class='icon xr-icon-database'><use xlink:href='#icon-database'></use></svg></label><div class='xr-var-attrs'><dl class='xr-attrs'><dt><span>ancillary_variables :</span></dt><dd>err_ugosa</dd><dt><span>comment :</span></dt><dd>The geostrophic velocity anomalies are referenced to the [1993, 2012] period</dd><dt><span>grid_mapping :</span></dt><dd>crs</dd><dt><span>long_name :</span></dt><dd>Geostrophic velocity anomalies: zonal component</dd><dt><span>standard_name :</span></dt><dd>surface_geostrophic_eastward_sea_water_velocity_assuming_sea_level_for_geoid</dd><dt><span>units :</span></dt><dd>m/s</dd><dt><span>_ChunkSizes :</span></dt><dd>[ 1 50 50]</dd></dl></div><div class='xr-var-data'><pre>array(-0.048917)</pre></div></li></ul></div></li><li class='xr-section-item'><input id='section-f4ec902d-eb67-4105-b598-c8085f030da4' class='xr-section-summary-in' type='checkbox'  ><label for='section-f4ec902d-eb67-4105-b598-c8085f030da4' class='xr-section-summary' >Attributes: <span>(45)</span></label><div class='xr-section-inline-details'></div><div class='xr-section-details'><dl class='xr-attrs'><dt><span>Conventions :</span></dt><dd>CF-1.6</dd><dt><span>FROM_ORIGINAL_FILE__Metadata_Conventions :</span></dt><dd>Unidata Dataset Discovery v1.0</dd><dt><span>cdm_data_type :</span></dt><dd>Grid</dd><dt><span>comment :</span></dt><dd>Sea Surface Height measured by Altimetry and derived variables</dd><dt><span>contact :</span></dt><dd>servicedesk.cmems@mercator-ocean.eu</dd><dt><span>creator_email :</span></dt><dd>servicedesk.cmems@mercator-ocean.eu</dd><dt><span>creator_name :</span></dt><dd>CMEMS - Sea Level Thematic Assembly Center</dd><dt><span>creator_url :</span></dt><dd>http://marine.copernicus.eu</dd><dt><span>date_created :</span></dt><dd>2022-10-23T23:59:58Z</dd><dt><span>date_issued :</span></dt><dd>2022-10-23T23:59:58Z</dd><dt><span>date_modified :</span></dt><dd>2022-10-23T23:59:58Z</dd><dt><span>FROM_ORIGINAL_FILE__geospatial_lat_max :</span></dt><dd>89.875</dd><dt><span>FROM_ORIGINAL_FILE__geospatial_lat_min :</span></dt><dd>-89.875</dd><dt><span>FROM_ORIGINAL_FILE__geospatial_lat_resolution :</span></dt><dd>0.25</dd><dt><span>FROM_ORIGINAL_FILE__geospatial_lat_units :</span></dt><dd>degrees_north</dd><dt><span>FROM_ORIGINAL_FILE__geospatial_lon_max :</span></dt><dd>179.875</dd><dt><span>FROM_ORIGINAL_FILE__geospatial_lon_min :</span></dt><dd>-179.875</dd><dt><span>FROM_ORIGINAL_FILE__geospatial_lon_resolution :</span></dt><dd>0.25</dd><dt><span>FROM_ORIGINAL_FILE__geospatial_lon_units :</span></dt><dd>degrees_east</dd><dt><span>geospatial_vertical_max :</span></dt><dd>0.0</dd><dt><span>geospatial_vertical_min :</span></dt><dd>0.0</dd><dt><span>geospatial_vertical_positive :</span></dt><dd>down</dd><dt><span>geospatial_vertical_resolution :</span></dt><dd>point</dd><dt><span>geospatial_vertical_units :</span></dt><dd>m</dd><dt><span>history :</span></dt><dd>2022-10-23 23:59:59Z: Creation</dd><dt><span>institution :</span></dt><dd>CLS, CNES</dd><dt><span>keywords :</span></dt><dd>Oceans &gt; Ocean Topography &gt; Sea Surface Height</dd><dt><span>keywords_vocabulary :</span></dt><dd>NetCDF COARDS Climate and Forecast Standard Names</dd><dt><span>license :</span></dt><dd>http://marine.copernicus.eu/web/27-service-commitments-and-licence.php</dd><dt><span>FROM_ORIGINAL_FILE__platform :</span></dt><dd>Cryosat-2 New Orbit, Haiyang-2B, Jason-3 Interleaved, Sentinel-3A, Sentinel-3B, Sentinel-6A</dd><dt><span>processing_level :</span></dt><dd>L4</dd><dt><span>FROM_ORIGINAL_FILE__product_version :</span></dt><dd>vDec2021</dd><dt><span>project :</span></dt><dd>COPERNICUS MARINE ENVIRONMENT MONITORING SERVICE (CMEMS)</dd><dt><span>references :</span></dt><dd>http://marine.copernicus.eu</dd><dt><span>FROM_ORIGINAL_FILE__software_version :</span></dt><dd>19.2.0_DUACS_DT2021_baseline</dd><dt><span>source :</span></dt><dd>Altimetry measurements</dd><dt><span>ssalto_duacs_comment :</span></dt><dd>Sentinel-6A is the reference mission used for the altimeter inter-calibration processing</dd><dt><span>standard_name_vocabulary :</span></dt><dd>NetCDF Climate and Forecast (CF) Metadata Convention Standard Name Table v37</dd><dt><span>summary :</span></dt><dd>SSALTO/DUACS Near-Real-Time Level-4 sea surface height and derived variables measured by multi-satellite altimetry observations over Global Ocean.</dd><dt><span>time_coverage_duration :</span></dt><dd>P1D</dd><dt><span>time_coverage_end :</span></dt><dd>2022-10-24T12:00:00Z</dd><dt><span>time_coverage_resolution :</span></dt><dd>P1D</dd><dt><span>time_coverage_start :</span></dt><dd>2022-10-23T12:00:00Z</dd><dt><span>title :</span></dt><dd>NRT merged all satellites Global Ocean Gridded SSALTO/DUACS Sea Surface Height L4 product and derived variables</dd><dt><span>_CoordSysBuilder :</span></dt><dd>ucar.nc2.dataset.conv.CF1Convention</dd></dl></div></li></ul></div></div>"
      ],
      "text/plain": [
       "<xarray.Dataset>\n",
       "Dimensions:    ()\n",
       "Coordinates:\n",
       "    time       datetime64[ns] 2022-10-22\n",
       "    latitude   float64 37.1\n",
       "    longitude  float64 -126.1\n",
       "Data variables:\n",
       "    adt        float64 0.5666\n",
       "    ugos       float64 -0.03755\n",
       "    vgos       float64 0.06106\n",
       "    vgosa      float64 0.1036\n",
       "    crs        int32 -2147483647\n",
       "    err_vgosa  float64 0.05952\n",
       "    err_ugosa  float64 0.04619\n",
       "    sla        float64 0.05758\n",
       "    ugosa      float64 -0.04892\n",
       "Attributes: (12/45)\n",
       "    Conventions:                                    CF-1.6\n",
       "    FROM_ORIGINAL_FILE__Metadata_Conventions:       Unidata Dataset Discovery...\n",
       "    cdm_data_type:                                  Grid\n",
       "    comment:                                        Sea Surface Height measur...\n",
       "    contact:                                        servicedesk.cmems@mercato...\n",
       "    creator_email:                                  servicedesk.cmems@mercato...\n",
       "    ...                                             ...\n",
       "    time_coverage_duration:                         P1D\n",
       "    time_coverage_end:                              2022-10-24T12:00:00Z\n",
       "    time_coverage_resolution:                       P1D\n",
       "    time_coverage_start:                            2022-10-23T12:00:00Z\n",
       "    title:                                          NRT merged all satellites...\n",
       "    _CoordSysBuilder:                               ucar.nc2.dataset.conv.CF1..."
      ]
     },
     "execution_count": 14,
     "metadata": {},
     "output_type": "execute_result"
    },
    {
     "name": "stderr",
     "output_type": "stream",
     "text": [
      "/home/jtomf/miniconda3/lib/python3.9/site-packages/cartopy/mpl/gridliner.py:741: UserWarning: The labels of this gridliner do not belong to the gridliner axes\n",
      "  warnings.warn('The labels of this gridliner do not belong to '\n"
     ]
    }
   ],
   "source": [
    "dsi"
   ]
  },
  {
   "cell_type": "code",
   "execution_count": null,
   "id": "0d07d006-4e52-4ad5-b56e-53796af9ac77",
   "metadata": {},
   "outputs": [],
   "source": []
  }
 ],
 "metadata": {
  "kernelspec": {
   "display_name": "Python 3 (ipykernel)",
   "language": "python",
   "name": "python3"
  },
  "language_info": {
   "codemirror_mode": {
    "name": "ipython",
    "version": 3
   },
   "file_extension": ".py",
   "mimetype": "text/x-python",
   "name": "python",
   "nbconvert_exporter": "python",
   "pygments_lexer": "ipython3",
   "version": "3.9.7"
  }
 },
 "nbformat": 4,
 "nbformat_minor": 5
}
