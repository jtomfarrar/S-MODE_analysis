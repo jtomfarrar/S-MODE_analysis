{
 "cells": [
  {
   "cell_type": "markdown",
   "id": "a0a672d4-311d-4c4e-974c-44332a22b666",
   "metadata": {},
   "source": [
    "# Download, plot near-real-time DUACS SSH product\n",
    "\n",
    "Tom Farrar, started 10/9/2022\n",
    "\n",
    "* Download with motuclient\n",
    "* Plot latest map\n",
    "* make movie of longer time\n",
    "* extract U, V time series at some point"
   ]
  },
  {
   "cell_type": "code",
   "execution_count": 1,
   "id": "418270e4-903a-4aa2-990f-8a2e13f98a6d",
   "metadata": {},
   "outputs": [],
   "source": [
    "import xarray as xr\n",
    "import numpy as np\n",
    "import matplotlib.pyplot as plt\n",
    "import matplotlib\n",
    "\n",
    "import functions  # requires functions.py from this directory\n",
    "import cartopy.crs as ccrs                   # import projections\n",
    "import cartopy\n",
    "import gsw\n",
    "# import cftime\n"
   ]
  },
  {
   "cell_type": "code",
   "execution_count": null,
   "id": "3e59097e-7a55-4527-a4df-ee7d309c9845",
   "metadata": {},
   "outputs": [],
   "source": []
  },
  {
   "cell_type": "code",
   "execution_count": 2,
   "id": "9220fc7a-b94e-4a2c-be45-d2161d8c25b9",
   "metadata": {},
   "outputs": [],
   "source": [
    "# %matplotlib inline  \n",
    "%matplotlib qt5  \n",
    "plt.rcParams['figure.figsize'] = (5,4)\n",
    "plt.rcParams['figure.dpi'] = 200\n",
    "plt.rcParams['savefig.dpi'] = 400\n",
    "plt.close('all')\n",
    "\n",
    "__figdir__ = '../plots/' + 'SSH_plots/'\n",
    "savefig_args = {'bbox_inches':'tight', 'pad_inches':0.2}\n",
    "plotfiletype='png'"
   ]
  },
  {
   "cell_type": "code",
   "execution_count": 3,
   "id": "07d5f495-977b-4b09-9673-43e7a0153499",
   "metadata": {},
   "outputs": [],
   "source": [
    "savefig = True\n",
    "zoom = False\n",
    "if zoom:\n",
    "    xmin, xmax = (-126,-121)\n",
    "    ymin, ymax = (36.25,38.5)\n",
    "    levels = np.linspace(-.2,.2,41)\n",
    "else:\n",
    "    xmin, xmax = (-131,-121)\n",
    "    ymin, ymax = (34, 43)\n",
    "    levels = np.linspace(-.3,.3,41)"
   ]
  },
  {
   "cell_type": "code",
   "execution_count": 4,
   "id": "8807f746-b8d9-43f3-9caf-b4c1cfd963e3",
   "metadata": {},
   "outputs": [],
   "source": [
    "# A shell script using the motuclient, https://help.marine.copernicus.eu/en/articles/4796533-what-are-the-motu-client-motuclient-and-python-requirements\n",
    "\n",
    "# ! bash ~/download_aviso.sh\n"
   ]
  },
  {
   "cell_type": "code",
   "execution_count": 5,
   "id": "6487e192-7ed7-4a35-a5d2-9711df73a333",
   "metadata": {},
   "outputs": [],
   "source": [
    "def plot_SSH_map(tind):\n",
    "    plt.clf()\n",
    "    ax = plt.axes(projection = ccrs.PlateCarree(central_longitude=200))  # Orthographic\n",
    "    extent = [xmin, xmax, ymin, ymax]\n",
    "    day_str = np.datetime_as_string(ds.time[tind], unit='D')\n",
    "    ax.set_extent(extent, crs=ccrs.PlateCarree())\n",
    "    ax.set_title('Sea level anomaly (DUACS), '+ day_str,size = 10.)\n",
    "\n",
    "    #plt.set_cmap(cmap=plt.get_cmap('nipy_spectral'))\n",
    "    plt.set_cmap(cmap=plt.get_cmap('turbo'))\n",
    "    gl = ax.gridlines(draw_labels=True, dms=True, x_inline=False, y_inline=False, alpha=0.5, linestyle='--')\n",
    "    gl.top_labels = False\n",
    "    gl.right_labels = False\n",
    "    #gl.xlocator = matplotlib.ticker.MaxNLocator(10)\n",
    "    #gl.xlocator = matplotlib.ticker.AutoLocator\n",
    "    # gl.xlocator = matplotlib.ticker.FixedLocator(np.arange(0, 360 ,30))\n",
    "\n",
    "    cs = ax.contourf(ds.longitude,ds.latitude,np.squeeze(ds.sla.isel(time=tind)), levels, extend='both', transform=ccrs.PlateCarree())\n",
    "    # cs = ax.pcolormesh(ds.longitude,ds.latitude,np.squeeze(ds.sla), vmin=levels[0], vmax=levels[-1], transform=ccrs.PlateCarree())\n",
    "    # cb = plt.colorbar(cs,ax=ax,shrink=.8,pad=.05)\n",
    "    cb = plt.colorbar(cs,fraction = 0.022,extend='both')\n",
    "    cb.set_label('SLA [m]',fontsize = 10)\n",
    "    ax.coastlines()\n",
    "    ax.add_feature(cartopy.feature.LAND, zorder=3, facecolor=[.6,.6,.6], edgecolor='black')\n",
    "\n",
    "    functions.plot_ops_area(ax,transform=ccrs.PlateCarree(),color='w')\n",
    "\n",
    "    # Add a 10 km scale bar\n",
    "    km_per_deg_lat=gsw.geostrophy.distance((121.7,121.7), (37,38))/1000\n",
    "    deg_lat_equal_10km=10/km_per_deg_lat\n",
    "    x0 = -122 \n",
    "    y0 = 37\n",
    "    ax.plot(x0+np.asarray([0, 0]),y0+np.asarray([0.,deg_lat_equal_10km[0]]),transform=ccrs.PlateCarree(),color='k',zorder=3)\n",
    "    ax.text(x0+1/60, y0+.15/60, '10 km', fontsize=6,transform=ccrs.PlateCarree())\n",
    "\n",
    "    u = np.squeeze(ds.ugos.isel(time=tind)) #dtype=object\n",
    "    v = np.squeeze(ds.vgos.isel(time=tind))\n",
    "    ax.quiver(ds.longitude.values,ds.latitude.values, u.values, v.values,  scale=5, transform=ccrs.PlateCarree())\n",
    "    x0 = -122.5 \n",
    "    y0 = 38.5\n",
    "    ax.quiver(np.array([x0]), np.array([y0]), -np.array([0.25/np.sqrt(2)],), np.array([0.25/np.sqrt(2)]), scale=3, transform=ccrs.PlateCarree(),zorder=3)\n",
    "    ax.text(x0+3/60, y0+.15/60, '0.25 m/s', fontsize=6,transform=ccrs.PlateCarree())\n",
    "\n",
    "    if savefig:\n",
    "        plt.savefig(__figdir__+'SLA'+str(tind)+'.'+plotfiletype,**savefig_args)"
   ]
  },
  {
   "cell_type": "code",
   "execution_count": 6,
   "id": "e3789af1-35d3-4367-94f6-47ac9edfef15",
   "metadata": {},
   "outputs": [],
   "source": [
    "# url = 'https://nrt.cmems-du.eu/thredds/dodsC/dataset-duacs-nrt-global-merged-allsat-phy-l4'\n",
    "file = '../data/external/aviso2.nc'\n",
    "ds = xr.open_dataset(file)"
   ]
  },
  {
   "cell_type": "code",
   "execution_count": 7,
   "id": "1a31de4d-fc35-4885-940e-b987743d0bbb",
   "metadata": {},
   "outputs": [
    {
     "data": {
      "text/html": [
       "<div><svg style=\"position: absolute; width: 0; height: 0; overflow: hidden\">\n",
       "<defs>\n",
       "<symbol id=\"icon-database\" viewBox=\"0 0 32 32\">\n",
       "<path d=\"M16 0c-8.837 0-16 2.239-16 5v4c0 2.761 7.163 5 16 5s16-2.239 16-5v-4c0-2.761-7.163-5-16-5z\"></path>\n",
       "<path d=\"M16 17c-8.837 0-16-2.239-16-5v6c0 2.761 7.163 5 16 5s16-2.239 16-5v-6c0 2.761-7.163 5-16 5z\"></path>\n",
       "<path d=\"M16 26c-8.837 0-16-2.239-16-5v6c0 2.761 7.163 5 16 5s16-2.239 16-5v-6c0 2.761-7.163 5-16 5z\"></path>\n",
       "</symbol>\n",
       "<symbol id=\"icon-file-text2\" viewBox=\"0 0 32 32\">\n",
       "<path d=\"M28.681 7.159c-0.694-0.947-1.662-2.053-2.724-3.116s-2.169-2.030-3.116-2.724c-1.612-1.182-2.393-1.319-2.841-1.319h-15.5c-1.378 0-2.5 1.121-2.5 2.5v27c0 1.378 1.122 2.5 2.5 2.5h23c1.378 0 2.5-1.122 2.5-2.5v-19.5c0-0.448-0.137-1.23-1.319-2.841zM24.543 5.457c0.959 0.959 1.712 1.825 2.268 2.543h-4.811v-4.811c0.718 0.556 1.584 1.309 2.543 2.268zM28 29.5c0 0.271-0.229 0.5-0.5 0.5h-23c-0.271 0-0.5-0.229-0.5-0.5v-27c0-0.271 0.229-0.5 0.5-0.5 0 0 15.499-0 15.5 0v7c0 0.552 0.448 1 1 1h7v19.5z\"></path>\n",
       "<path d=\"M23 26h-14c-0.552 0-1-0.448-1-1s0.448-1 1-1h14c0.552 0 1 0.448 1 1s-0.448 1-1 1z\"></path>\n",
       "<path d=\"M23 22h-14c-0.552 0-1-0.448-1-1s0.448-1 1-1h14c0.552 0 1 0.448 1 1s-0.448 1-1 1z\"></path>\n",
       "<path d=\"M23 18h-14c-0.552 0-1-0.448-1-1s0.448-1 1-1h14c0.552 0 1 0.448 1 1s-0.448 1-1 1z\"></path>\n",
       "</symbol>\n",
       "</defs>\n",
       "</svg>\n",
       "<style>/* CSS stylesheet for displaying xarray objects in jupyterlab.\n",
       " *\n",
       " */\n",
       "\n",
       ":root {\n",
       "  --xr-font-color0: var(--jp-content-font-color0, rgba(0, 0, 0, 1));\n",
       "  --xr-font-color2: var(--jp-content-font-color2, rgba(0, 0, 0, 0.54));\n",
       "  --xr-font-color3: var(--jp-content-font-color3, rgba(0, 0, 0, 0.38));\n",
       "  --xr-border-color: var(--jp-border-color2, #e0e0e0);\n",
       "  --xr-disabled-color: var(--jp-layout-color3, #bdbdbd);\n",
       "  --xr-background-color: var(--jp-layout-color0, white);\n",
       "  --xr-background-color-row-even: var(--jp-layout-color1, white);\n",
       "  --xr-background-color-row-odd: var(--jp-layout-color2, #eeeeee);\n",
       "}\n",
       "\n",
       "html[theme=dark],\n",
       "body.vscode-dark {\n",
       "  --xr-font-color0: rgba(255, 255, 255, 1);\n",
       "  --xr-font-color2: rgba(255, 255, 255, 0.54);\n",
       "  --xr-font-color3: rgba(255, 255, 255, 0.38);\n",
       "  --xr-border-color: #1F1F1F;\n",
       "  --xr-disabled-color: #515151;\n",
       "  --xr-background-color: #111111;\n",
       "  --xr-background-color-row-even: #111111;\n",
       "  --xr-background-color-row-odd: #313131;\n",
       "}\n",
       "\n",
       ".xr-wrap {\n",
       "  display: block;\n",
       "  min-width: 300px;\n",
       "  max-width: 700px;\n",
       "}\n",
       "\n",
       ".xr-text-repr-fallback {\n",
       "  /* fallback to plain text repr when CSS is not injected (untrusted notebook) */\n",
       "  display: none;\n",
       "}\n",
       "\n",
       ".xr-header {\n",
       "  padding-top: 6px;\n",
       "  padding-bottom: 6px;\n",
       "  margin-bottom: 4px;\n",
       "  border-bottom: solid 1px var(--xr-border-color);\n",
       "}\n",
       "\n",
       ".xr-header > div,\n",
       ".xr-header > ul {\n",
       "  display: inline;\n",
       "  margin-top: 0;\n",
       "  margin-bottom: 0;\n",
       "}\n",
       "\n",
       ".xr-obj-type,\n",
       ".xr-array-name {\n",
       "  margin-left: 2px;\n",
       "  margin-right: 10px;\n",
       "}\n",
       "\n",
       ".xr-obj-type {\n",
       "  color: var(--xr-font-color2);\n",
       "}\n",
       "\n",
       ".xr-sections {\n",
       "  padding-left: 0 !important;\n",
       "  display: grid;\n",
       "  grid-template-columns: 150px auto auto 1fr 20px 20px;\n",
       "}\n",
       "\n",
       ".xr-section-item {\n",
       "  display: contents;\n",
       "}\n",
       "\n",
       ".xr-section-item input {\n",
       "  display: none;\n",
       "}\n",
       "\n",
       ".xr-section-item input + label {\n",
       "  color: var(--xr-disabled-color);\n",
       "}\n",
       "\n",
       ".xr-section-item input:enabled + label {\n",
       "  cursor: pointer;\n",
       "  color: var(--xr-font-color2);\n",
       "}\n",
       "\n",
       ".xr-section-item input:enabled + label:hover {\n",
       "  color: var(--xr-font-color0);\n",
       "}\n",
       "\n",
       ".xr-section-summary {\n",
       "  grid-column: 1;\n",
       "  color: var(--xr-font-color2);\n",
       "  font-weight: 500;\n",
       "}\n",
       "\n",
       ".xr-section-summary > span {\n",
       "  display: inline-block;\n",
       "  padding-left: 0.5em;\n",
       "}\n",
       "\n",
       ".xr-section-summary-in:disabled + label {\n",
       "  color: var(--xr-font-color2);\n",
       "}\n",
       "\n",
       ".xr-section-summary-in + label:before {\n",
       "  display: inline-block;\n",
       "  content: '►';\n",
       "  font-size: 11px;\n",
       "  width: 15px;\n",
       "  text-align: center;\n",
       "}\n",
       "\n",
       ".xr-section-summary-in:disabled + label:before {\n",
       "  color: var(--xr-disabled-color);\n",
       "}\n",
       "\n",
       ".xr-section-summary-in:checked + label:before {\n",
       "  content: '▼';\n",
       "}\n",
       "\n",
       ".xr-section-summary-in:checked + label > span {\n",
       "  display: none;\n",
       "}\n",
       "\n",
       ".xr-section-summary,\n",
       ".xr-section-inline-details {\n",
       "  padding-top: 4px;\n",
       "  padding-bottom: 4px;\n",
       "}\n",
       "\n",
       ".xr-section-inline-details {\n",
       "  grid-column: 2 / -1;\n",
       "}\n",
       "\n",
       ".xr-section-details {\n",
       "  display: none;\n",
       "  grid-column: 1 / -1;\n",
       "  margin-bottom: 5px;\n",
       "}\n",
       "\n",
       ".xr-section-summary-in:checked ~ .xr-section-details {\n",
       "  display: contents;\n",
       "}\n",
       "\n",
       ".xr-array-wrap {\n",
       "  grid-column: 1 / -1;\n",
       "  display: grid;\n",
       "  grid-template-columns: 20px auto;\n",
       "}\n",
       "\n",
       ".xr-array-wrap > label {\n",
       "  grid-column: 1;\n",
       "  vertical-align: top;\n",
       "}\n",
       "\n",
       ".xr-preview {\n",
       "  color: var(--xr-font-color3);\n",
       "}\n",
       "\n",
       ".xr-array-preview,\n",
       ".xr-array-data {\n",
       "  padding: 0 5px !important;\n",
       "  grid-column: 2;\n",
       "}\n",
       "\n",
       ".xr-array-data,\n",
       ".xr-array-in:checked ~ .xr-array-preview {\n",
       "  display: none;\n",
       "}\n",
       "\n",
       ".xr-array-in:checked ~ .xr-array-data,\n",
       ".xr-array-preview {\n",
       "  display: inline-block;\n",
       "}\n",
       "\n",
       ".xr-dim-list {\n",
       "  display: inline-block !important;\n",
       "  list-style: none;\n",
       "  padding: 0 !important;\n",
       "  margin: 0;\n",
       "}\n",
       "\n",
       ".xr-dim-list li {\n",
       "  display: inline-block;\n",
       "  padding: 0;\n",
       "  margin: 0;\n",
       "}\n",
       "\n",
       ".xr-dim-list:before {\n",
       "  content: '(';\n",
       "}\n",
       "\n",
       ".xr-dim-list:after {\n",
       "  content: ')';\n",
       "}\n",
       "\n",
       ".xr-dim-list li:not(:last-child):after {\n",
       "  content: ',';\n",
       "  padding-right: 5px;\n",
       "}\n",
       "\n",
       ".xr-has-index {\n",
       "  font-weight: bold;\n",
       "}\n",
       "\n",
       ".xr-var-list,\n",
       ".xr-var-item {\n",
       "  display: contents;\n",
       "}\n",
       "\n",
       ".xr-var-item > div,\n",
       ".xr-var-item label,\n",
       ".xr-var-item > .xr-var-name span {\n",
       "  background-color: var(--xr-background-color-row-even);\n",
       "  margin-bottom: 0;\n",
       "}\n",
       "\n",
       ".xr-var-item > .xr-var-name:hover span {\n",
       "  padding-right: 5px;\n",
       "}\n",
       "\n",
       ".xr-var-list > li:nth-child(odd) > div,\n",
       ".xr-var-list > li:nth-child(odd) > label,\n",
       ".xr-var-list > li:nth-child(odd) > .xr-var-name span {\n",
       "  background-color: var(--xr-background-color-row-odd);\n",
       "}\n",
       "\n",
       ".xr-var-name {\n",
       "  grid-column: 1;\n",
       "}\n",
       "\n",
       ".xr-var-dims {\n",
       "  grid-column: 2;\n",
       "}\n",
       "\n",
       ".xr-var-dtype {\n",
       "  grid-column: 3;\n",
       "  text-align: right;\n",
       "  color: var(--xr-font-color2);\n",
       "}\n",
       "\n",
       ".xr-var-preview {\n",
       "  grid-column: 4;\n",
       "}\n",
       "\n",
       ".xr-var-name,\n",
       ".xr-var-dims,\n",
       ".xr-var-dtype,\n",
       ".xr-preview,\n",
       ".xr-attrs dt {\n",
       "  white-space: nowrap;\n",
       "  overflow: hidden;\n",
       "  text-overflow: ellipsis;\n",
       "  padding-right: 10px;\n",
       "}\n",
       "\n",
       ".xr-var-name:hover,\n",
       ".xr-var-dims:hover,\n",
       ".xr-var-dtype:hover,\n",
       ".xr-attrs dt:hover {\n",
       "  overflow: visible;\n",
       "  width: auto;\n",
       "  z-index: 1;\n",
       "}\n",
       "\n",
       ".xr-var-attrs,\n",
       ".xr-var-data {\n",
       "  display: none;\n",
       "  background-color: var(--xr-background-color) !important;\n",
       "  padding-bottom: 5px !important;\n",
       "}\n",
       "\n",
       ".xr-var-attrs-in:checked ~ .xr-var-attrs,\n",
       ".xr-var-data-in:checked ~ .xr-var-data {\n",
       "  display: block;\n",
       "}\n",
       "\n",
       ".xr-var-data > table {\n",
       "  float: right;\n",
       "}\n",
       "\n",
       ".xr-var-name span,\n",
       ".xr-var-data,\n",
       ".xr-attrs {\n",
       "  padding-left: 25px !important;\n",
       "}\n",
       "\n",
       ".xr-attrs,\n",
       ".xr-var-attrs,\n",
       ".xr-var-data {\n",
       "  grid-column: 1 / -1;\n",
       "}\n",
       "\n",
       "dl.xr-attrs {\n",
       "  padding: 0;\n",
       "  margin: 0;\n",
       "  display: grid;\n",
       "  grid-template-columns: 125px auto;\n",
       "}\n",
       "\n",
       ".xr-attrs dt,\n",
       ".xr-attrs dd {\n",
       "  padding: 0;\n",
       "  margin: 0;\n",
       "  float: left;\n",
       "  padding-right: 10px;\n",
       "  width: auto;\n",
       "}\n",
       "\n",
       ".xr-attrs dt {\n",
       "  font-weight: normal;\n",
       "  grid-column: 1;\n",
       "}\n",
       "\n",
       ".xr-attrs dt:hover span {\n",
       "  display: inline-block;\n",
       "  background: var(--xr-background-color);\n",
       "  padding-right: 10px;\n",
       "}\n",
       "\n",
       ".xr-attrs dd {\n",
       "  grid-column: 2;\n",
       "  white-space: pre-wrap;\n",
       "  word-break: break-all;\n",
       "}\n",
       "\n",
       ".xr-icon-database,\n",
       ".xr-icon-file-text2 {\n",
       "  display: inline-block;\n",
       "  vertical-align: middle;\n",
       "  width: 1em;\n",
       "  height: 1.5em !important;\n",
       "  stroke-width: 0;\n",
       "  stroke: currentColor;\n",
       "  fill: currentColor;\n",
       "}\n",
       "</style><pre class='xr-text-repr-fallback'>&lt;xarray.Dataset&gt;\n",
       "Dimensions:    (time: 421, latitude: 37, longitude: 81)\n",
       "Coordinates:\n",
       "  * latitude   (latitude) float32 33.88 34.12 34.38 34.62 ... 42.38 42.62 42.88\n",
       "  * time       (time) datetime64[ns] 2021-08-15 2021-08-16 ... 2022-10-09\n",
       "  * longitude  (longitude) float32 -140.1 -139.9 -139.6 ... -120.6 -120.4 -120.1\n",
       "Data variables:\n",
       "    adt        (time, latitude, longitude) float64 ...\n",
       "    ugos       (time, latitude, longitude) float64 ...\n",
       "    vgos       (time, latitude, longitude) float64 ...\n",
       "    vgosa      (time, latitude, longitude) float64 ...\n",
       "    crs        int32 -2147483647\n",
       "    err_vgosa  (time, latitude, longitude) float64 ...\n",
       "    err_ugosa  (time, latitude, longitude) float64 ...\n",
       "    sla        (time, latitude, longitude) float64 ...\n",
       "    ugosa      (time, latitude, longitude) float64 ...\n",
       "Attributes: (12/45)\n",
       "    Conventions:                                    CF-1.6\n",
       "    FROM_ORIGINAL_FILE__Metadata_Conventions:       Unidata Dataset Discovery...\n",
       "    cdm_data_type:                                  Grid\n",
       "    comment:                                        Sea Surface Height measur...\n",
       "    contact:                                        servicedesk.cmems@mercato...\n",
       "    creator_email:                                  servicedesk.cmems@mercato...\n",
       "    ...                                             ...\n",
       "    time_coverage_duration:                         P1D\n",
       "    time_coverage_end:                              2022-10-09T12:00:00Z\n",
       "    time_coverage_resolution:                       P1D\n",
       "    time_coverage_start:                            2022-10-08T12:00:00Z\n",
       "    title:                                          NRT merged all satellites...\n",
       "    _CoordSysBuilder:                               ucar.nc2.dataset.conv.CF1...</pre><div class='xr-wrap' hidden><div class='xr-header'><div class='xr-obj-type'>xarray.Dataset</div></div><ul class='xr-sections'><li class='xr-section-item'><input id='section-aa02b93a-f808-4179-9593-b5c6d81c204a' class='xr-section-summary-in' type='checkbox' disabled ><label for='section-aa02b93a-f808-4179-9593-b5c6d81c204a' class='xr-section-summary'  title='Expand/collapse section'>Dimensions:</label><div class='xr-section-inline-details'><ul class='xr-dim-list'><li><span class='xr-has-index'>time</span>: 421</li><li><span class='xr-has-index'>latitude</span>: 37</li><li><span class='xr-has-index'>longitude</span>: 81</li></ul></div><div class='xr-section-details'></div></li><li class='xr-section-item'><input id='section-d0422c4b-ea77-4676-8e09-d1e412676c0c' class='xr-section-summary-in' type='checkbox'  checked><label for='section-d0422c4b-ea77-4676-8e09-d1e412676c0c' class='xr-section-summary' >Coordinates: <span>(3)</span></label><div class='xr-section-inline-details'></div><div class='xr-section-details'><ul class='xr-var-list'><li class='xr-var-item'><div class='xr-var-name'><span class='xr-has-index'>latitude</span></div><div class='xr-var-dims'>(latitude)</div><div class='xr-var-dtype'>float32</div><div class='xr-var-preview xr-preview'>33.88 34.12 34.38 ... 42.62 42.88</div><input id='attrs-6f36ab58-2f10-4021-8b50-8115c96a9840' class='xr-var-attrs-in' type='checkbox' ><label for='attrs-6f36ab58-2f10-4021-8b50-8115c96a9840' title='Show/Hide attributes'><svg class='icon xr-icon-file-text2'><use xlink:href='#icon-file-text2'></use></svg></label><input id='data-fb7d57a2-0b18-41ac-a67e-7ee42ba84c64' class='xr-var-data-in' type='checkbox'><label for='data-fb7d57a2-0b18-41ac-a67e-7ee42ba84c64' title='Show/Hide data repr'><svg class='icon xr-icon-database'><use xlink:href='#icon-database'></use></svg></label><div class='xr-var-attrs'><dl class='xr-attrs'><dt><span>axis :</span></dt><dd>Y</dd><dt><span>bounds :</span></dt><dd>lat_bnds</dd><dt><span>long_name :</span></dt><dd>Latitude</dd><dt><span>standard_name :</span></dt><dd>latitude</dd><dt><span>units :</span></dt><dd>degrees_north</dd><dt><span>valid_max :</span></dt><dd>42.875</dd><dt><span>valid_min :</span></dt><dd>33.875</dd><dt><span>_ChunkSizes :</span></dt><dd>50</dd><dt><span>_CoordinateAxisType :</span></dt><dd>Lat</dd></dl></div><div class='xr-var-data'><pre>array([33.875, 34.125, 34.375, 34.625, 34.875, 35.125, 35.375, 35.625, 35.875,\n",
       "       36.125, 36.375, 36.625, 36.875, 37.125, 37.375, 37.625, 37.875, 38.125,\n",
       "       38.375, 38.625, 38.875, 39.125, 39.375, 39.625, 39.875, 40.125, 40.375,\n",
       "       40.625, 40.875, 41.125, 41.375, 41.625, 41.875, 42.125, 42.375, 42.625,\n",
       "       42.875], dtype=float32)</pre></div></li><li class='xr-var-item'><div class='xr-var-name'><span class='xr-has-index'>time</span></div><div class='xr-var-dims'>(time)</div><div class='xr-var-dtype'>datetime64[ns]</div><div class='xr-var-preview xr-preview'>2021-08-15 ... 2022-10-09</div><input id='attrs-efed6b4c-7344-46db-86b4-28f3711cb6fd' class='xr-var-attrs-in' type='checkbox' ><label for='attrs-efed6b4c-7344-46db-86b4-28f3711cb6fd' title='Show/Hide attributes'><svg class='icon xr-icon-file-text2'><use xlink:href='#icon-file-text2'></use></svg></label><input id='data-94a5927a-1dda-4c4c-b2b7-7ec8bf90056f' class='xr-var-data-in' type='checkbox'><label for='data-94a5927a-1dda-4c4c-b2b7-7ec8bf90056f' title='Show/Hide data repr'><svg class='icon xr-icon-database'><use xlink:href='#icon-database'></use></svg></label><div class='xr-var-attrs'><dl class='xr-attrs'><dt><span>axis :</span></dt><dd>T</dd><dt><span>long_name :</span></dt><dd>Time</dd><dt><span>standard_name :</span></dt><dd>time</dd><dt><span>_ChunkSizes :</span></dt><dd>1</dd><dt><span>_CoordinateAxisType :</span></dt><dd>Time</dd><dt><span>valid_min :</span></dt><dd>26159.0</dd><dt><span>valid_max :</span></dt><dd>26579.0</dd></dl></div><div class='xr-var-data'><pre>array([&#x27;2021-08-15T00:00:00.000000000&#x27;, &#x27;2021-08-16T00:00:00.000000000&#x27;,\n",
       "       &#x27;2021-08-17T00:00:00.000000000&#x27;, ..., &#x27;2022-10-07T00:00:00.000000000&#x27;,\n",
       "       &#x27;2022-10-08T00:00:00.000000000&#x27;, &#x27;2022-10-09T00:00:00.000000000&#x27;],\n",
       "      dtype=&#x27;datetime64[ns]&#x27;)</pre></div></li><li class='xr-var-item'><div class='xr-var-name'><span class='xr-has-index'>longitude</span></div><div class='xr-var-dims'>(longitude)</div><div class='xr-var-dtype'>float32</div><div class='xr-var-preview xr-preview'>-140.1 -139.9 ... -120.4 -120.1</div><input id='attrs-b7b8c07c-bda8-4829-b9be-5cb39f700fb8' class='xr-var-attrs-in' type='checkbox' ><label for='attrs-b7b8c07c-bda8-4829-b9be-5cb39f700fb8' title='Show/Hide attributes'><svg class='icon xr-icon-file-text2'><use xlink:href='#icon-file-text2'></use></svg></label><input id='data-acd85fbc-fd27-4c0a-8621-23ff91577b31' class='xr-var-data-in' type='checkbox'><label for='data-acd85fbc-fd27-4c0a-8621-23ff91577b31' title='Show/Hide data repr'><svg class='icon xr-icon-database'><use xlink:href='#icon-database'></use></svg></label><div class='xr-var-attrs'><dl class='xr-attrs'><dt><span>axis :</span></dt><dd>X</dd><dt><span>bounds :</span></dt><dd>lon_bnds</dd><dt><span>long_name :</span></dt><dd>Longitude</dd><dt><span>standard_name :</span></dt><dd>longitude</dd><dt><span>units :</span></dt><dd>degrees_east</dd><dt><span>valid_max :</span></dt><dd>-120.125</dd><dt><span>valid_min :</span></dt><dd>-140.125</dd><dt><span>_ChunkSizes :</span></dt><dd>50</dd><dt><span>_CoordinateAxisType :</span></dt><dd>Lon</dd></dl></div><div class='xr-var-data'><pre>array([-140.125, -139.875, -139.625, -139.375, -139.125, -138.875, -138.625,\n",
       "       -138.375, -138.125, -137.875, -137.625, -137.375, -137.125, -136.875,\n",
       "       -136.625, -136.375, -136.125, -135.875, -135.625, -135.375, -135.125,\n",
       "       -134.875, -134.625, -134.375, -134.125, -133.875, -133.625, -133.375,\n",
       "       -133.125, -132.875, -132.625, -132.375, -132.125, -131.875, -131.625,\n",
       "       -131.375, -131.125, -130.875, -130.625, -130.375, -130.125, -129.875,\n",
       "       -129.625, -129.375, -129.125, -128.875, -128.625, -128.375, -128.125,\n",
       "       -127.875, -127.625, -127.375, -127.125, -126.875, -126.625, -126.375,\n",
       "       -126.125, -125.875, -125.625, -125.375, -125.125, -124.875, -124.625,\n",
       "       -124.375, -124.125, -123.875, -123.625, -123.375, -123.125, -122.875,\n",
       "       -122.625, -122.375, -122.125, -121.875, -121.625, -121.375, -121.125,\n",
       "       -120.875, -120.625, -120.375, -120.125], dtype=float32)</pre></div></li></ul></div></li><li class='xr-section-item'><input id='section-5328ef30-a4d2-4c58-a474-803ee3b7b154' class='xr-section-summary-in' type='checkbox'  checked><label for='section-5328ef30-a4d2-4c58-a474-803ee3b7b154' class='xr-section-summary' >Data variables: <span>(9)</span></label><div class='xr-section-inline-details'></div><div class='xr-section-details'><ul class='xr-var-list'><li class='xr-var-item'><div class='xr-var-name'><span>adt</span></div><div class='xr-var-dims'>(time, latitude, longitude)</div><div class='xr-var-dtype'>float64</div><div class='xr-var-preview xr-preview'>...</div><input id='attrs-a9526380-d46f-4fe0-9769-5b2e51fe085f' class='xr-var-attrs-in' type='checkbox' ><label for='attrs-a9526380-d46f-4fe0-9769-5b2e51fe085f' title='Show/Hide attributes'><svg class='icon xr-icon-file-text2'><use xlink:href='#icon-file-text2'></use></svg></label><input id='data-3319007b-d874-4038-852f-87495894dc66' class='xr-var-data-in' type='checkbox'><label for='data-3319007b-d874-4038-852f-87495894dc66' title='Show/Hide data repr'><svg class='icon xr-icon-database'><use xlink:href='#icon-database'></use></svg></label><div class='xr-var-attrs'><dl class='xr-attrs'><dt><span>comment :</span></dt><dd>The absolute dynamic topography is the sea surface height above geoid; the adt is obtained as follows: adt=sla+mdt where mdt is the mean dynamic topography; see the product user manual for details</dd><dt><span>grid_mapping :</span></dt><dd>crs</dd><dt><span>long_name :</span></dt><dd>Absolute dynamic topography</dd><dt><span>standard_name :</span></dt><dd>sea_surface_height_above_geoid</dd><dt><span>units :</span></dt><dd>m</dd><dt><span>_ChunkSizes :</span></dt><dd>[ 1 50 50]</dd></dl></div><div class='xr-var-data'><pre>[1261737 values with dtype=float64]</pre></div></li><li class='xr-var-item'><div class='xr-var-name'><span>ugos</span></div><div class='xr-var-dims'>(time, latitude, longitude)</div><div class='xr-var-dtype'>float64</div><div class='xr-var-preview xr-preview'>...</div><input id='attrs-022caa44-c379-41bb-8fcf-2c19f0101400' class='xr-var-attrs-in' type='checkbox' ><label for='attrs-022caa44-c379-41bb-8fcf-2c19f0101400' title='Show/Hide attributes'><svg class='icon xr-icon-file-text2'><use xlink:href='#icon-file-text2'></use></svg></label><input id='data-efde8075-37c3-47e9-aec0-a9435463ad5b' class='xr-var-data-in' type='checkbox'><label for='data-efde8075-37c3-47e9-aec0-a9435463ad5b' title='Show/Hide data repr'><svg class='icon xr-icon-database'><use xlink:href='#icon-database'></use></svg></label><div class='xr-var-attrs'><dl class='xr-attrs'><dt><span>grid_mapping :</span></dt><dd>crs</dd><dt><span>long_name :</span></dt><dd>Absolute geostrophic velocity: zonal component</dd><dt><span>standard_name :</span></dt><dd>surface_geostrophic_eastward_sea_water_velocity</dd><dt><span>units :</span></dt><dd>m/s</dd><dt><span>_ChunkSizes :</span></dt><dd>[ 1 50 50]</dd></dl></div><div class='xr-var-data'><pre>[1261737 values with dtype=float64]</pre></div></li><li class='xr-var-item'><div class='xr-var-name'><span>vgos</span></div><div class='xr-var-dims'>(time, latitude, longitude)</div><div class='xr-var-dtype'>float64</div><div class='xr-var-preview xr-preview'>...</div><input id='attrs-39616572-df75-4ac8-a51e-713b1020bdf4' class='xr-var-attrs-in' type='checkbox' ><label for='attrs-39616572-df75-4ac8-a51e-713b1020bdf4' title='Show/Hide attributes'><svg class='icon xr-icon-file-text2'><use xlink:href='#icon-file-text2'></use></svg></label><input id='data-2bad4981-c3ea-4cd0-805f-a2200d6741c0' class='xr-var-data-in' type='checkbox'><label for='data-2bad4981-c3ea-4cd0-805f-a2200d6741c0' title='Show/Hide data repr'><svg class='icon xr-icon-database'><use xlink:href='#icon-database'></use></svg></label><div class='xr-var-attrs'><dl class='xr-attrs'><dt><span>grid_mapping :</span></dt><dd>crs</dd><dt><span>long_name :</span></dt><dd>Absolute geostrophic velocity: meridian component</dd><dt><span>standard_name :</span></dt><dd>surface_geostrophic_northward_sea_water_velocity</dd><dt><span>units :</span></dt><dd>m/s</dd><dt><span>_ChunkSizes :</span></dt><dd>[ 1 50 50]</dd></dl></div><div class='xr-var-data'><pre>[1261737 values with dtype=float64]</pre></div></li><li class='xr-var-item'><div class='xr-var-name'><span>vgosa</span></div><div class='xr-var-dims'>(time, latitude, longitude)</div><div class='xr-var-dtype'>float64</div><div class='xr-var-preview xr-preview'>...</div><input id='attrs-6c3f99d4-4d21-4a8a-8ea4-9a3e7acc2fe7' class='xr-var-attrs-in' type='checkbox' ><label for='attrs-6c3f99d4-4d21-4a8a-8ea4-9a3e7acc2fe7' title='Show/Hide attributes'><svg class='icon xr-icon-file-text2'><use xlink:href='#icon-file-text2'></use></svg></label><input id='data-ce502c6d-cc2c-4bfc-b428-80d7ed7800c5' class='xr-var-data-in' type='checkbox'><label for='data-ce502c6d-cc2c-4bfc-b428-80d7ed7800c5' title='Show/Hide data repr'><svg class='icon xr-icon-database'><use xlink:href='#icon-database'></use></svg></label><div class='xr-var-attrs'><dl class='xr-attrs'><dt><span>ancillary_variables :</span></dt><dd>err_vgosa</dd><dt><span>comment :</span></dt><dd>The geostrophic velocity anomalies are referenced to the [1993, 2012] period</dd><dt><span>grid_mapping :</span></dt><dd>crs</dd><dt><span>long_name :</span></dt><dd>Geostrophic velocity anomalies: meridian component</dd><dt><span>standard_name :</span></dt><dd>surface_geostrophic_northward_sea_water_velocity_assuming_sea_level_for_geoid</dd><dt><span>units :</span></dt><dd>m/s</dd><dt><span>_ChunkSizes :</span></dt><dd>[ 1 50 50]</dd></dl></div><div class='xr-var-data'><pre>[1261737 values with dtype=float64]</pre></div></li><li class='xr-var-item'><div class='xr-var-name'><span>crs</span></div><div class='xr-var-dims'>()</div><div class='xr-var-dtype'>int32</div><div class='xr-var-preview xr-preview'>...</div><input id='attrs-c2c30c4d-99cb-4ac6-a909-e77d48495966' class='xr-var-attrs-in' type='checkbox' ><label for='attrs-c2c30c4d-99cb-4ac6-a909-e77d48495966' title='Show/Hide attributes'><svg class='icon xr-icon-file-text2'><use xlink:href='#icon-file-text2'></use></svg></label><input id='data-79e7ba26-a08e-4509-9fbd-e45d935d143e' class='xr-var-data-in' type='checkbox'><label for='data-79e7ba26-a08e-4509-9fbd-e45d935d143e' title='Show/Hide data repr'><svg class='icon xr-icon-database'><use xlink:href='#icon-database'></use></svg></label><div class='xr-var-attrs'><dl class='xr-attrs'><dt><span>comment :</span></dt><dd>This is a container variable that describes the grid_mapping used by the data in this file. This variable does not contain any data; only information about the geographic coordinate system.</dd><dt><span>inverse_flattening :</span></dt><dd>298.257</dd><dt><span>grid_mapping_name :</span></dt><dd>latitude_longitude</dd><dt><span>semi_major_axis :</span></dt><dd>6378136.3</dd><dt><span>_CoordinateTransformType :</span></dt><dd>Projection</dd><dt><span>_CoordinateAxisTypes :</span></dt><dd>GeoX GeoY</dd></dl></div><div class='xr-var-data'><pre>array(-2147483647, dtype=int32)</pre></div></li><li class='xr-var-item'><div class='xr-var-name'><span>err_vgosa</span></div><div class='xr-var-dims'>(time, latitude, longitude)</div><div class='xr-var-dtype'>float64</div><div class='xr-var-preview xr-preview'>...</div><input id='attrs-bcbf2b04-4b0f-475b-b52b-e238ff0f2b06' class='xr-var-attrs-in' type='checkbox' ><label for='attrs-bcbf2b04-4b0f-475b-b52b-e238ff0f2b06' title='Show/Hide attributes'><svg class='icon xr-icon-file-text2'><use xlink:href='#icon-file-text2'></use></svg></label><input id='data-da340378-f569-4795-ba9e-fb5ad60649bd' class='xr-var-data-in' type='checkbox'><label for='data-da340378-f569-4795-ba9e-fb5ad60649bd' title='Show/Hide data repr'><svg class='icon xr-icon-database'><use xlink:href='#icon-database'></use></svg></label><div class='xr-var-attrs'><dl class='xr-attrs'><dt><span>comment :</span></dt><dd>The formal mapping error represents a purely theoretical mapping error. It mainly traduces errors induced by the constellation sampling capability and consistency with the spatial/temporal scales considered, as described in Le Traon et al (1998) or Ducet et al (2000)</dd><dt><span>grid_mapping :</span></dt><dd>crs</dd><dt><span>long_name :</span></dt><dd>Formal mapping error on meridional geostrophic velocity anomalies</dd><dt><span>standard_name :</span></dt><dd>surface_geostrophic_northward_sea_water_velocity_assuming_sea_level_for_geoid standard_error</dd><dt><span>units :</span></dt><dd>m/s</dd><dt><span>_ChunkSizes :</span></dt><dd>[ 1 50 50]</dd></dl></div><div class='xr-var-data'><pre>[1261737 values with dtype=float64]</pre></div></li><li class='xr-var-item'><div class='xr-var-name'><span>err_ugosa</span></div><div class='xr-var-dims'>(time, latitude, longitude)</div><div class='xr-var-dtype'>float64</div><div class='xr-var-preview xr-preview'>...</div><input id='attrs-f7ba1668-b8af-45f4-a5f5-7658d36393ea' class='xr-var-attrs-in' type='checkbox' ><label for='attrs-f7ba1668-b8af-45f4-a5f5-7658d36393ea' title='Show/Hide attributes'><svg class='icon xr-icon-file-text2'><use xlink:href='#icon-file-text2'></use></svg></label><input id='data-a589199a-00bc-4253-81cd-fe63ed529c20' class='xr-var-data-in' type='checkbox'><label for='data-a589199a-00bc-4253-81cd-fe63ed529c20' title='Show/Hide data repr'><svg class='icon xr-icon-database'><use xlink:href='#icon-database'></use></svg></label><div class='xr-var-attrs'><dl class='xr-attrs'><dt><span>comment :</span></dt><dd>The formal mapping error represents a purely theoretical mapping error. It mainly traduces errors induced by the constellation sampling capability and consistency with the spatial/temporal scales considered, as described in Le Traon et al (1998) or Ducet et al (2000)</dd><dt><span>grid_mapping :</span></dt><dd>crs</dd><dt><span>long_name :</span></dt><dd>Formal mapping error on zonal geostrophic velocity anomalies</dd><dt><span>standard_name :</span></dt><dd>surface_geostrophic_eastward_sea_water_velocity_assuming_sea_level_for_geoid standard_error</dd><dt><span>units :</span></dt><dd>m/s</dd><dt><span>_ChunkSizes :</span></dt><dd>[ 1 50 50]</dd></dl></div><div class='xr-var-data'><pre>[1261737 values with dtype=float64]</pre></div></li><li class='xr-var-item'><div class='xr-var-name'><span>sla</span></div><div class='xr-var-dims'>(time, latitude, longitude)</div><div class='xr-var-dtype'>float64</div><div class='xr-var-preview xr-preview'>...</div><input id='attrs-6a806a92-67f9-4b31-936f-a70cfecbf3cf' class='xr-var-attrs-in' type='checkbox' ><label for='attrs-6a806a92-67f9-4b31-936f-a70cfecbf3cf' title='Show/Hide attributes'><svg class='icon xr-icon-file-text2'><use xlink:href='#icon-file-text2'></use></svg></label><input id='data-e0877295-fd06-42b8-84a1-08b2fc823039' class='xr-var-data-in' type='checkbox'><label for='data-e0877295-fd06-42b8-84a1-08b2fc823039' title='Show/Hide data repr'><svg class='icon xr-icon-database'><use xlink:href='#icon-database'></use></svg></label><div class='xr-var-attrs'><dl class='xr-attrs'><dt><span>ancillary_variables :</span></dt><dd>err_sla</dd><dt><span>comment :</span></dt><dd>The sea level anomaly is the sea surface height above mean sea surface; it is referenced to the [1993, 2012] period; see the product user manual for details</dd><dt><span>grid_mapping :</span></dt><dd>crs</dd><dt><span>long_name :</span></dt><dd>Sea level anomaly</dd><dt><span>standard_name :</span></dt><dd>sea_surface_height_above_sea_level</dd><dt><span>units :</span></dt><dd>m</dd><dt><span>_ChunkSizes :</span></dt><dd>[ 1 50 50]</dd></dl></div><div class='xr-var-data'><pre>[1261737 values with dtype=float64]</pre></div></li><li class='xr-var-item'><div class='xr-var-name'><span>ugosa</span></div><div class='xr-var-dims'>(time, latitude, longitude)</div><div class='xr-var-dtype'>float64</div><div class='xr-var-preview xr-preview'>...</div><input id='attrs-f80fe26f-2588-4132-ad4f-3b8eaca8b9d3' class='xr-var-attrs-in' type='checkbox' ><label for='attrs-f80fe26f-2588-4132-ad4f-3b8eaca8b9d3' title='Show/Hide attributes'><svg class='icon xr-icon-file-text2'><use xlink:href='#icon-file-text2'></use></svg></label><input id='data-7a66c2e9-8a4a-419f-8d28-c7de11a30cf8' class='xr-var-data-in' type='checkbox'><label for='data-7a66c2e9-8a4a-419f-8d28-c7de11a30cf8' title='Show/Hide data repr'><svg class='icon xr-icon-database'><use xlink:href='#icon-database'></use></svg></label><div class='xr-var-attrs'><dl class='xr-attrs'><dt><span>ancillary_variables :</span></dt><dd>err_ugosa</dd><dt><span>comment :</span></dt><dd>The geostrophic velocity anomalies are referenced to the [1993, 2012] period</dd><dt><span>grid_mapping :</span></dt><dd>crs</dd><dt><span>long_name :</span></dt><dd>Geostrophic velocity anomalies: zonal component</dd><dt><span>standard_name :</span></dt><dd>surface_geostrophic_eastward_sea_water_velocity_assuming_sea_level_for_geoid</dd><dt><span>units :</span></dt><dd>m/s</dd><dt><span>_ChunkSizes :</span></dt><dd>[ 1 50 50]</dd></dl></div><div class='xr-var-data'><pre>[1261737 values with dtype=float64]</pre></div></li></ul></div></li><li class='xr-section-item'><input id='section-6be64aed-9d91-4a29-bc60-fb0e1088b13b' class='xr-section-summary-in' type='checkbox'  ><label for='section-6be64aed-9d91-4a29-bc60-fb0e1088b13b' class='xr-section-summary' >Attributes: <span>(45)</span></label><div class='xr-section-inline-details'></div><div class='xr-section-details'><dl class='xr-attrs'><dt><span>Conventions :</span></dt><dd>CF-1.6</dd><dt><span>FROM_ORIGINAL_FILE__Metadata_Conventions :</span></dt><dd>Unidata Dataset Discovery v1.0</dd><dt><span>cdm_data_type :</span></dt><dd>Grid</dd><dt><span>comment :</span></dt><dd>Sea Surface Height measured by Altimetry and derived variables</dd><dt><span>contact :</span></dt><dd>servicedesk.cmems@mercator-ocean.eu</dd><dt><span>creator_email :</span></dt><dd>servicedesk.cmems@mercator-ocean.eu</dd><dt><span>creator_name :</span></dt><dd>CMEMS - Sea Level Thematic Assembly Center</dd><dt><span>creator_url :</span></dt><dd>http://marine.copernicus.eu</dd><dt><span>date_created :</span></dt><dd>2022-10-09T00:54:53Z</dd><dt><span>date_issued :</span></dt><dd>2022-10-09T00:54:53Z</dd><dt><span>date_modified :</span></dt><dd>2022-10-09T00:54:53Z</dd><dt><span>FROM_ORIGINAL_FILE__geospatial_lat_max :</span></dt><dd>89.875</dd><dt><span>FROM_ORIGINAL_FILE__geospatial_lat_min :</span></dt><dd>-89.875</dd><dt><span>FROM_ORIGINAL_FILE__geospatial_lat_resolution :</span></dt><dd>0.25</dd><dt><span>FROM_ORIGINAL_FILE__geospatial_lat_units :</span></dt><dd>degrees_north</dd><dt><span>FROM_ORIGINAL_FILE__geospatial_lon_max :</span></dt><dd>179.875</dd><dt><span>FROM_ORIGINAL_FILE__geospatial_lon_min :</span></dt><dd>-179.875</dd><dt><span>FROM_ORIGINAL_FILE__geospatial_lon_resolution :</span></dt><dd>0.25</dd><dt><span>FROM_ORIGINAL_FILE__geospatial_lon_units :</span></dt><dd>degrees_east</dd><dt><span>geospatial_vertical_max :</span></dt><dd>0.0</dd><dt><span>geospatial_vertical_min :</span></dt><dd>0.0</dd><dt><span>geospatial_vertical_positive :</span></dt><dd>down</dd><dt><span>geospatial_vertical_resolution :</span></dt><dd>point</dd><dt><span>geospatial_vertical_units :</span></dt><dd>m</dd><dt><span>history :</span></dt><dd>2022-10-09 00:54:54Z: Creation</dd><dt><span>institution :</span></dt><dd>CLS, CNES</dd><dt><span>keywords :</span></dt><dd>Oceans &gt; Ocean Topography &gt; Sea Surface Height</dd><dt><span>keywords_vocabulary :</span></dt><dd>NetCDF COARDS Climate and Forecast Standard Names</dd><dt><span>license :</span></dt><dd>http://marine.copernicus.eu/web/27-service-commitments-and-licence.php</dd><dt><span>FROM_ORIGINAL_FILE__platform :</span></dt><dd>Altika, Cryosat-2 New Orbit, Haiyang-2B, Jason-3 Interleaved, Sentinel-3A, Sentinel-3B, Sentinel-6A</dd><dt><span>processing_level :</span></dt><dd>L4</dd><dt><span>FROM_ORIGINAL_FILE__product_version :</span></dt><dd>vDec2021</dd><dt><span>project :</span></dt><dd>COPERNICUS MARINE ENVIRONMENT MONITORING SERVICE (CMEMS)</dd><dt><span>references :</span></dt><dd>http://marine.copernicus.eu</dd><dt><span>FROM_ORIGINAL_FILE__software_version :</span></dt><dd>19.2.0_DUACS_DT2021_baseline</dd><dt><span>source :</span></dt><dd>Altimetry measurements</dd><dt><span>ssalto_duacs_comment :</span></dt><dd>Sentinel-6A is the reference mission used for the altimeter inter-calibration processing</dd><dt><span>standard_name_vocabulary :</span></dt><dd>NetCDF Climate and Forecast (CF) Metadata Convention Standard Name Table v37</dd><dt><span>summary :</span></dt><dd>SSALTO/DUACS Near-Real-Time Level-4 sea surface height and derived variables measured by multi-satellite altimetry observations over Global Ocean.</dd><dt><span>time_coverage_duration :</span></dt><dd>P1D</dd><dt><span>time_coverage_end :</span></dt><dd>2022-10-09T12:00:00Z</dd><dt><span>time_coverage_resolution :</span></dt><dd>P1D</dd><dt><span>time_coverage_start :</span></dt><dd>2022-10-08T12:00:00Z</dd><dt><span>title :</span></dt><dd>NRT merged all satellites Global Ocean Gridded SSALTO/DUACS Sea Surface Height L4 product and derived variables</dd><dt><span>_CoordSysBuilder :</span></dt><dd>ucar.nc2.dataset.conv.CF1Convention</dd></dl></div></li></ul></div></div>"
      ],
      "text/plain": [
       "<xarray.Dataset>\n",
       "Dimensions:    (time: 421, latitude: 37, longitude: 81)\n",
       "Coordinates:\n",
       "  * latitude   (latitude) float32 33.88 34.12 34.38 34.62 ... 42.38 42.62 42.88\n",
       "  * time       (time) datetime64[ns] 2021-08-15 2021-08-16 ... 2022-10-09\n",
       "  * longitude  (longitude) float32 -140.1 -139.9 -139.6 ... -120.6 -120.4 -120.1\n",
       "Data variables:\n",
       "    adt        (time, latitude, longitude) float64 ...\n",
       "    ugos       (time, latitude, longitude) float64 ...\n",
       "    vgos       (time, latitude, longitude) float64 ...\n",
       "    vgosa      (time, latitude, longitude) float64 ...\n",
       "    crs        int32 ...\n",
       "    err_vgosa  (time, latitude, longitude) float64 ...\n",
       "    err_ugosa  (time, latitude, longitude) float64 ...\n",
       "    sla        (time, latitude, longitude) float64 ...\n",
       "    ugosa      (time, latitude, longitude) float64 ...\n",
       "Attributes: (12/45)\n",
       "    Conventions:                                    CF-1.6\n",
       "    FROM_ORIGINAL_FILE__Metadata_Conventions:       Unidata Dataset Discovery...\n",
       "    cdm_data_type:                                  Grid\n",
       "    comment:                                        Sea Surface Height measur...\n",
       "    contact:                                        servicedesk.cmems@mercato...\n",
       "    creator_email:                                  servicedesk.cmems@mercato...\n",
       "    ...                                             ...\n",
       "    time_coverage_duration:                         P1D\n",
       "    time_coverage_end:                              2022-10-09T12:00:00Z\n",
       "    time_coverage_resolution:                       P1D\n",
       "    time_coverage_start:                            2022-10-08T12:00:00Z\n",
       "    title:                                          NRT merged all satellites...\n",
       "    _CoordSysBuilder:                               ucar.nc2.dataset.conv.CF1..."
      ]
     },
     "execution_count": 7,
     "metadata": {},
     "output_type": "execute_result"
    }
   ],
   "source": [
    "ds"
   ]
  },
  {
   "cell_type": "code",
   "execution_count": 8,
   "id": "064237af-99fb-42a2-818c-37492457318c",
   "metadata": {},
   "outputs": [
    {
     "name": "stdout",
     "output_type": "stream",
     "text": [
      "{'transform': <cartopy.crs.PlateCarree object at 0x7ff1d8214d60>, 'color': 'w'}\n"
     ]
    }
   ],
   "source": [
    "fig = plt.figure()\n",
    "tind=-1\n",
    "plot_SSH_map(tind)"
   ]
  },
  {
   "cell_type": "code",
   "execution_count": 9,
   "id": "a5f09f05-e321-4f5d-acbe-3176abe96f8c",
   "metadata": {
    "collapsed": true,
    "jupyter": {
     "outputs_hidden": true
    },
    "tags": []
   },
   "outputs": [
    {
     "name": "stdout",
     "output_type": "stream",
     "text": [
      "{'transform': <cartopy.crs.PlateCarree object at 0x7ff1d1f614a0>, 'color': 'w'}\n",
      "{'transform': <cartopy.crs.PlateCarree object at 0x7ff1d3f2ee00>, 'color': 'w'}\n"
     ]
    },
    {
     "name": "stderr",
     "output_type": "stream",
     "text": [
      "/home/jtomf/miniconda3/lib/python3.9/site-packages/cartopy/mpl/gridliner.py:741: UserWarning: The labels of this gridliner do not belong to the gridliner axes\n",
      "  warnings.warn('The labels of this gridliner do not belong to '\n"
     ]
    },
    {
     "name": "stdout",
     "output_type": "stream",
     "text": [
      "{'transform': <cartopy.crs.PlateCarree object at 0x7ff1d3c20270>, 'color': 'w'}\n"
     ]
    },
    {
     "name": "stderr",
     "output_type": "stream",
     "text": [
      "/home/jtomf/miniconda3/lib/python3.9/site-packages/cartopy/mpl/gridliner.py:741: UserWarning: The labels of this gridliner do not belong to the gridliner axes\n",
      "  warnings.warn('The labels of this gridliner do not belong to '\n"
     ]
    },
    {
     "name": "stdout",
     "output_type": "stream",
     "text": [
      "{'transform': <cartopy.crs.PlateCarree object at 0x7ff1d3944090>, 'color': 'w'}\n",
      "{'transform': <cartopy.crs.PlateCarree object at 0x7ff1d3f17e50>, 'color': 'w'}\n"
     ]
    },
    {
     "name": "stderr",
     "output_type": "stream",
     "text": [
      "/home/jtomf/miniconda3/lib/python3.9/site-packages/cartopy/mpl/gridliner.py:741: UserWarning: The labels of this gridliner do not belong to the gridliner axes\n",
      "  warnings.warn('The labels of this gridliner do not belong to '\n"
     ]
    },
    {
     "name": "stdout",
     "output_type": "stream",
     "text": [
      "{'transform': <cartopy.crs.PlateCarree object at 0x7ff1d3d3dcc0>, 'color': 'w'}\n"
     ]
    },
    {
     "name": "stderr",
     "output_type": "stream",
     "text": [
      "/home/jtomf/miniconda3/lib/python3.9/site-packages/cartopy/mpl/gridliner.py:741: UserWarning: The labels of this gridliner do not belong to the gridliner axes\n",
      "  warnings.warn('The labels of this gridliner do not belong to '\n"
     ]
    },
    {
     "name": "stdout",
     "output_type": "stream",
     "text": [
      "{'transform': <cartopy.crs.PlateCarree object at 0x7ff1d383b180>, 'color': 'w'}\n",
      "{'transform': <cartopy.crs.PlateCarree object at 0x7ff1d3f30e50>, 'color': 'w'}\n"
     ]
    },
    {
     "name": "stderr",
     "output_type": "stream",
     "text": [
      "/home/jtomf/miniconda3/lib/python3.9/site-packages/cartopy/mpl/gridliner.py:741: UserWarning: The labels of this gridliner do not belong to the gridliner axes\n",
      "  warnings.warn('The labels of this gridliner do not belong to '\n"
     ]
    },
    {
     "name": "stdout",
     "output_type": "stream",
     "text": [
      "{'transform': <cartopy.crs.PlateCarree object at 0x7ff1d3e0bc70>, 'color': 'w'}\n"
     ]
    },
    {
     "name": "stderr",
     "output_type": "stream",
     "text": [
      "/home/jtomf/miniconda3/lib/python3.9/site-packages/cartopy/mpl/gridliner.py:741: UserWarning: The labels of this gridliner do not belong to the gridliner axes\n",
      "  warnings.warn('The labels of this gridliner do not belong to '\n"
     ]
    },
    {
     "name": "stdout",
     "output_type": "stream",
     "text": [
      "{'transform': <cartopy.crs.PlateCarree object at 0x7ff1d3200220>, 'color': 'w'}\n"
     ]
    },
    {
     "name": "stderr",
     "output_type": "stream",
     "text": [
      "/home/jtomf/miniconda3/lib/python3.9/site-packages/cartopy/mpl/gridliner.py:741: UserWarning: The labels of this gridliner do not belong to the gridliner axes\n",
      "  warnings.warn('The labels of this gridliner do not belong to '\n"
     ]
    },
    {
     "name": "stdout",
     "output_type": "stream",
     "text": [
      "{'transform': <cartopy.crs.PlateCarree object at 0x7ff1d38cbf40>, 'color': 'w'}\n"
     ]
    },
    {
     "name": "stderr",
     "output_type": "stream",
     "text": [
      "/home/jtomf/miniconda3/lib/python3.9/site-packages/cartopy/mpl/gridliner.py:741: UserWarning: The labels of this gridliner do not belong to the gridliner axes\n",
      "  warnings.warn('The labels of this gridliner do not belong to '\n"
     ]
    },
    {
     "name": "stdout",
     "output_type": "stream",
     "text": [
      "{'transform': <cartopy.crs.PlateCarree object at 0x7ff1d2b3f090>, 'color': 'w'}\n"
     ]
    },
    {
     "name": "stderr",
     "output_type": "stream",
     "text": [
      "/home/jtomf/miniconda3/lib/python3.9/site-packages/cartopy/mpl/gridliner.py:741: UserWarning: The labels of this gridliner do not belong to the gridliner axes\n",
      "  warnings.warn('The labels of this gridliner do not belong to '\n"
     ]
    },
    {
     "name": "stdout",
     "output_type": "stream",
     "text": [
      "{'transform': <cartopy.crs.PlateCarree object at 0x7ff1d3aec220>, 'color': 'w'}\n"
     ]
    },
    {
     "name": "stderr",
     "output_type": "stream",
     "text": [
      "/home/jtomf/miniconda3/lib/python3.9/site-packages/cartopy/mpl/gridliner.py:741: UserWarning: The labels of this gridliner do not belong to the gridliner axes\n",
      "  warnings.warn('The labels of this gridliner do not belong to '\n"
     ]
    },
    {
     "name": "stdout",
     "output_type": "stream",
     "text": [
      "{'transform': <cartopy.crs.PlateCarree object at 0x7ff1d38d2810>, 'color': 'w'}\n"
     ]
    },
    {
     "name": "stderr",
     "output_type": "stream",
     "text": [
      "/home/jtomf/miniconda3/lib/python3.9/site-packages/cartopy/mpl/gridliner.py:741: UserWarning: The labels of this gridliner do not belong to the gridliner axes\n",
      "  warnings.warn('The labels of this gridliner do not belong to '\n"
     ]
    },
    {
     "name": "stdout",
     "output_type": "stream",
     "text": [
      "{'transform': <cartopy.crs.PlateCarree object at 0x7ff1d3f76f40>, 'color': 'w'}\n"
     ]
    },
    {
     "name": "stderr",
     "output_type": "stream",
     "text": [
      "/home/jtomf/miniconda3/lib/python3.9/site-packages/cartopy/mpl/gridliner.py:741: UserWarning: The labels of this gridliner do not belong to the gridliner axes\n",
      "  warnings.warn('The labels of this gridliner do not belong to '\n"
     ]
    },
    {
     "name": "stdout",
     "output_type": "stream",
     "text": [
      "{'transform': <cartopy.crs.PlateCarree object at 0x7ff1d37411d0>, 'color': 'w'}\n"
     ]
    },
    {
     "name": "stderr",
     "output_type": "stream",
     "text": [
      "/home/jtomf/miniconda3/lib/python3.9/site-packages/cartopy/mpl/gridliner.py:741: UserWarning: The labels of this gridliner do not belong to the gridliner axes\n",
      "  warnings.warn('The labels of this gridliner do not belong to '\n"
     ]
    },
    {
     "name": "stdout",
     "output_type": "stream",
     "text": [
      "{'transform': <cartopy.crs.PlateCarree object at 0x7ff1d311ac70>, 'color': 'w'}\n"
     ]
    },
    {
     "name": "stderr",
     "output_type": "stream",
     "text": [
      "/home/jtomf/miniconda3/lib/python3.9/site-packages/cartopy/mpl/gridliner.py:741: UserWarning: The labels of this gridliner do not belong to the gridliner axes\n",
      "  warnings.warn('The labels of this gridliner do not belong to '\n"
     ]
    },
    {
     "name": "stdout",
     "output_type": "stream",
     "text": [
      "{'transform': <cartopy.crs.PlateCarree object at 0x7ff1d1f5b130>, 'color': 'w'}\n"
     ]
    },
    {
     "name": "stderr",
     "output_type": "stream",
     "text": [
      "/home/jtomf/miniconda3/lib/python3.9/site-packages/cartopy/mpl/gridliner.py:741: UserWarning: The labels of this gridliner do not belong to the gridliner axes\n",
      "  warnings.warn('The labels of this gridliner do not belong to '\n"
     ]
    },
    {
     "name": "stdout",
     "output_type": "stream",
     "text": [
      "{'transform': <cartopy.crs.PlateCarree object at 0x7ff1d3fa1220>, 'color': 'w'}\n"
     ]
    },
    {
     "name": "stderr",
     "output_type": "stream",
     "text": [
      "/home/jtomf/miniconda3/lib/python3.9/site-packages/cartopy/mpl/gridliner.py:741: UserWarning: The labels of this gridliner do not belong to the gridliner axes\n",
      "  warnings.warn('The labels of this gridliner do not belong to '\n"
     ]
    },
    {
     "name": "stdout",
     "output_type": "stream",
     "text": [
      "{'transform': <cartopy.crs.PlateCarree object at 0x7ff1d81b56d0>, 'color': 'w'}\n",
      "{'transform': <cartopy.crs.PlateCarree object at 0x7ff1d2ec66d0>, 'color': 'w'}\n"
     ]
    },
    {
     "name": "stderr",
     "output_type": "stream",
     "text": [
      "/home/jtomf/miniconda3/lib/python3.9/site-packages/cartopy/mpl/gridliner.py:741: UserWarning: The labels of this gridliner do not belong to the gridliner axes\n",
      "  warnings.warn('The labels of this gridliner do not belong to '\n"
     ]
    },
    {
     "name": "stdout",
     "output_type": "stream",
     "text": [
      "{'transform': <cartopy.crs.PlateCarree object at 0x7ff1d3eae540>, 'color': 'w'}\n"
     ]
    },
    {
     "name": "stderr",
     "output_type": "stream",
     "text": [
      "/home/jtomf/miniconda3/lib/python3.9/site-packages/cartopy/mpl/gridliner.py:741: UserWarning: The labels of this gridliner do not belong to the gridliner axes\n",
      "  warnings.warn('The labels of this gridliner do not belong to '\n"
     ]
    },
    {
     "name": "stdout",
     "output_type": "stream",
     "text": [
      "{'transform': <cartopy.crs.PlateCarree object at 0x7ff1d377d2c0>, 'color': 'w'}\n",
      "{'transform': <cartopy.crs.PlateCarree object at 0x7ff1d3133f40>, 'color': 'w'}\n"
     ]
    },
    {
     "name": "stderr",
     "output_type": "stream",
     "text": [
      "/home/jtomf/miniconda3/lib/python3.9/site-packages/cartopy/mpl/gridliner.py:741: UserWarning: The labels of this gridliner do not belong to the gridliner axes\n",
      "  warnings.warn('The labels of this gridliner do not belong to '\n"
     ]
    },
    {
     "name": "stdout",
     "output_type": "stream",
     "text": [
      "{'transform': <cartopy.crs.PlateCarree object at 0x7ff1d3866e50>, 'color': 'w'}\n"
     ]
    },
    {
     "name": "stderr",
     "output_type": "stream",
     "text": [
      "/home/jtomf/miniconda3/lib/python3.9/site-packages/cartopy/mpl/gridliner.py:741: UserWarning: The labels of this gridliner do not belong to the gridliner axes\n",
      "  warnings.warn('The labels of this gridliner do not belong to '\n"
     ]
    },
    {
     "name": "stdout",
     "output_type": "stream",
     "text": [
      "{'transform': <cartopy.crs.PlateCarree object at 0x7ff1d3cce360>, 'color': 'w'}\n",
      "{'transform': <cartopy.crs.PlateCarree object at 0x7ff1d3ad4f90>, 'color': 'w'}\n"
     ]
    },
    {
     "name": "stderr",
     "output_type": "stream",
     "text": [
      "/home/jtomf/miniconda3/lib/python3.9/site-packages/cartopy/mpl/gridliner.py:741: UserWarning: The labels of this gridliner do not belong to the gridliner axes\n",
      "  warnings.warn('The labels of this gridliner do not belong to '\n"
     ]
    },
    {
     "name": "stdout",
     "output_type": "stream",
     "text": [
      "{'transform': <cartopy.crs.PlateCarree object at 0x7ff1d1f6ed60>, 'color': 'w'}\n"
     ]
    },
    {
     "name": "stderr",
     "output_type": "stream",
     "text": [
      "/home/jtomf/miniconda3/lib/python3.9/site-packages/cartopy/mpl/gridliner.py:741: UserWarning: The labels of this gridliner do not belong to the gridliner axes\n",
      "  warnings.warn('The labels of this gridliner do not belong to '\n"
     ]
    },
    {
     "name": "stdout",
     "output_type": "stream",
     "text": [
      "{'transform': <cartopy.crs.PlateCarree object at 0x7ff1d3f8e360>, 'color': 'w'}\n"
     ]
    },
    {
     "name": "stderr",
     "output_type": "stream",
     "text": [
      "/home/jtomf/miniconda3/lib/python3.9/site-packages/cartopy/mpl/gridliner.py:741: UserWarning: The labels of this gridliner do not belong to the gridliner axes\n",
      "  warnings.warn('The labels of this gridliner do not belong to '\n"
     ]
    },
    {
     "name": "stdout",
     "output_type": "stream",
     "text": [
      "{'transform': <cartopy.crs.PlateCarree object at 0x7ff1d2e533b0>, 'color': 'w'}\n"
     ]
    },
    {
     "name": "stderr",
     "output_type": "stream",
     "text": [
      "/home/jtomf/miniconda3/lib/python3.9/site-packages/cartopy/mpl/gridliner.py:741: UserWarning: The labels of this gridliner do not belong to the gridliner axes\n",
      "  warnings.warn('The labels of this gridliner do not belong to '\n"
     ]
    },
    {
     "name": "stdout",
     "output_type": "stream",
     "text": [
      "{'transform': <cartopy.crs.PlateCarree object at 0x7ff1d3bd51d0>, 'color': 'w'}\n"
     ]
    },
    {
     "name": "stderr",
     "output_type": "stream",
     "text": [
      "/home/jtomf/miniconda3/lib/python3.9/site-packages/cartopy/mpl/gridliner.py:741: UserWarning: The labels of this gridliner do not belong to the gridliner axes\n",
      "  warnings.warn('The labels of this gridliner do not belong to '\n"
     ]
    },
    {
     "name": "stdout",
     "output_type": "stream",
     "text": [
      "{'transform': <cartopy.crs.PlateCarree object at 0x7ff1d3943360>, 'color': 'w'}\n"
     ]
    },
    {
     "name": "stderr",
     "output_type": "stream",
     "text": [
      "/home/jtomf/miniconda3/lib/python3.9/site-packages/cartopy/mpl/gridliner.py:741: UserWarning: The labels of this gridliner do not belong to the gridliner axes\n",
      "  warnings.warn('The labels of this gridliner do not belong to '\n"
     ]
    },
    {
     "name": "stdout",
     "output_type": "stream",
     "text": [
      "{'transform': <cartopy.crs.PlateCarree object at 0x7ff1d3f0c9a0>, 'color': 'w'}\n"
     ]
    },
    {
     "name": "stderr",
     "output_type": "stream",
     "text": [
      "/home/jtomf/miniconda3/lib/python3.9/site-packages/cartopy/mpl/gridliner.py:741: UserWarning: The labels of this gridliner do not belong to the gridliner axes\n",
      "  warnings.warn('The labels of this gridliner do not belong to '\n"
     ]
    },
    {
     "name": "stdout",
     "output_type": "stream",
     "text": [
      "{'transform': <cartopy.crs.PlateCarree object at 0x7ff1d3866090>, 'color': 'w'}\n"
     ]
    },
    {
     "name": "stderr",
     "output_type": "stream",
     "text": [
      "/home/jtomf/miniconda3/lib/python3.9/site-packages/cartopy/mpl/gridliner.py:741: UserWarning: The labels of this gridliner do not belong to the gridliner axes\n",
      "  warnings.warn('The labels of this gridliner do not belong to '\n"
     ]
    },
    {
     "name": "stdout",
     "output_type": "stream",
     "text": [
      "{'transform': <cartopy.crs.PlateCarree object at 0x7ff1d3a812c0>, 'color': 'w'}\n"
     ]
    },
    {
     "name": "stderr",
     "output_type": "stream",
     "text": [
      "/home/jtomf/miniconda3/lib/python3.9/site-packages/cartopy/mpl/gridliner.py:741: UserWarning: The labels of this gridliner do not belong to the gridliner axes\n",
      "  warnings.warn('The labels of this gridliner do not belong to '\n"
     ]
    },
    {
     "name": "stdout",
     "output_type": "stream",
     "text": [
      "{'transform': <cartopy.crs.PlateCarree object at 0x7ff1d3f67590>, 'color': 'w'}\n"
     ]
    },
    {
     "name": "stderr",
     "output_type": "stream",
     "text": [
      "/home/jtomf/miniconda3/lib/python3.9/site-packages/cartopy/mpl/gridliner.py:741: UserWarning: The labels of this gridliner do not belong to the gridliner axes\n",
      "  warnings.warn('The labels of this gridliner do not belong to '\n"
     ]
    },
    {
     "name": "stdout",
     "output_type": "stream",
     "text": [
      "{'transform': <cartopy.crs.PlateCarree object at 0x7ff1d3977220>, 'color': 'w'}\n"
     ]
    },
    {
     "name": "stderr",
     "output_type": "stream",
     "text": [
      "/home/jtomf/miniconda3/lib/python3.9/site-packages/cartopy/mpl/gridliner.py:741: UserWarning: The labels of this gridliner do not belong to the gridliner axes\n",
      "  warnings.warn('The labels of this gridliner do not belong to '\n"
     ]
    },
    {
     "name": "stdout",
     "output_type": "stream",
     "text": [
      "{'transform': <cartopy.crs.PlateCarree object at 0x7ff1d2b38310>, 'color': 'w'}\n"
     ]
    },
    {
     "name": "stderr",
     "output_type": "stream",
     "text": [
      "/home/jtomf/miniconda3/lib/python3.9/site-packages/cartopy/mpl/gridliner.py:741: UserWarning: The labels of this gridliner do not belong to the gridliner axes\n",
      "  warnings.warn('The labels of this gridliner do not belong to '\n"
     ]
    },
    {
     "name": "stdout",
     "output_type": "stream",
     "text": [
      "{'transform': <cartopy.crs.PlateCarree object at 0x7ff1d35b3a40>, 'color': 'w'}\n",
      "{'transform': <cartopy.crs.PlateCarree object at 0x7ff1d3125770>, 'color': 'w'}\n"
     ]
    },
    {
     "name": "stderr",
     "output_type": "stream",
     "text": [
      "/home/jtomf/miniconda3/lib/python3.9/site-packages/cartopy/mpl/gridliner.py:741: UserWarning: The labels of this gridliner do not belong to the gridliner axes\n",
      "  warnings.warn('The labels of this gridliner do not belong to '\n"
     ]
    },
    {
     "name": "stdout",
     "output_type": "stream",
     "text": [
      "{'transform': <cartopy.crs.PlateCarree object at 0x7ff1d3f0f5e0>, 'color': 'w'}\n"
     ]
    },
    {
     "name": "stderr",
     "output_type": "stream",
     "text": [
      "/home/jtomf/miniconda3/lib/python3.9/site-packages/cartopy/mpl/gridliner.py:741: UserWarning: The labels of this gridliner do not belong to the gridliner axes\n",
      "  warnings.warn('The labels of this gridliner do not belong to '\n"
     ]
    },
    {
     "name": "stdout",
     "output_type": "stream",
     "text": [
      "{'transform': <cartopy.crs.PlateCarree object at 0x7ff1d2e5c360>, 'color': 'w'}\n",
      "{'transform': <cartopy.crs.PlateCarree object at 0x7ff1d3f0ba40>, 'color': 'w'}\n"
     ]
    },
    {
     "name": "stderr",
     "output_type": "stream",
     "text": [
      "/home/jtomf/miniconda3/lib/python3.9/site-packages/cartopy/mpl/gridliner.py:741: UserWarning: The labels of this gridliner do not belong to the gridliner axes\n",
      "  warnings.warn('The labels of this gridliner do not belong to '\n"
     ]
    },
    {
     "name": "stdout",
     "output_type": "stream",
     "text": [
      "{'transform': <cartopy.crs.PlateCarree object at 0x7ff1d38c4f40>, 'color': 'w'}\n"
     ]
    },
    {
     "name": "stderr",
     "output_type": "stream",
     "text": [
      "/home/jtomf/miniconda3/lib/python3.9/site-packages/cartopy/mpl/gridliner.py:741: UserWarning: The labels of this gridliner do not belong to the gridliner axes\n",
      "  warnings.warn('The labels of this gridliner do not belong to '\n"
     ]
    },
    {
     "name": "stdout",
     "output_type": "stream",
     "text": [
      "{'transform': <cartopy.crs.PlateCarree object at 0x7ff1d37a6450>, 'color': 'w'}\n",
      "{'transform': <cartopy.crs.PlateCarree object at 0x7ff1d3f67900>, 'color': 'w'}\n"
     ]
    },
    {
     "name": "stderr",
     "output_type": "stream",
     "text": [
      "/home/jtomf/miniconda3/lib/python3.9/site-packages/cartopy/mpl/gridliner.py:741: UserWarning: The labels of this gridliner do not belong to the gridliner axes\n",
      "  warnings.warn('The labels of this gridliner do not belong to '\n"
     ]
    },
    {
     "name": "stdout",
     "output_type": "stream",
     "text": [
      "{'transform': <cartopy.crs.PlateCarree object at 0x7ff1d3f4cef0>, 'color': 'w'}\n"
     ]
    },
    {
     "name": "stderr",
     "output_type": "stream",
     "text": [
      "/home/jtomf/miniconda3/lib/python3.9/site-packages/cartopy/mpl/gridliner.py:741: UserWarning: The labels of this gridliner do not belong to the gridliner axes\n",
      "  warnings.warn('The labels of this gridliner do not belong to '\n"
     ]
    },
    {
     "name": "stdout",
     "output_type": "stream",
     "text": [
      "{'transform': <cartopy.crs.PlateCarree object at 0x7ff1d39404a0>, 'color': 'w'}\n"
     ]
    },
    {
     "name": "stderr",
     "output_type": "stream",
     "text": [
      "/home/jtomf/miniconda3/lib/python3.9/site-packages/cartopy/mpl/gridliner.py:741: UserWarning: The labels of this gridliner do not belong to the gridliner axes\n",
      "  warnings.warn('The labels of this gridliner do not belong to '\n"
     ]
    },
    {
     "name": "stdout",
     "output_type": "stream",
     "text": [
      "{'transform': <cartopy.crs.PlateCarree object at 0x7ff1d3c0fdb0>, 'color': 'w'}\n"
     ]
    },
    {
     "name": "stderr",
     "output_type": "stream",
     "text": [
      "/home/jtomf/miniconda3/lib/python3.9/site-packages/cartopy/mpl/gridliner.py:741: UserWarning: The labels of this gridliner do not belong to the gridliner axes\n",
      "  warnings.warn('The labels of this gridliner do not belong to '\n"
     ]
    },
    {
     "name": "stdout",
     "output_type": "stream",
     "text": [
      "{'transform': <cartopy.crs.PlateCarree object at 0x7ff1d2e6f310>, 'color': 'w'}\n"
     ]
    },
    {
     "name": "stderr",
     "output_type": "stream",
     "text": [
      "/home/jtomf/miniconda3/lib/python3.9/site-packages/cartopy/mpl/gridliner.py:741: UserWarning: The labels of this gridliner do not belong to the gridliner axes\n",
      "  warnings.warn('The labels of this gridliner do not belong to '\n"
     ]
    },
    {
     "name": "stdout",
     "output_type": "stream",
     "text": [
      "{'transform': <cartopy.crs.PlateCarree object at 0x7ff1d3a354a0>, 'color': 'w'}\n"
     ]
    },
    {
     "name": "stderr",
     "output_type": "stream",
     "text": [
      "/home/jtomf/miniconda3/lib/python3.9/site-packages/cartopy/mpl/gridliner.py:741: UserWarning: The labels of this gridliner do not belong to the gridliner axes\n",
      "  warnings.warn('The labels of this gridliner do not belong to '\n"
     ]
    },
    {
     "name": "stdout",
     "output_type": "stream",
     "text": [
      "{'transform': <cartopy.crs.PlateCarree object at 0x7ff1d3b0a090>, 'color': 'w'}\n"
     ]
    },
    {
     "name": "stderr",
     "output_type": "stream",
     "text": [
      "/home/jtomf/miniconda3/lib/python3.9/site-packages/cartopy/mpl/gridliner.py:741: UserWarning: The labels of this gridliner do not belong to the gridliner axes\n",
      "  warnings.warn('The labels of this gridliner do not belong to '\n"
     ]
    },
    {
     "name": "stdout",
     "output_type": "stream",
     "text": [
      "{'transform': <cartopy.crs.PlateCarree object at 0x7ff1d3c9e130>, 'color': 'w'}\n"
     ]
    },
    {
     "name": "stderr",
     "output_type": "stream",
     "text": [
      "/home/jtomf/miniconda3/lib/python3.9/site-packages/cartopy/mpl/gridliner.py:741: UserWarning: The labels of this gridliner do not belong to the gridliner axes\n",
      "  warnings.warn('The labels of this gridliner do not belong to '\n"
     ]
    },
    {
     "name": "stdout",
     "output_type": "stream",
     "text": [
      "{'transform': <cartopy.crs.PlateCarree object at 0x7ff1d3712360>, 'color': 'w'}\n"
     ]
    },
    {
     "name": "stderr",
     "output_type": "stream",
     "text": [
      "/home/jtomf/miniconda3/lib/python3.9/site-packages/cartopy/mpl/gridliner.py:741: UserWarning: The labels of this gridliner do not belong to the gridliner axes\n",
      "  warnings.warn('The labels of this gridliner do not belong to '\n"
     ]
    },
    {
     "name": "stdout",
     "output_type": "stream",
     "text": [
      "{'transform': <cartopy.crs.PlateCarree object at 0x7ff1d1f72b30>, 'color': 'w'}\n"
     ]
    },
    {
     "name": "stderr",
     "output_type": "stream",
     "text": [
      "/home/jtomf/miniconda3/lib/python3.9/site-packages/cartopy/mpl/gridliner.py:741: UserWarning: The labels of this gridliner do not belong to the gridliner axes\n",
      "  warnings.warn('The labels of this gridliner do not belong to '\n"
     ]
    },
    {
     "name": "stdout",
     "output_type": "stream",
     "text": [
      "{'transform': <cartopy.crs.PlateCarree object at 0x7ff1d3c24090>, 'color': 'w'}\n"
     ]
    },
    {
     "name": "stderr",
     "output_type": "stream",
     "text": [
      "/home/jtomf/miniconda3/lib/python3.9/site-packages/cartopy/mpl/gridliner.py:741: UserWarning: The labels of this gridliner do not belong to the gridliner axes\n",
      "  warnings.warn('The labels of this gridliner do not belong to '\n"
     ]
    },
    {
     "name": "stdout",
     "output_type": "stream",
     "text": [
      "{'transform': <cartopy.crs.PlateCarree object at 0x7ff1d3bf3270>, 'color': 'w'}\n"
     ]
    },
    {
     "name": "stderr",
     "output_type": "stream",
     "text": [
      "/home/jtomf/miniconda3/lib/python3.9/site-packages/cartopy/mpl/gridliner.py:741: UserWarning: The labels of this gridliner do not belong to the gridliner axes\n",
      "  warnings.warn('The labels of this gridliner do not belong to '\n"
     ]
    },
    {
     "name": "stdout",
     "output_type": "stream",
     "text": [
      "{'transform': <cartopy.crs.PlateCarree object at 0x7ff1d2e53180>, 'color': 'w'}\n",
      "{'transform': <cartopy.crs.PlateCarree object at 0x7ff1d3c79720>, 'color': 'w'}\n"
     ]
    },
    {
     "name": "stderr",
     "output_type": "stream",
     "text": [
      "/home/jtomf/miniconda3/lib/python3.9/site-packages/cartopy/mpl/gridliner.py:741: UserWarning: The labels of this gridliner do not belong to the gridliner axes\n",
      "  warnings.warn('The labels of this gridliner do not belong to '\n"
     ]
    },
    {
     "name": "stdout",
     "output_type": "stream",
     "text": [
      "{'transform': <cartopy.crs.PlateCarree object at 0x7ff1d1f88540>, 'color': 'w'}\n"
     ]
    },
    {
     "name": "stderr",
     "output_type": "stream",
     "text": [
      "/home/jtomf/miniconda3/lib/python3.9/site-packages/cartopy/mpl/gridliner.py:741: UserWarning: The labels of this gridliner do not belong to the gridliner axes\n",
      "  warnings.warn('The labels of this gridliner do not belong to '\n"
     ]
    },
    {
     "name": "stdout",
     "output_type": "stream",
     "text": [
      "{'transform': <cartopy.crs.PlateCarree object at 0x7ff1d3a08450>, 'color': 'w'}\n",
      "{'transform': <cartopy.crs.PlateCarree object at 0x7ff1d3131810>, 'color': 'w'}\n"
     ]
    },
    {
     "name": "stderr",
     "output_type": "stream",
     "text": [
      "/home/jtomf/miniconda3/lib/python3.9/site-packages/cartopy/mpl/gridliner.py:741: UserWarning: The labels of this gridliner do not belong to the gridliner axes\n",
      "  warnings.warn('The labels of this gridliner do not belong to '\n"
     ]
    },
    {
     "name": "stdout",
     "output_type": "stream",
     "text": [
      "{'transform': <cartopy.crs.PlateCarree object at 0x7ff1d3fb8f90>, 'color': 'w'}\n"
     ]
    },
    {
     "name": "stderr",
     "output_type": "stream",
     "text": [
      "/home/jtomf/miniconda3/lib/python3.9/site-packages/cartopy/mpl/gridliner.py:741: UserWarning: The labels of this gridliner do not belong to the gridliner axes\n",
      "  warnings.warn('The labels of this gridliner do not belong to '\n"
     ]
    },
    {
     "name": "stdout",
     "output_type": "stream",
     "text": [
      "{'transform': <cartopy.crs.PlateCarree object at 0x7ff1d39844a0>, 'color': 'w'}\n",
      "{'transform': <cartopy.crs.PlateCarree object at 0x7ff1d3b96ea0>, 'color': 'w'}\n"
     ]
    },
    {
     "name": "stderr",
     "output_type": "stream",
     "text": [
      "/home/jtomf/miniconda3/lib/python3.9/site-packages/cartopy/mpl/gridliner.py:741: UserWarning: The labels of this gridliner do not belong to the gridliner axes\n",
      "  warnings.warn('The labels of this gridliner do not belong to '\n"
     ]
    },
    {
     "name": "stdout",
     "output_type": "stream",
     "text": [
      "{'transform': <cartopy.crs.PlateCarree object at 0x7ff1d3a65ef0>, 'color': 'w'}\n"
     ]
    },
    {
     "name": "stderr",
     "output_type": "stream",
     "text": [
      "/home/jtomf/miniconda3/lib/python3.9/site-packages/cartopy/mpl/gridliner.py:741: UserWarning: The labels of this gridliner do not belong to the gridliner axes\n",
      "  warnings.warn('The labels of this gridliner do not belong to '\n"
     ]
    },
    {
     "name": "stdout",
     "output_type": "stream",
     "text": [
      "{'transform': <cartopy.crs.PlateCarree object at 0x7ff1d3d914a0>, 'color': 'w'}\n"
     ]
    },
    {
     "name": "stderr",
     "output_type": "stream",
     "text": [
      "/home/jtomf/miniconda3/lib/python3.9/site-packages/cartopy/mpl/gridliner.py:741: UserWarning: The labels of this gridliner do not belong to the gridliner axes\n",
      "  warnings.warn('The labels of this gridliner do not belong to '\n"
     ]
    },
    {
     "name": "stdout",
     "output_type": "stream",
     "text": [
      "{'transform': <cartopy.crs.PlateCarree object at 0x7ff1d3dc0860>, 'color': 'w'}\n"
     ]
    },
    {
     "name": "stderr",
     "output_type": "stream",
     "text": [
      "/home/jtomf/miniconda3/lib/python3.9/site-packages/cartopy/mpl/gridliner.py:741: UserWarning: The labels of this gridliner do not belong to the gridliner axes\n",
      "  warnings.warn('The labels of this gridliner do not belong to '\n"
     ]
    },
    {
     "name": "stdout",
     "output_type": "stream",
     "text": [
      "{'transform': <cartopy.crs.PlateCarree object at 0x7ff1d313c310>, 'color': 'w'}\n"
     ]
    },
    {
     "name": "stderr",
     "output_type": "stream",
     "text": [
      "/home/jtomf/miniconda3/lib/python3.9/site-packages/cartopy/mpl/gridliner.py:741: UserWarning: The labels of this gridliner do not belong to the gridliner axes\n",
      "  warnings.warn('The labels of this gridliner do not belong to '\n"
     ]
    },
    {
     "name": "stdout",
     "output_type": "stream",
     "text": [
      "{'transform': <cartopy.crs.PlateCarree object at 0x7ff1d3e7f4a0>, 'color': 'w'}\n"
     ]
    },
    {
     "name": "stderr",
     "output_type": "stream",
     "text": [
      "/home/jtomf/miniconda3/lib/python3.9/site-packages/cartopy/mpl/gridliner.py:741: UserWarning: The labels of this gridliner do not belong to the gridliner axes\n",
      "  warnings.warn('The labels of this gridliner do not belong to '\n"
     ]
    },
    {
     "name": "stdout",
     "output_type": "stream",
     "text": [
      "{'transform': <cartopy.crs.PlateCarree object at 0x7ff1d3a9eea0>, 'color': 'w'}\n"
     ]
    },
    {
     "name": "stderr",
     "output_type": "stream",
     "text": [
      "/home/jtomf/miniconda3/lib/python3.9/site-packages/cartopy/mpl/gridliner.py:741: UserWarning: The labels of this gridliner do not belong to the gridliner axes\n",
      "  warnings.warn('The labels of this gridliner do not belong to '\n"
     ]
    },
    {
     "name": "stdout",
     "output_type": "stream",
     "text": [
      "{'transform': <cartopy.crs.PlateCarree object at 0x7ff1d3f7b220>, 'color': 'w'}\n"
     ]
    },
    {
     "name": "stderr",
     "output_type": "stream",
     "text": [
      "/home/jtomf/miniconda3/lib/python3.9/site-packages/cartopy/mpl/gridliner.py:741: UserWarning: The labels of this gridliner do not belong to the gridliner axes\n",
      "  warnings.warn('The labels of this gridliner do not belong to '\n"
     ]
    },
    {
     "name": "stdout",
     "output_type": "stream",
     "text": [
      "{'transform': <cartopy.crs.PlateCarree object at 0x7ff1d375e450>, 'color': 'w'}\n"
     ]
    },
    {
     "name": "stderr",
     "output_type": "stream",
     "text": [
      "/home/jtomf/miniconda3/lib/python3.9/site-packages/cartopy/mpl/gridliner.py:741: UserWarning: The labels of this gridliner do not belong to the gridliner axes\n",
      "  warnings.warn('The labels of this gridliner do not belong to '\n"
     ]
    },
    {
     "name": "stdout",
     "output_type": "stream",
     "text": [
      "{'transform': <cartopy.crs.PlateCarree object at 0x7ff1d3bae090>, 'color': 'w'}\n"
     ]
    },
    {
     "name": "stderr",
     "output_type": "stream",
     "text": [
      "/home/jtomf/miniconda3/lib/python3.9/site-packages/cartopy/mpl/gridliner.py:741: UserWarning: The labels of this gridliner do not belong to the gridliner axes\n",
      "  warnings.warn('The labels of this gridliner do not belong to '\n"
     ]
    },
    {
     "name": "stdout",
     "output_type": "stream",
     "text": [
      "{'transform': <cartopy.crs.PlateCarree object at 0x7ff1d3c7a0e0>, 'color': 'w'}\n"
     ]
    },
    {
     "name": "stderr",
     "output_type": "stream",
     "text": [
      "/home/jtomf/miniconda3/lib/python3.9/site-packages/cartopy/mpl/gridliner.py:741: UserWarning: The labels of this gridliner do not belong to the gridliner axes\n",
      "  warnings.warn('The labels of this gridliner do not belong to '\n"
     ]
    },
    {
     "name": "stdout",
     "output_type": "stream",
     "text": [
      "{'transform': <cartopy.crs.PlateCarree object at 0x7ff1d384b270>, 'color': 'w'}\n"
     ]
    },
    {
     "name": "stderr",
     "output_type": "stream",
     "text": [
      "/home/jtomf/miniconda3/lib/python3.9/site-packages/cartopy/mpl/gridliner.py:741: UserWarning: The labels of this gridliner do not belong to the gridliner axes\n",
      "  warnings.warn('The labels of this gridliner do not belong to '\n"
     ]
    },
    {
     "name": "stdout",
     "output_type": "stream",
     "text": [
      "{'transform': <cartopy.crs.PlateCarree object at 0x7ff1d2e6e4f0>, 'color': 'w'}\n",
      "{'transform': <cartopy.crs.PlateCarree object at 0x7ff1d361f9a0>, 'color': 'w'}\n"
     ]
    },
    {
     "name": "stderr",
     "output_type": "stream",
     "text": [
      "/home/jtomf/miniconda3/lib/python3.9/site-packages/cartopy/mpl/gridliner.py:741: UserWarning: The labels of this gridliner do not belong to the gridliner axes\n",
      "  warnings.warn('The labels of this gridliner do not belong to '\n"
     ]
    },
    {
     "name": "stdout",
     "output_type": "stream",
     "text": [
      "{'transform': <cartopy.crs.PlateCarree object at 0x7ff1d390b540>, 'color': 'w'}\n"
     ]
    },
    {
     "name": "stderr",
     "output_type": "stream",
     "text": [
      "/home/jtomf/miniconda3/lib/python3.9/site-packages/cartopy/mpl/gridliner.py:741: UserWarning: The labels of this gridliner do not belong to the gridliner axes\n",
      "  warnings.warn('The labels of this gridliner do not belong to '\n"
     ]
    },
    {
     "name": "stdout",
     "output_type": "stream",
     "text": [
      "{'transform': <cartopy.crs.PlateCarree object at 0x7ff1d31da450>, 'color': 'w'}\n",
      "{'transform': <cartopy.crs.PlateCarree object at 0x7ff1d3db9450>, 'color': 'w'}\n"
     ]
    },
    {
     "name": "stderr",
     "output_type": "stream",
     "text": [
      "/home/jtomf/miniconda3/lib/python3.9/site-packages/cartopy/mpl/gridliner.py:741: UserWarning: The labels of this gridliner do not belong to the gridliner axes\n",
      "  warnings.warn('The labels of this gridliner do not belong to '\n"
     ]
    },
    {
     "name": "stdout",
     "output_type": "stream",
     "text": [
      "{'transform': <cartopy.crs.PlateCarree object at 0x7ff1d1f6df90>, 'color': 'w'}\n"
     ]
    },
    {
     "name": "stderr",
     "output_type": "stream",
     "text": [
      "/home/jtomf/miniconda3/lib/python3.9/site-packages/cartopy/mpl/gridliner.py:741: UserWarning: The labels of this gridliner do not belong to the gridliner axes\n",
      "  warnings.warn('The labels of this gridliner do not belong to '\n"
     ]
    },
    {
     "name": "stdout",
     "output_type": "stream",
     "text": [
      "{'transform': <cartopy.crs.PlateCarree object at 0x7ff1d3b844a0>, 'color': 'w'}\n",
      "{'transform': <cartopy.crs.PlateCarree object at 0x7ff1d1f71810>, 'color': 'w'}\n"
     ]
    },
    {
     "name": "stderr",
     "output_type": "stream",
     "text": [
      "/home/jtomf/miniconda3/lib/python3.9/site-packages/cartopy/mpl/gridliner.py:741: UserWarning: The labels of this gridliner do not belong to the gridliner axes\n",
      "  warnings.warn('The labels of this gridliner do not belong to '\n"
     ]
    },
    {
     "name": "stdout",
     "output_type": "stream",
     "text": [
      "{'transform': <cartopy.crs.PlateCarree object at 0x7ff1d3daaea0>, 'color': 'w'}\n"
     ]
    },
    {
     "name": "stderr",
     "output_type": "stream",
     "text": [
      "/home/jtomf/miniconda3/lib/python3.9/site-packages/cartopy/mpl/gridliner.py:741: UserWarning: The labels of this gridliner do not belong to the gridliner axes\n",
      "  warnings.warn('The labels of this gridliner do not belong to '\n"
     ]
    },
    {
     "name": "stdout",
     "output_type": "stream",
     "text": [
      "{'transform': <cartopy.crs.PlateCarree object at 0x7ff1d37614f0>, 'color': 'w'}\n"
     ]
    },
    {
     "name": "stderr",
     "output_type": "stream",
     "text": [
      "/home/jtomf/miniconda3/lib/python3.9/site-packages/cartopy/mpl/gridliner.py:741: UserWarning: The labels of this gridliner do not belong to the gridliner axes\n",
      "  warnings.warn('The labels of this gridliner do not belong to '\n"
     ]
    },
    {
     "name": "stdout",
     "output_type": "stream",
     "text": [
      "{'transform': <cartopy.crs.PlateCarree object at 0x7ff1d3a61d10>, 'color': 'w'}\n"
     ]
    },
    {
     "name": "stderr",
     "output_type": "stream",
     "text": [
      "/home/jtomf/miniconda3/lib/python3.9/site-packages/cartopy/mpl/gridliner.py:741: UserWarning: The labels of this gridliner do not belong to the gridliner axes\n",
      "  warnings.warn('The labels of this gridliner do not belong to '\n"
     ]
    },
    {
     "name": "stdout",
     "output_type": "stream",
     "text": [
      "{'transform': <cartopy.crs.PlateCarree object at 0x7ff1d1f7e360>, 'color': 'w'}\n"
     ]
    },
    {
     "name": "stderr",
     "output_type": "stream",
     "text": [
      "/home/jtomf/miniconda3/lib/python3.9/site-packages/cartopy/mpl/gridliner.py:741: UserWarning: The labels of this gridliner do not belong to the gridliner axes\n",
      "  warnings.warn('The labels of this gridliner do not belong to '\n"
     ]
    },
    {
     "name": "stdout",
     "output_type": "stream",
     "text": [
      "{'transform': <cartopy.crs.PlateCarree object at 0x7ff1d3ed84f0>, 'color': 'w'}\n"
     ]
    },
    {
     "name": "stderr",
     "output_type": "stream",
     "text": [
      "/home/jtomf/miniconda3/lib/python3.9/site-packages/cartopy/mpl/gridliner.py:741: UserWarning: The labels of this gridliner do not belong to the gridliner axes\n",
      "  warnings.warn('The labels of this gridliner do not belong to '\n"
     ]
    },
    {
     "name": "stdout",
     "output_type": "stream",
     "text": [
      "{'transform': <cartopy.crs.PlateCarree object at 0x7ff1d1f5a860>, 'color': 'w'}\n"
     ]
    },
    {
     "name": "stderr",
     "output_type": "stream",
     "text": [
      "/home/jtomf/miniconda3/lib/python3.9/site-packages/cartopy/mpl/gridliner.py:741: UserWarning: The labels of this gridliner do not belong to the gridliner axes\n",
      "  warnings.warn('The labels of this gridliner do not belong to '\n"
     ]
    },
    {
     "name": "stdout",
     "output_type": "stream",
     "text": [
      "{'transform': <cartopy.crs.PlateCarree object at 0x7ff1d3769130>, 'color': 'w'}\n"
     ]
    },
    {
     "name": "stderr",
     "output_type": "stream",
     "text": [
      "/home/jtomf/miniconda3/lib/python3.9/site-packages/cartopy/mpl/gridliner.py:741: UserWarning: The labels of this gridliner do not belong to the gridliner axes\n",
      "  warnings.warn('The labels of this gridliner do not belong to '\n"
     ]
    },
    {
     "name": "stdout",
     "output_type": "stream",
     "text": [
      "{'transform': <cartopy.crs.PlateCarree object at 0x7ff1d398f360>, 'color': 'w'}\n"
     ]
    },
    {
     "name": "stderr",
     "output_type": "stream",
     "text": [
      "/home/jtomf/miniconda3/lib/python3.9/site-packages/cartopy/mpl/gridliner.py:741: UserWarning: The labels of this gridliner do not belong to the gridliner axes\n",
      "  warnings.warn('The labels of this gridliner do not belong to '\n"
     ]
    },
    {
     "name": "stdout",
     "output_type": "stream",
     "text": [
      "{'transform': <cartopy.crs.PlateCarree object at 0x7ff1d811ecc0>, 'color': 'w'}\n"
     ]
    },
    {
     "name": "stderr",
     "output_type": "stream",
     "text": [
      "/home/jtomf/miniconda3/lib/python3.9/site-packages/cartopy/mpl/gridliner.py:741: UserWarning: The labels of this gridliner do not belong to the gridliner axes\n",
      "  warnings.warn('The labels of this gridliner do not belong to '\n"
     ]
    },
    {
     "name": "stdout",
     "output_type": "stream",
     "text": [
      "{'transform': <cartopy.crs.PlateCarree object at 0x7ff1d39c2090>, 'color': 'w'}\n"
     ]
    },
    {
     "name": "stderr",
     "output_type": "stream",
     "text": [
      "/home/jtomf/miniconda3/lib/python3.9/site-packages/cartopy/mpl/gridliner.py:741: UserWarning: The labels of this gridliner do not belong to the gridliner axes\n",
      "  warnings.warn('The labels of this gridliner do not belong to '\n"
     ]
    },
    {
     "name": "stdout",
     "output_type": "stream",
     "text": [
      "{'transform': <cartopy.crs.PlateCarree object at 0x7ff1d38ed220>, 'color': 'w'}\n"
     ]
    },
    {
     "name": "stderr",
     "output_type": "stream",
     "text": [
      "/home/jtomf/miniconda3/lib/python3.9/site-packages/cartopy/mpl/gridliner.py:741: UserWarning: The labels of this gridliner do not belong to the gridliner axes\n",
      "  warnings.warn('The labels of this gridliner do not belong to '\n"
     ]
    },
    {
     "name": "stdout",
     "output_type": "stream",
     "text": [
      "{'transform': <cartopy.crs.PlateCarree object at 0x7ff1d3efaf90>, 'color': 'w'}\n",
      "{'transform': <cartopy.crs.PlateCarree object at 0x7ff1d31358b0>, 'color': 'w'}\n"
     ]
    },
    {
     "name": "stderr",
     "output_type": "stream",
     "text": [
      "/home/jtomf/miniconda3/lib/python3.9/site-packages/cartopy/mpl/gridliner.py:741: UserWarning: The labels of this gridliner do not belong to the gridliner axes\n",
      "  warnings.warn('The labels of this gridliner do not belong to '\n"
     ]
    },
    {
     "name": "stdout",
     "output_type": "stream",
     "text": [
      "{'transform': <cartopy.crs.PlateCarree object at 0x7ff1d3ece4f0>, 'color': 'w'}\n"
     ]
    },
    {
     "name": "stderr",
     "output_type": "stream",
     "text": [
      "/home/jtomf/miniconda3/lib/python3.9/site-packages/cartopy/mpl/gridliner.py:741: UserWarning: The labels of this gridliner do not belong to the gridliner axes\n",
      "  warnings.warn('The labels of this gridliner do not belong to '\n"
     ]
    },
    {
     "name": "stdout",
     "output_type": "stream",
     "text": [
      "{'transform': <cartopy.crs.PlateCarree object at 0x7ff1d3a8f400>, 'color': 'w'}\n",
      "{'transform': <cartopy.crs.PlateCarree object at 0x7ff1d3f0c1d0>, 'color': 'w'}\n"
     ]
    },
    {
     "name": "stderr",
     "output_type": "stream",
     "text": [
      "/home/jtomf/miniconda3/lib/python3.9/site-packages/cartopy/mpl/gridliner.py:741: UserWarning: The labels of this gridliner do not belong to the gridliner axes\n",
      "  warnings.warn('The labels of this gridliner do not belong to '\n"
     ]
    },
    {
     "name": "stdout",
     "output_type": "stream",
     "text": [
      "{'transform': <cartopy.crs.PlateCarree object at 0x7ff1d3954f90>, 'color': 'w'}\n"
     ]
    },
    {
     "name": "stderr",
     "output_type": "stream",
     "text": [
      "/home/jtomf/miniconda3/lib/python3.9/site-packages/cartopy/mpl/gridliner.py:741: UserWarning: The labels of this gridliner do not belong to the gridliner axes\n",
      "  warnings.warn('The labels of this gridliner do not belong to '\n"
     ]
    },
    {
     "name": "stdout",
     "output_type": "stream",
     "text": [
      "{'transform': <cartopy.crs.PlateCarree object at 0x7ff1d3a014f0>, 'color': 'w'}\n",
      "{'transform': <cartopy.crs.PlateCarree object at 0x7ff1d3d914a0>, 'color': 'w'}\n"
     ]
    },
    {
     "name": "stderr",
     "output_type": "stream",
     "text": [
      "/home/jtomf/miniconda3/lib/python3.9/site-packages/cartopy/mpl/gridliner.py:741: UserWarning: The labels of this gridliner do not belong to the gridliner axes\n",
      "  warnings.warn('The labels of this gridliner do not belong to '\n"
     ]
    },
    {
     "name": "stdout",
     "output_type": "stream",
     "text": [
      "{'transform': <cartopy.crs.PlateCarree object at 0x7ff1d3d17c70>, 'color': 'w'}\n"
     ]
    },
    {
     "name": "stderr",
     "output_type": "stream",
     "text": [
      "/home/jtomf/miniconda3/lib/python3.9/site-packages/cartopy/mpl/gridliner.py:741: UserWarning: The labels of this gridliner do not belong to the gridliner axes\n",
      "  warnings.warn('The labels of this gridliner do not belong to '\n"
     ]
    },
    {
     "name": "stdout",
     "output_type": "stream",
     "text": [
      "{'transform': <cartopy.crs.PlateCarree object at 0x7ff1d3ae7450>, 'color': 'w'}\n"
     ]
    },
    {
     "name": "stderr",
     "output_type": "stream",
     "text": [
      "/home/jtomf/miniconda3/lib/python3.9/site-packages/cartopy/mpl/gridliner.py:741: UserWarning: The labels of this gridliner do not belong to the gridliner axes\n",
      "  warnings.warn('The labels of this gridliner do not belong to '\n"
     ]
    },
    {
     "name": "stdout",
     "output_type": "stream",
     "text": [
      "{'transform': <cartopy.crs.PlateCarree object at 0x7ff1d3da39f0>, 'color': 'w'}\n"
     ]
    },
    {
     "name": "stderr",
     "output_type": "stream",
     "text": [
      "/home/jtomf/miniconda3/lib/python3.9/site-packages/cartopy/mpl/gridliner.py:741: UserWarning: The labels of this gridliner do not belong to the gridliner axes\n",
      "  warnings.warn('The labels of this gridliner do not belong to '\n"
     ]
    },
    {
     "name": "stdout",
     "output_type": "stream",
     "text": [
      "{'transform': <cartopy.crs.PlateCarree object at 0x7ff1d3bf22c0>, 'color': 'w'}\n"
     ]
    },
    {
     "name": "stderr",
     "output_type": "stream",
     "text": [
      "/home/jtomf/miniconda3/lib/python3.9/site-packages/cartopy/mpl/gridliner.py:741: UserWarning: The labels of this gridliner do not belong to the gridliner axes\n",
      "  warnings.warn('The labels of this gridliner do not belong to '\n"
     ]
    },
    {
     "name": "stdout",
     "output_type": "stream",
     "text": [
      "{'transform': <cartopy.crs.PlateCarree object at 0x7ff1d310d3b0>, 'color': 'w'}\n"
     ]
    },
    {
     "name": "stderr",
     "output_type": "stream",
     "text": [
      "/home/jtomf/miniconda3/lib/python3.9/site-packages/cartopy/mpl/gridliner.py:741: UserWarning: The labels of this gridliner do not belong to the gridliner axes\n",
      "  warnings.warn('The labels of this gridliner do not belong to '\n"
     ]
    },
    {
     "name": "stdout",
     "output_type": "stream",
     "text": [
      "{'transform': <cartopy.crs.PlateCarree object at 0x7ff1d3f679f0>, 'color': 'w'}\n"
     ]
    },
    {
     "name": "stderr",
     "output_type": "stream",
     "text": [
      "/home/jtomf/miniconda3/lib/python3.9/site-packages/cartopy/mpl/gridliner.py:741: UserWarning: The labels of this gridliner do not belong to the gridliner axes\n",
      "  warnings.warn('The labels of this gridliner do not belong to '\n"
     ]
    },
    {
     "name": "stdout",
     "output_type": "stream",
     "text": [
      "{'transform': <cartopy.crs.PlateCarree object at 0x7ff1d3f0d220>, 'color': 'w'}\n"
     ]
    },
    {
     "name": "stderr",
     "output_type": "stream",
     "text": [
      "/home/jtomf/miniconda3/lib/python3.9/site-packages/cartopy/mpl/gridliner.py:741: UserWarning: The labels of this gridliner do not belong to the gridliner axes\n",
      "  warnings.warn('The labels of this gridliner do not belong to '\n"
     ]
    },
    {
     "name": "stdout",
     "output_type": "stream",
     "text": [
      "{'transform': <cartopy.crs.PlateCarree object at 0x7ff1d399b3b0>, 'color': 'w'}\n"
     ]
    },
    {
     "name": "stderr",
     "output_type": "stream",
     "text": [
      "/home/jtomf/miniconda3/lib/python3.9/site-packages/cartopy/mpl/gridliner.py:741: UserWarning: The labels of this gridliner do not belong to the gridliner axes\n",
      "  warnings.warn('The labels of this gridliner do not belong to '\n"
     ]
    },
    {
     "name": "stdout",
     "output_type": "stream",
     "text": [
      "{'transform': <cartopy.crs.PlateCarree object at 0x7ff1d2e7ab80>, 'color': 'w'}\n"
     ]
    },
    {
     "name": "stderr",
     "output_type": "stream",
     "text": [
      "/home/jtomf/miniconda3/lib/python3.9/site-packages/cartopy/mpl/gridliner.py:741: UserWarning: The labels of this gridliner do not belong to the gridliner axes\n",
      "  warnings.warn('The labels of this gridliner do not belong to '\n"
     ]
    },
    {
     "name": "stdout",
     "output_type": "stream",
     "text": [
      "{'transform': <cartopy.crs.PlateCarree object at 0x7ff1d3c53040>, 'color': 'w'}\n"
     ]
    },
    {
     "name": "stderr",
     "output_type": "stream",
     "text": [
      "/home/jtomf/miniconda3/lib/python3.9/site-packages/cartopy/mpl/gridliner.py:741: UserWarning: The labels of this gridliner do not belong to the gridliner axes\n",
      "  warnings.warn('The labels of this gridliner do not belong to '\n"
     ]
    },
    {
     "name": "stdout",
     "output_type": "stream",
     "text": [
      "{'transform': <cartopy.crs.PlateCarree object at 0x7ff1d3f541d0>, 'color': 'w'}\n"
     ]
    },
    {
     "name": "stderr",
     "output_type": "stream",
     "text": [
      "/home/jtomf/miniconda3/lib/python3.9/site-packages/cartopy/mpl/gridliner.py:741: UserWarning: The labels of this gridliner do not belong to the gridliner axes\n",
      "  warnings.warn('The labels of this gridliner do not belong to '\n"
     ]
    },
    {
     "name": "stdout",
     "output_type": "stream",
     "text": [
      "{'transform': <cartopy.crs.PlateCarree object at 0x7ff1d3f5c1d0>, 'color': 'w'}\n",
      "{'transform': <cartopy.crs.PlateCarree object at 0x7ff1d359a270>, 'color': 'w'}\n"
     ]
    },
    {
     "name": "stderr",
     "output_type": "stream",
     "text": [
      "/home/jtomf/miniconda3/lib/python3.9/site-packages/cartopy/mpl/gridliner.py:741: UserWarning: The labels of this gridliner do not belong to the gridliner axes\n",
      "  warnings.warn('The labels of this gridliner do not belong to '\n"
     ]
    },
    {
     "name": "stdout",
     "output_type": "stream",
     "text": [
      "{'transform': <cartopy.crs.PlateCarree object at 0x7ff1d3e39130>, 'color': 'w'}\n"
     ]
    },
    {
     "name": "stderr",
     "output_type": "stream",
     "text": [
      "/home/jtomf/miniconda3/lib/python3.9/site-packages/cartopy/mpl/gridliner.py:741: UserWarning: The labels of this gridliner do not belong to the gridliner axes\n",
      "  warnings.warn('The labels of this gridliner do not belong to '\n"
     ]
    },
    {
     "name": "stdout",
     "output_type": "stream",
     "text": [
      "{'transform': <cartopy.crs.PlateCarree object at 0x7ff1d38114f0>, 'color': 'w'}\n",
      "{'transform': <cartopy.crs.PlateCarree object at 0x7ff1d3e030e0>, 'color': 'w'}\n"
     ]
    },
    {
     "name": "stderr",
     "output_type": "stream",
     "text": [
      "/home/jtomf/miniconda3/lib/python3.9/site-packages/cartopy/mpl/gridliner.py:741: UserWarning: The labels of this gridliner do not belong to the gridliner axes\n",
      "  warnings.warn('The labels of this gridliner do not belong to '\n"
     ]
    },
    {
     "name": "stdout",
     "output_type": "stream",
     "text": [
      "{'transform': <cartopy.crs.PlateCarree object at 0x7ff1d3c02f40>, 'color': 'w'}\n"
     ]
    },
    {
     "name": "stderr",
     "output_type": "stream",
     "text": [
      "/home/jtomf/miniconda3/lib/python3.9/site-packages/cartopy/mpl/gridliner.py:741: UserWarning: The labels of this gridliner do not belong to the gridliner axes\n",
      "  warnings.warn('The labels of this gridliner do not belong to '\n"
     ]
    },
    {
     "name": "stdout",
     "output_type": "stream",
     "text": [
      "{'transform': <cartopy.crs.PlateCarree object at 0x7ff1d3e88450>, 'color': 'w'}\n",
      "{'transform': <cartopy.crs.PlateCarree object at 0x7ff1d3b30900>, 'color': 'w'}\n"
     ]
    },
    {
     "name": "stderr",
     "output_type": "stream",
     "text": [
      "/home/jtomf/miniconda3/lib/python3.9/site-packages/cartopy/mpl/gridliner.py:741: UserWarning: The labels of this gridliner do not belong to the gridliner axes\n",
      "  warnings.warn('The labels of this gridliner do not belong to '\n"
     ]
    },
    {
     "name": "stdout",
     "output_type": "stream",
     "text": [
      "{'transform': <cartopy.crs.PlateCarree object at 0x7ff1d3f32c70>, 'color': 'w'}\n"
     ]
    },
    {
     "name": "stderr",
     "output_type": "stream",
     "text": [
      "/home/jtomf/miniconda3/lib/python3.9/site-packages/cartopy/mpl/gridliner.py:741: UserWarning: The labels of this gridliner do not belong to the gridliner axes\n",
      "  warnings.warn('The labels of this gridliner do not belong to '\n"
     ]
    },
    {
     "name": "stdout",
     "output_type": "stream",
     "text": [
      "{'transform': <cartopy.crs.PlateCarree object at 0x7ff1d3ae8450>, 'color': 'w'}\n"
     ]
    },
    {
     "name": "stderr",
     "output_type": "stream",
     "text": [
      "/home/jtomf/miniconda3/lib/python3.9/site-packages/cartopy/mpl/gridliner.py:741: UserWarning: The labels of this gridliner do not belong to the gridliner axes\n",
      "  warnings.warn('The labels of this gridliner do not belong to '\n"
     ]
    },
    {
     "name": "stdout",
     "output_type": "stream",
     "text": [
      "{'transform': <cartopy.crs.PlateCarree object at 0x7ff1d3a01040>, 'color': 'w'}\n"
     ]
    },
    {
     "name": "stderr",
     "output_type": "stream",
     "text": [
      "/home/jtomf/miniconda3/lib/python3.9/site-packages/cartopy/mpl/gridliner.py:741: UserWarning: The labels of this gridliner do not belong to the gridliner axes\n",
      "  warnings.warn('The labels of this gridliner do not belong to '\n"
     ]
    },
    {
     "name": "stdout",
     "output_type": "stream",
     "text": [
      "{'transform': <cartopy.crs.PlateCarree object at 0x7ff1d3fa2220>, 'color': 'w'}\n"
     ]
    },
    {
     "name": "stderr",
     "output_type": "stream",
     "text": [
      "/home/jtomf/miniconda3/lib/python3.9/site-packages/cartopy/mpl/gridliner.py:741: UserWarning: The labels of this gridliner do not belong to the gridliner axes\n",
      "  warnings.warn('The labels of this gridliner do not belong to '\n"
     ]
    },
    {
     "name": "stdout",
     "output_type": "stream",
     "text": [
      "{'transform': <cartopy.crs.PlateCarree object at 0x7ff1d3d7d400>, 'color': 'w'}\n"
     ]
    },
    {
     "name": "stderr",
     "output_type": "stream",
     "text": [
      "/home/jtomf/miniconda3/lib/python3.9/site-packages/cartopy/mpl/gridliner.py:741: UserWarning: The labels of this gridliner do not belong to the gridliner axes\n",
      "  warnings.warn('The labels of this gridliner do not belong to '\n"
     ]
    },
    {
     "name": "stdout",
     "output_type": "stream",
     "text": [
      "{'transform': <cartopy.crs.PlateCarree object at 0x7ff1d3f0bd60>, 'color': 'w'}\n"
     ]
    },
    {
     "name": "stderr",
     "output_type": "stream",
     "text": [
      "/home/jtomf/miniconda3/lib/python3.9/site-packages/cartopy/mpl/gridliner.py:741: UserWarning: The labels of this gridliner do not belong to the gridliner axes\n",
      "  warnings.warn('The labels of this gridliner do not belong to '\n"
     ]
    },
    {
     "name": "stdout",
     "output_type": "stream",
     "text": [
      "{'transform': <cartopy.crs.PlateCarree object at 0x7ff1d3da41d0>, 'color': 'w'}\n"
     ]
    },
    {
     "name": "stderr",
     "output_type": "stream",
     "text": [
      "/home/jtomf/miniconda3/lib/python3.9/site-packages/cartopy/mpl/gridliner.py:741: UserWarning: The labels of this gridliner do not belong to the gridliner axes\n",
      "  warnings.warn('The labels of this gridliner do not belong to '\n"
     ]
    },
    {
     "name": "stdout",
     "output_type": "stream",
     "text": [
      "{'transform': <cartopy.crs.PlateCarree object at 0x7ff1d3acc400>, 'color': 'w'}\n"
     ]
    },
    {
     "name": "stderr",
     "output_type": "stream",
     "text": [
      "/home/jtomf/miniconda3/lib/python3.9/site-packages/cartopy/mpl/gridliner.py:741: UserWarning: The labels of this gridliner do not belong to the gridliner axes\n",
      "  warnings.warn('The labels of this gridliner do not belong to '\n"
     ]
    },
    {
     "name": "stdout",
     "output_type": "stream",
     "text": [
      "{'transform': <cartopy.crs.PlateCarree object at 0x7ff1d3f73e00>, 'color': 'w'}\n"
     ]
    },
    {
     "name": "stderr",
     "output_type": "stream",
     "text": [
      "/home/jtomf/miniconda3/lib/python3.9/site-packages/cartopy/mpl/gridliner.py:741: UserWarning: The labels of this gridliner do not belong to the gridliner axes\n",
      "  warnings.warn('The labels of this gridliner do not belong to '\n"
     ]
    },
    {
     "name": "stdout",
     "output_type": "stream",
     "text": [
      "{'transform': <cartopy.crs.PlateCarree object at 0x7ff1d3dde090>, 'color': 'w'}\n"
     ]
    },
    {
     "name": "stderr",
     "output_type": "stream",
     "text": [
      "/home/jtomf/miniconda3/lib/python3.9/site-packages/cartopy/mpl/gridliner.py:741: UserWarning: The labels of this gridliner do not belong to the gridliner axes\n",
      "  warnings.warn('The labels of this gridliner do not belong to '\n"
     ]
    },
    {
     "name": "stdout",
     "output_type": "stream",
     "text": [
      "{'transform': <cartopy.crs.PlateCarree object at 0x7ff1d387b220>, 'color': 'w'}\n"
     ]
    },
    {
     "name": "stderr",
     "output_type": "stream",
     "text": [
      "/home/jtomf/miniconda3/lib/python3.9/site-packages/cartopy/mpl/gridliner.py:741: UserWarning: The labels of this gridliner do not belong to the gridliner axes\n",
      "  warnings.warn('The labels of this gridliner do not belong to '\n"
     ]
    },
    {
     "name": "stdout",
     "output_type": "stream",
     "text": [
      "{'transform': <cartopy.crs.PlateCarree object at 0x7ff1d31f4d60>, 'color': 'w'}\n",
      "{'transform': <cartopy.crs.PlateCarree object at 0x7ff1d3ca6f40>, 'color': 'w'}\n"
     ]
    },
    {
     "name": "stderr",
     "output_type": "stream",
     "text": [
      "/home/jtomf/miniconda3/lib/python3.9/site-packages/cartopy/mpl/gridliner.py:741: UserWarning: The labels of this gridliner do not belong to the gridliner axes\n",
      "  warnings.warn('The labels of this gridliner do not belong to '\n"
     ]
    },
    {
     "name": "stdout",
     "output_type": "stream",
     "text": [
      "{'transform': <cartopy.crs.PlateCarree object at 0x7ff1d31404f0>, 'color': 'w'}\n"
     ]
    },
    {
     "name": "stderr",
     "output_type": "stream",
     "text": [
      "/home/jtomf/miniconda3/lib/python3.9/site-packages/cartopy/mpl/gridliner.py:741: UserWarning: The labels of this gridliner do not belong to the gridliner axes\n",
      "  warnings.warn('The labels of this gridliner do not belong to '\n"
     ]
    },
    {
     "name": "stdout",
     "output_type": "stream",
     "text": [
      "{'transform': <cartopy.crs.PlateCarree object at 0x7ff1d3ef3400>, 'color': 'w'}\n",
      "{'transform': <cartopy.crs.PlateCarree object at 0x7ff1d3f73180>, 'color': 'w'}\n"
     ]
    },
    {
     "name": "stderr",
     "output_type": "stream",
     "text": [
      "/home/jtomf/miniconda3/lib/python3.9/site-packages/cartopy/mpl/gridliner.py:741: UserWarning: The labels of this gridliner do not belong to the gridliner axes\n",
      "  warnings.warn('The labels of this gridliner do not belong to '\n"
     ]
    },
    {
     "name": "stdout",
     "output_type": "stream",
     "text": [
      "{'transform': <cartopy.crs.PlateCarree object at 0x7ff1d389df90>, 'color': 'w'}\n"
     ]
    },
    {
     "name": "stderr",
     "output_type": "stream",
     "text": [
      "/home/jtomf/miniconda3/lib/python3.9/site-packages/cartopy/mpl/gridliner.py:741: UserWarning: The labels of this gridliner do not belong to the gridliner axes\n",
      "  warnings.warn('The labels of this gridliner do not belong to '\n"
     ]
    },
    {
     "name": "stdout",
     "output_type": "stream",
     "text": [
      "{'transform': <cartopy.crs.PlateCarree object at 0x7ff1d35e84a0>, 'color': 'w'}\n",
      "{'transform': <cartopy.crs.PlateCarree object at 0x7ff1d38a7180>, 'color': 'w'}\n"
     ]
    },
    {
     "name": "stderr",
     "output_type": "stream",
     "text": [
      "/home/jtomf/miniconda3/lib/python3.9/site-packages/cartopy/mpl/gridliner.py:741: UserWarning: The labels of this gridliner do not belong to the gridliner axes\n",
      "  warnings.warn('The labels of this gridliner do not belong to '\n"
     ]
    },
    {
     "name": "stdout",
     "output_type": "stream",
     "text": [
      "{'transform': <cartopy.crs.PlateCarree object at 0x7ff1d2b10ea0>, 'color': 'w'}\n"
     ]
    },
    {
     "name": "stderr",
     "output_type": "stream",
     "text": [
      "/home/jtomf/miniconda3/lib/python3.9/site-packages/cartopy/mpl/gridliner.py:741: UserWarning: The labels of this gridliner do not belong to the gridliner axes\n",
      "  warnings.warn('The labels of this gridliner do not belong to '\n"
     ]
    },
    {
     "name": "stdout",
     "output_type": "stream",
     "text": [
      "{'transform': <cartopy.crs.PlateCarree object at 0x7ff1d3a67450>, 'color': 'w'}\n"
     ]
    },
    {
     "name": "stderr",
     "output_type": "stream",
     "text": [
      "/home/jtomf/miniconda3/lib/python3.9/site-packages/cartopy/mpl/gridliner.py:741: UserWarning: The labels of this gridliner do not belong to the gridliner axes\n",
      "  warnings.warn('The labels of this gridliner do not belong to '\n"
     ]
    },
    {
     "name": "stdout",
     "output_type": "stream",
     "text": [
      "{'transform': <cartopy.crs.PlateCarree object at 0x7ff1d39123b0>, 'color': 'w'}\n"
     ]
    },
    {
     "name": "stderr",
     "output_type": "stream",
     "text": [
      "/home/jtomf/miniconda3/lib/python3.9/site-packages/cartopy/mpl/gridliner.py:741: UserWarning: The labels of this gridliner do not belong to the gridliner axes\n",
      "  warnings.warn('The labels of this gridliner do not belong to '\n"
     ]
    },
    {
     "name": "stdout",
     "output_type": "stream",
     "text": [
      "{'transform': <cartopy.crs.PlateCarree object at 0x7ff1d3ed8270>, 'color': 'w'}\n"
     ]
    },
    {
     "name": "stderr",
     "output_type": "stream",
     "text": [
      "/home/jtomf/miniconda3/lib/python3.9/site-packages/cartopy/mpl/gridliner.py:741: UserWarning: The labels of this gridliner do not belong to the gridliner axes\n",
      "  warnings.warn('The labels of this gridliner do not belong to '\n"
     ]
    },
    {
     "name": "stdout",
     "output_type": "stream",
     "text": [
      "{'transform': <cartopy.crs.PlateCarree object at 0x7ff1d3b98450>, 'color': 'w'}\n"
     ]
    },
    {
     "name": "stderr",
     "output_type": "stream",
     "text": [
      "/home/jtomf/miniconda3/lib/python3.9/site-packages/cartopy/mpl/gridliner.py:741: UserWarning: The labels of this gridliner do not belong to the gridliner axes\n",
      "  warnings.warn('The labels of this gridliner do not belong to '\n"
     ]
    },
    {
     "name": "stdout",
     "output_type": "stream",
     "text": [
      "{'transform': <cartopy.crs.PlateCarree object at 0x7ff1d3dcc900>, 'color': 'w'}\n"
     ]
    },
    {
     "name": "stderr",
     "output_type": "stream",
     "text": [
      "/home/jtomf/miniconda3/lib/python3.9/site-packages/cartopy/mpl/gridliner.py:741: UserWarning: The labels of this gridliner do not belong to the gridliner axes\n",
      "  warnings.warn('The labels of this gridliner do not belong to '\n"
     ]
    },
    {
     "name": "stdout",
     "output_type": "stream",
     "text": [
      "{'transform': <cartopy.crs.PlateCarree object at 0x7ff1d3f44130>, 'color': 'w'}\n"
     ]
    },
    {
     "name": "stderr",
     "output_type": "stream",
     "text": [
      "/home/jtomf/miniconda3/lib/python3.9/site-packages/cartopy/mpl/gridliner.py:741: UserWarning: The labels of this gridliner do not belong to the gridliner axes\n",
      "  warnings.warn('The labels of this gridliner do not belong to '\n"
     ]
    },
    {
     "name": "stdout",
     "output_type": "stream",
     "text": [
      "{'transform': <cartopy.crs.PlateCarree object at 0x7ff1d394f360>, 'color': 'w'}\n"
     ]
    },
    {
     "name": "stderr",
     "output_type": "stream",
     "text": [
      "/home/jtomf/miniconda3/lib/python3.9/site-packages/cartopy/mpl/gridliner.py:741: UserWarning: The labels of this gridliner do not belong to the gridliner axes\n",
      "  warnings.warn('The labels of this gridliner do not belong to '\n"
     ]
    },
    {
     "name": "stdout",
     "output_type": "stream",
     "text": [
      "{'transform': <cartopy.crs.PlateCarree object at 0x7ff1d1f4e860>, 'color': 'w'}\n"
     ]
    },
    {
     "name": "stderr",
     "output_type": "stream",
     "text": [
      "/home/jtomf/miniconda3/lib/python3.9/site-packages/cartopy/mpl/gridliner.py:741: UserWarning: The labels of this gridliner do not belong to the gridliner axes\n",
      "  warnings.warn('The labels of this gridliner do not belong to '\n"
     ]
    },
    {
     "name": "stdout",
     "output_type": "stream",
     "text": [
      "{'transform': <cartopy.crs.PlateCarree object at 0x7ff1d2e95090>, 'color': 'w'}\n"
     ]
    },
    {
     "name": "stderr",
     "output_type": "stream",
     "text": [
      "/home/jtomf/miniconda3/lib/python3.9/site-packages/cartopy/mpl/gridliner.py:741: UserWarning: The labels of this gridliner do not belong to the gridliner axes\n",
      "  warnings.warn('The labels of this gridliner do not belong to '\n"
     ]
    },
    {
     "name": "stdout",
     "output_type": "stream",
     "text": [
      "{'transform': <cartopy.crs.PlateCarree object at 0x7ff1d3c0a1d0>, 'color': 'w'}\n"
     ]
    },
    {
     "name": "stderr",
     "output_type": "stream",
     "text": [
      "/home/jtomf/miniconda3/lib/python3.9/site-packages/cartopy/mpl/gridliner.py:741: UserWarning: The labels of this gridliner do not belong to the gridliner axes\n",
      "  warnings.warn('The labels of this gridliner do not belong to '\n"
     ]
    },
    {
     "name": "stdout",
     "output_type": "stream",
     "text": [
      "{'transform': <cartopy.crs.PlateCarree object at 0x7ff1d38fdf90>, 'color': 'w'}\n",
      "{'transform': <cartopy.crs.PlateCarree object at 0x7ff1d3d318b0>, 'color': 'w'}\n"
     ]
    },
    {
     "name": "stderr",
     "output_type": "stream",
     "text": [
      "/home/jtomf/miniconda3/lib/python3.9/site-packages/cartopy/mpl/gridliner.py:741: UserWarning: The labels of this gridliner do not belong to the gridliner axes\n",
      "  warnings.warn('The labels of this gridliner do not belong to '\n"
     ]
    },
    {
     "name": "stdout",
     "output_type": "stream",
     "text": [
      "{'transform': <cartopy.crs.PlateCarree object at 0x7ff1d38ea4f0>, 'color': 'w'}\n"
     ]
    },
    {
     "name": "stderr",
     "output_type": "stream",
     "text": [
      "/home/jtomf/miniconda3/lib/python3.9/site-packages/cartopy/mpl/gridliner.py:741: UserWarning: The labels of this gridliner do not belong to the gridliner axes\n",
      "  warnings.warn('The labels of this gridliner do not belong to '\n"
     ]
    },
    {
     "name": "stdout",
     "output_type": "stream",
     "text": [
      "{'transform': <cartopy.crs.PlateCarree object at 0x7ff1d3812400>, 'color': 'w'}\n",
      "{'transform': <cartopy.crs.PlateCarree object at 0x7ff1d2e6bdb0>, 'color': 'w'}\n"
     ]
    },
    {
     "name": "stderr",
     "output_type": "stream",
     "text": [
      "/home/jtomf/miniconda3/lib/python3.9/site-packages/cartopy/mpl/gridliner.py:741: UserWarning: The labels of this gridliner do not belong to the gridliner axes\n",
      "  warnings.warn('The labels of this gridliner do not belong to '\n"
     ]
    },
    {
     "name": "stdout",
     "output_type": "stream",
     "text": [
      "{'transform': <cartopy.crs.PlateCarree object at 0x7ff1d3f44f90>, 'color': 'w'}\n"
     ]
    },
    {
     "name": "stderr",
     "output_type": "stream",
     "text": [
      "/home/jtomf/miniconda3/lib/python3.9/site-packages/cartopy/mpl/gridliner.py:741: UserWarning: The labels of this gridliner do not belong to the gridliner axes\n",
      "  warnings.warn('The labels of this gridliner do not belong to '\n"
     ]
    },
    {
     "name": "stdout",
     "output_type": "stream",
     "text": [
      "{'transform': <cartopy.crs.PlateCarree object at 0x7ff1d3a6c450>, 'color': 'w'}\n",
      "{'transform': <cartopy.crs.PlateCarree object at 0x7ff1d38f3720>, 'color': 'w'}\n"
     ]
    },
    {
     "name": "stderr",
     "output_type": "stream",
     "text": [
      "/home/jtomf/miniconda3/lib/python3.9/site-packages/cartopy/mpl/gridliner.py:741: UserWarning: The labels of this gridliner do not belong to the gridliner axes\n",
      "  warnings.warn('The labels of this gridliner do not belong to '\n"
     ]
    },
    {
     "name": "stdout",
     "output_type": "stream",
     "text": [
      "{'transform': <cartopy.crs.PlateCarree object at 0x7ff1d1f83ea0>, 'color': 'w'}\n"
     ]
    },
    {
     "name": "stderr",
     "output_type": "stream",
     "text": [
      "/home/jtomf/miniconda3/lib/python3.9/site-packages/cartopy/mpl/gridliner.py:741: UserWarning: The labels of this gridliner do not belong to the gridliner axes\n",
      "  warnings.warn('The labels of this gridliner do not belong to '\n"
     ]
    },
    {
     "name": "stdout",
     "output_type": "stream",
     "text": [
      "{'transform': <cartopy.crs.PlateCarree object at 0x7ff1d3848450>, 'color': 'w'}\n"
     ]
    },
    {
     "name": "stderr",
     "output_type": "stream",
     "text": [
      "/home/jtomf/miniconda3/lib/python3.9/site-packages/cartopy/mpl/gridliner.py:741: UserWarning: The labels of this gridliner do not belong to the gridliner axes\n",
      "  warnings.warn('The labels of this gridliner do not belong to '\n"
     ]
    },
    {
     "name": "stdout",
     "output_type": "stream",
     "text": [
      "{'transform': <cartopy.crs.PlateCarree object at 0x7ff1d3da3540>, 'color': 'w'}\n"
     ]
    },
    {
     "name": "stderr",
     "output_type": "stream",
     "text": [
      "/home/jtomf/miniconda3/lib/python3.9/site-packages/cartopy/mpl/gridliner.py:741: UserWarning: The labels of this gridliner do not belong to the gridliner axes\n",
      "  warnings.warn('The labels of this gridliner do not belong to '\n"
     ]
    },
    {
     "name": "stdout",
     "output_type": "stream",
     "text": [
      "{'transform': <cartopy.crs.PlateCarree object at 0x7ff1d38d52c0>, 'color': 'w'}\n"
     ]
    },
    {
     "name": "stderr",
     "output_type": "stream",
     "text": [
      "/home/jtomf/miniconda3/lib/python3.9/site-packages/cartopy/mpl/gridliner.py:741: UserWarning: The labels of this gridliner do not belong to the gridliner axes\n",
      "  warnings.warn('The labels of this gridliner do not belong to '\n"
     ]
    },
    {
     "name": "stdout",
     "output_type": "stream",
     "text": [
      "{'transform': <cartopy.crs.PlateCarree object at 0x7ff1d313d450>, 'color': 'w'}\n"
     ]
    },
    {
     "name": "stderr",
     "output_type": "stream",
     "text": [
      "/home/jtomf/miniconda3/lib/python3.9/site-packages/cartopy/mpl/gridliner.py:741: UserWarning: The labels of this gridliner do not belong to the gridliner axes\n",
      "  warnings.warn('The labels of this gridliner do not belong to '\n"
     ]
    },
    {
     "name": "stdout",
     "output_type": "stream",
     "text": [
      "{'transform': <cartopy.crs.PlateCarree object at 0x7ff1d3f67590>, 'color': 'w'}\n"
     ]
    },
    {
     "name": "stderr",
     "output_type": "stream",
     "text": [
      "/home/jtomf/miniconda3/lib/python3.9/site-packages/cartopy/mpl/gridliner.py:741: UserWarning: The labels of this gridliner do not belong to the gridliner axes\n",
      "  warnings.warn('The labels of this gridliner do not belong to '\n"
     ]
    },
    {
     "name": "stdout",
     "output_type": "stream",
     "text": [
      "{'transform': <cartopy.crs.PlateCarree object at 0x7ff1d3d220e0>, 'color': 'w'}\n"
     ]
    },
    {
     "name": "stderr",
     "output_type": "stream",
     "text": [
      "/home/jtomf/miniconda3/lib/python3.9/site-packages/cartopy/mpl/gridliner.py:741: UserWarning: The labels of this gridliner do not belong to the gridliner axes\n",
      "  warnings.warn('The labels of this gridliner do not belong to '\n"
     ]
    },
    {
     "name": "stdout",
     "output_type": "stream",
     "text": [
      "{'transform': <cartopy.crs.PlateCarree object at 0x7ff1d1f7f310>, 'color': 'w'}\n"
     ]
    },
    {
     "name": "stderr",
     "output_type": "stream",
     "text": [
      "/home/jtomf/miniconda3/lib/python3.9/site-packages/cartopy/mpl/gridliner.py:741: UserWarning: The labels of this gridliner do not belong to the gridliner axes\n",
      "  warnings.warn('The labels of this gridliner do not belong to '\n"
     ]
    },
    {
     "name": "stdout",
     "output_type": "stream",
     "text": [
      "{'transform': <cartopy.crs.PlateCarree object at 0x7ff1d3da3130>, 'color': 'w'}\n"
     ]
    },
    {
     "name": "stderr",
     "output_type": "stream",
     "text": [
      "/home/jtomf/miniconda3/lib/python3.9/site-packages/cartopy/mpl/gridliner.py:741: UserWarning: The labels of this gridliner do not belong to the gridliner axes\n",
      "  warnings.warn('The labels of this gridliner do not belong to '\n"
     ]
    },
    {
     "name": "stdout",
     "output_type": "stream",
     "text": [
      "{'transform': <cartopy.crs.PlateCarree object at 0x7ff1d2e8d090>, 'color': 'w'}\n"
     ]
    },
    {
     "name": "stderr",
     "output_type": "stream",
     "text": [
      "/home/jtomf/miniconda3/lib/python3.9/site-packages/cartopy/mpl/gridliner.py:741: UserWarning: The labels of this gridliner do not belong to the gridliner axes\n",
      "  warnings.warn('The labels of this gridliner do not belong to '\n"
     ]
    },
    {
     "name": "stdout",
     "output_type": "stream",
     "text": [
      "{'transform': <cartopy.crs.PlateCarree object at 0x7ff1d3ed0270>, 'color': 'w'}\n"
     ]
    },
    {
     "name": "stderr",
     "output_type": "stream",
     "text": [
      "/home/jtomf/miniconda3/lib/python3.9/site-packages/cartopy/mpl/gridliner.py:741: UserWarning: The labels of this gridliner do not belong to the gridliner axes\n",
      "  warnings.warn('The labels of this gridliner do not belong to '\n"
     ]
    },
    {
     "name": "stdout",
     "output_type": "stream",
     "text": [
      "{'transform': <cartopy.crs.PlateCarree object at 0x7ff1d3aa3db0>, 'color': 'w'}\n",
      "{'transform': <cartopy.crs.PlateCarree object at 0x7ff1d3ba1130>, 'color': 'w'}\n"
     ]
    },
    {
     "name": "stderr",
     "output_type": "stream",
     "text": [
      "/home/jtomf/miniconda3/lib/python3.9/site-packages/cartopy/mpl/gridliner.py:741: UserWarning: The labels of this gridliner do not belong to the gridliner axes\n",
      "  warnings.warn('The labels of this gridliner do not belong to '\n"
     ]
    },
    {
     "name": "stdout",
     "output_type": "stream",
     "text": [
      "{'transform': <cartopy.crs.PlateCarree object at 0x7ff1d3a57540>, 'color': 'w'}\n"
     ]
    },
    {
     "name": "stderr",
     "output_type": "stream",
     "text": [
      "/home/jtomf/miniconda3/lib/python3.9/site-packages/cartopy/mpl/gridliner.py:741: UserWarning: The labels of this gridliner do not belong to the gridliner axes\n",
      "  warnings.warn('The labels of this gridliner do not belong to '\n"
     ]
    },
    {
     "name": "stdout",
     "output_type": "stream",
     "text": [
      "{'transform': <cartopy.crs.PlateCarree object at 0x7ff1d31d64a0>, 'color': 'w'}\n",
      "{'transform': <cartopy.crs.PlateCarree object at 0x7ff1d3f8c630>, 'color': 'w'}\n"
     ]
    },
    {
     "name": "stderr",
     "output_type": "stream",
     "text": [
      "/home/jtomf/miniconda3/lib/python3.9/site-packages/cartopy/mpl/gridliner.py:741: UserWarning: The labels of this gridliner do not belong to the gridliner axes\n",
      "  warnings.warn('The labels of this gridliner do not belong to '\n"
     ]
    },
    {
     "name": "stdout",
     "output_type": "stream",
     "text": [
      "{'transform': <cartopy.crs.PlateCarree object at 0x7ff1d3f23090>, 'color': 'w'}\n"
     ]
    },
    {
     "name": "stderr",
     "output_type": "stream",
     "text": [
      "/home/jtomf/miniconda3/lib/python3.9/site-packages/cartopy/mpl/gridliner.py:741: UserWarning: The labels of this gridliner do not belong to the gridliner axes\n",
      "  warnings.warn('The labels of this gridliner do not belong to '\n"
     ]
    },
    {
     "name": "stdout",
     "output_type": "stream",
     "text": [
      "{'transform': <cartopy.crs.PlateCarree object at 0x7ff1d312d540>, 'color': 'w'}\n",
      "{'transform': <cartopy.crs.PlateCarree object at 0x7ff1d3eabb80>, 'color': 'w'}\n"
     ]
    },
    {
     "name": "stderr",
     "output_type": "stream",
     "text": [
      "/home/jtomf/miniconda3/lib/python3.9/site-packages/cartopy/mpl/gridliner.py:741: UserWarning: The labels of this gridliner do not belong to the gridliner axes\n",
      "  warnings.warn('The labels of this gridliner do not belong to '\n"
     ]
    },
    {
     "name": "stdout",
     "output_type": "stream",
     "text": [
      "{'transform': <cartopy.crs.PlateCarree object at 0x7ff1d3d3bf90>, 'color': 'w'}\n"
     ]
    },
    {
     "name": "stderr",
     "output_type": "stream",
     "text": [
      "/home/jtomf/miniconda3/lib/python3.9/site-packages/cartopy/mpl/gridliner.py:741: UserWarning: The labels of this gridliner do not belong to the gridliner axes\n",
      "  warnings.warn('The labels of this gridliner do not belong to '\n"
     ]
    },
    {
     "name": "stdout",
     "output_type": "stream",
     "text": [
      "{'transform': <cartopy.crs.PlateCarree object at 0x7ff1d3dd3540>, 'color': 'w'}\n"
     ]
    },
    {
     "name": "stderr",
     "output_type": "stream",
     "text": [
      "/home/jtomf/miniconda3/lib/python3.9/site-packages/cartopy/mpl/gridliner.py:741: UserWarning: The labels of this gridliner do not belong to the gridliner axes\n",
      "  warnings.warn('The labels of this gridliner do not belong to '\n"
     ]
    },
    {
     "name": "stdout",
     "output_type": "stream",
     "text": [
      "{'transform': <cartopy.crs.PlateCarree object at 0x7ff1d3bea8b0>, 'color': 'w'}\n"
     ]
    },
    {
     "name": "stderr",
     "output_type": "stream",
     "text": [
      "/home/jtomf/miniconda3/lib/python3.9/site-packages/cartopy/mpl/gridliner.py:741: UserWarning: The labels of this gridliner do not belong to the gridliner axes\n",
      "  warnings.warn('The labels of this gridliner do not belong to '\n"
     ]
    },
    {
     "name": "stdout",
     "output_type": "stream",
     "text": [
      "{'transform': <cartopy.crs.PlateCarree object at 0x7ff1d3c9f3b0>, 'color': 'w'}\n"
     ]
    },
    {
     "name": "stderr",
     "output_type": "stream",
     "text": [
      "/home/jtomf/miniconda3/lib/python3.9/site-packages/cartopy/mpl/gridliner.py:741: UserWarning: The labels of this gridliner do not belong to the gridliner axes\n",
      "  warnings.warn('The labels of this gridliner do not belong to '\n"
     ]
    },
    {
     "name": "stdout",
     "output_type": "stream",
     "text": [
      "{'transform': <cartopy.crs.PlateCarree object at 0x7ff1d3c10540>, 'color': 'w'}\n"
     ]
    },
    {
     "name": "stderr",
     "output_type": "stream",
     "text": [
      "/home/jtomf/miniconda3/lib/python3.9/site-packages/cartopy/mpl/gridliner.py:741: UserWarning: The labels of this gridliner do not belong to the gridliner axes\n",
      "  warnings.warn('The labels of this gridliner do not belong to '\n"
     ]
    },
    {
     "name": "stdout",
     "output_type": "stream",
     "text": [
      "{'transform': <cartopy.crs.PlateCarree object at 0x7ff1d3f67cc0>, 'color': 'w'}\n"
     ]
    },
    {
     "name": "stderr",
     "output_type": "stream",
     "text": [
      "/home/jtomf/miniconda3/lib/python3.9/site-packages/cartopy/mpl/gridliner.py:741: UserWarning: The labels of this gridliner do not belong to the gridliner axes\n",
      "  warnings.warn('The labels of this gridliner do not belong to '\n"
     ]
    },
    {
     "name": "stdout",
     "output_type": "stream",
     "text": [
      "{'transform': <cartopy.crs.PlateCarree object at 0x7ff1d3ec11d0>, 'color': 'w'}\n"
     ]
    },
    {
     "name": "stderr",
     "output_type": "stream",
     "text": [
      "/home/jtomf/miniconda3/lib/python3.9/site-packages/cartopy/mpl/gridliner.py:741: UserWarning: The labels of this gridliner do not belong to the gridliner axes\n",
      "  warnings.warn('The labels of this gridliner do not belong to '\n"
     ]
    },
    {
     "name": "stdout",
     "output_type": "stream",
     "text": [
      "{'transform': <cartopy.crs.PlateCarree object at 0x7ff1d3aa2400>, 'color': 'w'}\n"
     ]
    },
    {
     "name": "stderr",
     "output_type": "stream",
     "text": [
      "/home/jtomf/miniconda3/lib/python3.9/site-packages/cartopy/mpl/gridliner.py:741: UserWarning: The labels of this gridliner do not belong to the gridliner axes\n",
      "  warnings.warn('The labels of this gridliner do not belong to '\n"
     ]
    },
    {
     "name": "stdout",
     "output_type": "stream",
     "text": [
      "{'transform': <cartopy.crs.PlateCarree object at 0x7ff1d3bce590>, 'color': 'w'}\n"
     ]
    },
    {
     "name": "stderr",
     "output_type": "stream",
     "text": [
      "/home/jtomf/miniconda3/lib/python3.9/site-packages/cartopy/mpl/gridliner.py:741: UserWarning: The labels of this gridliner do not belong to the gridliner axes\n",
      "  warnings.warn('The labels of this gridliner do not belong to '\n"
     ]
    },
    {
     "name": "stdout",
     "output_type": "stream",
     "text": [
      "{'transform': <cartopy.crs.PlateCarree object at 0x7ff1d38a2130>, 'color': 'w'}\n"
     ]
    },
    {
     "name": "stderr",
     "output_type": "stream",
     "text": [
      "/home/jtomf/miniconda3/lib/python3.9/site-packages/cartopy/mpl/gridliner.py:741: UserWarning: The labels of this gridliner do not belong to the gridliner axes\n",
      "  warnings.warn('The labels of this gridliner do not belong to '\n"
     ]
    },
    {
     "name": "stdout",
     "output_type": "stream",
     "text": [
      "{'transform': <cartopy.crs.PlateCarree object at 0x7ff1d396d2c0>, 'color': 'w'}\n"
     ]
    },
    {
     "name": "stderr",
     "output_type": "stream",
     "text": [
      "/home/jtomf/miniconda3/lib/python3.9/site-packages/cartopy/mpl/gridliner.py:741: UserWarning: The labels of this gridliner do not belong to the gridliner axes\n",
      "  warnings.warn('The labels of this gridliner do not belong to '\n"
     ]
    },
    {
     "name": "stdout",
     "output_type": "stream",
     "text": [
      "{'transform': <cartopy.crs.PlateCarree object at 0x7ff1d31f44f0>, 'color': 'w'}\n",
      "{'transform': <cartopy.crs.PlateCarree object at 0x7ff1d3fafae0>, 'color': 'w'}\n"
     ]
    },
    {
     "name": "stderr",
     "output_type": "stream",
     "text": [
      "/home/jtomf/miniconda3/lib/python3.9/site-packages/cartopy/mpl/gridliner.py:741: UserWarning: The labels of this gridliner do not belong to the gridliner axes\n",
      "  warnings.warn('The labels of this gridliner do not belong to '\n"
     ]
    },
    {
     "name": "stdout",
     "output_type": "stream",
     "text": [
      "{'transform': <cartopy.crs.PlateCarree object at 0x7ff1d3804590>, 'color': 'w'}\n"
     ]
    },
    {
     "name": "stderr",
     "output_type": "stream",
     "text": [
      "/home/jtomf/miniconda3/lib/python3.9/site-packages/cartopy/mpl/gridliner.py:741: UserWarning: The labels of this gridliner do not belong to the gridliner axes\n",
      "  warnings.warn('The labels of this gridliner do not belong to '\n"
     ]
    },
    {
     "name": "stdout",
     "output_type": "stream",
     "text": [
      "{'transform': <cartopy.crs.PlateCarree object at 0x7ff1d3ecd4a0>, 'color': 'w'}\n",
      "{'transform': <cartopy.crs.PlateCarree object at 0x7ff1d2c75c70>, 'color': 'w'}\n"
     ]
    },
    {
     "name": "stderr",
     "output_type": "stream",
     "text": [
      "/home/jtomf/miniconda3/lib/python3.9/site-packages/cartopy/mpl/gridliner.py:741: UserWarning: The labels of this gridliner do not belong to the gridliner axes\n",
      "  warnings.warn('The labels of this gridliner do not belong to '\n"
     ]
    },
    {
     "name": "stdout",
     "output_type": "stream",
     "text": [
      "{'transform': <cartopy.crs.PlateCarree object at 0x7ff1d31d6090>, 'color': 'w'}\n"
     ]
    },
    {
     "name": "stderr",
     "output_type": "stream",
     "text": [
      "/home/jtomf/miniconda3/lib/python3.9/site-packages/cartopy/mpl/gridliner.py:741: UserWarning: The labels of this gridliner do not belong to the gridliner axes\n",
      "  warnings.warn('The labels of this gridliner do not belong to '\n"
     ]
    },
    {
     "name": "stdout",
     "output_type": "stream",
     "text": [
      "{'transform': <cartopy.crs.PlateCarree object at 0x7ff1d358a540>, 'color': 'w'}\n",
      "{'transform': <cartopy.crs.PlateCarree object at 0x7ff1d3f5e090>, 'color': 'w'}\n"
     ]
    },
    {
     "name": "stderr",
     "output_type": "stream",
     "text": [
      "/home/jtomf/miniconda3/lib/python3.9/site-packages/cartopy/mpl/gridliner.py:741: UserWarning: The labels of this gridliner do not belong to the gridliner axes\n",
      "  warnings.warn('The labels of this gridliner do not belong to '\n"
     ]
    },
    {
     "name": "stdout",
     "output_type": "stream",
     "text": [
      "{'transform': <cartopy.crs.PlateCarree object at 0x7ff1d2e5ef90>, 'color': 'w'}\n"
     ]
    },
    {
     "name": "stderr",
     "output_type": "stream",
     "text": [
      "/home/jtomf/miniconda3/lib/python3.9/site-packages/cartopy/mpl/gridliner.py:741: UserWarning: The labels of this gridliner do not belong to the gridliner axes\n",
      "  warnings.warn('The labels of this gridliner do not belong to '\n"
     ]
    },
    {
     "name": "stdout",
     "output_type": "stream",
     "text": [
      "{'transform': <cartopy.crs.PlateCarree object at 0x7ff1d312b4f0>, 'color': 'w'}\n"
     ]
    },
    {
     "name": "stderr",
     "output_type": "stream",
     "text": [
      "/home/jtomf/miniconda3/lib/python3.9/site-packages/cartopy/mpl/gridliner.py:741: UserWarning: The labels of this gridliner do not belong to the gridliner axes\n",
      "  warnings.warn('The labels of this gridliner do not belong to '\n"
     ]
    },
    {
     "name": "stdout",
     "output_type": "stream",
     "text": [
      "{'transform': <cartopy.crs.PlateCarree object at 0x7ff1d2e53950>, 'color': 'w'}\n"
     ]
    },
    {
     "name": "stderr",
     "output_type": "stream",
     "text": [
      "/home/jtomf/miniconda3/lib/python3.9/site-packages/cartopy/mpl/gridliner.py:741: UserWarning: The labels of this gridliner do not belong to the gridliner axes\n",
      "  warnings.warn('The labels of this gridliner do not belong to '\n"
     ]
    },
    {
     "name": "stdout",
     "output_type": "stream",
     "text": [
      "{'transform': <cartopy.crs.PlateCarree object at 0x7ff1d3b8f360>, 'color': 'w'}\n"
     ]
    },
    {
     "name": "stderr",
     "output_type": "stream",
     "text": [
      "/home/jtomf/miniconda3/lib/python3.9/site-packages/cartopy/mpl/gridliner.py:741: UserWarning: The labels of this gridliner do not belong to the gridliner axes\n",
      "  warnings.warn('The labels of this gridliner do not belong to '\n"
     ]
    },
    {
     "name": "stdout",
     "output_type": "stream",
     "text": [
      "{'transform': <cartopy.crs.PlateCarree object at 0x7ff1d1f724f0>, 'color': 'w'}\n"
     ]
    },
    {
     "name": "stderr",
     "output_type": "stream",
     "text": [
      "/home/jtomf/miniconda3/lib/python3.9/site-packages/cartopy/mpl/gridliner.py:741: UserWarning: The labels of this gridliner do not belong to the gridliner axes\n",
      "  warnings.warn('The labels of this gridliner do not belong to '\n"
     ]
    },
    {
     "name": "stdout",
     "output_type": "stream",
     "text": [
      "{'transform': <cartopy.crs.PlateCarree object at 0x7ff1d3b474a0>, 'color': 'w'}\n"
     ]
    },
    {
     "name": "stderr",
     "output_type": "stream",
     "text": [
      "/home/jtomf/miniconda3/lib/python3.9/site-packages/cartopy/mpl/gridliner.py:741: UserWarning: The labels of this gridliner do not belong to the gridliner axes\n",
      "  warnings.warn('The labels of this gridliner do not belong to '\n"
     ]
    },
    {
     "name": "stdout",
     "output_type": "stream",
     "text": [
      "{'transform': <cartopy.crs.PlateCarree object at 0x7ff1d3ca9360>, 'color': 'w'}\n"
     ]
    },
    {
     "name": "stderr",
     "output_type": "stream",
     "text": [
      "/home/jtomf/miniconda3/lib/python3.9/site-packages/cartopy/mpl/gridliner.py:741: UserWarning: The labels of this gridliner do not belong to the gridliner axes\n",
      "  warnings.warn('The labels of this gridliner do not belong to '\n"
     ]
    },
    {
     "name": "stdout",
     "output_type": "stream",
     "text": [
      "{'transform': <cartopy.crs.PlateCarree object at 0x7ff1d31d8590>, 'color': 'w'}\n"
     ]
    },
    {
     "name": "stderr",
     "output_type": "stream",
     "text": [
      "/home/jtomf/miniconda3/lib/python3.9/site-packages/cartopy/mpl/gridliner.py:741: UserWarning: The labels of this gridliner do not belong to the gridliner axes\n",
      "  warnings.warn('The labels of this gridliner do not belong to '\n"
     ]
    },
    {
     "name": "stdout",
     "output_type": "stream",
     "text": [
      "{'transform': <cartopy.crs.PlateCarree object at 0x7ff1d3f43e50>, 'color': 'w'}\n"
     ]
    },
    {
     "name": "stderr",
     "output_type": "stream",
     "text": [
      "/home/jtomf/miniconda3/lib/python3.9/site-packages/cartopy/mpl/gridliner.py:741: UserWarning: The labels of this gridliner do not belong to the gridliner axes\n",
      "  warnings.warn('The labels of this gridliner do not belong to '\n"
     ]
    },
    {
     "name": "stdout",
     "output_type": "stream",
     "text": [
      "{'transform': <cartopy.crs.PlateCarree object at 0x7ff1d1f84220>, 'color': 'w'}\n"
     ]
    },
    {
     "name": "stderr",
     "output_type": "stream",
     "text": [
      "/home/jtomf/miniconda3/lib/python3.9/site-packages/cartopy/mpl/gridliner.py:741: UserWarning: The labels of this gridliner do not belong to the gridliner axes\n",
      "  warnings.warn('The labels of this gridliner do not belong to '\n"
     ]
    },
    {
     "name": "stdout",
     "output_type": "stream",
     "text": [
      "{'transform': <cartopy.crs.PlateCarree object at 0x7ff1d3d263b0>, 'color': 'w'}\n"
     ]
    },
    {
     "name": "stderr",
     "output_type": "stream",
     "text": [
      "/home/jtomf/miniconda3/lib/python3.9/site-packages/cartopy/mpl/gridliner.py:741: UserWarning: The labels of this gridliner do not belong to the gridliner axes\n",
      "  warnings.warn('The labels of this gridliner do not belong to '\n"
     ]
    },
    {
     "name": "stdout",
     "output_type": "stream",
     "text": [
      "{'transform': <cartopy.crs.PlateCarree object at 0x7ff1d3f0c8b0>, 'color': 'w'}\n",
      "{'transform': <cartopy.crs.PlateCarree object at 0x7ff1d3d91e00>, 'color': 'w'}\n"
     ]
    },
    {
     "name": "stderr",
     "output_type": "stream",
     "text": [
      "/home/jtomf/miniconda3/lib/python3.9/site-packages/cartopy/mpl/gridliner.py:741: UserWarning: The labels of this gridliner do not belong to the gridliner axes\n",
      "  warnings.warn('The labels of this gridliner do not belong to '\n"
     ]
    },
    {
     "name": "stdout",
     "output_type": "stream",
     "text": [
      "{'transform': <cartopy.crs.PlateCarree object at 0x7ff1d394c680>, 'color': 'w'}\n"
     ]
    },
    {
     "name": "stderr",
     "output_type": "stream",
     "text": [
      "/home/jtomf/miniconda3/lib/python3.9/site-packages/cartopy/mpl/gridliner.py:741: UserWarning: The labels of this gridliner do not belong to the gridliner axes\n",
      "  warnings.warn('The labels of this gridliner do not belong to '\n"
     ]
    },
    {
     "name": "stdout",
     "output_type": "stream",
     "text": [
      "{'transform': <cartopy.crs.PlateCarree object at 0x7ff1d3ad2590>, 'color': 'w'}\n",
      "{'transform': <cartopy.crs.PlateCarree object at 0x7ff1d3ba1180>, 'color': 'w'}\n"
     ]
    },
    {
     "name": "stderr",
     "output_type": "stream",
     "text": [
      "/home/jtomf/miniconda3/lib/python3.9/site-packages/cartopy/mpl/gridliner.py:741: UserWarning: The labels of this gridliner do not belong to the gridliner axes\n",
      "  warnings.warn('The labels of this gridliner do not belong to '\n"
     ]
    },
    {
     "name": "stdout",
     "output_type": "stream",
     "text": [
      "{'transform': <cartopy.crs.PlateCarree object at 0x7ff1d2e57180>, 'color': 'w'}\n"
     ]
    },
    {
     "name": "stderr",
     "output_type": "stream",
     "text": [
      "/home/jtomf/miniconda3/lib/python3.9/site-packages/cartopy/mpl/gridliner.py:741: UserWarning: The labels of this gridliner do not belong to the gridliner axes\n",
      "  warnings.warn('The labels of this gridliner do not belong to '\n"
     ]
    },
    {
     "name": "stdout",
     "output_type": "stream",
     "text": [
      "{'transform': <cartopy.crs.PlateCarree object at 0x7ff1d39be630>, 'color': 'w'}\n",
      "{'transform': <cartopy.crs.PlateCarree object at 0x7ff1d39e9b80>, 'color': 'w'}\n"
     ]
    },
    {
     "name": "stderr",
     "output_type": "stream",
     "text": [
      "/home/jtomf/miniconda3/lib/python3.9/site-packages/cartopy/mpl/gridliner.py:741: UserWarning: The labels of this gridliner do not belong to the gridliner axes\n",
      "  warnings.warn('The labels of this gridliner do not belong to '\n"
     ]
    },
    {
     "name": "stdout",
     "output_type": "stream",
     "text": [
      "{'transform': <cartopy.crs.PlateCarree object at 0x7ff1d39d00e0>, 'color': 'w'}\n"
     ]
    },
    {
     "name": "stderr",
     "output_type": "stream",
     "text": [
      "/home/jtomf/miniconda3/lib/python3.9/site-packages/cartopy/mpl/gridliner.py:741: UserWarning: The labels of this gridliner do not belong to the gridliner axes\n",
      "  warnings.warn('The labels of this gridliner do not belong to '\n"
     ]
    },
    {
     "name": "stdout",
     "output_type": "stream",
     "text": [
      "{'transform': <cartopy.crs.PlateCarree object at 0x7ff1d35dd540>, 'color': 'w'}\n"
     ]
    },
    {
     "name": "stderr",
     "output_type": "stream",
     "text": [
      "/home/jtomf/miniconda3/lib/python3.9/site-packages/cartopy/mpl/gridliner.py:741: UserWarning: The labels of this gridliner do not belong to the gridliner axes\n",
      "  warnings.warn('The labels of this gridliner do not belong to '\n"
     ]
    },
    {
     "name": "stdout",
     "output_type": "stream",
     "text": [
      "{'transform': <cartopy.crs.PlateCarree object at 0x7ff1d3d91cc0>, 'color': 'w'}\n"
     ]
    },
    {
     "name": "stderr",
     "output_type": "stream",
     "text": [
      "/home/jtomf/miniconda3/lib/python3.9/site-packages/cartopy/mpl/gridliner.py:741: UserWarning: The labels of this gridliner do not belong to the gridliner axes\n",
      "  warnings.warn('The labels of this gridliner do not belong to '\n"
     ]
    },
    {
     "name": "stdout",
     "output_type": "stream",
     "text": [
      "{'transform': <cartopy.crs.PlateCarree object at 0x7ff1d3ca34a0>, 'color': 'w'}\n"
     ]
    },
    {
     "name": "stderr",
     "output_type": "stream",
     "text": [
      "/home/jtomf/miniconda3/lib/python3.9/site-packages/cartopy/mpl/gridliner.py:741: UserWarning: The labels of this gridliner do not belong to the gridliner axes\n",
      "  warnings.warn('The labels of this gridliner do not belong to '\n"
     ]
    },
    {
     "name": "stdout",
     "output_type": "stream",
     "text": [
      "{'transform': <cartopy.crs.PlateCarree object at 0x7ff1d2b18630>, 'color': 'w'}\n"
     ]
    },
    {
     "name": "stderr",
     "output_type": "stream",
     "text": [
      "/home/jtomf/miniconda3/lib/python3.9/site-packages/cartopy/mpl/gridliner.py:741: UserWarning: The labels of this gridliner do not belong to the gridliner axes\n",
      "  warnings.warn('The labels of this gridliner do not belong to '\n"
     ]
    },
    {
     "name": "stdout",
     "output_type": "stream",
     "text": [
      "{'transform': <cartopy.crs.PlateCarree object at 0x7ff1d31231d0>, 'color': 'w'}\n"
     ]
    },
    {
     "name": "stderr",
     "output_type": "stream",
     "text": [
      "/home/jtomf/miniconda3/lib/python3.9/site-packages/cartopy/mpl/gridliner.py:741: UserWarning: The labels of this gridliner do not belong to the gridliner axes\n",
      "  warnings.warn('The labels of this gridliner do not belong to '\n"
     ]
    },
    {
     "name": "stdout",
     "output_type": "stream",
     "text": [
      "{'transform': <cartopy.crs.PlateCarree object at 0x7ff1d3b4e360>, 'color': 'w'}\n"
     ]
    },
    {
     "name": "stderr",
     "output_type": "stream",
     "text": [
      "/home/jtomf/miniconda3/lib/python3.9/site-packages/cartopy/mpl/gridliner.py:741: UserWarning: The labels of this gridliner do not belong to the gridliner axes\n",
      "  warnings.warn('The labels of this gridliner do not belong to '\n"
     ]
    },
    {
     "name": "stdout",
     "output_type": "stream",
     "text": [
      "{'transform': <cartopy.crs.PlateCarree object at 0x7ff1d3a6c590>, 'color': 'w'}\n"
     ]
    },
    {
     "name": "stderr",
     "output_type": "stream",
     "text": [
      "/home/jtomf/miniconda3/lib/python3.9/site-packages/cartopy/mpl/gridliner.py:741: UserWarning: The labels of this gridliner do not belong to the gridliner axes\n",
      "  warnings.warn('The labels of this gridliner do not belong to '\n"
     ]
    },
    {
     "name": "stdout",
     "output_type": "stream",
     "text": [
      "{'transform': <cartopy.crs.PlateCarree object at 0x7ff1d381d0e0>, 'color': 'w'}\n"
     ]
    },
    {
     "name": "stderr",
     "output_type": "stream",
     "text": [
      "/home/jtomf/miniconda3/lib/python3.9/site-packages/cartopy/mpl/gridliner.py:741: UserWarning: The labels of this gridliner do not belong to the gridliner axes\n",
      "  warnings.warn('The labels of this gridliner do not belong to '\n"
     ]
    },
    {
     "name": "stdout",
     "output_type": "stream",
     "text": [
      "{'transform': <cartopy.crs.PlateCarree object at 0x7ff1d3c1f400>, 'color': 'w'}\n"
     ]
    },
    {
     "name": "stderr",
     "output_type": "stream",
     "text": [
      "/home/jtomf/miniconda3/lib/python3.9/site-packages/cartopy/mpl/gridliner.py:741: UserWarning: The labels of this gridliner do not belong to the gridliner axes\n",
      "  warnings.warn('The labels of this gridliner do not belong to '\n"
     ]
    },
    {
     "name": "stdout",
     "output_type": "stream",
     "text": [
      "{'transform': <cartopy.crs.PlateCarree object at 0x7ff1d35df590>, 'color': 'w'}\n"
     ]
    },
    {
     "name": "stderr",
     "output_type": "stream",
     "text": [
      "/home/jtomf/miniconda3/lib/python3.9/site-packages/cartopy/mpl/gridliner.py:741: UserWarning: The labels of this gridliner do not belong to the gridliner axes\n",
      "  warnings.warn('The labels of this gridliner do not belong to '\n"
     ]
    },
    {
     "name": "stdout",
     "output_type": "stream",
     "text": [
      "{'transform': <cartopy.crs.PlateCarree object at 0x7ff1d38fdd60>, 'color': 'w'}\n",
      "{'transform': <cartopy.crs.PlateCarree object at 0x7ff1d2c5b6d0>, 'color': 'w'}\n"
     ]
    },
    {
     "name": "stderr",
     "output_type": "stream",
     "text": [
      "/home/jtomf/miniconda3/lib/python3.9/site-packages/cartopy/mpl/gridliner.py:741: UserWarning: The labels of this gridliner do not belong to the gridliner axes\n",
      "  warnings.warn('The labels of this gridliner do not belong to '\n"
     ]
    },
    {
     "name": "stdout",
     "output_type": "stream",
     "text": [
      "{'transform': <cartopy.crs.PlateCarree object at 0x7ff1d3e0d810>, 'color': 'w'}\n"
     ]
    },
    {
     "name": "stderr",
     "output_type": "stream",
     "text": [
      "/home/jtomf/miniconda3/lib/python3.9/site-packages/cartopy/mpl/gridliner.py:741: UserWarning: The labels of this gridliner do not belong to the gridliner axes\n",
      "  warnings.warn('The labels of this gridliner do not belong to '\n"
     ]
    },
    {
     "name": "stdout",
     "output_type": "stream",
     "text": [
      "{'transform': <cartopy.crs.PlateCarree object at 0x7ff1d38b0590>, 'color': 'w'}\n",
      "{'transform': <cartopy.crs.PlateCarree object at 0x7ff1d3839770>, 'color': 'w'}\n"
     ]
    },
    {
     "name": "stderr",
     "output_type": "stream",
     "text": [
      "/home/jtomf/miniconda3/lib/python3.9/site-packages/cartopy/mpl/gridliner.py:741: UserWarning: The labels of this gridliner do not belong to the gridliner axes\n",
      "  warnings.warn('The labels of this gridliner do not belong to '\n"
     ]
    },
    {
     "name": "stdout",
     "output_type": "stream",
     "text": [
      "{'transform': <cartopy.crs.PlateCarree object at 0x7ff1d3f6e1d0>, 'color': 'w'}\n"
     ]
    },
    {
     "name": "stderr",
     "output_type": "stream",
     "text": [
      "/home/jtomf/miniconda3/lib/python3.9/site-packages/cartopy/mpl/gridliner.py:741: UserWarning: The labels of this gridliner do not belong to the gridliner axes\n",
      "  warnings.warn('The labels of this gridliner do not belong to '\n"
     ]
    },
    {
     "name": "stdout",
     "output_type": "stream",
     "text": [
      "{'transform': <cartopy.crs.PlateCarree object at 0x7ff1d31cf590>, 'color': 'w'}\n",
      "{'transform': <cartopy.crs.PlateCarree object at 0x7ff1d3ee34f0>, 'color': 'w'}\n"
     ]
    },
    {
     "name": "stderr",
     "output_type": "stream",
     "text": [
      "/home/jtomf/miniconda3/lib/python3.9/site-packages/cartopy/mpl/gridliner.py:741: UserWarning: The labels of this gridliner do not belong to the gridliner axes\n",
      "  warnings.warn('The labels of this gridliner do not belong to '\n"
     ]
    },
    {
     "name": "stdout",
     "output_type": "stream",
     "text": [
      "{'transform': <cartopy.crs.PlateCarree object at 0x7ff1d3a210e0>, 'color': 'w'}\n"
     ]
    },
    {
     "name": "stderr",
     "output_type": "stream",
     "text": [
      "/home/jtomf/miniconda3/lib/python3.9/site-packages/cartopy/mpl/gridliner.py:741: UserWarning: The labels of this gridliner do not belong to the gridliner axes\n",
      "  warnings.warn('The labels of this gridliner do not belong to '\n"
     ]
    },
    {
     "name": "stdout",
     "output_type": "stream",
     "text": [
      "{'transform': <cartopy.crs.PlateCarree object at 0x7ff1d3ef2590>, 'color': 'w'}\n"
     ]
    },
    {
     "name": "stderr",
     "output_type": "stream",
     "text": [
      "/home/jtomf/miniconda3/lib/python3.9/site-packages/cartopy/mpl/gridliner.py:741: UserWarning: The labels of this gridliner do not belong to the gridliner axes\n",
      "  warnings.warn('The labels of this gridliner do not belong to '\n"
     ]
    },
    {
     "name": "stdout",
     "output_type": "stream",
     "text": [
      "{'transform': <cartopy.crs.PlateCarree object at 0x7ff1d3f4cb30>, 'color': 'w'}\n"
     ]
    },
    {
     "name": "stderr",
     "output_type": "stream",
     "text": [
      "/home/jtomf/miniconda3/lib/python3.9/site-packages/cartopy/mpl/gridliner.py:741: UserWarning: The labels of this gridliner do not belong to the gridliner axes\n",
      "  warnings.warn('The labels of this gridliner do not belong to '\n"
     ]
    },
    {
     "name": "stdout",
     "output_type": "stream",
     "text": [
      "{'transform': <cartopy.crs.PlateCarree object at 0x7ff1d384f4a0>, 'color': 'w'}\n"
     ]
    },
    {
     "name": "stderr",
     "output_type": "stream",
     "text": [
      "/home/jtomf/miniconda3/lib/python3.9/site-packages/cartopy/mpl/gridliner.py:741: UserWarning: The labels of this gridliner do not belong to the gridliner axes\n",
      "  warnings.warn('The labels of this gridliner do not belong to '\n"
     ]
    },
    {
     "name": "stdout",
     "output_type": "stream",
     "text": [
      "{'transform': <cartopy.crs.PlateCarree object at 0x7ff1d3950630>, 'color': 'w'}\n"
     ]
    },
    {
     "name": "stderr",
     "output_type": "stream",
     "text": [
      "/home/jtomf/miniconda3/lib/python3.9/site-packages/cartopy/mpl/gridliner.py:741: UserWarning: The labels of this gridliner do not belong to the gridliner axes\n",
      "  warnings.warn('The labels of this gridliner do not belong to '\n"
     ]
    },
    {
     "name": "stdout",
     "output_type": "stream",
     "text": [
      "{'transform': <cartopy.crs.PlateCarree object at 0x7ff1d3dbfae0>, 'color': 'w'}\n"
     ]
    },
    {
     "name": "stderr",
     "output_type": "stream",
     "text": [
      "/home/jtomf/miniconda3/lib/python3.9/site-packages/cartopy/mpl/gridliner.py:741: UserWarning: The labels of this gridliner do not belong to the gridliner axes\n",
      "  warnings.warn('The labels of this gridliner do not belong to '\n"
     ]
    },
    {
     "name": "stdout",
     "output_type": "stream",
     "text": [
      "{'transform': <cartopy.crs.PlateCarree object at 0x7ff1d3ef3360>, 'color': 'w'}\n"
     ]
    },
    {
     "name": "stderr",
     "output_type": "stream",
     "text": [
      "/home/jtomf/miniconda3/lib/python3.9/site-packages/cartopy/mpl/gridliner.py:741: UserWarning: The labels of this gridliner do not belong to the gridliner axes\n",
      "  warnings.warn('The labels of this gridliner do not belong to '\n"
     ]
    },
    {
     "name": "stdout",
     "output_type": "stream",
     "text": [
      "{'transform': <cartopy.crs.PlateCarree object at 0x7ff1d39f0590>, 'color': 'w'}\n"
     ]
    },
    {
     "name": "stderr",
     "output_type": "stream",
     "text": [
      "/home/jtomf/miniconda3/lib/python3.9/site-packages/cartopy/mpl/gridliner.py:741: UserWarning: The labels of this gridliner do not belong to the gridliner axes\n",
      "  warnings.warn('The labels of this gridliner do not belong to '\n"
     ]
    },
    {
     "name": "stdout",
     "output_type": "stream",
     "text": [
      "{'transform': <cartopy.crs.PlateCarree object at 0x7ff1d3a53bd0>, 'color': 'w'}\n"
     ]
    },
    {
     "name": "stderr",
     "output_type": "stream",
     "text": [
      "/home/jtomf/miniconda3/lib/python3.9/site-packages/cartopy/mpl/gridliner.py:741: UserWarning: The labels of this gridliner do not belong to the gridliner axes\n",
      "  warnings.warn('The labels of this gridliner do not belong to '\n"
     ]
    },
    {
     "name": "stdout",
     "output_type": "stream",
     "text": [
      "{'transform': <cartopy.crs.PlateCarree object at 0x7ff1d3b15400>, 'color': 'w'}\n"
     ]
    },
    {
     "name": "stderr",
     "output_type": "stream",
     "text": [
      "/home/jtomf/miniconda3/lib/python3.9/site-packages/cartopy/mpl/gridliner.py:741: UserWarning: The labels of this gridliner do not belong to the gridliner axes\n",
      "  warnings.warn('The labels of this gridliner do not belong to '\n"
     ]
    },
    {
     "name": "stdout",
     "output_type": "stream",
     "text": [
      "{'transform': <cartopy.crs.PlateCarree object at 0x7ff1d3787590>, 'color': 'w'}\n"
     ]
    },
    {
     "name": "stderr",
     "output_type": "stream",
     "text": [
      "/home/jtomf/miniconda3/lib/python3.9/site-packages/cartopy/mpl/gridliner.py:741: UserWarning: The labels of this gridliner do not belong to the gridliner axes\n",
      "  warnings.warn('The labels of this gridliner do not belong to '\n"
     ]
    },
    {
     "name": "stdout",
     "output_type": "stream",
     "text": [
      "{'transform': <cartopy.crs.PlateCarree object at 0x7ff1d3993f40>, 'color': 'w'}\n",
      "{'transform': <cartopy.crs.PlateCarree object at 0x7ff1d38f9630>, 'color': 'w'}\n"
     ]
    },
    {
     "name": "stderr",
     "output_type": "stream",
     "text": [
      "/home/jtomf/miniconda3/lib/python3.9/site-packages/cartopy/mpl/gridliner.py:741: UserWarning: The labels of this gridliner do not belong to the gridliner axes\n",
      "  warnings.warn('The labels of this gridliner do not belong to '\n"
     ]
    },
    {
     "name": "stdout",
     "output_type": "stream",
     "text": [
      "{'transform': <cartopy.crs.PlateCarree object at 0x7ff1d31e3810>, 'color': 'w'}\n"
     ]
    },
    {
     "name": "stderr",
     "output_type": "stream",
     "text": [
      "/home/jtomf/miniconda3/lib/python3.9/site-packages/cartopy/mpl/gridliner.py:741: UserWarning: The labels of this gridliner do not belong to the gridliner axes\n",
      "  warnings.warn('The labels of this gridliner do not belong to '\n"
     ]
    },
    {
     "name": "stdout",
     "output_type": "stream",
     "text": [
      "{'transform': <cartopy.crs.PlateCarree object at 0x7ff1d375e590>, 'color': 'w'}\n",
      "{'transform': <cartopy.crs.PlateCarree object at 0x7ff1d31f4b80>, 'color': 'w'}\n"
     ]
    },
    {
     "name": "stderr",
     "output_type": "stream",
     "text": [
      "/home/jtomf/miniconda3/lib/python3.9/site-packages/cartopy/mpl/gridliner.py:741: UserWarning: The labels of this gridliner do not belong to the gridliner axes\n",
      "  warnings.warn('The labels of this gridliner do not belong to '\n"
     ]
    },
    {
     "name": "stdout",
     "output_type": "stream",
     "text": [
      "{'transform': <cartopy.crs.PlateCarree object at 0x7ff1d3baf1d0>, 'color': 'w'}\n"
     ]
    },
    {
     "name": "stderr",
     "output_type": "stream",
     "text": [
      "/home/jtomf/miniconda3/lib/python3.9/site-packages/cartopy/mpl/gridliner.py:741: UserWarning: The labels of this gridliner do not belong to the gridliner axes\n",
      "  warnings.warn('The labels of this gridliner do not belong to '\n"
     ]
    },
    {
     "name": "stdout",
     "output_type": "stream",
     "text": [
      "{'transform': <cartopy.crs.PlateCarree object at 0x7ff1d3e89590>, 'color': 'w'}\n",
      "{'transform': <cartopy.crs.PlateCarree object at 0x7ff1d3ba13b0>, 'color': 'w'}\n"
     ]
    },
    {
     "name": "stderr",
     "output_type": "stream",
     "text": [
      "/home/jtomf/miniconda3/lib/python3.9/site-packages/cartopy/mpl/gridliner.py:741: UserWarning: The labels of this gridliner do not belong to the gridliner axes\n",
      "  warnings.warn('The labels of this gridliner do not belong to '\n"
     ]
    },
    {
     "name": "stdout",
     "output_type": "stream",
     "text": [
      "{'transform': <cartopy.crs.PlateCarree object at 0x7ff1d3d990e0>, 'color': 'w'}\n"
     ]
    },
    {
     "name": "stderr",
     "output_type": "stream",
     "text": [
      "/home/jtomf/miniconda3/lib/python3.9/site-packages/cartopy/mpl/gridliner.py:741: UserWarning: The labels of this gridliner do not belong to the gridliner axes\n",
      "  warnings.warn('The labels of this gridliner do not belong to '\n"
     ]
    },
    {
     "name": "stdout",
     "output_type": "stream",
     "text": [
      "{'transform': <cartopy.crs.PlateCarree object at 0x7ff1d3c3c630>, 'color': 'w'}\n"
     ]
    },
    {
     "name": "stderr",
     "output_type": "stream",
     "text": [
      "/home/jtomf/miniconda3/lib/python3.9/site-packages/cartopy/mpl/gridliner.py:741: UserWarning: The labels of this gridliner do not belong to the gridliner axes\n",
      "  warnings.warn('The labels of this gridliner do not belong to '\n"
     ]
    },
    {
     "name": "stdout",
     "output_type": "stream",
     "text": [
      "{'transform': <cartopy.crs.PlateCarree object at 0x7ff1d3bcdea0>, 'color': 'w'}\n"
     ]
    },
    {
     "name": "stderr",
     "output_type": "stream",
     "text": [
      "/home/jtomf/miniconda3/lib/python3.9/site-packages/cartopy/mpl/gridliner.py:741: UserWarning: The labels of this gridliner do not belong to the gridliner axes\n",
      "  warnings.warn('The labels of this gridliner do not belong to '\n"
     ]
    },
    {
     "name": "stdout",
     "output_type": "stream",
     "text": [
      "{'transform': <cartopy.crs.PlateCarree object at 0x7ff1d31d44a0>, 'color': 'w'}\n"
     ]
    },
    {
     "name": "stderr",
     "output_type": "stream",
     "text": [
      "/home/jtomf/miniconda3/lib/python3.9/site-packages/cartopy/mpl/gridliner.py:741: UserWarning: The labels of this gridliner do not belong to the gridliner axes\n",
      "  warnings.warn('The labels of this gridliner do not belong to '\n"
     ]
    },
    {
     "name": "stdout",
     "output_type": "stream",
     "text": [
      "{'transform': <cartopy.crs.PlateCarree object at 0x7ff1d387f630>, 'color': 'w'}\n"
     ]
    },
    {
     "name": "stderr",
     "output_type": "stream",
     "text": [
      "/home/jtomf/miniconda3/lib/python3.9/site-packages/cartopy/mpl/gridliner.py:741: UserWarning: The labels of this gridliner do not belong to the gridliner axes\n",
      "  warnings.warn('The labels of this gridliner do not belong to '\n"
     ]
    },
    {
     "name": "stdout",
     "output_type": "stream",
     "text": [
      "{'transform': <cartopy.crs.PlateCarree object at 0x7ff1d38f9450>, 'color': 'w'}\n"
     ]
    },
    {
     "name": "stderr",
     "output_type": "stream",
     "text": [
      "/home/jtomf/miniconda3/lib/python3.9/site-packages/cartopy/mpl/gridliner.py:741: UserWarning: The labels of this gridliner do not belong to the gridliner axes\n",
      "  warnings.warn('The labels of this gridliner do not belong to '\n"
     ]
    },
    {
     "name": "stdout",
     "output_type": "stream",
     "text": [
      "{'transform': <cartopy.crs.PlateCarree object at 0x7ff1d3be8360>, 'color': 'w'}\n"
     ]
    },
    {
     "name": "stderr",
     "output_type": "stream",
     "text": [
      "/home/jtomf/miniconda3/lib/python3.9/site-packages/cartopy/mpl/gridliner.py:741: UserWarning: The labels of this gridliner do not belong to the gridliner axes\n",
      "  warnings.warn('The labels of this gridliner do not belong to '\n"
     ]
    },
    {
     "name": "stdout",
     "output_type": "stream",
     "text": [
      "{'transform': <cartopy.crs.PlateCarree object at 0x7ff1d38b8590>, 'color': 'w'}\n"
     ]
    },
    {
     "name": "stderr",
     "output_type": "stream",
     "text": [
      "/home/jtomf/miniconda3/lib/python3.9/site-packages/cartopy/mpl/gridliner.py:741: UserWarning: The labels of this gridliner do not belong to the gridliner axes\n",
      "  warnings.warn('The labels of this gridliner do not belong to '\n"
     ]
    },
    {
     "name": "stdout",
     "output_type": "stream",
     "text": [
      "{'transform': <cartopy.crs.PlateCarree object at 0x7ff1d3f78e50>, 'color': 'w'}\n"
     ]
    },
    {
     "name": "stderr",
     "output_type": "stream",
     "text": [
      "/home/jtomf/miniconda3/lib/python3.9/site-packages/cartopy/mpl/gridliner.py:741: UserWarning: The labels of this gridliner do not belong to the gridliner axes\n",
      "  warnings.warn('The labels of this gridliner do not belong to '\n"
     ]
    },
    {
     "name": "stdout",
     "output_type": "stream",
     "text": [
      "{'transform': <cartopy.crs.PlateCarree object at 0x7ff1d38594f0>, 'color': 'w'}\n"
     ]
    },
    {
     "name": "stderr",
     "output_type": "stream",
     "text": [
      "/home/jtomf/miniconda3/lib/python3.9/site-packages/cartopy/mpl/gridliner.py:741: UserWarning: The labels of this gridliner do not belong to the gridliner axes\n",
      "  warnings.warn('The labels of this gridliner do not belong to '\n"
     ]
    },
    {
     "name": "stdout",
     "output_type": "stream",
     "text": [
      "{'transform': <cartopy.crs.PlateCarree object at 0x7ff1d2e69680>, 'color': 'w'}\n"
     ]
    },
    {
     "name": "stderr",
     "output_type": "stream",
     "text": [
      "/home/jtomf/miniconda3/lib/python3.9/site-packages/cartopy/mpl/gridliner.py:741: UserWarning: The labels of this gridliner do not belong to the gridliner axes\n",
      "  warnings.warn('The labels of this gridliner do not belong to '\n"
     ]
    },
    {
     "name": "stdout",
     "output_type": "stream",
     "text": [
      "{'transform': <cartopy.crs.PlateCarree object at 0x7ff1d3e5d630>, 'color': 'w'}\n",
      "{'transform': <cartopy.crs.PlateCarree object at 0x7ff1d3da5360>, 'color': 'w'}\n"
     ]
    },
    {
     "name": "stderr",
     "output_type": "stream",
     "text": [
      "/home/jtomf/miniconda3/lib/python3.9/site-packages/cartopy/mpl/gridliner.py:741: UserWarning: The labels of this gridliner do not belong to the gridliner axes\n",
      "  warnings.warn('The labels of this gridliner do not belong to '\n"
     ]
    },
    {
     "name": "stdout",
     "output_type": "stream",
     "text": [
      "{'transform': <cartopy.crs.PlateCarree object at 0x7ff1d38a9810>, 'color': 'w'}\n"
     ]
    },
    {
     "name": "stderr",
     "output_type": "stream",
     "text": [
      "/home/jtomf/miniconda3/lib/python3.9/site-packages/cartopy/mpl/gridliner.py:741: UserWarning: The labels of this gridliner do not belong to the gridliner axes\n",
      "  warnings.warn('The labels of this gridliner do not belong to '\n"
     ]
    },
    {
     "name": "stdout",
     "output_type": "stream",
     "text": [
      "{'transform': <cartopy.crs.PlateCarree object at 0x7ff1d3e7e590>, 'color': 'w'}\n",
      "{'transform': <cartopy.crs.PlateCarree object at 0x7ff1d3a4f900>, 'color': 'w'}\n"
     ]
    },
    {
     "name": "stderr",
     "output_type": "stream",
     "text": [
      "/home/jtomf/miniconda3/lib/python3.9/site-packages/cartopy/mpl/gridliner.py:741: UserWarning: The labels of this gridliner do not belong to the gridliner axes\n",
      "  warnings.warn('The labels of this gridliner do not belong to '\n"
     ]
    },
    {
     "name": "stdout",
     "output_type": "stream",
     "text": [
      "{'transform': <cartopy.crs.PlateCarree object at 0x7ff1d3f4a180>, 'color': 'w'}\n"
     ]
    },
    {
     "name": "stderr",
     "output_type": "stream",
     "text": [
      "/home/jtomf/miniconda3/lib/python3.9/site-packages/cartopy/mpl/gridliner.py:741: UserWarning: The labels of this gridliner do not belong to the gridliner axes\n",
      "  warnings.warn('The labels of this gridliner do not belong to '\n"
     ]
    },
    {
     "name": "stdout",
     "output_type": "stream",
     "text": [
      "{'transform': <cartopy.crs.PlateCarree object at 0x7ff1d3a87630>, 'color': 'w'}\n",
      "{'transform': <cartopy.crs.PlateCarree object at 0x7ff1d311a3b0>, 'color': 'w'}\n"
     ]
    },
    {
     "name": "stderr",
     "output_type": "stream",
     "text": [
      "/home/jtomf/miniconda3/lib/python3.9/site-packages/cartopy/mpl/gridliner.py:741: UserWarning: The labels of this gridliner do not belong to the gridliner axes\n",
      "  warnings.warn('The labels of this gridliner do not belong to '\n"
     ]
    },
    {
     "name": "stdout",
     "output_type": "stream",
     "text": [
      "{'transform': <cartopy.crs.PlateCarree object at 0x7ff1d3b230e0>, 'color': 'w'}\n"
     ]
    },
    {
     "name": "stderr",
     "output_type": "stream",
     "text": [
      "/home/jtomf/miniconda3/lib/python3.9/site-packages/cartopy/mpl/gridliner.py:741: UserWarning: The labels of this gridliner do not belong to the gridliner axes\n",
      "  warnings.warn('The labels of this gridliner do not belong to '\n"
     ]
    },
    {
     "name": "stdout",
     "output_type": "stream",
     "text": [
      "{'transform': <cartopy.crs.PlateCarree object at 0x7ff1d3581630>, 'color': 'w'}\n"
     ]
    },
    {
     "name": "stderr",
     "output_type": "stream",
     "text": [
      "/home/jtomf/miniconda3/lib/python3.9/site-packages/cartopy/mpl/gridliner.py:741: UserWarning: The labels of this gridliner do not belong to the gridliner axes\n",
      "  warnings.warn('The labels of this gridliner do not belong to '\n"
     ]
    },
    {
     "name": "stdout",
     "output_type": "stream",
     "text": [
      "{'transform': <cartopy.crs.PlateCarree object at 0x7ff1d37be950>, 'color': 'w'}\n"
     ]
    },
    {
     "name": "stderr",
     "output_type": "stream",
     "text": [
      "/home/jtomf/miniconda3/lib/python3.9/site-packages/cartopy/mpl/gridliner.py:741: UserWarning: The labels of this gridliner do not belong to the gridliner axes\n",
      "  warnings.warn('The labels of this gridliner do not belong to '\n"
     ]
    },
    {
     "name": "stdout",
     "output_type": "stream",
     "text": [
      "{'transform': <cartopy.crs.PlateCarree object at 0x7ff1d3db14a0>, 'color': 'w'}\n"
     ]
    },
    {
     "name": "stderr",
     "output_type": "stream",
     "text": [
      "/home/jtomf/miniconda3/lib/python3.9/site-packages/cartopy/mpl/gridliner.py:741: UserWarning: The labels of this gridliner do not belong to the gridliner axes\n",
      "  warnings.warn('The labels of this gridliner do not belong to '\n"
     ]
    },
    {
     "name": "stdout",
     "output_type": "stream",
     "text": [
      "{'transform': <cartopy.crs.PlateCarree object at 0x7ff1d397e630>, 'color': 'w'}\n"
     ]
    },
    {
     "name": "stderr",
     "output_type": "stream",
     "text": [
      "/home/jtomf/miniconda3/lib/python3.9/site-packages/cartopy/mpl/gridliner.py:741: UserWarning: The labels of this gridliner do not belong to the gridliner axes\n",
      "  warnings.warn('The labels of this gridliner do not belong to '\n"
     ]
    },
    {
     "name": "stdout",
     "output_type": "stream",
     "text": [
      "{'transform': <cartopy.crs.PlateCarree object at 0x7ff1d3f67ea0>, 'color': 'w'}\n"
     ]
    },
    {
     "name": "stderr",
     "output_type": "stream",
     "text": [
      "/home/jtomf/miniconda3/lib/python3.9/site-packages/cartopy/mpl/gridliner.py:741: UserWarning: The labels of this gridliner do not belong to the gridliner axes\n",
      "  warnings.warn('The labels of this gridliner do not belong to '\n"
     ]
    },
    {
     "name": "stdout",
     "output_type": "stream",
     "text": [
      "{'transform': <cartopy.crs.PlateCarree object at 0x7ff1d3c88360>, 'color': 'w'}\n"
     ]
    },
    {
     "name": "stderr",
     "output_type": "stream",
     "text": [
      "/home/jtomf/miniconda3/lib/python3.9/site-packages/cartopy/mpl/gridliner.py:741: UserWarning: The labels of this gridliner do not belong to the gridliner axes\n",
      "  warnings.warn('The labels of this gridliner do not belong to '\n"
     ]
    },
    {
     "name": "stdout",
     "output_type": "stream",
     "text": [
      "{'transform': <cartopy.crs.PlateCarree object at 0x7ff1d313a590>, 'color': 'w'}\n"
     ]
    },
    {
     "name": "stderr",
     "output_type": "stream",
     "text": [
      "/home/jtomf/miniconda3/lib/python3.9/site-packages/cartopy/mpl/gridliner.py:741: UserWarning: The labels of this gridliner do not belong to the gridliner axes\n",
      "  warnings.warn('The labels of this gridliner do not belong to '\n"
     ]
    },
    {
     "name": "stdout",
     "output_type": "stream",
     "text": [
      "{'transform': <cartopy.crs.PlateCarree object at 0x7ff1d818c720>, 'color': 'w'}\n"
     ]
    },
    {
     "name": "stderr",
     "output_type": "stream",
     "text": [
      "/home/jtomf/miniconda3/lib/python3.9/site-packages/cartopy/mpl/gridliner.py:741: UserWarning: The labels of this gridliner do not belong to the gridliner axes\n",
      "  warnings.warn('The labels of this gridliner do not belong to '\n"
     ]
    },
    {
     "name": "stdout",
     "output_type": "stream",
     "text": [
      "{'transform': <cartopy.crs.PlateCarree object at 0x7ff1d2e924f0>, 'color': 'w'}\n"
     ]
    },
    {
     "name": "stderr",
     "output_type": "stream",
     "text": [
      "/home/jtomf/miniconda3/lib/python3.9/site-packages/cartopy/mpl/gridliner.py:741: UserWarning: The labels of this gridliner do not belong to the gridliner axes\n",
      "  warnings.warn('The labels of this gridliner do not belong to '\n"
     ]
    },
    {
     "name": "stdout",
     "output_type": "stream",
     "text": [
      "{'transform': <cartopy.crs.PlateCarree object at 0x7ff1d38855e0>, 'color': 'w'}\n"
     ]
    },
    {
     "name": "stderr",
     "output_type": "stream",
     "text": [
      "/home/jtomf/miniconda3/lib/python3.9/site-packages/cartopy/mpl/gridliner.py:741: UserWarning: The labels of this gridliner do not belong to the gridliner axes\n",
      "  warnings.warn('The labels of this gridliner do not belong to '\n"
     ]
    },
    {
     "name": "stdout",
     "output_type": "stream",
     "text": [
      "{'transform': <cartopy.crs.PlateCarree object at 0x7ff1d3f73ae0>, 'color': 'w'}\n",
      "{'transform': <cartopy.crs.PlateCarree object at 0x7ff1d38fd590>, 'color': 'w'}\n"
     ]
    },
    {
     "name": "stderr",
     "output_type": "stream",
     "text": [
      "/home/jtomf/miniconda3/lib/python3.9/site-packages/cartopy/mpl/gridliner.py:741: UserWarning: The labels of this gridliner do not belong to the gridliner axes\n",
      "  warnings.warn('The labels of this gridliner do not belong to '\n"
     ]
    },
    {
     "name": "stdout",
     "output_type": "stream",
     "text": [
      "{'transform': <cartopy.crs.PlateCarree object at 0x7ff1d3ed8810>, 'color': 'w'}\n"
     ]
    },
    {
     "name": "stderr",
     "output_type": "stream",
     "text": [
      "/home/jtomf/miniconda3/lib/python3.9/site-packages/cartopy/mpl/gridliner.py:741: UserWarning: The labels of this gridliner do not belong to the gridliner axes\n",
      "  warnings.warn('The labels of this gridliner do not belong to '\n"
     ]
    },
    {
     "name": "stdout",
     "output_type": "stream",
     "text": [
      "{'transform': <cartopy.crs.PlateCarree object at 0x7ff1d3b6f590>, 'color': 'w'}\n",
      "{'transform': <cartopy.crs.PlateCarree object at 0x7ff1d39039f0>, 'color': 'w'}\n"
     ]
    },
    {
     "name": "stderr",
     "output_type": "stream",
     "text": [
      "/home/jtomf/miniconda3/lib/python3.9/site-packages/cartopy/mpl/gridliner.py:741: UserWarning: The labels of this gridliner do not belong to the gridliner axes\n",
      "  warnings.warn('The labels of this gridliner do not belong to '\n"
     ]
    },
    {
     "name": "stdout",
     "output_type": "stream",
     "text": [
      "{'transform': <cartopy.crs.PlateCarree object at 0x7ff1d3947180>, 'color': 'w'}\n"
     ]
    },
    {
     "name": "stderr",
     "output_type": "stream",
     "text": [
      "/home/jtomf/miniconda3/lib/python3.9/site-packages/cartopy/mpl/gridliner.py:741: UserWarning: The labels of this gridliner do not belong to the gridliner axes\n",
      "  warnings.warn('The labels of this gridliner do not belong to '\n"
     ]
    },
    {
     "name": "stdout",
     "output_type": "stream",
     "text": [
      "{'transform': <cartopy.crs.PlateCarree object at 0x7ff1d31e6630>, 'color': 'w'}\n",
      "{'transform': <cartopy.crs.PlateCarree object at 0x7ff1d39ce1d0>, 'color': 'w'}\n"
     ]
    },
    {
     "name": "stderr",
     "output_type": "stream",
     "text": [
      "/home/jtomf/miniconda3/lib/python3.9/site-packages/cartopy/mpl/gridliner.py:741: UserWarning: The labels of this gridliner do not belong to the gridliner axes\n",
      "  warnings.warn('The labels of this gridliner do not belong to '\n"
     ]
    },
    {
     "name": "stdout",
     "output_type": "stream",
     "text": [
      "{'transform': <cartopy.crs.PlateCarree object at 0x7ff1d3d810e0>, 'color': 'w'}\n"
     ]
    },
    {
     "name": "stderr",
     "output_type": "stream",
     "text": [
      "/home/jtomf/miniconda3/lib/python3.9/site-packages/cartopy/mpl/gridliner.py:741: UserWarning: The labels of this gridliner do not belong to the gridliner axes\n",
      "  warnings.warn('The labels of this gridliner do not belong to '\n"
     ]
    },
    {
     "name": "stdout",
     "output_type": "stream",
     "text": [
      "{'transform': <cartopy.crs.PlateCarree object at 0x7ff1d3a6c630>, 'color': 'w'}\n"
     ]
    },
    {
     "name": "stderr",
     "output_type": "stream",
     "text": [
      "/home/jtomf/miniconda3/lib/python3.9/site-packages/cartopy/mpl/gridliner.py:741: UserWarning: The labels of this gridliner do not belong to the gridliner axes\n",
      "  warnings.warn('The labels of this gridliner do not belong to '\n"
     ]
    },
    {
     "name": "stdout",
     "output_type": "stream",
     "text": [
      "{'transform': <cartopy.crs.PlateCarree object at 0x7ff1d35dcb30>, 'color': 'w'}\n"
     ]
    },
    {
     "name": "stderr",
     "output_type": "stream",
     "text": [
      "/home/jtomf/miniconda3/lib/python3.9/site-packages/cartopy/mpl/gridliner.py:741: UserWarning: The labels of this gridliner do not belong to the gridliner axes\n",
      "  warnings.warn('The labels of this gridliner do not belong to '\n"
     ]
    },
    {
     "name": "stdout",
     "output_type": "stream",
     "text": [
      "{'transform': <cartopy.crs.PlateCarree object at 0x7ff1d3eeb4a0>, 'color': 'w'}\n"
     ]
    },
    {
     "name": "stderr",
     "output_type": "stream",
     "text": [
      "/home/jtomf/miniconda3/lib/python3.9/site-packages/cartopy/mpl/gridliner.py:741: UserWarning: The labels of this gridliner do not belong to the gridliner axes\n",
      "  warnings.warn('The labels of this gridliner do not belong to '\n"
     ]
    },
    {
     "name": "stdout",
     "output_type": "stream",
     "text": [
      "{'transform': <cartopy.crs.PlateCarree object at 0x7ff1d3c30630>, 'color': 'w'}\n"
     ]
    },
    {
     "name": "stderr",
     "output_type": "stream",
     "text": [
      "/home/jtomf/miniconda3/lib/python3.9/site-packages/cartopy/mpl/gridliner.py:741: UserWarning: The labels of this gridliner do not belong to the gridliner axes\n",
      "  warnings.warn('The labels of this gridliner do not belong to '\n"
     ]
    },
    {
     "name": "stdout",
     "output_type": "stream",
     "text": [
      "{'transform': <cartopy.crs.PlateCarree object at 0x7ff1d3bcd2c0>, 'color': 'w'}\n"
     ]
    },
    {
     "name": "stderr",
     "output_type": "stream",
     "text": [
      "/home/jtomf/miniconda3/lib/python3.9/site-packages/cartopy/mpl/gridliner.py:741: UserWarning: The labels of this gridliner do not belong to the gridliner axes\n",
      "  warnings.warn('The labels of this gridliner do not belong to '\n"
     ]
    },
    {
     "name": "stdout",
     "output_type": "stream",
     "text": [
      "{'transform': <cartopy.crs.PlateCarree object at 0x7ff1d35e1360>, 'color': 'w'}\n"
     ]
    },
    {
     "name": "stderr",
     "output_type": "stream",
     "text": [
      "/home/jtomf/miniconda3/lib/python3.9/site-packages/cartopy/mpl/gridliner.py:741: UserWarning: The labels of this gridliner do not belong to the gridliner axes\n",
      "  warnings.warn('The labels of this gridliner do not belong to '\n"
     ]
    },
    {
     "name": "stdout",
     "output_type": "stream",
     "text": [
      "{'transform': <cartopy.crs.PlateCarree object at 0x7ff1d3877590>, 'color': 'w'}\n"
     ]
    },
    {
     "name": "stderr",
     "output_type": "stream",
     "text": [
      "/home/jtomf/miniconda3/lib/python3.9/site-packages/cartopy/mpl/gridliner.py:741: UserWarning: The labels of this gridliner do not belong to the gridliner axes\n",
      "  warnings.warn('The labels of this gridliner do not belong to '\n"
     ]
    },
    {
     "name": "stdout",
     "output_type": "stream",
     "text": [
      "{'transform': <cartopy.crs.PlateCarree object at 0x7ff1d37b8090>, 'color': 'w'}\n"
     ]
    },
    {
     "name": "stderr",
     "output_type": "stream",
     "text": [
      "/home/jtomf/miniconda3/lib/python3.9/site-packages/cartopy/mpl/gridliner.py:741: UserWarning: The labels of this gridliner do not belong to the gridliner axes\n",
      "  warnings.warn('The labels of this gridliner do not belong to '\n"
     ]
    },
    {
     "name": "stdout",
     "output_type": "stream",
     "text": [
      "{'transform': <cartopy.crs.PlateCarree object at 0x7ff1d3b22540>, 'color': 'w'}\n"
     ]
    },
    {
     "name": "stderr",
     "output_type": "stream",
     "text": [
      "/home/jtomf/miniconda3/lib/python3.9/site-packages/cartopy/mpl/gridliner.py:741: UserWarning: The labels of this gridliner do not belong to the gridliner axes\n",
      "  warnings.warn('The labels of this gridliner do not belong to '\n"
     ]
    },
    {
     "name": "stdout",
     "output_type": "stream",
     "text": [
      "{'transform': <cartopy.crs.PlateCarree object at 0x7ff1d390c6d0>, 'color': 'w'}\n"
     ]
    },
    {
     "name": "stderr",
     "output_type": "stream",
     "text": [
      "/home/jtomf/miniconda3/lib/python3.9/site-packages/cartopy/mpl/gridliner.py:741: UserWarning: The labels of this gridliner do not belong to the gridliner axes\n",
      "  warnings.warn('The labels of this gridliner do not belong to '\n"
     ]
    },
    {
     "name": "stdout",
     "output_type": "stream",
     "text": [
      "{'transform': <cartopy.crs.PlateCarree object at 0x7ff1d2c679a0>, 'color': 'w'}\n",
      "{'transform': <cartopy.crs.PlateCarree object at 0x7ff1d3dbf450>, 'color': 'w'}\n"
     ]
    },
    {
     "name": "stderr",
     "output_type": "stream",
     "text": [
      "/home/jtomf/miniconda3/lib/python3.9/site-packages/cartopy/mpl/gridliner.py:741: UserWarning: The labels of this gridliner do not belong to the gridliner axes\n",
      "  warnings.warn('The labels of this gridliner do not belong to '\n"
     ]
    },
    {
     "name": "stdout",
     "output_type": "stream",
     "text": [
      "{'transform': <cartopy.crs.PlateCarree object at 0x7ff1d3da7860>, 'color': 'w'}\n"
     ]
    },
    {
     "name": "stderr",
     "output_type": "stream",
     "text": [
      "/home/jtomf/miniconda3/lib/python3.9/site-packages/cartopy/mpl/gridliner.py:741: UserWarning: The labels of this gridliner do not belong to the gridliner axes\n",
      "  warnings.warn('The labels of this gridliner do not belong to '\n"
     ]
    },
    {
     "name": "stdout",
     "output_type": "stream",
     "text": [
      "{'transform': <cartopy.crs.PlateCarree object at 0x7ff1d3a775e0>, 'color': 'w'}\n",
      "{'transform': <cartopy.crs.PlateCarree object at 0x7ff1d384fe00>, 'color': 'w'}\n"
     ]
    },
    {
     "name": "stderr",
     "output_type": "stream",
     "text": [
      "/home/jtomf/miniconda3/lib/python3.9/site-packages/cartopy/mpl/gridliner.py:741: UserWarning: The labels of this gridliner do not belong to the gridliner axes\n",
      "  warnings.warn('The labels of this gridliner do not belong to '\n"
     ]
    },
    {
     "name": "stdout",
     "output_type": "stream",
     "text": [
      "{'transform': <cartopy.crs.PlateCarree object at 0x7ff1d3c231d0>, 'color': 'w'}\n"
     ]
    },
    {
     "name": "stderr",
     "output_type": "stream",
     "text": [
      "/home/jtomf/miniconda3/lib/python3.9/site-packages/cartopy/mpl/gridliner.py:741: UserWarning: The labels of this gridliner do not belong to the gridliner axes\n",
      "  warnings.warn('The labels of this gridliner do not belong to '\n"
     ]
    },
    {
     "name": "stdout",
     "output_type": "stream",
     "text": [
      "{'transform': <cartopy.crs.PlateCarree object at 0x7ff1d35da680>, 'color': 'w'}\n",
      "{'transform': <cartopy.crs.PlateCarree object at 0x7ff1d3591220>, 'color': 'w'}\n"
     ]
    },
    {
     "name": "stderr",
     "output_type": "stream",
     "text": [
      "/home/jtomf/miniconda3/lib/python3.9/site-packages/cartopy/mpl/gridliner.py:741: UserWarning: The labels of this gridliner do not belong to the gridliner axes\n",
      "  warnings.warn('The labels of this gridliner do not belong to '\n"
     ]
    },
    {
     "name": "stdout",
     "output_type": "stream",
     "text": [
      "{'transform': <cartopy.crs.PlateCarree object at 0x7ff1d3ec5130>, 'color': 'w'}\n"
     ]
    },
    {
     "name": "stderr",
     "output_type": "stream",
     "text": [
      "/home/jtomf/miniconda3/lib/python3.9/site-packages/cartopy/mpl/gridliner.py:741: UserWarning: The labels of this gridliner do not belong to the gridliner axes\n",
      "  warnings.warn('The labels of this gridliner do not belong to '\n"
     ]
    },
    {
     "name": "stdout",
     "output_type": "stream",
     "text": [
      "{'transform': <cartopy.crs.PlateCarree object at 0x7ff1d3b5d680>, 'color': 'w'}\n"
     ]
    },
    {
     "name": "stderr",
     "output_type": "stream",
     "text": [
      "/home/jtomf/miniconda3/lib/python3.9/site-packages/cartopy/mpl/gridliner.py:741: UserWarning: The labels of this gridliner do not belong to the gridliner axes\n",
      "  warnings.warn('The labels of this gridliner do not belong to '\n"
     ]
    },
    {
     "name": "stdout",
     "output_type": "stream",
     "text": [
      "{'transform': <cartopy.crs.PlateCarree object at 0x7ff1d3f0ce50>, 'color': 'w'}\n"
     ]
    },
    {
     "name": "stderr",
     "output_type": "stream",
     "text": [
      "/home/jtomf/miniconda3/lib/python3.9/site-packages/cartopy/mpl/gridliner.py:741: UserWarning: The labels of this gridliner do not belong to the gridliner axes\n",
      "  warnings.warn('The labels of this gridliner do not belong to '\n"
     ]
    },
    {
     "name": "stdout",
     "output_type": "stream",
     "text": [
      "{'transform': <cartopy.crs.PlateCarree object at 0x7ff1d3d074f0>, 'color': 'w'}\n"
     ]
    },
    {
     "name": "stderr",
     "output_type": "stream",
     "text": [
      "/home/jtomf/miniconda3/lib/python3.9/site-packages/cartopy/mpl/gridliner.py:741: UserWarning: The labels of this gridliner do not belong to the gridliner axes\n",
      "  warnings.warn('The labels of this gridliner do not belong to '\n"
     ]
    },
    {
     "name": "stdout",
     "output_type": "stream",
     "text": [
      "{'transform': <cartopy.crs.PlateCarree object at 0x7ff1d35d5680>, 'color': 'w'}\n"
     ]
    },
    {
     "name": "stderr",
     "output_type": "stream",
     "text": [
      "/home/jtomf/miniconda3/lib/python3.9/site-packages/cartopy/mpl/gridliner.py:741: UserWarning: The labels of this gridliner do not belong to the gridliner axes\n",
      "  warnings.warn('The labels of this gridliner do not belong to '\n"
     ]
    },
    {
     "name": "stdout",
     "output_type": "stream",
     "text": [
      "{'transform': <cartopy.crs.PlateCarree object at 0x7ff1d3f78b80>, 'color': 'w'}\n"
     ]
    },
    {
     "name": "stderr",
     "output_type": "stream",
     "text": [
      "/home/jtomf/miniconda3/lib/python3.9/site-packages/cartopy/mpl/gridliner.py:741: UserWarning: The labels of this gridliner do not belong to the gridliner axes\n",
      "  warnings.warn('The labels of this gridliner do not belong to '\n"
     ]
    },
    {
     "name": "stdout",
     "output_type": "stream",
     "text": [
      "{'transform': <cartopy.crs.PlateCarree object at 0x7ff1d31da400>, 'color': 'w'}\n"
     ]
    },
    {
     "name": "stderr",
     "output_type": "stream",
     "text": [
      "/home/jtomf/miniconda3/lib/python3.9/site-packages/cartopy/mpl/gridliner.py:741: UserWarning: The labels of this gridliner do not belong to the gridliner axes\n",
      "  warnings.warn('The labels of this gridliner do not belong to '\n"
     ]
    },
    {
     "name": "stdout",
     "output_type": "stream",
     "text": [
      "{'transform': <cartopy.crs.PlateCarree object at 0x7ff1d2e5c630>, 'color': 'w'}\n"
     ]
    },
    {
     "name": "stderr",
     "output_type": "stream",
     "text": [
      "/home/jtomf/miniconda3/lib/python3.9/site-packages/cartopy/mpl/gridliner.py:741: UserWarning: The labels of this gridliner do not belong to the gridliner axes\n",
      "  warnings.warn('The labels of this gridliner do not belong to '\n"
     ]
    },
    {
     "name": "stdout",
     "output_type": "stream",
     "text": [
      "{'transform': <cartopy.crs.PlateCarree object at 0x7ff1d2d85d10>, 'color': 'w'}\n"
     ]
    },
    {
     "name": "stderr",
     "output_type": "stream",
     "text": [
      "/home/jtomf/miniconda3/lib/python3.9/site-packages/cartopy/mpl/gridliner.py:741: UserWarning: The labels of this gridliner do not belong to the gridliner axes\n",
      "  warnings.warn('The labels of this gridliner do not belong to '\n"
     ]
    },
    {
     "name": "stdout",
     "output_type": "stream",
     "text": [
      "{'transform': <cartopy.crs.PlateCarree object at 0x7ff1d3be7590>, 'color': 'w'}\n"
     ]
    },
    {
     "name": "stderr",
     "output_type": "stream",
     "text": [
      "/home/jtomf/miniconda3/lib/python3.9/site-packages/cartopy/mpl/gridliner.py:741: UserWarning: The labels of this gridliner do not belong to the gridliner axes\n",
      "  warnings.warn('The labels of this gridliner do not belong to '\n"
     ]
    },
    {
     "name": "stdout",
     "output_type": "stream",
     "text": [
      "{'transform': <cartopy.crs.PlateCarree object at 0x7ff1d3825680>, 'color': 'w'}\n"
     ]
    },
    {
     "name": "stderr",
     "output_type": "stream",
     "text": [
      "/home/jtomf/miniconda3/lib/python3.9/site-packages/cartopy/mpl/gridliner.py:741: UserWarning: The labels of this gridliner do not belong to the gridliner axes\n",
      "  warnings.warn('The labels of this gridliner do not belong to '\n"
     ]
    },
    {
     "name": "stdout",
     "output_type": "stream",
     "text": [
      "{'transform': <cartopy.crs.PlateCarree object at 0x7ff1d3139770>, 'color': 'w'}\n",
      "{'transform': <cartopy.crs.PlateCarree object at 0x7ff1d3867b30>, 'color': 'w'}\n"
     ]
    },
    {
     "name": "stderr",
     "output_type": "stream",
     "text": [
      "/home/jtomf/miniconda3/lib/python3.9/site-packages/cartopy/mpl/gridliner.py:741: UserWarning: The labels of this gridliner do not belong to the gridliner axes\n",
      "  warnings.warn('The labels of this gridliner do not belong to '\n"
     ]
    },
    {
     "name": "stdout",
     "output_type": "stream",
     "text": [
      "{'transform': <cartopy.crs.PlateCarree object at 0x7ff1d3d158b0>, 'color': 'w'}\n"
     ]
    },
    {
     "name": "stderr",
     "output_type": "stream",
     "text": [
      "/home/jtomf/miniconda3/lib/python3.9/site-packages/cartopy/mpl/gridliner.py:741: UserWarning: The labels of this gridliner do not belong to the gridliner axes\n",
      "  warnings.warn('The labels of this gridliner do not belong to '\n"
     ]
    },
    {
     "name": "stdout",
     "output_type": "stream",
     "text": [
      "{'transform': <cartopy.crs.PlateCarree object at 0x7ff1d3a3a630>, 'color': 'w'}\n",
      "{'transform': <cartopy.crs.PlateCarree object at 0x7ff1d3d2d590>, 'color': 'w'}\n"
     ]
    },
    {
     "name": "stderr",
     "output_type": "stream",
     "text": [
      "/home/jtomf/miniconda3/lib/python3.9/site-packages/cartopy/mpl/gridliner.py:741: UserWarning: The labels of this gridliner do not belong to the gridliner axes\n",
      "  warnings.warn('The labels of this gridliner do not belong to '\n"
     ]
    },
    {
     "name": "stdout",
     "output_type": "stream",
     "text": [
      "{'transform': <cartopy.crs.PlateCarree object at 0x7ff1d3ed8220>, 'color': 'w'}\n"
     ]
    },
    {
     "name": "stderr",
     "output_type": "stream",
     "text": [
      "/home/jtomf/miniconda3/lib/python3.9/site-packages/cartopy/mpl/gridliner.py:741: UserWarning: The labels of this gridliner do not belong to the gridliner axes\n",
      "  warnings.warn('The labels of this gridliner do not belong to '\n"
     ]
    },
    {
     "name": "stdout",
     "output_type": "stream",
     "text": [
      "{'transform': <cartopy.crs.PlateCarree object at 0x7ff1d3cd16d0>, 'color': 'w'}\n",
      "{'transform': <cartopy.crs.PlateCarree object at 0x7ff1d3d91f40>, 'color': 'w'}\n"
     ]
    },
    {
     "name": "stderr",
     "output_type": "stream",
     "text": [
      "/home/jtomf/miniconda3/lib/python3.9/site-packages/cartopy/mpl/gridliner.py:741: UserWarning: The labels of this gridliner do not belong to the gridliner axes\n",
      "  warnings.warn('The labels of this gridliner do not belong to '\n"
     ]
    },
    {
     "name": "stdout",
     "output_type": "stream",
     "text": [
      "{'transform': <cartopy.crs.PlateCarree object at 0x7ff1d1f85180>, 'color': 'w'}\n"
     ]
    },
    {
     "name": "stderr",
     "output_type": "stream",
     "text": [
      "/home/jtomf/miniconda3/lib/python3.9/site-packages/cartopy/mpl/gridliner.py:741: UserWarning: The labels of this gridliner do not belong to the gridliner axes\n",
      "  warnings.warn('The labels of this gridliner do not belong to '\n"
     ]
    },
    {
     "name": "stdout",
     "output_type": "stream",
     "text": [
      "{'transform': <cartopy.crs.PlateCarree object at 0x7ff1d37b36d0>, 'color': 'w'}\n"
     ]
    },
    {
     "name": "stderr",
     "output_type": "stream",
     "text": [
      "/home/jtomf/miniconda3/lib/python3.9/site-packages/cartopy/mpl/gridliner.py:741: UserWarning: The labels of this gridliner do not belong to the gridliner axes\n",
      "  warnings.warn('The labels of this gridliner do not belong to '\n"
     ]
    },
    {
     "name": "stdout",
     "output_type": "stream",
     "text": [
      "{'transform': <cartopy.crs.PlateCarree object at 0x7ff1d378acc0>, 'color': 'w'}\n"
     ]
    },
    {
     "name": "stderr",
     "output_type": "stream",
     "text": [
      "/home/jtomf/miniconda3/lib/python3.9/site-packages/cartopy/mpl/gridliner.py:741: UserWarning: The labels of this gridliner do not belong to the gridliner axes\n",
      "  warnings.warn('The labels of this gridliner do not belong to '\n"
     ]
    },
    {
     "name": "stdout",
     "output_type": "stream",
     "text": [
      "{'transform': <cartopy.crs.PlateCarree object at 0x7ff1d382c540>, 'color': 'w'}\n"
     ]
    },
    {
     "name": "stderr",
     "output_type": "stream",
     "text": [
      "/home/jtomf/miniconda3/lib/python3.9/site-packages/cartopy/mpl/gridliner.py:741: UserWarning: The labels of this gridliner do not belong to the gridliner axes\n",
      "  warnings.warn('The labels of this gridliner do not belong to '\n"
     ]
    },
    {
     "name": "stdout",
     "output_type": "stream",
     "text": [
      "{'transform': <cartopy.crs.PlateCarree object at 0x7ff1d31286d0>, 'color': 'w'}\n"
     ]
    },
    {
     "name": "stderr",
     "output_type": "stream",
     "text": [
      "/home/jtomf/miniconda3/lib/python3.9/site-packages/cartopy/mpl/gridliner.py:741: UserWarning: The labels of this gridliner do not belong to the gridliner axes\n",
      "  warnings.warn('The labels of this gridliner do not belong to '\n"
     ]
    },
    {
     "name": "stdout",
     "output_type": "stream",
     "text": [
      "{'transform': <cartopy.crs.PlateCarree object at 0x7ff1d3c4f630>, 'color': 'w'}\n"
     ]
    },
    {
     "name": "stderr",
     "output_type": "stream",
     "text": [
      "/home/jtomf/miniconda3/lib/python3.9/site-packages/cartopy/mpl/gridliner.py:741: UserWarning: The labels of this gridliner do not belong to the gridliner axes\n",
      "  warnings.warn('The labels of this gridliner do not belong to '\n"
     ]
    },
    {
     "name": "stdout",
     "output_type": "stream",
     "text": [
      "{'transform': <cartopy.crs.PlateCarree object at 0x7ff1d3f4f360>, 'color': 'w'}\n"
     ]
    },
    {
     "name": "stderr",
     "output_type": "stream",
     "text": [
      "/home/jtomf/miniconda3/lib/python3.9/site-packages/cartopy/mpl/gridliner.py:741: UserWarning: The labels of this gridliner do not belong to the gridliner axes\n",
      "  warnings.warn('The labels of this gridliner do not belong to '\n"
     ]
    },
    {
     "name": "stdout",
     "output_type": "stream",
     "text": [
      "{'transform': <cartopy.crs.PlateCarree object at 0x7ff1d3c045e0>, 'color': 'w'}\n"
     ]
    },
    {
     "name": "stderr",
     "output_type": "stream",
     "text": [
      "/home/jtomf/miniconda3/lib/python3.9/site-packages/cartopy/mpl/gridliner.py:741: UserWarning: The labels of this gridliner do not belong to the gridliner axes\n",
      "  warnings.warn('The labels of this gridliner do not belong to '\n"
     ]
    },
    {
     "name": "stdout",
     "output_type": "stream",
     "text": [
      "{'transform': <cartopy.crs.PlateCarree object at 0x7ff1d3c4fd60>, 'color': 'w'}\n"
     ]
    },
    {
     "name": "stderr",
     "output_type": "stream",
     "text": [
      "/home/jtomf/miniconda3/lib/python3.9/site-packages/cartopy/mpl/gridliner.py:741: UserWarning: The labels of this gridliner do not belong to the gridliner axes\n",
      "  warnings.warn('The labels of this gridliner do not belong to '\n"
     ]
    },
    {
     "name": "stdout",
     "output_type": "stream",
     "text": [
      "{'transform': <cartopy.crs.PlateCarree object at 0x7ff1d3abb3b0>, 'color': 'w'}\n"
     ]
    },
    {
     "name": "stderr",
     "output_type": "stream",
     "text": [
      "/home/jtomf/miniconda3/lib/python3.9/site-packages/cartopy/mpl/gridliner.py:741: UserWarning: The labels of this gridliner do not belong to the gridliner axes\n",
      "  warnings.warn('The labels of this gridliner do not belong to '\n"
     ]
    },
    {
     "name": "stdout",
     "output_type": "stream",
     "text": [
      "{'transform': <cartopy.crs.PlateCarree object at 0x7ff1d38cf590>, 'color': 'w'}\n"
     ]
    },
    {
     "name": "stderr",
     "output_type": "stream",
     "text": [
      "/home/jtomf/miniconda3/lib/python3.9/site-packages/cartopy/mpl/gridliner.py:741: UserWarning: The labels of this gridliner do not belong to the gridliner axes\n",
      "  warnings.warn('The labels of this gridliner do not belong to '\n"
     ]
    },
    {
     "name": "stdout",
     "output_type": "stream",
     "text": [
      "{'transform': <cartopy.crs.PlateCarree object at 0x7ff1d81b54a0>, 'color': 'w'}\n",
      "{'transform': <cartopy.crs.PlateCarree object at 0x7ff1d3fafc20>, 'color': 'w'}\n"
     ]
    },
    {
     "name": "stderr",
     "output_type": "stream",
     "text": [
      "/home/jtomf/miniconda3/lib/python3.9/site-packages/cartopy/mpl/gridliner.py:741: UserWarning: The labels of this gridliner do not belong to the gridliner axes\n",
      "  warnings.warn('The labels of this gridliner do not belong to '\n"
     ]
    },
    {
     "name": "stdout",
     "output_type": "stream",
     "text": [
      "{'transform': <cartopy.crs.PlateCarree object at 0x7ff1d37b7860>, 'color': 'w'}\n"
     ]
    },
    {
     "name": "stderr",
     "output_type": "stream",
     "text": [
      "/home/jtomf/miniconda3/lib/python3.9/site-packages/cartopy/mpl/gridliner.py:741: UserWarning: The labels of this gridliner do not belong to the gridliner axes\n",
      "  warnings.warn('The labels of this gridliner do not belong to '\n"
     ]
    },
    {
     "name": "stdout",
     "output_type": "stream",
     "text": [
      "{'transform': <cartopy.crs.PlateCarree object at 0x7ff1d35af770>, 'color': 'w'}\n",
      "{'transform': <cartopy.crs.PlateCarree object at 0x7ff1d3d91ae0>, 'color': 'w'}\n"
     ]
    },
    {
     "name": "stderr",
     "output_type": "stream",
     "text": [
      "/home/jtomf/miniconda3/lib/python3.9/site-packages/cartopy/mpl/gridliner.py:741: UserWarning: The labels of this gridliner do not belong to the gridliner axes\n",
      "  warnings.warn('The labels of this gridliner do not belong to '\n"
     ]
    },
    {
     "name": "stdout",
     "output_type": "stream",
     "text": [
      "{'transform': <cartopy.crs.PlateCarree object at 0x7ff1d3a8a360>, 'color': 'w'}\n"
     ]
    },
    {
     "name": "stderr",
     "output_type": "stream",
     "text": [
      "/home/jtomf/miniconda3/lib/python3.9/site-packages/cartopy/mpl/gridliner.py:741: UserWarning: The labels of this gridliner do not belong to the gridliner axes\n",
      "  warnings.warn('The labels of this gridliner do not belong to '\n"
     ]
    },
    {
     "name": "stdout",
     "output_type": "stream",
     "text": [
      "{'transform': <cartopy.crs.PlateCarree object at 0x7ff1d3ddd810>, 'color': 'w'}\n",
      "{'transform': <cartopy.crs.PlateCarree object at 0x7ff1d38dbae0>, 'color': 'w'}\n"
     ]
    },
    {
     "name": "stderr",
     "output_type": "stream",
     "text": [
      "/home/jtomf/miniconda3/lib/python3.9/site-packages/cartopy/mpl/gridliner.py:741: UserWarning: The labels of this gridliner do not belong to the gridliner axes\n",
      "  warnings.warn('The labels of this gridliner do not belong to '\n"
     ]
    },
    {
     "name": "stdout",
     "output_type": "stream",
     "text": [
      "{'transform': <cartopy.crs.PlateCarree object at 0x7ff1d39fd2c0>, 'color': 'w'}\n"
     ]
    },
    {
     "name": "stderr",
     "output_type": "stream",
     "text": [
      "/home/jtomf/miniconda3/lib/python3.9/site-packages/cartopy/mpl/gridliner.py:741: UserWarning: The labels of this gridliner do not belong to the gridliner axes\n",
      "  warnings.warn('The labels of this gridliner do not belong to '\n"
     ]
    },
    {
     "name": "stdout",
     "output_type": "stream",
     "text": [
      "{'transform': <cartopy.crs.PlateCarree object at 0x7ff1d3e8e810>, 'color': 'w'}\n"
     ]
    },
    {
     "name": "stderr",
     "output_type": "stream",
     "text": [
      "/home/jtomf/miniconda3/lib/python3.9/site-packages/cartopy/mpl/gridliner.py:741: UserWarning: The labels of this gridliner do not belong to the gridliner axes\n",
      "  warnings.warn('The labels of this gridliner do not belong to '\n"
     ]
    },
    {
     "name": "stdout",
     "output_type": "stream",
     "text": [
      "{'transform': <cartopy.crs.PlateCarree object at 0x7ff1d89c12c0>, 'color': 'w'}\n"
     ]
    },
    {
     "name": "stderr",
     "output_type": "stream",
     "text": [
      "/home/jtomf/miniconda3/lib/python3.9/site-packages/cartopy/mpl/gridliner.py:741: UserWarning: The labels of this gridliner do not belong to the gridliner axes\n",
      "  warnings.warn('The labels of this gridliner do not belong to '\n"
     ]
    },
    {
     "name": "stdout",
     "output_type": "stream",
     "text": [
      "{'transform': <cartopy.crs.PlateCarree object at 0x7ff1d3f8b680>, 'color': 'w'}\n"
     ]
    },
    {
     "name": "stderr",
     "output_type": "stream",
     "text": [
      "/home/jtomf/miniconda3/lib/python3.9/site-packages/cartopy/mpl/gridliner.py:741: UserWarning: The labels of this gridliner do not belong to the gridliner axes\n",
      "  warnings.warn('The labels of this gridliner do not belong to '\n"
     ]
    },
    {
     "name": "stdout",
     "output_type": "stream",
     "text": [
      "{'transform': <cartopy.crs.PlateCarree object at 0x7ff1d3831810>, 'color': 'w'}\n"
     ]
    },
    {
     "name": "stderr",
     "output_type": "stream",
     "text": [
      "/home/jtomf/miniconda3/lib/python3.9/site-packages/cartopy/mpl/gridliner.py:741: UserWarning: The labels of this gridliner do not belong to the gridliner axes\n",
      "  warnings.warn('The labels of this gridliner do not belong to '\n"
     ]
    },
    {
     "name": "stdout",
     "output_type": "stream",
     "text": [
      "{'transform': <cartopy.crs.PlateCarree object at 0x7ff1d3da3cc0>, 'color': 'w'}\n"
     ]
    },
    {
     "name": "stderr",
     "output_type": "stream",
     "text": [
      "/home/jtomf/miniconda3/lib/python3.9/site-packages/cartopy/mpl/gridliner.py:741: UserWarning: The labels of this gridliner do not belong to the gridliner axes\n",
      "  warnings.warn('The labels of this gridliner do not belong to '\n"
     ]
    },
    {
     "name": "stdout",
     "output_type": "stream",
     "text": [
      "{'transform': <cartopy.crs.PlateCarree object at 0x7ff1d3965540>, 'color': 'w'}\n"
     ]
    },
    {
     "name": "stderr",
     "output_type": "stream",
     "text": [
      "/home/jtomf/miniconda3/lib/python3.9/site-packages/cartopy/mpl/gridliner.py:741: UserWarning: The labels of this gridliner do not belong to the gridliner axes\n",
      "  warnings.warn('The labels of this gridliner do not belong to '\n"
     ]
    },
    {
     "name": "stdout",
     "output_type": "stream",
     "text": [
      "{'transform': <cartopy.crs.PlateCarree object at 0x7ff1d3bbf770>, 'color': 'w'}\n"
     ]
    },
    {
     "name": "stderr",
     "output_type": "stream",
     "text": [
      "/home/jtomf/miniconda3/lib/python3.9/site-packages/cartopy/mpl/gridliner.py:741: UserWarning: The labels of this gridliner do not belong to the gridliner axes\n",
      "  warnings.warn('The labels of this gridliner do not belong to '\n"
     ]
    },
    {
     "name": "stdout",
     "output_type": "stream",
     "text": [
      "{'transform': <cartopy.crs.PlateCarree object at 0x7ff1d3e4c810>, 'color': 'w'}\n"
     ]
    },
    {
     "name": "stderr",
     "output_type": "stream",
     "text": [
      "/home/jtomf/miniconda3/lib/python3.9/site-packages/cartopy/mpl/gridliner.py:741: UserWarning: The labels of this gridliner do not belong to the gridliner axes\n",
      "  warnings.warn('The labels of this gridliner do not belong to '\n"
     ]
    },
    {
     "name": "stdout",
     "output_type": "stream",
     "text": [
      "{'transform': <cartopy.crs.PlateCarree object at 0x7ff1d3ec5400>, 'color': 'w'}\n"
     ]
    },
    {
     "name": "stderr",
     "output_type": "stream",
     "text": [
      "/home/jtomf/miniconda3/lib/python3.9/site-packages/cartopy/mpl/gridliner.py:741: UserWarning: The labels of this gridliner do not belong to the gridliner axes\n",
      "  warnings.warn('The labels of this gridliner do not belong to '\n"
     ]
    },
    {
     "name": "stdout",
     "output_type": "stream",
     "text": [
      "{'transform': <cartopy.crs.PlateCarree object at 0x7ff1d3903590>, 'color': 'w'}\n"
     ]
    },
    {
     "name": "stderr",
     "output_type": "stream",
     "text": [
      "/home/jtomf/miniconda3/lib/python3.9/site-packages/cartopy/mpl/gridliner.py:741: UserWarning: The labels of this gridliner do not belong to the gridliner axes\n",
      "  warnings.warn('The labels of this gridliner do not belong to '\n"
     ]
    },
    {
     "name": "stdout",
     "output_type": "stream",
     "text": [
      "{'transform': <cartopy.crs.PlateCarree object at 0x7ff1d2e5ab30>, 'color': 'w'}\n",
      "{'transform': <cartopy.crs.PlateCarree object at 0x7ff1d1f4ea40>, 'color': 'w'}\n"
     ]
    },
    {
     "name": "stderr",
     "output_type": "stream",
     "text": [
      "/home/jtomf/miniconda3/lib/python3.9/site-packages/cartopy/mpl/gridliner.py:741: UserWarning: The labels of this gridliner do not belong to the gridliner axes\n",
      "  warnings.warn('The labels of this gridliner do not belong to '\n"
     ]
    },
    {
     "name": "stdout",
     "output_type": "stream",
     "text": [
      "{'transform': <cartopy.crs.PlateCarree object at 0x7ff1d39f4860>, 'color': 'w'}\n"
     ]
    },
    {
     "name": "stderr",
     "output_type": "stream",
     "text": [
      "/home/jtomf/miniconda3/lib/python3.9/site-packages/cartopy/mpl/gridliner.py:741: UserWarning: The labels of this gridliner do not belong to the gridliner axes\n",
      "  warnings.warn('The labels of this gridliner do not belong to '\n"
     ]
    },
    {
     "name": "stdout",
     "output_type": "stream",
     "text": [
      "{'transform': <cartopy.crs.PlateCarree object at 0x7ff1d3aea770>, 'color': 'w'}\n",
      "{'transform': <cartopy.crs.PlateCarree object at 0x7ff1d3d272c0>, 'color': 'w'}\n"
     ]
    },
    {
     "name": "stderr",
     "output_type": "stream",
     "text": [
      "/home/jtomf/miniconda3/lib/python3.9/site-packages/cartopy/mpl/gridliner.py:741: UserWarning: The labels of this gridliner do not belong to the gridliner axes\n",
      "  warnings.warn('The labels of this gridliner do not belong to '\n"
     ]
    },
    {
     "name": "stdout",
     "output_type": "stream",
     "text": [
      "{'transform': <cartopy.crs.PlateCarree object at 0x7ff1d3bba360>, 'color': 'w'}\n"
     ]
    },
    {
     "name": "stderr",
     "output_type": "stream",
     "text": [
      "/home/jtomf/miniconda3/lib/python3.9/site-packages/cartopy/mpl/gridliner.py:741: UserWarning: The labels of this gridliner do not belong to the gridliner axes\n",
      "  warnings.warn('The labels of this gridliner do not belong to '\n"
     ]
    },
    {
     "name": "stdout",
     "output_type": "stream",
     "text": [
      "{'transform': <cartopy.crs.PlateCarree object at 0x7ff1d39b3810>, 'color': 'w'}\n",
      "{'transform': <cartopy.crs.PlateCarree object at 0x7ff1d3bbe130>, 'color': 'w'}\n"
     ]
    },
    {
     "name": "stderr",
     "output_type": "stream",
     "text": [
      "/home/jtomf/miniconda3/lib/python3.9/site-packages/cartopy/mpl/gridliner.py:741: UserWarning: The labels of this gridliner do not belong to the gridliner axes\n",
      "  warnings.warn('The labels of this gridliner do not belong to '\n"
     ]
    },
    {
     "name": "stdout",
     "output_type": "stream",
     "text": [
      "{'transform': <cartopy.crs.PlateCarree object at 0x7ff1d3f772c0>, 'color': 'w'}\n"
     ]
    },
    {
     "name": "stderr",
     "output_type": "stream",
     "text": [
      "/home/jtomf/miniconda3/lib/python3.9/site-packages/cartopy/mpl/gridliner.py:741: UserWarning: The labels of this gridliner do not belong to the gridliner axes\n",
      "  warnings.warn('The labels of this gridliner do not belong to '\n"
     ]
    },
    {
     "name": "stdout",
     "output_type": "stream",
     "text": [
      "{'transform': <cartopy.crs.PlateCarree object at 0x7ff1d2b2b770>, 'color': 'w'}\n"
     ]
    },
    {
     "name": "stderr",
     "output_type": "stream",
     "text": [
      "/home/jtomf/miniconda3/lib/python3.9/site-packages/cartopy/mpl/gridliner.py:741: UserWarning: The labels of this gridliner do not belong to the gridliner axes\n",
      "  warnings.warn('The labels of this gridliner do not belong to '\n"
     ]
    },
    {
     "name": "stdout",
     "output_type": "stream",
     "text": [
      "{'transform': <cartopy.crs.PlateCarree object at 0x7ff1d3f403b0>, 'color': 'w'}\n"
     ]
    },
    {
     "name": "stderr",
     "output_type": "stream",
     "text": [
      "/home/jtomf/miniconda3/lib/python3.9/site-packages/cartopy/mpl/gridliner.py:741: UserWarning: The labels of this gridliner do not belong to the gridliner axes\n",
      "  warnings.warn('The labels of this gridliner do not belong to '\n"
     ]
    },
    {
     "name": "stdout",
     "output_type": "stream",
     "text": [
      "{'transform': <cartopy.crs.PlateCarree object at 0x7ff1d3ba8680>, 'color': 'w'}\n"
     ]
    },
    {
     "name": "stderr",
     "output_type": "stream",
     "text": [
      "/home/jtomf/miniconda3/lib/python3.9/site-packages/cartopy/mpl/gridliner.py:741: UserWarning: The labels of this gridliner do not belong to the gridliner axes\n",
      "  warnings.warn('The labels of this gridliner do not belong to '\n"
     ]
    },
    {
     "name": "stdout",
     "output_type": "stream",
     "text": [
      "{'transform': <cartopy.crs.PlateCarree object at 0x7ff1d3e1e810>, 'color': 'w'}\n"
     ]
    },
    {
     "name": "stderr",
     "output_type": "stream",
     "text": [
      "/home/jtomf/miniconda3/lib/python3.9/site-packages/cartopy/mpl/gridliner.py:741: UserWarning: The labels of this gridliner do not belong to the gridliner axes\n",
      "  warnings.warn('The labels of this gridliner do not belong to '\n"
     ]
    },
    {
     "name": "stdout",
     "output_type": "stream",
     "text": [
      "{'transform': <cartopy.crs.PlateCarree object at 0x7ff1d3d21310>, 'color': 'w'}\n"
     ]
    },
    {
     "name": "stderr",
     "output_type": "stream",
     "text": [
      "/home/jtomf/miniconda3/lib/python3.9/site-packages/cartopy/mpl/gridliner.py:741: UserWarning: The labels of this gridliner do not belong to the gridliner axes\n",
      "  warnings.warn('The labels of this gridliner do not belong to '\n"
     ]
    },
    {
     "name": "stdout",
     "output_type": "stream",
     "text": [
      "{'transform': <cartopy.crs.PlateCarree object at 0x7ff1d3a12540>, 'color': 'w'}\n"
     ]
    },
    {
     "name": "stderr",
     "output_type": "stream",
     "text": [
      "/home/jtomf/miniconda3/lib/python3.9/site-packages/cartopy/mpl/gridliner.py:741: UserWarning: The labels of this gridliner do not belong to the gridliner axes\n",
      "  warnings.warn('The labels of this gridliner do not belong to '\n"
     ]
    },
    {
     "name": "stdout",
     "output_type": "stream",
     "text": [
      "{'transform': <cartopy.crs.PlateCarree object at 0x7ff1d31ed770>, 'color': 'w'}\n"
     ]
    },
    {
     "name": "stderr",
     "output_type": "stream",
     "text": [
      "/home/jtomf/miniconda3/lib/python3.9/site-packages/cartopy/mpl/gridliner.py:741: UserWarning: The labels of this gridliner do not belong to the gridliner axes\n",
      "  warnings.warn('The labels of this gridliner do not belong to '\n"
     ]
    },
    {
     "name": "stdout",
     "output_type": "stream",
     "text": [
      "{'transform': <cartopy.crs.PlateCarree object at 0x7ff1d815fdb0>, 'color': 'w'}\n"
     ]
    },
    {
     "name": "stderr",
     "output_type": "stream",
     "text": [
      "/home/jtomf/miniconda3/lib/python3.9/site-packages/cartopy/mpl/gridliner.py:741: UserWarning: The labels of this gridliner do not belong to the gridliner axes\n",
      "  warnings.warn('The labels of this gridliner do not belong to '\n"
     ]
    },
    {
     "name": "stdout",
     "output_type": "stream",
     "text": [
      "{'transform': <cartopy.crs.PlateCarree object at 0x7ff1d3e225e0>, 'color': 'w'}\n"
     ]
    },
    {
     "name": "stderr",
     "output_type": "stream",
     "text": [
      "/home/jtomf/miniconda3/lib/python3.9/site-packages/cartopy/mpl/gridliner.py:741: UserWarning: The labels of this gridliner do not belong to the gridliner axes\n",
      "  warnings.warn('The labels of this gridliner do not belong to '\n"
     ]
    },
    {
     "name": "stdout",
     "output_type": "stream",
     "text": [
      "{'transform': <cartopy.crs.PlateCarree object at 0x7ff1d396e770>, 'color': 'w'}\n"
     ]
    },
    {
     "name": "stderr",
     "output_type": "stream",
     "text": [
      "/home/jtomf/miniconda3/lib/python3.9/site-packages/cartopy/mpl/gridliner.py:741: UserWarning: The labels of this gridliner do not belong to the gridliner axes\n",
      "  warnings.warn('The labels of this gridliner do not belong to '\n"
     ]
    },
    {
     "name": "stdout",
     "output_type": "stream",
     "text": [
      "{'transform': <cartopy.crs.PlateCarree object at 0x7ff1d3eb62c0>, 'color': 'w'}\n",
      "{'transform': <cartopy.crs.PlateCarree object at 0x7ff1d3ba1180>, 'color': 'w'}\n"
     ]
    },
    {
     "name": "stderr",
     "output_type": "stream",
     "text": [
      "/home/jtomf/miniconda3/lib/python3.9/site-packages/cartopy/mpl/gridliner.py:741: UserWarning: The labels of this gridliner do not belong to the gridliner axes\n",
      "  warnings.warn('The labels of this gridliner do not belong to '\n"
     ]
    },
    {
     "name": "stdout",
     "output_type": "stream",
     "text": [
      "{'transform': <cartopy.crs.PlateCarree object at 0x7ff1d3db19f0>, 'color': 'w'}\n"
     ]
    },
    {
     "name": "stderr",
     "output_type": "stream",
     "text": [
      "/home/jtomf/miniconda3/lib/python3.9/site-packages/cartopy/mpl/gridliner.py:741: UserWarning: The labels of this gridliner do not belong to the gridliner axes\n",
      "  warnings.warn('The labels of this gridliner do not belong to '\n"
     ]
    },
    {
     "name": "stdout",
     "output_type": "stream",
     "text": [
      "{'transform': <cartopy.crs.PlateCarree object at 0x7ff1d38a3770>, 'color': 'w'}\n",
      "{'transform': <cartopy.crs.PlateCarree object at 0x7ff1d3f73a90>, 'color': 'w'}\n"
     ]
    },
    {
     "name": "stderr",
     "output_type": "stream",
     "text": [
      "/home/jtomf/miniconda3/lib/python3.9/site-packages/cartopy/mpl/gridliner.py:741: UserWarning: The labels of this gridliner do not belong to the gridliner axes\n",
      "  warnings.warn('The labels of this gridliner do not belong to '\n"
     ]
    },
    {
     "name": "stdout",
     "output_type": "stream",
     "text": [
      "{'transform': <cartopy.crs.PlateCarree object at 0x7ff1d3b253b0>, 'color': 'w'}\n"
     ]
    },
    {
     "name": "stderr",
     "output_type": "stream",
     "text": [
      "/home/jtomf/miniconda3/lib/python3.9/site-packages/cartopy/mpl/gridliner.py:741: UserWarning: The labels of this gridliner do not belong to the gridliner axes\n",
      "  warnings.warn('The labels of this gridliner do not belong to '\n"
     ]
    },
    {
     "name": "stdout",
     "output_type": "stream",
     "text": [
      "{'transform': <cartopy.crs.PlateCarree object at 0x7ff1d3b70770>, 'color': 'w'}\n",
      "{'transform': <cartopy.crs.PlateCarree object at 0x7ff1d35f5680>, 'color': 'w'}\n"
     ]
    },
    {
     "name": "stderr",
     "output_type": "stream",
     "text": [
      "/home/jtomf/miniconda3/lib/python3.9/site-packages/cartopy/mpl/gridliner.py:741: UserWarning: The labels of this gridliner do not belong to the gridliner axes\n",
      "  warnings.warn('The labels of this gridliner do not belong to '\n"
     ]
    },
    {
     "name": "stdout",
     "output_type": "stream",
     "text": [
      "{'transform': <cartopy.crs.PlateCarree object at 0x7ff1d2e852c0>, 'color': 'w'}\n"
     ]
    },
    {
     "name": "stderr",
     "output_type": "stream",
     "text": [
      "/home/jtomf/miniconda3/lib/python3.9/site-packages/cartopy/mpl/gridliner.py:741: UserWarning: The labels of this gridliner do not belong to the gridliner axes\n",
      "  warnings.warn('The labels of this gridliner do not belong to '\n"
     ]
    },
    {
     "name": "stdout",
     "output_type": "stream",
     "text": [
      "{'transform': <cartopy.crs.PlateCarree object at 0x7ff1d3ba9810>, 'color': 'w'}\n"
     ]
    },
    {
     "name": "stderr",
     "output_type": "stream",
     "text": [
      "/home/jtomf/miniconda3/lib/python3.9/site-packages/cartopy/mpl/gridliner.py:741: UserWarning: The labels of this gridliner do not belong to the gridliner axes\n",
      "  warnings.warn('The labels of this gridliner do not belong to '\n"
     ]
    },
    {
     "name": "stdout",
     "output_type": "stream",
     "text": [
      "{'transform': <cartopy.crs.PlateCarree object at 0x7ff1d3f8cbd0>, 'color': 'w'}\n"
     ]
    },
    {
     "name": "stderr",
     "output_type": "stream",
     "text": [
      "/home/jtomf/miniconda3/lib/python3.9/site-packages/cartopy/mpl/gridliner.py:741: UserWarning: The labels of this gridliner do not belong to the gridliner axes\n",
      "  warnings.warn('The labels of this gridliner do not belong to '\n"
     ]
    },
    {
     "name": "stdout",
     "output_type": "stream",
     "text": [
      "{'transform': <cartopy.crs.PlateCarree object at 0x7ff1d397e680>, 'color': 'w'}\n"
     ]
    },
    {
     "name": "stderr",
     "output_type": "stream",
     "text": [
      "/home/jtomf/miniconda3/lib/python3.9/site-packages/cartopy/mpl/gridliner.py:741: UserWarning: The labels of this gridliner do not belong to the gridliner axes\n",
      "  warnings.warn('The labels of this gridliner do not belong to '\n"
     ]
    },
    {
     "name": "stdout",
     "output_type": "stream",
     "text": [
      "{'transform': <cartopy.crs.PlateCarree object at 0x7ff1d37b8810>, 'color': 'w'}\n"
     ]
    },
    {
     "name": "stderr",
     "output_type": "stream",
     "text": [
      "/home/jtomf/miniconda3/lib/python3.9/site-packages/cartopy/mpl/gridliner.py:741: UserWarning: The labels of this gridliner do not belong to the gridliner axes\n",
      "  warnings.warn('The labels of this gridliner do not belong to '\n"
     ]
    },
    {
     "name": "stdout",
     "output_type": "stream",
     "text": [
      "{'transform': <cartopy.crs.PlateCarree object at 0x7ff1d2e4e2c0>, 'color': 'w'}\n"
     ]
    },
    {
     "name": "stderr",
     "output_type": "stream",
     "text": [
      "/home/jtomf/miniconda3/lib/python3.9/site-packages/cartopy/mpl/gridliner.py:741: UserWarning: The labels of this gridliner do not belong to the gridliner axes\n",
      "  warnings.warn('The labels of this gridliner do not belong to '\n"
     ]
    },
    {
     "name": "stdout",
     "output_type": "stream",
     "text": [
      "{'transform': <cartopy.crs.PlateCarree object at 0x7ff1d3f81540>, 'color': 'w'}\n"
     ]
    },
    {
     "name": "stderr",
     "output_type": "stream",
     "text": [
      "/home/jtomf/miniconda3/lib/python3.9/site-packages/cartopy/mpl/gridliner.py:741: UserWarning: The labels of this gridliner do not belong to the gridliner axes\n",
      "  warnings.warn('The labels of this gridliner do not belong to '\n"
     ]
    },
    {
     "name": "stdout",
     "output_type": "stream",
     "text": [
      "{'transform': <cartopy.crs.PlateCarree object at 0x7ff1d3127770>, 'color': 'w'}\n"
     ]
    },
    {
     "name": "stderr",
     "output_type": "stream",
     "text": [
      "/home/jtomf/miniconda3/lib/python3.9/site-packages/cartopy/mpl/gridliner.py:741: UserWarning: The labels of this gridliner do not belong to the gridliner axes\n",
      "  warnings.warn('The labels of this gridliner do not belong to '\n"
     ]
    },
    {
     "name": "stdout",
     "output_type": "stream",
     "text": [
      "{'transform': <cartopy.crs.PlateCarree object at 0x7ff1d2e53540>, 'color': 'w'}\n"
     ]
    },
    {
     "name": "stderr",
     "output_type": "stream",
     "text": [
      "/home/jtomf/miniconda3/lib/python3.9/site-packages/cartopy/mpl/gridliner.py:741: UserWarning: The labels of this gridliner do not belong to the gridliner axes\n",
      "  warnings.warn('The labels of this gridliner do not belong to '\n"
     ]
    },
    {
     "name": "stdout",
     "output_type": "stream",
     "text": [
      "{'transform': <cartopy.crs.PlateCarree object at 0x7ff1d3ca56d0>, 'color': 'w'}\n"
     ]
    },
    {
     "name": "stderr",
     "output_type": "stream",
     "text": [
      "/home/jtomf/miniconda3/lib/python3.9/site-packages/cartopy/mpl/gridliner.py:741: UserWarning: The labels of this gridliner do not belong to the gridliner axes\n",
      "  warnings.warn('The labels of this gridliner do not belong to '\n"
     ]
    },
    {
     "name": "stdout",
     "output_type": "stream",
     "text": [
      "{'transform': <cartopy.crs.PlateCarree object at 0x7ff1d38d8860>, 'color': 'w'}\n"
     ]
    },
    {
     "name": "stderr",
     "output_type": "stream",
     "text": [
      "/home/jtomf/miniconda3/lib/python3.9/site-packages/cartopy/mpl/gridliner.py:741: UserWarning: The labels of this gridliner do not belong to the gridliner axes\n",
      "  warnings.warn('The labels of this gridliner do not belong to '\n"
     ]
    },
    {
     "name": "stdout",
     "output_type": "stream",
     "text": [
      "{'transform': <cartopy.crs.PlateCarree object at 0x7ff1d2c676d0>, 'color': 'w'}\n",
      "{'transform': <cartopy.crs.PlateCarree object at 0x7ff1d1f4ebd0>, 'color': 'w'}\n"
     ]
    },
    {
     "name": "stderr",
     "output_type": "stream",
     "text": [
      "/home/jtomf/miniconda3/lib/python3.9/site-packages/cartopy/mpl/gridliner.py:741: UserWarning: The labels of this gridliner do not belong to the gridliner axes\n",
      "  warnings.warn('The labels of this gridliner do not belong to '\n"
     ]
    },
    {
     "name": "stdout",
     "output_type": "stream",
     "text": [
      "{'transform': <cartopy.crs.PlateCarree object at 0x7ff1d3ece9f0>, 'color': 'w'}\n"
     ]
    },
    {
     "name": "stderr",
     "output_type": "stream",
     "text": [
      "/home/jtomf/miniconda3/lib/python3.9/site-packages/cartopy/mpl/gridliner.py:741: UserWarning: The labels of this gridliner do not belong to the gridliner axes\n",
      "  warnings.warn('The labels of this gridliner do not belong to '\n"
     ]
    },
    {
     "name": "stdout",
     "output_type": "stream",
     "text": [
      "{'transform': <cartopy.crs.PlateCarree object at 0x7ff1d3591770>, 'color': 'w'}\n",
      "{'transform': <cartopy.crs.PlateCarree object at 0x7ff1d3b8e450>, 'color': 'w'}\n"
     ]
    },
    {
     "name": "stderr",
     "output_type": "stream",
     "text": [
      "/home/jtomf/miniconda3/lib/python3.9/site-packages/cartopy/mpl/gridliner.py:741: UserWarning: The labels of this gridliner do not belong to the gridliner axes\n",
      "  warnings.warn('The labels of this gridliner do not belong to '\n"
     ]
    },
    {
     "name": "stdout",
     "output_type": "stream",
     "text": [
      "{'transform': <cartopy.crs.PlateCarree object at 0x7ff1d38f2360>, 'color': 'w'}\n"
     ]
    },
    {
     "name": "stderr",
     "output_type": "stream",
     "text": [
      "/home/jtomf/miniconda3/lib/python3.9/site-packages/cartopy/mpl/gridliner.py:741: UserWarning: The labels of this gridliner do not belong to the gridliner axes\n",
      "  warnings.warn('The labels of this gridliner do not belong to '\n"
     ]
    },
    {
     "name": "stdout",
     "output_type": "stream",
     "text": [
      "{'transform': <cartopy.crs.PlateCarree object at 0x7ff1d3200810>, 'color': 'w'}\n",
      "{'transform': <cartopy.crs.PlateCarree object at 0x7ff1d38f9040>, 'color': 'w'}\n"
     ]
    },
    {
     "name": "stderr",
     "output_type": "stream",
     "text": [
      "/home/jtomf/miniconda3/lib/python3.9/site-packages/cartopy/mpl/gridliner.py:741: UserWarning: The labels of this gridliner do not belong to the gridliner axes\n",
      "  warnings.warn('The labels of this gridliner do not belong to '\n"
     ]
    },
    {
     "name": "stdout",
     "output_type": "stream",
     "text": [
      "{'transform': <cartopy.crs.PlateCarree object at 0x7ff1d3a632c0>, 'color': 'w'}\n"
     ]
    },
    {
     "name": "stderr",
     "output_type": "stream",
     "text": [
      "/home/jtomf/miniconda3/lib/python3.9/site-packages/cartopy/mpl/gridliner.py:741: UserWarning: The labels of this gridliner do not belong to the gridliner axes\n",
      "  warnings.warn('The labels of this gridliner do not belong to '\n"
     ]
    },
    {
     "name": "stdout",
     "output_type": "stream",
     "text": [
      "{'transform': <cartopy.crs.PlateCarree object at 0x7ff1d39bd810>, 'color': 'w'}\n"
     ]
    },
    {
     "name": "stderr",
     "output_type": "stream",
     "text": [
      "/home/jtomf/miniconda3/lib/python3.9/site-packages/cartopy/mpl/gridliner.py:741: UserWarning: The labels of this gridliner do not belong to the gridliner axes\n",
      "  warnings.warn('The labels of this gridliner do not belong to '\n"
     ]
    },
    {
     "name": "stdout",
     "output_type": "stream",
     "text": [
      "{'transform': <cartopy.crs.PlateCarree object at 0x7ff1d397c130>, 'color': 'w'}\n"
     ]
    },
    {
     "name": "stderr",
     "output_type": "stream",
     "text": [
      "/home/jtomf/miniconda3/lib/python3.9/site-packages/cartopy/mpl/gridliner.py:741: UserWarning: The labels of this gridliner do not belong to the gridliner axes\n",
      "  warnings.warn('The labels of this gridliner do not belong to '\n"
     ]
    },
    {
     "name": "stdout",
     "output_type": "stream",
     "text": [
      "{'transform': <cartopy.crs.PlateCarree object at 0x7ff1d3a1e680>, 'color': 'w'}\n"
     ]
    },
    {
     "name": "stderr",
     "output_type": "stream",
     "text": [
      "/home/jtomf/miniconda3/lib/python3.9/site-packages/cartopy/mpl/gridliner.py:741: UserWarning: The labels of this gridliner do not belong to the gridliner axes\n",
      "  warnings.warn('The labels of this gridliner do not belong to '\n"
     ]
    },
    {
     "name": "stdout",
     "output_type": "stream",
     "text": [
      "{'transform': <cartopy.crs.PlateCarree object at 0x7ff1d3d1e810>, 'color': 'w'}\n"
     ]
    },
    {
     "name": "stderr",
     "output_type": "stream",
     "text": [
      "/home/jtomf/miniconda3/lib/python3.9/site-packages/cartopy/mpl/gridliner.py:741: UserWarning: The labels of this gridliner do not belong to the gridliner axes\n",
      "  warnings.warn('The labels of this gridliner do not belong to '\n"
     ]
    },
    {
     "name": "stdout",
     "output_type": "stream",
     "text": [
      "{'transform': <cartopy.crs.PlateCarree object at 0x7ff1d3f40cc0>, 'color': 'w'}\n"
     ]
    },
    {
     "name": "stderr",
     "output_type": "stream",
     "text": [
      "/home/jtomf/miniconda3/lib/python3.9/site-packages/cartopy/mpl/gridliner.py:741: UserWarning: The labels of this gridliner do not belong to the gridliner axes\n",
      "  warnings.warn('The labels of this gridliner do not belong to '\n"
     ]
    },
    {
     "name": "stdout",
     "output_type": "stream",
     "text": [
      "{'transform': <cartopy.crs.PlateCarree object at 0x7ff1d3f92540>, 'color': 'w'}\n"
     ]
    },
    {
     "name": "stderr",
     "output_type": "stream",
     "text": [
      "/home/jtomf/miniconda3/lib/python3.9/site-packages/cartopy/mpl/gridliner.py:741: UserWarning: The labels of this gridliner do not belong to the gridliner axes\n",
      "  warnings.warn('The labels of this gridliner do not belong to '\n"
     ]
    },
    {
     "name": "stdout",
     "output_type": "stream",
     "text": [
      "{'transform': <cartopy.crs.PlateCarree object at 0x7ff1d3903770>, 'color': 'w'}\n"
     ]
    },
    {
     "name": "stderr",
     "output_type": "stream",
     "text": [
      "/home/jtomf/miniconda3/lib/python3.9/site-packages/cartopy/mpl/gridliner.py:741: UserWarning: The labels of this gridliner do not belong to the gridliner axes\n",
      "  warnings.warn('The labels of this gridliner do not belong to '\n"
     ]
    },
    {
     "name": "stdout",
     "output_type": "stream",
     "text": [
      "{'transform': <cartopy.crs.PlateCarree object at 0x7ff1d3b47540>, 'color': 'w'}\n"
     ]
    },
    {
     "name": "stderr",
     "output_type": "stream",
     "text": [
      "/home/jtomf/miniconda3/lib/python3.9/site-packages/cartopy/mpl/gridliner.py:741: UserWarning: The labels of this gridliner do not belong to the gridliner axes\n",
      "  warnings.warn('The labels of this gridliner do not belong to '\n"
     ]
    },
    {
     "name": "stdout",
     "output_type": "stream",
     "text": [
      "{'transform': <cartopy.crs.PlateCarree object at 0x7ff1d3a976d0>, 'color': 'w'}\n"
     ]
    },
    {
     "name": "stderr",
     "output_type": "stream",
     "text": [
      "/home/jtomf/miniconda3/lib/python3.9/site-packages/cartopy/mpl/gridliner.py:741: UserWarning: The labels of this gridliner do not belong to the gridliner axes\n",
      "  warnings.warn('The labels of this gridliner do not belong to '\n"
     ]
    },
    {
     "name": "stdout",
     "output_type": "stream",
     "text": [
      "{'transform': <cartopy.crs.PlateCarree object at 0x7ff1d39737c0>, 'color': 'w'}\n"
     ]
    },
    {
     "name": "stderr",
     "output_type": "stream",
     "text": [
      "/home/jtomf/miniconda3/lib/python3.9/site-packages/cartopy/mpl/gridliner.py:741: UserWarning: The labels of this gridliner do not belong to the gridliner axes\n",
      "  warnings.warn('The labels of this gridliner do not belong to '\n"
     ]
    },
    {
     "name": "stdout",
     "output_type": "stream",
     "text": [
      "{'transform': <cartopy.crs.PlateCarree object at 0x7ff1d38a7270>, 'color': 'w'}\n",
      "{'transform': <cartopy.crs.PlateCarree object at 0x7ff1d39e92c0>, 'color': 'w'}\n"
     ]
    },
    {
     "name": "stderr",
     "output_type": "stream",
     "text": [
      "/home/jtomf/miniconda3/lib/python3.9/site-packages/cartopy/mpl/gridliner.py:741: UserWarning: The labels of this gridliner do not belong to the gridliner axes\n",
      "  warnings.warn('The labels of this gridliner do not belong to '\n"
     ]
    },
    {
     "name": "stdout",
     "output_type": "stream",
     "text": [
      "{'transform': <cartopy.crs.PlateCarree object at 0x7ff1d38fc9f0>, 'color': 'w'}\n"
     ]
    },
    {
     "name": "stderr",
     "output_type": "stream",
     "text": [
      "/home/jtomf/miniconda3/lib/python3.9/site-packages/cartopy/mpl/gridliner.py:741: UserWarning: The labels of this gridliner do not belong to the gridliner axes\n",
      "  warnings.warn('The labels of this gridliner do not belong to '\n"
     ]
    }
   ],
   "source": [
    "fig = plt.figure()\n",
    "for tind in range(len(ds.time)):\n",
    "    plot_SSH_map(tind)"
   ]
  },
  {
   "cell_type": "code",
   "execution_count": 10,
   "id": "08c72ddc-ac17-4407-a3f9-be980b381820",
   "metadata": {},
   "outputs": [
    {
     "data": {
      "text/plain": [
       "'../plots/SSH_plots/SLA420.png'"
      ]
     },
     "execution_count": 10,
     "metadata": {},
     "output_type": "execute_result"
    }
   ],
   "source": [
    "__figdir__+'SLA'+str(tind)+'.'+plotfiletype"
   ]
  },
  {
   "cell_type": "code",
   "execution_count": 13,
   "id": "f825f340-e12c-4086-ab71-158fb2233d9c",
   "metadata": {},
   "outputs": [
    {
     "data": {
      "text/plain": [
       "'/home/jtomf/Python/S-MODE_analysis/code_IOP1'"
      ]
     },
     "execution_count": 13,
     "metadata": {},
     "output_type": "execute_result"
    }
   ],
   "source": [
    "pwd"
   ]
  },
  {
   "cell_type": "code",
   "execution_count": 12,
   "id": "2875443e-6c24-4824-a08d-2f34f77e6a8a",
   "metadata": {},
   "outputs": [],
   "source": [
    "# !ffmpeg -i SLA%d.png -r 10 video5.avi"
   ]
  },
  {
   "cell_type": "markdown",
   "id": "62bae61d-e2b0-4c59-aef2-8abc64379bf2",
   "metadata": {},
   "source": [
    "## Extract a time series at a point or at a series of points\n",
    "\n",
    "Try making input a list of lat, lon, times to interpolate to.  I could make that a function and then iterate over times.\n",
    "\n",
    "So, I want to interpolate DUACS u,v to a given time, lon, lat.\n",
    "\n",
    "Will use xarray interp package, following:  \n",
    "https://docs.xarray.dev/en/stable/user-guide/interpolation.htmlhttps://docs.xarray.dev/en/stable/user-guide/interpolation.html\n"
   ]
  },
  {
   "cell_type": "code",
   "execution_count": 20,
   "id": "953a0b57-5cf9-4875-99a4-7ff7ffb581ec",
   "metadata": {
    "collapsed": true,
    "jupyter": {
     "outputs_hidden": true
    },
    "tags": []
   },
   "outputs": [
    {
     "name": "stderr",
     "output_type": "stream",
     "text": [
      "/home/jtomf/miniconda3/lib/python3.9/site-packages/xarray/core/missing.py:562: FutureWarning: Passing method to DatetimeIndex.get_loc is deprecated and will raise in a future version. Use index.get_indexer([item], method=...) instead.\n",
      "  imin = index.get_loc(minval, method=\"nearest\")\n",
      "/home/jtomf/miniconda3/lib/python3.9/site-packages/xarray/core/missing.py:563: FutureWarning: Passing method to DatetimeIndex.get_loc is deprecated and will raise in a future version. Use index.get_indexer([item], method=...) instead.\n",
      "  imax = index.get_loc(maxval, method=\"nearest\")\n",
      "/home/jtomf/miniconda3/lib/python3.9/site-packages/xarray/core/missing.py:562: FutureWarning: Passing method to Float64Index.get_loc is deprecated and will raise in a future version. Use index.get_indexer([item], method=...) instead.\n",
      "  imin = index.get_loc(minval, method=\"nearest\")\n",
      "/home/jtomf/miniconda3/lib/python3.9/site-packages/xarray/core/missing.py:563: FutureWarning: Passing method to Float64Index.get_loc is deprecated and will raise in a future version. Use index.get_indexer([item], method=...) instead.\n",
      "  imax = index.get_loc(maxval, method=\"nearest\")\n",
      "/home/jtomf/miniconda3/lib/python3.9/site-packages/xarray/core/missing.py:562: FutureWarning: Passing method to Float64Index.get_loc is deprecated and will raise in a future version. Use index.get_indexer([item], method=...) instead.\n",
      "  imin = index.get_loc(minval, method=\"nearest\")\n",
      "/home/jtomf/miniconda3/lib/python3.9/site-packages/xarray/core/missing.py:563: FutureWarning: Passing method to Float64Index.get_loc is deprecated and will raise in a future version. Use index.get_indexer([item], method=...) instead.\n",
      "  imax = index.get_loc(maxval, method=\"nearest\")\n"
     ]
    }
   ],
   "source": [
    "new_lon = -126.1\n",
    "new_lat = 37.1\n",
    "new_time = ds.time[-3]\n",
    "dsi = ds.interp(time=new_time,latitude=new_lat, longitude=new_lon)"
   ]
  },
  {
   "cell_type": "code",
   "execution_count": 21,
   "id": "f08d9009-b9c9-4b9b-a9e3-8875e661f9b0",
   "metadata": {
    "tags": []
   },
   "outputs": [
    {
     "data": {
      "text/html": [
       "<div><svg style=\"position: absolute; width: 0; height: 0; overflow: hidden\">\n",
       "<defs>\n",
       "<symbol id=\"icon-database\" viewBox=\"0 0 32 32\">\n",
       "<path d=\"M16 0c-8.837 0-16 2.239-16 5v4c0 2.761 7.163 5 16 5s16-2.239 16-5v-4c0-2.761-7.163-5-16-5z\"></path>\n",
       "<path d=\"M16 17c-8.837 0-16-2.239-16-5v6c0 2.761 7.163 5 16 5s16-2.239 16-5v-6c0 2.761-7.163 5-16 5z\"></path>\n",
       "<path d=\"M16 26c-8.837 0-16-2.239-16-5v6c0 2.761 7.163 5 16 5s16-2.239 16-5v-6c0 2.761-7.163 5-16 5z\"></path>\n",
       "</symbol>\n",
       "<symbol id=\"icon-file-text2\" viewBox=\"0 0 32 32\">\n",
       "<path d=\"M28.681 7.159c-0.694-0.947-1.662-2.053-2.724-3.116s-2.169-2.030-3.116-2.724c-1.612-1.182-2.393-1.319-2.841-1.319h-15.5c-1.378 0-2.5 1.121-2.5 2.5v27c0 1.378 1.122 2.5 2.5 2.5h23c1.378 0 2.5-1.122 2.5-2.5v-19.5c0-0.448-0.137-1.23-1.319-2.841zM24.543 5.457c0.959 0.959 1.712 1.825 2.268 2.543h-4.811v-4.811c0.718 0.556 1.584 1.309 2.543 2.268zM28 29.5c0 0.271-0.229 0.5-0.5 0.5h-23c-0.271 0-0.5-0.229-0.5-0.5v-27c0-0.271 0.229-0.5 0.5-0.5 0 0 15.499-0 15.5 0v7c0 0.552 0.448 1 1 1h7v19.5z\"></path>\n",
       "<path d=\"M23 26h-14c-0.552 0-1-0.448-1-1s0.448-1 1-1h14c0.552 0 1 0.448 1 1s-0.448 1-1 1z\"></path>\n",
       "<path d=\"M23 22h-14c-0.552 0-1-0.448-1-1s0.448-1 1-1h14c0.552 0 1 0.448 1 1s-0.448 1-1 1z\"></path>\n",
       "<path d=\"M23 18h-14c-0.552 0-1-0.448-1-1s0.448-1 1-1h14c0.552 0 1 0.448 1 1s-0.448 1-1 1z\"></path>\n",
       "</symbol>\n",
       "</defs>\n",
       "</svg>\n",
       "<style>/* CSS stylesheet for displaying xarray objects in jupyterlab.\n",
       " *\n",
       " */\n",
       "\n",
       ":root {\n",
       "  --xr-font-color0: var(--jp-content-font-color0, rgba(0, 0, 0, 1));\n",
       "  --xr-font-color2: var(--jp-content-font-color2, rgba(0, 0, 0, 0.54));\n",
       "  --xr-font-color3: var(--jp-content-font-color3, rgba(0, 0, 0, 0.38));\n",
       "  --xr-border-color: var(--jp-border-color2, #e0e0e0);\n",
       "  --xr-disabled-color: var(--jp-layout-color3, #bdbdbd);\n",
       "  --xr-background-color: var(--jp-layout-color0, white);\n",
       "  --xr-background-color-row-even: var(--jp-layout-color1, white);\n",
       "  --xr-background-color-row-odd: var(--jp-layout-color2, #eeeeee);\n",
       "}\n",
       "\n",
       "html[theme=dark],\n",
       "body.vscode-dark {\n",
       "  --xr-font-color0: rgba(255, 255, 255, 1);\n",
       "  --xr-font-color2: rgba(255, 255, 255, 0.54);\n",
       "  --xr-font-color3: rgba(255, 255, 255, 0.38);\n",
       "  --xr-border-color: #1F1F1F;\n",
       "  --xr-disabled-color: #515151;\n",
       "  --xr-background-color: #111111;\n",
       "  --xr-background-color-row-even: #111111;\n",
       "  --xr-background-color-row-odd: #313131;\n",
       "}\n",
       "\n",
       ".xr-wrap {\n",
       "  display: block;\n",
       "  min-width: 300px;\n",
       "  max-width: 700px;\n",
       "}\n",
       "\n",
       ".xr-text-repr-fallback {\n",
       "  /* fallback to plain text repr when CSS is not injected (untrusted notebook) */\n",
       "  display: none;\n",
       "}\n",
       "\n",
       ".xr-header {\n",
       "  padding-top: 6px;\n",
       "  padding-bottom: 6px;\n",
       "  margin-bottom: 4px;\n",
       "  border-bottom: solid 1px var(--xr-border-color);\n",
       "}\n",
       "\n",
       ".xr-header > div,\n",
       ".xr-header > ul {\n",
       "  display: inline;\n",
       "  margin-top: 0;\n",
       "  margin-bottom: 0;\n",
       "}\n",
       "\n",
       ".xr-obj-type,\n",
       ".xr-array-name {\n",
       "  margin-left: 2px;\n",
       "  margin-right: 10px;\n",
       "}\n",
       "\n",
       ".xr-obj-type {\n",
       "  color: var(--xr-font-color2);\n",
       "}\n",
       "\n",
       ".xr-sections {\n",
       "  padding-left: 0 !important;\n",
       "  display: grid;\n",
       "  grid-template-columns: 150px auto auto 1fr 20px 20px;\n",
       "}\n",
       "\n",
       ".xr-section-item {\n",
       "  display: contents;\n",
       "}\n",
       "\n",
       ".xr-section-item input {\n",
       "  display: none;\n",
       "}\n",
       "\n",
       ".xr-section-item input + label {\n",
       "  color: var(--xr-disabled-color);\n",
       "}\n",
       "\n",
       ".xr-section-item input:enabled + label {\n",
       "  cursor: pointer;\n",
       "  color: var(--xr-font-color2);\n",
       "}\n",
       "\n",
       ".xr-section-item input:enabled + label:hover {\n",
       "  color: var(--xr-font-color0);\n",
       "}\n",
       "\n",
       ".xr-section-summary {\n",
       "  grid-column: 1;\n",
       "  color: var(--xr-font-color2);\n",
       "  font-weight: 500;\n",
       "}\n",
       "\n",
       ".xr-section-summary > span {\n",
       "  display: inline-block;\n",
       "  padding-left: 0.5em;\n",
       "}\n",
       "\n",
       ".xr-section-summary-in:disabled + label {\n",
       "  color: var(--xr-font-color2);\n",
       "}\n",
       "\n",
       ".xr-section-summary-in + label:before {\n",
       "  display: inline-block;\n",
       "  content: '►';\n",
       "  font-size: 11px;\n",
       "  width: 15px;\n",
       "  text-align: center;\n",
       "}\n",
       "\n",
       ".xr-section-summary-in:disabled + label:before {\n",
       "  color: var(--xr-disabled-color);\n",
       "}\n",
       "\n",
       ".xr-section-summary-in:checked + label:before {\n",
       "  content: '▼';\n",
       "}\n",
       "\n",
       ".xr-section-summary-in:checked + label > span {\n",
       "  display: none;\n",
       "}\n",
       "\n",
       ".xr-section-summary,\n",
       ".xr-section-inline-details {\n",
       "  padding-top: 4px;\n",
       "  padding-bottom: 4px;\n",
       "}\n",
       "\n",
       ".xr-section-inline-details {\n",
       "  grid-column: 2 / -1;\n",
       "}\n",
       "\n",
       ".xr-section-details {\n",
       "  display: none;\n",
       "  grid-column: 1 / -1;\n",
       "  margin-bottom: 5px;\n",
       "}\n",
       "\n",
       ".xr-section-summary-in:checked ~ .xr-section-details {\n",
       "  display: contents;\n",
       "}\n",
       "\n",
       ".xr-array-wrap {\n",
       "  grid-column: 1 / -1;\n",
       "  display: grid;\n",
       "  grid-template-columns: 20px auto;\n",
       "}\n",
       "\n",
       ".xr-array-wrap > label {\n",
       "  grid-column: 1;\n",
       "  vertical-align: top;\n",
       "}\n",
       "\n",
       ".xr-preview {\n",
       "  color: var(--xr-font-color3);\n",
       "}\n",
       "\n",
       ".xr-array-preview,\n",
       ".xr-array-data {\n",
       "  padding: 0 5px !important;\n",
       "  grid-column: 2;\n",
       "}\n",
       "\n",
       ".xr-array-data,\n",
       ".xr-array-in:checked ~ .xr-array-preview {\n",
       "  display: none;\n",
       "}\n",
       "\n",
       ".xr-array-in:checked ~ .xr-array-data,\n",
       ".xr-array-preview {\n",
       "  display: inline-block;\n",
       "}\n",
       "\n",
       ".xr-dim-list {\n",
       "  display: inline-block !important;\n",
       "  list-style: none;\n",
       "  padding: 0 !important;\n",
       "  margin: 0;\n",
       "}\n",
       "\n",
       ".xr-dim-list li {\n",
       "  display: inline-block;\n",
       "  padding: 0;\n",
       "  margin: 0;\n",
       "}\n",
       "\n",
       ".xr-dim-list:before {\n",
       "  content: '(';\n",
       "}\n",
       "\n",
       ".xr-dim-list:after {\n",
       "  content: ')';\n",
       "}\n",
       "\n",
       ".xr-dim-list li:not(:last-child):after {\n",
       "  content: ',';\n",
       "  padding-right: 5px;\n",
       "}\n",
       "\n",
       ".xr-has-index {\n",
       "  font-weight: bold;\n",
       "}\n",
       "\n",
       ".xr-var-list,\n",
       ".xr-var-item {\n",
       "  display: contents;\n",
       "}\n",
       "\n",
       ".xr-var-item > div,\n",
       ".xr-var-item label,\n",
       ".xr-var-item > .xr-var-name span {\n",
       "  background-color: var(--xr-background-color-row-even);\n",
       "  margin-bottom: 0;\n",
       "}\n",
       "\n",
       ".xr-var-item > .xr-var-name:hover span {\n",
       "  padding-right: 5px;\n",
       "}\n",
       "\n",
       ".xr-var-list > li:nth-child(odd) > div,\n",
       ".xr-var-list > li:nth-child(odd) > label,\n",
       ".xr-var-list > li:nth-child(odd) > .xr-var-name span {\n",
       "  background-color: var(--xr-background-color-row-odd);\n",
       "}\n",
       "\n",
       ".xr-var-name {\n",
       "  grid-column: 1;\n",
       "}\n",
       "\n",
       ".xr-var-dims {\n",
       "  grid-column: 2;\n",
       "}\n",
       "\n",
       ".xr-var-dtype {\n",
       "  grid-column: 3;\n",
       "  text-align: right;\n",
       "  color: var(--xr-font-color2);\n",
       "}\n",
       "\n",
       ".xr-var-preview {\n",
       "  grid-column: 4;\n",
       "}\n",
       "\n",
       ".xr-var-name,\n",
       ".xr-var-dims,\n",
       ".xr-var-dtype,\n",
       ".xr-preview,\n",
       ".xr-attrs dt {\n",
       "  white-space: nowrap;\n",
       "  overflow: hidden;\n",
       "  text-overflow: ellipsis;\n",
       "  padding-right: 10px;\n",
       "}\n",
       "\n",
       ".xr-var-name:hover,\n",
       ".xr-var-dims:hover,\n",
       ".xr-var-dtype:hover,\n",
       ".xr-attrs dt:hover {\n",
       "  overflow: visible;\n",
       "  width: auto;\n",
       "  z-index: 1;\n",
       "}\n",
       "\n",
       ".xr-var-attrs,\n",
       ".xr-var-data {\n",
       "  display: none;\n",
       "  background-color: var(--xr-background-color) !important;\n",
       "  padding-bottom: 5px !important;\n",
       "}\n",
       "\n",
       ".xr-var-attrs-in:checked ~ .xr-var-attrs,\n",
       ".xr-var-data-in:checked ~ .xr-var-data {\n",
       "  display: block;\n",
       "}\n",
       "\n",
       ".xr-var-data > table {\n",
       "  float: right;\n",
       "}\n",
       "\n",
       ".xr-var-name span,\n",
       ".xr-var-data,\n",
       ".xr-attrs {\n",
       "  padding-left: 25px !important;\n",
       "}\n",
       "\n",
       ".xr-attrs,\n",
       ".xr-var-attrs,\n",
       ".xr-var-data {\n",
       "  grid-column: 1 / -1;\n",
       "}\n",
       "\n",
       "dl.xr-attrs {\n",
       "  padding: 0;\n",
       "  margin: 0;\n",
       "  display: grid;\n",
       "  grid-template-columns: 125px auto;\n",
       "}\n",
       "\n",
       ".xr-attrs dt,\n",
       ".xr-attrs dd {\n",
       "  padding: 0;\n",
       "  margin: 0;\n",
       "  float: left;\n",
       "  padding-right: 10px;\n",
       "  width: auto;\n",
       "}\n",
       "\n",
       ".xr-attrs dt {\n",
       "  font-weight: normal;\n",
       "  grid-column: 1;\n",
       "}\n",
       "\n",
       ".xr-attrs dt:hover span {\n",
       "  display: inline-block;\n",
       "  background: var(--xr-background-color);\n",
       "  padding-right: 10px;\n",
       "}\n",
       "\n",
       ".xr-attrs dd {\n",
       "  grid-column: 2;\n",
       "  white-space: pre-wrap;\n",
       "  word-break: break-all;\n",
       "}\n",
       "\n",
       ".xr-icon-database,\n",
       ".xr-icon-file-text2 {\n",
       "  display: inline-block;\n",
       "  vertical-align: middle;\n",
       "  width: 1em;\n",
       "  height: 1.5em !important;\n",
       "  stroke-width: 0;\n",
       "  stroke: currentColor;\n",
       "  fill: currentColor;\n",
       "}\n",
       "</style><pre class='xr-text-repr-fallback'>&lt;xarray.Dataset&gt;\n",
       "Dimensions:    ()\n",
       "Coordinates:\n",
       "    time       datetime64[ns] 2022-10-07\n",
       "    latitude   float64 37.1\n",
       "    longitude  float64 -126.1\n",
       "Data variables:\n",
       "    adt        float64 0.5195\n",
       "    ugos       float64 -0.02652\n",
       "    vgos       float64 0.05163\n",
       "    vgosa      float64 0.09413\n",
       "    crs        int32 -2147483647\n",
       "    err_vgosa  float64 0.07926\n",
       "    err_ugosa  float64 0.04859\n",
       "    sla        float64 0.01051\n",
       "    ugosa      float64 -0.03788\n",
       "Attributes: (12/45)\n",
       "    Conventions:                                    CF-1.6\n",
       "    FROM_ORIGINAL_FILE__Metadata_Conventions:       Unidata Dataset Discovery...\n",
       "    cdm_data_type:                                  Grid\n",
       "    comment:                                        Sea Surface Height measur...\n",
       "    contact:                                        servicedesk.cmems@mercato...\n",
       "    creator_email:                                  servicedesk.cmems@mercato...\n",
       "    ...                                             ...\n",
       "    time_coverage_duration:                         P1D\n",
       "    time_coverage_end:                              2022-10-09T12:00:00Z\n",
       "    time_coverage_resolution:                       P1D\n",
       "    time_coverage_start:                            2022-10-08T12:00:00Z\n",
       "    title:                                          NRT merged all satellites...\n",
       "    _CoordSysBuilder:                               ucar.nc2.dataset.conv.CF1...</pre><div class='xr-wrap' hidden><div class='xr-header'><div class='xr-obj-type'>xarray.Dataset</div></div><ul class='xr-sections'><li class='xr-section-item'><input id='section-c6b6b676-d5b3-4c9f-80fe-b65beaea93f2' class='xr-section-summary-in' type='checkbox' disabled ><label for='section-c6b6b676-d5b3-4c9f-80fe-b65beaea93f2' class='xr-section-summary'  title='Expand/collapse section'>Dimensions:</label><div class='xr-section-inline-details'></div><div class='xr-section-details'></div></li><li class='xr-section-item'><input id='section-ec6d49f0-f059-4b36-8333-cb0ea9d6e641' class='xr-section-summary-in' type='checkbox'  checked><label for='section-ec6d49f0-f059-4b36-8333-cb0ea9d6e641' class='xr-section-summary' >Coordinates: <span>(3)</span></label><div class='xr-section-inline-details'></div><div class='xr-section-details'><ul class='xr-var-list'><li class='xr-var-item'><div class='xr-var-name'><span>time</span></div><div class='xr-var-dims'>()</div><div class='xr-var-dtype'>datetime64[ns]</div><div class='xr-var-preview xr-preview'>2022-10-07</div><input id='attrs-6d874950-e5b6-4daf-8ba2-0990ce8a1772' class='xr-var-attrs-in' type='checkbox' ><label for='attrs-6d874950-e5b6-4daf-8ba2-0990ce8a1772' title='Show/Hide attributes'><svg class='icon xr-icon-file-text2'><use xlink:href='#icon-file-text2'></use></svg></label><input id='data-e62a1496-5916-4e39-bba2-ba572aa8960d' class='xr-var-data-in' type='checkbox'><label for='data-e62a1496-5916-4e39-bba2-ba572aa8960d' title='Show/Hide data repr'><svg class='icon xr-icon-database'><use xlink:href='#icon-database'></use></svg></label><div class='xr-var-attrs'><dl class='xr-attrs'><dt><span>axis :</span></dt><dd>T</dd><dt><span>long_name :</span></dt><dd>Time</dd><dt><span>standard_name :</span></dt><dd>time</dd><dt><span>_ChunkSizes :</span></dt><dd>1</dd><dt><span>_CoordinateAxisType :</span></dt><dd>Time</dd><dt><span>valid_min :</span></dt><dd>26159.0</dd><dt><span>valid_max :</span></dt><dd>26579.0</dd></dl></div><div class='xr-var-data'><pre>array(&#x27;2022-10-07T00:00:00.000000000&#x27;, dtype=&#x27;datetime64[ns]&#x27;)</pre></div></li><li class='xr-var-item'><div class='xr-var-name'><span>latitude</span></div><div class='xr-var-dims'>()</div><div class='xr-var-dtype'>float64</div><div class='xr-var-preview xr-preview'>37.1</div><input id='attrs-6597bf53-288d-4941-b2d3-3bec4a4a7f29' class='xr-var-attrs-in' type='checkbox' ><label for='attrs-6597bf53-288d-4941-b2d3-3bec4a4a7f29' title='Show/Hide attributes'><svg class='icon xr-icon-file-text2'><use xlink:href='#icon-file-text2'></use></svg></label><input id='data-e931907b-0eaf-40f0-a868-3ff3088e1a8e' class='xr-var-data-in' type='checkbox'><label for='data-e931907b-0eaf-40f0-a868-3ff3088e1a8e' title='Show/Hide data repr'><svg class='icon xr-icon-database'><use xlink:href='#icon-database'></use></svg></label><div class='xr-var-attrs'><dl class='xr-attrs'><dt><span>axis :</span></dt><dd>Y</dd><dt><span>bounds :</span></dt><dd>lat_bnds</dd><dt><span>long_name :</span></dt><dd>Latitude</dd><dt><span>standard_name :</span></dt><dd>latitude</dd><dt><span>units :</span></dt><dd>degrees_north</dd><dt><span>valid_max :</span></dt><dd>42.875</dd><dt><span>valid_min :</span></dt><dd>33.875</dd><dt><span>_ChunkSizes :</span></dt><dd>50</dd><dt><span>_CoordinateAxisType :</span></dt><dd>Lat</dd></dl></div><div class='xr-var-data'><pre>array(37.1)</pre></div></li><li class='xr-var-item'><div class='xr-var-name'><span>longitude</span></div><div class='xr-var-dims'>()</div><div class='xr-var-dtype'>float64</div><div class='xr-var-preview xr-preview'>-126.1</div><input id='attrs-d6c3e654-767c-4088-aab8-c1874d18954d' class='xr-var-attrs-in' type='checkbox' ><label for='attrs-d6c3e654-767c-4088-aab8-c1874d18954d' title='Show/Hide attributes'><svg class='icon xr-icon-file-text2'><use xlink:href='#icon-file-text2'></use></svg></label><input id='data-e882cd44-236b-439e-a6d1-75e9fe54ba51' class='xr-var-data-in' type='checkbox'><label for='data-e882cd44-236b-439e-a6d1-75e9fe54ba51' title='Show/Hide data repr'><svg class='icon xr-icon-database'><use xlink:href='#icon-database'></use></svg></label><div class='xr-var-attrs'><dl class='xr-attrs'><dt><span>axis :</span></dt><dd>X</dd><dt><span>bounds :</span></dt><dd>lon_bnds</dd><dt><span>long_name :</span></dt><dd>Longitude</dd><dt><span>standard_name :</span></dt><dd>longitude</dd><dt><span>units :</span></dt><dd>degrees_east</dd><dt><span>valid_max :</span></dt><dd>-120.125</dd><dt><span>valid_min :</span></dt><dd>-140.125</dd><dt><span>_ChunkSizes :</span></dt><dd>50</dd><dt><span>_CoordinateAxisType :</span></dt><dd>Lon</dd></dl></div><div class='xr-var-data'><pre>array(-126.1)</pre></div></li></ul></div></li><li class='xr-section-item'><input id='section-a69de4cd-3620-4908-b33f-18cb5ed552a8' class='xr-section-summary-in' type='checkbox'  checked><label for='section-a69de4cd-3620-4908-b33f-18cb5ed552a8' class='xr-section-summary' >Data variables: <span>(9)</span></label><div class='xr-section-inline-details'></div><div class='xr-section-details'><ul class='xr-var-list'><li class='xr-var-item'><div class='xr-var-name'><span>adt</span></div><div class='xr-var-dims'>()</div><div class='xr-var-dtype'>float64</div><div class='xr-var-preview xr-preview'>0.5195</div><input id='attrs-47035650-8e26-4d42-8e86-3d8d5cb2bd0d' class='xr-var-attrs-in' type='checkbox' ><label for='attrs-47035650-8e26-4d42-8e86-3d8d5cb2bd0d' title='Show/Hide attributes'><svg class='icon xr-icon-file-text2'><use xlink:href='#icon-file-text2'></use></svg></label><input id='data-baed6547-8560-45f3-b034-d80c0801241e' class='xr-var-data-in' type='checkbox'><label for='data-baed6547-8560-45f3-b034-d80c0801241e' title='Show/Hide data repr'><svg class='icon xr-icon-database'><use xlink:href='#icon-database'></use></svg></label><div class='xr-var-attrs'><dl class='xr-attrs'><dt><span>comment :</span></dt><dd>The absolute dynamic topography is the sea surface height above geoid; the adt is obtained as follows: adt=sla+mdt where mdt is the mean dynamic topography; see the product user manual for details</dd><dt><span>grid_mapping :</span></dt><dd>crs</dd><dt><span>long_name :</span></dt><dd>Absolute dynamic topography</dd><dt><span>standard_name :</span></dt><dd>sea_surface_height_above_geoid</dd><dt><span>units :</span></dt><dd>m</dd><dt><span>_ChunkSizes :</span></dt><dd>[ 1 50 50]</dd></dl></div><div class='xr-var-data'><pre>array(0.519503)</pre></div></li><li class='xr-var-item'><div class='xr-var-name'><span>ugos</span></div><div class='xr-var-dims'>()</div><div class='xr-var-dtype'>float64</div><div class='xr-var-preview xr-preview'>-0.02652</div><input id='attrs-6786ef94-1a6c-4b52-b269-ea0ef3b901da' class='xr-var-attrs-in' type='checkbox' ><label for='attrs-6786ef94-1a6c-4b52-b269-ea0ef3b901da' title='Show/Hide attributes'><svg class='icon xr-icon-file-text2'><use xlink:href='#icon-file-text2'></use></svg></label><input id='data-3d9aa394-8b33-4edf-b8bc-c8c4c0af6d8a' class='xr-var-data-in' type='checkbox'><label for='data-3d9aa394-8b33-4edf-b8bc-c8c4c0af6d8a' title='Show/Hide data repr'><svg class='icon xr-icon-database'><use xlink:href='#icon-database'></use></svg></label><div class='xr-var-attrs'><dl class='xr-attrs'><dt><span>grid_mapping :</span></dt><dd>crs</dd><dt><span>long_name :</span></dt><dd>Absolute geostrophic velocity: zonal component</dd><dt><span>standard_name :</span></dt><dd>surface_geostrophic_eastward_sea_water_velocity</dd><dt><span>units :</span></dt><dd>m/s</dd><dt><span>_ChunkSizes :</span></dt><dd>[ 1 50 50]</dd></dl></div><div class='xr-var-data'><pre>array(-0.026521)</pre></div></li><li class='xr-var-item'><div class='xr-var-name'><span>vgos</span></div><div class='xr-var-dims'>()</div><div class='xr-var-dtype'>float64</div><div class='xr-var-preview xr-preview'>0.05163</div><input id='attrs-73bb34ae-3070-405a-a1b6-a53f4a79d112' class='xr-var-attrs-in' type='checkbox' ><label for='attrs-73bb34ae-3070-405a-a1b6-a53f4a79d112' title='Show/Hide attributes'><svg class='icon xr-icon-file-text2'><use xlink:href='#icon-file-text2'></use></svg></label><input id='data-411fa07a-d291-466f-8ef6-31799a8e42d2' class='xr-var-data-in' type='checkbox'><label for='data-411fa07a-d291-466f-8ef6-31799a8e42d2' title='Show/Hide data repr'><svg class='icon xr-icon-database'><use xlink:href='#icon-database'></use></svg></label><div class='xr-var-attrs'><dl class='xr-attrs'><dt><span>grid_mapping :</span></dt><dd>crs</dd><dt><span>long_name :</span></dt><dd>Absolute geostrophic velocity: meridian component</dd><dt><span>standard_name :</span></dt><dd>surface_geostrophic_northward_sea_water_velocity</dd><dt><span>units :</span></dt><dd>m/s</dd><dt><span>_ChunkSizes :</span></dt><dd>[ 1 50 50]</dd></dl></div><div class='xr-var-data'><pre>array(0.051629)</pre></div></li><li class='xr-var-item'><div class='xr-var-name'><span>vgosa</span></div><div class='xr-var-dims'>()</div><div class='xr-var-dtype'>float64</div><div class='xr-var-preview xr-preview'>0.09413</div><input id='attrs-62c273c3-274a-4277-9870-b3faaede4186' class='xr-var-attrs-in' type='checkbox' ><label for='attrs-62c273c3-274a-4277-9870-b3faaede4186' title='Show/Hide attributes'><svg class='icon xr-icon-file-text2'><use xlink:href='#icon-file-text2'></use></svg></label><input id='data-844850f8-1d1e-47cc-9d75-53b894865cd0' class='xr-var-data-in' type='checkbox'><label for='data-844850f8-1d1e-47cc-9d75-53b894865cd0' title='Show/Hide data repr'><svg class='icon xr-icon-database'><use xlink:href='#icon-database'></use></svg></label><div class='xr-var-attrs'><dl class='xr-attrs'><dt><span>ancillary_variables :</span></dt><dd>err_vgosa</dd><dt><span>comment :</span></dt><dd>The geostrophic velocity anomalies are referenced to the [1993, 2012] period</dd><dt><span>grid_mapping :</span></dt><dd>crs</dd><dt><span>long_name :</span></dt><dd>Geostrophic velocity anomalies: meridian component</dd><dt><span>standard_name :</span></dt><dd>surface_geostrophic_northward_sea_water_velocity_assuming_sea_level_for_geoid</dd><dt><span>units :</span></dt><dd>m/s</dd><dt><span>_ChunkSizes :</span></dt><dd>[ 1 50 50]</dd></dl></div><div class='xr-var-data'><pre>array(0.094132)</pre></div></li><li class='xr-var-item'><div class='xr-var-name'><span>crs</span></div><div class='xr-var-dims'>()</div><div class='xr-var-dtype'>int32</div><div class='xr-var-preview xr-preview'>-2147483647</div><input id='attrs-efe0f429-b058-4a9d-884a-b8d17e420133' class='xr-var-attrs-in' type='checkbox' ><label for='attrs-efe0f429-b058-4a9d-884a-b8d17e420133' title='Show/Hide attributes'><svg class='icon xr-icon-file-text2'><use xlink:href='#icon-file-text2'></use></svg></label><input id='data-1c714f60-a90d-423a-8438-64c07e5e5b1d' class='xr-var-data-in' type='checkbox'><label for='data-1c714f60-a90d-423a-8438-64c07e5e5b1d' title='Show/Hide data repr'><svg class='icon xr-icon-database'><use xlink:href='#icon-database'></use></svg></label><div class='xr-var-attrs'><dl class='xr-attrs'><dt><span>comment :</span></dt><dd>This is a container variable that describes the grid_mapping used by the data in this file. This variable does not contain any data; only information about the geographic coordinate system.</dd><dt><span>inverse_flattening :</span></dt><dd>298.257</dd><dt><span>grid_mapping_name :</span></dt><dd>latitude_longitude</dd><dt><span>semi_major_axis :</span></dt><dd>6378136.3</dd><dt><span>_CoordinateTransformType :</span></dt><dd>Projection</dd><dt><span>_CoordinateAxisTypes :</span></dt><dd>GeoX GeoY</dd></dl></div><div class='xr-var-data'><pre>array(-2147483647, dtype=int32)</pre></div></li><li class='xr-var-item'><div class='xr-var-name'><span>err_vgosa</span></div><div class='xr-var-dims'>()</div><div class='xr-var-dtype'>float64</div><div class='xr-var-preview xr-preview'>0.07926</div><input id='attrs-835e919a-6b29-4530-b49f-31a8fbc0a1b4' class='xr-var-attrs-in' type='checkbox' ><label for='attrs-835e919a-6b29-4530-b49f-31a8fbc0a1b4' title='Show/Hide attributes'><svg class='icon xr-icon-file-text2'><use xlink:href='#icon-file-text2'></use></svg></label><input id='data-4822cd27-9f95-4a54-8b72-2ce843b360e6' class='xr-var-data-in' type='checkbox'><label for='data-4822cd27-9f95-4a54-8b72-2ce843b360e6' title='Show/Hide data repr'><svg class='icon xr-icon-database'><use xlink:href='#icon-database'></use></svg></label><div class='xr-var-attrs'><dl class='xr-attrs'><dt><span>comment :</span></dt><dd>The formal mapping error represents a purely theoretical mapping error. It mainly traduces errors induced by the constellation sampling capability and consistency with the spatial/temporal scales considered, as described in Le Traon et al (1998) or Ducet et al (2000)</dd><dt><span>grid_mapping :</span></dt><dd>crs</dd><dt><span>long_name :</span></dt><dd>Formal mapping error on meridional geostrophic velocity anomalies</dd><dt><span>standard_name :</span></dt><dd>surface_geostrophic_northward_sea_water_velocity_assuming_sea_level_for_geoid standard_error</dd><dt><span>units :</span></dt><dd>m/s</dd><dt><span>_ChunkSizes :</span></dt><dd>[ 1 50 50]</dd></dl></div><div class='xr-var-data'><pre>array(0.079259)</pre></div></li><li class='xr-var-item'><div class='xr-var-name'><span>err_ugosa</span></div><div class='xr-var-dims'>()</div><div class='xr-var-dtype'>float64</div><div class='xr-var-preview xr-preview'>0.04859</div><input id='attrs-8b9024cc-497e-4ab4-8b50-3000507a3708' class='xr-var-attrs-in' type='checkbox' ><label for='attrs-8b9024cc-497e-4ab4-8b50-3000507a3708' title='Show/Hide attributes'><svg class='icon xr-icon-file-text2'><use xlink:href='#icon-file-text2'></use></svg></label><input id='data-319a9066-4dac-4ead-b39c-00a5bc46f64e' class='xr-var-data-in' type='checkbox'><label for='data-319a9066-4dac-4ead-b39c-00a5bc46f64e' title='Show/Hide data repr'><svg class='icon xr-icon-database'><use xlink:href='#icon-database'></use></svg></label><div class='xr-var-attrs'><dl class='xr-attrs'><dt><span>comment :</span></dt><dd>The formal mapping error represents a purely theoretical mapping error. It mainly traduces errors induced by the constellation sampling capability and consistency with the spatial/temporal scales considered, as described in Le Traon et al (1998) or Ducet et al (2000)</dd><dt><span>grid_mapping :</span></dt><dd>crs</dd><dt><span>long_name :</span></dt><dd>Formal mapping error on zonal geostrophic velocity anomalies</dd><dt><span>standard_name :</span></dt><dd>surface_geostrophic_eastward_sea_water_velocity_assuming_sea_level_for_geoid standard_error</dd><dt><span>units :</span></dt><dd>m/s</dd><dt><span>_ChunkSizes :</span></dt><dd>[ 1 50 50]</dd></dl></div><div class='xr-var-data'><pre>array(0.048592)</pre></div></li><li class='xr-var-item'><div class='xr-var-name'><span>sla</span></div><div class='xr-var-dims'>()</div><div class='xr-var-dtype'>float64</div><div class='xr-var-preview xr-preview'>0.01051</div><input id='attrs-03f591d3-c956-4b48-b823-7f57e7f92691' class='xr-var-attrs-in' type='checkbox' ><label for='attrs-03f591d3-c956-4b48-b823-7f57e7f92691' title='Show/Hide attributes'><svg class='icon xr-icon-file-text2'><use xlink:href='#icon-file-text2'></use></svg></label><input id='data-d906bbbe-0e1f-4519-8f8f-a45e21c31660' class='xr-var-data-in' type='checkbox'><label for='data-d906bbbe-0e1f-4519-8f8f-a45e21c31660' title='Show/Hide data repr'><svg class='icon xr-icon-database'><use xlink:href='#icon-database'></use></svg></label><div class='xr-var-attrs'><dl class='xr-attrs'><dt><span>ancillary_variables :</span></dt><dd>err_sla</dd><dt><span>comment :</span></dt><dd>The sea level anomaly is the sea surface height above mean sea surface; it is referenced to the [1993, 2012] period; see the product user manual for details</dd><dt><span>grid_mapping :</span></dt><dd>crs</dd><dt><span>long_name :</span></dt><dd>Sea level anomaly</dd><dt><span>standard_name :</span></dt><dd>sea_surface_height_above_sea_level</dd><dt><span>units :</span></dt><dd>m</dd><dt><span>_ChunkSizes :</span></dt><dd>[ 1 50 50]</dd></dl></div><div class='xr-var-data'><pre>array(0.010508)</pre></div></li><li class='xr-var-item'><div class='xr-var-name'><span>ugosa</span></div><div class='xr-var-dims'>()</div><div class='xr-var-dtype'>float64</div><div class='xr-var-preview xr-preview'>-0.03788</div><input id='attrs-e40a8156-fdd0-49f2-be16-a26f86a5da27' class='xr-var-attrs-in' type='checkbox' ><label for='attrs-e40a8156-fdd0-49f2-be16-a26f86a5da27' title='Show/Hide attributes'><svg class='icon xr-icon-file-text2'><use xlink:href='#icon-file-text2'></use></svg></label><input id='data-bfcd0434-3e5a-4426-b0de-c3ed26b13de9' class='xr-var-data-in' type='checkbox'><label for='data-bfcd0434-3e5a-4426-b0de-c3ed26b13de9' title='Show/Hide data repr'><svg class='icon xr-icon-database'><use xlink:href='#icon-database'></use></svg></label><div class='xr-var-attrs'><dl class='xr-attrs'><dt><span>ancillary_variables :</span></dt><dd>err_ugosa</dd><dt><span>comment :</span></dt><dd>The geostrophic velocity anomalies are referenced to the [1993, 2012] period</dd><dt><span>grid_mapping :</span></dt><dd>crs</dd><dt><span>long_name :</span></dt><dd>Geostrophic velocity anomalies: zonal component</dd><dt><span>standard_name :</span></dt><dd>surface_geostrophic_eastward_sea_water_velocity_assuming_sea_level_for_geoid</dd><dt><span>units :</span></dt><dd>m/s</dd><dt><span>_ChunkSizes :</span></dt><dd>[ 1 50 50]</dd></dl></div><div class='xr-var-data'><pre>array(-0.037884)</pre></div></li></ul></div></li><li class='xr-section-item'><input id='section-5b2d322d-22cb-497b-bbff-4684b0f98a2c' class='xr-section-summary-in' type='checkbox'  ><label for='section-5b2d322d-22cb-497b-bbff-4684b0f98a2c' class='xr-section-summary' >Attributes: <span>(45)</span></label><div class='xr-section-inline-details'></div><div class='xr-section-details'><dl class='xr-attrs'><dt><span>Conventions :</span></dt><dd>CF-1.6</dd><dt><span>FROM_ORIGINAL_FILE__Metadata_Conventions :</span></dt><dd>Unidata Dataset Discovery v1.0</dd><dt><span>cdm_data_type :</span></dt><dd>Grid</dd><dt><span>comment :</span></dt><dd>Sea Surface Height measured by Altimetry and derived variables</dd><dt><span>contact :</span></dt><dd>servicedesk.cmems@mercator-ocean.eu</dd><dt><span>creator_email :</span></dt><dd>servicedesk.cmems@mercator-ocean.eu</dd><dt><span>creator_name :</span></dt><dd>CMEMS - Sea Level Thematic Assembly Center</dd><dt><span>creator_url :</span></dt><dd>http://marine.copernicus.eu</dd><dt><span>date_created :</span></dt><dd>2022-10-09T00:54:53Z</dd><dt><span>date_issued :</span></dt><dd>2022-10-09T00:54:53Z</dd><dt><span>date_modified :</span></dt><dd>2022-10-09T00:54:53Z</dd><dt><span>FROM_ORIGINAL_FILE__geospatial_lat_max :</span></dt><dd>89.875</dd><dt><span>FROM_ORIGINAL_FILE__geospatial_lat_min :</span></dt><dd>-89.875</dd><dt><span>FROM_ORIGINAL_FILE__geospatial_lat_resolution :</span></dt><dd>0.25</dd><dt><span>FROM_ORIGINAL_FILE__geospatial_lat_units :</span></dt><dd>degrees_north</dd><dt><span>FROM_ORIGINAL_FILE__geospatial_lon_max :</span></dt><dd>179.875</dd><dt><span>FROM_ORIGINAL_FILE__geospatial_lon_min :</span></dt><dd>-179.875</dd><dt><span>FROM_ORIGINAL_FILE__geospatial_lon_resolution :</span></dt><dd>0.25</dd><dt><span>FROM_ORIGINAL_FILE__geospatial_lon_units :</span></dt><dd>degrees_east</dd><dt><span>geospatial_vertical_max :</span></dt><dd>0.0</dd><dt><span>geospatial_vertical_min :</span></dt><dd>0.0</dd><dt><span>geospatial_vertical_positive :</span></dt><dd>down</dd><dt><span>geospatial_vertical_resolution :</span></dt><dd>point</dd><dt><span>geospatial_vertical_units :</span></dt><dd>m</dd><dt><span>history :</span></dt><dd>2022-10-09 00:54:54Z: Creation</dd><dt><span>institution :</span></dt><dd>CLS, CNES</dd><dt><span>keywords :</span></dt><dd>Oceans &gt; Ocean Topography &gt; Sea Surface Height</dd><dt><span>keywords_vocabulary :</span></dt><dd>NetCDF COARDS Climate and Forecast Standard Names</dd><dt><span>license :</span></dt><dd>http://marine.copernicus.eu/web/27-service-commitments-and-licence.php</dd><dt><span>FROM_ORIGINAL_FILE__platform :</span></dt><dd>Altika, Cryosat-2 New Orbit, Haiyang-2B, Jason-3 Interleaved, Sentinel-3A, Sentinel-3B, Sentinel-6A</dd><dt><span>processing_level :</span></dt><dd>L4</dd><dt><span>FROM_ORIGINAL_FILE__product_version :</span></dt><dd>vDec2021</dd><dt><span>project :</span></dt><dd>COPERNICUS MARINE ENVIRONMENT MONITORING SERVICE (CMEMS)</dd><dt><span>references :</span></dt><dd>http://marine.copernicus.eu</dd><dt><span>FROM_ORIGINAL_FILE__software_version :</span></dt><dd>19.2.0_DUACS_DT2021_baseline</dd><dt><span>source :</span></dt><dd>Altimetry measurements</dd><dt><span>ssalto_duacs_comment :</span></dt><dd>Sentinel-6A is the reference mission used for the altimeter inter-calibration processing</dd><dt><span>standard_name_vocabulary :</span></dt><dd>NetCDF Climate and Forecast (CF) Metadata Convention Standard Name Table v37</dd><dt><span>summary :</span></dt><dd>SSALTO/DUACS Near-Real-Time Level-4 sea surface height and derived variables measured by multi-satellite altimetry observations over Global Ocean.</dd><dt><span>time_coverage_duration :</span></dt><dd>P1D</dd><dt><span>time_coverage_end :</span></dt><dd>2022-10-09T12:00:00Z</dd><dt><span>time_coverage_resolution :</span></dt><dd>P1D</dd><dt><span>time_coverage_start :</span></dt><dd>2022-10-08T12:00:00Z</dd><dt><span>title :</span></dt><dd>NRT merged all satellites Global Ocean Gridded SSALTO/DUACS Sea Surface Height L4 product and derived variables</dd><dt><span>_CoordSysBuilder :</span></dt><dd>ucar.nc2.dataset.conv.CF1Convention</dd></dl></div></li></ul></div></div>"
      ],
      "text/plain": [
       "<xarray.Dataset>\n",
       "Dimensions:    ()\n",
       "Coordinates:\n",
       "    time       datetime64[ns] 2022-10-07\n",
       "    latitude   float64 37.1\n",
       "    longitude  float64 -126.1\n",
       "Data variables:\n",
       "    adt        float64 0.5195\n",
       "    ugos       float64 -0.02652\n",
       "    vgos       float64 0.05163\n",
       "    vgosa      float64 0.09413\n",
       "    crs        int32 -2147483647\n",
       "    err_vgosa  float64 0.07926\n",
       "    err_ugosa  float64 0.04859\n",
       "    sla        float64 0.01051\n",
       "    ugosa      float64 -0.03788\n",
       "Attributes: (12/45)\n",
       "    Conventions:                                    CF-1.6\n",
       "    FROM_ORIGINAL_FILE__Metadata_Conventions:       Unidata Dataset Discovery...\n",
       "    cdm_data_type:                                  Grid\n",
       "    comment:                                        Sea Surface Height measur...\n",
       "    contact:                                        servicedesk.cmems@mercato...\n",
       "    creator_email:                                  servicedesk.cmems@mercato...\n",
       "    ...                                             ...\n",
       "    time_coverage_duration:                         P1D\n",
       "    time_coverage_end:                              2022-10-09T12:00:00Z\n",
       "    time_coverage_resolution:                       P1D\n",
       "    time_coverage_start:                            2022-10-08T12:00:00Z\n",
       "    title:                                          NRT merged all satellites...\n",
       "    _CoordSysBuilder:                               ucar.nc2.dataset.conv.CF1..."
      ]
     },
     "execution_count": 21,
     "metadata": {},
     "output_type": "execute_result"
    }
   ],
   "source": [
    "dsi"
   ]
  },
  {
   "cell_type": "code",
   "execution_count": null,
   "id": "0d07d006-4e52-4ad5-b56e-53796af9ac77",
   "metadata": {},
   "outputs": [],
   "source": []
  }
 ],
 "metadata": {
  "kernelspec": {
   "display_name": "Python 3 (ipykernel)",
   "language": "python",
   "name": "python3"
  },
  "language_info": {
   "codemirror_mode": {
    "name": "ipython",
    "version": 3
   },
   "file_extension": ".py",
   "mimetype": "text/x-python",
   "name": "python",
   "nbconvert_exporter": "python",
   "pygments_lexer": "ipython3",
   "version": "3.9.7"
  }
 },
 "nbformat": 4,
 "nbformat_minor": 5
}
