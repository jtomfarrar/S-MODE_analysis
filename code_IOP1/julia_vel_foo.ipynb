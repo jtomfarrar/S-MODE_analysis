{
 "cells": [
  {
   "cell_type": "markdown",
   "id": "afef77e7-bf7d-4230-9a12-05ad08762251",
   "metadata": {},
   "source": [
    "# Experimenting with Julia\n"
   ]
  },
  {
   "cell_type": "code",
   "execution_count": 1,
   "id": "52183473-dc2b-4329-9dfb-faf882cfb372",
   "metadata": {},
   "outputs": [],
   "source": [
    "using NCDatasets"
   ]
  },
  {
   "cell_type": "code",
   "execution_count": 4,
   "id": "e448b293-dedf-46fa-be11-6ede32a05e88",
   "metadata": {},
   "outputs": [
    {
     "data": {
      "text/plain": [
       "\"../data/raw/WG_NRT/adcp_CARSON.nc\""
      ]
     },
     "execution_count": 4,
     "metadata": {},
     "output_type": "execute_result"
    }
   ],
   "source": [
    "file = \"../data/raw/WG_NRT/adcp_CARSON.nc\""
   ]
  },
  {
   "cell_type": "code",
   "execution_count": 5,
   "id": "65bc7142-1fb0-4225-b309-e4e6d6c7cd47",
   "metadata": {},
   "outputs": [
    {
     "data": {
      "text/plain": [
       "\u001b[31mNCDataset: ../data/raw/WG_NRT/adcp_CARSON.nc\u001b[39m\n",
       "Group: /\n",
       "\n",
       "\u001b[31mDimensions\u001b[39m\n",
       "   time = 2206\n",
       "   z = 50\n",
       "\n",
       "\u001b[31mVariables\u001b[39m\n",
       "\u001b[32m  year\u001b[39m   (2206)\n",
       "    Datatype:    Float32\n",
       "    Dimensions:  time\n",
       "    Attributes:\n",
       "     _FillValue           = \u001b[36mNaN\u001b[39m\n",
       "     units                = \u001b[36mnone\u001b[39m\n",
       "\n",
       "\u001b[32m  day\u001b[39m   (2206)\n",
       "    Datatype:    Float32\n",
       "    Dimensions:  time\n",
       "    Attributes:\n",
       "     _FillValue           = \u001b[36mNaN\u001b[39m\n",
       "     units                = \u001b[36mnone\u001b[39m\n",
       "\n",
       "\u001b[32m  hour\u001b[39m   (2206)\n",
       "    Datatype:    Float32\n",
       "    Dimensions:  time\n",
       "    Attributes:\n",
       "     _FillValue           = \u001b[36mNaN\u001b[39m\n",
       "     units                = \u001b[36mnone\u001b[39m\n",
       "\n",
       "\u001b[32m  minute\u001b[39m   (2206)\n",
       "    Datatype:    Float32\n",
       "    Dimensions:  time\n",
       "    Attributes:\n",
       "     _FillValue           = \u001b[36mNaN\u001b[39m\n",
       "     units                = \u001b[36mmin\u001b[39m\n",
       "\n",
       "\u001b[32m  sec\u001b[39m   (2206)\n",
       "    Datatype:    Float32\n",
       "    Dimensions:  time\n",
       "    Attributes:\n",
       "     _FillValue           = \u001b[36mNaN\u001b[39m\n",
       "     units                = \u001b[36mnone\u001b[39m\n",
       "\n",
       "\u001b[32m  time\u001b[39m   (2206)\n",
       "    Datatype:    Float32\n",
       "    Dimensions:  time\n",
       "    Attributes:\n",
       "     _FillValue           = \u001b[36mNaN\u001b[39m\n",
       "     axis                 = \u001b[36mT\u001b[39m\n",
       "     long_name            = \u001b[36mTime of waveglider measurement\u001b[39m\n",
       "     standard_name        = \u001b[36mtime\u001b[39m\n",
       "     units                = \u001b[36mseconds since 1970-01-01T00:00:00+00:00\u001b[39m\n",
       "     calendar             = \u001b[36mproleptic_gregorian\u001b[39m\n",
       "\n",
       "\u001b[32m  RECORD\u001b[39m   (2206)\n",
       "    Datatype:    Float32\n",
       "    Dimensions:  time\n",
       "    Attributes:\n",
       "     _FillValue           = \u001b[36mNaN\u001b[39m\n",
       "     units                = \u001b[36mRN\u001b[39m\n",
       "\n",
       "\u001b[32m  roll_ADCP_Avg\u001b[39m   (2206)\n",
       "    Datatype:    Float32\n",
       "    Dimensions:  time\n",
       "    Attributes:\n",
       "     _FillValue           = \u001b[36mNaN\u001b[39m\n",
       "     units                = \u001b[36mdeg\u001b[39m\n",
       "\n",
       "\u001b[32m  pitch_ADCP_Avg\u001b[39m   (2206)\n",
       "    Datatype:    Float32\n",
       "    Dimensions:  time\n",
       "    Attributes:\n",
       "     _FillValue           = \u001b[36mNaN\u001b[39m\n",
       "     units                = \u001b[36mdeg\u001b[39m\n",
       "\n",
       "\u001b[32m  heading_ADCP_Avg\u001b[39m   (2206)\n",
       "    Datatype:    Float32\n",
       "    Dimensions:  time\n",
       "    Attributes:\n",
       "     _FillValue           = \u001b[36mNaN\u001b[39m\n",
       "     units                = \u001b[36mDeg\u001b[39m\n",
       "\n",
       "\u001b[32m  Temperature_ADCP_Avg\u001b[39m   (2206)\n",
       "    Datatype:    Float32\n",
       "    Dimensions:  time\n",
       "    Attributes:\n",
       "     _FillValue           = \u001b[36mNaN\u001b[39m\n",
       "     units                = \u001b[36mCelsius\u001b[39m\n",
       "\n",
       "\u001b[32m  current_east\u001b[39m   (2206 × 50)\n",
       "    Datatype:    Float32\n",
       "    Dimensions:  time × z\n",
       "    Attributes:\n",
       "     _FillValue           = \u001b[36mNaN\u001b[39m\n",
       "     units                = \u001b[36mm/s\u001b[39m\n",
       "\n",
       "\u001b[32m  current_north\u001b[39m   (2206 × 50)\n",
       "    Datatype:    Float32\n",
       "    Dimensions:  time × z\n",
       "    Attributes:\n",
       "     _FillValue           = \u001b[36mNaN\u001b[39m\n",
       "     units                = \u001b[36mm/s\u001b[39m\n",
       "\n",
       "\u001b[32m  z_matrix\u001b[39m   (2206 × 50)\n",
       "    Datatype:    Float32\n",
       "    Dimensions:  time × z\n",
       "    Attributes:\n",
       "     _FillValue           = \u001b[36mNaN\u001b[39m\n",
       "     units                = \u001b[36mm/s\u001b[39m\n",
       "\n",
       "\u001b[32m  Longitude\u001b[39m   (2206)\n",
       "    Datatype:    Float64\n",
       "    Dimensions:  time\n",
       "    Attributes:\n",
       "     _FillValue           = \u001b[36mNaN\u001b[39m\n",
       "     units                = \u001b[36mdeg\u001b[39m\n",
       "\n",
       "\u001b[32m  Latitude\u001b[39m   (2206)\n",
       "    Datatype:    Float64\n",
       "    Dimensions:  time\n",
       "    Attributes:\n",
       "     _FillValue           = \u001b[36mNaN\u001b[39m\n",
       "     units                = \u001b[36mdeg\u001b[39m\n",
       "\n",
       "\u001b[32m  depth\u001b[39m   (50)\n",
       "    Datatype:    Float32\n",
       "    Dimensions:  z\n",
       "    Attributes:\n",
       "     _FillValue           = \u001b[36mNaN\u001b[39m\n",
       "     units                = \u001b[36mm/s\u001b[39m\n",
       "\n",
       "\u001b[31mGlobal attributes\u001b[39m\n",
       "  Name                 = \u001b[36mCARSON_PLD2_TAB2\u001b[39m\n",
       "  wms_title            = \u001b[36mCARSON_PLD2_TAB2\u001b[39m\n",
       "  title                = \u001b[36mS-MODE IOP1 2022 Waveglider CARSON real-time data - payload PLD2_TAB2\u001b[39m\n",
       "  instrument           = \u001b[36mLiquid Robotics SV3 Waveglider\u001b[39m\n",
       "  sea_name             = \u001b[36mPacific\u001b[39m\n",
       "  keywords             = \u001b[36mWaveglider, S-MODE, Pacific Ocean, Temperature\u001b[39m\n",
       "  time_coverage_start  = \u001b[36m2022-09-20T15:17:00\u001b[39m\n",
       "  time_coverage_end    = \u001b[36m2022-10-26T01:47:00\u001b[39m\n",
       "  history              = \u001b[36mTue Oct 25 22:18:57 2022: ncrename -v z,z_matrix ../data/raw/WG_NRT/CARSON_PLD2_TAB2.nc\u001b[39m\n",
       "\u001b[36m2022-10-26 02:15Z Downloaded real-time data from WGMS, processed on uop-ops.whoi.edu\u001b[39m\n",
       "  NCO                  = \u001b[36mnetCDF Operators version 4.9.1 (Homepage = http://nco.sf.net, Code = http://github.com/nco/nco)\u001b[39m\n"
      ]
     },
     "execution_count": 5,
     "metadata": {},
     "output_type": "execute_result"
    }
   ],
   "source": [
    "ds = Dataset(file)"
   ]
  },
  {
   "cell_type": "code",
   "execution_count": 16,
   "id": "2d19b8ab-e0ce-4da5-b694-a70686916499",
   "metadata": {},
   "outputs": [],
   "source": [
    "using Plots"
   ]
  },
  {
   "cell_type": "code",
   "execution_count": 40,
   "id": "4c13219c-3139-4c1b-ad00-70b5b84ddaa4",
   "metadata": {},
   "outputs": [
    {
     "ename": "LoadError",
     "evalue": "UndefVarError: image not defined",
     "output_type": "error",
     "traceback": [
      "UndefVarError: image not defined",
      "",
      "Stacktrace:",
      " [1] top-level scope",
      "   @ In[40]:1",
      " [2] eval",
      "   @ ./boot.jl:368 [inlined]",
      " [3] include_string(mapexpr::typeof(REPL.softscope), mod::Module, code::String, filename::String)",
      "   @ Base ./loading.jl:1428"
     ]
    }
   ],
   "source": [
    "image(ds[\"time\"],reverse(ds[\"depth\"]),transpose(ds[\"current_east\"]),fill=true,clims=(-1, 1))"
   ]
  },
  {
   "cell_type": "code",
   "execution_count": 19,
   "id": "37fcd54f-1a41-412c-9a63-db5e22e58eba",
   "metadata": {},
   "outputs": [
    {
     "data": {
      "text/plain": [
       "(2206, 50)"
      ]
     },
     "execution_count": 19,
     "metadata": {},
     "output_type": "execute_result"
    }
   ],
   "source": [
    "size(ds[\"current_east\"])"
   ]
  },
  {
   "cell_type": "code",
   "execution_count": 26,
   "id": "e63c57cc-e43f-4fd7-af96-59fd43c3f44d",
   "metadata": {},
   "outputs": [
    {
     "data": {
      "text/plain": [
       "(1, 50)"
      ]
     },
     "execution_count": 26,
     "metadata": {},
     "output_type": "execute_result"
    }
   ],
   "source": [
    "size(transpose(ds[\"depth\"]))"
   ]
  },
  {
   "cell_type": "code",
   "execution_count": 22,
   "id": "6b822762-2eae-44b9-8e01-78a7b37ee8db",
   "metadata": {},
   "outputs": [
    {
     "data": {
      "text/plain": [
       "(2206,)"
      ]
     },
     "execution_count": 22,
     "metadata": {},
     "output_type": "execute_result"
    }
   ],
   "source": [
    "size(ds[\"time\"])"
   ]
  },
  {
   "cell_type": "code",
   "execution_count": null,
   "id": "8bc733b8-913b-4dea-9c91-81b917a2d8e8",
   "metadata": {},
   "outputs": [],
   "source": []
  }
 ],
 "metadata": {
  "kernelspec": {
   "display_name": "Julia 1.8.1",
   "language": "julia",
   "name": "julia-1.8"
  },
  "language_info": {
   "file_extension": ".jl",
   "mimetype": "application/julia",
   "name": "julia",
   "version": "1.8.1"
  }
 },
 "nbformat": 4,
 "nbformat_minor": 5
}
