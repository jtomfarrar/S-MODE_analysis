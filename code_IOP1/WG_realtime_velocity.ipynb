{
 "cells": [
  {
   "cell_type": "markdown",
   "metadata": {},
   "source": [
    "## Preliminary gradient calculations with near-real-time Wave Glider ADCP data"
   ]
  },
  {
   "cell_type": "markdown",
   "metadata": {},
   "source": [
    "* load cleaned up ADCP files from\n",
    "\n",
    "first cut for IOP1 by Tom, 10/20/2022  "
   ]
  },
  {
   "cell_type": "code",
   "execution_count": 1,
   "metadata": {},
   "outputs": [],
   "source": [
    "import xarray as xr\n",
    "import numpy as np\n",
    "import matplotlib.pyplot as plt\n",
    "import matplotlib\n",
    "import cftime\n",
    "import requests\n",
    "import cartopy.crs as ccrs                   # import projections\n",
    "import cartopy\n",
    "import gsw\n",
    "import functions  # requires functions.py from this directory"
   ]
  },
  {
   "cell_type": "code",
   "execution_count": null,
   "metadata": {},
   "outputs": [],
   "source": []
  },
  {
   "cell_type": "code",
   "execution_count": 2,
   "metadata": {},
   "outputs": [],
   "source": [
    "# %matplotlib inline\n",
    "%matplotlib qt5\n",
    "plt.rcParams['figure.figsize'] = (7,4)\n",
    "plt.rcParams['figure.dpi'] = 200\n",
    "plt.rcParams['savefig.dpi'] = 400\n",
    "plt.close('all')\n",
    "\n",
    "__figdir__ = '../plots/vel_fits/' \n",
    "savefig_args = {'bbox_inches':'tight', 'pad_inches':0.2}\n",
    "plotfiletype='png'"
   ]
  },
  {
   "cell_type": "code",
   "execution_count": 3,
   "metadata": {},
   "outputs": [],
   "source": [
    "savefig = True\n",
    "zoom = True\n",
    "if zoom:\n",
    "    xmin, xmax = (-127,-121)\n",
    "    ymin, ymax = (36.25,38.5)\n",
    "    levels = np.linspace(14,17,21)-2.5\n",
    "else:\n",
    "    xmin, xmax = (-127,-121)\n",
    "    ymin, ymax = (35, 41)\n",
    "    levels = np.linspace(13,18,11)\n",
    "\n",
    "    "
   ]
  },
  {
   "cell_type": "markdown",
   "metadata": {},
   "source": [
    "Payload 2 Table 1 has met, ctd variables  \n",
    "Payload 2 Table 2 has RDI variables"
   ]
  },
  {
   "cell_type": "code",
   "execution_count": 4,
   "metadata": {},
   "outputs": [],
   "source": [
    "# List of WGs\n",
    "input_list = ['WHOI-ASL22','WHOI-ASL32','SV3-1043','STOKES', 'PLANCK', 'PASCAL', 'KELVIN', 'CARSON']\n",
    "url_prefix = 'http://smode.whoi.edu:8080/thredds/fileServer/IOP1_2022/waveglider/'\n",
    "tab1_postfix = '_PLD2_TAB1.nc'\n",
    "prefix = 'adcp_'\n",
    "position_postfix = '_position.nc'\n",
    "WG_list = ['WHOI22','WHOI32','WHOI43','STOKES', 'PLANCK', 'PASCAL', 'CARSON'] #leave Kelvin out because of ADCP problem in IOP1\n",
    "path='../data/raw/WG_NRT/'"
   ]
  },
  {
   "cell_type": "code",
   "execution_count": 5,
   "metadata": {},
   "outputs": [],
   "source": [
    "# For some reason, reading the files over the internet directly is not working well\n",
    "# Download instead\n",
    "\n",
    "n=0\n",
    "file_list2 = []\n",
    "for WG in WG_list:\n",
    "    file2 = path+prefix+WG+'.nc'\n",
    "    file_list2.append(file2)\n"
   ]
  },
  {
   "cell_type": "code",
   "execution_count": 6,
   "metadata": {},
   "outputs": [
    {
     "data": {
      "text/plain": [
       "['../data/raw/WG_NRT/adcp_WHOI22.nc',\n",
       " '../data/raw/WG_NRT/adcp_WHOI32.nc',\n",
       " '../data/raw/WG_NRT/adcp_WHOI43.nc',\n",
       " '../data/raw/WG_NRT/adcp_STOKES.nc',\n",
       " '../data/raw/WG_NRT/adcp_PLANCK.nc',\n",
       " '../data/raw/WG_NRT/adcp_PASCAL.nc',\n",
       " '../data/raw/WG_NRT/adcp_CARSON.nc']"
      ]
     },
     "execution_count": 6,
     "metadata": {},
     "output_type": "execute_result"
    }
   ],
   "source": [
    "file_list2"
   ]
  },
  {
   "cell_type": "code",
   "execution_count": 7,
   "metadata": {},
   "outputs": [
    {
     "name": "stdout",
     "output_type": "stream",
     "text": [
      "../data/raw/WG_NRT/adcp_WHOI22.nc\n",
      "../data/raw/WG_NRT/adcp_WHOI32.nc\n",
      "../data/raw/WG_NRT/adcp_WHOI43.nc\n",
      "../data/raw/WG_NRT/adcp_STOKES.nc\n",
      "../data/raw/WG_NRT/adcp_PLANCK.nc\n",
      "../data/raw/WG_NRT/adcp_PASCAL.nc\n",
      "../data/raw/WG_NRT/adcp_CARSON.nc\n"
     ]
    }
   ],
   "source": [
    "# Read in cleaned ADCP files from all WG\n",
    "n=0\n",
    "for WG in WG_list:\n",
    "    input_WG=input_list[n]\n",
    "    #file1 = file_list1[n]\n",
    "    file2 = file_list2[n]\n",
    "    #file3 = file_list3[n]\n",
    "    #varstr = 'met_'+WG\n",
    "    #ds_met_temp=xr.open_dataset(file1,decode_times=True)\n",
    "    #locals()[varstr]=fix_ds_time(ds_met_temp) #Drop nonunique values and sort time\n",
    "    varstr = 'adcp_'+WG\n",
    "    locals()[varstr]=xr.open_dataset(file2,decode_times=True) #Time and z already fixed in WG_realtime_cleanup.ipynb\n",
    "    #varstr = 'pos_'+WG\n",
    "    #ds_pos_temp=xr.open_dataset(file3,decode_times=True)\n",
    "    #locals()[varstr]=fix_ds_time(ds_pos_temp) #Drop nonunique values and sort time\n",
    "    n=n+1\n",
    "    print(file2)"
   ]
  },
  {
   "cell_type": "code",
   "execution_count": 8,
   "metadata": {
    "tags": []
   },
   "outputs": [],
   "source": [
    "# Now we can access these in a loop using syntax like:\n",
    "# eval('adcp_'+WG_list[7])"
   ]
  },
  {
   "cell_type": "code",
   "execution_count": 9,
   "metadata": {},
   "outputs": [
    {
     "data": {
      "text/html": [
       "<div><svg style=\"position: absolute; width: 0; height: 0; overflow: hidden\">\n",
       "<defs>\n",
       "<symbol id=\"icon-database\" viewBox=\"0 0 32 32\">\n",
       "<path d=\"M16 0c-8.837 0-16 2.239-16 5v4c0 2.761 7.163 5 16 5s16-2.239 16-5v-4c0-2.761-7.163-5-16-5z\"></path>\n",
       "<path d=\"M16 17c-8.837 0-16-2.239-16-5v6c0 2.761 7.163 5 16 5s16-2.239 16-5v-6c0 2.761-7.163 5-16 5z\"></path>\n",
       "<path d=\"M16 26c-8.837 0-16-2.239-16-5v6c0 2.761 7.163 5 16 5s16-2.239 16-5v-6c0 2.761-7.163 5-16 5z\"></path>\n",
       "</symbol>\n",
       "<symbol id=\"icon-file-text2\" viewBox=\"0 0 32 32\">\n",
       "<path d=\"M28.681 7.159c-0.694-0.947-1.662-2.053-2.724-3.116s-2.169-2.030-3.116-2.724c-1.612-1.182-2.393-1.319-2.841-1.319h-15.5c-1.378 0-2.5 1.121-2.5 2.5v27c0 1.378 1.122 2.5 2.5 2.5h23c1.378 0 2.5-1.122 2.5-2.5v-19.5c0-0.448-0.137-1.23-1.319-2.841zM24.543 5.457c0.959 0.959 1.712 1.825 2.268 2.543h-4.811v-4.811c0.718 0.556 1.584 1.309 2.543 2.268zM28 29.5c0 0.271-0.229 0.5-0.5 0.5h-23c-0.271 0-0.5-0.229-0.5-0.5v-27c0-0.271 0.229-0.5 0.5-0.5 0 0 15.499-0 15.5 0v7c0 0.552 0.448 1 1 1h7v19.5z\"></path>\n",
       "<path d=\"M23 26h-14c-0.552 0-1-0.448-1-1s0.448-1 1-1h14c0.552 0 1 0.448 1 1s-0.448 1-1 1z\"></path>\n",
       "<path d=\"M23 22h-14c-0.552 0-1-0.448-1-1s0.448-1 1-1h14c0.552 0 1 0.448 1 1s-0.448 1-1 1z\"></path>\n",
       "<path d=\"M23 18h-14c-0.552 0-1-0.448-1-1s0.448-1 1-1h14c0.552 0 1 0.448 1 1s-0.448 1-1 1z\"></path>\n",
       "</symbol>\n",
       "</defs>\n",
       "</svg>\n",
       "<style>/* CSS stylesheet for displaying xarray objects in jupyterlab.\n",
       " *\n",
       " */\n",
       "\n",
       ":root {\n",
       "  --xr-font-color0: var(--jp-content-font-color0, rgba(0, 0, 0, 1));\n",
       "  --xr-font-color2: var(--jp-content-font-color2, rgba(0, 0, 0, 0.54));\n",
       "  --xr-font-color3: var(--jp-content-font-color3, rgba(0, 0, 0, 0.38));\n",
       "  --xr-border-color: var(--jp-border-color2, #e0e0e0);\n",
       "  --xr-disabled-color: var(--jp-layout-color3, #bdbdbd);\n",
       "  --xr-background-color: var(--jp-layout-color0, white);\n",
       "  --xr-background-color-row-even: var(--jp-layout-color1, white);\n",
       "  --xr-background-color-row-odd: var(--jp-layout-color2, #eeeeee);\n",
       "}\n",
       "\n",
       "html[theme=dark],\n",
       "body.vscode-dark {\n",
       "  --xr-font-color0: rgba(255, 255, 255, 1);\n",
       "  --xr-font-color2: rgba(255, 255, 255, 0.54);\n",
       "  --xr-font-color3: rgba(255, 255, 255, 0.38);\n",
       "  --xr-border-color: #1F1F1F;\n",
       "  --xr-disabled-color: #515151;\n",
       "  --xr-background-color: #111111;\n",
       "  --xr-background-color-row-even: #111111;\n",
       "  --xr-background-color-row-odd: #313131;\n",
       "}\n",
       "\n",
       ".xr-wrap {\n",
       "  display: block;\n",
       "  min-width: 300px;\n",
       "  max-width: 700px;\n",
       "}\n",
       "\n",
       ".xr-text-repr-fallback {\n",
       "  /* fallback to plain text repr when CSS is not injected (untrusted notebook) */\n",
       "  display: none;\n",
       "}\n",
       "\n",
       ".xr-header {\n",
       "  padding-top: 6px;\n",
       "  padding-bottom: 6px;\n",
       "  margin-bottom: 4px;\n",
       "  border-bottom: solid 1px var(--xr-border-color);\n",
       "}\n",
       "\n",
       ".xr-header > div,\n",
       ".xr-header > ul {\n",
       "  display: inline;\n",
       "  margin-top: 0;\n",
       "  margin-bottom: 0;\n",
       "}\n",
       "\n",
       ".xr-obj-type,\n",
       ".xr-array-name {\n",
       "  margin-left: 2px;\n",
       "  margin-right: 10px;\n",
       "}\n",
       "\n",
       ".xr-obj-type {\n",
       "  color: var(--xr-font-color2);\n",
       "}\n",
       "\n",
       ".xr-sections {\n",
       "  padding-left: 0 !important;\n",
       "  display: grid;\n",
       "  grid-template-columns: 150px auto auto 1fr 20px 20px;\n",
       "}\n",
       "\n",
       ".xr-section-item {\n",
       "  display: contents;\n",
       "}\n",
       "\n",
       ".xr-section-item input {\n",
       "  display: none;\n",
       "}\n",
       "\n",
       ".xr-section-item input + label {\n",
       "  color: var(--xr-disabled-color);\n",
       "}\n",
       "\n",
       ".xr-section-item input:enabled + label {\n",
       "  cursor: pointer;\n",
       "  color: var(--xr-font-color2);\n",
       "}\n",
       "\n",
       ".xr-section-item input:enabled + label:hover {\n",
       "  color: var(--xr-font-color0);\n",
       "}\n",
       "\n",
       ".xr-section-summary {\n",
       "  grid-column: 1;\n",
       "  color: var(--xr-font-color2);\n",
       "  font-weight: 500;\n",
       "}\n",
       "\n",
       ".xr-section-summary > span {\n",
       "  display: inline-block;\n",
       "  padding-left: 0.5em;\n",
       "}\n",
       "\n",
       ".xr-section-summary-in:disabled + label {\n",
       "  color: var(--xr-font-color2);\n",
       "}\n",
       "\n",
       ".xr-section-summary-in + label:before {\n",
       "  display: inline-block;\n",
       "  content: '►';\n",
       "  font-size: 11px;\n",
       "  width: 15px;\n",
       "  text-align: center;\n",
       "}\n",
       "\n",
       ".xr-section-summary-in:disabled + label:before {\n",
       "  color: var(--xr-disabled-color);\n",
       "}\n",
       "\n",
       ".xr-section-summary-in:checked + label:before {\n",
       "  content: '▼';\n",
       "}\n",
       "\n",
       ".xr-section-summary-in:checked + label > span {\n",
       "  display: none;\n",
       "}\n",
       "\n",
       ".xr-section-summary,\n",
       ".xr-section-inline-details {\n",
       "  padding-top: 4px;\n",
       "  padding-bottom: 4px;\n",
       "}\n",
       "\n",
       ".xr-section-inline-details {\n",
       "  grid-column: 2 / -1;\n",
       "}\n",
       "\n",
       ".xr-section-details {\n",
       "  display: none;\n",
       "  grid-column: 1 / -1;\n",
       "  margin-bottom: 5px;\n",
       "}\n",
       "\n",
       ".xr-section-summary-in:checked ~ .xr-section-details {\n",
       "  display: contents;\n",
       "}\n",
       "\n",
       ".xr-array-wrap {\n",
       "  grid-column: 1 / -1;\n",
       "  display: grid;\n",
       "  grid-template-columns: 20px auto;\n",
       "}\n",
       "\n",
       ".xr-array-wrap > label {\n",
       "  grid-column: 1;\n",
       "  vertical-align: top;\n",
       "}\n",
       "\n",
       ".xr-preview {\n",
       "  color: var(--xr-font-color3);\n",
       "}\n",
       "\n",
       ".xr-array-preview,\n",
       ".xr-array-data {\n",
       "  padding: 0 5px !important;\n",
       "  grid-column: 2;\n",
       "}\n",
       "\n",
       ".xr-array-data,\n",
       ".xr-array-in:checked ~ .xr-array-preview {\n",
       "  display: none;\n",
       "}\n",
       "\n",
       ".xr-array-in:checked ~ .xr-array-data,\n",
       ".xr-array-preview {\n",
       "  display: inline-block;\n",
       "}\n",
       "\n",
       ".xr-dim-list {\n",
       "  display: inline-block !important;\n",
       "  list-style: none;\n",
       "  padding: 0 !important;\n",
       "  margin: 0;\n",
       "}\n",
       "\n",
       ".xr-dim-list li {\n",
       "  display: inline-block;\n",
       "  padding: 0;\n",
       "  margin: 0;\n",
       "}\n",
       "\n",
       ".xr-dim-list:before {\n",
       "  content: '(';\n",
       "}\n",
       "\n",
       ".xr-dim-list:after {\n",
       "  content: ')';\n",
       "}\n",
       "\n",
       ".xr-dim-list li:not(:last-child):after {\n",
       "  content: ',';\n",
       "  padding-right: 5px;\n",
       "}\n",
       "\n",
       ".xr-has-index {\n",
       "  font-weight: bold;\n",
       "}\n",
       "\n",
       ".xr-var-list,\n",
       ".xr-var-item {\n",
       "  display: contents;\n",
       "}\n",
       "\n",
       ".xr-var-item > div,\n",
       ".xr-var-item label,\n",
       ".xr-var-item > .xr-var-name span {\n",
       "  background-color: var(--xr-background-color-row-even);\n",
       "  margin-bottom: 0;\n",
       "}\n",
       "\n",
       ".xr-var-item > .xr-var-name:hover span {\n",
       "  padding-right: 5px;\n",
       "}\n",
       "\n",
       ".xr-var-list > li:nth-child(odd) > div,\n",
       ".xr-var-list > li:nth-child(odd) > label,\n",
       ".xr-var-list > li:nth-child(odd) > .xr-var-name span {\n",
       "  background-color: var(--xr-background-color-row-odd);\n",
       "}\n",
       "\n",
       ".xr-var-name {\n",
       "  grid-column: 1;\n",
       "}\n",
       "\n",
       ".xr-var-dims {\n",
       "  grid-column: 2;\n",
       "}\n",
       "\n",
       ".xr-var-dtype {\n",
       "  grid-column: 3;\n",
       "  text-align: right;\n",
       "  color: var(--xr-font-color2);\n",
       "}\n",
       "\n",
       ".xr-var-preview {\n",
       "  grid-column: 4;\n",
       "}\n",
       "\n",
       ".xr-var-name,\n",
       ".xr-var-dims,\n",
       ".xr-var-dtype,\n",
       ".xr-preview,\n",
       ".xr-attrs dt {\n",
       "  white-space: nowrap;\n",
       "  overflow: hidden;\n",
       "  text-overflow: ellipsis;\n",
       "  padding-right: 10px;\n",
       "}\n",
       "\n",
       ".xr-var-name:hover,\n",
       ".xr-var-dims:hover,\n",
       ".xr-var-dtype:hover,\n",
       ".xr-attrs dt:hover {\n",
       "  overflow: visible;\n",
       "  width: auto;\n",
       "  z-index: 1;\n",
       "}\n",
       "\n",
       ".xr-var-attrs,\n",
       ".xr-var-data {\n",
       "  display: none;\n",
       "  background-color: var(--xr-background-color) !important;\n",
       "  padding-bottom: 5px !important;\n",
       "}\n",
       "\n",
       ".xr-var-attrs-in:checked ~ .xr-var-attrs,\n",
       ".xr-var-data-in:checked ~ .xr-var-data {\n",
       "  display: block;\n",
       "}\n",
       "\n",
       ".xr-var-data > table {\n",
       "  float: right;\n",
       "}\n",
       "\n",
       ".xr-var-name span,\n",
       ".xr-var-data,\n",
       ".xr-attrs {\n",
       "  padding-left: 25px !important;\n",
       "}\n",
       "\n",
       ".xr-attrs,\n",
       ".xr-var-attrs,\n",
       ".xr-var-data {\n",
       "  grid-column: 1 / -1;\n",
       "}\n",
       "\n",
       "dl.xr-attrs {\n",
       "  padding: 0;\n",
       "  margin: 0;\n",
       "  display: grid;\n",
       "  grid-template-columns: 125px auto;\n",
       "}\n",
       "\n",
       ".xr-attrs dt,\n",
       ".xr-attrs dd {\n",
       "  padding: 0;\n",
       "  margin: 0;\n",
       "  float: left;\n",
       "  padding-right: 10px;\n",
       "  width: auto;\n",
       "}\n",
       "\n",
       ".xr-attrs dt {\n",
       "  font-weight: normal;\n",
       "  grid-column: 1;\n",
       "}\n",
       "\n",
       ".xr-attrs dt:hover span {\n",
       "  display: inline-block;\n",
       "  background: var(--xr-background-color);\n",
       "  padding-right: 10px;\n",
       "}\n",
       "\n",
       ".xr-attrs dd {\n",
       "  grid-column: 2;\n",
       "  white-space: pre-wrap;\n",
       "  word-break: break-all;\n",
       "}\n",
       "\n",
       ".xr-icon-database,\n",
       ".xr-icon-file-text2 {\n",
       "  display: inline-block;\n",
       "  vertical-align: middle;\n",
       "  width: 1em;\n",
       "  height: 1.5em !important;\n",
       "  stroke-width: 0;\n",
       "  stroke: currentColor;\n",
       "  fill: currentColor;\n",
       "}\n",
       "</style><pre class='xr-text-repr-fallback'>&lt;xarray.Dataset&gt;\n",
       "Dimensions:               (time: 1643, z: 50)\n",
       "Coordinates:\n",
       "  * time                  (time) datetime64[ns] 2022-09-22T03:46:08 ... 2022-...\n",
       "Dimensions without coordinates: z\n",
       "Data variables: (12/16)\n",
       "    year                  (time) float32 2.022e+03 2.022e+03 ... 2.022e+03\n",
       "    day                   (time) float32 264.0 265.0 265.0 ... 293.0 293.0 293.0\n",
       "    hour                  (time) float32 23.0 0.0 0.0 0.0 ... 12.0 12.0 13.0\n",
       "    minute                (time) float32 47.0 2.0 17.0 32.0 ... 32.0 47.0 2.0\n",
       "    sec                   (time) float32 0.0 0.0 0.0 0.0 0.0 ... 0.0 0.0 0.0 0.0\n",
       "    RECORD                (time) float32 0.0 1.0 2.0 ... 1.855e+03 1.856e+03\n",
       "    ...                    ...\n",
       "    current_east          (z, time) float32 0.156 0.117 0.119 ... 0.101 0.089\n",
       "    current_north         (z, time) float32 -0.084 -0.074 ... -0.112 -0.067\n",
       "    z_matrix              (z, time) float32 -3.93 -3.93 -3.93 ... -101.9 -101.9\n",
       "    Longitude             (time) float64 -122.0 -122.0 -122.0 ... -124.6 -124.6\n",
       "    Latitude              (time) float64 36.97 36.97 36.97 ... 36.89 36.9 36.89\n",
       "    depth                 (z) float32 -3.93 -5.93 -7.93 ... -97.93 -99.93 -101.9\n",
       "Attributes:\n",
       "    Name:                 SV3-1043_PLD2_TAB2\n",
       "    wms_title:            SV3-1043_PLD2_TAB2\n",
       "    title:                S-MODE IOP1 2022 Waveglider SV3-1043 real-time data...\n",
       "    instrument:           Liquid Robotics SV3 Waveglider\n",
       "    sea_name:             Pacific\n",
       "    keywords:             Waveglider, S-MODE, Pacific Ocean, Temperature\n",
       "    time_coverage_start:  2022-09-21T23:47:00\n",
       "    time_coverage_end:    2022-10-20T13:02:00\n",
       "    history:              Thu Oct 20 09:13:49 2022: ncrename -v z,z_matrix .....\n",
       "    NCO:                  netCDF Operators version 4.9.1 (Homepage = http://n...</pre><div class='xr-wrap' hidden><div class='xr-header'><div class='xr-obj-type'>xarray.Dataset</div></div><ul class='xr-sections'><li class='xr-section-item'><input id='section-3d4608ed-960d-4746-8640-a9e3eee4f75c' class='xr-section-summary-in' type='checkbox' disabled ><label for='section-3d4608ed-960d-4746-8640-a9e3eee4f75c' class='xr-section-summary'  title='Expand/collapse section'>Dimensions:</label><div class='xr-section-inline-details'><ul class='xr-dim-list'><li><span class='xr-has-index'>time</span>: 1643</li><li><span>z</span>: 50</li></ul></div><div class='xr-section-details'></div></li><li class='xr-section-item'><input id='section-45fcd16d-b8d7-4d4b-8d26-17176f0bfee8' class='xr-section-summary-in' type='checkbox'  checked><label for='section-45fcd16d-b8d7-4d4b-8d26-17176f0bfee8' class='xr-section-summary' >Coordinates: <span>(1)</span></label><div class='xr-section-inline-details'></div><div class='xr-section-details'><ul class='xr-var-list'><li class='xr-var-item'><div class='xr-var-name'><span class='xr-has-index'>time</span></div><div class='xr-var-dims'>(time)</div><div class='xr-var-dtype'>datetime64[ns]</div><div class='xr-var-preview xr-preview'>2022-09-22T03:46:08 ... 2022-10-...</div><input id='attrs-6491be12-8885-4caa-b90c-ac5fdb3ff7f0' class='xr-var-attrs-in' type='checkbox' ><label for='attrs-6491be12-8885-4caa-b90c-ac5fdb3ff7f0' title='Show/Hide attributes'><svg class='icon xr-icon-file-text2'><use xlink:href='#icon-file-text2'></use></svg></label><input id='data-85bfa94f-879d-4220-8e20-f8652a6824d2' class='xr-var-data-in' type='checkbox'><label for='data-85bfa94f-879d-4220-8e20-f8652a6824d2' title='Show/Hide data repr'><svg class='icon xr-icon-database'><use xlink:href='#icon-database'></use></svg></label><div class='xr-var-attrs'><dl class='xr-attrs'><dt><span>axis :</span></dt><dd>T</dd><dt><span>long_name :</span></dt><dd>Time of waveglider measurement</dd><dt><span>standard_name :</span></dt><dd>time</dd></dl></div><div class='xr-var-data'><pre>array([&#x27;2022-09-22T03:46:08.000000000&#x27;, &#x27;2022-09-22T04:01:04.000000000&#x27;,\n",
       "       &#x27;2022-09-22T04:16:00.000000000&#x27;, ..., &#x27;2022-10-20T16:32:00.000000000&#x27;,\n",
       "       &#x27;2022-10-20T16:46:56.000000000&#x27;, &#x27;2022-10-20T17:01:52.000000000&#x27;],\n",
       "      dtype=&#x27;datetime64[ns]&#x27;)</pre></div></li></ul></div></li><li class='xr-section-item'><input id='section-216129a2-952a-4847-afdd-92566fedce0f' class='xr-section-summary-in' type='checkbox'  ><label for='section-216129a2-952a-4847-afdd-92566fedce0f' class='xr-section-summary' >Data variables: <span>(16)</span></label><div class='xr-section-inline-details'></div><div class='xr-section-details'><ul class='xr-var-list'><li class='xr-var-item'><div class='xr-var-name'><span>year</span></div><div class='xr-var-dims'>(time)</div><div class='xr-var-dtype'>float32</div><div class='xr-var-preview xr-preview'>...</div><input id='attrs-ffdc3296-34e2-469e-ac8f-1c9b33bf54ef' class='xr-var-attrs-in' type='checkbox' ><label for='attrs-ffdc3296-34e2-469e-ac8f-1c9b33bf54ef' title='Show/Hide attributes'><svg class='icon xr-icon-file-text2'><use xlink:href='#icon-file-text2'></use></svg></label><input id='data-bc552152-086e-4ff9-9426-35b57492df53' class='xr-var-data-in' type='checkbox'><label for='data-bc552152-086e-4ff9-9426-35b57492df53' title='Show/Hide data repr'><svg class='icon xr-icon-database'><use xlink:href='#icon-database'></use></svg></label><div class='xr-var-attrs'><dl class='xr-attrs'><dt><span>units :</span></dt><dd>none</dd></dl></div><div class='xr-var-data'><pre>array([2022., 2022., 2022., ..., 2022., 2022., 2022.], dtype=float32)</pre></div></li><li class='xr-var-item'><div class='xr-var-name'><span>day</span></div><div class='xr-var-dims'>(time)</div><div class='xr-var-dtype'>float32</div><div class='xr-var-preview xr-preview'>...</div><input id='attrs-123ba87a-df13-47c2-a7cd-f4066016ae8b' class='xr-var-attrs-in' type='checkbox' ><label for='attrs-123ba87a-df13-47c2-a7cd-f4066016ae8b' title='Show/Hide attributes'><svg class='icon xr-icon-file-text2'><use xlink:href='#icon-file-text2'></use></svg></label><input id='data-7fb8a300-989d-4a11-876a-e1af6654d2e6' class='xr-var-data-in' type='checkbox'><label for='data-7fb8a300-989d-4a11-876a-e1af6654d2e6' title='Show/Hide data repr'><svg class='icon xr-icon-database'><use xlink:href='#icon-database'></use></svg></label><div class='xr-var-attrs'><dl class='xr-attrs'><dt><span>units :</span></dt><dd>none</dd></dl></div><div class='xr-var-data'><pre>array([264., 265., 265., ..., 293., 293., 293.], dtype=float32)</pre></div></li><li class='xr-var-item'><div class='xr-var-name'><span>hour</span></div><div class='xr-var-dims'>(time)</div><div class='xr-var-dtype'>float32</div><div class='xr-var-preview xr-preview'>...</div><input id='attrs-11a13a4c-41f0-4218-a7f6-bf89457a5317' class='xr-var-attrs-in' type='checkbox' ><label for='attrs-11a13a4c-41f0-4218-a7f6-bf89457a5317' title='Show/Hide attributes'><svg class='icon xr-icon-file-text2'><use xlink:href='#icon-file-text2'></use></svg></label><input id='data-666f8151-80d8-4718-b9ae-9a2df64f465d' class='xr-var-data-in' type='checkbox'><label for='data-666f8151-80d8-4718-b9ae-9a2df64f465d' title='Show/Hide data repr'><svg class='icon xr-icon-database'><use xlink:href='#icon-database'></use></svg></label><div class='xr-var-attrs'><dl class='xr-attrs'><dt><span>units :</span></dt><dd>none</dd></dl></div><div class='xr-var-data'><pre>array([23.,  0.,  0., ..., 12., 12., 13.], dtype=float32)</pre></div></li><li class='xr-var-item'><div class='xr-var-name'><span>minute</span></div><div class='xr-var-dims'>(time)</div><div class='xr-var-dtype'>float32</div><div class='xr-var-preview xr-preview'>...</div><input id='attrs-f128c0ff-f383-4717-89ec-3f00d014c56e' class='xr-var-attrs-in' type='checkbox' ><label for='attrs-f128c0ff-f383-4717-89ec-3f00d014c56e' title='Show/Hide attributes'><svg class='icon xr-icon-file-text2'><use xlink:href='#icon-file-text2'></use></svg></label><input id='data-72ec9da9-cdf5-41ef-b2a4-e35337f18f0a' class='xr-var-data-in' type='checkbox'><label for='data-72ec9da9-cdf5-41ef-b2a4-e35337f18f0a' title='Show/Hide data repr'><svg class='icon xr-icon-database'><use xlink:href='#icon-database'></use></svg></label><div class='xr-var-attrs'><dl class='xr-attrs'><dt><span>units :</span></dt><dd>min</dd></dl></div><div class='xr-var-data'><pre>array([47.,  2., 17., ..., 32., 47.,  2.], dtype=float32)</pre></div></li><li class='xr-var-item'><div class='xr-var-name'><span>sec</span></div><div class='xr-var-dims'>(time)</div><div class='xr-var-dtype'>float32</div><div class='xr-var-preview xr-preview'>...</div><input id='attrs-f1f0cea4-174f-45a2-a043-eb45410fbae4' class='xr-var-attrs-in' type='checkbox' ><label for='attrs-f1f0cea4-174f-45a2-a043-eb45410fbae4' title='Show/Hide attributes'><svg class='icon xr-icon-file-text2'><use xlink:href='#icon-file-text2'></use></svg></label><input id='data-2bd4c4ac-9b6f-4150-905e-6e5035006992' class='xr-var-data-in' type='checkbox'><label for='data-2bd4c4ac-9b6f-4150-905e-6e5035006992' title='Show/Hide data repr'><svg class='icon xr-icon-database'><use xlink:href='#icon-database'></use></svg></label><div class='xr-var-attrs'><dl class='xr-attrs'><dt><span>units :</span></dt><dd>none</dd></dl></div><div class='xr-var-data'><pre>array([0., 0., 0., ..., 0., 0., 0.], dtype=float32)</pre></div></li><li class='xr-var-item'><div class='xr-var-name'><span>RECORD</span></div><div class='xr-var-dims'>(time)</div><div class='xr-var-dtype'>float32</div><div class='xr-var-preview xr-preview'>...</div><input id='attrs-ee4d1f8b-3b1b-4df6-b820-09cc3b2d30c0' class='xr-var-attrs-in' type='checkbox' ><label for='attrs-ee4d1f8b-3b1b-4df6-b820-09cc3b2d30c0' title='Show/Hide attributes'><svg class='icon xr-icon-file-text2'><use xlink:href='#icon-file-text2'></use></svg></label><input id='data-38c52f67-b201-49da-9939-5568e841599c' class='xr-var-data-in' type='checkbox'><label for='data-38c52f67-b201-49da-9939-5568e841599c' title='Show/Hide data repr'><svg class='icon xr-icon-database'><use xlink:href='#icon-database'></use></svg></label><div class='xr-var-attrs'><dl class='xr-attrs'><dt><span>units :</span></dt><dd>RN</dd></dl></div><div class='xr-var-data'><pre>array([0.000e+00, 1.000e+00, 2.000e+00, ..., 1.854e+03, 1.855e+03, 1.856e+03],\n",
       "      dtype=float32)</pre></div></li><li class='xr-var-item'><div class='xr-var-name'><span>roll_ADCP_Avg</span></div><div class='xr-var-dims'>(time)</div><div class='xr-var-dtype'>float32</div><div class='xr-var-preview xr-preview'>...</div><input id='attrs-6e2f2d9b-5c49-403a-a152-9fe4991f4676' class='xr-var-attrs-in' type='checkbox' ><label for='attrs-6e2f2d9b-5c49-403a-a152-9fe4991f4676' title='Show/Hide attributes'><svg class='icon xr-icon-file-text2'><use xlink:href='#icon-file-text2'></use></svg></label><input id='data-87a44c72-a6a4-498e-8c04-b710407ceef2' class='xr-var-data-in' type='checkbox'><label for='data-87a44c72-a6a4-498e-8c04-b710407ceef2' title='Show/Hide data repr'><svg class='icon xr-icon-database'><use xlink:href='#icon-database'></use></svg></label><div class='xr-var-attrs'><dl class='xr-attrs'><dt><span>units :</span></dt><dd>deg</dd></dl></div><div class='xr-var-data'><pre>array([-0.398, -0.397,  0.039, ..., -1.519, -1.599,  0.345], dtype=float32)</pre></div></li><li class='xr-var-item'><div class='xr-var-name'><span>pitch_ADCP_Avg</span></div><div class='xr-var-dims'>(time)</div><div class='xr-var-dtype'>float32</div><div class='xr-var-preview xr-preview'>...</div><input id='attrs-e264466a-a062-44c4-ab5a-2378e1525ab2' class='xr-var-attrs-in' type='checkbox' ><label for='attrs-e264466a-a062-44c4-ab5a-2378e1525ab2' title='Show/Hide attributes'><svg class='icon xr-icon-file-text2'><use xlink:href='#icon-file-text2'></use></svg></label><input id='data-b59808b7-2f58-4734-9cb3-115e63cf9ddc' class='xr-var-data-in' type='checkbox'><label for='data-b59808b7-2f58-4734-9cb3-115e63cf9ddc' title='Show/Hide data repr'><svg class='icon xr-icon-database'><use xlink:href='#icon-database'></use></svg></label><div class='xr-var-attrs'><dl class='xr-attrs'><dt><span>units :</span></dt><dd>deg</dd></dl></div><div class='xr-var-data'><pre>array([-0.386, -0.38 ,  0.186, ..., -1.103, -1.15 ,  0.323], dtype=float32)</pre></div></li><li class='xr-var-item'><div class='xr-var-name'><span>heading_ADCP_Avg</span></div><div class='xr-var-dims'>(time)</div><div class='xr-var-dtype'>float32</div><div class='xr-var-preview xr-preview'>...</div><input id='attrs-f7e6ea56-bedc-4bd0-86fa-069ff900e4b6' class='xr-var-attrs-in' type='checkbox' ><label for='attrs-f7e6ea56-bedc-4bd0-86fa-069ff900e4b6' title='Show/Hide attributes'><svg class='icon xr-icon-file-text2'><use xlink:href='#icon-file-text2'></use></svg></label><input id='data-96018612-ab20-4a6e-ac36-93716f69e8af' class='xr-var-data-in' type='checkbox'><label for='data-96018612-ab20-4a6e-ac36-93716f69e8af' title='Show/Hide data repr'><svg class='icon xr-icon-database'><use xlink:href='#icon-database'></use></svg></label><div class='xr-var-attrs'><dl class='xr-attrs'><dt><span>units :</span></dt><dd>Deg</dd></dl></div><div class='xr-var-data'><pre>array([196.2 , 195.8 , 195.1 , ..., 224.6 , 224.5 ,  76.43], dtype=float32)</pre></div></li><li class='xr-var-item'><div class='xr-var-name'><span>Temperature_ADCP_Avg</span></div><div class='xr-var-dims'>(time)</div><div class='xr-var-dtype'>float32</div><div class='xr-var-preview xr-preview'>...</div><input id='attrs-99f45747-537f-4f44-b76f-742bbb7f354e' class='xr-var-attrs-in' type='checkbox' ><label for='attrs-99f45747-537f-4f44-b76f-742bbb7f354e' title='Show/Hide attributes'><svg class='icon xr-icon-file-text2'><use xlink:href='#icon-file-text2'></use></svg></label><input id='data-86491ba1-1b9f-439d-8179-196d142ed2c1' class='xr-var-data-in' type='checkbox'><label for='data-86491ba1-1b9f-439d-8179-196d142ed2c1' title='Show/Hide data repr'><svg class='icon xr-icon-database'><use xlink:href='#icon-database'></use></svg></label><div class='xr-var-attrs'><dl class='xr-attrs'><dt><span>units :</span></dt><dd>Celsius</dd></dl></div><div class='xr-var-data'><pre>array([24.85, 24.81, 24.8 , ..., 16.21, 16.38, 16.44], dtype=float32)</pre></div></li><li class='xr-var-item'><div class='xr-var-name'><span>current_east</span></div><div class='xr-var-dims'>(z, time)</div><div class='xr-var-dtype'>float32</div><div class='xr-var-preview xr-preview'>...</div><input id='attrs-516b3b81-8ee9-40fd-87d3-0942d66ca9aa' class='xr-var-attrs-in' type='checkbox' ><label for='attrs-516b3b81-8ee9-40fd-87d3-0942d66ca9aa' title='Show/Hide attributes'><svg class='icon xr-icon-file-text2'><use xlink:href='#icon-file-text2'></use></svg></label><input id='data-d0246a10-73bd-4fd7-bb89-395ca2a8b211' class='xr-var-data-in' type='checkbox'><label for='data-d0246a10-73bd-4fd7-bb89-395ca2a8b211' title='Show/Hide data repr'><svg class='icon xr-icon-database'><use xlink:href='#icon-database'></use></svg></label><div class='xr-var-attrs'><dl class='xr-attrs'><dt><span>units :</span></dt><dd>m/s</dd></dl></div><div class='xr-var-data'><pre>array([[ 0.156,  0.117,  0.119, ...,  0.334,  0.36 ,  0.421],\n",
       "       [ 0.008,  0.205,  0.032, ...,  0.346,  0.367,  0.407],\n",
       "       [-0.032,  0.171,  0.105, ..., -0.014,  0.013,  0.814],\n",
       "       ...,\n",
       "       [-0.257,  0.295,  0.172, ...,  0.132,  0.12 ,  0.13 ],\n",
       "       [-0.239,  0.45 ,  0.168, ...,  0.124,  0.096,  0.106],\n",
       "       [-0.212,  0.603,  0.041, ...,  0.094,  0.101,  0.089]], dtype=float32)</pre></div></li><li class='xr-var-item'><div class='xr-var-name'><span>current_north</span></div><div class='xr-var-dims'>(z, time)</div><div class='xr-var-dtype'>float32</div><div class='xr-var-preview xr-preview'>...</div><input id='attrs-024ce5a3-02d2-4af2-9b28-efa5939d146d' class='xr-var-attrs-in' type='checkbox' ><label for='attrs-024ce5a3-02d2-4af2-9b28-efa5939d146d' title='Show/Hide attributes'><svg class='icon xr-icon-file-text2'><use xlink:href='#icon-file-text2'></use></svg></label><input id='data-c6780cf1-e989-4d1c-85f8-1b7087bc8a88' class='xr-var-data-in' type='checkbox'><label for='data-c6780cf1-e989-4d1c-85f8-1b7087bc8a88' title='Show/Hide data repr'><svg class='icon xr-icon-database'><use xlink:href='#icon-database'></use></svg></label><div class='xr-var-attrs'><dl class='xr-attrs'><dt><span>units :</span></dt><dd>m/s</dd></dl></div><div class='xr-var-data'><pre>array([[-0.084, -0.074, -0.07 , ..., -0.069, -0.022, -0.011],\n",
       "       [ 0.016, -0.047,  0.019, ..., -0.07 , -0.035,  0.003],\n",
       "       [-0.043,  0.278, -0.01 , ...,  0.133,  0.187, -0.309],\n",
       "       ...,\n",
       "       [-0.063,  0.164,  0.395, ..., -0.107, -0.093, -0.052],\n",
       "       [ 0.472,  0.015,  0.241, ..., -0.108, -0.109, -0.057],\n",
       "       [ 0.366, -0.007,  0.199, ..., -0.122, -0.112, -0.067]], dtype=float32)</pre></div></li><li class='xr-var-item'><div class='xr-var-name'><span>z_matrix</span></div><div class='xr-var-dims'>(z, time)</div><div class='xr-var-dtype'>float32</div><div class='xr-var-preview xr-preview'>...</div><input id='attrs-bd0da23d-66c1-485f-a44e-559168ef9a27' class='xr-var-attrs-in' type='checkbox' ><label for='attrs-bd0da23d-66c1-485f-a44e-559168ef9a27' title='Show/Hide attributes'><svg class='icon xr-icon-file-text2'><use xlink:href='#icon-file-text2'></use></svg></label><input id='data-ae772ce2-d5f1-4268-ac83-3abbcd581979' class='xr-var-data-in' type='checkbox'><label for='data-ae772ce2-d5f1-4268-ac83-3abbcd581979' title='Show/Hide data repr'><svg class='icon xr-icon-database'><use xlink:href='#icon-database'></use></svg></label><div class='xr-var-attrs'><dl class='xr-attrs'><dt><span>units :</span></dt><dd>m/s</dd></dl></div><div class='xr-var-data'><pre>array([[  -3.93,   -3.93,   -3.93, ...,   -3.93,   -3.93,   -3.93],\n",
       "       [  -5.93,   -5.93,   -5.93, ...,   -5.93,   -5.93,   -5.93],\n",
       "       [  -7.93,   -7.93,   -7.93, ...,   -7.93,   -7.93,   -7.93],\n",
       "       ...,\n",
       "       [ -97.93,  -97.93,  -97.93, ...,  -97.93,  -97.93,  -97.93],\n",
       "       [ -99.93,  -99.93,  -99.93, ...,  -99.93,  -99.93,  -99.93],\n",
       "       [-101.93, -101.93, -101.93, ..., -101.93, -101.93, -101.93]],\n",
       "      dtype=float32)</pre></div></li><li class='xr-var-item'><div class='xr-var-name'><span>Longitude</span></div><div class='xr-var-dims'>(time)</div><div class='xr-var-dtype'>float64</div><div class='xr-var-preview xr-preview'>...</div><input id='attrs-baedbaa2-b665-4e29-9923-9eaf68042cb7' class='xr-var-attrs-in' type='checkbox' ><label for='attrs-baedbaa2-b665-4e29-9923-9eaf68042cb7' title='Show/Hide attributes'><svg class='icon xr-icon-file-text2'><use xlink:href='#icon-file-text2'></use></svg></label><input id='data-9f45bf5f-cecd-4ccf-b3d6-a597b3eb77ff' class='xr-var-data-in' type='checkbox'><label for='data-9f45bf5f-cecd-4ccf-b3d6-a597b3eb77ff' title='Show/Hide data repr'><svg class='icon xr-icon-database'><use xlink:href='#icon-database'></use></svg></label><div class='xr-var-attrs'><dl class='xr-attrs'><dt><span>units :</span></dt><dd>deg</dd></dl></div><div class='xr-var-data'><pre>array([-122.001808, -122.001831, -122.00177 , ..., -124.623589, -124.62751 ,\n",
       "       -124.616188])</pre></div></li><li class='xr-var-item'><div class='xr-var-name'><span>Latitude</span></div><div class='xr-var-dims'>(time)</div><div class='xr-var-dtype'>float64</div><div class='xr-var-preview xr-preview'>...</div><input id='attrs-6e7c00ea-a038-4ef4-8f89-362dea317603' class='xr-var-attrs-in' type='checkbox' ><label for='attrs-6e7c00ea-a038-4ef4-8f89-362dea317603' title='Show/Hide attributes'><svg class='icon xr-icon-file-text2'><use xlink:href='#icon-file-text2'></use></svg></label><input id='data-77bd0b68-0ddb-4709-93ed-4754d65cff7d' class='xr-var-data-in' type='checkbox'><label for='data-77bd0b68-0ddb-4709-93ed-4754d65cff7d' title='Show/Hide data repr'><svg class='icon xr-icon-database'><use xlink:href='#icon-database'></use></svg></label><div class='xr-var-attrs'><dl class='xr-attrs'><dt><span>units :</span></dt><dd>deg</dd></dl></div><div class='xr-var-data'><pre>array([36.967251, 36.967239, 36.967289, ..., 36.894058, 36.896301, 36.890652])</pre></div></li><li class='xr-var-item'><div class='xr-var-name'><span>depth</span></div><div class='xr-var-dims'>(z)</div><div class='xr-var-dtype'>float32</div><div class='xr-var-preview xr-preview'>...</div><input id='attrs-5d3bca54-ca22-41e4-83f8-115f0f3c7e2a' class='xr-var-attrs-in' type='checkbox' ><label for='attrs-5d3bca54-ca22-41e4-83f8-115f0f3c7e2a' title='Show/Hide attributes'><svg class='icon xr-icon-file-text2'><use xlink:href='#icon-file-text2'></use></svg></label><input id='data-e4214b5e-f04c-4107-a2ee-2de77d0d72f4' class='xr-var-data-in' type='checkbox'><label for='data-e4214b5e-f04c-4107-a2ee-2de77d0d72f4' title='Show/Hide data repr'><svg class='icon xr-icon-database'><use xlink:href='#icon-database'></use></svg></label><div class='xr-var-attrs'><dl class='xr-attrs'><dt><span>units :</span></dt><dd>m/s</dd></dl></div><div class='xr-var-data'><pre>array([  -3.93,   -5.93,   -7.93,   -9.93,  -11.93,  -13.93,  -15.93,  -17.93,\n",
       "        -19.93,  -21.93,  -23.93,  -25.93,  -27.93,  -29.93,  -31.93,  -33.93,\n",
       "        -35.93,  -37.93,  -39.93,  -41.93,  -43.93,  -45.93,  -47.93,  -49.93,\n",
       "        -51.93,  -53.93,  -55.93,  -57.93,  -59.93,  -61.93,  -63.93,  -65.93,\n",
       "        -67.93,  -69.93,  -71.93,  -73.93,  -75.93,  -77.93,  -79.93,  -81.93,\n",
       "        -83.93,  -85.93,  -87.93,  -89.93,  -91.93,  -93.93,  -95.93,  -97.93,\n",
       "        -99.93, -101.93], dtype=float32)</pre></div></li></ul></div></li><li class='xr-section-item'><input id='section-17f2408a-a687-4f26-b881-4edb0f56bf97' class='xr-section-summary-in' type='checkbox'  ><label for='section-17f2408a-a687-4f26-b881-4edb0f56bf97' class='xr-section-summary' >Attributes: <span>(10)</span></label><div class='xr-section-inline-details'></div><div class='xr-section-details'><dl class='xr-attrs'><dt><span>Name :</span></dt><dd>SV3-1043_PLD2_TAB2</dd><dt><span>wms_title :</span></dt><dd>SV3-1043_PLD2_TAB2</dd><dt><span>title :</span></dt><dd>S-MODE IOP1 2022 Waveglider SV3-1043 real-time data - payload PLD2_TAB2</dd><dt><span>instrument :</span></dt><dd>Liquid Robotics SV3 Waveglider</dd><dt><span>sea_name :</span></dt><dd>Pacific</dd><dt><span>keywords :</span></dt><dd>Waveglider, S-MODE, Pacific Ocean, Temperature</dd><dt><span>time_coverage_start :</span></dt><dd>2022-09-21T23:47:00</dd><dt><span>time_coverage_end :</span></dt><dd>2022-10-20T13:02:00</dd><dt><span>history :</span></dt><dd>Thu Oct 20 09:13:49 2022: ncrename -v z,z_matrix ../data/raw/WG_NRT/SV3-1043_PLD2_TAB2.nc\n",
       "2022-10-20 13:10Z Downloaded real-time data from WGMS, processed on uop-ops.whoi.edu</dd><dt><span>NCO :</span></dt><dd>netCDF Operators version 4.9.1 (Homepage = http://nco.sf.net, Code = http://github.com/nco/nco)</dd></dl></div></li></ul></div></div>"
      ],
      "text/plain": [
       "<xarray.Dataset>\n",
       "Dimensions:               (time: 1643, z: 50)\n",
       "Coordinates:\n",
       "  * time                  (time) datetime64[ns] 2022-09-22T03:46:08 ... 2022-...\n",
       "Dimensions without coordinates: z\n",
       "Data variables: (12/16)\n",
       "    year                  (time) float32 ...\n",
       "    day                   (time) float32 ...\n",
       "    hour                  (time) float32 ...\n",
       "    minute                (time) float32 ...\n",
       "    sec                   (time) float32 ...\n",
       "    RECORD                (time) float32 ...\n",
       "    ...                    ...\n",
       "    current_east          (z, time) float32 ...\n",
       "    current_north         (z, time) float32 ...\n",
       "    z_matrix              (z, time) float32 ...\n",
       "    Longitude             (time) float64 ...\n",
       "    Latitude              (time) float64 ...\n",
       "    depth                 (z) float32 ...\n",
       "Attributes:\n",
       "    Name:                 SV3-1043_PLD2_TAB2\n",
       "    wms_title:            SV3-1043_PLD2_TAB2\n",
       "    title:                S-MODE IOP1 2022 Waveglider SV3-1043 real-time data...\n",
       "    instrument:           Liquid Robotics SV3 Waveglider\n",
       "    sea_name:             Pacific\n",
       "    keywords:             Waveglider, S-MODE, Pacific Ocean, Temperature\n",
       "    time_coverage_start:  2022-09-21T23:47:00\n",
       "    time_coverage_end:    2022-10-20T13:02:00\n",
       "    history:              Thu Oct 20 09:13:49 2022: ncrename -v z,z_matrix .....\n",
       "    NCO:                  netCDF Operators version 4.9.1 (Homepage = http://n..."
      ]
     },
     "execution_count": 9,
     "metadata": {},
     "output_type": "execute_result"
    }
   ],
   "source": [
    "eval('adcp_'+WG_list[2])"
   ]
  },
  {
   "cell_type": "code",
   "execution_count": 10,
   "metadata": {},
   "outputs": [],
   "source": [
    "tmin = np.datetime64('2022-10-10T00:00:00')\n",
    "tmax = np.datetime64('now')\n",
    "vmin = -.50 \n",
    "vmax = .50\n",
    "levels=np.arange(vmin,vmax,.05)\n"
   ]
  },
  {
   "cell_type": "code",
   "execution_count": 11,
   "metadata": {},
   "outputs": [
    {
     "data": {
      "text/plain": [
       "<matplotlib.colorbar.Colorbar at 0x7f145adec490>"
      ]
     },
     "execution_count": 11,
     "metadata": {},
     "output_type": "execute_result"
    }
   ],
   "source": [
    "plt.figure()\n",
    "plt.set_cmap(cmap=plt.get_cmap('turbo'))\n",
    "n = 0\n",
    "ax1 = plt.subplot(len(WG_list),1,len(WG_list))\n",
    "ax1.set_xlim(tmin,tmax)\n",
    "zmax=-60\n",
    "for WG in WG_list:\n",
    "    n=n+1\n",
    "    ds = eval('adcp_'+WG)\n",
    "    ax = plt.subplot(len(WG_list),1,n,sharex=ax1)\n",
    "    im = plt.pcolor(ds.time.values,ds.depth,ds.current_east,vmin=vmin,vmax=vmax)\n",
    "    # plt.contourf(ds.time.values,ds.z_matrix[:,1],ds.current_east,levels)\n",
    "    plt.ylim(zmax, 0)\n",
    "    plt.text(tmin,zmax+5,WG)\n",
    "    if n==1: plt.title('East vel')\n",
    "fig=plt.gcf()\n",
    "fig.autofmt_xdate()\n",
    "fig.subplots_adjust(right=0.85)\n",
    "cbar_ax = fig.add_axes([0.875, 0.1, 0.025, 0.8])\n",
    "fig.colorbar(im, cax=cbar_ax)"
   ]
  },
  {
   "cell_type": "code",
   "execution_count": 12,
   "metadata": {},
   "outputs": [
    {
     "data": {
      "text/plain": [
       "<matplotlib.colorbar.Colorbar at 0x7f144ecad5b0>"
      ]
     },
     "execution_count": 12,
     "metadata": {},
     "output_type": "execute_result"
    }
   ],
   "source": [
    "plt.figure()\n",
    "plt.set_cmap(cmap=plt.get_cmap('turbo'))\n",
    "n = 0\n",
    "ax1 = plt.subplot(len(WG_list),1,len(WG_list))\n",
    "ax1.set_xlim(tmin,tmax)\n",
    "for WG in WG_list:\n",
    "    n=n+1\n",
    "    ds = eval('adcp_'+WG)\n",
    "    ax = plt.subplot(len(WG_list),1,n,sharex=ax1)\n",
    "    im = plt.pcolor(ds.time.values,ds.z_matrix,ds.current_north,vmin=vmin,vmax=vmax)\n",
    "    # plt.contourf(ds.time.values,ds.z_matrix[:,1],ds.current_east,levels)\n",
    "    plt.ylim(-60, 0)\n",
    "    plt.text(tmin,zmax+5,WG)\n",
    "    if n==1: plt.title('North vel')\n",
    "fig=plt.gcf()\n",
    "fig.autofmt_xdate()\n",
    "fig.subplots_adjust(right=0.85)\n",
    "cbar_ax = fig.add_axes([0.875, 0.1, 0.025, 0.8])\n",
    "fig.colorbar(im, cax=cbar_ax)"
   ]
  },
  {
   "cell_type": "markdown",
   "metadata": {},
   "source": [
    "OK, that's very cool!  I have all the files cleaned up and have added the lat/lon.  Le't get ready to try finding the ones in the tringle and doing the LS fit.  Maybe a good intermediate step is to plot the vectors on a map.  Or, maybe better would be to do the same plots as the last two above, but showing only the data from the triangle."
   ]
  },
  {
   "cell_type": "code",
   "execution_count": 13,
   "metadata": {},
   "outputs": [
    {
     "data": {
      "text/plain": [
       "<matplotlib.legend.Legend at 0x7f145ace1f40>"
      ]
     },
     "execution_count": 13,
     "metadata": {},
     "output_type": "execute_result"
    }
   ],
   "source": [
    "# Plot locations\n",
    "t0 = np.datetime64('2022-10-15T00:00:00')\n",
    "time_tol = np.timedelta64(5,'D')\n",
    "plt.figure()\n",
    "n = 0\n",
    "zmax=-60\n",
    "for WG in WG_list:\n",
    "    n=n+1\n",
    "    ds = eval('adcp_'+WG)\n",
    "    tind = np.flatnonzero(np.abs(ds.time-t0)<time_tol)\n",
    "    plt.plot(ds.Longitude[tind], ds.Latitude[tind])\n",
    "    # plt.contourf(ds.time.values,ds.z_matrix[:,1],ds.current_east,levels)\n",
    "    plt.axis('square')\n",
    "    plt.axis([-124.7, -124.15, 36.8, 37.2])\n",
    "plt.legend(WG_list)\n",
    "# Can see two triangles here:\n",
    "# 36.97, -124.66\n",
    "# 37.0, -124.63"
   ]
  },
  {
   "cell_type": "code",
   "execution_count": 14,
   "metadata": {},
   "outputs": [],
   "source": [
    "lon0 = -124.66\n",
    "lat0 = 36.97\n",
    "tol = .023\n"
   ]
  },
  {
   "cell_type": "code",
   "execution_count": 15,
   "metadata": {},
   "outputs": [],
   "source": [
    "plt.figure()\n",
    "plt.set_cmap(cmap=plt.get_cmap('turbo'))\n",
    "n = 0\n",
    "ax1 = plt.subplot(len(WG_list),1,len(WG_list))\n",
    "ax1.set_xlim(tmin,tmax)\n",
    "for WG in WG_list:\n",
    "    n=n+1\n",
    "    ds = eval('adcp_'+WG)\n",
    "    # ds = ds.where(np.logical_and(np.abs(ds.Latitude.values-lat0)<tol, np.abs(ds.Longitude.values-lon0)<tol))\n",
    "    tind = np.flatnonzero(np.logical_and(np.abs(ds.Latitude.values-lat0)<tol, np.abs(ds.Longitude.values-lon0)<tol))\n",
    "    ax = plt.subplot(len(WG_list),1,n,sharex=ax1)\n",
    "    if tind.size == 0: \n",
    "        im = plt.axis()\n",
    "    else:\n",
    "        im = plt.pcolor(ds.time[tind].values,ds.depth,ds.current_north[:,tind],vmin=vmin,vmax=vmax)\n",
    "        # plt.contourf(ds.time.values,ds.z_matrix[:,1],ds.current_east,levels)\n",
    "    plt.ylim(-60, 0)\n",
    "    plt.text(tmin,zmax+5,WG)\n",
    "    if n==1: plt.title('North vel')\n",
    "fig=plt.gcf()\n",
    "fig.autofmt_xdate()\n",
    "fig.subplots_adjust(right=0.85)\n",
    "cbar_ax = fig.add_axes([0.875, 0.1, 0.025, 0.8])\n",
    "fig.colorbar(im, cax=cbar_ax)\n",
    "if savefig:\n",
    "    plt.savefig(__figdir__+'WG_triangle_north_vel'+'.'+plotfiletype,**savefig_args)"
   ]
  },
  {
   "cell_type": "code",
   "execution_count": 16,
   "metadata": {},
   "outputs": [],
   "source": [
    "plt.figure()\n",
    "plt.set_cmap(cmap=plt.get_cmap('turbo'))\n",
    "n = 0\n",
    "ax1 = plt.subplot(len(WG_list),1,len(WG_list))\n",
    "ax1.set_xlim(tmin,tmax)\n",
    "zmax=-60\n",
    "for WG in WG_list:\n",
    "    n=n+1\n",
    "    ds = eval('adcp_'+WG)\n",
    "    # ds = ds.where(np.logical_and(np.abs(ds.Latitude.values-lat0)<tol, np.abs(ds.Longitude.values-lon0)<tol))\n",
    "    tind = np.flatnonzero(np.logical_and(np.abs(ds.Latitude.values-lat0)<tol, np.abs(ds.Longitude.values-lon0)<tol))\n",
    "    ax = plt.subplot(len(WG_list),1,n,sharex=ax1)\n",
    "    if tind.size == 0: \n",
    "        im = plt.axis()\n",
    "    else:\n",
    "        im = plt.pcolor(ds.time[tind].values,ds.depth,ds.current_east[:,tind],vmin=vmin,vmax=vmax)\n",
    "        # plt.contourf(ds.time.values,ds.z_matrix[:,1],ds.current_east,levels)\n",
    "    plt.ylim(zmax, 0)\n",
    "    plt.text(tmin,zmax+5,WG)\n",
    "    if n==1: plt.title('East vel')\n",
    "fig=plt.gcf()\n",
    "fig.autofmt_xdate()\n",
    "fig.subplots_adjust(right=0.85)\n",
    "cbar_ax = fig.add_axes([0.875, 0.1, 0.025, 0.8])\n",
    "fig.colorbar(im, cax=cbar_ax)\n",
    "if savefig:\n",
    "    plt.savefig(__figdir__+'WG_triangle_east_vel'+'.'+plotfiletype,**savefig_args)"
   ]
  },
  {
   "cell_type": "code",
   "execution_count": 17,
   "metadata": {},
   "outputs": [
    {
     "data": {
      "text/plain": [
       "(50, 1862)"
      ]
     },
     "execution_count": 17,
     "metadata": {},
     "output_type": "execute_result"
    }
   ],
   "source": [
    "np.shape(ds.current_north)"
   ]
  },
  {
   "cell_type": "markdown",
   "metadata": {},
   "source": [
    "OK, WHOI32 has been in the first triangle for about the whole time (since the 12th).  Let's plot a time series of that one."
   ]
  },
  {
   "cell_type": "code",
   "execution_count": 18,
   "metadata": {},
   "outputs": [],
   "source": [
    "fig = plt.figure()\n",
    "ax = plt.subplot(111)\n",
    "WG = 'WHOI32'\n",
    "ds = eval('adcp_'+WG)\n",
    "tind = np.flatnonzero(np.logical_and(np.abs(ds.Latitude.values-lat0)<tol, np.abs(ds.Longitude.values-lon0)<tol))\n",
    "im = plt.pcolor(ds.time[tind].values,ds.depth,ds.current_east[:,tind],vmin=vmin,vmax=vmax)\n",
    "plt.ylim(zmax, 0)\n",
    "plt.text(tmin,zmax+5,WG)\n",
    "plt.title('East vel for ' + WG + ' when in triangle')\n",
    "fig.autofmt_xdate()\n",
    "fig.subplots_adjust(right=0.85)\n",
    "cbar_ax = fig.add_axes([0.875, 0.1, 0.025, 0.8])\n",
    "fig.colorbar(im, cax=cbar_ax)\n",
    "ax.set_xlim(tmin,tmax)\n",
    "if 0: #savefig:\n",
    "    plt.savefig(__figdir__+'WHOI32_triangle_east_vel'+'.'+plotfiletype,**savefig_args)"
   ]
  },
  {
   "cell_type": "code",
   "execution_count": 19,
   "metadata": {},
   "outputs": [],
   "source": [
    "fig = plt.figure()\n",
    "ax = plt.subplot(111)\n",
    "WG = 'WHOI32'\n",
    "ds = eval('adcp_'+WG)\n",
    "tind = np.flatnonzero(np.logical_and(np.abs(ds.Latitude.values-lat0)<tol, np.abs(ds.Longitude.values-lon0)<tol))\n",
    "z0 = -15\n",
    "zind = np.flatnonzero(np.abs(ds.depth-z0)<1)\n",
    "plt.plot(ds.time.values[tind],np.squeeze(ds.current_east[zind,tind]))\n",
    "plt.plot(ds.time.values[tind],np.squeeze(ds.current_north[zind,tind]))\n",
    "plt.legend(['U','V'])\n",
    "# plt.contourf(ds.time.values,ds.z_matrix[:,1],ds.current_east,levels)\n",
    "plt.title(WG+ ' east vel')\n",
    "plt.ylabel('[m/s]')\n",
    "fig.autofmt_xdate()\n",
    "ax.set_xlim(tmin,tmax)\n",
    "if savefig:\n",
    "    plt.savefig(__figdir__+'WHOI32_triangle_time_series'+'.'+plotfiletype,**savefig_args)"
   ]
  },
  {
   "cell_type": "code",
   "execution_count": null,
   "metadata": {},
   "outputs": [],
   "source": []
  },
  {
   "cell_type": "code",
   "execution_count": 20,
   "metadata": {},
   "outputs": [],
   "source": [
    "# %whos"
   ]
  },
  {
   "cell_type": "markdown",
   "metadata": {},
   "source": [
    "# How to organize code for the fits?\n",
    "\n",
    "One way to do it would be to dump all of the U, V, lon, lat, time values into vectors and then select the data points that are within some lon/lat/time distance of a given target.  That should work."
   ]
  },
  {
   "cell_type": "code",
   "execution_count": 21,
   "metadata": {},
   "outputs": [
    {
     "data": {
      "text/plain": [
       "2694"
      ]
     },
     "execution_count": 21,
     "metadata": {},
     "output_type": "execute_result"
    }
   ],
   "source": [
    "len(ds.time)"
   ]
  },
  {
   "cell_type": "code",
   "execution_count": 22,
   "metadata": {},
   "outputs": [],
   "source": [
    "# dump all of the U, V, lon, lat, time values into vectors and then select the data points that are within some lon/lat/time distance of a given target\n",
    "# I guess this will have to be Ntimes x Nz, where N = len(time)*len(WG_list)\n",
    "Ntimes=0\n",
    "Nz_check = []\n",
    "z_check = []\n",
    "for WG in WG_list:\n",
    "    ds = eval('adcp_'+WG)\n",
    "    Ntimes=Ntimes+len(ds.time)\n",
    "    Nz_check.append(len(ds.depth)) # doing this to verify that \n",
    "    z_check.append(np.min(ds.depth)) # doing this to verify that \n",
    "\n",
    "if np.diff(Nz_check).all()==0 and np.diff(z_check).all()==0 :\n",
    "    Nz=Nz_check[0]\n",
    "    z=ds.depth\n",
    "else:\n",
    "    raise ValueError('There are different numbers of depth points in the files')"
   ]
  },
  {
   "cell_type": "code",
   "execution_count": 23,
   "metadata": {},
   "outputs": [
    {
     "data": {
      "text/plain": [
       "(12724, 50)"
      ]
     },
     "execution_count": 23,
     "metadata": {},
     "output_type": "execute_result"
    }
   ],
   "source": [
    "U = np.zeros((Ntimes, Nz))\n",
    "np.shape(U)"
   ]
  },
  {
   "cell_type": "code",
   "execution_count": 24,
   "metadata": {},
   "outputs": [],
   "source": [
    "U = []\n",
    "V = []\n",
    "lon = []\n",
    "lat = []\n",
    "time = []\n",
    "name = []\n",
    "\n",
    "for WG in WG_list:\n",
    "    ds = eval('adcp_'+WG)\n",
    "    #tind = np.flatnonzero(np.logical_and(np.abs(ds.Latitude.values-lat0)<tol, np.abs(ds.Longitude.values-lon0)<tol))\n",
    "    U.extend(ds.current_east.transpose())\n",
    "    V.extend(ds.current_north.transpose())\n",
    "    time.extend(ds.time.values)\n",
    "    lon.extend(ds.Longitude)\n",
    "    lat.extend(ds.Latitude)\n",
    "    name.extend(np.repeat(WG,len(ds.time.values)))\n",
    "\n",
    "U = np.array(U)\n",
    "V = np.array(V)\n",
    "lon = np.array(lon)\n",
    "lat = np.array(lat)\n",
    "time = np.array(time)\n",
    "name = np.array(name)"
   ]
  },
  {
   "cell_type": "code",
   "execution_count": 25,
   "metadata": {},
   "outputs": [
    {
     "name": "stdout",
     "output_type": "stream",
     "text": [
      "(12724,) (12724,) (12724,) (12724, 50) (12724, 50)\n"
     ]
    }
   ],
   "source": [
    "print(np.shape(lat),np.shape(lon),np.shape(time),np.shape(U),np.shape(V))"
   ]
  },
  {
   "cell_type": "code",
   "execution_count": 26,
   "metadata": {},
   "outputs": [],
   "source": [
    "z0 = -15\n",
    "zind = np.flatnonzero(np.abs(z-z0)<1)\n",
    "\n",
    "lon0 = -124.66\n",
    "lat0 = 36.96\n",
    "lon_lat_tol = .023\n",
    "t0 = np.datetime64('2022-10-13T12:00:00')\n",
    "time_tol = np.timedelta64(1,'h')\n",
    "\n"
   ]
  },
  {
   "cell_type": "code",
   "execution_count": 27,
   "metadata": {},
   "outputs": [],
   "source": [
    "def subset_vel(lon0, lat0, t0, lon_lat_tol, time_tol, zind):\n",
    "    tind = np.flatnonzero(np.logical_and(np.logical_and(np.abs(lat-lat0)<lon_lat_tol, np.abs(lon-lon0)<lon_lat_tol),np.abs(time-t0)<time_tol))\n",
    "    lonsub = lon[tind]\n",
    "    latsub = lat[tind]\n",
    "    timesub = time[tind]\n",
    "    Usub = U[tind,zind]\n",
    "    Vsub = V[tind,zind]\n",
    "    namesub = name[tind]\n",
    "    xsub = []\n",
    "    for n in range(len(lonsub)):\n",
    "        loni=lonsub[n]\n",
    "        xsub.append(np.sign(loni-lon0)*gsw.geostrophy.distance((loni,lon0), (lat0,lat0)))\n",
    "    ysub = []\n",
    "    for lati in latsub:\n",
    "        ysub.append(np.sign(lati-lat0)*gsw.geostrophy.distance((lon0,lon0), (lati,lat0)))\n",
    "    \n",
    "    return namesub, lonsub, latsub, xsub, ysub, timesub, Usub, Vsub"
   ]
  },
  {
   "cell_type": "code",
   "execution_count": 28,
   "metadata": {},
   "outputs": [],
   "source": [
    "namesub, lonsub, latsub, xsub, ysub, timesub, Usub, Vsub = subset_vel(lon0,lat0,t0, lon_lat_tol, time_tol, zind)"
   ]
  },
  {
   "cell_type": "code",
   "execution_count": 29,
   "metadata": {},
   "outputs": [
    {
     "data": {
      "text/plain": [
       "(-751.2793755339857, 712.2154872333676, 591.420815645389, 1832.323518557612)"
      ]
     },
     "execution_count": 29,
     "metadata": {},
     "output_type": "execute_result"
    }
   ],
   "source": [
    "plt.figure()\n",
    "# plt.scatter(xsub, ysub,c=Vsub)\n",
    "plt.quiver(xsub, ysub,Usub, Vsub)\n",
    "plt.title(', '.join(np.unique(namesub)) + ' data, ' + str(abs(lon0)) + 'W, ' + str(lat0) + 'N, time = ' + str(t0) )\n",
    "plt.axis('equal')"
   ]
  },
  {
   "cell_type": "code",
   "execution_count": 30,
   "metadata": {},
   "outputs": [
    {
     "data": {
      "text/plain": [
       "[<matplotlib.lines.Line2D at 0x7f144a421520>]"
      ]
     },
     "execution_count": 30,
     "metadata": {},
     "output_type": "execute_result"
    }
   ],
   "source": [
    "plt.figure()\n",
    "plt.plot(timesub, Usub,'.')"
   ]
  },
  {
   "cell_type": "code",
   "execution_count": null,
   "metadata": {},
   "outputs": [],
   "source": []
  },
  {
   "cell_type": "code",
   "execution_count": null,
   "metadata": {},
   "outputs": [],
   "source": []
  },
  {
   "cell_type": "markdown",
   "metadata": {},
   "source": [
    "We want to estimate $\\frac{\\partial u}{\\partial x}$, $\\frac{\\partial u}{\\partial y}$, $\\frac{\\partial v}{\\partial x}$, and $\\frac{\\partial v}{\\partial y}$. We will fit a plane to the measured velocity components.  Conceptually, we are thinking of the velocity as being,\n",
    "\\begin{equation}\n",
    "    u(x,y) = u_0 + \\frac{\\partial u}{\\partial x}\\Delta x + \\frac{\\partial u}{\\partial y}\\Delta y\n",
    "\\end{equation}\n",
    "\n",
    "We could write this system of equations in vector form as:\n",
    "\\begin{eqnarray}\n",
    "  \\begin{bmatrix} u_{n=1} \\\\ u_{n=2} \\\\ u_{n=3} \\end{bmatrix} = u_0 \\begin{bmatrix} 1 \\\\ 1 \\\\ 1 \\end{bmatrix} +\\frac{\\partial u}{\\partial x} \\begin{bmatrix} \\Delta x_{n=1} \\\\ \\Delta x_{n=2} \\\\ \\Delta x_{n=3} \\end{bmatrix} +\\frac{\\partial u}{\\partial y} \\begin{bmatrix} \\Delta y_{n=1} \\\\ \\Delta y_{n=2} \\\\ \\Delta y_{n=3} \\end{bmatrix}\n",
    "\\end{eqnarray}\n",
    "To simplify the notation, let $\\frac{\\partial u}{\\partial x}\\equiv u_x$, $\\frac{\\partial u}{\\partial y}\\equiv u_y$, $\\Delta x\\equiv x$, and $\\Delta y \\equiv y$.  Then the above equation is the same as\n",
    "\\begin{eqnarray}\n",
    "  \\begin{bmatrix} u_{n=1} \\\\ u_{n=2} \\\\ u_{n=3} \\end{bmatrix} = \\begin{bmatrix} 1 & x_{n=1} & y_{n=1} \\\\ 1 & x_{n=2} & y_{n=2} \\\\ 1 & x_{n=3} & y_{n=3} \\end{bmatrix} \\begin{bmatrix} u_0 \\\\ u_x \\\\u_y  \\end{bmatrix} \\\\\n",
    "  \\mathbf{y} \\ \\ \\  = \\ \\ \\ \\ \\ \\ \\ \\ \\ \\ \\ \\ \\ \\ \\ \\mathbf{E} \\ \\ \\ \\ \\ \\ \\ \\ \\ \\ \\ \\ \\ \\ \\ \\ \\mathbf{x} \\ \\ \\ \\ \\\n",
    "\\end{eqnarray}\n",
    "\n",
    "\n",
    "The ordinary least squares solution is:\n",
    "\\begin{equation}\n",
    "  \\tilde{\\mathbf{x}}=\\left(\\mathbf{E}^T\\mathbf{E}\\right)^{-1}\\mathbf{E}^T\\mathbf{y}.\n",
    " \\label{TW_LS2}\n",
    "\\end{equation}\n",
    "\n",
    "To think about doing this in python using the numpy.linalg library, it might help to rewrite it as:\n",
    "\\begin{equation}\n",
    "  \\left(\\mathbf{E}^T\\mathbf{E}\\right)\\tilde{\\mathbf{x}}=\\mathbf{E}^T\\mathbf{y}.\n",
    "\\end{equation}\n",
    "\n"
   ]
  },
  {
   "cell_type": "code",
   "execution_count": 31,
   "metadata": {},
   "outputs": [],
   "source": [
    "# So, let's define E and y\n",
    "# first row of E is 1 xsub[0] ysub[0]\n",
    "E=[]\n",
    "for n in range(len(xsub)):\n",
    "    E.append([1,xsub[n].item(),ysub[n].item()])"
   ]
  },
  {
   "cell_type": "code",
   "execution_count": 32,
   "metadata": {},
   "outputs": [],
   "source": [
    "E = np.asarray(E)\n",
    "y = Usub"
   ]
  },
  {
   "cell_type": "code",
   "execution_count": 33,
   "metadata": {},
   "outputs": [
    {
     "data": {
      "text/plain": [
       "(24, 3)"
      ]
     },
     "execution_count": 33,
     "metadata": {},
     "output_type": "execute_result"
    }
   ],
   "source": [
    "np.shape(E)"
   ]
  },
  {
   "cell_type": "code",
   "execution_count": 34,
   "metadata": {},
   "outputs": [],
   "source": [
    "A = E.transpose()@E\n",
    "B = E.transpose()@y"
   ]
  },
  {
   "cell_type": "code",
   "execution_count": 35,
   "metadata": {},
   "outputs": [],
   "source": [
    "xtilde = np.linalg.solve(A, B) # solves A x = B"
   ]
  },
  {
   "cell_type": "code",
   "execution_count": 36,
   "metadata": {},
   "outputs": [
    {
     "name": "stdout",
     "output_type": "stream",
     "text": [
      "u0 = 0.2717793141408435, ux = 2.4442744991038983e-05, uy = -3.646376992010044e-05\n"
     ]
    }
   ],
   "source": [
    "u0, ux, uy = xtilde\n",
    "print('u0 = ' + str(u0) + ', ux = ' + str(ux) + ', uy = ' + str(uy))"
   ]
  },
  {
   "cell_type": "code",
   "execution_count": 37,
   "metadata": {},
   "outputs": [],
   "source": [
    "def plane_fit_2D(Usub,xsub,ysub):\n",
    "    ''' \n",
    "    Inputs: \n",
    "    Usub = scalar field to fit\n",
    "    xsub = x locations\n",
    "    ysub = y locations\n",
    "    \n",
    "    Outputs:\n",
    "    Estimates of:\n",
    "    u0 (value at x=0,y=0)\n",
    "    ux (x slope of input field)\n",
    "    uy (y slope of input field)\n",
    "    '''\n",
    "    \n",
    "    E=[]\n",
    "    for n in range(len(xsub)):\n",
    "        E.append([1,xsub[n].item(),ysub[n].item()])\n",
    "    E = np.asarray(E)\n",
    "    y = Usub\n",
    "    A = E.transpose()@E\n",
    "    B = E.transpose()@y\n",
    "    u0, ux, uy = np.linalg.solve(A, B) # solves A x = B\n",
    "    \n",
    "    return u0, ux, uy"
   ]
  },
  {
   "cell_type": "code",
   "execution_count": 38,
   "metadata": {},
   "outputs": [],
   "source": [
    "u0, ux, uy = plane_fit_2D(Usub,xsub,ysub)"
   ]
  },
  {
   "cell_type": "markdown",
   "metadata": {},
   "source": [
    "## OK, now we are set up to fit the whole time series!"
   ]
  },
  {
   "cell_type": "code",
   "execution_count": 45,
   "metadata": {},
   "outputs": [],
   "source": [
    "z0 = -15\n",
    "zind = np.flatnonzero(np.abs(z-z0)<1)\n",
    "\n",
    "lon0 = -124.66\n",
    "lat0 = 36.97\n",
    "lon_lat_tol = .023\n",
    "time_tol = np.timedelta64(1,'h')\n",
    "#t0 = np.datetime64('2022-10-13T12:00:00')"
   ]
  },
  {
   "cell_type": "code",
   "execution_count": 40,
   "metadata": {},
   "outputs": [],
   "source": [
    "t = np.arange('2022-10-11T12:00:00', '2022-10-16T20:00:00', dtype='datetime64[h]')"
   ]
  },
  {
   "cell_type": "code",
   "execution_count": 41,
   "metadata": {},
   "outputs": [
    {
     "ename": "NameError",
     "evalue": "name 'adsgfdsg' is not defined",
     "output_type": "error",
     "traceback": [
      "\u001b[0;31m---------------------------------------------------------------------------\u001b[0m",
      "\u001b[0;31mNameError\u001b[0m                                 Traceback (most recent call last)",
      "Input \u001b[0;32mIn [41]\u001b[0m, in \u001b[0;36m<cell line: 1>\u001b[0;34m()\u001b[0m\n\u001b[0;32m----> 1\u001b[0m \u001b[43madsgfdsg\u001b[49m\n",
      "\u001b[0;31mNameError\u001b[0m: name 'adsgfdsg' is not defined"
     ]
    }
   ],
   "source": [
    "adsgfdsg"
   ]
  },
  {
   "cell_type": "code",
   "execution_count": 46,
   "metadata": {},
   "outputs": [],
   "source": [
    "plt.figure()\n",
    "ax = [-1000, 1000, -1000, 1000]\n",
    "u0 = []; ux = []; uy = []; v0 = []; vx = []; vy = []\n",
    "n=0\n",
    "for t0 in t:\n",
    "    n=n+1\n",
    "    plt.clf()\n",
    "    namesub, lonsub, latsub, xsub, ysub, timesub, Usub, Vsub = subset_vel(lon0,lat0,t0, lon_lat_tol, time_tol, zind)\n",
    "    # Do Least squares fits\n",
    "    if len(xsub)>3:\n",
    "        u0i, uxi, uyi = plane_fit_2D(Usub,xsub,ysub)\n",
    "        v0i, vxi, vyi = plane_fit_2D(Vsub,xsub,ysub)\n",
    "    else:\n",
    "        u0i, uxi, uyi = np.nan,np.nan,np.nan\n",
    "        v0i, vxi, vyi = np.nan,np.nan,np.nan\n",
    "    u0.append(u0i);ux.append(uxi);uy.append(uyi)\n",
    "    v0.append(v0i);vx.append(vxi);vy.append(vyi)\n",
    "    # Plot\n",
    "    plt.quiver(xsub, ysub,Usub, Vsub)\n",
    "    plt.quiver(0,0,u0i,v0i,color='r')    \n",
    "    plt.axis('square')\n",
    "    plt.title(str(t0))\n",
    "    plt.text(-400,850,', '.join(np.unique(namesub)))\n",
    "    plt.axis(ax)\n",
    "    if savefig:\n",
    "        plt.savefig(__figdir__+'triangle_vel_plots_'+str(n)+'.'+plotfiletype,**savefig_args)\n",
    "    \n",
    "    \n",
    "\n"
   ]
  },
  {
   "cell_type": "code",
   "execution_count": null,
   "metadata": {},
   "outputs": [],
   "source": [
    "u0 = np.array(u0)\n",
    "ux = np.array(ux)\n",
    "uy = np.array(uy)\n",
    "v0 = np.array(v0)\n",
    "vx = np.array(vx)\n",
    "vy = np.array(vy)"
   ]
  },
  {
   "cell_type": "code",
   "execution_count": null,
   "metadata": {},
   "outputs": [],
   "source": [
    "# !ffmpeg -i triangle_vel_plots_%d.png -r 5 video5.avi"
   ]
  },
  {
   "cell_type": "code",
   "execution_count": null,
   "metadata": {},
   "outputs": [],
   "source": [
    "f = gsw.geostrophy.f(37)\n",
    "inertial_period = 2*np.pi/f/3600\n",
    "print('Inertial period is '+ f'{inertial_period:.1f}' + ' hours')"
   ]
  },
  {
   "cell_type": "code",
   "execution_count": null,
   "metadata": {},
   "outputs": [],
   "source": [
    "plt.figure()\n",
    "plt.plot(t,(uy-vx)/f)\n",
    "fig=plt.gcf()\n",
    "fig.autofmt_xdate()\n",
    "plt.title('$\\zeta$/f')"
   ]
  },
  {
   "cell_type": "code",
   "execution_count": null,
   "metadata": {},
   "outputs": [],
   "source": [
    "plt.figure()\n",
    "plt.plot(t,(ux+vy)/f)\n",
    "fig=plt.gcf()\n",
    "fig.autofmt_xdate()\n",
    "plt.title('$\\delta$/f')"
   ]
  },
  {
   "cell_type": "code",
   "execution_count": null,
   "metadata": {},
   "outputs": [],
   "source": []
  },
  {
   "cell_type": "markdown",
   "metadata": {},
   "source": [
    "Consider the tapered and weighted least-squares solution (Equation 1.125 in the course notes),\n",
    "\\begin{equation}\n",
    "  \\tilde{\\mathbf{x}}=\\left(\\mathbf{E}^T\\mathbf{W}^{-1}\\mathbf{E}+\\mathbf{S}^{-1}\\right)^{-1}\\left(\\mathbf{E}^T\\mathbf{W}^{-1}\\mathbf{y}+\\mathbf{S}^{-1}\\mathbf{x_0}\\right).\n",
    " \\label{TW_LS}\n",
    "\\end{equation}\n",
    "Recall that $\\mathbf{W}^{-1}$ is a ''weight matrix'', $\\mathbf{S}^{-1}$ is a ''taper matrix'' (which can be thought of as another weight matrix, as we shall see soon), and $\\mathbf{x_0}$ is the first guess solution.  Just to simplify the notation and discussion a little bit, we will assume that $\\mathbf{x_0}=0$, which would be the case if we know or think that the expectation value $<\\mathbf{x}>=0$.  In that case\n",
    "\\begin{equation}\n",
    "  \\tilde{\\mathbf{x}}=\\left(\\mathbf{E}^T\\mathbf{W}^{-1}\\mathbf{E}+\\mathbf{S}^{-1}\\right)^{-1}\\mathbf{E}^T\\mathbf{W}^{-1}\\mathbf{y}.\n",
    " \\label{TW_LS2}\n",
    "\\end{equation}\n",
    "\n",
    "Again assuming $\\mathbf{x_0}=0$, the cost function that led to Equation \\ref{TW_LS2} was (Equation 1.193 in the notes):\n",
    "\\begin{equation}\n",
    "  J=\\mathbf{n}^T \\mathbf{W}^{-1}\\mathbf{n}+\\mathbf{x}^T\\mathbf{S}^{-1}\\mathbf{x}.\n",
    " \\label{J_TW_LS2}\n",
    "\\end{equation}\n",
    "\n",
    "Like most complicated equations, we can get a better feel for what the equation means by considering some special cases.  A common special case to consider in matrix problems is one where some matrices are diagonal and square, because these matrices can easily be inverted.  If $\\mathbf{W}=a \\mathbf{I}$, then $\\mathbf{W}^{-1}=\\frac{1}{a} \\mathbf{I}$. So, let's try letting $\\mathbf{W}^{-1}=\\frac{1}{\\sigma_n^2} \\mathbf{I}$ and letting $\\mathbf{S}^{-1}=\\frac{1}{\\Delta_x^2} \\mathbf{I}$.  Then, the cost function in Equation \\ref{J_TW_LS2} becomes\n",
    "\\begin{equation}\n",
    "  J=\\frac{1}{\\sigma_n^2}\\mathbf{n}^T \\mathbf{n}+\\frac{1}{\\Delta_x^2}\\mathbf{x}^T \\mathbf{x},\n",
    " \\label{J_TW_LS2_simple}\n",
    "\\end{equation}\n",
    "and Equation \\ref{TW_LS2} becomes:\n",
    "\\begin{equation}\n",
    "  \\tilde{\\mathbf{x}}=\\left(\\frac{1}{\\sigma_n^2}\\mathbf{E}^T \\mathbf{E}+\\frac{1}{\\Delta_x^2}\\mathbf{I}\\right)^{-1}\\frac{1}{\\sigma_n^2}\\mathbf{E}^T\\ \\mathbf{y},\n",
    "  \\nonumber\n",
    "\\end{equation}\n",
    "or,\n",
    "\\begin{equation}\n",
    "  \\tilde{\\mathbf{x}}=\\left(\\mathbf{E}^T\\mathbf{E}+\\frac{\\sigma_n^2}{\\Delta_x^2}\\mathbf{I}\\right)^{-1}\\mathbf{E}^T \\mathbf{y}.\n",
    " \\label{TW_LS2_simple}\n",
    "\\end{equation}\n",
    "If $\\sigma_n^2$ is the expected noise variance and $\\Delta_x^2$ is the expected solution variance, then we can interpret Equation \\ref{J_TW_LS2_simple} as a cost function where we equally penalize (in a normalized sense) the estimated noise variance and the estimated solution variance.  We are simultaneously minimizing the model-data misfit and the solution variance.\n",
    "\n",
    "\n",
    "\n",
    "\n",
    "\n",
    "The tapering parameter $\\sigma_n^2/\\Delta_x^2$ can be considered to be an inverse signal-to-noise ratio (SNR), expressing our expectation about the relative variance of the measurement noise and the solution.  In the limit that the tapering parameter is very small (meaning the SNR is high), Equation \\ref{TW_LS2_simple} is just the ordinary least squares solution.  If the tapering parameter is small, the tapered least squares solution could also be viewed as a mere computational trick-- by adding a small value to the diagonal of $\\mathbf{E}^T\\mathbf{E}$, we have guaranteed that the inverse $\\left(\\mathbf{E}^T\\mathbf{E}+\\frac{\\sigma_n^2}{\\Delta_x^2}\\mathbf{I}\\right)^{-1}$ exists.\n"
   ]
  },
  {
   "cell_type": "code",
   "execution_count": null,
   "metadata": {},
   "outputs": [],
   "source": []
  },
  {
   "cell_type": "code",
   "execution_count": null,
   "metadata": {},
   "outputs": [],
   "source": []
  }
 ],
 "metadata": {
  "kernelspec": {
   "display_name": "Python 3 (ipykernel)",
   "language": "python",
   "name": "python3"
  },
  "language_info": {
   "codemirror_mode": {
    "name": "ipython",
    "version": 3
   },
   "file_extension": ".py",
   "mimetype": "text/x-python",
   "name": "python",
   "nbconvert_exporter": "python",
   "pygments_lexer": "ipython3",
   "version": "3.9.7"
  }
 },
 "nbformat": 4,
 "nbformat_minor": 4
}
