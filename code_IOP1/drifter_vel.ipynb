{
 "cells": [
  {
   "cell_type": "markdown",
   "id": "cbed2f67-d44b-4b23-b298-1b7b61259c36",
   "metadata": {},
   "source": [
    "# Interpolate DUACS gesostrophic vel to times/positions\n",
    "\n",
    "* read drifter files to get list of U_g, V_g for each\n",
    "* load in the DUACS file already downloaded using motu client (see aviso_plots.ipynb)\n",
    "* do the interpolation\n",
    "* maybe to this as a function \n",
    "\n",
    "This notebook works pretty well."
   ]
  },
  {
   "cell_type": "code",
   "execution_count": 1,
   "id": "f5804d5c-d737-4eaa-8737-6573cce7f52e",
   "metadata": {},
   "outputs": [],
   "source": [
    "import xarray as xr\n",
    "import numpy as np\n",
    "import matplotlib.pyplot as plt\n",
    "import matplotlib\n",
    "import cftime\n",
    "import requests\n",
    "import cartopy.crs as ccrs                   # import projections\n",
    "import cartopy\n",
    "import gsw\n",
    "import functions  # requires functions.py from this directory"
   ]
  },
  {
   "cell_type": "code",
   "execution_count": 2,
   "id": "ff878174-d1b3-4776-9505-fe49a77dab1b",
   "metadata": {},
   "outputs": [],
   "source": [
    "dr_num=[4444094, 4443240, 4443183, 4442710, 4441770, 4441766, 4441765, 4441338, 4439046, 4435822, 4434552, 4433868, 4431967, 4431769, 4427807, 4427782]\n",
    "     \n",
    "num_dr=np.shape(dr_num)"
   ]
  },
  {
   "cell_type": "code",
   "execution_count": 3,
   "id": "08ed146c-f8a7-4b19-809e-e0430b2ed693",
   "metadata": {},
   "outputs": [],
   "source": [
    "dr_list = []\n",
    "fname_list = []\n",
    "fout_list = []\n",
    "for num in dr_num:\n",
    "    dr_list.append(str(num))\n",
    "    fname_list.append('http://smode.whoi.edu:8080/thredds/dodsC/IOP1_2022/drifters/SMODE_PFC_surface_drifter_0-'+str(num)+'.nc')\n",
    "    fout_list.append('../data/processed/drifters/SMODE_surface_drifter_with_DUACS_0-'+str(num)+'.nc')"
   ]
  },
  {
   "cell_type": "code",
   "execution_count": 4,
   "id": "98f4c64f-cc33-4686-81ba-48e4a0f5094b",
   "metadata": {},
   "outputs": [],
   "source": [
    "# Load DUACS altimetry product from a file that was already extracted using a shell script and the motu client python tool\n",
    "# A shell script using the motuclient, https://help.marine.copernicus.eu/en/articles/4796533-what-are-the-motu-client-motuclient-and-python-requirements\n",
    "# Shell script from Ben Greenwood (email 9/21/2022)\n",
    "'''\n",
    "echo \"$(date -u) download_aviso.sh\" >> ./aviso_download.log\n",
    "\n",
    "start=\"2022-09-15 00:00:00\"\n",
    "end=\"$(date -u \"+%Y-%m-%d %H:%M:%S\")\"\n",
    "out_dir='../'\n",
    "\n",
    "# download data\n",
    "motuclient --motu https://nrt.cmems-du.eu/motu-web/Motu --service-id SEALEVEL_GLO_PHY_L4_NRT_OBSERVATIONS_008_046-TDS --product-id dataset-duacs-nrt-global-merged-allsat-phy-l4 --longitude-min -140 --longitude-max -120 --latitude-min 34 --latitude-max 43 --date-min \"$start\" --date-max \"$end\" --variable adt --variable err_ugosa --variable err_vgosa --variable sla --variable ugos --variable ugosa --variable vgos --variable vgosa --out-dir \"$out_dir\" --out-name aviso.nc --user ***** --pwd *****\n",
    "'''\n",
    "\n",
    "if 1==2:\n",
    "    # run the shell script\n",
    "    ! bash ~/download_aviso.sh\n",
    "elif:\n",
    "    file = '../data/external/aviso.nc'\n",
    "    duacs = xr.open_dataset(file)"
   ]
  },
  {
   "cell_type": "code",
   "execution_count": 13,
   "id": "3d364c52-e734-4d31-aef0-c90967e39d93",
   "metadata": {},
   "outputs": [
    {
     "name": "stderr",
     "output_type": "stream",
     "text": [
      "UsageError: Line magic function `%%capture` not found.\n"
     ]
    }
   ],
   "source": [
    "#to suppress a FutureWarning\n",
    "%%capture --no-stderr \n",
    "\n",
    "for n in range(len(dr_num)):\n",
    "    fname=fname_list[n]\n",
    "    fout = fout_list[n]\n",
    "    ds = xr.open_dataset(fname)\n",
    "    new_lon = ds.longitude\n",
    "    new_lat = ds.latitude\n",
    "    new_time = ds.time\n",
    "    ugos = duacs.ugos.interp(time=new_time,latitude=new_lat, longitude=new_lon, method=\"linear\")\n",
    "    ugosa = duacs.ugosa.interp(time=new_time,latitude=new_lat, longitude=new_lon, method=\"linear\")\n",
    "    vgos = duacs.vgos.interp(time=new_time,latitude=new_lat, longitude=new_lon, method=\"linear\")\n",
    "    vgosa = duacs.vgosa.interp(time=new_time,latitude=new_lat, longitude=new_lon, method=\"linear\")\n",
    "    dsi = xr.Dataset({'ugos': ugos, 'ugosa': ugosa, 'vgos': vgos, 'vgosa': vgosa})\n",
    "    dsi.to_netcdf(fout)"
   ]
  },
  {
   "cell_type": "code",
   "execution_count": null,
   "id": "e5ca7765-0be5-4de9-bbfa-5df741e84a61",
   "metadata": {},
   "outputs": [],
   "source": [
    "dsi"
   ]
  },
  {
   "cell_type": "code",
   "execution_count": null,
   "id": "edc3dace-a05f-4079-ae6e-e4c6682bf1f9",
   "metadata": {},
   "outputs": [],
   "source": [
    "plt.figure()\n",
    "plt.plot(dsfoo.time, dsfoo.ugos)\n",
    "fig=plt.gcf()\n",
    "fig.autofmt_xdate()"
   ]
  },
  {
   "cell_type": "code",
   "execution_count": null,
   "id": "13eef04f-5680-479c-b033-ea0c8c584db6",
   "metadata": {},
   "outputs": [],
   "source": [
    "plt.figure()\n",
    "plt.plot(dsfoo.longitude, dsfoo.latitude,'o')\n"
   ]
  },
  {
   "cell_type": "code",
   "execution_count": null,
   "id": "ae8c0a77-6956-44c9-81cc-8c70d5c3c363",
   "metadata": {},
   "outputs": [],
   "source": []
  }
 ],
 "metadata": {
  "kernelspec": {
   "display_name": "Python 3 (ipykernel)",
   "language": "python",
   "name": "python3"
  },
  "language_info": {
   "codemirror_mode": {
    "name": "ipython",
    "version": 3
   },
   "file_extension": ".py",
   "mimetype": "text/x-python",
   "name": "python",
   "nbconvert_exporter": "python",
   "pygments_lexer": "ipython3",
   "version": "3.9.7"
  }
 },
 "nbformat": 4,
 "nbformat_minor": 5
}
