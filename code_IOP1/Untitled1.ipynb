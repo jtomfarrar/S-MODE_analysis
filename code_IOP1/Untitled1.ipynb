{
 "cells": [
  {
   "cell_type": "markdown",
   "id": "95a02b86-f254-491a-9758-0c3c29f90dc1",
   "metadata": {},
   "source": [
    "Try accessing and using NOAA/NESDIS Geo_Polar_Blended_Night-OSPO-L4-GLOB-v1.0\n",
    "\n",
    "<div class=\"alert alert-block alert-info\">\n",
    "Analysed blended sea surface temperature over the global ocean using night only input data\n",
    "summary: An SST estimation scheme which combines multi-satellite retrievals of sea surface temperature datasets available from polar orbiters, geostationary IR and microwave sensors into a single global analysis. This global SST ananlysis provide a daily gap free map of the foundation sea surface temperature at 0.05o spatial resolution.\n",
    "references: Fieguth,P.W. et al. \"Mapping Mediterranean altimeter data with a multiresolution optimal interpolation algorithm\", J. Atmos. Ocean Tech, 15 (2): 535-546, 1998.     Fieguth, P. Multiply-Rooted Multiscale Models for Large-Scale Estimation, IEEE Image Processing, 10(11), 1676-1686, 2001.     Khellah, F., P.W. Fieguth, M.J. Murray and M.R. Allen, \"Statistical Processing of Large Image Sequences\", IEEE Transactions on Geoscience and Remote Sensing, 12 (1), 80-93, 2005.\n",
    "institution: Office of Satellite Products and Operations\n",
    "comment: The Geo-Polar Blended Sea Surface Temperature (SST) Analysis combines multi-satellite retrievals of sea surface temperature into a single analysis of SST. This analysis includes only nighttime data.\n",
    "license: GHRSST protocol describes data use as free and open\n",
    "id: Geo_Polar_Blended_Night-OSPO-L4-GLOB-v1.0\n",
    "naming_authority: org.ghrsst\n",
    "product_version: 1.0\n",
    "uuid: dbe5768e-8d8c-4122-b80d-8f1d1c7fb1df\n",
    "gds_version_id: 2.0\n",
    "netcdf_version_id: 4.3.3.1\n",
    "date_created: 20221004T113407Z\n",
    "start_time: 20221003T000000Z\n",
    "time_coverage_start: 20221003T000000Z\n",
    "stop_time: 20221004T000000Z\n",
    "time_coverage_end: 20221004T000000Z\n",
    "file_quality_level: 0.0\n",
    "source: OSPO-ACSPO_VIIRS, OSPO-ACSPO_METOPB_FRAC, OSPO-GOES16_SST_L3, OSPO-GOES15_SST_L3, OSPO-METEOSAT11_SST_L3, OSPO-HIMA8_SST_L3\n",
    "platform: Suomi NPP, MetOp-B, GOESE (GOES-16), GOESW (GOES-15), Meteosat-11, Meteosat-08, Himawari-8\n",
    "sensor: VIIRS, AVHRR, ABI, Imager, SEVIRI, SEVIRI, AHI\n",
    "Metadata_Conventions: Unidata Observation Dataset v1.0\n",
    "metadata_link: http://podaac.jpl.nasa.gov:8890/ws/metadata/dataset?format=iso&shortName=Geo_Polar_Blended_Night-OSPO-L4-GLOB-v1.0\n",
    "keywords: Oceans > Ocean Temperature > Sea Surface Temperature\n",
    "keywords_vocabulary: NASA Global Change Master Directory (GCMD) Science Keywords\n",
    "standard_name_vocabulary: NetCDF Climate and Forecast (CF) Metadata Convetion\n",
    "southernmost_latitude: -90.0\n",
    "northernmost_latitude: 90.0\n",
    "spatial_resolution: 0.05 degree\n",
    "geospatial_lat_units: degrees north\n",
    "geospatial_lat_resolution: 0.05\n",
    "geospatial_lon_units: degrees east\n",
    "geospatial_lon_resolution: 0.05\n",
    "acknowledgment: NOAA/NESDIS\n",
    "creator_name: Office of Satellite Products and Operations\n",
    "creator_email: john.sapper@noaa.gov\n",
    "creator_url: www.osdpd.nesdis.noaa.gov\n",
    "project: Group for High Resolution Sea Surface Temperature\n",
    "publisher_name: The GHRSST Project Office\n",
    "publisher_url: http://www.ghrsst.org\n",
    "publisher_email: ghrsst-po@nceo.ac.uk\n",
    "processing_level: L4\n",
    "cdm_data_type: grid\n",
    "nco_openmp_thread_number: 1\n",
    "westernmost_longitude: 0.0\n",
    "easternmost_longitude: 360.0\n",
    "history: Tue Oct  4 02:05:26 2022: ncatted -O -a easternmost_longitude,global,o,f,360.0 20221003000000-OSPO-L4_GHRSST-SSTfnd-Geo_Polar_Blended_Night-GLOB-v02.0-fv01.0-0-360.nc\n",
    "Tue Oct  4 02:05:26 2022: ncatted -O -a westernmost_longitude,global,o,f,0.0 20221003000000-OSPO-L4_GHRSST-SSTfnd-Geo_Polar_Blended_Night-GLOB-v02.0-fv01.0-0-360.nc\n",
    "Tue Oct  4 02:05:26 2022: ncatted -O -a valid_max,lon,o,f,360.0 20221003000000-OSPO-L4_GHRSST-SSTfnd-Geo_Polar_Blended_Night-GLOB-v02.0-fv01.0-0-360.nc\n",
    "Tue Oct  4 02:05:26 2022: ncatted -O -a valid_min,lon,o,f,0.0 20221003000000-OSPO-L4_GHRSST-SSTfnd-Geo_Polar_Blended_Night-GLOB-v02.0-fv01.0-0-360.nc\n",
    "Tue Oct  4 02:05:17 2022: ncap2 -O -s where(lon<0) lon=lon+360 20221003000000-OSPO-L4_GHRSST-SSTfnd-Geo_Polar_Blended_Night-GLOB-v02.0-fv01.0-0-360.nc 20221003000000-OSPO-L4_GHRSST-SSTfnd-Geo_Polar_Blended_Night-GLOB-v02.0-fv01.0-0-360.nc\n",
    "Tue Oct  4 02:05:09 2022: ncks -O --msa_usr_rdr -d lon,0.0,180.0 -d lon,-180.0,0.0 20221003000000-OSPO-L4_GHRSST-SSTfnd-Geo_Polar_Blended_Night-GLOB-v02.0-fv01.0.nc 20221003000000-OSPO-L4_GHRSST-SSTfnd-Geo_Polar_Blended_Night-GLOB-v02.0-fv01.0-0-360.nc\n",
    "NESDIS geo-SST L1 to L2 processor, NESDIS Advanced Clear-Sky Processor for Oceans (ACSPO), NESDIS Geo-Polar 1/20th degree Blended SST Analysis\n",
    "NCO: netCDF Operators version 4.7.5 (Homepage = http://nco.sf.net, Code = http://github.com/nco/nco)\n",
    "</div>                                                  \n",
    "\n",
    "https://oceanwatch.pifsc.noaa.gov/thredds/dodsC/goes-poes-RAN/daily.html\n",
    "\n"
   ]
  },
  {
   "cell_type": "code",
   "execution_count": 1,
   "id": "959c8491-907c-4ffc-848d-a720243949fd",
   "metadata": {},
   "outputs": [],
   "source": [
    "import xarray as xr\n",
    "import numpy as np\n",
    "import matplotlib.pyplot as plt\n",
    "import matplotlib\n",
    "import cftime\n",
    "\n",
    "import functions  # requires functions.py from this directory\n",
    "import cartopy.crs as ccrs                   # import projections\n",
    "import cartopy\n",
    "import gsw\n",
    "\n",
    "# For great circle distance between two points, use gsw.geostrophy.distance(lon, lat, p=0, axis=-1)"
   ]
  },
  {
   "cell_type": "code",
   "execution_count": 2,
   "id": "6f9ad579-1177-45b2-aa0e-79d5ddd32c1a",
   "metadata": {},
   "outputs": [],
   "source": [
    "# %matplotlib inline\n",
    "%matplotlib qt5\n",
    "plt.rcParams['figure.figsize'] = (5,4)\n",
    "plt.rcParams['figure.dpi'] = 200\n",
    "plt.rcParams['savefig.dpi'] = 400\n",
    "plt.close('all')\n",
    "\n",
    "__figdir__ = '../plots/' + 'SMODE_'\n",
    "savefig_args = {'bbox_inches':'tight', 'pad_inches':0.2}\n",
    "plotfiletype='png'"
   ]
  },
  {
   "cell_type": "code",
   "execution_count": 3,
   "id": "d25db1a2-fcf3-458f-9f63-4c1adb4cb5fb",
   "metadata": {},
   "outputs": [],
   "source": [
    "savefig = True\n",
    "zoom = False\n",
    "if zoom:\n",
    "    xmin, xmax = (-126,-122)\n",
    "    ymin, ymax = (36,39)\n",
    "else:\n",
    "    xmin, xmax = (-127,-121)\n",
    "    ymin, ymax = (35, 40)\n"
   ]
  },
  {
   "cell_type": "code",
   "execution_count": 4,
   "id": "a0a45059-ec9d-44a7-a818-cdff693c8197",
   "metadata": {},
   "outputs": [
    {
     "data": {
      "text/plain": [
       "\"\\nurl = 'https://oceanwatch.pifsc.noaa.gov/thredds/dodsC/goes-poes-RAN/monthly/'\\nurl = 'https://oceanwatch.pifsc.noaa.gov/thredds/dodsC/qscat/3day/'\\nurl = 'https://www.star.nesdis.noaa.gov/thredds/dodsC/BlendedSST5kmNightAggGHRSSTOSPO2022#mode=bytes'\\nds = xr.open_mfdataset(url)\\n\""
      ]
     },
     "execution_count": 4,
     "metadata": {},
     "output_type": "execute_result"
    }
   ],
   "source": [
    "# I don't know why this doesn't work:\n",
    "'''\n",
    "url = 'https://oceanwatch.pifsc.noaa.gov/thredds/dodsC/goes-poes-RAN/monthly/'\n",
    "url = 'https://oceanwatch.pifsc.noaa.gov/thredds/dodsC/qscat/3day/'\n",
    "url = 'https://www.star.nesdis.noaa.gov/thredds/dodsC/BlendedSST5kmNightAggGHRSSTOSPO2022#mode=bytes'\n",
    "ds = xr.open_mfdataset(url)\n",
    "'''"
   ]
  },
  {
   "cell_type": "markdown",
   "id": "c9572875-19b4-42c3-9307-a8c101540885",
   "metadata": {},
   "source": [
    "The above data sets, or more likely, the way I'm trying to read them, don't work.\n",
    "\n",
    "I'm using a different data set below:\n",
    "https://coastwatch.noaa.gov/cw/satellite-data-products/sea-surface-temperature/sea-surface-temperature-near-real-time-geopolar-blended.html\n"
   ]
  },
  {
   "cell_type": "code",
   "execution_count": 7,
   "id": "2e39bb27-cec4-46cd-bb4a-75cbb6b24b59",
   "metadata": {},
   "outputs": [],
   "source": [
    "url = 'https://www.star.nesdis.noaa.gov/thredds/fileServer/Blended/SST5km/Night/GHRSSTOSPO/2022/20220101000000-OSPO-L4_GHRSST-SSTfnd-Geo_Polar_Blended_Night-GLOB-v02.0-fv01.0.nc#mode=bytes'\n",
    "sst = xr.open_dataset(url)"
   ]
  },
  {
   "cell_type": "code",
   "execution_count": null,
   "id": "45bdcdba-740c-4468-a889-c33942419e1b",
   "metadata": {},
   "outputs": [],
   "source": [
    "sst"
   ]
  },
  {
   "cell_type": "code",
   "execution_count": null,
   "id": "b08d0ce3-289e-4245-a86b-7f3ffa32ff50",
   "metadata": {},
   "outputs": [],
   "source": [
    "#from matplotlib.patheffects import Stroke\n",
    "import copy\n",
    "#import cartopy.crs as ccrs                   # import projections\n",
    "#import cartopy\n",
    "#import datetime\n",
    "#import shapely.geometry\n",
    "\n",
    "\n",
    "V=[10,20]\n",
    "zoom = 0"
   ]
  },
  {
   "cell_type": "code",
   "execution_count": null,
   "id": "3c5e8b70-306f-4e47-81a6-893d6b56f217",
   "metadata": {},
   "outputs": [],
   "source": [
    "if zoom == 0: #wide view of S-MODE ops area and San Francisco\n",
    "    xmin, xmax = (-126,-121)\n",
    "    ymin, ymax = (36, 39)\n",
    "    zoom_str='_wide'\n",
    "elif zoom == 1: #centered on S-MODE ops area, but shows San Francisco\n",
    "    xmin, xmax = (-126.0,-122.0)\n",
    "    ymin, ymax = (36.0, 39.0)\n",
    "    zoom_str='_zoom1'\n",
    "elif zoom == 2: #tight on S-MODE ops area\n",
    "    xmin, xmax = (-125.5,-123)\n",
    "    ymin, ymax = (36.5,38)\n",
    "    zoom_str='_zoom2'\n",
    "elif zoom == 3: #zoom on eastern part of ops area\n",
    "    xmin, xmax = (-124.75,-122.5)\n",
    "    ymin, ymax = (36.3,38)\n",
    "    zoom_str='zoom3'\n",
    "elif zoom == 4: #not yet determined\n",
    "    xmin, xmax = (-126,-122)\n",
    "    ymin, ymax = (36, 39)\n",
    "    zoom_str='_zoom4'\n",
    "    \n",
    "#Set color scale range (define V with input file)\n",
    "levels = np.linspace(V[0],V[1],21)\n",
    "\n",
    "\n",
    "plt.figure()\n",
    "ax = plt.axes(projection = ccrs.PlateCarree(central_longitude=200))  # Orthographic\n",
    "extent = [xmin, xmax, ymin, ymax]\n",
    "ax.set_extent(extent, crs=ccrs.PlateCarree())\n",
    "day_str=sst.time.dt.strftime(\"%Y-%m-%d %H:%M\").values[0]\n",
    "day_str2=sst.time.dt.strftime(\"%Y-%m-%d\").values[0]\n",
    "#plt.set_cmap(cmap=plt.get_cmap('nipy_spectral'))\n",
    "plt.set_cmap(cmap=plt.get_cmap('turbo'))\n",
    "cmap = copy.copy(matplotlib.cm.get_cmap(\"turbo\"))\n",
    "cmap.set_bad(color='white')\n",
    "gl = ax.gridlines(draw_labels=True, dms=True, x_inline=False, y_inline=False, alpha=0.5, linestyle='--')\n",
    "gl.top_labels = False\n",
    "gl.right_labels = False\n",
    "\n",
    "ax.coastlines()\n",
    "ax.add_feature(cartopy.feature.LAND, zorder=3, facecolor=[.6,.6,.6], edgecolor='black')\n",
    "arr = np.ma.array(sst.analysed_sst)\n",
    "cs = ax.pcolormesh(sst.lon,sst.lat,np.squeeze(arr)-273.15, vmin=levels[0], vmax=levels[-1], transform=ccrs.PlateCarree())\n",
    "cb = plt.colorbar(cs,fraction = 0.022,extend='both')\n",
    "cb.set_label('SST [$\\circ$C]',fontsize = 10)\n",
    "#plot_ops_area(ax,transform=ccrs.PlateCarree(),color='k')\n",
    "# plot_IOP1_ops_area(ax,transform=ccrs.PlateCarree(),color='k')"
   ]
  },
  {
   "cell_type": "code",
   "execution_count": null,
   "id": "ae1467b7-51c3-4771-9758-46b7a0640395",
   "metadata": {},
   "outputs": [],
   "source": [
    "levels"
   ]
  },
  {
   "cell_type": "code",
   "execution_count": null,
   "id": "2782d47c-8c6e-486e-baf8-f9e6930c250e",
   "metadata": {},
   "outputs": [],
   "source": []
  }
 ],
 "metadata": {
  "kernelspec": {
   "display_name": "Python 3 (ipykernel)",
   "language": "python",
   "name": "python3"
  },
  "language_info": {
   "codemirror_mode": {
    "name": "ipython",
    "version": 3
   },
   "file_extension": ".py",
   "mimetype": "text/x-python",
   "name": "python",
   "nbconvert_exporter": "python",
   "pygments_lexer": "ipython3",
   "version": "3.9.7"
  }
 },
 "nbformat": 4,
 "nbformat_minor": 5
}
