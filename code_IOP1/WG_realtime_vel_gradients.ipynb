{
 "cells": [
  {
   "cell_type": "markdown",
   "metadata": {},
   "source": [
    "## Preliminary gradient calculations with near-real-time Wave Glider ADCP data"
   ]
  },
  {
   "cell_type": "markdown",
   "metadata": {},
   "source": [
    "* load cleaned up ADCP files from ./S-MODE_analysis/code_IOP1/WG_realtime_velocity.ipynb\n",
    "\n",
    "first cut for IOP1 by Tom, 10/20/2022  "
   ]
  },
  {
   "cell_type": "code",
   "execution_count": 1,
   "metadata": {},
   "outputs": [],
   "source": [
    "import xarray as xr\n",
    "import numpy as np\n",
    "import matplotlib.pyplot as plt\n",
    "import matplotlib\n",
    "import cftime\n",
    "import requests\n",
    "import cartopy.crs as ccrs                   # import projections\n",
    "import cartopy\n",
    "import gsw\n",
    "import functions  # requires functions.py from this directory\n",
    "from scipy.stats import binned_statistic_2d"
   ]
  },
  {
   "cell_type": "code",
   "execution_count": 2,
   "metadata": {},
   "outputs": [],
   "source": [
    "plt.close('all')"
   ]
  },
  {
   "cell_type": "code",
   "execution_count": 3,
   "metadata": {
    "tags": []
   },
   "outputs": [],
   "source": [
    "# %matplotlib inline\n",
    "%matplotlib qt5\n",
    "plt.rcParams['figure.figsize'] = (7,4)\n",
    "plt.rcParams['figure.dpi'] = 150\n",
    "plt.rcParams['savefig.dpi'] = 400\n",
    "\n",
    "__figdir__ = '../plots/vel_fits/' \n",
    "savefig_args = {'bbox_inches':'tight', 'pad_inches':0.2}\n",
    "plotfiletype='png'"
   ]
  },
  {
   "cell_type": "code",
   "execution_count": 4,
   "metadata": {
    "tags": []
   },
   "outputs": [],
   "source": [
    "savefig = False\n",
    "zoom = True\n",
    "if zoom:\n",
    "    xmin, xmax = (-127,-121)\n",
    "    ymin, ymax = (36.25,38.5)\n",
    "    levels = np.linspace(14,17,21)-2.5\n",
    "else:\n",
    "    xmin, xmax = (-127,-121)\n",
    "    ymin, ymax = (35, 41)\n",
    "    levels = np.linspace(13,18,11)"
   ]
  },
  {
   "cell_type": "code",
   "execution_count": 5,
   "metadata": {},
   "outputs": [],
   "source": [
    "# List of WGs\n",
    "WG_list = ['WHOI32','WHOI43','STOKES', 'PLANCK', 'PASCAL', 'CARSON'] #leave Kelvin out because of ADCP problem in IOP1\n",
    "path='../data/raw/WG_NRT/'"
   ]
  },
  {
   "cell_type": "code",
   "execution_count": 6,
   "metadata": {},
   "outputs": [],
   "source": [
    "# Make a list of the files:\n",
    "n=0\n",
    "file_list = []\n",
    "for WG in WG_list:\n",
    "    file = path+'adcp_'+WG+'.nc'\n",
    "    file_list.append(file)"
   ]
  },
  {
   "cell_type": "code",
   "execution_count": 7,
   "metadata": {},
   "outputs": [
    {
     "data": {
      "text/plain": [
       "['../data/raw/WG_NRT/adcp_WHOI32.nc',\n",
       " '../data/raw/WG_NRT/adcp_WHOI43.nc',\n",
       " '../data/raw/WG_NRT/adcp_STOKES.nc',\n",
       " '../data/raw/WG_NRT/adcp_PLANCK.nc',\n",
       " '../data/raw/WG_NRT/adcp_PASCAL.nc',\n",
       " '../data/raw/WG_NRT/adcp_CARSON.nc']"
      ]
     },
     "execution_count": 7,
     "metadata": {},
     "output_type": "execute_result"
    }
   ],
   "source": [
    "file_list"
   ]
  },
  {
   "cell_type": "code",
   "execution_count": 8,
   "metadata": {},
   "outputs": [
    {
     "name": "stdout",
     "output_type": "stream",
     "text": [
      "../data/raw/WG_NRT/adcp_WHOI32.nc\n",
      "../data/raw/WG_NRT/adcp_WHOI43.nc\n",
      "../data/raw/WG_NRT/adcp_STOKES.nc\n",
      "../data/raw/WG_NRT/adcp_PLANCK.nc\n",
      "../data/raw/WG_NRT/adcp_PASCAL.nc\n",
      "../data/raw/WG_NRT/adcp_CARSON.nc\n"
     ]
    }
   ],
   "source": [
    "# Read in cleaned ADCP files from all WG\n",
    "n=0\n",
    "for WG in WG_list:\n",
    "    file = file_list[n]\n",
    "    varstr = 'adcp_'+WG\n",
    "    locals()[varstr]=xr.open_dataset(file,decode_times=True) #Time and z already fixed in WG_realtime_cleanup.ipynb\n",
    "    n=n+1\n",
    "    print(file)"
   ]
  },
  {
   "cell_type": "code",
   "execution_count": 9,
   "metadata": {
    "tags": []
   },
   "outputs": [],
   "source": [
    "# Now we can access these in a loop using syntax like:\n",
    "# eval('adcp_'+WG_list[7])"
   ]
  },
  {
   "cell_type": "code",
   "execution_count": 10,
   "metadata": {},
   "outputs": [
    {
     "data": {
      "text/html": [
       "<div><svg style=\"position: absolute; width: 0; height: 0; overflow: hidden\">\n",
       "<defs>\n",
       "<symbol id=\"icon-database\" viewBox=\"0 0 32 32\">\n",
       "<path d=\"M16 0c-8.837 0-16 2.239-16 5v4c0 2.761 7.163 5 16 5s16-2.239 16-5v-4c0-2.761-7.163-5-16-5z\"></path>\n",
       "<path d=\"M16 17c-8.837 0-16-2.239-16-5v6c0 2.761 7.163 5 16 5s16-2.239 16-5v-6c0 2.761-7.163 5-16 5z\"></path>\n",
       "<path d=\"M16 26c-8.837 0-16-2.239-16-5v6c0 2.761 7.163 5 16 5s16-2.239 16-5v-6c0 2.761-7.163 5-16 5z\"></path>\n",
       "</symbol>\n",
       "<symbol id=\"icon-file-text2\" viewBox=\"0 0 32 32\">\n",
       "<path d=\"M28.681 7.159c-0.694-0.947-1.662-2.053-2.724-3.116s-2.169-2.030-3.116-2.724c-1.612-1.182-2.393-1.319-2.841-1.319h-15.5c-1.378 0-2.5 1.121-2.5 2.5v27c0 1.378 1.122 2.5 2.5 2.5h23c1.378 0 2.5-1.122 2.5-2.5v-19.5c0-0.448-0.137-1.23-1.319-2.841zM24.543 5.457c0.959 0.959 1.712 1.825 2.268 2.543h-4.811v-4.811c0.718 0.556 1.584 1.309 2.543 2.268zM28 29.5c0 0.271-0.229 0.5-0.5 0.5h-23c-0.271 0-0.5-0.229-0.5-0.5v-27c0-0.271 0.229-0.5 0.5-0.5 0 0 15.499-0 15.5 0v7c0 0.552 0.448 1 1 1h7v19.5z\"></path>\n",
       "<path d=\"M23 26h-14c-0.552 0-1-0.448-1-1s0.448-1 1-1h14c0.552 0 1 0.448 1 1s-0.448 1-1 1z\"></path>\n",
       "<path d=\"M23 22h-14c-0.552 0-1-0.448-1-1s0.448-1 1-1h14c0.552 0 1 0.448 1 1s-0.448 1-1 1z\"></path>\n",
       "<path d=\"M23 18h-14c-0.552 0-1-0.448-1-1s0.448-1 1-1h14c0.552 0 1 0.448 1 1s-0.448 1-1 1z\"></path>\n",
       "</symbol>\n",
       "</defs>\n",
       "</svg>\n",
       "<style>/* CSS stylesheet for displaying xarray objects in jupyterlab.\n",
       " *\n",
       " */\n",
       "\n",
       ":root {\n",
       "  --xr-font-color0: var(--jp-content-font-color0, rgba(0, 0, 0, 1));\n",
       "  --xr-font-color2: var(--jp-content-font-color2, rgba(0, 0, 0, 0.54));\n",
       "  --xr-font-color3: var(--jp-content-font-color3, rgba(0, 0, 0, 0.38));\n",
       "  --xr-border-color: var(--jp-border-color2, #e0e0e0);\n",
       "  --xr-disabled-color: var(--jp-layout-color3, #bdbdbd);\n",
       "  --xr-background-color: var(--jp-layout-color0, white);\n",
       "  --xr-background-color-row-even: var(--jp-layout-color1, white);\n",
       "  --xr-background-color-row-odd: var(--jp-layout-color2, #eeeeee);\n",
       "}\n",
       "\n",
       "html[theme=dark],\n",
       "body.vscode-dark {\n",
       "  --xr-font-color0: rgba(255, 255, 255, 1);\n",
       "  --xr-font-color2: rgba(255, 255, 255, 0.54);\n",
       "  --xr-font-color3: rgba(255, 255, 255, 0.38);\n",
       "  --xr-border-color: #1F1F1F;\n",
       "  --xr-disabled-color: #515151;\n",
       "  --xr-background-color: #111111;\n",
       "  --xr-background-color-row-even: #111111;\n",
       "  --xr-background-color-row-odd: #313131;\n",
       "}\n",
       "\n",
       ".xr-wrap {\n",
       "  display: block;\n",
       "  min-width: 300px;\n",
       "  max-width: 700px;\n",
       "}\n",
       "\n",
       ".xr-text-repr-fallback {\n",
       "  /* fallback to plain text repr when CSS is not injected (untrusted notebook) */\n",
       "  display: none;\n",
       "}\n",
       "\n",
       ".xr-header {\n",
       "  padding-top: 6px;\n",
       "  padding-bottom: 6px;\n",
       "  margin-bottom: 4px;\n",
       "  border-bottom: solid 1px var(--xr-border-color);\n",
       "}\n",
       "\n",
       ".xr-header > div,\n",
       ".xr-header > ul {\n",
       "  display: inline;\n",
       "  margin-top: 0;\n",
       "  margin-bottom: 0;\n",
       "}\n",
       "\n",
       ".xr-obj-type,\n",
       ".xr-array-name {\n",
       "  margin-left: 2px;\n",
       "  margin-right: 10px;\n",
       "}\n",
       "\n",
       ".xr-obj-type {\n",
       "  color: var(--xr-font-color2);\n",
       "}\n",
       "\n",
       ".xr-sections {\n",
       "  padding-left: 0 !important;\n",
       "  display: grid;\n",
       "  grid-template-columns: 150px auto auto 1fr 20px 20px;\n",
       "}\n",
       "\n",
       ".xr-section-item {\n",
       "  display: contents;\n",
       "}\n",
       "\n",
       ".xr-section-item input {\n",
       "  display: none;\n",
       "}\n",
       "\n",
       ".xr-section-item input + label {\n",
       "  color: var(--xr-disabled-color);\n",
       "}\n",
       "\n",
       ".xr-section-item input:enabled + label {\n",
       "  cursor: pointer;\n",
       "  color: var(--xr-font-color2);\n",
       "}\n",
       "\n",
       ".xr-section-item input:enabled + label:hover {\n",
       "  color: var(--xr-font-color0);\n",
       "}\n",
       "\n",
       ".xr-section-summary {\n",
       "  grid-column: 1;\n",
       "  color: var(--xr-font-color2);\n",
       "  font-weight: 500;\n",
       "}\n",
       "\n",
       ".xr-section-summary > span {\n",
       "  display: inline-block;\n",
       "  padding-left: 0.5em;\n",
       "}\n",
       "\n",
       ".xr-section-summary-in:disabled + label {\n",
       "  color: var(--xr-font-color2);\n",
       "}\n",
       "\n",
       ".xr-section-summary-in + label:before {\n",
       "  display: inline-block;\n",
       "  content: '►';\n",
       "  font-size: 11px;\n",
       "  width: 15px;\n",
       "  text-align: center;\n",
       "}\n",
       "\n",
       ".xr-section-summary-in:disabled + label:before {\n",
       "  color: var(--xr-disabled-color);\n",
       "}\n",
       "\n",
       ".xr-section-summary-in:checked + label:before {\n",
       "  content: '▼';\n",
       "}\n",
       "\n",
       ".xr-section-summary-in:checked + label > span {\n",
       "  display: none;\n",
       "}\n",
       "\n",
       ".xr-section-summary,\n",
       ".xr-section-inline-details {\n",
       "  padding-top: 4px;\n",
       "  padding-bottom: 4px;\n",
       "}\n",
       "\n",
       ".xr-section-inline-details {\n",
       "  grid-column: 2 / -1;\n",
       "}\n",
       "\n",
       ".xr-section-details {\n",
       "  display: none;\n",
       "  grid-column: 1 / -1;\n",
       "  margin-bottom: 5px;\n",
       "}\n",
       "\n",
       ".xr-section-summary-in:checked ~ .xr-section-details {\n",
       "  display: contents;\n",
       "}\n",
       "\n",
       ".xr-array-wrap {\n",
       "  grid-column: 1 / -1;\n",
       "  display: grid;\n",
       "  grid-template-columns: 20px auto;\n",
       "}\n",
       "\n",
       ".xr-array-wrap > label {\n",
       "  grid-column: 1;\n",
       "  vertical-align: top;\n",
       "}\n",
       "\n",
       ".xr-preview {\n",
       "  color: var(--xr-font-color3);\n",
       "}\n",
       "\n",
       ".xr-array-preview,\n",
       ".xr-array-data {\n",
       "  padding: 0 5px !important;\n",
       "  grid-column: 2;\n",
       "}\n",
       "\n",
       ".xr-array-data,\n",
       ".xr-array-in:checked ~ .xr-array-preview {\n",
       "  display: none;\n",
       "}\n",
       "\n",
       ".xr-array-in:checked ~ .xr-array-data,\n",
       ".xr-array-preview {\n",
       "  display: inline-block;\n",
       "}\n",
       "\n",
       ".xr-dim-list {\n",
       "  display: inline-block !important;\n",
       "  list-style: none;\n",
       "  padding: 0 !important;\n",
       "  margin: 0;\n",
       "}\n",
       "\n",
       ".xr-dim-list li {\n",
       "  display: inline-block;\n",
       "  padding: 0;\n",
       "  margin: 0;\n",
       "}\n",
       "\n",
       ".xr-dim-list:before {\n",
       "  content: '(';\n",
       "}\n",
       "\n",
       ".xr-dim-list:after {\n",
       "  content: ')';\n",
       "}\n",
       "\n",
       ".xr-dim-list li:not(:last-child):after {\n",
       "  content: ',';\n",
       "  padding-right: 5px;\n",
       "}\n",
       "\n",
       ".xr-has-index {\n",
       "  font-weight: bold;\n",
       "}\n",
       "\n",
       ".xr-var-list,\n",
       ".xr-var-item {\n",
       "  display: contents;\n",
       "}\n",
       "\n",
       ".xr-var-item > div,\n",
       ".xr-var-item label,\n",
       ".xr-var-item > .xr-var-name span {\n",
       "  background-color: var(--xr-background-color-row-even);\n",
       "  margin-bottom: 0;\n",
       "}\n",
       "\n",
       ".xr-var-item > .xr-var-name:hover span {\n",
       "  padding-right: 5px;\n",
       "}\n",
       "\n",
       ".xr-var-list > li:nth-child(odd) > div,\n",
       ".xr-var-list > li:nth-child(odd) > label,\n",
       ".xr-var-list > li:nth-child(odd) > .xr-var-name span {\n",
       "  background-color: var(--xr-background-color-row-odd);\n",
       "}\n",
       "\n",
       ".xr-var-name {\n",
       "  grid-column: 1;\n",
       "}\n",
       "\n",
       ".xr-var-dims {\n",
       "  grid-column: 2;\n",
       "}\n",
       "\n",
       ".xr-var-dtype {\n",
       "  grid-column: 3;\n",
       "  text-align: right;\n",
       "  color: var(--xr-font-color2);\n",
       "}\n",
       "\n",
       ".xr-var-preview {\n",
       "  grid-column: 4;\n",
       "}\n",
       "\n",
       ".xr-var-name,\n",
       ".xr-var-dims,\n",
       ".xr-var-dtype,\n",
       ".xr-preview,\n",
       ".xr-attrs dt {\n",
       "  white-space: nowrap;\n",
       "  overflow: hidden;\n",
       "  text-overflow: ellipsis;\n",
       "  padding-right: 10px;\n",
       "}\n",
       "\n",
       ".xr-var-name:hover,\n",
       ".xr-var-dims:hover,\n",
       ".xr-var-dtype:hover,\n",
       ".xr-attrs dt:hover {\n",
       "  overflow: visible;\n",
       "  width: auto;\n",
       "  z-index: 1;\n",
       "}\n",
       "\n",
       ".xr-var-attrs,\n",
       ".xr-var-data {\n",
       "  display: none;\n",
       "  background-color: var(--xr-background-color) !important;\n",
       "  padding-bottom: 5px !important;\n",
       "}\n",
       "\n",
       ".xr-var-attrs-in:checked ~ .xr-var-attrs,\n",
       ".xr-var-data-in:checked ~ .xr-var-data {\n",
       "  display: block;\n",
       "}\n",
       "\n",
       ".xr-var-data > table {\n",
       "  float: right;\n",
       "}\n",
       "\n",
       ".xr-var-name span,\n",
       ".xr-var-data,\n",
       ".xr-attrs {\n",
       "  padding-left: 25px !important;\n",
       "}\n",
       "\n",
       ".xr-attrs,\n",
       ".xr-var-attrs,\n",
       ".xr-var-data {\n",
       "  grid-column: 1 / -1;\n",
       "}\n",
       "\n",
       "dl.xr-attrs {\n",
       "  padding: 0;\n",
       "  margin: 0;\n",
       "  display: grid;\n",
       "  grid-template-columns: 125px auto;\n",
       "}\n",
       "\n",
       ".xr-attrs dt,\n",
       ".xr-attrs dd {\n",
       "  padding: 0;\n",
       "  margin: 0;\n",
       "  float: left;\n",
       "  padding-right: 10px;\n",
       "  width: auto;\n",
       "}\n",
       "\n",
       ".xr-attrs dt {\n",
       "  font-weight: normal;\n",
       "  grid-column: 1;\n",
       "}\n",
       "\n",
       ".xr-attrs dt:hover span {\n",
       "  display: inline-block;\n",
       "  background: var(--xr-background-color);\n",
       "  padding-right: 10px;\n",
       "}\n",
       "\n",
       ".xr-attrs dd {\n",
       "  grid-column: 2;\n",
       "  white-space: pre-wrap;\n",
       "  word-break: break-all;\n",
       "}\n",
       "\n",
       ".xr-icon-database,\n",
       ".xr-icon-file-text2 {\n",
       "  display: inline-block;\n",
       "  vertical-align: middle;\n",
       "  width: 1em;\n",
       "  height: 1.5em !important;\n",
       "  stroke-width: 0;\n",
       "  stroke: currentColor;\n",
       "  fill: currentColor;\n",
       "}\n",
       "</style><pre class='xr-text-repr-fallback'>&lt;xarray.Dataset&gt;\n",
       "Dimensions:               (time: 1760, z: 50)\n",
       "Coordinates:\n",
       "  * time                  (time) datetime64[ns] 2022-09-21T04:01:04 ... 2022-...\n",
       "Dimensions without coordinates: z\n",
       "Data variables: (12/16)\n",
       "    year                  (time) float32 2.022e+03 2.022e+03 ... 2.022e+03\n",
       "    day                   (time) float32 264.0 264.0 264.0 ... 299.0 299.0 299.0\n",
       "    hour                  (time) float32 0.0 0.0 0.0 0.0 ... 18.0 18.0 18.0 19.0\n",
       "    minute                (time) float32 2.0 17.0 32.0 47.0 ... 32.0 47.0 2.0\n",
       "    sec                   (time) float32 0.0 0.0 0.0 0.0 0.0 ... 0.0 0.0 0.0 0.0\n",
       "    RECORD                (time) float32 96.0 97.0 98.0 ... 1.994e+03 1.995e+03\n",
       "    ...                    ...\n",
       "    current_east          (z, time) float32 0.14 -0.092 0.103 ... 0.158 0.162\n",
       "    current_north         (z, time) float32 -0.098 0.22 -0.155 ... -0.008 0.037\n",
       "    z_matrix              (z, time) float32 -3.93 -3.93 -3.93 ... -101.9 -101.9\n",
       "    Longitude             (time) float64 -122.0 -122.0 -122.0 ... -124.4 -124.4\n",
       "    Latitude              (time) float64 36.97 36.97 36.97 ... 36.79 36.79 36.79\n",
       "    depth                 (z) float32 -3.93 -5.93 -7.93 ... -97.93 -99.93 -101.9\n",
       "Attributes:\n",
       "    Name:                 STOKES_PLD2_TAB2\n",
       "    wms_title:            STOKES_PLD2_TAB2\n",
       "    title:                S-MODE IOP1 2022 Waveglider STOKES real-time data -...\n",
       "    instrument:           Liquid Robotics SV3 Waveglider\n",
       "    sea_name:             Pacific\n",
       "    keywords:             Waveglider, S-MODE, Pacific Ocean, Temperature\n",
       "    time_coverage_start:  2022-09-21T00:02:00\n",
       "    time_coverage_end:    2022-10-26T19:02:00\n",
       "    history:              Wed Oct 26 15:48:27 2022: ncrename -v z,z_matrix .....\n",
       "    NCO:                  netCDF Operators version 4.9.1 (Homepage = http://n...</pre><div class='xr-wrap' hidden><div class='xr-header'><div class='xr-obj-type'>xarray.Dataset</div></div><ul class='xr-sections'><li class='xr-section-item'><input id='section-fb0695c6-a120-4b19-b65b-65b3c560a4ff' class='xr-section-summary-in' type='checkbox' disabled ><label for='section-fb0695c6-a120-4b19-b65b-65b3c560a4ff' class='xr-section-summary'  title='Expand/collapse section'>Dimensions:</label><div class='xr-section-inline-details'><ul class='xr-dim-list'><li><span class='xr-has-index'>time</span>: 1760</li><li><span>z</span>: 50</li></ul></div><div class='xr-section-details'></div></li><li class='xr-section-item'><input id='section-293ee00e-0c7e-487a-89a4-183c19933016' class='xr-section-summary-in' type='checkbox'  checked><label for='section-293ee00e-0c7e-487a-89a4-183c19933016' class='xr-section-summary' >Coordinates: <span>(1)</span></label><div class='xr-section-inline-details'></div><div class='xr-section-details'><ul class='xr-var-list'><li class='xr-var-item'><div class='xr-var-name'><span class='xr-has-index'>time</span></div><div class='xr-var-dims'>(time)</div><div class='xr-var-dtype'>datetime64[ns]</div><div class='xr-var-preview xr-preview'>2022-09-21T04:01:04 ... 2022-10-...</div><input id='attrs-3bfc6c52-d70d-463d-9af3-6490c7db3df5' class='xr-var-attrs-in' type='checkbox' ><label for='attrs-3bfc6c52-d70d-463d-9af3-6490c7db3df5' title='Show/Hide attributes'><svg class='icon xr-icon-file-text2'><use xlink:href='#icon-file-text2'></use></svg></label><input id='data-fd06becd-eb9a-4fc8-97d9-c6739aa20795' class='xr-var-data-in' type='checkbox'><label for='data-fd06becd-eb9a-4fc8-97d9-c6739aa20795' title='Show/Hide data repr'><svg class='icon xr-icon-database'><use xlink:href='#icon-database'></use></svg></label><div class='xr-var-attrs'><dl class='xr-attrs'><dt><span>axis :</span></dt><dd>T</dd><dt><span>long_name :</span></dt><dd>Time of waveglider measurement</dd><dt><span>standard_name :</span></dt><dd>time</dd></dl></div><div class='xr-var-data'><pre>array([&#x27;2022-09-21T04:01:04.000000000&#x27;, &#x27;2022-09-21T04:16:00.000000000&#x27;,\n",
       "       &#x27;2022-09-21T04:33:04.000000000&#x27;, ..., &#x27;2022-10-26T22:32:32.000000000&#x27;,\n",
       "       &#x27;2022-10-26T22:47:28.000000000&#x27;, &#x27;2022-10-26T23:02:24.000000000&#x27;],\n",
       "      dtype=&#x27;datetime64[ns]&#x27;)</pre></div></li></ul></div></li><li class='xr-section-item'><input id='section-acb0c155-1304-4994-b4a9-d6472b313470' class='xr-section-summary-in' type='checkbox'  ><label for='section-acb0c155-1304-4994-b4a9-d6472b313470' class='xr-section-summary' >Data variables: <span>(16)</span></label><div class='xr-section-inline-details'></div><div class='xr-section-details'><ul class='xr-var-list'><li class='xr-var-item'><div class='xr-var-name'><span>year</span></div><div class='xr-var-dims'>(time)</div><div class='xr-var-dtype'>float32</div><div class='xr-var-preview xr-preview'>...</div><input id='attrs-f68fcab2-eb47-4f05-afd3-5749b918f23b' class='xr-var-attrs-in' type='checkbox' ><label for='attrs-f68fcab2-eb47-4f05-afd3-5749b918f23b' title='Show/Hide attributes'><svg class='icon xr-icon-file-text2'><use xlink:href='#icon-file-text2'></use></svg></label><input id='data-5bb6ec75-f15a-4621-a405-2405e0efa715' class='xr-var-data-in' type='checkbox'><label for='data-5bb6ec75-f15a-4621-a405-2405e0efa715' title='Show/Hide data repr'><svg class='icon xr-icon-database'><use xlink:href='#icon-database'></use></svg></label><div class='xr-var-attrs'><dl class='xr-attrs'><dt><span>units :</span></dt><dd>none</dd></dl></div><div class='xr-var-data'><pre>array([2022., 2022., 2022., ..., 2022., 2022., 2022.], dtype=float32)</pre></div></li><li class='xr-var-item'><div class='xr-var-name'><span>day</span></div><div class='xr-var-dims'>(time)</div><div class='xr-var-dtype'>float32</div><div class='xr-var-preview xr-preview'>...</div><input id='attrs-99b22420-862f-4bea-87e2-1a9e3e78a99f' class='xr-var-attrs-in' type='checkbox' ><label for='attrs-99b22420-862f-4bea-87e2-1a9e3e78a99f' title='Show/Hide attributes'><svg class='icon xr-icon-file-text2'><use xlink:href='#icon-file-text2'></use></svg></label><input id='data-c0cd7afa-d794-45fa-ad8d-7073fcb06725' class='xr-var-data-in' type='checkbox'><label for='data-c0cd7afa-d794-45fa-ad8d-7073fcb06725' title='Show/Hide data repr'><svg class='icon xr-icon-database'><use xlink:href='#icon-database'></use></svg></label><div class='xr-var-attrs'><dl class='xr-attrs'><dt><span>units :</span></dt><dd>none</dd></dl></div><div class='xr-var-data'><pre>array([264., 264., 264., ..., 299., 299., 299.], dtype=float32)</pre></div></li><li class='xr-var-item'><div class='xr-var-name'><span>hour</span></div><div class='xr-var-dims'>(time)</div><div class='xr-var-dtype'>float32</div><div class='xr-var-preview xr-preview'>...</div><input id='attrs-283caadb-b861-41cd-818c-359c900fc814' class='xr-var-attrs-in' type='checkbox' ><label for='attrs-283caadb-b861-41cd-818c-359c900fc814' title='Show/Hide attributes'><svg class='icon xr-icon-file-text2'><use xlink:href='#icon-file-text2'></use></svg></label><input id='data-44645f73-c636-4c84-bd78-ff84bb2f35f9' class='xr-var-data-in' type='checkbox'><label for='data-44645f73-c636-4c84-bd78-ff84bb2f35f9' title='Show/Hide data repr'><svg class='icon xr-icon-database'><use xlink:href='#icon-database'></use></svg></label><div class='xr-var-attrs'><dl class='xr-attrs'><dt><span>units :</span></dt><dd>none</dd></dl></div><div class='xr-var-data'><pre>array([ 0.,  0.,  0., ..., 18., 18., 19.], dtype=float32)</pre></div></li><li class='xr-var-item'><div class='xr-var-name'><span>minute</span></div><div class='xr-var-dims'>(time)</div><div class='xr-var-dtype'>float32</div><div class='xr-var-preview xr-preview'>...</div><input id='attrs-0b876c33-004c-409f-8821-f3467d4d7ce1' class='xr-var-attrs-in' type='checkbox' ><label for='attrs-0b876c33-004c-409f-8821-f3467d4d7ce1' title='Show/Hide attributes'><svg class='icon xr-icon-file-text2'><use xlink:href='#icon-file-text2'></use></svg></label><input id='data-6cdf7476-84f0-459f-b289-cd97b4781e60' class='xr-var-data-in' type='checkbox'><label for='data-6cdf7476-84f0-459f-b289-cd97b4781e60' title='Show/Hide data repr'><svg class='icon xr-icon-database'><use xlink:href='#icon-database'></use></svg></label><div class='xr-var-attrs'><dl class='xr-attrs'><dt><span>units :</span></dt><dd>min</dd></dl></div><div class='xr-var-data'><pre>array([ 2., 17., 32., ..., 32., 47.,  2.], dtype=float32)</pre></div></li><li class='xr-var-item'><div class='xr-var-name'><span>sec</span></div><div class='xr-var-dims'>(time)</div><div class='xr-var-dtype'>float32</div><div class='xr-var-preview xr-preview'>...</div><input id='attrs-c1e39e30-e78a-48f9-95cc-9ccf658b589e' class='xr-var-attrs-in' type='checkbox' ><label for='attrs-c1e39e30-e78a-48f9-95cc-9ccf658b589e' title='Show/Hide attributes'><svg class='icon xr-icon-file-text2'><use xlink:href='#icon-file-text2'></use></svg></label><input id='data-a2902949-b2d3-450f-9304-b66a3584cb74' class='xr-var-data-in' type='checkbox'><label for='data-a2902949-b2d3-450f-9304-b66a3584cb74' title='Show/Hide data repr'><svg class='icon xr-icon-database'><use xlink:href='#icon-database'></use></svg></label><div class='xr-var-attrs'><dl class='xr-attrs'><dt><span>units :</span></dt><dd>none</dd></dl></div><div class='xr-var-data'><pre>array([0., 0., 0., ..., 0., 0., 0.], dtype=float32)</pre></div></li><li class='xr-var-item'><div class='xr-var-name'><span>RECORD</span></div><div class='xr-var-dims'>(time)</div><div class='xr-var-dtype'>float32</div><div class='xr-var-preview xr-preview'>...</div><input id='attrs-af20f339-348f-436a-8695-0ff0c37e4ac6' class='xr-var-attrs-in' type='checkbox' ><label for='attrs-af20f339-348f-436a-8695-0ff0c37e4ac6' title='Show/Hide attributes'><svg class='icon xr-icon-file-text2'><use xlink:href='#icon-file-text2'></use></svg></label><input id='data-1332483a-c661-4350-b53f-0f646efebd77' class='xr-var-data-in' type='checkbox'><label for='data-1332483a-c661-4350-b53f-0f646efebd77' title='Show/Hide data repr'><svg class='icon xr-icon-database'><use xlink:href='#icon-database'></use></svg></label><div class='xr-var-attrs'><dl class='xr-attrs'><dt><span>units :</span></dt><dd>RN</dd></dl></div><div class='xr-var-data'><pre>array([  96.,   97.,   98., ..., 1993., 1994., 1995.], dtype=float32)</pre></div></li><li class='xr-var-item'><div class='xr-var-name'><span>roll_ADCP_Avg</span></div><div class='xr-var-dims'>(time)</div><div class='xr-var-dtype'>float32</div><div class='xr-var-preview xr-preview'>...</div><input id='attrs-7d045e38-2337-4a9b-97b3-c03007f987b4' class='xr-var-attrs-in' type='checkbox' ><label for='attrs-7d045e38-2337-4a9b-97b3-c03007f987b4' title='Show/Hide attributes'><svg class='icon xr-icon-file-text2'><use xlink:href='#icon-file-text2'></use></svg></label><input id='data-5d07c742-a69a-4fc7-a19a-040fb08b7a68' class='xr-var-data-in' type='checkbox'><label for='data-5d07c742-a69a-4fc7-a19a-040fb08b7a68' title='Show/Hide data repr'><svg class='icon xr-icon-database'><use xlink:href='#icon-database'></use></svg></label><div class='xr-var-attrs'><dl class='xr-attrs'><dt><span>units :</span></dt><dd>deg</dd></dl></div><div class='xr-var-data'><pre>array([-1.715, -1.204, -1.295, ..., -0.71 , -0.785, -0.545], dtype=float32)</pre></div></li><li class='xr-var-item'><div class='xr-var-name'><span>pitch_ADCP_Avg</span></div><div class='xr-var-dims'>(time)</div><div class='xr-var-dtype'>float32</div><div class='xr-var-preview xr-preview'>...</div><input id='attrs-2778a407-dd56-4491-9a33-4f40db584e13' class='xr-var-attrs-in' type='checkbox' ><label for='attrs-2778a407-dd56-4491-9a33-4f40db584e13' title='Show/Hide attributes'><svg class='icon xr-icon-file-text2'><use xlink:href='#icon-file-text2'></use></svg></label><input id='data-4ace21ce-34d0-4a0c-bdc3-7d1fbed218b0' class='xr-var-data-in' type='checkbox'><label for='data-4ace21ce-34d0-4a0c-bdc3-7d1fbed218b0' title='Show/Hide data repr'><svg class='icon xr-icon-database'><use xlink:href='#icon-database'></use></svg></label><div class='xr-var-attrs'><dl class='xr-attrs'><dt><span>units :</span></dt><dd>deg</dd></dl></div><div class='xr-var-data'><pre>array([ 3.086,  3.491,  3.361, ..., -1.7  , -1.783, -1.471], dtype=float32)</pre></div></li><li class='xr-var-item'><div class='xr-var-name'><span>heading_ADCP_Avg</span></div><div class='xr-var-dims'>(time)</div><div class='xr-var-dtype'>float32</div><div class='xr-var-preview xr-preview'>...</div><input id='attrs-601660cd-b2ba-4b42-9423-391bc540915e' class='xr-var-attrs-in' type='checkbox' ><label for='attrs-601660cd-b2ba-4b42-9423-391bc540915e' title='Show/Hide attributes'><svg class='icon xr-icon-file-text2'><use xlink:href='#icon-file-text2'></use></svg></label><input id='data-cfc4f957-b5dc-45ec-afd9-cbc01f90f5ff' class='xr-var-data-in' type='checkbox'><label for='data-cfc4f957-b5dc-45ec-afd9-cbc01f90f5ff' title='Show/Hide data repr'><svg class='icon xr-icon-database'><use xlink:href='#icon-database'></use></svg></label><div class='xr-var-attrs'><dl class='xr-attrs'><dt><span>units :</span></dt><dd>Deg</dd></dl></div><div class='xr-var-data'><pre>array([198.4, 196.4, 196.8, ..., 201.8, 206.8, 225.3], dtype=float32)</pre></div></li><li class='xr-var-item'><div class='xr-var-name'><span>Temperature_ADCP_Avg</span></div><div class='xr-var-dims'>(time)</div><div class='xr-var-dtype'>float32</div><div class='xr-var-preview xr-preview'>...</div><input id='attrs-22a7e4ce-263a-4551-9ed4-d6de06b5bc5e' class='xr-var-attrs-in' type='checkbox' ><label for='attrs-22a7e4ce-263a-4551-9ed4-d6de06b5bc5e' title='Show/Hide attributes'><svg class='icon xr-icon-file-text2'><use xlink:href='#icon-file-text2'></use></svg></label><input id='data-7f8557cf-391c-49a3-bc6f-5cc8c8b0e0a9' class='xr-var-data-in' type='checkbox'><label for='data-7f8557cf-391c-49a3-bc6f-5cc8c8b0e0a9' title='Show/Hide data repr'><svg class='icon xr-icon-database'><use xlink:href='#icon-database'></use></svg></label><div class='xr-var-attrs'><dl class='xr-attrs'><dt><span>units :</span></dt><dd>Celsius</dd></dl></div><div class='xr-var-data'><pre>array([25.09, 24.88, 24.59, ..., 16.4 , 15.9 , 15.65], dtype=float32)</pre></div></li><li class='xr-var-item'><div class='xr-var-name'><span>current_east</span></div><div class='xr-var-dims'>(z, time)</div><div class='xr-var-dtype'>float32</div><div class='xr-var-preview xr-preview'>...</div><input id='attrs-99c7b810-0e3d-49a6-b9c8-6e904084ce44' class='xr-var-attrs-in' type='checkbox' ><label for='attrs-99c7b810-0e3d-49a6-b9c8-6e904084ce44' title='Show/Hide attributes'><svg class='icon xr-icon-file-text2'><use xlink:href='#icon-file-text2'></use></svg></label><input id='data-49bfa724-3ec8-4785-b38a-597aa959c95f' class='xr-var-data-in' type='checkbox'><label for='data-49bfa724-3ec8-4785-b38a-597aa959c95f' title='Show/Hide data repr'><svg class='icon xr-icon-database'><use xlink:href='#icon-database'></use></svg></label><div class='xr-var-attrs'><dl class='xr-attrs'><dt><span>units :</span></dt><dd>m/s</dd></dl></div><div class='xr-var-data'><pre>array([[ 0.14 , -0.092,  0.103, ...,  0.641,  0.582,  0.471],\n",
       "       [ 0.148,  0.086,  0.1  , ...,  0.645,  0.598,  0.472],\n",
       "       [ 0.008, -0.034,  0.112, ...,  0.308,  0.326,  0.242],\n",
       "       ...,\n",
       "       [ 0.123, -0.168,  0.254, ...,  0.21 ,  0.17 ,  0.186],\n",
       "       [ 0.131, -0.106,  0.238, ...,  0.202,  0.188,  0.169],\n",
       "       [ 0.201, -0.178,  0.279, ...,  0.194,  0.158,  0.162]], dtype=float32)</pre></div></li><li class='xr-var-item'><div class='xr-var-name'><span>current_north</span></div><div class='xr-var-dims'>(z, time)</div><div class='xr-var-dtype'>float32</div><div class='xr-var-preview xr-preview'>...</div><input id='attrs-46a0ed6c-bff6-41d4-8370-6cf0f4cbde7a' class='xr-var-attrs-in' type='checkbox' ><label for='attrs-46a0ed6c-bff6-41d4-8370-6cf0f4cbde7a' title='Show/Hide attributes'><svg class='icon xr-icon-file-text2'><use xlink:href='#icon-file-text2'></use></svg></label><input id='data-07b93f61-922b-47ec-bcff-b6e4e7b67f85' class='xr-var-data-in' type='checkbox'><label for='data-07b93f61-922b-47ec-bcff-b6e4e7b67f85' title='Show/Hide data repr'><svg class='icon xr-icon-database'><use xlink:href='#icon-database'></use></svg></label><div class='xr-var-attrs'><dl class='xr-attrs'><dt><span>units :</span></dt><dd>m/s</dd></dl></div><div class='xr-var-data'><pre>array([[-0.098,  0.22 , -0.155, ...,  0.21 ,  0.153, -0.005],\n",
       "       [ 0.214,  0.075, -0.179, ...,  0.201,  0.15 ,  0.012],\n",
       "       [ 0.128, -0.065, -0.056, ...,  0.24 ,  0.214,  0.161],\n",
       "       ...,\n",
       "       [ 0.047, -0.119,  0.157, ...,  0.017,  0.016,  0.051],\n",
       "       [ 0.37 ,  0.033,  0.119, ...,  0.027,  0.016,  0.041],\n",
       "       [ 0.212, -0.128,  0.049, ...,  0.014, -0.008,  0.037]], dtype=float32)</pre></div></li><li class='xr-var-item'><div class='xr-var-name'><span>z_matrix</span></div><div class='xr-var-dims'>(z, time)</div><div class='xr-var-dtype'>float32</div><div class='xr-var-preview xr-preview'>...</div><input id='attrs-d38265eb-916a-4385-9462-5f2109857ae3' class='xr-var-attrs-in' type='checkbox' ><label for='attrs-d38265eb-916a-4385-9462-5f2109857ae3' title='Show/Hide attributes'><svg class='icon xr-icon-file-text2'><use xlink:href='#icon-file-text2'></use></svg></label><input id='data-958d465e-3984-4515-b06e-c207992c7141' class='xr-var-data-in' type='checkbox'><label for='data-958d465e-3984-4515-b06e-c207992c7141' title='Show/Hide data repr'><svg class='icon xr-icon-database'><use xlink:href='#icon-database'></use></svg></label><div class='xr-var-attrs'><dl class='xr-attrs'><dt><span>units :</span></dt><dd>m/s</dd></dl></div><div class='xr-var-data'><pre>array([[  -3.93,   -3.93,   -3.93, ...,   -3.93,   -3.93,   -3.93],\n",
       "       [  -5.93,   -5.93,   -5.93, ...,   -5.93,   -5.93,   -5.93],\n",
       "       [  -7.93,   -7.93,   -7.93, ...,   -7.93,   -7.93,   -7.93],\n",
       "       ...,\n",
       "       [ -97.93,  -97.93,  -97.93, ...,  -97.93,  -97.93,  -97.93],\n",
       "       [ -99.93,  -99.93,  -99.93, ...,  -99.93,  -99.93,  -99.93],\n",
       "       [-101.93, -101.93, -101.93, ..., -101.93, -101.93, -101.93]],\n",
       "      dtype=float32)</pre></div></li><li class='xr-var-item'><div class='xr-var-name'><span>Longitude</span></div><div class='xr-var-dims'>(time)</div><div class='xr-var-dtype'>float64</div><div class='xr-var-preview xr-preview'>...</div><input id='attrs-b4118154-7e6d-49ca-a373-a7c6e3b89a11' class='xr-var-attrs-in' type='checkbox' ><label for='attrs-b4118154-7e6d-49ca-a373-a7c6e3b89a11' title='Show/Hide attributes'><svg class='icon xr-icon-file-text2'><use xlink:href='#icon-file-text2'></use></svg></label><input id='data-ac0a0192-28c7-42ad-aa48-b9eb7feb7697' class='xr-var-data-in' type='checkbox'><label for='data-ac0a0192-28c7-42ad-aa48-b9eb7feb7697' title='Show/Hide data repr'><svg class='icon xr-icon-database'><use xlink:href='#icon-database'></use></svg></label><div class='xr-var-attrs'><dl class='xr-attrs'><dt><span>units :</span></dt><dd>deg</dd></dl></div><div class='xr-var-data'><pre>array([-122.002419, -122.002419, -122.002434, ..., -124.353966, -124.355804,\n",
       "       -124.358373])</pre></div></li><li class='xr-var-item'><div class='xr-var-name'><span>Latitude</span></div><div class='xr-var-dims'>(time)</div><div class='xr-var-dtype'>float64</div><div class='xr-var-preview xr-preview'>...</div><input id='attrs-8ea8b4c0-a7d6-47b9-8ae4-3c477423f6fa' class='xr-var-attrs-in' type='checkbox' ><label for='attrs-8ea8b4c0-a7d6-47b9-8ae4-3c477423f6fa' title='Show/Hide attributes'><svg class='icon xr-icon-file-text2'><use xlink:href='#icon-file-text2'></use></svg></label><input id='data-cac228af-0109-482b-a4ac-05f4b9a42303' class='xr-var-data-in' type='checkbox'><label for='data-cac228af-0109-482b-a4ac-05f4b9a42303' title='Show/Hide data repr'><svg class='icon xr-icon-database'><use xlink:href='#icon-database'></use></svg></label><div class='xr-var-attrs'><dl class='xr-attrs'><dt><span>units :</span></dt><dd>deg</dd></dl></div><div class='xr-var-data'><pre>array([36.96701 , 36.96703 , 36.966991, ..., 36.787327, 36.78854 , 36.790232])</pre></div></li><li class='xr-var-item'><div class='xr-var-name'><span>depth</span></div><div class='xr-var-dims'>(z)</div><div class='xr-var-dtype'>float32</div><div class='xr-var-preview xr-preview'>...</div><input id='attrs-ec004cbf-50ba-4e81-9b22-73210e699c8d' class='xr-var-attrs-in' type='checkbox' ><label for='attrs-ec004cbf-50ba-4e81-9b22-73210e699c8d' title='Show/Hide attributes'><svg class='icon xr-icon-file-text2'><use xlink:href='#icon-file-text2'></use></svg></label><input id='data-f896a8f3-6662-4507-9998-7d3b70ab85c0' class='xr-var-data-in' type='checkbox'><label for='data-f896a8f3-6662-4507-9998-7d3b70ab85c0' title='Show/Hide data repr'><svg class='icon xr-icon-database'><use xlink:href='#icon-database'></use></svg></label><div class='xr-var-attrs'><dl class='xr-attrs'><dt><span>units :</span></dt><dd>m/s</dd></dl></div><div class='xr-var-data'><pre>array([  -3.93,   -5.93,   -7.93,   -9.93,  -11.93,  -13.93,  -15.93,  -17.93,\n",
       "        -19.93,  -21.93,  -23.93,  -25.93,  -27.93,  -29.93,  -31.93,  -33.93,\n",
       "        -35.93,  -37.93,  -39.93,  -41.93,  -43.93,  -45.93,  -47.93,  -49.93,\n",
       "        -51.93,  -53.93,  -55.93,  -57.93,  -59.93,  -61.93,  -63.93,  -65.93,\n",
       "        -67.93,  -69.93,  -71.93,  -73.93,  -75.93,  -77.93,  -79.93,  -81.93,\n",
       "        -83.93,  -85.93,  -87.93,  -89.93,  -91.93,  -93.93,  -95.93,  -97.93,\n",
       "        -99.93, -101.93], dtype=float32)</pre></div></li></ul></div></li><li class='xr-section-item'><input id='section-2761e9e3-31ab-40a2-b035-16a22a3e89d1' class='xr-section-summary-in' type='checkbox'  ><label for='section-2761e9e3-31ab-40a2-b035-16a22a3e89d1' class='xr-section-summary' >Attributes: <span>(10)</span></label><div class='xr-section-inline-details'></div><div class='xr-section-details'><dl class='xr-attrs'><dt><span>Name :</span></dt><dd>STOKES_PLD2_TAB2</dd><dt><span>wms_title :</span></dt><dd>STOKES_PLD2_TAB2</dd><dt><span>title :</span></dt><dd>S-MODE IOP1 2022 Waveglider STOKES real-time data - payload PLD2_TAB2</dd><dt><span>instrument :</span></dt><dd>Liquid Robotics SV3 Waveglider</dd><dt><span>sea_name :</span></dt><dd>Pacific</dd><dt><span>keywords :</span></dt><dd>Waveglider, S-MODE, Pacific Ocean, Temperature</dd><dt><span>time_coverage_start :</span></dt><dd>2022-09-21T00:02:00</dd><dt><span>time_coverage_end :</span></dt><dd>2022-10-26T19:02:00</dd><dt><span>history :</span></dt><dd>Wed Oct 26 15:48:27 2022: ncrename -v z,z_matrix ../data/raw/WG_NRT/STOKES_PLD2_TAB2.nc\n",
       "2022-10-26 19:45Z Downloaded real-time data from WGMS, processed on uop-ops.whoi.edu</dd><dt><span>NCO :</span></dt><dd>netCDF Operators version 4.9.1 (Homepage = http://nco.sf.net, Code = http://github.com/nco/nco)</dd></dl></div></li></ul></div></div>"
      ],
      "text/plain": [
       "<xarray.Dataset>\n",
       "Dimensions:               (time: 1760, z: 50)\n",
       "Coordinates:\n",
       "  * time                  (time) datetime64[ns] 2022-09-21T04:01:04 ... 2022-...\n",
       "Dimensions without coordinates: z\n",
       "Data variables: (12/16)\n",
       "    year                  (time) float32 ...\n",
       "    day                   (time) float32 ...\n",
       "    hour                  (time) float32 ...\n",
       "    minute                (time) float32 ...\n",
       "    sec                   (time) float32 ...\n",
       "    RECORD                (time) float32 ...\n",
       "    ...                    ...\n",
       "    current_east          (z, time) float32 ...\n",
       "    current_north         (z, time) float32 ...\n",
       "    z_matrix              (z, time) float32 ...\n",
       "    Longitude             (time) float64 ...\n",
       "    Latitude              (time) float64 ...\n",
       "    depth                 (z) float32 ...\n",
       "Attributes:\n",
       "    Name:                 STOKES_PLD2_TAB2\n",
       "    wms_title:            STOKES_PLD2_TAB2\n",
       "    title:                S-MODE IOP1 2022 Waveglider STOKES real-time data -...\n",
       "    instrument:           Liquid Robotics SV3 Waveglider\n",
       "    sea_name:             Pacific\n",
       "    keywords:             Waveglider, S-MODE, Pacific Ocean, Temperature\n",
       "    time_coverage_start:  2022-09-21T00:02:00\n",
       "    time_coverage_end:    2022-10-26T19:02:00\n",
       "    history:              Wed Oct 26 15:48:27 2022: ncrename -v z,z_matrix .....\n",
       "    NCO:                  netCDF Operators version 4.9.1 (Homepage = http://n..."
      ]
     },
     "execution_count": 10,
     "metadata": {},
     "output_type": "execute_result"
    }
   ],
   "source": [
    "eval('adcp_'+WG_list[2])"
   ]
  },
  {
   "cell_type": "code",
   "execution_count": 11,
   "metadata": {},
   "outputs": [],
   "source": [
    "tmin = np.datetime64('2022-10-03T00:00:00')\n",
    "tmax = np.datetime64('now')\n",
    "vmin = -.50 \n",
    "vmax = .50\n",
    "levels=np.arange(vmin,vmax,.05)"
   ]
  },
  {
   "cell_type": "code",
   "execution_count": 12,
   "metadata": {},
   "outputs": [
    {
     "data": {
      "text/plain": [
       "<matplotlib.colorbar.Colorbar at 0x7f4ad1b609a0>"
      ]
     },
     "execution_count": 12,
     "metadata": {},
     "output_type": "execute_result"
    }
   ],
   "source": [
    "plt.figure()\n",
    "plt.set_cmap(cmap=plt.get_cmap('turbo'))\n",
    "n = 0\n",
    "ax1 = plt.subplot(len(WG_list),1,len(WG_list))\n",
    "ax1.set_xlim(tmin,tmax)\n",
    "zmax=-60\n",
    "for WG in WG_list:\n",
    "    n=n+1\n",
    "    ds = eval('adcp_'+WG)\n",
    "    ax = plt.subplot(len(WG_list),1,n,sharex=ax1)\n",
    "    im = plt.pcolor(ds.time.values,ds.depth,ds.current_east,vmin=vmin,vmax=vmax)\n",
    "    # plt.contourf(ds.time.values,ds.z_matrix[:,1],ds.current_east,levels)\n",
    "    plt.ylim(zmax, 0)\n",
    "    plt.text(tmin,zmax+5,WG)\n",
    "    if n==1: plt.title('East vel')\n",
    "fig=plt.gcf()\n",
    "fig.autofmt_xdate()\n",
    "fig.subplots_adjust(right=0.85)\n",
    "cbar_ax = fig.add_axes([0.875, 0.1, 0.025, 0.8])\n",
    "fig.colorbar(im, cax=cbar_ax)"
   ]
  },
  {
   "cell_type": "code",
   "execution_count": 13,
   "metadata": {},
   "outputs": [
    {
     "data": {
      "text/plain": [
       "<matplotlib.colorbar.Colorbar at 0x7f4ac5010970>"
      ]
     },
     "execution_count": 13,
     "metadata": {},
     "output_type": "execute_result"
    }
   ],
   "source": [
    "plt.figure()\n",
    "plt.set_cmap(cmap=plt.get_cmap('turbo'))\n",
    "n = 0\n",
    "ax1 = plt.subplot(len(WG_list),1,len(WG_list))\n",
    "ax1.set_xlim(tmin,tmax)\n",
    "for WG in WG_list:\n",
    "    n=n+1\n",
    "    ds = eval('adcp_'+WG)\n",
    "    ax = plt.subplot(len(WG_list),1,n,sharex=ax1)\n",
    "    im = plt.pcolor(ds.time.values,ds.z_matrix,ds.current_north,vmin=vmin,vmax=vmax)\n",
    "    # plt.contourf(ds.time.values,ds.z_matrix[:,1],ds.current_east,levels)\n",
    "    plt.ylim(-60, 0)\n",
    "    plt.text(tmin,zmax+5,WG)\n",
    "    if n==1: plt.title('North vel')\n",
    "fig=plt.gcf()\n",
    "fig.autofmt_xdate()\n",
    "fig.subplots_adjust(right=0.85)\n",
    "cbar_ax = fig.add_axes([0.875, 0.1, 0.025, 0.8])\n",
    "fig.colorbar(im, cax=cbar_ax)"
   ]
  },
  {
   "cell_type": "markdown",
   "metadata": {},
   "source": [
    "Do the same plots as the last two above, but showing only the data from the triangle."
   ]
  },
  {
   "cell_type": "code",
   "execution_count": 14,
   "metadata": {},
   "outputs": [
    {
     "data": {
      "text/plain": [
       "<matplotlib.legend.Legend at 0x7f4afa8e5d60>"
      ]
     },
     "execution_count": 14,
     "metadata": {},
     "output_type": "execute_result"
    }
   ],
   "source": [
    "# Plot locations\n",
    "t0 = np.datetime64('2022-10-03T00:00:00')\n",
    "t1 = np.datetime64('2022-10-21T00:00:00')\n",
    "plt.figure()\n",
    "n = 0\n",
    "zmax=-60\n",
    "for WG in WG_list:\n",
    "    n=n+1\n",
    "    ds = eval('adcp_'+WG)\n",
    "    tind = np.flatnonzero(np.logical_and(ds.time>t0,ds.time<t1))\n",
    "    plt.plot(ds.Longitude[tind], ds.Latitude[tind])\n",
    "    # plt.contourf(ds.time.values,ds.z_matrix[:,1],ds.current_east,levels)\n",
    "    plt.axis('square')\n",
    "    plt.axis([-124.9, -124.0, 36.5, 37.5])\n",
    "plt.legend(WG_list,loc='best')"
   ]
  },
  {
   "cell_type": "code",
   "execution_count": 15,
   "metadata": {},
   "outputs": [],
   "source": [
    "# Locations of triangles:\n",
    "# determined from google earth file (shift-ctrl-c copies google earth coordinates to clipboard)\n",
    "#   36.846128° -124.427452°\n",
    "triangle_coords = np.array([[36.890103, -124.621356],\n",
    "                [36.947069, -124.625868],\n",
    "                [36.968425, -124.669085],\n",
    "                [36.991903, -124.634525],\n",
    "                [37.002247, -124.636256],\n",
    "                [37.045228, -124.575364],\n",
    "                [36.846128, -124.427452]])"
   ]
  },
  {
   "cell_type": "code",
   "execution_count": 16,
   "metadata": {},
   "outputs": [],
   "source": [
    "triangle_lat=triangle_coords[:,0]\n",
    "triangle_lon=triangle_coords[:,1]"
   ]
  },
  {
   "cell_type": "code",
   "execution_count": 17,
   "metadata": {},
   "outputs": [],
   "source": [
    "triangle_ind = 2\n",
    "tol = .023"
   ]
  },
  {
   "cell_type": "code",
   "execution_count": 18,
   "metadata": {},
   "outputs": [],
   "source": [
    "def plot_triangle_vel(triangle_ind,variable):\n",
    "    plt.figure()\n",
    "    plt.set_cmap(cmap=plt.get_cmap('turbo'))\n",
    "    n = 0\n",
    "    ax1 = plt.subplot(len(WG_list),1,len(WG_list))\n",
    "    ax1.set_xlim(tmin,tmax)\n",
    "    lon0 = triangle_lon[triangle_ind]\n",
    "    lat0 = triangle_lat[triangle_ind]\n",
    "    for WG in WG_list:\n",
    "        n=n+1\n",
    "        ds = eval('adcp_'+WG)\n",
    "        # ds = ds.where(np.logical_and(np.abs(ds.Latitude.values-lat0)<tol, np.abs(ds.Longitude.values-lon0)<tol))\n",
    "        tind = np.flatnonzero(np.logical_and(np.abs(ds.Latitude.values-lat0)<tol, np.abs(ds.Longitude.values-lon0)<tol))\n",
    "        ax = plt.subplot(len(WG_list),1,n,sharex=ax1)\n",
    "        if tind.size == 0: \n",
    "            im = plt.axis()\n",
    "        else:\n",
    "            im = plt.pcolor(ds.time[tind].values,ds.depth,eval('ds.'+variable)[:,tind],vmin=vmin,vmax=vmax)\n",
    "            # plt.contourf(ds.time.values,ds.z_matrix[:,1],ds.current_east,levels)\n",
    "        plt.ylim(-60, 0)\n",
    "        plt.text(tmin,zmax+5,WG)\n",
    "        if n==1: plt.title(variable + ', triangle ' + str(triangle_ind))\n",
    "    fig=plt.gcf()\n",
    "    fig.autofmt_xdate()\n",
    "    fig.subplots_adjust(right=0.85)\n",
    "    cbar_ax = fig.add_axes([0.875, 0.1, 0.025, 0.8])\n",
    "    fig.colorbar(im, cax=cbar_ax)\n",
    "    if savefig:\n",
    "        plt.savefig(__figdir__+'WG_triangle_'+str(triangle_ind)+'_'+variable+'.'+plotfiletype,**savefig_args)"
   ]
  },
  {
   "cell_type": "code",
   "execution_count": 19,
   "metadata": {},
   "outputs": [],
   "source": [
    "for triangle_ind in range(len(triangle_lat)):\n",
    "    variable = 'current_east'\n",
    "    plot_triangle_vel(triangle_ind,variable)"
   ]
  },
  {
   "cell_type": "markdown",
   "metadata": {},
   "source": [
    "OK, WHOI32 was in triangle 2 for a while.  Let's plot a time series of that one."
   ]
  },
  {
   "cell_type": "code",
   "execution_count": 20,
   "metadata": {},
   "outputs": [],
   "source": [
    "triangle_ind = 2\n",
    "lon0 = triangle_lon[triangle_ind]\n",
    "lat0 = triangle_lat[triangle_ind]\n"
   ]
  },
  {
   "cell_type": "code",
   "execution_count": 21,
   "metadata": {},
   "outputs": [],
   "source": [
    "fig = plt.figure()\n",
    "ax = plt.subplot(111)\n",
    "WG = 'WHOI32'\n",
    "ds = eval('adcp_'+WG)\n",
    "tind = np.flatnonzero(np.logical_and(np.abs(ds.Latitude.values-lat0)<tol, np.abs(ds.Longitude.values-lon0)<tol))\n",
    "im = plt.pcolor(ds.time[tind].values,ds.depth,ds.current_east[:,tind],vmin=vmin,vmax=vmax)\n",
    "plt.ylim(zmax, 0)\n",
    "plt.text(tmin,zmax+5,WG)\n",
    "plt.title('East vel for ' + WG + ' when in triangle')\n",
    "fig.autofmt_xdate()\n",
    "fig.subplots_adjust(right=0.85)\n",
    "cbar_ax = fig.add_axes([0.875, 0.1, 0.025, 0.8])\n",
    "fig.colorbar(im, cax=cbar_ax)\n",
    "ax.set_xlim(tmin,tmax)\n",
    "if 0: #savefig:\n",
    "    plt.savefig(__figdir__+'WHOI32_triangle_east_vel'+'.'+plotfiletype,**savefig_args)"
   ]
  },
  {
   "cell_type": "code",
   "execution_count": 22,
   "metadata": {},
   "outputs": [],
   "source": [
    "fig = plt.figure()\n",
    "ax = plt.subplot(111)\n",
    "WG = 'WHOI32'\n",
    "ds = eval('adcp_'+WG)\n",
    "tind = np.flatnonzero(np.logical_and(np.abs(ds.Latitude.values-lat0)<tol, np.abs(ds.Longitude.values-lon0)<tol))\n",
    "z0 = -15\n",
    "zind = np.flatnonzero(np.abs(ds.depth-z0)<1)\n",
    "plt.plot(ds.time.values[tind],np.squeeze(ds.current_east[zind,tind]))\n",
    "plt.plot(ds.time.values[tind],np.squeeze(ds.current_north[zind,tind]))\n",
    "plt.legend(['U','V'])\n",
    "# plt.contourf(ds.time.values,ds.z_matrix[:,1],ds.current_east,levels)\n",
    "plt.title(WG+ ' east vel')\n",
    "plt.ylabel('[m/s]')\n",
    "fig.autofmt_xdate()\n",
    "ax.set_xlim(tmin,tmax)\n",
    "if savefig:\n",
    "    plt.savefig(__figdir__+'WHOI32_triangle_time_series'+'.'+plotfiletype,**savefig_args)"
   ]
  },
  {
   "cell_type": "code",
   "execution_count": 23,
   "metadata": {},
   "outputs": [],
   "source": [
    "# %whos"
   ]
  },
  {
   "cell_type": "markdown",
   "metadata": {},
   "source": [
    "# How to organize code for the fits?\n",
    "\n",
    "One way to do it would be to dump all of the U, V, lon, lat, time values into vectors and then select the data points that are within some lon/lat/time distance of a given target.  That should work."
   ]
  },
  {
   "cell_type": "code",
   "execution_count": 24,
   "metadata": {},
   "outputs": [
    {
     "data": {
      "text/plain": [
       "2694"
      ]
     },
     "execution_count": 24,
     "metadata": {},
     "output_type": "execute_result"
    }
   ],
   "source": [
    "len(ds.time)"
   ]
  },
  {
   "cell_type": "code",
   "execution_count": 25,
   "metadata": {},
   "outputs": [],
   "source": [
    "# dump all of the U, V, lon, lat, time values into vectors and then select the data points that are within some lon/lat/time distance of a given target\n",
    "# I guess this will have to be Ntimes x Nz, where N = len(time)*len(WG_list)\n",
    "Ntimes=0\n",
    "Nz_check = []\n",
    "z_check = []\n",
    "for WG in WG_list:\n",
    "    ds = eval('adcp_'+WG)\n",
    "    Ntimes=Ntimes+len(ds.time)\n",
    "    Nz_check.append(len(ds.depth)) # doing this to verify that \n",
    "    z_check.append(np.min(ds.depth)) # doing this to verify that \n",
    "\n",
    "if np.diff(Nz_check).all()==0 and np.diff(z_check).all()==0 :\n",
    "    Nz=Nz_check[0]\n",
    "    z=ds.depth\n",
    "else:\n",
    "    raise ValueError('There are different numbers of depth points in the files')"
   ]
  },
  {
   "cell_type": "code",
   "execution_count": 26,
   "metadata": {},
   "outputs": [
    {
     "data": {
      "text/plain": [
       "(12785, 50)"
      ]
     },
     "execution_count": 26,
     "metadata": {},
     "output_type": "execute_result"
    }
   ],
   "source": [
    "U = np.zeros((Ntimes, Nz))\n",
    "np.shape(U)"
   ]
  },
  {
   "cell_type": "code",
   "execution_count": 27,
   "metadata": {},
   "outputs": [],
   "source": [
    "U = []\n",
    "V = []\n",
    "lon = []\n",
    "lat = []\n",
    "time = []\n",
    "name = []\n",
    "\n",
    "for WG in WG_list:\n",
    "    ds = eval('adcp_'+WG)\n",
    "    #tind = np.flatnonzero(np.logical_and(np.abs(ds.Latitude.values-lat0)<tol, np.abs(ds.Longitude.values-lon0)<tol))\n",
    "    U.extend(ds.current_east.transpose())\n",
    "    V.extend(ds.current_north.transpose())\n",
    "    time.extend(ds.time.values)\n",
    "    lon.extend(ds.Longitude)\n",
    "    lat.extend(ds.Latitude)\n",
    "    name.extend(np.repeat(WG,len(ds.time.values)))\n",
    "\n",
    "U = np.array(U)\n",
    "V = np.array(V)\n",
    "lon = np.array(lon)\n",
    "lat = np.array(lat)\n",
    "time = np.array(time)\n",
    "name = np.array(name)"
   ]
  },
  {
   "cell_type": "code",
   "execution_count": 28,
   "metadata": {},
   "outputs": [
    {
     "name": "stdout",
     "output_type": "stream",
     "text": [
      "(12785,) (12785,) (12785,) (12785, 50) (12785, 50)\n"
     ]
    }
   ],
   "source": [
    "print(np.shape(lat),np.shape(lon),np.shape(time),np.shape(U),np.shape(V))"
   ]
  },
  {
   "cell_type": "code",
   "execution_count": 29,
   "metadata": {},
   "outputs": [],
   "source": [
    "z0 = -15\n",
    "zind = np.flatnonzero(np.abs(z-z0)<1)\n",
    "\n",
    "lon0 = -124.66\n",
    "lat0 = 36.96\n",
    "lon_lat_tol = .023\n",
    "t0 = np.datetime64('2022-10-13T12:00:00')\n",
    "time_tol = np.timedelta64(1,'h')"
   ]
  },
  {
   "cell_type": "code",
   "execution_count": 30,
   "metadata": {},
   "outputs": [],
   "source": [
    "def subset_vel(lon0, lat0, t0, lon_lat_tol, time_tol, zind):\n",
    "    tind = np.flatnonzero(np.logical_and(np.logical_and(np.abs(lat-lat0)<lon_lat_tol, np.abs(lon-lon0)<lon_lat_tol),np.abs(time-t0)<time_tol))\n",
    "    lonsub = lon[tind]\n",
    "    latsub = lat[tind]\n",
    "    timesub = time[tind]\n",
    "    Usub = U[tind,zind]\n",
    "    Vsub = V[tind,zind]\n",
    "    namesub = name[tind]\n",
    "    xsub = []\n",
    "    for n in range(len(lonsub)):\n",
    "        loni=lonsub[n]\n",
    "        xsub.append(np.sign(loni-lon0)*gsw.geostrophy.distance((loni,lon0), (lat0,lat0)))\n",
    "    ysub = []\n",
    "    for lati in latsub:\n",
    "        ysub.append(np.sign(lati-lat0)*gsw.geostrophy.distance((lon0,lon0), (lati,lat0)))\n",
    "    \n",
    "    return namesub, lonsub, latsub, xsub, ysub, timesub, Usub, Vsub"
   ]
  },
  {
   "cell_type": "code",
   "execution_count": 31,
   "metadata": {},
   "outputs": [],
   "source": [
    "namesub, lonsub, latsub, xsub, ysub, timesub, Usub, Vsub = subset_vel(lon0,lat0,t0, lon_lat_tol, time_tol, zind)"
   ]
  },
  {
   "cell_type": "code",
   "execution_count": 32,
   "metadata": {},
   "outputs": [
    {
     "data": {
      "text/plain": [
       "(-751.2793755339857, 712.2154872333676, 591.420815645389, 1832.323518557612)"
      ]
     },
     "execution_count": 32,
     "metadata": {},
     "output_type": "execute_result"
    }
   ],
   "source": [
    "plt.figure()\n",
    "# plt.scatter(xsub, ysub,c=Vsub)\n",
    "plt.quiver(xsub, ysub,Usub, Vsub)\n",
    "plt.title(', '.join(np.unique(namesub)) + ' data, ' + str(abs(lon0)) + 'W, ' + str(lat0) + 'N, time = ' + str(t0) )\n",
    "plt.axis('equal')"
   ]
  },
  {
   "cell_type": "markdown",
   "metadata": {},
   "source": [
    "We want to estimate $\\frac{\\partial u}{\\partial x}$, $\\frac{\\partial u}{\\partial y}$, $\\frac{\\partial v}{\\partial x}$, and $\\frac{\\partial v}{\\partial y}$. We will fit a plane to the measured velocity components.  Conceptually, we are thinking of the velocity as being,\n",
    "\\begin{equation}\n",
    "    u(x,y) = u_0 + \\frac{\\partial u}{\\partial x}\\Delta x + \\frac{\\partial u}{\\partial y}\\Delta y\n",
    "\\end{equation}\n",
    "\n",
    "We could write this system of equations in vector form as:\n",
    "\\begin{eqnarray}\n",
    "  \\begin{bmatrix} u_{n=1} \\\\ u_{n=2} \\\\ u_{n=3} \\end{bmatrix} = u_0 \\begin{bmatrix} 1 \\\\ 1 \\\\ 1 \\end{bmatrix} +\\frac{\\partial u}{\\partial x} \\begin{bmatrix} \\Delta x_{n=1} \\\\ \\Delta x_{n=2} \\\\ \\Delta x_{n=3} \\end{bmatrix} +\\frac{\\partial u}{\\partial y} \\begin{bmatrix} \\Delta y_{n=1} \\\\ \\Delta y_{n=2} \\\\ \\Delta y_{n=3} \\end{bmatrix}\n",
    "\\end{eqnarray}\n",
    "To simplify the notation, let $\\frac{\\partial u}{\\partial x}\\equiv u_x$, $\\frac{\\partial u}{\\partial y}\\equiv u_y$, $\\Delta x\\equiv x$, and $\\Delta y \\equiv y$.  Then the above equation is the same as\n",
    "\\begin{eqnarray}\n",
    "  \\begin{bmatrix} u_{n=1} \\\\ u_{n=2} \\\\ u_{n=3} \\end{bmatrix} = \\begin{bmatrix} 1 & x_{n=1} & y_{n=1} \\\\ 1 & x_{n=2} & y_{n=2} \\\\ 1 & x_{n=3} & y_{n=3} \\end{bmatrix} \\begin{bmatrix} u_0 \\\\ u_x \\\\u_y  \\end{bmatrix} \\\\\n",
    "  \\mathbf{y} \\ \\ \\  = \\ \\ \\ \\ \\ \\ \\ \\ \\ \\ \\ \\ \\ \\ \\ \\mathbf{E} \\ \\ \\ \\ \\ \\ \\ \\ \\ \\ \\ \\ \\ \\ \\ \\ \\mathbf{x} \\ \\ \\ \\ \\\n",
    "\\end{eqnarray}\n",
    "\n",
    "\n",
    "The ordinary least squares solution is:\n",
    "\\begin{equation}\n",
    "  \\tilde{\\mathbf{x}}=\\left(\\mathbf{E}^T\\mathbf{E}\\right)^{-1}\\mathbf{E}^T\\mathbf{y}.\n",
    " \\label{TW_LS2}\n",
    "\\end{equation}\n",
    "\n",
    "To think about doing this in python using the numpy.linalg library, it might help to rewrite it as:\n",
    "\\begin{equation}\n",
    "  \\left(\\mathbf{E}^T\\mathbf{E}\\right)\\tilde{\\mathbf{x}}=\\mathbf{E}^T\\mathbf{y}.\n",
    "\\end{equation}\n",
    "\n"
   ]
  },
  {
   "cell_type": "code",
   "execution_count": 33,
   "metadata": {},
   "outputs": [],
   "source": [
    "# So, let's define E and y\n",
    "# first row of E is 1 xsub[0] ysub[0]\n",
    "E=[]\n",
    "for n in range(len(xsub)):\n",
    "    E.append([1,xsub[n].item(),ysub[n].item()])"
   ]
  },
  {
   "cell_type": "code",
   "execution_count": 34,
   "metadata": {},
   "outputs": [],
   "source": [
    "E = np.asarray(E)\n",
    "y = Usub"
   ]
  },
  {
   "cell_type": "code",
   "execution_count": 35,
   "metadata": {},
   "outputs": [
    {
     "data": {
      "text/plain": [
       "(24, 3)"
      ]
     },
     "execution_count": 35,
     "metadata": {},
     "output_type": "execute_result"
    }
   ],
   "source": [
    "np.shape(E)"
   ]
  },
  {
   "cell_type": "code",
   "execution_count": 36,
   "metadata": {},
   "outputs": [],
   "source": [
    "A = E.transpose()@E\n",
    "B = E.transpose()@y"
   ]
  },
  {
   "cell_type": "code",
   "execution_count": 37,
   "metadata": {},
   "outputs": [],
   "source": [
    "xtilde = np.linalg.solve(A, B) # solves A x = B"
   ]
  },
  {
   "cell_type": "code",
   "execution_count": 38,
   "metadata": {},
   "outputs": [
    {
     "name": "stdout",
     "output_type": "stream",
     "text": [
      "u0 = 0.2717793141408435, ux = 2.4442744991038983e-05, uy = -3.646376992010044e-05\n"
     ]
    }
   ],
   "source": [
    "u0, ux, uy = xtilde\n",
    "print('u0 = ' + str(u0) + ', ux = ' + str(ux) + ', uy = ' + str(uy))"
   ]
  },
  {
   "cell_type": "code",
   "execution_count": 39,
   "metadata": {},
   "outputs": [],
   "source": [
    "def plane_fit_2D(Usub,xsub,ysub):\n",
    "    ''' \n",
    "    Inputs: \n",
    "    Usub = scalar field to fit\n",
    "    xsub = x locations\n",
    "    ysub = y locations\n",
    "    \n",
    "    Outputs:\n",
    "    Estimates of:\n",
    "    u0 (value at x=0,y=0)\n",
    "    ux (x slope of input field)\n",
    "    uy (y slope of input field)\n",
    "    '''\n",
    "    \n",
    "    E=[]\n",
    "    for n in range(len(xsub)):\n",
    "        E.append([1,xsub[n].item(),ysub[n].item()])\n",
    "    E = np.asarray(E)\n",
    "    y = Usub\n",
    "    A = E.transpose()@E\n",
    "    B = E.transpose()@y\n",
    "    u0, ux, uy = np.linalg.solve(A, B) # solves A x = B\n",
    "    \n",
    "    return u0, ux, uy"
   ]
  },
  {
   "cell_type": "code",
   "execution_count": 40,
   "metadata": {},
   "outputs": [],
   "source": [
    "u0, ux, uy = plane_fit_2D(Usub,xsub,ysub)"
   ]
  },
  {
   "cell_type": "code",
   "execution_count": 41,
   "metadata": {},
   "outputs": [],
   "source": [
    "# Generate a test dataset\n",
    "ux = np.array(1e-5)\n",
    "uy = np.array(-2.3e-5)\n",
    "u0 = np.array(0.2)\n",
    "sig = 0.01 #standard feviation for some added noise, imagining 1 cm/s ADCP error\n",
    "Usub = u0+ ux*xsub + uy*ysub +np.random.default_rng().normal(0, sig, size=np.shape(xsub))"
   ]
  },
  {
   "cell_type": "code",
   "execution_count": 42,
   "metadata": {},
   "outputs": [
    {
     "name": "stdout",
     "output_type": "stream",
     "text": [
      "u0 = [0.20435927], ux = [1.29905692e-05], uy = [-2.9042747e-05]\n"
     ]
    }
   ],
   "source": [
    "u0, ux, uy = plane_fit_2D(Usub,xsub,ysub)\n",
    "print('u0 = ' + str(u0) + ', ux = ' + str(ux) + ', uy = ' + str(uy))"
   ]
  },
  {
   "cell_type": "markdown",
   "metadata": {},
   "source": [
    "## OK, now we are set up to fit the whole time series!"
   ]
  },
  {
   "cell_type": "code",
   "execution_count": null,
   "metadata": {},
   "outputs": [],
   "source": []
  },
  {
   "cell_type": "code",
   "execution_count": 43,
   "metadata": {},
   "outputs": [],
   "source": [
    "z0 = -4\n",
    "zind = np.flatnonzero(np.abs(z-z0)<1)\n",
    "\n",
    "triangle_ind = 5\n",
    "lon_lat_tol = .023\n",
    "time_tol = np.timedelta64(1,'h')\n",
    "#t0 = np.datetime64('2022-10-13T12:00:00')"
   ]
  },
  {
   "cell_type": "code",
   "execution_count": 44,
   "metadata": {},
   "outputs": [],
   "source": [
    "t = np.arange('2022-10-09T12:00:00', 'now',15, dtype='datetime64[m]')"
   ]
  },
  {
   "cell_type": "code",
   "execution_count": 45,
   "metadata": {},
   "outputs": [],
   "source": [
    "def do_triangle_fit_z0(z0,triangle_ind,plot_flag = False):\n",
    "    zind = np.flatnonzero(np.abs(z-z0)<1)\n",
    "    lon0 = triangle_lon[triangle_ind]\n",
    "    lat0 = triangle_lat[triangle_ind]\n",
    "\n",
    "    if plot_flag: plt.figure()\n",
    "    ax = [-1000, 1000, -1000, 1000]\n",
    "    u0 = []; ux = []; uy = []; v0 = []; vx = []; vy = []\n",
    "    n=0\n",
    "    for t0 in t:\n",
    "        namesub, lonsub, latsub, xsub, ysub, timesub, Usub, Vsub = subset_vel(lon0,lat0,t0, lon_lat_tol, time_tol, zind)\n",
    "        # Do Least squares fits\n",
    "        if len(xsub)>9:\n",
    "            u0i, uxi, uyi = plane_fit_2D(Usub,xsub,ysub)\n",
    "            v0i, vxi, vyi = plane_fit_2D(Vsub,xsub,ysub)\n",
    "            if plot_flag:# Plot\n",
    "                n=n+1\n",
    "                plt.clf()\n",
    "                plt.quiver(xsub, ysub,Usub, Vsub)\n",
    "                plt.quiver(0,0,u0i,v0i,color='r')    \n",
    "                plt.axis('square')\n",
    "                plt.title(str(t0))\n",
    "                plt.text(-400,850,', '.join(np.unique(namesub)))\n",
    "                plt.axis(ax)\n",
    "                if savefig:\n",
    "                    plt.savefig(__figdir__+'triangle_vel_plots_'+str(n)+'.'+plotfiletype,**savefig_args)\n",
    "        else:\n",
    "            u0i, uxi, uyi = np.nan,np.nan,np.nan\n",
    "            v0i, vxi, vyi = np.nan,np.nan,np.nan\n",
    "        u0.append(u0i);ux.append(uxi);uy.append(uyi)\n",
    "        v0.append(v0i);vx.append(vxi);vy.append(vyi)\n",
    "\n",
    "    u0 = np.array(u0)\n",
    "    ux = np.array(ux)\n",
    "    uy = np.array(uy)\n",
    "    v0 = np.array(v0)\n",
    "    vx = np.array(vx)\n",
    "    vy = np.array(vy)\n",
    "    \n",
    "    return u0, v0, ux, vx, uy, vy\n",
    "\n"
   ]
  },
  {
   "cell_type": "code",
   "execution_count": 80,
   "metadata": {},
   "outputs": [],
   "source": [
    "triangle_ind=6\n",
    "z0=-6\n",
    "u0, v0, ux, vx, uy, vy = do_triangle_fit_z0(z0=-4,triangle_ind=6,plot_flag = True)"
   ]
  },
  {
   "cell_type": "code",
   "execution_count": null,
   "metadata": {},
   "outputs": [],
   "source": [
    "# !ffmpeg -framerate 1 -i triangle_vel_plots_%d.png -r 3 video5.avi"
   ]
  },
  {
   "cell_type": "code",
   "execution_count": 48,
   "metadata": {},
   "outputs": [
    {
     "name": "stdout",
     "output_type": "stream",
     "text": [
      "Inertial period is 19.9 hours\n"
     ]
    }
   ],
   "source": [
    "f = gsw.geostrophy.f(37)\n",
    "inertial_period = 2*np.pi/f/3600\n",
    "print('Inertial period is '+ f'{inertial_period:.1f}' + ' hours')"
   ]
  },
  {
   "cell_type": "code",
   "execution_count": null,
   "metadata": {},
   "outputs": [],
   "source": []
  },
  {
   "cell_type": "code",
   "execution_count": 49,
   "metadata": {},
   "outputs": [],
   "source": [
    "plt.figure(figsize=(5,6))\n",
    "\n",
    "ax = plt.subplot(4,1,1)\n",
    "plt.plot(t,u0)\n",
    "plt.plot(t,v0)\n",
    "plt.ylabel('u,v')\n",
    "plt.title('Triangle \\\"' + str(triangle_ind) +'\\\", depth =' + str(-z0))\n",
    "\n",
    "ax2 = plt.subplot(4,1,2,sharex=ax)\n",
    "plt.plot(t,(ux+vy)/f)\n",
    "plt.ylabel('$\\delta$/f')\n",
    "\n",
    "ax3 = plt.subplot(4,1,3,sharex=ax)\n",
    "plt.plot(t,(uy+vx)/f)\n",
    "plt.ylabel('$\\sigma$/f')\n",
    "\n",
    "ax3 = plt.subplot(4,1,4,sharex=ax)\n",
    "plt.plot(t,(uy-vx)/f)\n",
    "plt.ylabel('$\\zeta$/f')\n",
    "\n",
    "fig = plt.gcf()\n",
    "fig.autofmt_xdate()\n",
    "\n"
   ]
  },
  {
   "cell_type": "code",
   "execution_count": 50,
   "metadata": {},
   "outputs": [
    {
     "data": {
      "text/plain": [
       "Text(0.5, 0, '$\\\\zeta$/f')"
      ]
     },
     "execution_count": 50,
     "metadata": {},
     "output_type": "execute_result"
    }
   ],
   "source": [
    "plt.figure()\n",
    "plt.scatter((uy-vx)/f,np.abs((uy+vx))/f)\n",
    "plt.ylabel('|$\\sigma$|/f')\n",
    "plt.xlabel('$\\zeta$/f')"
   ]
  },
  {
   "cell_type": "code",
   "execution_count": 51,
   "metadata": {},
   "outputs": [],
   "source": [
    "def do_fit_all_depths(zgrid,triangle_ind):\n",
    "    n=0\n",
    "    for z0 in zgrid:\n",
    "        n=n+1\n",
    "        u0, v0, ux, vx, uy, vy = do_triangle_fit_z0(z0,triangle_ind,plot_flag = False)\n",
    "        if n==1:\n",
    "            u0z=[u0]\n",
    "            v0z=[v0]\n",
    "            uxz=[ux]\n",
    "            vxz=[vx]\n",
    "            uyz=[uy]\n",
    "            vyz=[vy]\n",
    "        else:\n",
    "            u0z=np.append(u0z,[u0],axis=0)\n",
    "            v0z=np.append(v0z,[v0],axis=0)\n",
    "            uxz=np.append(uxz,[ux],axis=0)\n",
    "            vxz=np.append(vxz,[vx],axis=0)\n",
    "            uyz=np.append(uyz,[uy],axis=0)\n",
    "            vyz=np.append(vyz,[vy],axis=0)\n",
    "    return u0z, v0z, uxz, vxz, uyz, vyz\n"
   ]
  },
  {
   "cell_type": "code",
   "execution_count": null,
   "metadata": {},
   "outputs": [],
   "source": []
  },
  {
   "cell_type": "code",
   "execution_count": 76,
   "metadata": {},
   "outputs": [],
   "source": [
    "def plot_fit_UV(t, zgrid, u0z, v0z,triangle_ind):\n",
    "    plt.figure()\n",
    "    levels=np.linspace(vmin,vmax,21)\n",
    "    ax = plt.subplot(2,1,1)\n",
    "    plt.title('Triangle \\\"' +str(triangle_ind) + '\\\"')\n",
    "    plt.pcolor(t,zgrid,u0z,vmin=0, vmax=.75)\n",
    "    #plt.contourf(t,zgrid,u0z,levels=levels)\n",
    "    plt.colorbar(orientation='vertical',label='U (m/s)')\n",
    "    plt.subplot(2,1,2,sharex=ax)\n",
    "    plt.pcolor(t,zgrid,v0z,vmin=-.25, vmax=.25)\n",
    "    plt.colorbar(orientation='vertical',label='V (m/s)')\n",
    "    fig = plt.gcf()\n",
    "    fig.autofmt_xdate()\n"
   ]
  },
  {
   "cell_type": "code",
   "execution_count": 53,
   "metadata": {},
   "outputs": [],
   "source": [
    "def plot_fit_div_zeta(t, zgrid, zeta, div, strain,triangle_ind):\n",
    "    plt.figure()\n",
    "    levels=np.linspace(-2, 2,21)\n",
    "    ax = plt.subplot(3,1,1)\n",
    "    plt.title('Triangle \\\"' +str(triangle_ind) + '\\\"')\n",
    "    plt.pcolor(t,zgrid,zeta,vmin=-2,vmax=2)\n",
    "    plt.colorbar(orientation='vertical',label='$\\zeta$/f')\n",
    "    plt.subplot(3,1,2,sharex=ax)\n",
    "    plt.pcolor(t,zgrid,div,vmin=-2,vmax=2)\n",
    "    plt.colorbar(orientation='vertical',label='$\\delta$/f')\n",
    "    plt.subplot(3,1,3,sharex=ax)\n",
    "    plt.pcolor(t,zgrid,strain,vmin=-2,vmax=2)\n",
    "    plt.colorbar(orientation='vertical',label='$\\sigma$/f')\n",
    "    fig = plt.gcf()\n",
    "    fig.autofmt_xdate()"
   ]
  },
  {
   "cell_type": "code",
   "execution_count": 63,
   "metadata": {},
   "outputs": [
    {
     "data": {
      "text/plain": [
       "(20, 112)"
      ]
     },
     "execution_count": 63,
     "metadata": {},
     "output_type": "execute_result"
    }
   ],
   "source": [
    "np.shape(u0z)"
   ]
  },
  {
   "cell_type": "code",
   "execution_count": 78,
   "metadata": {},
   "outputs": [],
   "source": [
    "t = np.arange('2022-10-09T12:00:00', 'now',15, dtype='datetime64[m]')\n",
    "triangle_ind = 6\n",
    "zgrid = np.arange(-4,-50,-2)\n",
    "zgrid = np.delete(zgrid,[2,3,6])\n",
    "u0z, v0z, uxz, vxz, uyz, vyz = do_fit_all_depths(zgrid,triangle_ind)\n",
    "tind = np.flatnonzero(~np.isnan(u0z[0,:]))\n",
    "u0z=u0z[:,tind]\n",
    "v0z=v0z[:,tind]\n",
    "uxz=uxz[:,tind]\n",
    "vxz=vxz[:,tind]\n",
    "uyz=uyz[:,tind]\n",
    "vyz=vyz[:,tind]\n",
    "t=t[tind]\n",
    "\n",
    "zeta = (uyz-vxz)/f\n",
    "div = (uxz+vyz)/f\n",
    "strain = (uyz+vxz)/f\n",
    "plot_fit_UV(t, zgrid, u0z, v0z,triangle_ind)\n",
    "plot_fit_div_zeta(t, zgrid, zeta, div, strain,triangle_ind)\n",
    "\n",
    "outfile = '../data/processed/vorticity_fits/triangle_' + str(triangle_ind) + '.npz'\n",
    "np.savez(outfile, t=t, zgrid=zgrid, u0z=u0z, v0z=v0z, uxz=uxz, vxz=vxz, uyz=uyz, vyz=vyz, zeta=zeta, div=div, strain=strain)"
   ]
  },
  {
   "cell_type": "code",
   "execution_count": null,
   "metadata": {},
   "outputs": [],
   "source": []
  },
  {
   "cell_type": "code",
   "execution_count": 55,
   "metadata": {},
   "outputs": [
    {
     "data": {
      "text/plain": [
       "<matplotlib.colorbar.Colorbar at 0x7f4abdee2b50>"
      ]
     },
     "execution_count": 55,
     "metadata": {},
     "output_type": "execute_result"
    }
   ],
   "source": [
    "plt.figure()\n",
    "plt.scatter(zeta,np.abs(strain),s=1,c=div,vmin=-2,vmax=2)\n",
    "plt.title('Triangle \\\"' +str(triangle_ind) + '\\\"')\n",
    "plt.colorbar()"
   ]
  },
  {
   "cell_type": "code",
   "execution_count": null,
   "metadata": {},
   "outputs": [],
   "source": [
    "dsafsdag"
   ]
  },
  {
   "cell_type": "code",
   "execution_count": 84,
   "metadata": {},
   "outputs": [],
   "source": [
    "zeta1 =[]\n",
    "div1=[]\n",
    "strain1=[]\n",
    "for triangle_ind in [6]:\n",
    "    outfile = '../data/processed/vorticity_fits/triangle_' + str(triangle_ind) + '.npz'\n",
    "    file_contents = np.load(outfile)\n",
    "    zeta1 = np.append(zeta1,file_contents['zeta'])\n",
    "    div1 = np.append(div1,file_contents['div'])\n",
    "    strain1 = np.append(strain1,file_contents['strain'])\n",
    "    #div = (uxz+vyz)/f\n",
    "    #strain = (uyz+vxz)/f\n"
   ]
  },
  {
   "cell_type": "code",
   "execution_count": 85,
   "metadata": {},
   "outputs": [
    {
     "name": "stderr",
     "output_type": "stream",
     "text": [
      "/tmp/ipykernel_622/2351664915.py:12: RuntimeWarning: divide by zero encountered in log10\n",
      "  plt.pcolor(x_bins,y_bins,np.log10(ret.statistic.T))\n"
     ]
    },
    {
     "data": {
      "text/plain": [
       "<matplotlib.colorbar.Colorbar at 0x7f4ab639d4c0>"
      ]
     },
     "execution_count": 85,
     "metadata": {},
     "output_type": "execute_result"
    }
   ],
   "source": [
    "# Do a binned vorticity-strain plot\n",
    "\n",
    "x_bins = np.linspace(-4, 4, 80)\n",
    "y_bins = np.linspace(0, 4, 40)\n",
    "# for PDF\n",
    "ret = binned_statistic_2d(zeta1.flatten(), np.abs(strain1.flatten()), np.ones(np.shape(div1)).flatten(), statistic=np.sum, bins=[x_bins, y_bins])\n",
    "#for bin avg\n",
    "#ret = binned_statistic_2d(zeta1.flatten(), np.abs(strain1.flatten()), div1.flatten(), statistic=np.mean, bins=[x_bins, y_bins])\n",
    "\n",
    "plt.figure(figsize=(12, 4))\n",
    "#plt.pcolor(x_bins,y_bins,ret.statistic.T,vmin=-2,vmax=2)\n",
    "plt.pcolor(x_bins,y_bins,np.log10(ret.statistic.T))\n",
    "plt.colorbar()"
   ]
  },
  {
   "cell_type": "code",
   "execution_count": null,
   "metadata": {},
   "outputs": [],
   "source": [
    "import numpy as np\n",
    "outfile = '../data/processed/vorticity_fits/triangle_' + str(0) + '.npz'\n",
    "foo = np.load(outfile)"
   ]
  },
  {
   "cell_type": "code",
   "execution_count": null,
   "metadata": {},
   "outputs": [],
   "source": [
    "foo=file_contents['zeta']"
   ]
  },
  {
   "cell_type": "code",
   "execution_count": null,
   "metadata": {},
   "outputs": [],
   "source": [
    "foo"
   ]
  },
  {
   "cell_type": "code",
   "execution_count": null,
   "metadata": {},
   "outputs": [],
   "source": [
    "foo2=np.append(foo,foo)"
   ]
  },
  {
   "cell_type": "code",
   "execution_count": null,
   "metadata": {},
   "outputs": [],
   "source": [
    "np.shape(zeta1)"
   ]
  },
  {
   "cell_type": "code",
   "execution_count": null,
   "metadata": {},
   "outputs": [],
   "source": [
    "%whos"
   ]
  },
  {
   "cell_type": "markdown",
   "metadata": {},
   "source": [
    "Consider the tapered and weighted least-squares solution (Equation 1.125 in the course notes),\n",
    "\\begin{equation}\n",
    "  \\tilde{\\mathbf{x}}=\\left(\\mathbf{E}^T\\mathbf{W}^{-1}\\mathbf{E}+\\mathbf{S}^{-1}\\right)^{-1}\\left(\\mathbf{E}^T\\mathbf{W}^{-1}\\mathbf{y}+\\mathbf{S}^{-1}\\mathbf{x_0}\\right).\n",
    " \\label{TW_LS}\n",
    "\\end{equation}\n",
    "Recall that $\\mathbf{W}^{-1}$ is a ''weight matrix'', $\\mathbf{S}^{-1}$ is a ''taper matrix'' (which can be thought of as another weight matrix, as we shall see soon), and $\\mathbf{x_0}$ is the first guess solution.  Just to simplify the notation and discussion a little bit, we will assume that $\\mathbf{x_0}=0$, which would be the case if we know or think that the expectation value $<\\mathbf{x}>=0$.  In that case\n",
    "\\begin{equation}\n",
    "  \\tilde{\\mathbf{x}}=\\left(\\mathbf{E}^T\\mathbf{W}^{-1}\\mathbf{E}+\\mathbf{S}^{-1}\\right)^{-1}\\mathbf{E}^T\\mathbf{W}^{-1}\\mathbf{y}.\n",
    " \\label{TW_LS2}\n",
    "\\end{equation}\n",
    "\n",
    "Again assuming $\\mathbf{x_0}=0$, the cost function that led to Equation \\ref{TW_LS2} was (Equation 1.193 in the notes):\n",
    "\\begin{equation}\n",
    "  J=\\mathbf{n}^T \\mathbf{W}^{-1}\\mathbf{n}+\\mathbf{x}^T\\mathbf{S}^{-1}\\mathbf{x}.\n",
    " \\label{J_TW_LS2}\n",
    "\\end{equation}\n",
    "\n",
    "Like most complicated equations, we can get a better feel for what the equation means by considering some special cases.  A common special case to consider in matrix problems is one where some matrices are diagonal and square, because these matrices can easily be inverted.  If $\\mathbf{W}=a \\mathbf{I}$, then $\\mathbf{W}^{-1}=\\frac{1}{a} \\mathbf{I}$. So, let's try letting $\\mathbf{W}^{-1}=\\frac{1}{\\sigma_n^2} \\mathbf{I}$ and letting $\\mathbf{S}^{-1}=\\frac{1}{\\Delta_x^2} \\mathbf{I}$.  Then, the cost function in Equation \\ref{J_TW_LS2} becomes\n",
    "\\begin{equation}\n",
    "  J=\\frac{1}{\\sigma_n^2}\\mathbf{n}^T \\mathbf{n}+\\frac{1}{\\Delta_x^2}\\mathbf{x}^T \\mathbf{x},\n",
    " \\label{J_TW_LS2_simple}\n",
    "\\end{equation}\n",
    "and Equation \\ref{TW_LS2} becomes:\n",
    "\\begin{equation}\n",
    "  \\tilde{\\mathbf{x}}=\\left(\\frac{1}{\\sigma_n^2}\\mathbf{E}^T \\mathbf{E}+\\frac{1}{\\Delta_x^2}\\mathbf{I}\\right)^{-1}\\frac{1}{\\sigma_n^2}\\mathbf{E}^T\\ \\mathbf{y},\n",
    "  \\nonumber\n",
    "\\end{equation}\n",
    "or,\n",
    "\\begin{equation}\n",
    "  \\tilde{\\mathbf{x}}=\\left(\\mathbf{E}^T\\mathbf{E}+\\frac{\\sigma_n^2}{\\Delta_x^2}\\mathbf{I}\\right)^{-1}\\mathbf{E}^T \\mathbf{y}.\n",
    " \\label{TW_LS2_simple}\n",
    "\\end{equation}\n",
    "If $\\sigma_n^2$ is the expected noise variance and $\\Delta_x^2$ is the expected solution variance, then we can interpret Equation \\ref{J_TW_LS2_simple} as a cost function where we equally penalize (in a normalized sense) the estimated noise variance and the estimated solution variance.  We are simultaneously minimizing the model-data misfit and the solution variance.\n",
    "\n",
    "\n",
    "\n",
    "\n",
    "\n",
    "The tapering parameter $\\sigma_n^2/\\Delta_x^2$ can be considered to be an inverse signal-to-noise ratio (SNR), expressing our expectation about the relative variance of the measurement noise and the solution.  In the limit that the tapering parameter is very small (meaning the SNR is high), Equation \\ref{TW_LS2_simple} is just the ordinary least squares solution.  If the tapering parameter is small, the tapered least squares solution could also be viewed as a mere computational trick-- by adding a small value to the diagonal of $\\mathbf{E}^T\\mathbf{E}$, we have guaranteed that the inverse $\\left(\\mathbf{E}^T\\mathbf{E}+\\frac{\\sigma_n^2}{\\Delta_x^2}\\mathbf{I}\\right)^{-1}$ exists.\n"
   ]
  },
  {
   "cell_type": "code",
   "execution_count": null,
   "metadata": {},
   "outputs": [],
   "source": []
  },
  {
   "cell_type": "code",
   "execution_count": null,
   "metadata": {},
   "outputs": [],
   "source": []
  }
 ],
 "metadata": {
  "kernelspec": {
   "display_name": "Python 3 (ipykernel)",
   "language": "python",
   "name": "python3"
  },
  "language_info": {
   "codemirror_mode": {
    "name": "ipython",
    "version": 3
   },
   "file_extension": ".py",
   "mimetype": "text/x-python",
   "name": "python",
   "nbconvert_exporter": "python",
   "pygments_lexer": "ipython3",
   "version": "3.9.7"
  }
 },
 "nbformat": 4,
 "nbformat_minor": 4
}
