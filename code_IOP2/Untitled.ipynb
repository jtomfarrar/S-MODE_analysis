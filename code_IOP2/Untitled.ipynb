{
 "cells": [
  {
   "cell_type": "code",
   "execution_count": 1,
   "id": "6d1ea217-bf32-41c2-8453-e08d3342ee53",
   "metadata": {},
   "outputs": [],
   "source": [
    "## Plot SWOT nadir altimeter data"
   ]
  },
  {
   "cell_type": "code",
   "execution_count": 2,
   "id": "2a1306d7-01e4-4362-b11a-7c1979a4f793",
   "metadata": {},
   "outputs": [],
   "source": [
    "import xarray as xr\n",
    "import numpy as np\n",
    "import matplotlib.pyplot as plt\n",
    "import matplotlib\n",
    "\n",
    "import functions  # requires functions.py from this directory\n",
    "import cartopy.crs as ccrs                   # import projections\n",
    "import cartopy\n",
    "import gsw\n"
   ]
  },
  {
   "cell_type": "code",
   "execution_count": 3,
   "id": "49c5535d-2d20-4b21-9b65-4f34ff6832b8",
   "metadata": {},
   "outputs": [],
   "source": [
    "plt.close('all')"
   ]
  },
  {
   "cell_type": "code",
   "execution_count": 4,
   "id": "c427fa49-14ee-4923-9766-144292a51123",
   "metadata": {},
   "outputs": [],
   "source": [
    "# %matplotlib inline  \n",
    "%matplotlib qt5  \n",
    "plt.rcParams['figure.figsize'] = (5,4)\n",
    "plt.rcParams['figure.dpi'] = 200\n",
    "plt.rcParams['savefig.dpi'] = 400\n",
    "plt.close('all')\n",
    "\n",
    "__figdir__ = '../plots/' + 'SSH_plots/'\n",
    "savefig_args = {'bbox_inches':'tight', 'pad_inches':0.2}\n",
    "plotfiletype='png'"
   ]
  },
  {
   "cell_type": "code",
   "execution_count": 5,
   "id": "ea8dacd7-f51f-45d6-82ed-f23d9a9d6f3a",
   "metadata": {},
   "outputs": [],
   "source": [
    "savefig = True\n",
    "zoom = True\n",
    "if zoom:\n",
    "    xmin, xmax = (-126.5,-121)\n",
    "    ymin, ymax = (35.5,38.5)\n",
    "    levels = np.linspace(-.1,.2,31)\n",
    "else:\n",
    "    xmin, xmax = (-131,-121)\n",
    "    ymin, ymax = (34, 43)\n",
    "    levels = np.linspace(-.3,.3,41)"
   ]
  },
  {
   "cell_type": "code",
   "execution_count": 6,
   "id": "e7c5b359-2808-4005-9953-c19d364f4abe",
   "metadata": {},
   "outputs": [],
   "source": [
    "def plot_SSH_map(tind):\n",
    "    plt.clf()\n",
    "    ax = plt.axes(projection = ccrs.PlateCarree(central_longitude=200))  # Orthographic\n",
    "    extent = [xmin, xmax, ymin, ymax]\n",
    "    day_str = np.datetime_as_string(ds.time[tind], unit='D')\n",
    "    ax.set_extent(extent, crs=ccrs.PlateCarree())\n",
    "    ax.set_title('Sea level anomaly (DUACS), '+ day_str,size = 10.)\n",
    "\n",
    "    #plt.set_cmap(cmap=plt.get_cmap('nipy_spectral'))\n",
    "    plt.set_cmap(cmap=plt.get_cmap('turbo'))\n",
    "    gl = ax.gridlines(draw_labels=True, dms=True, x_inline=False, y_inline=False, alpha=0.5, linestyle='--')\n",
    "    gl.top_labels = False\n",
    "    gl.right_labels = False\n",
    "    #gl.xlocator = matplotlib.ticker.MaxNLocator(10)\n",
    "    #gl.xlocator = matplotlib.ticker.AutoLocator\n",
    "    # gl.xlocator = matplotlib.ticker.FixedLocator(np.arange(0, 360 ,30))\n",
    "\n",
    "    cs = ax.contourf(ds.longitude,ds.latitude,np.squeeze(ds.sla.isel(time=tind)), levels, extend='both', transform=ccrs.PlateCarree())\n",
    "    # cs = ax.pcolormesh(ds.longitude,ds.latitude,np.squeeze(ds.sla), vmin=levels[0], vmax=levels[-1], transform=ccrs.PlateCarree())\n",
    "    # cb = plt.colorbar(cs,ax=ax,shrink=.8,pad=.05)\n",
    "    cb = plt.colorbar(cs,fraction = 0.022,extend='both')\n",
    "    cb.set_label('SLA [m]',fontsize = 10)\n",
    "    ax.coastlines()\n",
    "    ax.add_feature(cartopy.feature.LAND, zorder=3, facecolor=[.6,.6,.6], edgecolor='black')\n",
    "\n",
    "    functions.plot_ops_area(ax,transform=ccrs.PlateCarree(),color='w')\n",
    "\n",
    "    # Add a 10 km scale bar\n",
    "    km_per_deg_lat=gsw.geostrophy.distance((121.7,121.7), (37,38))/1000\n",
    "    deg_lat_equal_10km=10/km_per_deg_lat\n",
    "    x0 = -122 \n",
    "    y0 = 37\n",
    "    ax.plot(x0+np.asarray([0, 0]),y0+np.asarray([0.,deg_lat_equal_10km[0]]),transform=ccrs.PlateCarree(),color='k',zorder=3)\n",
    "    ax.text(x0+1/60, y0+.15/60, '10 km', fontsize=6,transform=ccrs.PlateCarree())\n",
    "\n",
    "    u = np.squeeze(ds.ugos.isel(time=tind)) #dtype=object\n",
    "    v = np.squeeze(ds.vgos.isel(time=tind))\n",
    "    ax.quiver(ds.longitude.values,ds.latitude.values, u.values, v.values,  scale=5, transform=ccrs.PlateCarree())\n",
    "    x0 = -122.5 \n",
    "    y0 = 38.5\n",
    "    ax.quiver(np.array([x0]), np.array([y0]), -np.array([0.25/np.sqrt(2)],), np.array([0.25/np.sqrt(2)]), scale=3, transform=ccrs.PlateCarree(),zorder=3)\n",
    "    ax.text(x0+3/60, y0+.15/60, '0.25 m/s', fontsize=6,transform=ccrs.PlateCarree())\n",
    "\n",
    "    if savefig:\n",
    "        plt.savefig(__figdir__+'SLA'+str(tind)+'.'+plotfiletype,**savefig_args)"
   ]
  },
  {
   "cell_type": "code",
   "execution_count": 7,
   "id": "84575418-2543-40d1-867d-5a48b8fc9ec0",
   "metadata": {},
   "outputs": [],
   "source": [
    "# url = 'https://nrt.cmems-du.eu/thredds/dodsC/dataset-duacs-nrt-global-merged-allsat-phy-l4'\n",
    "file = '../data/external/nrt_global_swonc_phy_l3_1hz_20230330_20230402.nc'\n",
    "ds = xr.open_dataset(file)"
   ]
  },
  {
   "cell_type": "code",
   "execution_count": 17,
   "id": "e4c0d73a-67f4-47d2-a404-9f21701e50c2",
   "metadata": {},
   "outputs": [],
   "source": [
    "plt.figure()\n",
    "vmin = levels[0]\n",
    "vmax = levels[-1]\n",
    "plt.set_cmap(cmap=plt.get_cmap('turbo'))\n",
    "cs = plt.scatter(ds.longitude,ds.latitude,s=None,c=ds.sla_unfiltered,vmin=levels[0],vmax=levels[-1])\n",
    "cb = plt.colorbar(cs,fraction = 0.022,extend='both')"
   ]
  },
  {
   "cell_type": "code",
   "execution_count": null,
   "id": "6150d04c-aeeb-40e0-a454-a9acb5988e21",
   "metadata": {},
   "outputs": [],
   "source": []
  }
 ],
 "metadata": {
  "kernelspec": {
   "display_name": "Python 3 (ipykernel)",
   "language": "python",
   "name": "python3"
  },
  "language_info": {
   "codemirror_mode": {
    "name": "ipython",
    "version": 3
   },
   "file_extension": ".py",
   "mimetype": "text/x-python",
   "name": "python",
   "nbconvert_exporter": "python",
   "pygments_lexer": "ipython3",
   "version": "3.9.7"
  }
 },
 "nbformat": 4,
 "nbformat_minor": 5
}
