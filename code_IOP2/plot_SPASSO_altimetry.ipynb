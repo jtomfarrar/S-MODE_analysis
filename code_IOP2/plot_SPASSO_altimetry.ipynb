{
 "cells": [
  {
   "cell_type": "code",
   "execution_count": 1,
   "id": "2140252a-dde1-41db-b959-823e6c7f34b9",
   "metadata": {},
   "outputs": [],
   "source": [
    "## Plot SPASSO data products\n",
    "\n"
   ]
  },
  {
   "cell_type": "code",
   "execution_count": 2,
   "id": "ae35f4ca-fbdb-43ec-88ae-59b165cc17c1",
   "metadata": {},
   "outputs": [],
   "source": [
    "import xarray as xr\n",
    "import numpy as np\n",
    "import matplotlib.pyplot as plt\n",
    "import matplotlib\n",
    "\n",
    "import functions  # requires functions.py from this directory\n",
    "import cartopy.crs as ccrs                   # import projections\n",
    "import cartopy\n",
    "import gsw"
   ]
  },
  {
   "cell_type": "code",
   "execution_count": 3,
   "id": "26141934-4344-43cb-90df-3433aef07f28",
   "metadata": {},
   "outputs": [],
   "source": [
    "plt.close('all')"
   ]
  },
  {
   "cell_type": "code",
   "execution_count": 4,
   "id": "b8c89e17-9347-4170-9690-efd7cc440511",
   "metadata": {},
   "outputs": [],
   "source": [
    "# %matplotlib inline  \n",
    "%matplotlib qt5  \n",
    "plt.rcParams['figure.figsize'] = (5,4)\n",
    "plt.rcParams['figure.dpi'] = 200\n",
    "plt.rcParams['savefig.dpi'] = 400\n",
    "plt.close('all')\n",
    "\n",
    "__figdir__ = '../plots/' + 'SSH_plots/'\n",
    "savefig_args = {'bbox_inches':'tight', 'pad_inches':0.2}\n",
    "plotfiletype='png'"
   ]
  },
  {
   "cell_type": "code",
   "execution_count": 5,
   "id": "4eae7b51-cf49-4cdf-b61b-a115652981b7",
   "metadata": {},
   "outputs": [],
   "source": [
    "savefig = True\n",
    "zoom = True\n",
    "if zoom:\n",
    "    xmin, xmax = (-126.5,-121)\n",
    "    ymin, ymax = (35.5,38.5)\n",
    "    levels = np.linspace(-.1,.2,31)\n",
    "else:\n",
    "    xmin, xmax = (-131,-121)\n",
    "    ymin, ymax = (34, 43)\n",
    "    levels = np.linspace(-.3,.3,41)"
   ]
  },
  {
   "cell_type": "code",
   "execution_count": 6,
   "id": "8b11704a-b028-4288-b3f5-0659c0a91598",
   "metadata": {},
   "outputs": [],
   "source": [
    "def plot_SSH_map(tind):\n",
    "    plt.clf()\n",
    "    ax = plt.axes(projection = ccrs.PlateCarree(central_longitude=200))  # Orthographic\n",
    "    extent = [xmin, xmax, ymin, ymax]\n",
    "    day_str = np.datetime_as_string(ds.time[tind], unit='D')\n",
    "    ax.set_extent(extent, crs=ccrs.PlateCarree())\n",
    "    ax.set_title('Sea level anomaly (DUACS), '+ day_str,size = 10.)\n",
    "\n",
    "    #plt.set_cmap(cmap=plt.get_cmap('nipy_spectral'))\n",
    "    plt.set_cmap(cmap=plt.get_cmap('turbo'))\n",
    "    gl = ax.gridlines(draw_labels=True, dms=True, x_inline=False, y_inline=False, alpha=0.5, linestyle='--')\n",
    "    gl.top_labels = False\n",
    "    gl.right_labels = False\n",
    "    #gl.xlocator = matplotlib.ticker.MaxNLocator(10)\n",
    "    #gl.xlocator = matplotlib.ticker.AutoLocator\n",
    "    # gl.xlocator = matplotlib.ticker.FixedLocator(np.arange(0, 360 ,30))\n",
    "\n",
    "    cs = ax.contourf(ds.longitude,ds.latitude,np.squeeze(ds.sla.isel(time=tind)), levels, extend='both', transform=ccrs.PlateCarree())\n",
    "    # cs = ax.pcolormesh(ds.longitude,ds.latitude,np.squeeze(ds.sla), vmin=levels[0], vmax=levels[-1], transform=ccrs.PlateCarree())\n",
    "    # cb = plt.colorbar(cs,ax=ax,shrink=.8,pad=.05)\n",
    "    cb = plt.colorbar(cs,fraction = 0.022,extend='both')\n",
    "    cb.set_label('SLA [m]',fontsize = 10)\n",
    "    ax.coastlines()\n",
    "    ax.add_feature(cartopy.feature.LAND, zorder=3, facecolor=[.6,.6,.6], edgecolor='black')\n",
    "\n",
    "    functions.plot_ops_area_IOP2(ax,transform=ccrs.PlateCarree(),color='w')\n",
    "\n",
    "    # Add a 10 km scale bar\n",
    "    km_per_deg_lat=gsw.geostrophy.distance((121.7,121.7), (37,38))/1000\n",
    "    deg_lat_equal_10km=10/km_per_deg_lat\n",
    "    x0 = -122 \n",
    "    y0 = 37\n",
    "    ax.plot(x0+np.asarray([0, 0]),y0+np.asarray([0.,deg_lat_equal_10km[0]]),transform=ccrs.PlateCarree(),color='k',zorder=3)\n",
    "    ax.text(x0+1/60, y0+.15/60, '10 km', fontsize=6,transform=ccrs.PlateCarree())\n",
    "\n",
    "    u = np.squeeze(ds.ugos.isel(time=tind)) #dtype=object\n",
    "    v = np.squeeze(ds.vgos.isel(time=tind))\n",
    "    ax.quiver(ds.longitude.values,ds.latitude.values, u.values, v.values,  scale=5, transform=ccrs.PlateCarree())\n",
    "    x0 = -122.5 \n",
    "    y0 = 38.5\n",
    "    ax.quiver(np.array([x0]), np.array([y0]), -np.array([0.25/np.sqrt(2)],), np.array([0.25/np.sqrt(2)]), scale=3, transform=ccrs.PlateCarree(),zorder=3)\n",
    "    ax.text(x0+3/60, y0+.15/60, '0.25 m/s', fontsize=6,transform=ccrs.PlateCarree())\n",
    "\n",
    "    if savefig:\n",
    "        plt.savefig(__figdir__+'SLA'+str(tind)+'.'+plotfiletype,**savefig_args)"
   ]
  },
  {
   "cell_type": "code",
   "execution_count": 7,
   "id": "e87c7feb-c930-4f8b-8d49-64c0a467c24b",
   "metadata": {},
   "outputs": [],
   "source": [
    "# url = 'https://nrt.cmems-du.eu/thredds/dodsC/dataset-duacs-nrt-global-merged-allsat-phy-l4'\n",
    "file = '../data/external/20230401_Copernicus_PHY.nc'\n",
    "ds = xr.open_dataset(file)"
   ]
  },
  {
   "cell_type": "code",
   "execution_count": 8,
   "id": "ce6df47b-0bf9-4f55-bb31-b5d7220d69e2",
   "metadata": {},
   "outputs": [
    {
     "name": "stderr",
     "output_type": "stream",
     "text": [
      "/home/jtomf/miniconda3/lib/python3.9/site-packages/cartopy/crs.py:245: ShapelyDeprecationWarning: __len__ for multi-part geometries is deprecated and will be removed in Shapely 2.0. Check the length of the `geoms` property instead to get the  number of parts of a multi-part geometry.\n",
      "  if len(multi_line_string) > 1:\n",
      "/home/jtomf/miniconda3/lib/python3.9/site-packages/cartopy/crs.py:256: ShapelyDeprecationWarning: __len__ for multi-part geometries is deprecated and will be removed in Shapely 2.0. Check the length of the `geoms` property instead to get the  number of parts of a multi-part geometry.\n",
      "  line_strings = list(multi_line_string)\n",
      "/home/jtomf/miniconda3/lib/python3.9/site-packages/cartopy/crs.py:256: ShapelyDeprecationWarning: Iteration over multi-part geometries is deprecated and will be removed in Shapely 2.0. Use the `geoms` property to access the constituent parts of a multi-part geometry.\n",
      "  line_strings = list(multi_line_string)\n",
      "/home/jtomf/miniconda3/lib/python3.9/site-packages/cartopy/crs.py:297: ShapelyDeprecationWarning: Iteration over multi-part geometries is deprecated and will be removed in Shapely 2.0. Use the `geoms` property to access the constituent parts of a multi-part geometry.\n",
      "  for line in multi_line_string:\n",
      "/home/jtomf/miniconda3/lib/python3.9/site-packages/cartopy/crs.py:364: ShapelyDeprecationWarning: __len__ for multi-part geometries is deprecated and will be removed in Shapely 2.0. Check the length of the `geoms` property instead to get the  number of parts of a multi-part geometry.\n",
      "  if len(p_mline) > 0:\n",
      "/home/jtomf/miniconda3/lib/python3.9/site-packages/cartopy/crs.py:402: ShapelyDeprecationWarning: Iteration over multi-part geometries is deprecated and will be removed in Shapely 2.0. Use the `geoms` property to access the constituent parts of a multi-part geometry.\n",
      "  line_strings.extend(multi_line_string)\n",
      "/home/jtomf/miniconda3/lib/python3.9/site-packages/cartopy/crs.py:402: ShapelyDeprecationWarning: __len__ for multi-part geometries is deprecated and will be removed in Shapely 2.0. Check the length of the `geoms` property instead to get the  number of parts of a multi-part geometry.\n",
      "  line_strings.extend(multi_line_string)\n",
      "/home/jtomf/miniconda3/lib/python3.9/site-packages/cartopy/crs.py:245: ShapelyDeprecationWarning: __len__ for multi-part geometries is deprecated and will be removed in Shapely 2.0. Check the length of the `geoms` property instead to get the  number of parts of a multi-part geometry.\n",
      "  if len(multi_line_string) > 1:\n",
      "/home/jtomf/miniconda3/lib/python3.9/site-packages/cartopy/crs.py:297: ShapelyDeprecationWarning: Iteration over multi-part geometries is deprecated and will be removed in Shapely 2.0. Use the `geoms` property to access the constituent parts of a multi-part geometry.\n",
      "  for line in multi_line_string:\n",
      "/home/jtomf/miniconda3/lib/python3.9/site-packages/cartopy/crs.py:364: ShapelyDeprecationWarning: __len__ for multi-part geometries is deprecated and will be removed in Shapely 2.0. Check the length of the `geoms` property instead to get the  number of parts of a multi-part geometry.\n",
      "  if len(p_mline) > 0:\n",
      "/home/jtomf/miniconda3/lib/python3.9/site-packages/cartopy/crs.py:256: ShapelyDeprecationWarning: __len__ for multi-part geometries is deprecated and will be removed in Shapely 2.0. Check the length of the `geoms` property instead to get the  number of parts of a multi-part geometry.\n",
      "  line_strings = list(multi_line_string)\n",
      "/home/jtomf/miniconda3/lib/python3.9/site-packages/cartopy/crs.py:256: ShapelyDeprecationWarning: Iteration over multi-part geometries is deprecated and will be removed in Shapely 2.0. Use the `geoms` property to access the constituent parts of a multi-part geometry.\n",
      "  line_strings = list(multi_line_string)\n",
      "/home/jtomf/miniconda3/lib/python3.9/site-packages/cartopy/crs.py:402: ShapelyDeprecationWarning: Iteration over multi-part geometries is deprecated and will be removed in Shapely 2.0. Use the `geoms` property to access the constituent parts of a multi-part geometry.\n",
      "  line_strings.extend(multi_line_string)\n",
      "/home/jtomf/miniconda3/lib/python3.9/site-packages/cartopy/crs.py:402: ShapelyDeprecationWarning: __len__ for multi-part geometries is deprecated and will be removed in Shapely 2.0. Check the length of the `geoms` property instead to get the  number of parts of a multi-part geometry.\n",
      "  line_strings.extend(multi_line_string)\n"
     ]
    }
   ],
   "source": [
    "fig = plt.figure()\n",
    "tind=-1\n",
    "plot_SSH_map(tind)\n",
    "ax = plt.gca()  \n",
    "functions.plot_SWOT(ax)"
   ]
  },
  {
   "cell_type": "code",
   "execution_count": 9,
   "id": "deb30b85-21fc-4394-baa3-eb504de2042c",
   "metadata": {},
   "outputs": [],
   "source": [
    "# plt.close('all')\n"
   ]
  },
  {
   "cell_type": "code",
   "execution_count": null,
   "id": "305619f6-77ba-4688-af4d-34adafa103f1",
   "metadata": {},
   "outputs": [],
   "source": [
    "\n"
   ]
  },
  {
   "cell_type": "code",
   "execution_count": 10,
   "id": "0740c3e7-90d5-4e49-a326-45e21c6e4fb0",
   "metadata": {},
   "outputs": [],
   "source": [
    "# url = 'https://nrt.cmems-du.eu/thredds/dodsC/dataset-duacs-nrt-global-merged-allsat-phy-l4'\n",
    "file1 = '../data/external/nrt_global_swonc_phy_l3_1hz_20230330_20230402.nc'\n",
    "file2 = '../data/external/nrt_global_swonc_phy_l3_1hz_20230329_20230402.nc'\n",
    "ds1 = xr.open_dataset(file1)\n",
    "ds2 = xr.open_dataset(file2)\n",
    "sla = ds1.sla_unfiltered"
   ]
  },
  {
   "cell_type": "code",
   "execution_count": 11,
   "id": "37371dbc-c405-4ba0-ac48-cd1215a12634",
   "metadata": {},
   "outputs": [
    {
     "name": "stderr",
     "output_type": "stream",
     "text": [
      "/home/jtomf/miniconda3/lib/python3.9/site-packages/cartopy/crs.py:245: ShapelyDeprecationWarning: __len__ for multi-part geometries is deprecated and will be removed in Shapely 2.0. Check the length of the `geoms` property instead to get the  number of parts of a multi-part geometry.\n",
      "  if len(multi_line_string) > 1:\n",
      "/home/jtomf/miniconda3/lib/python3.9/site-packages/cartopy/crs.py:297: ShapelyDeprecationWarning: Iteration over multi-part geometries is deprecated and will be removed in Shapely 2.0. Use the `geoms` property to access the constituent parts of a multi-part geometry.\n",
      "  for line in multi_line_string:\n",
      "/home/jtomf/miniconda3/lib/python3.9/site-packages/cartopy/crs.py:364: ShapelyDeprecationWarning: __len__ for multi-part geometries is deprecated and will be removed in Shapely 2.0. Check the length of the `geoms` property instead to get the  number of parts of a multi-part geometry.\n",
      "  if len(p_mline) > 0:\n"
     ]
    }
   ],
   "source": [
    "\n",
    "# plt.set_cmap(cmap=plt.get_cmap('turbo'))\n",
    "cs = plt.scatter(ds1.longitude,ds1.latitude,s=10,c=ds1.sla_unfiltered,vmin=levels[0],vmax=levels[-1], transform=ccrs.PlateCarree())\n",
    "# cb = plt.colorbar(cs,fraction = 0.022,extend='both')"
   ]
  },
  {
   "cell_type": "code",
   "execution_count": 12,
   "id": "91ee7843-4e3b-4945-852b-7fd7c620daea",
   "metadata": {},
   "outputs": [],
   "source": [
    "if savefig:\n",
    "    plt.savefig(__figdir__+'SLA_SWOT_nadir'+str(tind)+'.'+plotfiletype,**savefig_args)"
   ]
  },
  {
   "cell_type": "code",
   "execution_count": null,
   "id": "aed53ba2-cd82-444e-8c3d-5c379a40c893",
   "metadata": {},
   "outputs": [],
   "source": []
  }
 ],
 "metadata": {
  "kernelspec": {
   "display_name": "Python 3 (ipykernel)",
   "language": "python",
   "name": "python3"
  },
  "language_info": {
   "codemirror_mode": {
    "name": "ipython",
    "version": 3
   },
   "file_extension": ".py",
   "mimetype": "text/x-python",
   "name": "python",
   "nbconvert_exporter": "python",
   "pygments_lexer": "ipython3",
   "version": "3.9.7"
  }
 },
 "nbformat": 4,
 "nbformat_minor": 5
}
