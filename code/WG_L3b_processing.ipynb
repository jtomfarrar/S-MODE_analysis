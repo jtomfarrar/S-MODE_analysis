{
 "cells": [
  {
   "cell_type": "markdown",
   "id": "3760be3c-eef5-4301-b877-9ed907d9b5bf",
   "metadata": {},
   "source": [
    "# Wave Glider Level 3b processor\n",
    "## smooth, subsample, save subsets; primarily met and vel\n"
   ]
  },
  {
   "cell_type": "markdown",
   "id": "e3aea5ab-3f8c-45dd-9413-e358b3e1fd4f",
   "metadata": {},
   "source": [
    "## About Level 3a and Level 3b data\n",
    "\n",
    "Level 3a data: (L3a_all)\n",
    "- The only difference from Level 2 is that NaNs are removed by interpolation\n",
    "- This is a \"wave resolving\" data set with modest QC (removal/interpolation of gaps<1 sec)\n",
    "\n",
    "Level 3a subsets: (just interpolate gaps<1 sec and extract individual data sets)\n",
    "- Make a velocity subset (L3a_vel)\n",
    "- make a wave subset (L3a_wave)\n",
    "- make a met subset (L3a_met)\n",
    "\n",
    "Level 3b met data:\n",
    "- Same as Level 3a but variables are averaged to 1 min\n",
    "- 20 Hz variables are subsampled to 1 Hz time base\n",
    "- Maybe in the future, will want to subsample all variables to a 1 min time base\n",
    "- May not produce for all variables (eg, vechiles with met packages off)\n",
    "\n",
    "Level 3b velocity data:\n",
    "- Velocity data and averaged to 5 minutes\n",
    "\n",
    "## This notebook is for level 3b data\n",
    "1. Load L3a data files\n",
    "1. Do L3b processing (smooth, subsample, save subsets; primarily met and vel)\n",
    "\n"
   ]
  },
  {
   "cell_type": "code",
   "execution_count": 1,
   "id": "168551ef-eec3-456e-8587-3da4d507b69a",
   "metadata": {},
   "outputs": [],
   "source": [
    "import matplotlib.pyplot as plt\n",
    "import xarray as xr\n",
    "import numpy as np\n",
    "import matplotlib\n",
    "import datetime as dt\n",
    "################\n",
    "# This allows us to import Tom_tools\n",
    "import sys\n",
    "sys.path.append('../../Tom_tools/') # you may need to adjust this path\n",
    "# sys.path.append('../SWOT_IW_SSH/jtf/Tom_tools/') # you may need to adjust this path\n",
    "import Tom_tools_v1 as tt\n",
    "################"
   ]
  },
  {
   "cell_type": "code",
   "execution_count": 2,
   "id": "43d4bb8c-582b-4759-86d4-f772e036aa95",
   "metadata": {},
   "outputs": [],
   "source": [
    "# %matplotlib inline\n",
    "%matplotlib qt \n",
    "savefig = False # set to true to save plots as file\n",
    "plt.rcParams['figure.figsize'] = (5,4)\n",
    "plt.rcParams['figure.dpi'] = 100\n",
    "plt.rcParams['savefig.dpi'] = 400\n",
    "plt.close('all')\n",
    "plt.rcParams['axes.xmargin'] = 0\n",
    "from IPython.core.interactiveshell import InteractiveShell\n",
    "InteractiveShell.ast_node_interactivity = \"all\"\n",
    "\n",
    "__figdir__ = '../plots/WG_timeseries/'\n",
    "savefig_args = {'bbox_inches':'tight', 'pad_inches':0.2}\n",
    "plotfiletype='png'"
   ]
  },
  {
   "cell_type": "code",
   "execution_count": 9,
   "id": "06a914b2-461e-4719-8938-ab648e649dd4",
   "metadata": {},
   "outputs": [
    {
     "data": {
      "text/plain": [
       "\"\\n# Same as L2, but with small gaps filled\\nnew_file = path_out+WG+'_L3a.nc'\\n# Write 1 Hz data to netcdf file\\nnew_file = path_out+WG+'_L3a_1Hz_met.nc'\\n# Write 20 Hz data to netcdf file\\nnew_file = path_out+WG+'_L3a_20Hz_met.nc'\\n# Write Workhorse ADCP data to netcdf file\\nnew_file = path_out+WG+'_L3a_ADCP.nc'\\n# Write wave data to netcdf file\\nnew_file = path_out+WG+'_L3a_waves.nc'\\n\""
      ]
     },
     "execution_count": 9,
     "metadata": {},
     "output_type": "execute_result"
    }
   ],
   "source": [
    "# Names of L3a dataS\n",
    "'''\n",
    "# Same as L2, but with small gaps filled\n",
    "new_file = path_out+WG+'_L3a.nc'\n",
    "# Write 1 Hz data to netcdf file\n",
    "new_file = path_out+WG+'_L3a_1Hz_met.nc'\n",
    "# Write 20 Hz data to netcdf file\n",
    "new_file = path_out+WG+'_L3a_20Hz_met.nc'\n",
    "# Write Workhorse ADCP data to netcdf file\n",
    "new_file = path_out+WG+'_L3a_ADCP.nc'\n",
    "# Write wave data to netcdf file\n",
    "new_file = path_out+WG+'_L3a_waves.nc'\n",
    "'''\n"
   ]
  },
  {
   "cell_type": "code",
   "execution_count": 4,
   "id": "a14f0e5f-6dbf-4e4a-9889-1144c96b1e5f",
   "metadata": {},
   "outputs": [],
   "source": [
    "# path = '/mnt/e/SMODE_data/pilot/WG/L2/'\n",
    "path = '/mnt/d/SMODE_data/pilot/WG/L3a/'\n",
    "path_out = '/mnt/d/SMODE_data/pilot/WG/L3b/'\n",
    "\n",
    "WG = 'WHOI43'#'Kelvin'#'Stokes'#\n",
    "\n",
    "file =  WG+'_L3a.nc'\n",
    "# file_20Hz = 'SMODE_PFC_Wavegliders_'+WG+'_L3a_20Hz_met.nc'\n",
    "# file_1Hz = 'SMODE_PFC_Wavegliders_'+WG+'_L3a_1Hz_met.nc'\n",
    "# file_adcp = 'SMODE_PFC_Wavegliders_'+WG+'_L3a_ADCP.nc'"
   ]
  },
  {
   "cell_type": "code",
   "execution_count": 5,
   "id": "0279f9e9-c5d6-4b71-ae29-e01a99c22475",
   "metadata": {},
   "outputs": [
    {
     "name": "stdout",
     "output_type": "stream",
     "text": [
      "CPU times: user 371 ms, sys: 194 ms, total: 565 ms\n",
      "Wall time: 1.13 s\n"
     ]
    }
   ],
   "source": [
    "%%time\n",
    "ds = xr.open_dataset(path+file, engine = 'netcdf4', decode_times = True) #decode_times = False, "
   ]
  },
  {
   "cell_type": "markdown",
   "id": "e5eb9ff4-cd32-4d20-8812-8a7fe25b8c38",
   "metadata": {},
   "source": [
    "https://xarray-test.readthedocs.io/en/latest/indexing.html#dataset-indexing\n",
    "\n",
    "```\n",
    "ds = arr.to_dataset(name='foo')\n",
    "ds.isel(space=[0], time=[0])\n",
    "```"
   ]
  },
  {
   "cell_type": "code",
   "execution_count": 67,
   "id": "f193c74d-21e8-461c-bef8-24cc13c53348",
   "metadata": {},
   "outputs": [
    {
     "ename": "SyntaxError",
     "evalue": "expression cannot contain assignment, perhaps you meant \"==\"? (2155847494.py, line 1)",
     "output_type": "error",
     "traceback": [
      "\u001b[0;36m  Input \u001b[0;32mIn [67]\u001b[0;36m\u001b[0m\n\u001b[0;31m    ds.isel('time_1Hz'=10)\u001b[0m\n\u001b[0m            ^\u001b[0m\n\u001b[0;31mSyntaxError\u001b[0m\u001b[0;31m:\u001b[0m expression cannot contain assignment, perhaps you meant \"==\"?\n"
     ]
    }
   ],
   "source": [
    "ds.isel('time_1Hz'=10)"
   ]
  },
  {
   "cell_type": "code",
   "execution_count": 66,
   "id": "c10a16d4-8b40-47ec-92bb-841083582270",
   "metadata": {},
   "outputs": [
    {
     "ename": "ValueError",
     "evalue": "conflicting sizes for dimension 'time_1Hz': length 771961 on 'latitude_1Hz' and length 771951 on {'time_1Hz': 'time_1Hz'}",
     "output_type": "error",
     "traceback": [
      "\u001b[0;31m---------------------------------------------------------------------------\u001b[0m",
      "\u001b[0;31mValueError\u001b[0m                                Traceback (most recent call last)",
      "Input \u001b[0;32mIn [66]\u001b[0m, in \u001b[0;36m<cell line: 1>\u001b[0;34m()\u001b[0m\n\u001b[0;32m----> 1\u001b[0m ds[\u001b[38;5;124m'\u001b[39m\u001b[38;5;124mtime_1Hz\u001b[39m\u001b[38;5;124m'\u001b[39m]\u001b[38;5;241m=\u001b[39mds\u001b[38;5;241m.\u001b[39mtime_1Hz[\u001b[38;5;241m0\u001b[39m:\u001b[38;5;241m-\u001b[39m\u001b[38;5;241m10\u001b[39m:]\n",
      "File \u001b[0;32m~/miniconda3/lib/python3.9/site-packages/xarray/core/dataset.py:1565\u001b[0m, in \u001b[0;36mDataset.__setitem__\u001b[0;34m(self, key, value)\u001b[0m\n\u001b[1;32m   1560\u001b[0m \u001b[38;5;28;01mif\u001b[39;00m \u001b[38;5;28misinstance\u001b[39m(value, Dataset):\n\u001b[1;32m   1561\u001b[0m     \u001b[38;5;28;01mraise\u001b[39;00m \u001b[38;5;167;01mTypeError\u001b[39;00m(\n\u001b[1;32m   1562\u001b[0m         \u001b[38;5;124m\"\u001b[39m\u001b[38;5;124mCannot assign a Dataset to a single key - only a DataArray or Variable object can be stored under\u001b[39m\u001b[38;5;124m\"\u001b[39m\n\u001b[1;32m   1563\u001b[0m         \u001b[38;5;124m\"\u001b[39m\u001b[38;5;124ma single key.\u001b[39m\u001b[38;5;124m\"\u001b[39m\n\u001b[1;32m   1564\u001b[0m     )\n\u001b[0;32m-> 1565\u001b[0m \u001b[38;5;28;43mself\u001b[39;49m\u001b[38;5;241;43m.\u001b[39;49m\u001b[43mupdate\u001b[49m\u001b[43m(\u001b[49m\u001b[43m{\u001b[49m\u001b[43mkey\u001b[49m\u001b[43m:\u001b[49m\u001b[43m \u001b[49m\u001b[43mvalue\u001b[49m\u001b[43m}\u001b[49m\u001b[43m)\u001b[49m\n",
      "File \u001b[0;32m~/miniconda3/lib/python3.9/site-packages/xarray/core/dataset.py:4248\u001b[0m, in \u001b[0;36mDataset.update\u001b[0;34m(self, other)\u001b[0m\n\u001b[1;32m   4212\u001b[0m \u001b[38;5;28;01mdef\u001b[39;00m \u001b[38;5;21mupdate\u001b[39m(\u001b[38;5;28mself\u001b[39m, other: \u001b[38;5;124m\"\u001b[39m\u001b[38;5;124mCoercibleMapping\u001b[39m\u001b[38;5;124m\"\u001b[39m) \u001b[38;5;241m-\u001b[39m\u001b[38;5;241m>\u001b[39m \u001b[38;5;124m\"\u001b[39m\u001b[38;5;124mDataset\u001b[39m\u001b[38;5;124m\"\u001b[39m:\n\u001b[1;32m   4213\u001b[0m     \u001b[38;5;124;03m\"\"\"Update this dataset's variables with those from another dataset.\u001b[39;00m\n\u001b[1;32m   4214\u001b[0m \n\u001b[1;32m   4215\u001b[0m \u001b[38;5;124;03m    Just like :py:meth:`dict.update` this is a in-place operation.\u001b[39;00m\n\u001b[0;32m   (...)\u001b[0m\n\u001b[1;32m   4246\u001b[0m \u001b[38;5;124;03m    Dataset.merge\u001b[39;00m\n\u001b[1;32m   4247\u001b[0m \u001b[38;5;124;03m    \"\"\"\u001b[39;00m\n\u001b[0;32m-> 4248\u001b[0m     merge_result \u001b[38;5;241m=\u001b[39m \u001b[43mdataset_update_method\u001b[49m\u001b[43m(\u001b[49m\u001b[38;5;28;43mself\u001b[39;49m\u001b[43m,\u001b[49m\u001b[43m \u001b[49m\u001b[43mother\u001b[49m\u001b[43m)\u001b[49m\n\u001b[1;32m   4249\u001b[0m     \u001b[38;5;28;01mreturn\u001b[39;00m \u001b[38;5;28mself\u001b[39m\u001b[38;5;241m.\u001b[39m_replace(inplace\u001b[38;5;241m=\u001b[39m\u001b[38;5;28;01mTrue\u001b[39;00m, \u001b[38;5;241m*\u001b[39m\u001b[38;5;241m*\u001b[39mmerge_result\u001b[38;5;241m.\u001b[39m_asdict())\n",
      "File \u001b[0;32m~/miniconda3/lib/python3.9/site-packages/xarray/core/merge.py:995\u001b[0m, in \u001b[0;36mdataset_update_method\u001b[0;34m(dataset, other)\u001b[0m\n\u001b[1;32m    992\u001b[0m     \u001b[38;5;28;01melse\u001b[39;00m:\n\u001b[1;32m    993\u001b[0m         indexes[key] \u001b[38;5;241m=\u001b[39m index\n\u001b[0;32m--> 995\u001b[0m \u001b[38;5;28;01mreturn\u001b[39;00m \u001b[43mmerge_core\u001b[49m\u001b[43m(\u001b[49m\n\u001b[1;32m    996\u001b[0m \u001b[43m    \u001b[49m\u001b[43m[\u001b[49m\u001b[43mdataset\u001b[49m\u001b[43m,\u001b[49m\u001b[43m \u001b[49m\u001b[43mother\u001b[49m\u001b[43m]\u001b[49m\u001b[43m,\u001b[49m\n\u001b[1;32m    997\u001b[0m \u001b[43m    \u001b[49m\u001b[43mpriority_arg\u001b[49m\u001b[38;5;241;43m=\u001b[39;49m\u001b[38;5;241;43m1\u001b[39;49m\u001b[43m,\u001b[49m\n\u001b[1;32m    998\u001b[0m \u001b[43m    \u001b[49m\u001b[43mindexes\u001b[49m\u001b[38;5;241;43m=\u001b[39;49m\u001b[43mindexes\u001b[49m\u001b[43m,\u001b[49m\u001b[43m  \u001b[49m\u001b[38;5;66;43;03m# type: ignore\u001b[39;49;00m\n\u001b[1;32m    999\u001b[0m \u001b[43m    \u001b[49m\u001b[43mcombine_attrs\u001b[49m\u001b[38;5;241;43m=\u001b[39;49m\u001b[38;5;124;43m\"\u001b[39;49m\u001b[38;5;124;43moverride\u001b[39;49m\u001b[38;5;124;43m\"\u001b[39;49m\u001b[43m,\u001b[49m\n\u001b[1;32m   1000\u001b[0m \u001b[43m\u001b[49m\u001b[43m)\u001b[49m\n",
      "File \u001b[0;32m~/miniconda3/lib/python3.9/site-packages/xarray/core/merge.py:645\u001b[0m, in \u001b[0;36mmerge_core\u001b[0;34m(objects, compat, join, combine_attrs, priority_arg, explicit_coords, indexes, fill_value)\u001b[0m\n\u001b[1;32m    640\u001b[0m variables, out_indexes \u001b[38;5;241m=\u001b[39m merge_collected(\n\u001b[1;32m    641\u001b[0m     collected, prioritized, compat\u001b[38;5;241m=\u001b[39mcompat, combine_attrs\u001b[38;5;241m=\u001b[39mcombine_attrs\n\u001b[1;32m    642\u001b[0m )\n\u001b[1;32m    643\u001b[0m assert_unique_multiindex_level_names(variables)\n\u001b[0;32m--> 645\u001b[0m dims \u001b[38;5;241m=\u001b[39m \u001b[43mcalculate_dimensions\u001b[49m\u001b[43m(\u001b[49m\u001b[43mvariables\u001b[49m\u001b[43m)\u001b[49m\n\u001b[1;32m    647\u001b[0m coord_names, noncoord_names \u001b[38;5;241m=\u001b[39m determine_coords(coerced)\n\u001b[1;32m    648\u001b[0m \u001b[38;5;28;01mif\u001b[39;00m explicit_coords \u001b[38;5;129;01mis\u001b[39;00m \u001b[38;5;129;01mnot\u001b[39;00m \u001b[38;5;28;01mNone\u001b[39;00m:\n",
      "File \u001b[0;32m~/miniconda3/lib/python3.9/site-packages/xarray/core/dataset.py:205\u001b[0m, in \u001b[0;36mcalculate_dimensions\u001b[0;34m(variables)\u001b[0m\n\u001b[1;32m    203\u001b[0m             last_used[dim] \u001b[38;5;241m=\u001b[39m k\n\u001b[1;32m    204\u001b[0m         \u001b[38;5;28;01melif\u001b[39;00m dims[dim] \u001b[38;5;241m!=\u001b[39m size:\n\u001b[0;32m--> 205\u001b[0m             \u001b[38;5;28;01mraise\u001b[39;00m \u001b[38;5;167;01mValueError\u001b[39;00m(\n\u001b[1;32m    206\u001b[0m                 \u001b[38;5;124mf\u001b[39m\u001b[38;5;124m\"\u001b[39m\u001b[38;5;124mconflicting sizes for dimension \u001b[39m\u001b[38;5;132;01m{\u001b[39;00mdim\u001b[38;5;132;01m!r}\u001b[39;00m\u001b[38;5;124m: \u001b[39m\u001b[38;5;124m\"\u001b[39m\n\u001b[1;32m    207\u001b[0m                 \u001b[38;5;124mf\u001b[39m\u001b[38;5;124m\"\u001b[39m\u001b[38;5;124mlength \u001b[39m\u001b[38;5;132;01m{\u001b[39;00msize\u001b[38;5;132;01m}\u001b[39;00m\u001b[38;5;124m on \u001b[39m\u001b[38;5;132;01m{\u001b[39;00mk\u001b[38;5;132;01m!r}\u001b[39;00m\u001b[38;5;124m and length \u001b[39m\u001b[38;5;132;01m{\u001b[39;00mdims[dim]\u001b[38;5;132;01m}\u001b[39;00m\u001b[38;5;124m on \u001b[39m\u001b[38;5;132;01m{\u001b[39;00mlast_used\u001b[38;5;132;01m!r}\u001b[39;00m\u001b[38;5;124m\"\u001b[39m\n\u001b[1;32m    208\u001b[0m             )\n\u001b[1;32m    209\u001b[0m \u001b[38;5;28;01mreturn\u001b[39;00m dims\n",
      "\u001b[0;31mValueError\u001b[0m: conflicting sizes for dimension 'time_1Hz': length 771961 on 'latitude_1Hz' and length 771951 on {'time_1Hz': 'time_1Hz'}"
     ]
    }
   ],
   "source": [
    "ds['time_1Hz']=ds.time_1Hz[0:-10:]"
   ]
  },
  {
   "cell_type": "code",
   "execution_count": 7,
   "id": "288dd9f5-759c-445f-a849-cf05112b91e2",
   "metadata": {},
   "outputs": [],
   "source": [
    "def make_var_list(ds_in,time_coord):\n",
    "    \"\"\"\n",
    "    Find all the variables with a given time coord\n",
    " \n",
    "    Parameters\n",
    "    ----------\n",
    "    ds_in : xarray.dataset\n",
    "    time_coord : str\n",
    "\n",
    "    Returns\n",
    "    -------\n",
    "    result : list of str\n",
    "        list of vars meeting criterion\n",
    "    \"\"\"\n",
    "    \n",
    "    var_list = []  \n",
    "    not_used = []  \n",
    "    for var in ds_in.data_vars:\n",
    "        try:\n",
    "            if ds_in.data_vars.get(var).dims[0]==time_coord:\n",
    "                var_list.append(var)\n",
    "                print(var)\n",
    "        except:\n",
    "            not_used.append(var)\n",
    "\n",
    "    return var_list"
   ]
  },
  {
   "cell_type": "code",
   "execution_count": null,
   "id": "87a1926a-54ee-492f-8f99-977d90bcc810",
   "metadata": {},
   "outputs": [],
   "source": [
    "def remove_nans(var_list, ds_in):\n",
    "    \"\"\"\n",
    "    remove all nans in variables in an input xarray.dataset\n",
    " \n",
    "    Parameters\n",
    "    ----------\n",
    "    ds_in : xarray.dataset\n",
    "    var_list : list of strings\n",
    "\n",
    "    Returns\n",
    "    -------\n",
    "    result : revised xarray.dataset\n",
    "    \"\"\"\n",
    "    #t = ds_in[ds_in.data_vars.get(var).coords.dims[0]]\n",
    "    #t_noninterp = t[ff]\n",
    "\n",
    "    for var in var_list:\n",
    "        var_raw = ds_in.data_vars.get(var).copy()\n",
    "        ff = np.flatnonzero(np.isnan(var_raw)==0)\n",
    "        var_nanfree = var_raw[ff]\n",
    "\n",
    "        numnans = np.size(np.flatnonzero(np.isnan(var_raw)))\n",
    "        locals()[var] = var_raw.rename(var) #locals()['string'] makes a variable with the name string\n",
    "        print(var+' created, '+str(np.round(100*(1-numnans)/np.size(t),3))+'% of values are NaN'+', number of nans=' + str(numnans))\n",
    "        locals()[var].values = var_nanfree\n",
    "        ds_in[var] = locals()[var]\n",
    "    return ds_new"
   ]
  },
  {
   "cell_type": "code",
   "execution_count": 8,
   "id": "9fc07ab0-45c3-4ff3-b1d0-ea2fc9ab6fee",
   "metadata": {},
   "outputs": [],
   "source": [
    "def subset(var_list, ds_in):\n",
    "\n",
    "    ds_new = ds_in[var_list]\n",
    "    return ds_new"
   ]
  },
  {
   "cell_type": "code",
   "execution_count": 9,
   "id": "610a0f1b-cfe1-4976-8e9b-dc9df4c96194",
   "metadata": {},
   "outputs": [],
   "source": [
    "def add_vars(var_list, ds_in, ds_out):\n",
    "    '''\n",
    "    Copies variables in var_list from ds_in to ds_out.  \n",
    "    '''\n",
    "    var_existing = []\n",
    "    for var in ds_in.data_vars:\n",
    "        var_existing.append(var)\n",
    "\n",
    "    #ds_out = ds_out[var_existing]\n",
    "    ds_out[var_list] = ds_in[var_list].copy()\n",
    "    return ds_out"
   ]
  },
  {
   "cell_type": "code",
   "execution_count": 10,
   "id": "0724ae4c-3cd1-4685-b480-dfc43377e341",
   "metadata": {},
   "outputs": [
    {
     "data": {
      "text/plain": [
       "'\\nds_new = xr.Dataset().assign_attrs(ds.attrs)  # make empty xr.Dataset but copy attributes from original file\\nds_WH = xr.Dataset().assign_attrs(ds.attrs)  # make empty xr.Dataset but copy attributes from original file\\n'"
      ]
     },
     "execution_count": 10,
     "metadata": {},
     "output_type": "execute_result"
    }
   ],
   "source": [
    "'''\n",
    "ds_new = xr.Dataset().assign_attrs(ds.attrs)  # make empty xr.Dataset but copy attributes from original file\n",
    "ds_WH = xr.Dataset().assign_attrs(ds.attrs)  # make empty xr.Dataset but copy attributes from original file\n",
    "'''"
   ]
  },
  {
   "cell_type": "code",
   "execution_count": 11,
   "id": "560e7742-1334-4b8b-bdc6-f9f72c0a950b",
   "metadata": {},
   "outputs": [],
   "source": [
    "# ds_new = add_vars(var_list, ds, ds_new)"
   ]
  },
  {
   "cell_type": "code",
   "execution_count": 12,
   "id": "58239495-0d6c-4d5f-a3de-00751e88b3de",
   "metadata": {},
   "outputs": [
    {
     "data": {
      "text/plain": [
       "\"\\nnew_file = path_out+WG+'_L3a.nc'\\nprint ('saving to ', new_file)\\nds_new.to_netcdf(path=new_file)\\nds_new.close()\\nprint ('finished saving')\\n\\n# Write Workhorse ADCP data to netcdf file\\nnew_file = path_out+WG+'_L3a_ADCP.nc'\\nprint ('saving to ', new_file)\\nds_WH.to_netcdf(path=new_file)\\nds_WH.close()\\nprint ('finished saving')\\n\""
      ]
     },
     "execution_count": 12,
     "metadata": {},
     "output_type": "execute_result"
    }
   ],
   "source": [
    "# Write data to netcdf file\n",
    "'''\n",
    "new_file = path_out+WG+'_L3a.nc'\n",
    "print ('saving to ', new_file)\n",
    "ds_new.to_netcdf(path=new_file)\n",
    "ds_new.close()\n",
    "print ('finished saving')\n",
    "\n",
    "# Write Workhorse ADCP data to netcdf file\n",
    "new_file = path_out+WG+'_L3a_ADCP.nc'\n",
    "print ('saving to ', new_file)\n",
    "ds_WH.to_netcdf(path=new_file)\n",
    "ds_WH.close()\n",
    "print ('finished saving')\n",
    "'''\n"
   ]
  },
  {
   "cell_type": "code",
   "execution_count": 13,
   "id": "59fbd2f8-c591-4c54-b9ec-480e0e6a6ba0",
   "metadata": {},
   "outputs": [],
   "source": [
    "# compare different time vectors to decide how to line up variables from different time bases\n",
    "# ds.time_20Hz\n",
    "# ds.time_1Hz\n",
    "# ds.Workhorse_time\n",
    "\n",
    "# Try the simple thing\n",
    "# xy, x_ind, y_ind = np.intersect1d(ds.time_1Hz, ds.time_20Hz, assume_unique=True, return_indices=True)\n",
    "# That doesn't work (no surprise) because the times don't line up exactly (possibly numerical precision issue)\n",
    "\n",
    "# I think they are already nearly lined up\n",
    "ds.time_1Hz[0:10:1]-ds.time_20Hz[0:200:20]\n",
    "# so, try 0,20,40... in 20 Hz array\n",
    "\n",
    "tfoo = ds.time_20Hz[0:-1:20]\n",
    "#tfoo and time_1Hz are very close, within 10^-4 sec\n",
    "\n"
   ]
  },
  {
   "cell_type": "code",
   "execution_count": 14,
   "id": "3559cdb6-7c00-444d-9600-f30ab525e02d",
   "metadata": {},
   "outputs": [],
   "source": [
    "nsec=60"
   ]
  },
  {
   "cell_type": "code",
   "execution_count": 52,
   "id": "c027188a-a331-42d4-ac5e-93f331b528e6",
   "metadata": {},
   "outputs": [],
   "source": [
    "# ds.time_20Hz variables\n",
    "# wdir is positive clockwise from North\n",
    "# need to make U, V\n",
    "wind_speed_low = tt.run_avg1d(ds.wind_speed, nsec*20)\n",
    "wind_east_low = tt.run_avg1d(ds.wind_east,nsec*20)\n",
    "wind_north_low = tt.run_avg1d(ds.wind_north,nsec*20)\n",
    "pitch_low = tt.run_avg1d(ds.pitch,nsec*20)\n",
    "roll_low = tt.run_avg1d(ds['roll'],nsec*20)"
   ]
  },
  {
   "cell_type": "code",
   "execution_count": 53,
   "id": "cfbbea43-c4ec-4434-a2a9-65552411f6dc",
   "metadata": {},
   "outputs": [],
   "source": [
    "# ds.time_1Hz variables\n",
    "WXT_U=ds.WXT_wind_speed*np.cos(ds.WXT_wind_direction/np.pi/2)\n",
    "WXT_V=ds.WXT_wind_speed*np.sin(ds.WXT_wind_direction/np.pi/2)\n",
    "WXT_U_low = tt.run_avg1d(WXT_U,nsec)\n",
    "WXT_V_low = tt.run_avg1d(WXT_V,nsec)\n",
    "WXT_wspd_low = tt.run_avg1d(ds.WXT_wind_speed,nsec)\n",
    "WXT_atmp_low = tt.run_avg1d(ds.WXT_air_temperature,nsec)\n",
    "WXT_rh_low = tt.run_avg1d(ds.WXT_relative_humidity,nsec)\n",
    "swr_low = tt.run_avg1d(ds.SMP21_shortwave_flux,nsec)\n",
    "lwr_low = tt.run_avg1d(ds.SGR4_longwave_flux,nsec)\n",
    "lat_low = tt.run_avg1d(ds.latitude_1Hz,nsec)\n",
    "lon_low = tt.run_avg1d(ds.longitude_1Hz,nsec)"
   ]
  },
  {
   "cell_type": "code",
   "execution_count": 54,
   "id": "c5a04302-5782-452e-837e-7f0c249d95be",
   "metadata": {},
   "outputs": [],
   "source": [
    "# Workhorse_time variables\n",
    "U_low=tt.run_avg2d(ds.Workhorse_vel_east,nsec,1)\n",
    "V_low=tt.run_avg2d(ds.Workhorse_vel_north,nsec,1)\n",
    "W_low=tt.run_avg2d(ds.Workhorse_vel_up,nsec,1)"
   ]
  },
  {
   "cell_type": "code",
   "execution_count": 55,
   "id": "6cd0c111-d31e-47ee-bd1f-d47e41f5f860",
   "metadata": {},
   "outputs": [],
   "source": [
    "# Subsample smoothed 20 Hz vars to 1 Hz\n",
    "wind_speed_low = wind_speed_low[0::20]\n",
    "wind_east_low = wind_east_low[0::20]\n",
    "wind_north_low = wind_north_low[0::20]\n",
    "pitch_low = pitch_low[0::20]\n",
    "roll_low = roll_low[0::20]\n"
   ]
  },
  {
   "cell_type": "code",
   "execution_count": 56,
   "id": "d636d41d-4338-4b37-8a71-63404cf7e980",
   "metadata": {},
   "outputs": [
    {
     "data": {
      "text/plain": [
       "(771961,)"
      ]
     },
     "execution_count": 56,
     "metadata": {},
     "output_type": "execute_result"
    },
    {
     "data": {
      "text/plain": [
       "(771961,)"
      ]
     },
     "execution_count": 56,
     "metadata": {},
     "output_type": "execute_result"
    }
   ],
   "source": [
    "np.shape(wind_speed_low)\n",
    "np.shape(wind_east_low)\n"
   ]
  },
  {
   "cell_type": "code",
   "execution_count": 57,
   "id": "0afa34ed-05d1-4b3b-867a-d275258558e6",
   "metadata": {},
   "outputs": [
    {
     "data": {
      "text/plain": [
       "[<matplotlib.lines.Line2D at 0x7f94e04fbb80>]"
      ]
     },
     "execution_count": 57,
     "metadata": {},
     "output_type": "execute_result"
    },
    {
     "data": {
      "text/plain": [
       "[<matplotlib.lines.Line2D at 0x7f955a5b1c10>]"
      ]
     },
     "execution_count": 57,
     "metadata": {},
     "output_type": "execute_result"
    },
    {
     "data": {
      "text/plain": [
       "Text(0.5, 1.0, '1-hr average pitch and roll')"
      ]
     },
     "execution_count": 57,
     "metadata": {},
     "output_type": "execute_result"
    },
    {
     "data": {
      "text/plain": [
       "Text(0, 0.5, 'Degrees')"
      ]
     },
     "execution_count": 57,
     "metadata": {},
     "output_type": "execute_result"
    },
    {
     "data": {
      "text/plain": [
       "(-2.0, 2.0)"
      ]
     },
     "execution_count": 57,
     "metadata": {},
     "output_type": "execute_result"
    }
   ],
   "source": [
    "fig, axs = plt.subplots(1, 1)\n",
    "fig.autofmt_xdate()\n",
    "\n",
    "plt.plot(ds.time_1Hz,pitch_low)\n",
    "plt.plot(ds.time_1Hz,roll_low)\n",
    "plt.title(str(nsec/60)+'-min average pitch and roll')\n",
    "plt.ylabel('Degrees')\n",
    "plt.ylim(-2,2)\n",
    "\n",
    "if savefig:\n",
    "    plt.savefig(__figdir__+WG+'_mean_pitch_roll' + '.' +plotfiletype,**savefig_args)\n"
   ]
  },
  {
   "cell_type": "code",
   "execution_count": 59,
   "id": "4484d3fd-4600-4b5a-9995-7049c63c5014",
   "metadata": {},
   "outputs": [
    {
     "data": {
      "text/plain": [
       "[<matplotlib.lines.Line2D at 0x7f955a4d05b0>]"
      ]
     },
     "execution_count": 59,
     "metadata": {},
     "output_type": "execute_result"
    },
    {
     "data": {
      "text/plain": [
       "[<matplotlib.lines.Line2D at 0x7f955a48f730>]"
      ]
     },
     "execution_count": 59,
     "metadata": {},
     "output_type": "execute_result"
    },
    {
     "data": {
      "text/plain": [
       "Text(0.5, 1.0, '1.0-min average wind speed')"
      ]
     },
     "execution_count": 59,
     "metadata": {},
     "output_type": "execute_result"
    },
    {
     "data": {
      "text/plain": [
       "Text(0, 0.5, 'Degrees')"
      ]
     },
     "execution_count": 59,
     "metadata": {},
     "output_type": "execute_result"
    }
   ],
   "source": [
    "fig, axs = plt.subplots(1, 1)\n",
    "fig.autofmt_xdate()\n",
    "\n",
    "plt.plot(ds.time_1Hz,wind_speed_low)\n",
    "plt.plot(ds.time_1Hz,WXT_wspd_low)\n",
    "plt.title(str(nsec/60)+'-min average wind speed')\n",
    "plt.ylabel('Degrees')\n",
    "#plt.ylim(-2,2)\n",
    "\n",
    "if savefig:\n",
    "    plt.savefig(__figdir__+WG+'_mean_wspd' + '.' +plotfiletype,**savefig_args)\n"
   ]
  },
  {
   "cell_type": "code",
   "execution_count": 35,
   "id": "81083675-661a-4e57-abed-cec6620c8433",
   "metadata": {},
   "outputs": [],
   "source": []
  },
  {
   "cell_type": "code",
   "execution_count": 40,
   "id": "ed9a8198-2d3d-4fc8-b590-d10aa5adfe1d",
   "metadata": {},
   "outputs": [
    {
     "data": {
      "text/plain": [
       "\"\\nnew_file = path_out+WG+'_L3b_met.nc'\\nprint ('saving to ', new_file)\\nds_new.to_netcdf(path=new_file)\\nds_new.close()\\nprint ('finished saving')\\n\""
      ]
     },
     "execution_count": 40,
     "metadata": {},
     "output_type": "execute_result"
    }
   ],
   "source": [
    "'''\n",
    "new_file = path_out+WG+'_L3b_met.nc'\n",
    "print ('saving to ', new_file)\n",
    "ds_new.to_netcdf(path=new_file)\n",
    "ds_new.close()\n",
    "print ('finished saving')\n",
    "'''"
   ]
  },
  {
   "cell_type": "code",
   "execution_count": 22,
   "id": "79718e00-e8dd-4b8f-9da4-5a62ddac1986",
   "metadata": {},
   "outputs": [
    {
     "data": {
      "text/plain": [
       "'WHOI43'"
      ]
     },
     "execution_count": 22,
     "metadata": {},
     "output_type": "execute_result"
    }
   ],
   "source": [
    "WG"
   ]
  },
  {
   "cell_type": "code",
   "execution_count": 62,
   "id": "da7cc552-726c-4d4d-85e9-f90d50f83358",
   "metadata": {},
   "outputs": [
    {
     "data": {
      "text/plain": [
       "(array([1.86137239e+04, 1.33838061e+02, 7.82490941e+01, ...,\n",
       "        3.15836523e-03, 4.45316618e-03, 8.30519391e-03]),\n",
       " array([9.84506906e-05, 2.94056668e-04, 4.89662645e-04, ...,\n",
       "        9.99947601e+00, 9.99967162e+00, 9.99986722e+00]),\n",
       " 302.0)"
      ]
     },
     "execution_count": 62,
     "metadata": {},
     "output_type": "execute_result"
    },
    {
     "data": {
      "text/plain": [
       "(array([2.13317756e+04, 1.30148896e+02, 6.84812920e+01, ...,\n",
       "        1.21065851e-01, 1.16002843e-01, 1.35281962e-01]),\n",
       " array([9.84505694e-05, 2.94056306e-04, 4.89662043e-04, ...,\n",
       "        4.99479896e-01, 4.99675502e-01, 4.99871107e-01]),\n",
       " 302.0)"
      ]
     },
     "execution_count": 62,
     "metadata": {},
     "output_type": "execute_result"
    },
    {
     "data": {
      "text/plain": [
       "(array([nan, nan, nan, ..., nan, nan, nan]),\n",
       " array([9.84505694e-05, 2.94056306e-04, 4.89662043e-04, ...,\n",
       "        4.99479896e-01, 4.99675502e-01, 4.99871107e-01]),\n",
       " 302.0)"
      ]
     },
     "execution_count": 62,
     "metadata": {},
     "output_type": "execute_result"
    },
    {
     "data": {
      "text/plain": [
       "Text(0.5, 1.0, 'Gill, WXT wind speed')"
      ]
     },
     "execution_count": 62,
     "metadata": {},
     "output_type": "execute_result"
    },
    {
     "data": {
      "text/plain": [
       "Text(0.5, 0, 'Hz')"
      ]
     },
     "execution_count": 62,
     "metadata": {},
     "output_type": "execute_result"
    },
    {
     "data": {
      "text/plain": [
       "Text(0, 0.5, 'Spectral density [m$^2$/s$^2$/Hz]')"
      ]
     },
     "execution_count": 62,
     "metadata": {},
     "output_type": "execute_result"
    },
    {
     "data": {
      "text/plain": [
       "<matplotlib.legend.Legend at 0x7f9559fe5220>"
      ]
     },
     "execution_count": 62,
     "metadata": {},
     "output_type": "execute_result"
    }
   ],
   "source": [
    "# Plot spectra of 'raw' L3a wind speed\n",
    "fig, axs = plt.subplots(1, 1)\n",
    "M=151\n",
    "wspd=ds.wind_speed.values\n",
    "wspd_WXT=ds.WXT_wind_speed.values\n",
    "tt.spectrum_band_avg(wspd,1/20,M,winstr=None,plotflag=True,ebarflag=None)\n",
    "tt.spectrum_band_avg(wspd_WXT,1,M,winstr=None,plotflag=True,ebarflag=False)\n",
    "tt.spectrum_band_avg(wind_speed_low,1,M,winstr=None,plotflag=True,ebarflag=False)\n",
    "plt.title('Gill, WXT wind speed')\n",
    "plt.xlabel('Hz')\n",
    "plt.ylabel('Spectral density [m$^2$/s$^2$/Hz]')\n",
    "plt.legend(['Gill Wind speed','WXT wind speed'],loc='upper right')\n",
    "if savefig:\n",
    "    plt.savefig(__figdir__+WG+'_wsp_spectra' + '.' +plotfiletype,**savefig_args)\n"
   ]
  },
  {
   "cell_type": "markdown",
   "id": "df7bae74-c3c5-4339-8447-8c3d97e052db",
   "metadata": {},
   "source": [
    "## Preparing for flux computation\n",
    "\n",
    "Inputs for COARE 3.5:  \n",
    "    u = ocean surface relative wind speed (m/s) at height zu(m)  \n",
    "    t = bulk air temperature (degC) at height zt(m)  \n",
    "    rh = relative humidity (%) at height zq(m)  \n",
    "    ts = sea water temperature (degC) - see jcool below  \n",
    "    P = surface air pressure (mb) (default = 1015)  \n",
    "    Rs = downward shortwave radiation (W/m^2) (default = 150)  \n",
    "    Rl = downward longwave radiation (W/m^2) (default = 370)  \n",
    "    zu = wind sensor height (m) (default = 18m)  \n",
    "    zt = bulk temperature sensor height (m) (default = 18m)  \n",
    "    zq = RH sensor height (m) (default = 18m)  \n",
    "    lat = latitude (default = 45 N)  \n",
    "    zi = PBL height (m) (default = 600m)  \n",
    "    rain = rain rate (mm/hr)  \n",
    "    cp = phase speed of dominant waves (m/s)  \n",
    "    sigH =  significant wave height (m)  \n",
    "    jcool = cool skin option (default = 1 for bulk SST)  \n",
    "    \n",
    "Note: I don't see an input for SST depth--> That's because there is no Warm Layer correction in this version of the code.  \n",
    "\n",
    "Here is a link to an older matlab version that does have it:  \n",
    "https://github.com/carsonwitte/Falkor-DWL-Code  \n",
    "\n",
    "It wouldn't be that hard to add the WL correction-- basically, estimate fluxes, estimate WL correction, and re-estimate fluxes.  \n",
    "\n",
    "\n",
    "  \n",
    "  \n",
    "Required inputs:  \n",
    "u\tzu\tt\tzt\trh\tzq\tP\tts\tRs\tRl\tlat\tzi\train\tcp\tsigH\n"
   ]
  },
  {
   "cell_type": "markdown",
   "id": "6559dfb7-b363-442f-b1ac-cebdf4333c16",
   "metadata": {},
   "source": [
    "This could be a good way to save the output, but maybe not:  \n",
    "\n",
    "```\n",
    "A = coare35vn(u, ta, rh, ts, P=Pa, Rs=rs, Rl=rl, zu=16, zt=16, zq=16,\n",
    "                lat=Lat, zi=ZI, rain=Rain, jcool=1)\n",
    "fnameA = os.path.join(path,'test_35_output_py_04022022.txt')\n",
    "A_hdr = 'usr\\ttau\\thsb\\thlb\\thlwebb\\ttsr\\tqsr\\tzot\\tzoq\\tCd\\t'\n",
    "A_hdr += 'Ch\\tCe\\tL\\tzet\\tdter\\tdqer\\ttkt\\tRF\\tCdn_10\\tChn_10\\tCen_10'\n",
    "np.savetxt(fnameA,A,fmt='%.18e',delimiter='\\t',header=A_hdr)\n",
    "```\n"
   ]
  },
  {
   "cell_type": "code",
   "execution_count": null,
   "id": "4dc3769f-589b-4b4b-b0bf-3427532ffe46",
   "metadata": {},
   "outputs": [],
   "source": []
  },
  {
   "cell_type": "code",
   "execution_count": null,
   "id": "2a6a70ad-c25b-45bc-b11f-98f088f02668",
   "metadata": {},
   "outputs": [],
   "source": []
  }
 ],
 "metadata": {
  "kernelspec": {
   "display_name": "Python 3 (ipykernel)",
   "language": "python",
   "name": "python3"
  },
  "language_info": {
   "codemirror_mode": {
    "name": "ipython",
    "version": 3
   },
   "file_extension": ".py",
   "mimetype": "text/x-python",
   "name": "python",
   "nbconvert_exporter": "python",
   "pygments_lexer": "ipython3",
   "version": "3.9.7"
  }
 },
 "nbformat": 4,
 "nbformat_minor": 5
}
