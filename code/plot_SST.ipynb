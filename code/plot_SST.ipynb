{
 "cells": [
  {
   "cell_type": "markdown",
   "id": "db7b0a9b",
   "metadata": {},
   "source": [
    "## Plots of SST for S-MODE region\n"
   ]
  },
  {
   "cell_type": "code",
   "execution_count": 1,
   "id": "5d879588",
   "metadata": {},
   "outputs": [],
   "source": [
    "import xarray as xr\n",
    "import numpy as np\n",
    "import matplotlib.pyplot as plt\n",
    "import matplotlib\n",
    "import cftime\n",
    "\n",
    "import cartopy.crs as ccrs                   # import projections\n",
    "import cartopy\n",
    "import gsw\n",
    "\n",
    "# For great circle distance between two points, use gsw.geostrophy.distance(lon, lat, p=0, axis=-1)\n"
   ]
  },
  {
   "cell_type": "code",
   "execution_count": 13,
   "id": "057ad9c8",
   "metadata": {},
   "outputs": [],
   "source": [
    "# %matplotlib qt \n",
    "plt.rcParams['figure.figsize'] = (5,4)\n",
    "plt.rcParams['figure.dpi'] = 200\n",
    "plt.rcParams['savefig.dpi'] = 400\n",
    "plt.close('all')\n",
    "\n",
    "__figdir__ = '../plots/' + 'SMODE_'\n",
    "savefig_args = {'bbox_inches':'tight', 'pad_inches':0.2}\n",
    "plotfiletype='png'"
   ]
  },
  {
   "cell_type": "code",
   "execution_count": 14,
   "id": "ddba8e4a",
   "metadata": {},
   "outputs": [],
   "source": [
    "savefig = True\n",
    "zoom = True\n",
    "if zoom:\n",
    "    xmin, xmax = (-126,-121)\n",
    "    ymin, ymax = (36.25,38.5)\n",
    "    levels = np.linspace(14,17,11)\n",
    "else:\n",
    "    xmin, xmax = (-127,-121)\n",
    "    ymin, ymax = (35, 40)\n",
    "    levels = np.linspace(13,18,11)\n",
    "\n",
    "    "
   ]
  },
  {
   "cell_type": "code",
   "execution_count": 4,
   "id": "ec7a3315",
   "metadata": {},
   "outputs": [],
   "source": [
    "#url = 'http://smode.whoi.edu:8080/thredds/dodsC/satellite/AVHRR_METOPB/AVHRR_METOPB_20210930T060000Z.nc'\n",
    "#url = 'http://smode.whoi.edu:8080/thredds/dodsC/satellite/MODIS_Terra/MODIS_Terra_20210930T065001Z.nc'\n",
    "url = 'http://smode.whoi.edu:8080/thredds/dodsC/satellite/VIIRS_NRT/VIIRS_NRT_20210929T213000Z.nc'\n",
    "# http://smode.whoi.edu:8080/thredds/dodsC/satellite/VIIRS_NRT/VIIRS_NRT_20210929T213000Z.nc\n",
    "ds = xr.open_dataset(url)\n"
   ]
  },
  {
   "cell_type": "code",
   "execution_count": 5,
   "id": "6bdff2ee",
   "metadata": {},
   "outputs": [],
   "source": [
    "def plot_ops_area(ax,**kwargs):\n",
    "    \"\"\" Add polygon to show S-MODE pilot operations area\n",
    "         Inputs\n",
    "            - matplotlib.pyplot.plot kwargs\n",
    "\n",
    "         return\n",
    "            - exit code (True if OK)\n",
    "\n",
    "    \"\"\"\n",
    "\n",
    "    # Add S-MODE pilot operations area\n",
    "    ''' \n",
    "    Old corners of pentagon:\n",
    "    38° 05.500’ N, 125° 22.067’ W\n",
    "    37° 43.000’ N, 124° 00.067’ W\n",
    "    37° 46.417’ N, 123° 10.000‘ W\n",
    "    37° 05.000’ N, 122° 43.067’ W\n",
    "    36° 20.000’ N, 124° 19.067’ W \n",
    "    '''\n",
    "    coord = [[-(125+22.067/60),38+5.5/60], [-(124+0.067/60),37+43/60], [-(123+10/60),37+46.417/60], [-(122+43.067/60),37+5/60], [-(124+19.067/60),36+20/60]]\n",
    "    coord.append(coord[0]) #repeat the first point to create a 'closed loop'\n",
    "\n",
    "    xs, ys = zip(*coord) #create lists of x and y values\n",
    "\n",
    "    if ax is None:\n",
    "        ax = plt.gca()    \n",
    "    # ax.plot(xs,ys,transform=ccrs.PlateCarree()) \n",
    "    ax.plot(xs,ys,**kwargs) \n",
    "    \n",
    "    SF_lon=-(122+25/60)\n",
    "    SF_lat= 37+47/60\n",
    "    \n",
    "    # mark a known place to help us geo-locate ourselves\n",
    "    ax.plot(SF_lon, SF_lat, 'o', markersize=3, **kwargs)\n",
    "    ax.text(SF_lon-5/60, SF_lat+5/60, 'San Francisco', fontsize=8, **kwargs)\n",
    "    ax.text(np.mean(xs)-.6, np.mean(ys)-.3, 'S-MODE ops area', fontsize=8, **kwargs)\n",
    "    print(kwargs)\n",
    "    \n",
    "    return(ax)\n"
   ]
  },
  {
   "cell_type": "code",
   "execution_count": 16,
   "id": "7971d8eb",
   "metadata": {},
   "outputs": [
    {
     "name": "stdout",
     "output_type": "stream",
     "text": [
      "{'transform': <cartopy.crs.PlateCarree object at 0x0000023396ADA6D0>, 'color': 'w'}\n"
     ]
    }
   ],
   "source": [
    "fig = plt.figure()\n",
    "ax = plt.axes(projection = ccrs.PlateCarree(central_longitude=200))  # Orthographic\n",
    "extent = [xmin, xmax, ymin, ymax]\n",
    "ax.set_extent(extent, crs=ccrs.PlateCarree())\n",
    "ax.set_title('Sea surface temperature',size = 10.)\n",
    "\n",
    "#plt.set_cmap(cmap=plt.get_cmap('nipy_spectral'))\n",
    "plt.set_cmap(cmap=plt.get_cmap('turbo'))\n",
    "gl = ax.gridlines(draw_labels=True, dms=True, x_inline=False, y_inline=False, alpha=0.5, linestyle='--')\n",
    "gl.top_labels = False\n",
    "gl.ylabels_right = False\n",
    "#gl.xlocator = matplotlib.ticker.MaxNLocator(10)\n",
    "#gl.xlocator = matplotlib.ticker.AutoLocator\n",
    "# gl.xlocator = matplotlib.ticker.FixedLocator(np.arange(0, 360 ,30))\n",
    "\n",
    "ax.coastlines()\n",
    "ax.add_feature(cartopy.feature.LAND, zorder=0, facecolor=[.6,.6,.6], edgecolor='black')\n",
    "# cs = ax.contourf(ds.lon,ds.lat,np.squeeze(ds.sea_surface_temperature)-273.15, levels, extend='both', transform=ccrs.PlateCarree())\n",
    "cs = ax.pcolormesh(ds.lon,ds.lat,np.squeeze(ds.sea_surface_temperature)-273.15, vmin=levels[0], vmax=levels[-1], transform=ccrs.PlateCarree())\n",
    "# cb = plt.colorbar(cs,ax=ax,shrink=.8,pad=.05)\n",
    "cb = plt.colorbar(cs,fraction = 0.022,extend='both')\n",
    "cb.set_label('SST [$\\circ$C]',fontsize = 10)\n",
    "plot_ops_area(ax,transform=ccrs.PlateCarree(),color='w')\n",
    "\n",
    "if savefig:\n",
    "    plt.savefig(__figdir__+'_SST'+plotfiletype,**savefig_args)\n"
   ]
  },
  {
   "cell_type": "code",
   "execution_count": 7,
   "id": "bba026c9",
   "metadata": {},
   "outputs": [
    {
     "data": {
      "text/plain": [
       "(34.00000000000002, 39.000000000000014, 36.25, 38.5)"
      ]
     },
     "execution_count": 7,
     "metadata": {},
     "output_type": "execute_result"
    }
   ],
   "source": [
    "ax.axes.get_extent()"
   ]
  },
  {
   "cell_type": "code",
   "execution_count": 8,
   "id": "e3ac7c76",
   "metadata": {},
   "outputs": [],
   "source": [
    "# SWOT incidence angles are 0.6-3.9 deg\n",
    "c=3*10**8\n",
    "tau=6.4*10**-4\n",
    "r=c*tau/2\n",
    "B=200*10**6\n",
    "eta=.6 #look angle in degrees near nadir\n",
    "dR=c/(2*B*np.sin(eta*np.pi/180)) #range resolution on the ground\n",
    "slant_range_dR = c/2/B"
   ]
  },
  {
   "cell_type": "code",
   "execution_count": null,
   "id": "5ba12f4a",
   "metadata": {},
   "outputs": [],
   "source": []
  },
  {
   "cell_type": "code",
   "execution_count": 9,
   "id": "273056f1",
   "metadata": {},
   "outputs": [
    {
     "data": {
      "text/plain": [
       "71.62103340503931"
      ]
     },
     "execution_count": 9,
     "metadata": {},
     "output_type": "execute_result"
    }
   ],
   "source": [
    "dR"
   ]
  },
  {
   "cell_type": "code",
   "execution_count": 10,
   "id": "4ae2c1ab",
   "metadata": {},
   "outputs": [
    {
     "data": {
      "text/plain": [
       "250.0"
      ]
     },
     "execution_count": 10,
     "metadata": {},
     "output_type": "execute_result"
    }
   ],
   "source": [
    "9000/36"
   ]
  },
  {
   "cell_type": "code",
   "execution_count": 11,
   "id": "21cb505f",
   "metadata": {},
   "outputs": [
    {
     "data": {
      "text/plain": [
       "True"
      ]
     },
     "execution_count": 11,
     "metadata": {},
     "output_type": "execute_result"
    }
   ],
   "source": [
    "savefig"
   ]
  },
  {
   "cell_type": "code",
   "execution_count": 12,
   "id": "e1c44c38",
   "metadata": {},
   "outputs": [
    {
     "data": {
      "text/plain": [
       "'../plots/SMODE_'"
      ]
     },
     "execution_count": 12,
     "metadata": {},
     "output_type": "execute_result"
    }
   ],
   "source": [
    "__figdir__"
   ]
  },
  {
   "cell_type": "code",
   "execution_count": null,
   "id": "e379e6c1",
   "metadata": {},
   "outputs": [],
   "source": []
  }
 ],
 "metadata": {
  "kernelspec": {
   "display_name": "Python 3 (ipykernel)",
   "language": "python",
   "name": "python3"
  },
  "language_info": {
   "codemirror_mode": {
    "name": "ipython",
    "version": 3
   },
   "file_extension": ".py",
   "mimetype": "text/x-python",
   "name": "python",
   "nbconvert_exporter": "python",
   "pygments_lexer": "ipython3",
   "version": "3.8.6"
  }
 },
 "nbformat": 4,
 "nbformat_minor": 5
}
