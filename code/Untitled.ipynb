{
 "cells": [
  {
   "cell_type": "markdown",
   "id": "7f2ee787",
   "metadata": {},
   "source": [
    "Try plotting some things from the S-MODE real-time data server (smode.whoi.edu)\n"
   ]
  },
  {
   "cell_type": "code",
   "execution_count": null,
   "id": "a75d10b3",
   "metadata": {},
   "outputs": [],
   "source": [
    "import numpy as np\n",
    "import matplotlib.pyplot as plt\n",
    "import xarray as xr\n",
    "import pandas as pd\n",
    "import datetime as dt\n",
    "import Tom_tools_v1 as tt\n"
   ]
  },
  {
   "cell_type": "markdown",
   "id": "2ce633e2",
   "metadata": {},
   "source": [
    "Scraps from SST_map_SPURS_Norteks_v2.py for reading from THREDDS server\n",
    "```\n",
    "#####################################\n",
    "# This is AVHRR from VIIRS NPP, not MODIS\n",
    "# This takes a long time:\n",
    "url = 'https://thredds.jpl.nasa.gov/thredds/dodsC/OceanTemperature/VIIRS_NPP-OSPO-L3U-v2.61.nc'\n",
    "ds_npp = xr.open_dataset(url)\n",
    "ds_sub = ds_npp.sea_surface_temperature.sel(time=slice('20120929','20120930'),lat=slice(28,23),lon=slice(-42,-34))-273.15\n",
    "\n",
    "ff = ~np.isnan(ds_sub.sel(lat=slice(24.55, 24.45), lon=slice(-38.05, -37.95)).mean('lon').mean('lat'))\n",
    "ff2 = np.where(ff)\n",
    "fig = plt.figure(figsize=(8, 4))\n",
    "plt.plot(ff)\n",
    "plt.title('Indices of subset with non-nan data')\n",
    "\n",
    "fig = plt.figure(figsize=(8, 4))\n",
    "#ds_sub.mean(['time']).plot(cmap='coolwarm',levels=np.linspace(26,28,15))\n",
    "ds_sub.isel(time=ff2[0][1]).plot(cmap='coolwarm',levels=np.linspace(26,28,15))\n",
    "plt.plot(SPURSlon,SPURSlat,'o',color='k')\n",
    "\n",
    "fig= plt.figure(figsize=(8,4))\n",
    "ds_sub.isel(time=ff2[0][0]).plot(cmap='coolwarm',levels=np.linspace(26,28,15))\n",
    "plt.plot(SPURSlon,SPURSlat,'o',color='k')\n",
    "\n",
    "fig= plt.figure(figsize=(8,4))\n",
    "ds_sub.isel(time=ff2[0][2]).plot(cmap='coolwarm',levels=np.linspace(26,28,15))\n",
    "plt.plot(SPURSlon,SPURSlat,'o',color='k')\n",
    "\n",
    "\n",
    "sst_im = ds_sub.isel(time=ff2[0][1])\n",
    "\n",
    "##############################################\n",
    "fig= plt.figure(figsize=(8,4))\n",
    "ds_sub.isel(time=ff2[0][1]).plot(cmap='coolwarm',levels=np.linspace(27.15,27.9,15))\n",
    "#plt.plot(SPURSlon,SPURSlat,'o',color='k')\n",
    "plt.axis([-38.708669354838705,  -37.26713709677419,  24.239516041550388,  25.32612009257010])\n",
    "gpsdata = pd.read_csv('../buoy_and_glider_lat_lon.csv')\n",
    "gpsdata['date_time'] = [tt.matlab2datetime(tval) for tval in gpsdata['mday']]\n",
    "gpssub = gpsdata.loc[gpsdata['date_time'] >= '201209300000']\n",
    "gpssub = gpssub.loc[gpssub['date_time'] <= '201209300600']\n",
    "plt.plot(gpssub['buoy-lon'], gpssub['buoy-lat'], color='k')\n",
    "plt.plot(gpssub['gldr-lon'], gpssub['gldr-lat'], color='m')\n",
    "plt.plot(gpssub.iloc[-1]['buoy-lon'], gpssub.iloc[-1]['buoy-lat'], 'o', color='k')\n",
    "plt.plot(gpssub.iloc[-1]['gldr-lon'], gpssub.iloc[-1]['gldr-lat'], 'o', color='m')\n",
    "plt.axis('scaled')\n",
    "\n",
    "plt.savefig(__figdir__ + \"/VIIRS_NPP_SST.png\",**savefig_args,dpi=600)\n",
    "```"
   ]
  },
  {
   "cell_type": "code",
   "execution_count": null,
   "id": "7d312934",
   "metadata": {},
   "outputs": [],
   "source": []
  }
 ],
 "metadata": {
  "kernelspec": {
   "display_name": "Python 3 (ipykernel)",
   "language": "python",
   "name": "python3"
  }
 },
 "nbformat": 4,
 "nbformat_minor": 5
}
