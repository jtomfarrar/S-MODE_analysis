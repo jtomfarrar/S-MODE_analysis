{
 "cells": [
  {
   "cell_type": "markdown",
   "metadata": {},
   "source": [
    "# First look at initial Wave Glider netcdf files\n",
    "  \n",
    "Path to \"L1\" (arguably L2) data:  \n",
    "\"G:\\Shared drives\\WaveGlider_SIO_WHOI\\S-MODE PILOT\\WHOI43\\NetCDF\\L1\\SMODE_PFC_Wavegliders_WHOI43.nc\""
   ]
  },
  {
   "cell_type": "code",
   "execution_count": 2,
   "metadata": {},
   "outputs": [],
   "source": [
    "import numpy as np\n",
    "import xarray as xr\n",
    "import matplotlib.pyplot as plt"
   ]
  },
  {
   "cell_type": "code",
   "execution_count": 3,
   "metadata": {},
   "outputs": [],
   "source": [
    "file = r'..\\data\\external\\SMODE_PFC_Wavegliders_WHOI43.nc'"
   ]
  },
  {
   "cell_type": "code",
   "execution_count": 4,
   "metadata": {},
   "outputs": [
    {
     "name": "stdout",
     "output_type": "stream",
     "text": [
      "C:\\Users\\jtomf\\Documents\\Python\\S-MODE_analysis\\code\n"
     ]
    }
   ],
   "source": [
    "cd C:\\Users\\jtomf\\Documents\\Python\\S-MODE_analysis\\code"
   ]
  },
  {
   "cell_type": "markdown",
   "metadata": {},
   "source": [
    "# I had some trouble with xr.open_dataset actually loading the data set, instead of lazy loading\n",
    "I made a stack overflow question here:  \n",
    "  https://stackoverflow.com/questions/71147712/can-i-force-xarray-open-dataset-to-do-a-lazy-load  \n",
    "  \n",
    "Jacob Wenegrat found a solution:  \n",
    " https://twitter.com/roguewave/status/1494117229646032896"
   ]
  },
  {
   "cell_type": "code",
   "execution_count": 5,
   "metadata": {},
   "outputs": [],
   "source": [
    "# Using decode_times=False avoids an error and helps ensure that xr.open_dataset does lazy loading\n",
    "ds = xr.open_dataset(file, decode_times=False)\n",
    "# ds = xr.open_dataset(file, chunks={})"
   ]
  },
  {
   "cell_type": "code",
   "execution_count": 6,
   "metadata": {},
   "outputs": [
    {
     "data": {
      "text/html": [
       "<div><svg style=\"position: absolute; width: 0; height: 0; overflow: hidden\">\n",
       "<defs>\n",
       "<symbol id=\"icon-database\" viewBox=\"0 0 32 32\">\n",
       "<path d=\"M16 0c-8.837 0-16 2.239-16 5v4c0 2.761 7.163 5 16 5s16-2.239 16-5v-4c0-2.761-7.163-5-16-5z\"></path>\n",
       "<path d=\"M16 17c-8.837 0-16-2.239-16-5v6c0 2.761 7.163 5 16 5s16-2.239 16-5v-6c0 2.761-7.163 5-16 5z\"></path>\n",
       "<path d=\"M16 26c-8.837 0-16-2.239-16-5v6c0 2.761 7.163 5 16 5s16-2.239 16-5v-6c0 2.761-7.163 5-16 5z\"></path>\n",
       "</symbol>\n",
       "<symbol id=\"icon-file-text2\" viewBox=\"0 0 32 32\">\n",
       "<path d=\"M28.681 7.159c-0.694-0.947-1.662-2.053-2.724-3.116s-2.169-2.030-3.116-2.724c-1.612-1.182-2.393-1.319-2.841-1.319h-15.5c-1.378 0-2.5 1.121-2.5 2.5v27c0 1.378 1.122 2.5 2.5 2.5h23c1.378 0 2.5-1.122 2.5-2.5v-19.5c0-0.448-0.137-1.23-1.319-2.841zM24.543 5.457c0.959 0.959 1.712 1.825 2.268 2.543h-4.811v-4.811c0.718 0.556 1.584 1.309 2.543 2.268zM28 29.5c0 0.271-0.229 0.5-0.5 0.5h-23c-0.271 0-0.5-0.229-0.5-0.5v-27c0-0.271 0.229-0.5 0.5-0.5 0 0 15.499-0 15.5 0v7c0 0.552 0.448 1 1 1h7v19.5z\"></path>\n",
       "<path d=\"M23 26h-14c-0.552 0-1-0.448-1-1s0.448-1 1-1h14c0.552 0 1 0.448 1 1s-0.448 1-1 1z\"></path>\n",
       "<path d=\"M23 22h-14c-0.552 0-1-0.448-1-1s0.448-1 1-1h14c0.552 0 1 0.448 1 1s-0.448 1-1 1z\"></path>\n",
       "<path d=\"M23 18h-14c-0.552 0-1-0.448-1-1s0.448-1 1-1h14c0.552 0 1 0.448 1 1s-0.448 1-1 1z\"></path>\n",
       "</symbol>\n",
       "</defs>\n",
       "</svg>\n",
       "<style>/* CSS stylesheet for displaying xarray objects in jupyterlab.\n",
       " *\n",
       " */\n",
       "\n",
       ":root {\n",
       "  --xr-font-color0: var(--jp-content-font-color0, rgba(0, 0, 0, 1));\n",
       "  --xr-font-color2: var(--jp-content-font-color2, rgba(0, 0, 0, 0.54));\n",
       "  --xr-font-color3: var(--jp-content-font-color3, rgba(0, 0, 0, 0.38));\n",
       "  --xr-border-color: var(--jp-border-color2, #e0e0e0);\n",
       "  --xr-disabled-color: var(--jp-layout-color3, #bdbdbd);\n",
       "  --xr-background-color: var(--jp-layout-color0, white);\n",
       "  --xr-background-color-row-even: var(--jp-layout-color1, white);\n",
       "  --xr-background-color-row-odd: var(--jp-layout-color2, #eeeeee);\n",
       "}\n",
       "\n",
       "html[theme=dark],\n",
       "body.vscode-dark {\n",
       "  --xr-font-color0: rgba(255, 255, 255, 1);\n",
       "  --xr-font-color2: rgba(255, 255, 255, 0.54);\n",
       "  --xr-font-color3: rgba(255, 255, 255, 0.38);\n",
       "  --xr-border-color: #1F1F1F;\n",
       "  --xr-disabled-color: #515151;\n",
       "  --xr-background-color: #111111;\n",
       "  --xr-background-color-row-even: #111111;\n",
       "  --xr-background-color-row-odd: #313131;\n",
       "}\n",
       "\n",
       ".xr-wrap {\n",
       "  display: block;\n",
       "  min-width: 300px;\n",
       "  max-width: 700px;\n",
       "}\n",
       "\n",
       ".xr-text-repr-fallback {\n",
       "  /* fallback to plain text repr when CSS is not injected (untrusted notebook) */\n",
       "  display: none;\n",
       "}\n",
       "\n",
       ".xr-header {\n",
       "  padding-top: 6px;\n",
       "  padding-bottom: 6px;\n",
       "  margin-bottom: 4px;\n",
       "  border-bottom: solid 1px var(--xr-border-color);\n",
       "}\n",
       "\n",
       ".xr-header > div,\n",
       ".xr-header > ul {\n",
       "  display: inline;\n",
       "  margin-top: 0;\n",
       "  margin-bottom: 0;\n",
       "}\n",
       "\n",
       ".xr-obj-type,\n",
       ".xr-array-name {\n",
       "  margin-left: 2px;\n",
       "  margin-right: 10px;\n",
       "}\n",
       "\n",
       ".xr-obj-type {\n",
       "  color: var(--xr-font-color2);\n",
       "}\n",
       "\n",
       ".xr-sections {\n",
       "  padding-left: 0 !important;\n",
       "  display: grid;\n",
       "  grid-template-columns: 150px auto auto 1fr 20px 20px;\n",
       "}\n",
       "\n",
       ".xr-section-item {\n",
       "  display: contents;\n",
       "}\n",
       "\n",
       ".xr-section-item input {\n",
       "  display: none;\n",
       "}\n",
       "\n",
       ".xr-section-item input + label {\n",
       "  color: var(--xr-disabled-color);\n",
       "}\n",
       "\n",
       ".xr-section-item input:enabled + label {\n",
       "  cursor: pointer;\n",
       "  color: var(--xr-font-color2);\n",
       "}\n",
       "\n",
       ".xr-section-item input:enabled + label:hover {\n",
       "  color: var(--xr-font-color0);\n",
       "}\n",
       "\n",
       ".xr-section-summary {\n",
       "  grid-column: 1;\n",
       "  color: var(--xr-font-color2);\n",
       "  font-weight: 500;\n",
       "}\n",
       "\n",
       ".xr-section-summary > span {\n",
       "  display: inline-block;\n",
       "  padding-left: 0.5em;\n",
       "}\n",
       "\n",
       ".xr-section-summary-in:disabled + label {\n",
       "  color: var(--xr-font-color2);\n",
       "}\n",
       "\n",
       ".xr-section-summary-in + label:before {\n",
       "  display: inline-block;\n",
       "  content: '►';\n",
       "  font-size: 11px;\n",
       "  width: 15px;\n",
       "  text-align: center;\n",
       "}\n",
       "\n",
       ".xr-section-summary-in:disabled + label:before {\n",
       "  color: var(--xr-disabled-color);\n",
       "}\n",
       "\n",
       ".xr-section-summary-in:checked + label:before {\n",
       "  content: '▼';\n",
       "}\n",
       "\n",
       ".xr-section-summary-in:checked + label > span {\n",
       "  display: none;\n",
       "}\n",
       "\n",
       ".xr-section-summary,\n",
       ".xr-section-inline-details {\n",
       "  padding-top: 4px;\n",
       "  padding-bottom: 4px;\n",
       "}\n",
       "\n",
       ".xr-section-inline-details {\n",
       "  grid-column: 2 / -1;\n",
       "}\n",
       "\n",
       ".xr-section-details {\n",
       "  display: none;\n",
       "  grid-column: 1 / -1;\n",
       "  margin-bottom: 5px;\n",
       "}\n",
       "\n",
       ".xr-section-summary-in:checked ~ .xr-section-details {\n",
       "  display: contents;\n",
       "}\n",
       "\n",
       ".xr-array-wrap {\n",
       "  grid-column: 1 / -1;\n",
       "  display: grid;\n",
       "  grid-template-columns: 20px auto;\n",
       "}\n",
       "\n",
       ".xr-array-wrap > label {\n",
       "  grid-column: 1;\n",
       "  vertical-align: top;\n",
       "}\n",
       "\n",
       ".xr-preview {\n",
       "  color: var(--xr-font-color3);\n",
       "}\n",
       "\n",
       ".xr-array-preview,\n",
       ".xr-array-data {\n",
       "  padding: 0 5px !important;\n",
       "  grid-column: 2;\n",
       "}\n",
       "\n",
       ".xr-array-data,\n",
       ".xr-array-in:checked ~ .xr-array-preview {\n",
       "  display: none;\n",
       "}\n",
       "\n",
       ".xr-array-in:checked ~ .xr-array-data,\n",
       ".xr-array-preview {\n",
       "  display: inline-block;\n",
       "}\n",
       "\n",
       ".xr-dim-list {\n",
       "  display: inline-block !important;\n",
       "  list-style: none;\n",
       "  padding: 0 !important;\n",
       "  margin: 0;\n",
       "}\n",
       "\n",
       ".xr-dim-list li {\n",
       "  display: inline-block;\n",
       "  padding: 0;\n",
       "  margin: 0;\n",
       "}\n",
       "\n",
       ".xr-dim-list:before {\n",
       "  content: '(';\n",
       "}\n",
       "\n",
       ".xr-dim-list:after {\n",
       "  content: ')';\n",
       "}\n",
       "\n",
       ".xr-dim-list li:not(:last-child):after {\n",
       "  content: ',';\n",
       "  padding-right: 5px;\n",
       "}\n",
       "\n",
       ".xr-has-index {\n",
       "  font-weight: bold;\n",
       "}\n",
       "\n",
       ".xr-var-list,\n",
       ".xr-var-item {\n",
       "  display: contents;\n",
       "}\n",
       "\n",
       ".xr-var-item > div,\n",
       ".xr-var-item label,\n",
       ".xr-var-item > .xr-var-name span {\n",
       "  background-color: var(--xr-background-color-row-even);\n",
       "  margin-bottom: 0;\n",
       "}\n",
       "\n",
       ".xr-var-item > .xr-var-name:hover span {\n",
       "  padding-right: 5px;\n",
       "}\n",
       "\n",
       ".xr-var-list > li:nth-child(odd) > div,\n",
       ".xr-var-list > li:nth-child(odd) > label,\n",
       ".xr-var-list > li:nth-child(odd) > .xr-var-name span {\n",
       "  background-color: var(--xr-background-color-row-odd);\n",
       "}\n",
       "\n",
       ".xr-var-name {\n",
       "  grid-column: 1;\n",
       "}\n",
       "\n",
       ".xr-var-dims {\n",
       "  grid-column: 2;\n",
       "}\n",
       "\n",
       ".xr-var-dtype {\n",
       "  grid-column: 3;\n",
       "  text-align: right;\n",
       "  color: var(--xr-font-color2);\n",
       "}\n",
       "\n",
       ".xr-var-preview {\n",
       "  grid-column: 4;\n",
       "}\n",
       "\n",
       ".xr-var-name,\n",
       ".xr-var-dims,\n",
       ".xr-var-dtype,\n",
       ".xr-preview,\n",
       ".xr-attrs dt {\n",
       "  white-space: nowrap;\n",
       "  overflow: hidden;\n",
       "  text-overflow: ellipsis;\n",
       "  padding-right: 10px;\n",
       "}\n",
       "\n",
       ".xr-var-name:hover,\n",
       ".xr-var-dims:hover,\n",
       ".xr-var-dtype:hover,\n",
       ".xr-attrs dt:hover {\n",
       "  overflow: visible;\n",
       "  width: auto;\n",
       "  z-index: 1;\n",
       "}\n",
       "\n",
       ".xr-var-attrs,\n",
       ".xr-var-data {\n",
       "  display: none;\n",
       "  background-color: var(--xr-background-color) !important;\n",
       "  padding-bottom: 5px !important;\n",
       "}\n",
       "\n",
       ".xr-var-attrs-in:checked ~ .xr-var-attrs,\n",
       ".xr-var-data-in:checked ~ .xr-var-data {\n",
       "  display: block;\n",
       "}\n",
       "\n",
       ".xr-var-data > table {\n",
       "  float: right;\n",
       "}\n",
       "\n",
       ".xr-var-name span,\n",
       ".xr-var-data,\n",
       ".xr-attrs {\n",
       "  padding-left: 25px !important;\n",
       "}\n",
       "\n",
       ".xr-attrs,\n",
       ".xr-var-attrs,\n",
       ".xr-var-data {\n",
       "  grid-column: 1 / -1;\n",
       "}\n",
       "\n",
       "dl.xr-attrs {\n",
       "  padding: 0;\n",
       "  margin: 0;\n",
       "  display: grid;\n",
       "  grid-template-columns: 125px auto;\n",
       "}\n",
       "\n",
       ".xr-attrs dt,\n",
       ".xr-attrs dd {\n",
       "  padding: 0;\n",
       "  margin: 0;\n",
       "  float: left;\n",
       "  padding-right: 10px;\n",
       "  width: auto;\n",
       "}\n",
       "\n",
       ".xr-attrs dt {\n",
       "  font-weight: normal;\n",
       "  grid-column: 1;\n",
       "}\n",
       "\n",
       ".xr-attrs dt:hover span {\n",
       "  display: inline-block;\n",
       "  background: var(--xr-background-color);\n",
       "  padding-right: 10px;\n",
       "}\n",
       "\n",
       ".xr-attrs dd {\n",
       "  grid-column: 2;\n",
       "  white-space: pre-wrap;\n",
       "  word-break: break-all;\n",
       "}\n",
       "\n",
       ".xr-icon-database,\n",
       ".xr-icon-file-text2 {\n",
       "  display: inline-block;\n",
       "  vertical-align: middle;\n",
       "  width: 1em;\n",
       "  height: 1.5em !important;\n",
       "  stroke-width: 0;\n",
       "  stroke: currentColor;\n",
       "  fill: currentColor;\n",
       "}\n",
       "</style><pre class='xr-text-repr-fallback'>&lt;xarray.Dataset&gt;\n",
       "Dimensions:                      (time_1Hz: 771961, time_20Hz: 15439201)\n",
       "Coordinates:\n",
       "  * time_1Hz                     (time_1Hz) float64 7.385e+05 ... 7.385e+05\n",
       "    latitude_1Hz                 (time_1Hz) float64 ...\n",
       "    longitude_1Hz                (time_1Hz) float64 ...\n",
       "  * time_20Hz                    (time_20Hz) float64 7.385e+05 ... 7.385e+05\n",
       "    latitude_20Hz                (time_20Hz) float64 ...\n",
       "    longitude_20Hz               (time_20Hz) float64 ...\n",
       "    altitude_20Hz                (time_20Hz) float32 ...\n",
       "Data variables:\n",
       "    GPCTD_depth                  (time_1Hz) float32 ...\n",
       "    GPCTD_sea_water_temperature  (time_1Hz) float32 ...\n",
       "    GPCTD_salinity               (time_1Hz) float32 ...\n",
       "    GPCTD_density                (time_1Hz) float32 ...\n",
       "    WXT_rainfall_rate            (time_1Hz) float32 ...\n",
       "    WXT_atmospheric_pressure     (time_1Hz) float32 ...\n",
       "    WXT_air_temperature          (time_1Hz) float32 ...\n",
       "    WXT_relative_humidity        (time_1Hz) float32 ...\n",
       "    WXT_wind_speed               (time_1Hz) float32 ...\n",
       "    WXT_wind_direction           (time_1Hz) float32 ...\n",
       "    SMP21_shortwave_flux         (time_1Hz) float32 ...\n",
       "    SGR4_longwave_flux           (time_1Hz) float32 ...\n",
       "    heading                      (time_20Hz) float32 ...\n",
       "    pitch                        (time_20Hz) float32 ...\n",
       "    roll                         (time_20Hz) float32 ...\n",
       "    u_waveglider                 (time_20Hz) float32 ...\n",
       "    v_waveglider                 (time_20Hz) float32 ...\n",
       "    w_waveglider                 (time_20Hz) float32 ...\n",
       "    Gill_temperature             (time_20Hz) float32 ...\n",
       "    wind_speed                   (time_20Hz) float32 ...\n",
       "    wind_direction               (time_20Hz) float32 ...\n",
       "    wind_vertical                (time_20Hz) float32 ...\n",
       "Attributes:\n",
       "    DOI:                           10.5067/SMODE-GLID3\n",
       "    keywords:                      EARTH SCIENCE &gt; OCEANS &gt; SALINITY/DENSITY ...\n",
       "    keywords_vocabulary:           NASA Global Change Master Directory (GCMD)...\n",
       "    Conventions:                   CF-1.8, ACDD-1.3\n",
       "    id:                            PO.DAAC-SMODE-GLID3\n",
       "    naming_authority:              gov.nasa\n",
       "    featureType:                   trajectory\n",
       "    cdm_data_type:                 Trajectory\n",
       "    platform:                      In Situ Ocean-based Platforms &gt; USV &gt; WAVE...\n",
       "    platform_vocabulary:           GCMD platform keywords\n",
       "    instrument:                    In Situ/Laboratory Instruments &gt; Recorders...\n",
       "    instrument_vocabulary:         GCMD instrument keywords\n",
       "    processing_level:              L1\n",
       "    standard_name_vocabulary:      CF Standard Name Table v72\n",
       "    license:                       Issued under Creative Commons CC BY 4.0\n",
       "    product_version:               1.0\n",
       "    metadata_link:                 https://doi.org/10.5067/SMODE-GLID3\n",
       "    creator_name:                  Tom Farrar\n",
       "    creator_email:                 jfarrar@whoi.edu\n",
       "    creator_type:                  person\n",
       "    creator_institution:           WHOI/\n",
       "    institution:                   WHOI/\n",
       "    project:                       Sub-Mesoscale Ocean Dynamics Experiment (S...\n",
       "    program:                       NASA Earth Venture Suborbital-3 (EVS-3)\n",
       "    contributor_name:              Frederick Bingham\n",
       "    contributor_role:              Project Data Manager\n",
       "    publisher_name:                Physical Oceanography Distributed Active A...\n",
       "    publisher_email:               podaac@podaac.jpl.nasa.gov\n",
       "    publisher_url:                 https://podaac.jpl.nasa.gov\n",
       "    publisher_type:                institution\n",
       "    publisher_institution:         NASA/JPL/PODAAC\n",
       "    sea_name:                      Pacific\n",
       "    geospatial_vertical_units:     m\n",
       "    geospatial_vertical_positive:  down\n",
       "    title:                         S-MODE Pilot Field Campaign Fall 2021 Ocea...\n",
       "    summary:                       Wave Glider SV3-1043 was deployed by R/V O...\n",
       "    uuid:                          12b74580-3f2c-426e-bace-bbdc895cf27b\n",
       "    history:                       2022-02-14 Benjamin Greenwood - process in...\n",
       "    date_created:                  2022-02-14T19:21:21Z</pre><div class='xr-wrap' hidden><div class='xr-header'><div class='xr-obj-type'>xarray.Dataset</div></div><ul class='xr-sections'><li class='xr-section-item'><input id='section-d93f7260-a3f2-4a95-b275-6594a8328e69' class='xr-section-summary-in' type='checkbox' disabled ><label for='section-d93f7260-a3f2-4a95-b275-6594a8328e69' class='xr-section-summary'  title='Expand/collapse section'>Dimensions:</label><div class='xr-section-inline-details'><ul class='xr-dim-list'><li><span class='xr-has-index'>time_1Hz</span>: 771961</li><li><span class='xr-has-index'>time_20Hz</span>: 15439201</li></ul></div><div class='xr-section-details'></div></li><li class='xr-section-item'><input id='section-f3447f27-553b-4f73-813d-155b8e3c6916' class='xr-section-summary-in' type='checkbox'  checked><label for='section-f3447f27-553b-4f73-813d-155b8e3c6916' class='xr-section-summary' >Coordinates: <span>(7)</span></label><div class='xr-section-inline-details'></div><div class='xr-section-details'><ul class='xr-var-list'><li class='xr-var-item'><div class='xr-var-name'><span class='xr-has-index'>time_1Hz</span></div><div class='xr-var-dims'>(time_1Hz)</div><div class='xr-var-dtype'>float64</div><div class='xr-var-preview xr-preview'>7.385e+05 7.385e+05 ... 7.385e+05</div><input id='attrs-da56d215-7f9a-491f-ac18-8cdbfd798c36' class='xr-var-attrs-in' type='checkbox' ><label for='attrs-da56d215-7f9a-491f-ac18-8cdbfd798c36' title='Show/Hide attributes'><svg class='icon xr-icon-file-text2'><use xlink:href='#icon-file-text2'></use></svg></label><input id='data-67bfbd3a-1d51-4b8a-9312-4fb53600e8bf' class='xr-var-data-in' type='checkbox'><label for='data-67bfbd3a-1d51-4b8a-9312-4fb53600e8bf' title='Show/Hide data repr'><svg class='icon xr-icon-database'><use xlink:href='#icon-database'></use></svg></label><div class='xr-var-attrs'><dl class='xr-attrs'><dt><span>long_name :</span></dt><dd>Time recorded by Campbell CR6 datalogger at 1Hz</dd><dt><span>standard_name :</span></dt><dd>time</dd><dt><span>unit :</span></dt><dd>days since 1950-01-01T00:00:00Z</dd><dt><span>axis :</span></dt><dd>T</dd><dt><span>coverage_content_type :</span></dt><dd>coordinate</dd></dl></div><div class='xr-var-data'><pre>array([738457.041667, 738457.041678, 738457.04169 , ..., 738465.976366,\n",
       "       738465.976377, 738465.976389])</pre></div></li><li class='xr-var-item'><div class='xr-var-name'><span>latitude_1Hz</span></div><div class='xr-var-dims'>(time_1Hz)</div><div class='xr-var-dtype'>float64</div><div class='xr-var-preview xr-preview'>...</div><input id='attrs-1fbb90bf-dee0-4ff5-bbe7-b64a78126987' class='xr-var-attrs-in' type='checkbox' ><label for='attrs-1fbb90bf-dee0-4ff5-bbe7-b64a78126987' title='Show/Hide attributes'><svg class='icon xr-icon-file-text2'><use xlink:href='#icon-file-text2'></use></svg></label><input id='data-944cd1a8-6175-4019-8f35-13347a91dcb8' class='xr-var-data-in' type='checkbox'><label for='data-944cd1a8-6175-4019-8f35-13347a91dcb8' title='Show/Hide data repr'><svg class='icon xr-icon-database'><use xlink:href='#icon-database'></use></svg></label><div class='xr-var-attrs'><dl class='xr-attrs'><dt><span>long_name :</span></dt><dd>Latitude of waveglider measured by Sitex GPS</dd><dt><span>standard_name :</span></dt><dd>latitude</dd><dt><span>units :</span></dt><dd>degrees_north</dd><dt><span>coverage_content_type :</span></dt><dd>coordinate</dd><dt><span>sensor :</span></dt><dd>INST_Sitex</dd><dt><span>axis :</span></dt><dd>Y</dd></dl></div><div class='xr-var-data'><pre>[771961 values with dtype=float64]</pre></div></li><li class='xr-var-item'><div class='xr-var-name'><span>longitude_1Hz</span></div><div class='xr-var-dims'>(time_1Hz)</div><div class='xr-var-dtype'>float64</div><div class='xr-var-preview xr-preview'>...</div><input id='attrs-5784d0a5-178f-439a-ad04-7c1c776a5d2b' class='xr-var-attrs-in' type='checkbox' ><label for='attrs-5784d0a5-178f-439a-ad04-7c1c776a5d2b' title='Show/Hide attributes'><svg class='icon xr-icon-file-text2'><use xlink:href='#icon-file-text2'></use></svg></label><input id='data-e3fa0b23-eba7-42f6-8031-4e62d706c83e' class='xr-var-data-in' type='checkbox'><label for='data-e3fa0b23-eba7-42f6-8031-4e62d706c83e' title='Show/Hide data repr'><svg class='icon xr-icon-database'><use xlink:href='#icon-database'></use></svg></label><div class='xr-var-attrs'><dl class='xr-attrs'><dt><span>long_name :</span></dt><dd>Longitude of waveglider measured by Sitex GPS</dd><dt><span>standard_name :</span></dt><dd>longitude</dd><dt><span>units :</span></dt><dd>degrees_east</dd><dt><span>coverage_content_type :</span></dt><dd>coordinate</dd><dt><span>sensor :</span></dt><dd>INST_Sitex</dd><dt><span>axis :</span></dt><dd>X</dd></dl></div><div class='xr-var-data'><pre>[771961 values with dtype=float64]</pre></div></li><li class='xr-var-item'><div class='xr-var-name'><span class='xr-has-index'>time_20Hz</span></div><div class='xr-var-dims'>(time_20Hz)</div><div class='xr-var-dtype'>float64</div><div class='xr-var-preview xr-preview'>7.385e+05 7.385e+05 ... 7.385e+05</div><input id='attrs-f69d2919-5c13-460c-b81b-fcb1ac1d1a93' class='xr-var-attrs-in' type='checkbox' ><label for='attrs-f69d2919-5c13-460c-b81b-fcb1ac1d1a93' title='Show/Hide attributes'><svg class='icon xr-icon-file-text2'><use xlink:href='#icon-file-text2'></use></svg></label><input id='data-99da9c30-adef-440c-b311-101dedf5b1c3' class='xr-var-data-in' type='checkbox'><label for='data-99da9c30-adef-440c-b311-101dedf5b1c3' title='Show/Hide data repr'><svg class='icon xr-icon-database'><use xlink:href='#icon-database'></use></svg></label><div class='xr-var-attrs'><dl class='xr-attrs'><dt><span>long_name :</span></dt><dd>Time recorded at 20Hz by Vectornav GPS</dd><dt><span>standard_name :</span></dt><dd>time</dd><dt><span>units :</span></dt><dd>days since 1950-01-01T00:00:00Z</dd><dt><span>sensor :</span></dt><dd>INST_Vectornav</dd><dt><span>coverage_content_type :</span></dt><dd>coordinate</dd><dt><span>axis :</span></dt><dd>T</dd></dl></div><div class='xr-var-data'><pre>array([738457.041667, 738457.041667, 738457.041668, ..., 738465.976388,\n",
       "       738465.976388, 738465.976389])</pre></div></li><li class='xr-var-item'><div class='xr-var-name'><span>latitude_20Hz</span></div><div class='xr-var-dims'>(time_20Hz)</div><div class='xr-var-dtype'>float64</div><div class='xr-var-preview xr-preview'>...</div><input id='attrs-faec6581-7ef7-4cd4-b7c3-4ff1dadc69d8' class='xr-var-attrs-in' type='checkbox' ><label for='attrs-faec6581-7ef7-4cd4-b7c3-4ff1dadc69d8' title='Show/Hide attributes'><svg class='icon xr-icon-file-text2'><use xlink:href='#icon-file-text2'></use></svg></label><input id='data-ae51aa87-39f8-4953-843a-338c162fd7fe' class='xr-var-data-in' type='checkbox'><label for='data-ae51aa87-39f8-4953-843a-338c162fd7fe' title='Show/Hide data repr'><svg class='icon xr-icon-database'><use xlink:href='#icon-database'></use></svg></label><div class='xr-var-attrs'><dl class='xr-attrs'><dt><span>long_name :</span></dt><dd>Latitude of Wave Glider measured at 20Hz by Vectornav GPS</dd><dt><span>standard_name :</span></dt><dd>latitude</dd><dt><span>units :</span></dt><dd>degrees_north</dd><dt><span>sensor :</span></dt><dd>INST_Vectornav</dd><dt><span>coverage_content_type :</span></dt><dd>coordinate</dd><dt><span>axis :</span></dt><dd>Y</dd></dl></div><div class='xr-var-data'><pre>[15439201 values with dtype=float64]</pre></div></li><li class='xr-var-item'><div class='xr-var-name'><span>longitude_20Hz</span></div><div class='xr-var-dims'>(time_20Hz)</div><div class='xr-var-dtype'>float64</div><div class='xr-var-preview xr-preview'>...</div><input id='attrs-2ca04449-c655-46fb-80a9-6057fa7cb44b' class='xr-var-attrs-in' type='checkbox' ><label for='attrs-2ca04449-c655-46fb-80a9-6057fa7cb44b' title='Show/Hide attributes'><svg class='icon xr-icon-file-text2'><use xlink:href='#icon-file-text2'></use></svg></label><input id='data-80b93a1f-ad70-4603-b424-e1c69a4e44b6' class='xr-var-data-in' type='checkbox'><label for='data-80b93a1f-ad70-4603-b424-e1c69a4e44b6' title='Show/Hide data repr'><svg class='icon xr-icon-database'><use xlink:href='#icon-database'></use></svg></label><div class='xr-var-attrs'><dl class='xr-attrs'><dt><span>long_name :</span></dt><dd>Longitude of Wave Glider measured at 20Hz by Vectornav GPS</dd><dt><span>standard_name :</span></dt><dd>longitude</dd><dt><span>units :</span></dt><dd>degrees_east</dd><dt><span>sensor :</span></dt><dd>INST_Vectornav</dd><dt><span>coverage_content_type :</span></dt><dd>coordinate</dd><dt><span>axis :</span></dt><dd>X</dd></dl></div><div class='xr-var-data'><pre>[15439201 values with dtype=float64]</pre></div></li><li class='xr-var-item'><div class='xr-var-name'><span>altitude_20Hz</span></div><div class='xr-var-dims'>(time_20Hz)</div><div class='xr-var-dtype'>float32</div><div class='xr-var-preview xr-preview'>...</div><input id='attrs-9ddc2a5c-a128-413f-9073-2ddb646386d5' class='xr-var-attrs-in' type='checkbox' ><label for='attrs-9ddc2a5c-a128-413f-9073-2ddb646386d5' title='Show/Hide attributes'><svg class='icon xr-icon-file-text2'><use xlink:href='#icon-file-text2'></use></svg></label><input id='data-a617eb03-5231-4ef9-84e6-8345e0c59504' class='xr-var-data-in' type='checkbox'><label for='data-a617eb03-5231-4ef9-84e6-8345e0c59504' title='Show/Hide data repr'><svg class='icon xr-icon-database'><use xlink:href='#icon-database'></use></svg></label><div class='xr-var-attrs'><dl class='xr-attrs'><dt><span>long_name :</span></dt><dd>Height of Wave Glider above mean sea level measured by Vectornav GPS</dd><dt><span>standard_name :</span></dt><dd>altitude</dd><dt><span>units :</span></dt><dd>m</dd><dt><span>positive :</span></dt><dd>up</dd><dt><span>sensor :</span></dt><dd>INST_Vectornav</dd><dt><span>coverage_content_type :</span></dt><dd>coordinate</dd><dt><span>axis :</span></dt><dd>Z</dd></dl></div><div class='xr-var-data'><pre>[15439201 values with dtype=float32]</pre></div></li></ul></div></li><li class='xr-section-item'><input id='section-ae5a4c6b-3ae1-4ef9-a5b4-0ae7b45bcabe' class='xr-section-summary-in' type='checkbox'  ><label for='section-ae5a4c6b-3ae1-4ef9-a5b4-0ae7b45bcabe' class='xr-section-summary' >Data variables: <span>(22)</span></label><div class='xr-section-inline-details'></div><div class='xr-section-details'><ul class='xr-var-list'><li class='xr-var-item'><div class='xr-var-name'><span>GPCTD_depth</span></div><div class='xr-var-dims'>(time_1Hz)</div><div class='xr-var-dtype'>float32</div><div class='xr-var-preview xr-preview'>...</div><input id='attrs-701010e3-05d8-4601-a98c-7d82be4ee61b' class='xr-var-attrs-in' type='checkbox' ><label for='attrs-701010e3-05d8-4601-a98c-7d82be4ee61b' title='Show/Hide attributes'><svg class='icon xr-icon-file-text2'><use xlink:href='#icon-file-text2'></use></svg></label><input id='data-df03a0fb-5d73-4d0e-b277-cf4350444831' class='xr-var-data-in' type='checkbox'><label for='data-df03a0fb-5d73-4d0e-b277-cf4350444831' title='Show/Hide data repr'><svg class='icon xr-icon-database'><use xlink:href='#icon-database'></use></svg></label><div class='xr-var-attrs'><dl class='xr-attrs'><dt><span>long_name :</span></dt><dd>depth of GPCTD measurement</dd><dt><span>standard_name :</span></dt><dd>depth</dd><dt><span>units :</span></dt><dd>m</dd><dt><span>valid_min :</span></dt><dd>0.0</dd><dt><span>valid_max :</span></dt><dd>2.0</dd><dt><span>positive :</span></dt><dd>down</dd><dt><span>sensor :</span></dt><dd>INST_GPCTD</dd><dt><span>coverage_content_type :</span></dt><dd>coordinate</dd></dl></div><div class='xr-var-data'><pre>[771961 values with dtype=float32]</pre></div></li><li class='xr-var-item'><div class='xr-var-name'><span>GPCTD_sea_water_temperature</span></div><div class='xr-var-dims'>(time_1Hz)</div><div class='xr-var-dtype'>float32</div><div class='xr-var-preview xr-preview'>...</div><input id='attrs-0c003e60-b8b8-4a53-b296-53af696fe783' class='xr-var-attrs-in' type='checkbox' ><label for='attrs-0c003e60-b8b8-4a53-b296-53af696fe783' title='Show/Hide attributes'><svg class='icon xr-icon-file-text2'><use xlink:href='#icon-file-text2'></use></svg></label><input id='data-2c729c32-de9c-4adc-b268-73dceaf9b9b5' class='xr-var-data-in' type='checkbox'><label for='data-2c729c32-de9c-4adc-b268-73dceaf9b9b5' title='Show/Hide data repr'><svg class='icon xr-icon-database'><use xlink:href='#icon-database'></use></svg></label><div class='xr-var-attrs'><dl class='xr-attrs'><dt><span>long_name :</span></dt><dd>GPCTD sea water temperature</dd><dt><span>standard_name :</span></dt><dd>sea_water_temperature</dd><dt><span>units :</span></dt><dd>degrees_C</dd><dt><span>valid_min :</span></dt><dd>-1.0</dd><dt><span>valid_max :</span></dt><dd>32.0</dd><dt><span>sensor :</span></dt><dd>INST_GPCTD</dd><dt><span>coverage_content_type :</span></dt><dd>physicalMeasurement</dd></dl></div><div class='xr-var-data'><pre>[771961 values with dtype=float32]</pre></div></li><li class='xr-var-item'><div class='xr-var-name'><span>GPCTD_salinity</span></div><div class='xr-var-dims'>(time_1Hz)</div><div class='xr-var-dtype'>float32</div><div class='xr-var-preview xr-preview'>...</div><input id='attrs-b86767b2-1e3b-4e2f-b402-61cc665e52d8' class='xr-var-attrs-in' type='checkbox' ><label for='attrs-b86767b2-1e3b-4e2f-b402-61cc665e52d8' title='Show/Hide attributes'><svg class='icon xr-icon-file-text2'><use xlink:href='#icon-file-text2'></use></svg></label><input id='data-edf6f089-cca9-4e9c-aa94-fe9248e987e0' class='xr-var-data-in' type='checkbox'><label for='data-edf6f089-cca9-4e9c-aa94-fe9248e987e0' title='Show/Hide data repr'><svg class='icon xr-icon-database'><use xlink:href='#icon-database'></use></svg></label><div class='xr-var-attrs'><dl class='xr-attrs'><dt><span>long_name :</span></dt><dd>GPCTD sea surface practical salinity measurement</dd><dt><span>standard_name :</span></dt><dd>sea_water_practical_salinity</dd><dt><span>units :</span></dt><dd>1</dd><dt><span>valid_min :</span></dt><dd>30.0</dd><dt><span>valid_max :</span></dt><dd>36.0</dd><dt><span>sensor :</span></dt><dd>INST_GPCTD</dd><dt><span>coverage_content_type :</span></dt><dd>physicalMeasurement</dd></dl></div><div class='xr-var-data'><pre>[771961 values with dtype=float32]</pre></div></li><li class='xr-var-item'><div class='xr-var-name'><span>GPCTD_density</span></div><div class='xr-var-dims'>(time_1Hz)</div><div class='xr-var-dtype'>float32</div><div class='xr-var-preview xr-preview'>...</div><input id='attrs-b5615a98-10f7-426f-af2b-806b53e7208d' class='xr-var-attrs-in' type='checkbox' ><label for='attrs-b5615a98-10f7-426f-af2b-806b53e7208d' title='Show/Hide attributes'><svg class='icon xr-icon-file-text2'><use xlink:href='#icon-file-text2'></use></svg></label><input id='data-6fee14b5-a698-42bc-a211-334718fc3fb4' class='xr-var-data-in' type='checkbox'><label for='data-6fee14b5-a698-42bc-a211-334718fc3fb4' title='Show/Hide data repr'><svg class='icon xr-icon-database'><use xlink:href='#icon-database'></use></svg></label><div class='xr-var-attrs'><dl class='xr-attrs'><dt><span>long_name :</span></dt><dd>GPCTD sea water potential density</dd><dt><span>standard_name :</span></dt><dd>sea_water_sigma_theta</dd><dt><span>units :</span></dt><dd>kg m-3</dd><dt><span>valid_min :</span></dt><dd>0.0</dd><dt><span>valid_max :</span></dt><dd>40.0</dd><dt><span>sensor :</span></dt><dd>INST_GPCTD</dd><dt><span>coverage_content_type :</span></dt><dd>physicalMeasurement</dd></dl></div><div class='xr-var-data'><pre>[771961 values with dtype=float32]</pre></div></li><li class='xr-var-item'><div class='xr-var-name'><span>WXT_rainfall_rate</span></div><div class='xr-var-dims'>(time_1Hz)</div><div class='xr-var-dtype'>float32</div><div class='xr-var-preview xr-preview'>...</div><input id='attrs-da47644f-5a15-4c37-98db-16cdb07cfcc3' class='xr-var-attrs-in' type='checkbox' ><label for='attrs-da47644f-5a15-4c37-98db-16cdb07cfcc3' title='Show/Hide attributes'><svg class='icon xr-icon-file-text2'><use xlink:href='#icon-file-text2'></use></svg></label><input id='data-4f3f493a-d785-471a-b4ad-d13d61812823' class='xr-var-data-in' type='checkbox'><label for='data-4f3f493a-d785-471a-b4ad-d13d61812823' title='Show/Hide data repr'><svg class='icon xr-icon-database'><use xlink:href='#icon-database'></use></svg></label><div class='xr-var-attrs'><dl class='xr-attrs'><dt><span>long_name :</span></dt><dd>Rainfall measured by WXT530</dd><dt><span>standard_name :</span></dt><dd>rainfall_rate</dd><dt><span>units :</span></dt><dd>mm h-1</dd><dt><span>valid_min :</span></dt><dd>0.0</dd><dt><span>valid_max :</span></dt><dd>50.0</dd><dt><span>sensor :</span></dt><dd>INST_WXT</dd><dt><span>coverage_content_type :</span></dt><dd>physicalMeasurement</dd></dl></div><div class='xr-var-data'><pre>[771961 values with dtype=float32]</pre></div></li><li class='xr-var-item'><div class='xr-var-name'><span>WXT_atmospheric_pressure</span></div><div class='xr-var-dims'>(time_1Hz)</div><div class='xr-var-dtype'>float32</div><div class='xr-var-preview xr-preview'>...</div><input id='attrs-fb8eb04f-0776-4823-b4aa-8d5b4e468daa' class='xr-var-attrs-in' type='checkbox' ><label for='attrs-fb8eb04f-0776-4823-b4aa-8d5b4e468daa' title='Show/Hide attributes'><svg class='icon xr-icon-file-text2'><use xlink:href='#icon-file-text2'></use></svg></label><input id='data-0b2d3180-582b-4086-b62d-ea452b4e557b' class='xr-var-data-in' type='checkbox'><label for='data-0b2d3180-582b-4086-b62d-ea452b4e557b' title='Show/Hide data repr'><svg class='icon xr-icon-database'><use xlink:href='#icon-database'></use></svg></label><div class='xr-var-attrs'><dl class='xr-attrs'><dt><span>long_name :</span></dt><dd>Atmospheric Pressure measured by WXT530</dd><dt><span>standard_name :</span></dt><dd>air_pressure</dd><dt><span>units :</span></dt><dd>mbar</dd><dt><span>valid_min :</span></dt><dd>950.0</dd><dt><span>valid_max :</span></dt><dd>1050.0</dd><dt><span>sensor :</span></dt><dd>INST_WXT</dd><dt><span>coverage_content_type :</span></dt><dd>physicalMeasurement</dd></dl></div><div class='xr-var-data'><pre>[771961 values with dtype=float32]</pre></div></li><li class='xr-var-item'><div class='xr-var-name'><span>WXT_air_temperature</span></div><div class='xr-var-dims'>(time_1Hz)</div><div class='xr-var-dtype'>float32</div><div class='xr-var-preview xr-preview'>...</div><input id='attrs-97528d74-29d2-4702-9a4d-564c3fe8a5e9' class='xr-var-attrs-in' type='checkbox' ><label for='attrs-97528d74-29d2-4702-9a4d-564c3fe8a5e9' title='Show/Hide attributes'><svg class='icon xr-icon-file-text2'><use xlink:href='#icon-file-text2'></use></svg></label><input id='data-c634c7a0-a108-416c-9ac0-d83ba19b12f7' class='xr-var-data-in' type='checkbox'><label for='data-c634c7a0-a108-416c-9ac0-d83ba19b12f7' title='Show/Hide data repr'><svg class='icon xr-icon-database'><use xlink:href='#icon-database'></use></svg></label><div class='xr-var-attrs'><dl class='xr-attrs'><dt><span>long_name :</span></dt><dd>Air temperature measured by WXT530</dd><dt><span>standard_name :</span></dt><dd>air_temperature</dd><dt><span>units :</span></dt><dd>degrees_C</dd><dt><span>valid_min :</span></dt><dd>-10.0</dd><dt><span>valid_max :</span></dt><dd>40.0</dd><dt><span>sensor :</span></dt><dd>INST_WXT</dd><dt><span>coverage_content_type :</span></dt><dd>physicalMeasurement</dd></dl></div><div class='xr-var-data'><pre>[771961 values with dtype=float32]</pre></div></li><li class='xr-var-item'><div class='xr-var-name'><span>WXT_relative_humidity</span></div><div class='xr-var-dims'>(time_1Hz)</div><div class='xr-var-dtype'>float32</div><div class='xr-var-preview xr-preview'>...</div><input id='attrs-f6008cfd-11b5-499b-9cdf-284aea1c2cd1' class='xr-var-attrs-in' type='checkbox' ><label for='attrs-f6008cfd-11b5-499b-9cdf-284aea1c2cd1' title='Show/Hide attributes'><svg class='icon xr-icon-file-text2'><use xlink:href='#icon-file-text2'></use></svg></label><input id='data-9e4d2f94-6e37-40fb-bcdc-107b9ae3447e' class='xr-var-data-in' type='checkbox'><label for='data-9e4d2f94-6e37-40fb-bcdc-107b9ae3447e' title='Show/Hide data repr'><svg class='icon xr-icon-database'><use xlink:href='#icon-database'></use></svg></label><div class='xr-var-attrs'><dl class='xr-attrs'><dt><span>long_name :</span></dt><dd>Relative humidity measured by WXT530</dd><dt><span>standard_name :</span></dt><dd>relative_humidity</dd><dt><span>units :</span></dt><dd>1</dd><dt><span>valid_min :</span></dt><dd>0.0</dd><dt><span>valid_max :</span></dt><dd>100.0</dd><dt><span>sensor :</span></dt><dd>INST_WXT</dd><dt><span>coverage_content_type :</span></dt><dd>physicalMeasurement</dd></dl></div><div class='xr-var-data'><pre>[771961 values with dtype=float32]</pre></div></li><li class='xr-var-item'><div class='xr-var-name'><span>WXT_wind_speed</span></div><div class='xr-var-dims'>(time_1Hz)</div><div class='xr-var-dtype'>float32</div><div class='xr-var-preview xr-preview'>...</div><input id='attrs-15b6647f-4df5-44b7-b93a-1615314890a7' class='xr-var-attrs-in' type='checkbox' ><label for='attrs-15b6647f-4df5-44b7-b93a-1615314890a7' title='Show/Hide attributes'><svg class='icon xr-icon-file-text2'><use xlink:href='#icon-file-text2'></use></svg></label><input id='data-b654d992-70c5-4b0a-be7b-38f0365c3177' class='xr-var-data-in' type='checkbox'><label for='data-b654d992-70c5-4b0a-be7b-38f0365c3177' title='Show/Hide data repr'><svg class='icon xr-icon-database'><use xlink:href='#icon-database'></use></svg></label><div class='xr-var-attrs'><dl class='xr-attrs'><dt><span>long_name :</span></dt><dd>Wind speed measured by WXT530</dd><dt><span>standard_name :</span></dt><dd>wind_speed</dd><dt><span>units :</span></dt><dd>m s-1</dd><dt><span>valid_min :</span></dt><dd>0.0</dd><dt><span>valid_max :</span></dt><dd>50.0</dd><dt><span>sensor :</span></dt><dd>INST_WXT</dd><dt><span>coverage_content_type :</span></dt><dd>physicalMeasurement</dd></dl></div><div class='xr-var-data'><pre>[771961 values with dtype=float32]</pre></div></li><li class='xr-var-item'><div class='xr-var-name'><span>WXT_wind_direction</span></div><div class='xr-var-dims'>(time_1Hz)</div><div class='xr-var-dtype'>float32</div><div class='xr-var-preview xr-preview'>...</div><input id='attrs-c1c332e7-ef9a-4a78-bffc-51f3076290af' class='xr-var-attrs-in' type='checkbox' ><label for='attrs-c1c332e7-ef9a-4a78-bffc-51f3076290af' title='Show/Hide attributes'><svg class='icon xr-icon-file-text2'><use xlink:href='#icon-file-text2'></use></svg></label><input id='data-2a994b05-e8e0-461e-8049-bed7e3db0e5e' class='xr-var-data-in' type='checkbox'><label for='data-2a994b05-e8e0-461e-8049-bed7e3db0e5e' title='Show/Hide data repr'><svg class='icon xr-icon-database'><use xlink:href='#icon-database'></use></svg></label><div class='xr-var-attrs'><dl class='xr-attrs'><dt><span>long_name :</span></dt><dd>Wind direction measured by WXT530; positive towards starting forward and measured clockwise</dd><dt><span>standard_name :</span></dt><dd>wind_to_direction</dd><dt><span>units :</span></dt><dd>degree</dd><dt><span>valid_min :</span></dt><dd>0.0</dd><dt><span>valid_max :</span></dt><dd>360.0</dd><dt><span>sensor :</span></dt><dd>INST_WXT</dd><dt><span>coverage_content_type :</span></dt><dd>physicalMeasurement</dd></dl></div><div class='xr-var-data'><pre>[771961 values with dtype=float32]</pre></div></li><li class='xr-var-item'><div class='xr-var-name'><span>SMP21_shortwave_flux</span></div><div class='xr-var-dims'>(time_1Hz)</div><div class='xr-var-dtype'>float32</div><div class='xr-var-preview xr-preview'>...</div><input id='attrs-f34a8af4-ee9a-41c2-afd0-dbcd2f29a388' class='xr-var-attrs-in' type='checkbox' ><label for='attrs-f34a8af4-ee9a-41c2-afd0-dbcd2f29a388' title='Show/Hide attributes'><svg class='icon xr-icon-file-text2'><use xlink:href='#icon-file-text2'></use></svg></label><input id='data-1a8aa94e-f511-4ad0-94fe-8040cb5a764a' class='xr-var-data-in' type='checkbox'><label for='data-1a8aa94e-f511-4ad0-94fe-8040cb5a764a' title='Show/Hide data repr'><svg class='icon xr-icon-database'><use xlink:href='#icon-database'></use></svg></label><div class='xr-var-attrs'><dl class='xr-attrs'><dt><span>long_name :</span></dt><dd>Downwelling shortwave flux in air measured by SMP21-V</dd><dt><span>standard_name :</span></dt><dd>surface_downwelling_shortwave_flux_in_air</dd><dt><span>units :</span></dt><dd>W m-2</dd><dt><span>valid_min :</span></dt><dd>0.0</dd><dt><span>valid_max :</span></dt><dd>1400.0</dd><dt><span>sensor :</span></dt><dd>INST_SMP21</dd><dt><span>coverage_content_type :</span></dt><dd>physicalMeasurement</dd></dl></div><div class='xr-var-data'><pre>[771961 values with dtype=float32]</pre></div></li><li class='xr-var-item'><div class='xr-var-name'><span>SGR4_longwave_flux</span></div><div class='xr-var-dims'>(time_1Hz)</div><div class='xr-var-dtype'>float32</div><div class='xr-var-preview xr-preview'>...</div><input id='attrs-4166a7e5-ed21-4774-b4fd-35a8a5a0c23b' class='xr-var-attrs-in' type='checkbox' ><label for='attrs-4166a7e5-ed21-4774-b4fd-35a8a5a0c23b' title='Show/Hide attributes'><svg class='icon xr-icon-file-text2'><use xlink:href='#icon-file-text2'></use></svg></label><input id='data-7fd55301-a06e-4be0-a079-94de45fe1515' class='xr-var-data-in' type='checkbox'><label for='data-7fd55301-a06e-4be0-a079-94de45fe1515' title='Show/Hide data repr'><svg class='icon xr-icon-database'><use xlink:href='#icon-database'></use></svg></label><div class='xr-var-attrs'><dl class='xr-attrs'><dt><span>long_name :</span></dt><dd>Downwelling longwave flux in air measured by SGR4-V</dd><dt><span>standard_name :</span></dt><dd>surface_downwelling_longwave_flux_in_air</dd><dt><span>units :</span></dt><dd>W m-2</dd><dt><span>valid_min :</span></dt><dd>200.0</dd><dt><span>valid_max :</span></dt><dd>500.0</dd><dt><span>sensor :</span></dt><dd>INST_SGR4</dd><dt><span>coverage_content_type :</span></dt><dd>physicalMeasurement</dd></dl></div><div class='xr-var-data'><pre>[771961 values with dtype=float32]</pre></div></li><li class='xr-var-item'><div class='xr-var-name'><span>heading</span></div><div class='xr-var-dims'>(time_20Hz)</div><div class='xr-var-dtype'>float32</div><div class='xr-var-preview xr-preview'>...</div><input id='attrs-d7b4afba-5dee-4c9b-b289-fb8530b7818e' class='xr-var-attrs-in' type='checkbox' ><label for='attrs-d7b4afba-5dee-4c9b-b289-fb8530b7818e' title='Show/Hide attributes'><svg class='icon xr-icon-file-text2'><use xlink:href='#icon-file-text2'></use></svg></label><input id='data-107d217b-cd6c-438e-827d-fb98170714bc' class='xr-var-data-in' type='checkbox'><label for='data-107d217b-cd6c-438e-827d-fb98170714bc' title='Show/Hide data repr'><svg class='icon xr-icon-database'><use xlink:href='#icon-database'></use></svg></label><div class='xr-var-attrs'><dl class='xr-attrs'><dt><span>long_name :</span></dt><dd>Wave Glider heading measured by Vectornav IMU, clockwise with respect to true north</dd><dt><span>standard_name :</span></dt><dd>platform_orientation</dd><dt><span>units :</span></dt><dd>degree</dd><dt><span>valid_min :</span></dt><dd>-180.0</dd><dt><span>valid_max :</span></dt><dd>180.0</dd><dt><span>sensor :</span></dt><dd>INST_Vectornav</dd><dt><span>coverage_content_type :</span></dt><dd>physicalMeasurement</dd></dl></div><div class='xr-var-data'><pre>[15439201 values with dtype=float32]</pre></div></li><li class='xr-var-item'><div class='xr-var-name'><span>pitch</span></div><div class='xr-var-dims'>(time_20Hz)</div><div class='xr-var-dtype'>float32</div><div class='xr-var-preview xr-preview'>...</div><input id='attrs-edb0b0a0-40c1-4578-b337-f80301c47104' class='xr-var-attrs-in' type='checkbox' ><label for='attrs-edb0b0a0-40c1-4578-b337-f80301c47104' title='Show/Hide attributes'><svg class='icon xr-icon-file-text2'><use xlink:href='#icon-file-text2'></use></svg></label><input id='data-97fe7109-585b-4c69-98e6-c497446b16d6' class='xr-var-data-in' type='checkbox'><label for='data-97fe7109-585b-4c69-98e6-c497446b16d6' title='Show/Hide data repr'><svg class='icon xr-icon-database'><use xlink:href='#icon-database'></use></svg></label><div class='xr-var-attrs'><dl class='xr-attrs'><dt><span>long_name :</span></dt><dd>Wave Glider pitch measured using by Vectornav IMU</dd><dt><span>standard_name :</span></dt><dd>platform_pitch</dd><dt><span>units :</span></dt><dd>degree</dd><dt><span>valid_min :</span></dt><dd>-90.0</dd><dt><span>valid_max :</span></dt><dd>90.0</dd><dt><span>sensor :</span></dt><dd>INST_Vectornav</dd><dt><span>coverage_content_type :</span></dt><dd>physicalMeasurement</dd></dl></div><div class='xr-var-data'><pre>[15439201 values with dtype=float32]</pre></div></li><li class='xr-var-item'><div class='xr-var-name'><span>roll</span></div><div class='xr-var-dims'>(time_20Hz)</div><div class='xr-var-dtype'>float32</div><div class='xr-var-preview xr-preview'>...</div><input id='attrs-f1860d37-af68-4f47-9fec-c5e48b8294a0' class='xr-var-attrs-in' type='checkbox' ><label for='attrs-f1860d37-af68-4f47-9fec-c5e48b8294a0' title='Show/Hide attributes'><svg class='icon xr-icon-file-text2'><use xlink:href='#icon-file-text2'></use></svg></label><input id='data-399202e4-eb03-4e10-b6f8-e96f4901f5e8' class='xr-var-data-in' type='checkbox'><label for='data-399202e4-eb03-4e10-b6f8-e96f4901f5e8' title='Show/Hide data repr'><svg class='icon xr-icon-database'><use xlink:href='#icon-database'></use></svg></label><div class='xr-var-attrs'><dl class='xr-attrs'><dt><span>long_name :</span></dt><dd>Wave Glider roll measured by Vectornav IMU</dd><dt><span>standard_name :</span></dt><dd>platform_roll</dd><dt><span>units :</span></dt><dd>degree</dd><dt><span>valid_min :</span></dt><dd>-180.0</dd><dt><span>valid_max :</span></dt><dd>180.0</dd><dt><span>sensor :</span></dt><dd>INST_Vectornav</dd><dt><span>coverage_content_type :</span></dt><dd>physicalMeasurement</dd></dl></div><div class='xr-var-data'><pre>[15439201 values with dtype=float32]</pre></div></li><li class='xr-var-item'><div class='xr-var-name'><span>u_waveglider</span></div><div class='xr-var-dims'>(time_20Hz)</div><div class='xr-var-dtype'>float32</div><div class='xr-var-preview xr-preview'>...</div><input id='attrs-56893cea-ce5f-4a20-9714-61265984daff' class='xr-var-attrs-in' type='checkbox' ><label for='attrs-56893cea-ce5f-4a20-9714-61265984daff' title='Show/Hide attributes'><svg class='icon xr-icon-file-text2'><use xlink:href='#icon-file-text2'></use></svg></label><input id='data-b33d1fce-72fa-420b-9699-7eca7a588f2c' class='xr-var-data-in' type='checkbox'><label for='data-b33d1fce-72fa-420b-9699-7eca7a588f2c' title='Show/Hide data repr'><svg class='icon xr-icon-database'><use xlink:href='#icon-database'></use></svg></label><div class='xr-var-attrs'><dl class='xr-attrs'><dt><span>long_name :</span></dt><dd>Wave Glider zonal velocity component measured by Vectornav GPS</dd><dt><span>units :</span></dt><dd>m s-1</dd><dt><span>valid_min :</span></dt><dd>-10.0</dd><dt><span>valid_max :</span></dt><dd>10.0</dd><dt><span>sensor :</span></dt><dd>INST_Vectornav</dd><dt><span>coverage_content_type :</span></dt><dd>physicalMeasurement</dd></dl></div><div class='xr-var-data'><pre>[15439201 values with dtype=float32]</pre></div></li><li class='xr-var-item'><div class='xr-var-name'><span>v_waveglider</span></div><div class='xr-var-dims'>(time_20Hz)</div><div class='xr-var-dtype'>float32</div><div class='xr-var-preview xr-preview'>...</div><input id='attrs-286a114d-7122-4a4a-bba7-3e31b6afa35f' class='xr-var-attrs-in' type='checkbox' ><label for='attrs-286a114d-7122-4a4a-bba7-3e31b6afa35f' title='Show/Hide attributes'><svg class='icon xr-icon-file-text2'><use xlink:href='#icon-file-text2'></use></svg></label><input id='data-7f1326f0-7b2e-4421-b013-dda02506e5f3' class='xr-var-data-in' type='checkbox'><label for='data-7f1326f0-7b2e-4421-b013-dda02506e5f3' title='Show/Hide data repr'><svg class='icon xr-icon-database'><use xlink:href='#icon-database'></use></svg></label><div class='xr-var-attrs'><dl class='xr-attrs'><dt><span>long_name :</span></dt><dd>Wave Glider meridional velocity component measured by Vectornav GPS</dd><dt><span>units :</span></dt><dd>m s-1</dd><dt><span>valid_min :</span></dt><dd>-10.0</dd><dt><span>valid_max :</span></dt><dd>10.0</dd><dt><span>sensor :</span></dt><dd>INST_Vectornav</dd><dt><span>coverage_content_type :</span></dt><dd>physicalMeasurement</dd></dl></div><div class='xr-var-data'><pre>[15439201 values with dtype=float32]</pre></div></li><li class='xr-var-item'><div class='xr-var-name'><span>w_waveglider</span></div><div class='xr-var-dims'>(time_20Hz)</div><div class='xr-var-dtype'>float32</div><div class='xr-var-preview xr-preview'>...</div><input id='attrs-8d1bbb6a-c5e8-470c-9396-44dc57b2cb94' class='xr-var-attrs-in' type='checkbox' ><label for='attrs-8d1bbb6a-c5e8-470c-9396-44dc57b2cb94' title='Show/Hide attributes'><svg class='icon xr-icon-file-text2'><use xlink:href='#icon-file-text2'></use></svg></label><input id='data-68ae6caf-927b-493e-b77a-3c227d001589' class='xr-var-data-in' type='checkbox'><label for='data-68ae6caf-927b-493e-b77a-3c227d001589' title='Show/Hide data repr'><svg class='icon xr-icon-database'><use xlink:href='#icon-database'></use></svg></label><div class='xr-var-attrs'><dl class='xr-attrs'><dt><span>long_name :</span></dt><dd>Wave Glider downward velocity measured by Vectornav GPS</dd><dt><span>standard_name :</span></dt><dd>platform_heave_rate_down</dd><dt><span>units :</span></dt><dd>m s-1</dd><dt><span>valid_min :</span></dt><dd>-10.0</dd><dt><span>valid_max :</span></dt><dd>10.0</dd><dt><span>positive :</span></dt><dd>down</dd><dt><span>sensor :</span></dt><dd>INST_Vectornav</dd><dt><span>coverage_content_type :</span></dt><dd>physicalMeasurement</dd></dl></div><div class='xr-var-data'><pre>[15439201 values with dtype=float32]</pre></div></li><li class='xr-var-item'><div class='xr-var-name'><span>Gill_temperature</span></div><div class='xr-var-dims'>(time_20Hz)</div><div class='xr-var-dtype'>float32</div><div class='xr-var-preview xr-preview'>...</div><input id='attrs-20bc0251-c826-48ab-be67-45b3a1845f7b' class='xr-var-attrs-in' type='checkbox' ><label for='attrs-20bc0251-c826-48ab-be67-45b3a1845f7b' title='Show/Hide attributes'><svg class='icon xr-icon-file-text2'><use xlink:href='#icon-file-text2'></use></svg></label><input id='data-0f4cca42-b32c-43e6-b805-f592cd7849b2' class='xr-var-data-in' type='checkbox'><label for='data-0f4cca42-b32c-43e6-b805-f592cd7849b2' title='Show/Hide data repr'><svg class='icon xr-icon-database'><use xlink:href='#icon-database'></use></svg></label><div class='xr-var-attrs'><dl class='xr-attrs'><dt><span>long_name :</span></dt><dd>Air temperature measured by Gill R3-50</dd><dt><span>standard_name :</span></dt><dd>air_temperature</dd><dt><span>units :</span></dt><dd>degrees_C</dd><dt><span>valid_min :</span></dt><dd>-10.0</dd><dt><span>valid_max :</span></dt><dd>40.0</dd><dt><span>sensor :</span></dt><dd>INST_Gill</dd><dt><span>coverage_content_type :</span></dt><dd>physicalMeasurement</dd></dl></div><div class='xr-var-data'><pre>[15439201 values with dtype=float32]</pre></div></li><li class='xr-var-item'><div class='xr-var-name'><span>wind_speed</span></div><div class='xr-var-dims'>(time_20Hz)</div><div class='xr-var-dtype'>float32</div><div class='xr-var-preview xr-preview'>...</div><input id='attrs-9e91439c-af48-4940-8643-3f92e6202117' class='xr-var-attrs-in' type='checkbox' ><label for='attrs-9e91439c-af48-4940-8643-3f92e6202117' title='Show/Hide attributes'><svg class='icon xr-icon-file-text2'><use xlink:href='#icon-file-text2'></use></svg></label><input id='data-bb7fce68-a7c8-4b12-9a15-cd4d33c5c547' class='xr-var-data-in' type='checkbox'><label for='data-bb7fce68-a7c8-4b12-9a15-cd4d33c5c547' title='Show/Hide data repr'><svg class='icon xr-icon-database'><use xlink:href='#icon-database'></use></svg></label><div class='xr-var-attrs'><dl class='xr-attrs'><dt><span>long_name :</span></dt><dd>Wind speed measured at 20Hz by Gill R3-50</dd><dt><span>standard_name :</span></dt><dd>wind_speed</dd><dt><span>units :</span></dt><dd>m s-1</dd><dt><span>valid_min :</span></dt><dd>0.0</dd><dt><span>valid_max :</span></dt><dd>50.0</dd><dt><span>sensor :</span></dt><dd>INST_Gill</dd><dt><span>coverage_content_type :</span></dt><dd>physicalMeasurement</dd></dl></div><div class='xr-var-data'><pre>[15439201 values with dtype=float32]</pre></div></li><li class='xr-var-item'><div class='xr-var-name'><span>wind_direction</span></div><div class='xr-var-dims'>(time_20Hz)</div><div class='xr-var-dtype'>float32</div><div class='xr-var-preview xr-preview'>...</div><input id='attrs-f91e985b-98ea-47e4-a5d4-dc55e01e9636' class='xr-var-attrs-in' type='checkbox' ><label for='attrs-f91e985b-98ea-47e4-a5d4-dc55e01e9636' title='Show/Hide attributes'><svg class='icon xr-icon-file-text2'><use xlink:href='#icon-file-text2'></use></svg></label><input id='data-528958ac-0016-48b9-b698-c3bf0cd91869' class='xr-var-data-in' type='checkbox'><label for='data-528958ac-0016-48b9-b698-c3bf0cd91869' title='Show/Hide data repr'><svg class='icon xr-icon-database'><use xlink:href='#icon-database'></use></svg></label><div class='xr-var-attrs'><dl class='xr-attrs'><dt><span>long_name :</span></dt><dd>Wind direction measured at 20Hz by Gill R3-50 positive clockwise from North</dd><dt><span>standard_name :</span></dt><dd>wind_direction</dd><dt><span>valid_min :</span></dt><dd>0.0</dd><dt><span>valid_max :</span></dt><dd>360.0</dd><dt><span>units :</span></dt><dd>degrees</dd><dt><span>sensor :</span></dt><dd>INST_Gill</dd><dt><span>coverage_content_type :</span></dt><dd>physicalMeasurement</dd></dl></div><div class='xr-var-data'><pre>[15439201 values with dtype=float32]</pre></div></li><li class='xr-var-item'><div class='xr-var-name'><span>wind_vertical</span></div><div class='xr-var-dims'>(time_20Hz)</div><div class='xr-var-dtype'>float32</div><div class='xr-var-preview xr-preview'>...</div><input id='attrs-7a361260-3071-48a3-8056-cd2dbb2560d9' class='xr-var-attrs-in' type='checkbox' ><label for='attrs-7a361260-3071-48a3-8056-cd2dbb2560d9' title='Show/Hide attributes'><svg class='icon xr-icon-file-text2'><use xlink:href='#icon-file-text2'></use></svg></label><input id='data-91b5e2a3-97a6-4f4c-a3fc-d23cd6c2e7d1' class='xr-var-data-in' type='checkbox'><label for='data-91b5e2a3-97a6-4f4c-a3fc-d23cd6c2e7d1' title='Show/Hide data repr'><svg class='icon xr-icon-database'><use xlink:href='#icon-database'></use></svg></label><div class='xr-var-attrs'><dl class='xr-attrs'><dt><span>long_name :</span></dt><dd>Vertical wind speed measured at 20Hz by Gill R3-50</dd><dt><span>standard_name :</span></dt><dd></dd><dt><span>units :</span></dt><dd>m s-1</dd><dt><span>valid_min :</span></dt><dd>0.0</dd><dt><span>valid_max :</span></dt><dd>10.0</dd><dt><span>sensor :</span></dt><dd>INST_Gill</dd><dt><span>coverage_content_type :</span></dt><dd>physicalMeasurement</dd></dl></div><div class='xr-var-data'><pre>[15439201 values with dtype=float32]</pre></div></li></ul></div></li><li class='xr-section-item'><input id='section-0809eef7-b339-4e0b-8675-a5382ebef7cf' class='xr-section-summary-in' type='checkbox'  ><label for='section-0809eef7-b339-4e0b-8675-a5382ebef7cf' class='xr-section-summary' >Attributes: <span>(39)</span></label><div class='xr-section-inline-details'></div><div class='xr-section-details'><dl class='xr-attrs'><dt><span>DOI :</span></dt><dd>10.5067/SMODE-GLID3</dd><dt><span>keywords :</span></dt><dd>EARTH SCIENCE &gt; OCEANS &gt; SALINITY/DENSITY &gt; CONDUCTIVITY, EARTH SCIENCE &gt; OCEANS &gt; OCEAN WINDS &gt; SURFACE WINDS, EARTH SCIENCE &gt; OCEANS &gt; OCEAN TEMPERATURE &gt; TEMPERATURE PROFILES, EARTH SCIENCE &gt; OCEANS &gt; OCEAN CIRCULATION &gt; CURRENT VELOCITY, EARTH SCIENCE &gt; OCEANS &gt; SALINITY/DENSITY &gt; SALINITY, EARTH SCIENCE &gt; OCEANS &gt; OCEAN TEMPERATURE &gt; SURFACE AIR TEMPERATURE, EARTH SCIENCE &gt; OCEANS &gt; OCEAN PRESSURE &gt; SURFACE PRESSURE</dd><dt><span>keywords_vocabulary :</span></dt><dd>NASA Global Change Master Directory (GCMD) Science Keywords</dd><dt><span>Conventions :</span></dt><dd>CF-1.8, ACDD-1.3</dd><dt><span>id :</span></dt><dd>PO.DAAC-SMODE-GLID3</dd><dt><span>naming_authority :</span></dt><dd>gov.nasa</dd><dt><span>featureType :</span></dt><dd>trajectory</dd><dt><span>cdm_data_type :</span></dt><dd>Trajectory</dd><dt><span>platform :</span></dt><dd>In Situ Ocean-based Platforms &gt; USV &gt; WAVEGLIDER</dd><dt><span>platform_vocabulary :</span></dt><dd>GCMD platform keywords</dd><dt><span>instrument :</span></dt><dd>In Situ/Laboratory Instruments &gt; Recorders/Loggers &gt; &gt; &gt; MMS, In Situ/Laboratory Instruments &gt; Current/Wind Meters &gt; &gt; &gt; CURRENT METERS, In Situ/Laboratory Instruments &gt; Profilers/Sounders &gt; &gt; &gt; CTD</dd><dt><span>instrument_vocabulary :</span></dt><dd>GCMD instrument keywords</dd><dt><span>processing_level :</span></dt><dd>L1</dd><dt><span>standard_name_vocabulary :</span></dt><dd>CF Standard Name Table v72</dd><dt><span>license :</span></dt><dd>Issued under Creative Commons CC BY 4.0</dd><dt><span>product_version :</span></dt><dd>1.0</dd><dt><span>metadata_link :</span></dt><dd>https://doi.org/10.5067/SMODE-GLID3</dd><dt><span>creator_name :</span></dt><dd>Tom Farrar</dd><dt><span>creator_email :</span></dt><dd>jfarrar@whoi.edu</dd><dt><span>creator_type :</span></dt><dd>person</dd><dt><span>creator_institution :</span></dt><dd>WHOI/</dd><dt><span>institution :</span></dt><dd>WHOI/</dd><dt><span>project :</span></dt><dd>Sub-Mesoscale Ocean Dynamics Experiment (S-MODE)</dd><dt><span>program :</span></dt><dd>NASA Earth Venture Suborbital-3 (EVS-3)</dd><dt><span>contributor_name :</span></dt><dd>Frederick Bingham</dd><dt><span>contributor_role :</span></dt><dd>Project Data Manager</dd><dt><span>publisher_name :</span></dt><dd>Physical Oceanography Distributed Active Archive Center, Jet Propulsion Laboratory, NASA</dd><dt><span>publisher_email :</span></dt><dd>podaac@podaac.jpl.nasa.gov</dd><dt><span>publisher_url :</span></dt><dd>https://podaac.jpl.nasa.gov</dd><dt><span>publisher_type :</span></dt><dd>institution</dd><dt><span>publisher_institution :</span></dt><dd>NASA/JPL/PODAAC</dd><dt><span>sea_name :</span></dt><dd>Pacific</dd><dt><span>geospatial_vertical_units :</span></dt><dd>m</dd><dt><span>geospatial_vertical_positive :</span></dt><dd>down</dd><dt><span>title :</span></dt><dd>S-MODE Pilot Field Campaign Fall 2021 Ocean Temperature and Salinity from Wave Gliders, SV3-1043</dd><dt><span>summary :</span></dt><dd>Wave Glider SV3-1043 was deployed by R/V Oceanus on 2021-10-28 01:00:00 as part of the S-MODE Pilot Field Campaign</dd><dt><span>uuid :</span></dt><dd>12b74580-3f2c-426e-bace-bbdc895cf27b</dd><dt><span>history :</span></dt><dd>2022-02-14 Benjamin Greenwood - process internal data from wave glider SV3-1043 and create NetCDF</dd><dt><span>date_created :</span></dt><dd>2022-02-14T19:21:21Z</dd></dl></div></li></ul></div></div>"
      ],
      "text/plain": [
       "<xarray.Dataset>\n",
       "Dimensions:                      (time_1Hz: 771961, time_20Hz: 15439201)\n",
       "Coordinates:\n",
       "  * time_1Hz                     (time_1Hz) float64 7.385e+05 ... 7.385e+05\n",
       "    latitude_1Hz                 (time_1Hz) float64 ...\n",
       "    longitude_1Hz                (time_1Hz) float64 ...\n",
       "  * time_20Hz                    (time_20Hz) float64 7.385e+05 ... 7.385e+05\n",
       "    latitude_20Hz                (time_20Hz) float64 ...\n",
       "    longitude_20Hz               (time_20Hz) float64 ...\n",
       "    altitude_20Hz                (time_20Hz) float32 ...\n",
       "Data variables:\n",
       "    GPCTD_depth                  (time_1Hz) float32 ...\n",
       "    GPCTD_sea_water_temperature  (time_1Hz) float32 ...\n",
       "    GPCTD_salinity               (time_1Hz) float32 ...\n",
       "    GPCTD_density                (time_1Hz) float32 ...\n",
       "    WXT_rainfall_rate            (time_1Hz) float32 ...\n",
       "    WXT_atmospheric_pressure     (time_1Hz) float32 ...\n",
       "    WXT_air_temperature          (time_1Hz) float32 ...\n",
       "    WXT_relative_humidity        (time_1Hz) float32 ...\n",
       "    WXT_wind_speed               (time_1Hz) float32 ...\n",
       "    WXT_wind_direction           (time_1Hz) float32 ...\n",
       "    SMP21_shortwave_flux         (time_1Hz) float32 ...\n",
       "    SGR4_longwave_flux           (time_1Hz) float32 ...\n",
       "    heading                      (time_20Hz) float32 ...\n",
       "    pitch                        (time_20Hz) float32 ...\n",
       "    roll                         (time_20Hz) float32 ...\n",
       "    u_waveglider                 (time_20Hz) float32 ...\n",
       "    v_waveglider                 (time_20Hz) float32 ...\n",
       "    w_waveglider                 (time_20Hz) float32 ...\n",
       "    Gill_temperature             (time_20Hz) float32 ...\n",
       "    wind_speed                   (time_20Hz) float32 ...\n",
       "    wind_direction               (time_20Hz) float32 ...\n",
       "    wind_vertical                (time_20Hz) float32 ...\n",
       "Attributes:\n",
       "    DOI:                           10.5067/SMODE-GLID3\n",
       "    keywords:                      EARTH SCIENCE > OCEANS > SALINITY/DENSITY ...\n",
       "    keywords_vocabulary:           NASA Global Change Master Directory (GCMD)...\n",
       "    Conventions:                   CF-1.8, ACDD-1.3\n",
       "    id:                            PO.DAAC-SMODE-GLID3\n",
       "    naming_authority:              gov.nasa\n",
       "    featureType:                   trajectory\n",
       "    cdm_data_type:                 Trajectory\n",
       "    platform:                      In Situ Ocean-based Platforms > USV > WAVE...\n",
       "    platform_vocabulary:           GCMD platform keywords\n",
       "    instrument:                    In Situ/Laboratory Instruments > Recorders...\n",
       "    instrument_vocabulary:         GCMD instrument keywords\n",
       "    processing_level:              L1\n",
       "    standard_name_vocabulary:      CF Standard Name Table v72\n",
       "    license:                       Issued under Creative Commons CC BY 4.0\n",
       "    product_version:               1.0\n",
       "    metadata_link:                 https://doi.org/10.5067/SMODE-GLID3\n",
       "    creator_name:                  Tom Farrar\n",
       "    creator_email:                 jfarrar@whoi.edu\n",
       "    creator_type:                  person\n",
       "    creator_institution:           WHOI/\n",
       "    institution:                   WHOI/\n",
       "    project:                       Sub-Mesoscale Ocean Dynamics Experiment (S...\n",
       "    program:                       NASA Earth Venture Suborbital-3 (EVS-3)\n",
       "    contributor_name:              Frederick Bingham\n",
       "    contributor_role:              Project Data Manager\n",
       "    publisher_name:                Physical Oceanography Distributed Active A...\n",
       "    publisher_email:               podaac@podaac.jpl.nasa.gov\n",
       "    publisher_url:                 https://podaac.jpl.nasa.gov\n",
       "    publisher_type:                institution\n",
       "    publisher_institution:         NASA/JPL/PODAAC\n",
       "    sea_name:                      Pacific\n",
       "    geospatial_vertical_units:     m\n",
       "    geospatial_vertical_positive:  down\n",
       "    title:                         S-MODE Pilot Field Campaign Fall 2021 Ocea...\n",
       "    summary:                       Wave Glider SV3-1043 was deployed by R/V O...\n",
       "    uuid:                          12b74580-3f2c-426e-bace-bbdc895cf27b\n",
       "    history:                       2022-02-14 Benjamin Greenwood - process in...\n",
       "    date_created:                  2022-02-14T19:21:21Z"
      ]
     },
     "execution_count": 6,
     "metadata": {},
     "output_type": "execute_result"
    }
   ],
   "source": [
    "ds"
   ]
  },
  {
   "cell_type": "markdown",
   "metadata": {},
   "source": [
    "## Identify all 20 Hz variables and average to 4 Hz\n",
    "\n",
    "I don't actually know a good way to automatically find all the 20 Hz variables.  Can I make a dictionary of variable names and dimensions?\n"
   ]
  },
  {
   "cell_type": "code",
   "execution_count": null,
   "metadata": {},
   "outputs": [],
   "source": [
    "ds.data_vars['GPCTD_depth'].coords"
   ]
  },
  {
   "cell_type": "markdown",
   "metadata": {},
   "source": [
    "OK, here is an idea: just use the shape of each variable to know if it is 1 Hz or 20 Hz.  So, how can I automatically loop through all of the variables?"
   ]
  },
  {
   "cell_type": "code",
   "execution_count": null,
   "metadata": {},
   "outputs": [],
   "source": [
    "# In this cell, I'd like to make a function to do a 5-pt average, to be used in the loop below to make 4 Hz values from 20 Hz values"
   ]
  },
  {
   "cell_type": "code",
   "execution_count": null,
   "metadata": {},
   "outputs": [],
   "source": [
    "# OK, here is a good way:\n",
    "for var in ds.data_vars:\n",
    "    foo = eval('ds.'+var)\n",
    "    if np.shape(foo)==np.shape(ds.time_20Hz):\n",
    "        is20Hz = 1\n",
    "        print(var + ' is 20 Hz')\n"
   ]
  },
  {
   "cell_type": "code",
   "execution_count": 1,
   "metadata": {},
   "outputs": [
    {
     "data": {
      "text/plain": [
       "2023.1698630136987"
      ]
     },
     "execution_count": 1,
     "metadata": {},
     "output_type": "execute_result"
    }
   ],
   "source": [
    "738457/365"
   ]
  },
  {
   "cell_type": "code",
   "execution_count": 14,
   "metadata": {},
   "outputs": [],
   "source": [
    "n = 123456781234567812345678123456781234567812345678\n",
    "m = 1"
   ]
  },
  {
   "cell_type": "code",
   "execution_count": 2,
   "metadata": {},
   "outputs": [
    {
     "ename": "AttributeError",
     "evalue": "'int' object has no attribute 'bit_count'",
     "output_type": "error",
     "traceback": [
      "\u001b[1;31m---------------------------------------------------------------------------\u001b[0m",
      "\u001b[1;31mAttributeError\u001b[0m                            Traceback (most recent call last)",
      "\u001b[1;32m<ipython-input-2-9e755013d79c>\u001b[0m in \u001b[0;36m<module>\u001b[1;34m\u001b[0m\n\u001b[1;32m----> 1\u001b[1;33m \u001b[0mn\u001b[0m\u001b[1;33m.\u001b[0m\u001b[0mbit_count\u001b[0m\u001b[1;33m(\u001b[0m\u001b[1;33m)\u001b[0m\u001b[1;33m\u001b[0m\u001b[1;33m\u001b[0m\u001b[0m\n\u001b[0m",
      "\u001b[1;31mAttributeError\u001b[0m: 'int' object has no attribute 'bit_count'"
     ]
    }
   ],
   "source": [
    "n.bit_count()"
   ]
  },
  {
   "cell_type": "code",
   "execution_count": 4,
   "metadata": {},
   "outputs": [
    {
     "data": {
      "text/plain": [
       "'0b101111000110000101001110'"
      ]
     },
     "execution_count": 4,
     "metadata": {},
     "output_type": "execute_result"
    }
   ],
   "source": [
    "bin(n)"
   ]
  },
  {
   "cell_type": "code",
   "execution_count": 6,
   "metadata": {},
   "outputs": [
    {
     "data": {
      "text/plain": [
       "'0b1'"
      ]
     },
     "execution_count": 6,
     "metadata": {},
     "output_type": "execute_result"
    }
   ],
   "source": [
    "bin(m)"
   ]
  },
  {
   "cell_type": "code",
   "execution_count": 7,
   "metadata": {},
   "outputs": [
    {
     "data": {
      "text/plain": [
       "int"
      ]
     },
     "execution_count": 7,
     "metadata": {},
     "output_type": "execute_result"
    }
   ],
   "source": [
    "type(n)"
   ]
  },
  {
   "cell_type": "code",
   "execution_count": 8,
   "metadata": {},
   "outputs": [
    {
     "data": {
      "text/plain": [
       "28"
      ]
     },
     "execution_count": 8,
     "metadata": {},
     "output_type": "execute_result"
    }
   ],
   "source": [
    "from sys import getsizeof\n"
   ]
  },
  {
   "cell_type": "code",
   "execution_count": 15,
   "metadata": {},
   "outputs": [
    {
     "data": {
      "text/plain": [
       "48"
      ]
     },
     "execution_count": 15,
     "metadata": {},
     "output_type": "execute_result"
    }
   ],
   "source": [
    "getsizeof(n)"
   ]
  },
  {
   "cell_type": "code",
   "execution_count": 16,
   "metadata": {},
   "outputs": [
    {
     "data": {
      "text/plain": [
       "28"
      ]
     },
     "execution_count": 16,
     "metadata": {},
     "output_type": "execute_result"
    }
   ],
   "source": [
    "getsizeof(m)"
   ]
  },
  {
   "cell_type": "code",
   "execution_count": null,
   "metadata": {},
   "outputs": [],
   "source": []
  }
 ],
 "metadata": {
  "kernelspec": {
   "display_name": "Python [conda env:base2] *",
   "language": "python",
   "name": "conda-env-base2-py"
  },
  "language_info": {
   "codemirror_mode": {
    "name": "ipython",
    "version": 3
   },
   "file_extension": ".py",
   "mimetype": "text/x-python",
   "name": "python",
   "nbconvert_exporter": "python",
   "pygments_lexer": "ipython3",
   "version": "3.8.6"
  }
 },
 "nbformat": 4,
 "nbformat_minor": 4
}
