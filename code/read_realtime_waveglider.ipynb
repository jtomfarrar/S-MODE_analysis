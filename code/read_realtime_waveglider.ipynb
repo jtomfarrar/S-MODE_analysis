{
 "cells": [
  {
   "cell_type": "markdown",
   "metadata": {},
   "source": [
    "## Read and plot near-real-time Wave Glider data"
   ]
  },
  {
   "cell_type": "markdown",
   "metadata": {},
   "source": [
    "first cut by Tom, 10/18/2021"
   ]
  },
  {
   "cell_type": "code",
   "execution_count": 1,
   "metadata": {},
   "outputs": [],
   "source": [
    "import xarray as xr\n",
    "import numpy as np\n",
    "import matplotlib.pyplot as plt\n",
    "import matplotlib\n",
    "import cftime\n",
    "\n",
    "import gsw\n"
   ]
  },
  {
   "cell_type": "code",
   "execution_count": null,
   "metadata": {},
   "outputs": [],
   "source": []
  },
  {
   "cell_type": "code",
   "execution_count": 2,
   "metadata": {},
   "outputs": [],
   "source": [
    "# %matplotlib inline\n",
    "%matplotlib qt5\n",
    "plt.rcParams['figure.figsize'] = (5,4)\n",
    "plt.rcParams['figure.dpi'] = 200\n",
    "plt.rcParams['savefig.dpi'] = 400\n",
    "plt.close('all')\n",
    "\n",
    "__figdir__ = '../plots/' + 'SMODE_'\n",
    "savefig_args = {'bbox_inches':'tight', 'pad_inches':0.2}\n",
    "plotfiletype='png'"
   ]
  },
  {
   "cell_type": "code",
   "execution_count": 3,
   "metadata": {},
   "outputs": [],
   "source": [
    "savefig = True"
   ]
  },
  {
   "cell_type": "code",
   "execution_count": 7,
   "metadata": {},
   "outputs": [
    {
     "ename": "OSError",
     "evalue": "[Errno -90] NetCDF: file not found: b'http://smode.whoi.edu:8080/thredds/fileServer/insitu/waveglider/SV3-1043_PLD1_TAB1.nc'",
     "output_type": "error",
     "traceback": [
      "Traceback \u001b[1;36m(most recent call last)\u001b[0m:\n",
      "  File \u001b[0;32m\"C:\\Users\\jtomf\\anaconda3\\envs\\base2\\lib\\site-packages\\xarray\\backends\\file_manager.py\"\u001b[0m, line \u001b[0;32m199\u001b[0m, in \u001b[0;35m_acquire_with_cache_info\u001b[0m\n    file = self._cache[self._key]\n",
      "\u001b[1;36m  File \u001b[1;32m\"C:\\Users\\jtomf\\anaconda3\\envs\\base2\\lib\\site-packages\\xarray\\backends\\lru_cache.py\"\u001b[1;36m, line \u001b[1;32m53\u001b[1;36m, in \u001b[1;35m__getitem__\u001b[1;36m\u001b[0m\n\u001b[1;33m    value = self._cache[key]\u001b[0m\n",
      "\u001b[1;31mKeyError\u001b[0m\u001b[1;31m:\u001b[0m [<class 'netCDF4._netCDF4.Dataset'>, ('http://smode.whoi.edu:8080/thredds/fileServer/insitu/waveglider/SV3-1043_PLD1_TAB1.nc',), 'r', (('clobber', True), ('diskless', False), ('format', 'NETCDF4'), ('persist', False))]\n",
      "\nDuring handling of the above exception, another exception occurred:\n",
      "Traceback \u001b[1;36m(most recent call last)\u001b[0m:\n",
      "  File \u001b[0;32m\"<ipython-input-7-945f0853b4df>\"\u001b[0m, line \u001b[0;32m6\u001b[0m, in \u001b[0;35m<module>\u001b[0m\n    ds = xr.open_dataset(url)\n",
      "  File \u001b[0;32m\"C:\\Users\\jtomf\\anaconda3\\envs\\base2\\lib\\site-packages\\xarray\\backends\\api.py\"\u001b[0m, line \u001b[0;32m572\u001b[0m, in \u001b[0;35mopen_dataset\u001b[0m\n    store = opener(filename_or_obj, **extra_kwargs, **backend_kwargs)\n",
      "  File \u001b[0;32m\"C:\\Users\\jtomf\\anaconda3\\envs\\base2\\lib\\site-packages\\xarray\\backends\\netCDF4_.py\"\u001b[0m, line \u001b[0;32m364\u001b[0m, in \u001b[0;35mopen\u001b[0m\n    return cls(manager, group=group, mode=mode, lock=lock, autoclose=autoclose)\n",
      "  File \u001b[0;32m\"C:\\Users\\jtomf\\anaconda3\\envs\\base2\\lib\\site-packages\\xarray\\backends\\netCDF4_.py\"\u001b[0m, line \u001b[0;32m314\u001b[0m, in \u001b[0;35m__init__\u001b[0m\n    self.format = self.ds.data_model\n",
      "  File \u001b[0;32m\"C:\\Users\\jtomf\\anaconda3\\envs\\base2\\lib\\site-packages\\xarray\\backends\\netCDF4_.py\"\u001b[0m, line \u001b[0;32m373\u001b[0m, in \u001b[0;35mds\u001b[0m\n    return self._acquire()\n",
      "  File \u001b[0;32m\"C:\\Users\\jtomf\\anaconda3\\envs\\base2\\lib\\site-packages\\xarray\\backends\\netCDF4_.py\"\u001b[0m, line \u001b[0;32m367\u001b[0m, in \u001b[0;35m_acquire\u001b[0m\n    with self._manager.acquire_context(needs_lock) as root:\n",
      "  File \u001b[0;32m\"C:\\Users\\jtomf\\anaconda3\\envs\\base2\\lib\\contextlib.py\"\u001b[0m, line \u001b[0;32m113\u001b[0m, in \u001b[0;35m__enter__\u001b[0m\n    return next(self.gen)\n",
      "  File \u001b[0;32m\"C:\\Users\\jtomf\\anaconda3\\envs\\base2\\lib\\site-packages\\xarray\\backends\\file_manager.py\"\u001b[0m, line \u001b[0;32m187\u001b[0m, in \u001b[0;35macquire_context\u001b[0m\n    file, cached = self._acquire_with_cache_info(needs_lock)\n",
      "  File \u001b[0;32m\"C:\\Users\\jtomf\\anaconda3\\envs\\base2\\lib\\site-packages\\xarray\\backends\\file_manager.py\"\u001b[0m, line \u001b[0;32m205\u001b[0m, in \u001b[0;35m_acquire_with_cache_info\u001b[0m\n    file = self._opener(*self._args, **kwargs)\n",
      "  File \u001b[0;32m\"netCDF4\\_netCDF4.pyx\"\u001b[0m, line \u001b[0;32m2357\u001b[0m, in \u001b[0;35mnetCDF4._netCDF4.Dataset.__init__\u001b[0m\n",
      "\u001b[1;36m  File \u001b[1;32m\"netCDF4\\_netCDF4.pyx\"\u001b[1;36m, line \u001b[1;32m1925\u001b[1;36m, in \u001b[1;35mnetCDF4._netCDF4._ensure_nc_success\u001b[1;36m\u001b[0m\n",
      "\u001b[1;31mOSError\u001b[0m\u001b[1;31m:\u001b[0m [Errno -90] NetCDF: file not found: b'http://smode.whoi.edu:8080/thredds/fileServer/insitu/waveglider/SV3-1043_PLD1_TAB1.nc'\n"
     ]
    }
   ],
   "source": [
    "# url = 'http://smode.whoi.edu:8080/thredds/dodsC/insitu/waveglider/SV3-1043_PLD1_TAB1.nc'\n",
    "# url = 'http://smode.whoi.edu:8080/thredds/fileServer/insitu/waveglider/SV3-1043_PLD1_TAB1.nc'\n",
    "# url = 'http://smode.whoi.edu:8080/thredds/dodsC/insitu/waveglider/SV3-1043_PLD2_TAB2.nc'\n",
    "url = 'http://smode.whoi.edu:8080/thredds/fileServer/insitu/waveglider/SV3-1043_PLD1_TAB1.nc'\n",
    "\n",
    "ds = xr.open_dataset(url)"
   ]
  },
  {
   "cell_type": "code",
   "execution_count": null,
   "metadata": {},
   "outputs": [],
   "source": [
    "ds"
   ]
  },
  {
   "cell_type": "code",
   "execution_count": null,
   "metadata": {},
   "outputs": [],
   "source": []
  }
 ],
 "metadata": {
  "kernelspec": {
   "display_name": "Python 3 (Spyder)",
   "language": "python3",
   "name": "python3"
  },
  "language_info": {
   "codemirror_mode": {
    "name": "ipython",
    "version": 3
   },
   "file_extension": ".py",
   "mimetype": "text/x-python",
   "name": "python",
   "nbconvert_exporter": "python",
   "pygments_lexer": "ipython3",
   "version": "3.8.6"
  }
 },
 "nbformat": 4,
 "nbformat_minor": 4
}
