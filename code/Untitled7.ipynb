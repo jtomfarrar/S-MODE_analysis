{
 "cells": [
  {
   "cell_type": "markdown",
   "id": "1b0cd99f-46d8-4f0c-a98c-b0cc5453146c",
   "metadata": {},
   "source": [
    "# John's limit question\n",
    "\n",
    "$f(x)= \\frac{x^2-4}{x-2}$\n",
    "\n",
    "Factor:\n",
    "$f(x)= \\frac{x^2-4}{x-2}= \\frac{(x-2)(x+2)}{x-2}$\n",
    "\n",
    "Evaluate that:\n",
    "$f(x)= \\frac{x^2-4}{x-2}= \\frac{(x-2)(x+2)}{x-2}=x+2$\n",
    "\n",
    "\n",
    "Let's plot it..."
   ]
  },
  {
   "cell_type": "code",
   "execution_count": 1,
   "id": "4740e1df-a9e3-466d-b840-0923be081a16",
   "metadata": {},
   "outputs": [],
   "source": [
    "import numpy as np\n",
    "import matplotlib.pyplot as plt\n"
   ]
  },
  {
   "cell_type": "code",
   "execution_count": 35,
   "id": "aaf40e1e-edf4-4fbe-b7af-e9d64e98b589",
   "metadata": {},
   "outputs": [],
   "source": [
    "x=np.arange(-0,4,0.001)"
   ]
  },
  {
   "cell_type": "code",
   "execution_count": 36,
   "id": "6bd60ba7-9ce8-4ee6-89de-f55dc13ca4dc",
   "metadata": {},
   "outputs": [
    {
     "name": "stderr",
     "output_type": "stream",
     "text": [
      "/tmp/ipykernel_976/3964807117.py:1: RuntimeWarning: invalid value encountered in true_divide\n",
      "  f_of_x=(x**2-4)/(x-2)\n"
     ]
    }
   ],
   "source": [
    "f_of_x=(x**2-4)/(x-2)"
   ]
  },
  {
   "cell_type": "code",
   "execution_count": 37,
   "id": "0e2ad614-dac5-4625-873c-a51a46576fed",
   "metadata": {},
   "outputs": [
    {
     "data": {
      "text/plain": [
       "Text(0.5, 1.0, '$f(x)=(x^2-4)/(x-2)=x+2$')"
      ]
     },
     "execution_count": 37,
     "metadata": {},
     "output_type": "execute_result"
    },
    {
     "data": {
      "image/png": "[encoded data removed]",
      "text/plain": [
       "<Figure size 432x288 with 1 Axes>"
      ]
     },
     "metadata": {
      "needs_background": "light"
     },
     "output_type": "display_data"
    }
   ],
   "source": [
    "fig, axs = plt.subplots(1, 1)\n",
    "plt.plot(x,f_of_x)\n",
    "plt.xlabel('x')\n",
    "plt.ylabel('f(x)')\n",
    "plt.title('$f(x)=(x^2-4)/(x-2)=x+2$')"
   ]
  },
  {
   "cell_type": "code",
   "execution_count": 38,
   "id": "9e30486b-9d16-4154-a041-83331c5a0359",
   "metadata": {},
   "outputs": [
    {
     "data": {
      "text/plain": [
       "Text(0.5, 1.0, 'isnan(f(x))')"
      ]
     },
     "execution_count": 38,
     "metadata": {},
     "output_type": "execute_result"
    },
    {
     "data": {
      "image/png": "[encoded data removed]",
      "text/plain": [
       "<Figure size 432x288 with 1 Axes>"
      ]
     },
     "metadata": {
      "needs_background": "light"
     },
     "output_type": "display_data"
    }
   ],
   "source": [
    "fig, axs = plt.subplots(1, 1)\n",
    "plt.plot(x,np.isnan(f_of_x),'o')\n",
    "plt.xlabel('x')\n",
    "plt.ylabel('isnan(f(x))')\n",
    "plt.title('isnan(f(x))')"
   ]
  },
  {
   "cell_type": "code",
   "execution_count": 47,
   "id": "2fba339f-b613-49c9-bdc8-126523231ac3",
   "metadata": {},
   "outputs": [
    {
     "data": {
      "text/plain": [
       "3000"
      ]
     },
     "execution_count": 49,
     "metadata": {},
     "output_type": "execute_result"
    }
   ],
   "source": [
    "np.round(len(x)*.75)"
   ]
  },
  {
   "cell_type": "code",
   "execution_count": 50,
   "id": "4be33c91-a84c-4aaa-a3d2-353de332173a",
   "metadata": {},
   "outputs": [
    {
     "data": {
      "text/plain": [
       "3.0"
      ]
     },
     "execution_count": 50,
     "metadata": {},
     "output_type": "execute_result"
    }
   ],
   "source": [
    "x[int(len(x)*.75),]"
   ]
  },
  {
   "cell_type": "code",
   "execution_count": null,
   "id": "b3328c9a-e0b1-442a-95ad-9f4060d68657",
   "metadata": {},
   "outputs": [],
   "source": []
  }
 ],
 "metadata": {
  "kernelspec": {
   "display_name": "Python 3 (ipykernel)",
   "language": "python",
   "name": "python3"
  },
  "language_info": {
   "codemirror_mode": {
    "name": "ipython",
    "version": 3
   },
   "file_extension": ".py",
   "mimetype": "text/x-python",
   "name": "python",
   "nbconvert_exporter": "python",
   "pygments_lexer": "ipython3",
   "version": "3.9.7"
  }
 },
 "nbformat": 4,
 "nbformat_minor": 5
}
